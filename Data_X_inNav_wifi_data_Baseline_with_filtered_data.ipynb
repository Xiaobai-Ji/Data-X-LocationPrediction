{
  "nbformat": 4,
  "nbformat_minor": 0,
  "metadata": {
    "colab": {
      "name": "Data_X_inNav_wifi_data Baseline with filtered data.ipynb",
      "provenance": [],
      "collapsed_sections": [],
      "toc_visible": true,
      "machine_shape": "hm"
    },
    "kernelspec": {
      "display_name": "Python 3",
      "name": "python3"
    },
    "language_info": {
      "name": "python"
    }
  },
  "cells": [
    {
      "cell_type": "code",
      "metadata": {
        "colab": {
          "base_uri": "https://localhost:8080/"
        },
        "id": "phlyFaiKW_jc",
        "outputId": "e2503336-1ff9-4579-ab87-6da958674cf7"
      },
      "source": [
        "from google.colab import drive\n",
        "drive.mount('/content/drive')"
      ],
      "execution_count": null,
      "outputs": [
        {
          "output_type": "stream",
          "text": [
            "Drive already mounted at /content/drive; to attempt to forcibly remount, call drive.mount(\"/content/drive\", force_remount=True).\n"
          ],
          "name": "stdout"
        }
      ]
    },
    {
      "cell_type": "code",
      "metadata": {
        "colab": {
          "base_uri": "https://localhost:8080/"
        },
        "id": "90nBl6mR6Ht_",
        "outputId": "09e39d32-28d7-438a-e3e2-14b237322f35"
      },
      "source": [
        "!nvidia-smi\n",
        "!cat /proc/cpuinfo\n",
        "!rm -rf sample_data\n",
        "\n",
        "# !git clone --recursive https://github.com/Microsoft/LightGBM.git\n",
        "# !cd LightGBM && rm -rf build && mkdir build && cd build && cmake -DUSE_GPU=1 ../../LightGBM && make -j4 && cd ../python-package && python3 setup.py install --precompile --gpu;"
      ],
      "execution_count": null,
      "outputs": [
        {
          "output_type": "stream",
          "text": [
            "NVIDIA-SMI has failed because it couldn't communicate with the NVIDIA driver. Make sure that the latest NVIDIA driver is installed and running.\n",
            "\n",
            "processor\t: 0\n",
            "vendor_id\t: GenuineIntel\n",
            "cpu family\t: 6\n",
            "model\t\t: 63\n",
            "model name\t: Intel(R) Xeon(R) CPU @ 2.30GHz\n",
            "stepping\t: 0\n",
            "microcode\t: 0x1\n",
            "cpu MHz\t\t: 2299.998\n",
            "cache size\t: 46080 KB\n",
            "physical id\t: 0\n",
            "siblings\t: 4\n",
            "core id\t\t: 0\n",
            "cpu cores\t: 2\n",
            "apicid\t\t: 0\n",
            "initial apicid\t: 0\n",
            "fpu\t\t: yes\n",
            "fpu_exception\t: yes\n",
            "cpuid level\t: 13\n",
            "wp\t\t: yes\n",
            "flags\t\t: fpu vme de pse tsc msr pae mce cx8 apic sep mtrr pge mca cmov pat pse36 clflush mmx fxsr sse sse2 ss ht syscall nx pdpe1gb rdtscp lm constant_tsc rep_good nopl xtopology nonstop_tsc cpuid tsc_known_freq pni pclmulqdq ssse3 fma cx16 pcid sse4_1 sse4_2 x2apic movbe popcnt aes xsave avx f16c rdrand hypervisor lahf_lm abm invpcid_single ssbd ibrs ibpb stibp fsgsbase tsc_adjust bmi1 avx2 smep bmi2 erms invpcid xsaveopt arat md_clear arch_capabilities\n",
            "bugs\t\t: cpu_meltdown spectre_v1 spectre_v2 spec_store_bypass l1tf mds swapgs\n",
            "bogomips\t: 4599.99\n",
            "clflush size\t: 64\n",
            "cache_alignment\t: 64\n",
            "address sizes\t: 46 bits physical, 48 bits virtual\n",
            "power management:\n",
            "\n",
            "processor\t: 1\n",
            "vendor_id\t: GenuineIntel\n",
            "cpu family\t: 6\n",
            "model\t\t: 63\n",
            "model name\t: Intel(R) Xeon(R) CPU @ 2.30GHz\n",
            "stepping\t: 0\n",
            "microcode\t: 0x1\n",
            "cpu MHz\t\t: 2299.998\n",
            "cache size\t: 46080 KB\n",
            "physical id\t: 0\n",
            "siblings\t: 4\n",
            "core id\t\t: 1\n",
            "cpu cores\t: 2\n",
            "apicid\t\t: 2\n",
            "initial apicid\t: 2\n",
            "fpu\t\t: yes\n",
            "fpu_exception\t: yes\n",
            "cpuid level\t: 13\n",
            "wp\t\t: yes\n",
            "flags\t\t: fpu vme de pse tsc msr pae mce cx8 apic sep mtrr pge mca cmov pat pse36 clflush mmx fxsr sse sse2 ss ht syscall nx pdpe1gb rdtscp lm constant_tsc rep_good nopl xtopology nonstop_tsc cpuid tsc_known_freq pni pclmulqdq ssse3 fma cx16 pcid sse4_1 sse4_2 x2apic movbe popcnt aes xsave avx f16c rdrand hypervisor lahf_lm abm invpcid_single ssbd ibrs ibpb stibp fsgsbase tsc_adjust bmi1 avx2 smep bmi2 erms invpcid xsaveopt arat md_clear arch_capabilities\n",
            "bugs\t\t: cpu_meltdown spectre_v1 spectre_v2 spec_store_bypass l1tf mds swapgs\n",
            "bogomips\t: 4599.99\n",
            "clflush size\t: 64\n",
            "cache_alignment\t: 64\n",
            "address sizes\t: 46 bits physical, 48 bits virtual\n",
            "power management:\n",
            "\n",
            "processor\t: 2\n",
            "vendor_id\t: GenuineIntel\n",
            "cpu family\t: 6\n",
            "model\t\t: 63\n",
            "model name\t: Intel(R) Xeon(R) CPU @ 2.30GHz\n",
            "stepping\t: 0\n",
            "microcode\t: 0x1\n",
            "cpu MHz\t\t: 2299.998\n",
            "cache size\t: 46080 KB\n",
            "physical id\t: 0\n",
            "siblings\t: 4\n",
            "core id\t\t: 0\n",
            "cpu cores\t: 2\n",
            "apicid\t\t: 1\n",
            "initial apicid\t: 1\n",
            "fpu\t\t: yes\n",
            "fpu_exception\t: yes\n",
            "cpuid level\t: 13\n",
            "wp\t\t: yes\n",
            "flags\t\t: fpu vme de pse tsc msr pae mce cx8 apic sep mtrr pge mca cmov pat pse36 clflush mmx fxsr sse sse2 ss ht syscall nx pdpe1gb rdtscp lm constant_tsc rep_good nopl xtopology nonstop_tsc cpuid tsc_known_freq pni pclmulqdq ssse3 fma cx16 pcid sse4_1 sse4_2 x2apic movbe popcnt aes xsave avx f16c rdrand hypervisor lahf_lm abm invpcid_single ssbd ibrs ibpb stibp fsgsbase tsc_adjust bmi1 avx2 smep bmi2 erms invpcid xsaveopt arat md_clear arch_capabilities\n",
            "bugs\t\t: cpu_meltdown spectre_v1 spectre_v2 spec_store_bypass l1tf mds swapgs\n",
            "bogomips\t: 4599.99\n",
            "clflush size\t: 64\n",
            "cache_alignment\t: 64\n",
            "address sizes\t: 46 bits physical, 48 bits virtual\n",
            "power management:\n",
            "\n",
            "processor\t: 3\n",
            "vendor_id\t: GenuineIntel\n",
            "cpu family\t: 6\n",
            "model\t\t: 63\n",
            "model name\t: Intel(R) Xeon(R) CPU @ 2.30GHz\n",
            "stepping\t: 0\n",
            "microcode\t: 0x1\n",
            "cpu MHz\t\t: 2299.998\n",
            "cache size\t: 46080 KB\n",
            "physical id\t: 0\n",
            "siblings\t: 4\n",
            "core id\t\t: 1\n",
            "cpu cores\t: 2\n",
            "apicid\t\t: 3\n",
            "initial apicid\t: 3\n",
            "fpu\t\t: yes\n",
            "fpu_exception\t: yes\n",
            "cpuid level\t: 13\n",
            "wp\t\t: yes\n",
            "flags\t\t: fpu vme de pse tsc msr pae mce cx8 apic sep mtrr pge mca cmov pat pse36 clflush mmx fxsr sse sse2 ss ht syscall nx pdpe1gb rdtscp lm constant_tsc rep_good nopl xtopology nonstop_tsc cpuid tsc_known_freq pni pclmulqdq ssse3 fma cx16 pcid sse4_1 sse4_2 x2apic movbe popcnt aes xsave avx f16c rdrand hypervisor lahf_lm abm invpcid_single ssbd ibrs ibpb stibp fsgsbase tsc_adjust bmi1 avx2 smep bmi2 erms invpcid xsaveopt arat md_clear arch_capabilities\n",
            "bugs\t\t: cpu_meltdown spectre_v1 spectre_v2 spec_store_bypass l1tf mds swapgs\n",
            "bogomips\t: 4599.99\n",
            "clflush size\t: 64\n",
            "cache_alignment\t: 64\n",
            "address sizes\t: 46 bits physical, 48 bits virtual\n",
            "power management:\n",
            "\n"
          ],
          "name": "stdout"
        }
      ]
    },
    {
      "cell_type": "code",
      "metadata": {
        "id": "p-towmis6RTo"
      },
      "source": [
        "!mkdir data\n",
        "# !cp -r /content/drive/MyDrive/Data-x/data/*.csv /content/data/\n",
        "# !cp -r /content/drive/MyDrive/Data-x/data/0329/*.csv /content/data/\n",
        "# !cp -r /content/drive/MyDrive/Data-x/data/0330/*.csv /content/data/\n",
        "!cp /content/drive/MyDrive/Data-x/data/filtered/*.csv /content/data/"
      ],
      "execution_count": null,
      "outputs": []
    },
    {
      "cell_type": "code",
      "metadata": {
        "id": "FvrZCaLe-Uvg",
        "colab": {
          "base_uri": "https://localhost:8080/"
        },
        "outputId": "444f2622-d05c-4359-e053-e87ea0d7e37c"
      },
      "source": [
        "%cd /content"
      ],
      "execution_count": null,
      "outputs": [
        {
          "output_type": "stream",
          "text": [
            "/content\n"
          ],
          "name": "stdout"
        }
      ]
    },
    {
      "cell_type": "code",
      "metadata": {
        "colab": {
          "base_uri": "https://localhost:8080/"
        },
        "id": "T3B6DQhWeOeV",
        "outputId": "ecaf3c9c-5651-4006-fbc5-2fdfc8df5e38"
      },
      "source": [
        "%cd data\n",
        "!for file in *; do mv \"${file}\" \"${file/_filtered/}\"; done"
      ],
      "execution_count": null,
      "outputs": [
        {
          "output_type": "stream",
          "text": [
            "/content/data\n",
            "mv: '5cd56b5ae2acfd2d33b58544_test.csv' and '5cd56b5ae2acfd2d33b58544_test.csv' are the same file\n",
            "mv: '5cd56b5ae2acfd2d33b58544_train.csv' and '5cd56b5ae2acfd2d33b58544_train.csv' are the same file\n",
            "mv: '5cd56b5ae2acfd2d33b58546_test.csv' and '5cd56b5ae2acfd2d33b58546_test.csv' are the same file\n",
            "mv: '5cd56b5ae2acfd2d33b58546_train.csv' and '5cd56b5ae2acfd2d33b58546_train.csv' are the same file\n",
            "mv: '5cd56b5ae2acfd2d33b58548_test.csv' and '5cd56b5ae2acfd2d33b58548_test.csv' are the same file\n",
            "mv: '5cd56b5ae2acfd2d33b58548_train.csv' and '5cd56b5ae2acfd2d33b58548_train.csv' are the same file\n",
            "mv: '5cd56b5ae2acfd2d33b58549_test.csv' and '5cd56b5ae2acfd2d33b58549_test.csv' are the same file\n",
            "mv: '5cd56b5ae2acfd2d33b58549_train.csv' and '5cd56b5ae2acfd2d33b58549_train.csv' are the same file\n",
            "mv: '5cd56b5ae2acfd2d33b5854a_test.csv' and '5cd56b5ae2acfd2d33b5854a_test.csv' are the same file\n",
            "mv: '5cd56b5ae2acfd2d33b5854a_train.csv' and '5cd56b5ae2acfd2d33b5854a_train.csv' are the same file\n",
            "mv: '5d27075f03f801723c2e360f_test.csv' and '5d27075f03f801723c2e360f_test.csv' are the same file\n",
            "mv: '5d27075f03f801723c2e360f_train.csv' and '5d27075f03f801723c2e360f_train.csv' are the same file\n",
            "mv: '5d27096c03f801723c31e5e0_test.csv' and '5d27096c03f801723c31e5e0_test.csv' are the same file\n",
            "mv: '5d27096c03f801723c31e5e0_train.csv' and '5d27096c03f801723c31e5e0_train.csv' are the same file\n",
            "mv: '5d27097f03f801723c320d97_test.csv' and '5d27097f03f801723c320d97_test.csv' are the same file\n",
            "mv: '5d27097f03f801723c320d97_train.csv' and '5d27097f03f801723c320d97_train.csv' are the same file\n",
            "mv: '5d27099f03f801723c32511d_test.csv' and '5d27099f03f801723c32511d_test.csv' are the same file\n",
            "mv: '5d27099f03f801723c32511d_train.csv' and '5d27099f03f801723c32511d_train.csv' are the same file\n",
            "mv: '5d2709a003f801723c3251bf_test.csv' and '5d2709a003f801723c3251bf_test.csv' are the same file\n",
            "mv: '5d2709a003f801723c3251bf_train.csv' and '5d2709a003f801723c3251bf_train.csv' are the same file\n",
            "mv: '5d2709b303f801723c327472_test.csv' and '5d2709b303f801723c327472_test.csv' are the same file\n",
            "mv: '5d2709b303f801723c327472_train.csv' and '5d2709b303f801723c327472_train.csv' are the same file\n",
            "mv: '5d2709bb03f801723c32852c_test.csv' and '5d2709bb03f801723c32852c_test.csv' are the same file\n",
            "mv: '5d2709bb03f801723c32852c_train.csv' and '5d2709bb03f801723c32852c_train.csv' are the same file\n",
            "mv: '5d2709c303f801723c3299ee_test.csv' and '5d2709c303f801723c3299ee_test.csv' are the same file\n",
            "mv: '5d2709c303f801723c3299ee_train.csv' and '5d2709c303f801723c3299ee_train.csv' are the same file\n",
            "mv: '5d2709d403f801723c32bd39_test.csv' and '5d2709d403f801723c32bd39_test.csv' are the same file\n",
            "mv: '5d2709d403f801723c32bd39_train.csv' and '5d2709d403f801723c32bd39_train.csv' are the same file\n",
            "mv: cannot move 'data' to a subdirectory of itself, 'data/data'\n"
          ],
          "name": "stdout"
        }
      ]
    },
    {
      "cell_type": "code",
      "metadata": {
        "id": "bFKsnitz-hOx",
        "colab": {
          "base_uri": "https://localhost:8080/"
        },
        "outputId": "f09228ab-c71a-473d-8019-c2f626f9cb46"
      },
      "source": [
        "import numpy as np\n",
        "import pandas as pd\n",
        "import scipy.stats as stats\n",
        "from pathlib import Path\n",
        "import glob\n",
        "\n",
        "from sklearn.model_selection import KFold\n",
        "from sklearn.linear_model import Ridge\n",
        "from sklearn.model_selection import train_test_split\n",
        "from sklearn.metrics import mean_squared_error\n",
        "\n",
        "import psutil\n",
        "import random\n",
        "import os\n",
        "import time\n",
        "import sys\n",
        "import math\n",
        "from contextlib import contextmanager\n",
        "\n",
        "\n",
        "N_SPLITS = 10\n",
        "SEED = 42\n",
        "\n",
        "@contextmanager\n",
        "def timer(name: str):\n",
        "    t0 = time.time()\n",
        "    p = psutil.Process(os.getpid())\n",
        "    m0 = p.memory_info()[0] / 2. ** 30\n",
        "    try:\n",
        "        yield\n",
        "    finally:\n",
        "        m1 = p.memory_info()[0] / 2. ** 30\n",
        "        delta = m1 - m0\n",
        "        sign = '+' if delta >= 0 else '-'\n",
        "        delta = math.fabs(delta)\n",
        "        print(f\"[{m1:.1f}GB({sign}{delta:.1f}GB): {time.time() - t0:.3f}sec] {name}\", file=sys.stderr)\n",
        "\n",
        "\n",
        "def set_seed(seed=42):\n",
        "    random.seed(seed)\n",
        "    os.environ[\"PYTHONHASHSEED\"] = str(seed)\n",
        "    np.random.seed(seed)\n",
        "    \n",
        "def comp_metric(xhat, yhat, fhat, x, y, f):\n",
        "    intermediate = np.sqrt(np.power(xhat-x, 2) + np.power(yhat-y, 2)) + 15 * np.abs(fhat-f)\n",
        "    return intermediate.sum()/xhat.shape[0]\n",
        "\n",
        "set_seed(SEED)\n",
        "\n",
        "feature_dir = './'\n",
        "train_files = sorted(glob.glob(os.path.join(feature_dir, '*_train.csv')))\n",
        "print(train_files)\n",
        "test_files = sorted(glob.glob(os.path.join(feature_dir, '*_test.csv')))"
      ],
      "execution_count": null,
      "outputs": [
        {
          "output_type": "stream",
          "text": [
            "['./5cd56b5ae2acfd2d33b58544_train.csv', './5cd56b5ae2acfd2d33b58546_train.csv', './5cd56b5ae2acfd2d33b58548_train.csv', './5cd56b5ae2acfd2d33b58549_train.csv', './5cd56b5ae2acfd2d33b5854a_train.csv', './5d27075f03f801723c2e360f_train.csv', './5d27096c03f801723c31e5e0_train.csv', './5d27097f03f801723c320d97_train.csv', './5d27099f03f801723c32511d_train.csv', './5d2709a003f801723c3251bf_train.csv', './5d2709b303f801723c327472_train.csv', './5d2709bb03f801723c32852c_train.csv', './5d2709c303f801723c3299ee_train.csv', './5d2709d403f801723c32bd39_train.csv']\n"
          ],
          "name": "stdout"
        }
      ]
    },
    {
      "cell_type": "markdown",
      "metadata": {
        "id": "0z4DMc85sFNd"
      },
      "source": [
        "# Baseline 1: Ridge Regression"
      ]
    },
    {
      "cell_type": "code",
      "metadata": {
        "id": "vVgKxL8OQES7",
        "colab": {
          "base_uri": "https://localhost:8080/"
        },
        "outputId": "c31078f3-edc0-4270-9a3b-685918a1686b"
      },
      "source": [
        "data = pd.read_csv(train_files[0], index_col=0)\n",
        "test_data = pd.read_csv(test_files[0], index_col=0)\n",
        "\n",
        "wifi = data.iloc[:,:-6]\n",
        "x = data.iloc[:,-6:-5]\n",
        "y =data.iloc[:,-5:-4]\n",
        "floor = data.iloc[:,-4:-3]\n",
        "\n",
        "wifi_val = test_data.iloc[:,:-6]\n",
        "x_val = test_data.iloc[:,-6:-5]\n",
        "y_val =test_data.iloc[:,-5:-4]\n",
        "floor_val = test_data.iloc[:,-4:-3]\n",
        "\n",
        "print(test_data.iloc[:,-6:-5])"
      ],
      "execution_count": null,
      "outputs": [
        {
          "output_type": "stream",
          "text": [
            "            x\n",
            "4   23.492540\n",
            "4   28.287237\n",
            "4   31.521397\n",
            "4   28.287237\n",
            "4   31.521397\n",
            "..        ...\n",
            "4   24.734066\n",
            "4   37.727207\n",
            "4   32.622036\n",
            "4   20.402344\n",
            "4   15.472065\n",
            "\n",
            "[181 rows x 1 columns]\n"
          ],
          "name": "stdout"
        }
      ]
    },
    {
      "cell_type": "code",
      "metadata": {
        "id": "-ei9HyHWo6fJ",
        "colab": {
          "base_uri": "https://localhost:8080/"
        },
        "outputId": "40fae85f-aa71-44be-ec23-deca9f129f2e"
      },
      "source": [
        "ridge_model_x = Ridge(alpha=100, fit_intercept=True)\n",
        "ridge_model_x.fit(wifi, x)\n",
        "\n",
        "ridge_model_y = Ridge(alpha=100, fit_intercept=True)\n",
        "ridge_model_y.fit(wifi, y)\n",
        "\n",
        "ridge_model_f = Ridge(alpha=100, fit_intercept=True)\n",
        "ridge_model_f.fit(wifi, floor)"
      ],
      "execution_count": null,
      "outputs": [
        {
          "output_type": "execute_result",
          "data": {
            "text/plain": [
              "Ridge(alpha=100, copy_X=True, fit_intercept=True, max_iter=None,\n",
              "      normalize=False, random_state=None, solver='auto', tol=0.001)"
            ]
          },
          "metadata": {
            "tags": []
          },
          "execution_count": 62
        }
      ]
    },
    {
      "cell_type": "code",
      "metadata": {
        "id": "rFUTkypppDkV",
        "colab": {
          "base_uri": "https://localhost:8080/"
        },
        "outputId": "d941a197-4744-40b9-8831-5808b137b6ba"
      },
      "source": [
        "ridge_train_error_x = mean_squared_error(ridge_model_x.predict(wifi), x)\n",
        "ridge_train_error_y = mean_squared_error(ridge_model_y.predict(wifi), y)\n",
        "ridge_train_error_f = mean_squared_error(ridge_model_f.predict(wifi), floor)\n",
        "print(\"Ridge Regression train MSE: \", ridge_train_error_x, ridge_train_error_y, ridge_train_error_f)\n",
        "\n",
        "ridge_test_error_x_val = mean_squared_error(ridge_model_x.predict(wifi_val), x_val)\n",
        "ridge_test_error_y_val = mean_squared_error(ridge_model_y.predict(wifi_val), y_val)\n",
        "ridge_test_error_f_val = mean_squared_error(ridge_model_f.predict(wifi_val), floor_val)\n",
        "print(\"Ridge Regression test MSE: \", ridge_test_error_x_val, ridge_test_error_y_val, ridge_test_error_f_val)"
      ],
      "execution_count": null,
      "outputs": [
        {
          "output_type": "stream",
          "text": [
            "Ridge Regression train MSE:  35.59955988257892 128.36572145533978 0.040629434052643756\n",
            "Ridge Regression test MSE:  48.43326117360577 163.25574238550809 0.05223570157218679\n"
          ],
          "name": "stdout"
        }
      ]
    },
    {
      "cell_type": "markdown",
      "metadata": {
        "id": "cHxkhbmkt_Yu"
      },
      "source": [
        "# Baseline 2"
      ]
    },
    {
      "cell_type": "code",
      "metadata": {
        "id": "ml60fBLFp4yF",
        "colab": {
          "base_uri": "https://localhost:8080/"
        },
        "outputId": "d36c4fdc-d513-4126-a443-6d81731680e6"
      },
      "source": [
        "from sklearn import metrics\n",
        "from sklearn.pipeline import Pipeline\n",
        "from sklearn.preprocessing import StandardScaler, MinMaxScaler\n",
        "from sklearn.linear_model import LogisticRegression\n",
        "from sklearn.neighbors import KNeighborsClassifier\n",
        "from sklearn.svm import SVC, LinearSVC\n",
        "from sklearn.tree import DecisionTreeClassifier\n",
        "from sklearn.ensemble import RandomForestClassifier, AdaBoostClassifier\n",
        "from sklearn.model_selection import train_test_split, StratifiedKFold, validation_curve, cross_val_score, GridSearchCV\n",
        "from matplotlib import pyplot as plt\n",
        "from timeit import default_timer as timer\n",
        "from sklearn import linear_model\n",
        "\n",
        "clf_x = linear_model.Lasso(alpha=0.1, max_iter = 10000)\n",
        "clf_y = linear_model.Lasso(alpha=0.1, max_iter = 10000)\n",
        "clf_f = linear_model.Lasso(alpha=0.1, max_iter = 10000)\n",
        "\n",
        "clf_x.fit(wifi, x)\n",
        "clf_y.fit(wifi, y)\n",
        "clf_f.fit(wifi, floor)\n",
        "\n",
        "lasso_train_error_x = mean_squared_error(clf_x.predict(wifi), x)\n",
        "lasso_train_error_y = mean_squared_error(clf_y.predict(wifi), y)\n",
        "lasso_train_error_f = mean_squared_error(clf_f.predict(wifi), floor)\n",
        "print(\"Lasso Regression train MSE: \", lasso_train_error_x, lasso_train_error_y, lasso_train_error_f)\n",
        "\n",
        "lasso_test_error_x_val = mean_squared_error(clf_x.predict(wifi_val), x_val)\n",
        "lasso_test_error_y_val = mean_squared_error(clf_y.predict(wifi_val), y_val)\n",
        "lasso_test_error_f_val = mean_squared_error(clf_f.predict(wifi_val), floor_val)\n",
        "print(\"Lasso Regression test MSE: \", lasso_test_error_x_val, lasso_test_error_y_val, lasso_test_error_f_val)"
      ],
      "execution_count": null,
      "outputs": [
        {
          "output_type": "stream",
          "text": [
            "Lasso Regression train MSE:  35.599604529407266 128.36575773378826 0.040672530740461135\n",
            "Lasso Regression test MSE:  48.399159983600164 163.18798901796495 0.051147917293936564\n"
          ],
          "name": "stdout"
        }
      ]
    },
    {
      "cell_type": "code",
      "metadata": {
        "id": "MhA2f-Ao088x",
        "colab": {
          "base_uri": "https://localhost:8080/"
        },
        "outputId": "6f592efa-6311-49c7-e1c0-b8f72fe83861"
      },
      "source": [
        "print(\"Ridge Regression train MSE: \", ridge_train_error_x, ridge_train_error_y, ridge_train_error_f)\n",
        "print(\"Ridge Regression test MSE: \", ridge_test_error_x_val, ridge_test_error_y_val, ridge_test_error_f_val)\n",
        "\n",
        "print(\"Lasso Regression train MSE: \", lasso_train_error_x, lasso_train_error_y, lasso_train_error_f)\n",
        "print(\"Lasso Regression test MSE: \", lasso_test_error_x_val, lasso_test_error_y_val, lasso_test_error_f_val)"
      ],
      "execution_count": null,
      "outputs": [
        {
          "output_type": "stream",
          "text": [
            "Ridge Regression train MSE:  35.59955988257892 128.36572145533978 0.040629434052643756\n",
            "Ridge Regression test MSE:  48.43326117360577 163.25574238550809 0.05223570157218679\n",
            "Lasso Regression train MSE:  35.599604529407266 128.36575773378826 0.040672530740461135\n",
            "Lasso Regression test MSE:  48.399159983600164 163.18798901796495 0.051147917293936564\n"
          ],
          "name": "stdout"
        }
      ]
    },
    {
      "cell_type": "code",
      "metadata": {
        "id": "FC9k23fO-p-m"
      },
      "source": [
        ""
      ],
      "execution_count": null,
      "outputs": []
    }
  ]
}