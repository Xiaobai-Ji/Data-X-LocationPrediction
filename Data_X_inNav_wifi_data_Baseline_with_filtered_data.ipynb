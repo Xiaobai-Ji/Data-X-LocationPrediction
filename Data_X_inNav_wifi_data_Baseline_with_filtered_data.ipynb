{
  "nbformat": 4,
  "nbformat_minor": 0,
  "metadata": {
    "colab": {
      "name": "Data_X_inNav_wifi_data_Baseline_with_filtered_data.ipynb",
      "provenance": [],
      "collapsed_sections": [],
      "machine_shape": "hm"
    },
    "kernelspec": {
      "display_name": "Python 3",
      "name": "python3"
    },
    "language_info": {
      "name": "python"
    }
  },
  "cells": [
    {
      "cell_type": "code",
      "metadata": {
        "colab": {
          "base_uri": "https://localhost:8080/"
        },
        "id": "phlyFaiKW_jc",
        "outputId": "f6879c6b-aa0c-4795-e778-3c57b7d91155"
      },
      "source": [
        "from google.colab import drive\n",
        "drive.mount('/content/drive')"
      ],
      "execution_count": 2,
      "outputs": [
        {
          "output_type": "stream",
          "text": [
            "Drive already mounted at /content/drive; to attempt to forcibly remount, call drive.mount(\"/content/drive\", force_remount=True).\n"
          ],
          "name": "stdout"
        }
      ]
    },
    {
      "cell_type": "code",
      "metadata": {
        "colab": {
          "base_uri": "https://localhost:8080/"
        },
        "id": "90nBl6mR6Ht_",
        "outputId": "c2a6fa7a-3f06-4897-b42a-64f1d6fa67d9"
      },
      "source": [
        "!nvidia-smi\n",
        "!cat /proc/cpuinfo\n",
        "!rm -rf sample_data\n",
        "\n",
        "# !git clone --recursive https://github.com/Microsoft/LightGBM.git\n",
        "# !cd LightGBM && rm -rf build && mkdir build && cd build && cmake -DUSE_GPU=1 ../../LightGBM && make -j4 && cd ../python-package && python3 setup.py install --precompile --gpu;"
      ],
      "execution_count": 3,
      "outputs": [
        {
          "output_type": "stream",
          "text": [
            "NVIDIA-SMI has failed because it couldn't communicate with the NVIDIA driver. Make sure that the latest NVIDIA driver is installed and running.\n",
            "\n",
            "processor\t: 0\n",
            "vendor_id\t: GenuineIntel\n",
            "cpu family\t: 6\n",
            "model\t\t: 63\n",
            "model name\t: Intel(R) Xeon(R) CPU @ 2.30GHz\n",
            "stepping\t: 0\n",
            "microcode\t: 0x1\n",
            "cpu MHz\t\t: 2299.998\n",
            "cache size\t: 46080 KB\n",
            "physical id\t: 0\n",
            "siblings\t: 4\n",
            "core id\t\t: 0\n",
            "cpu cores\t: 2\n",
            "apicid\t\t: 0\n",
            "initial apicid\t: 0\n",
            "fpu\t\t: yes\n",
            "fpu_exception\t: yes\n",
            "cpuid level\t: 13\n",
            "wp\t\t: yes\n",
            "flags\t\t: fpu vme de pse tsc msr pae mce cx8 apic sep mtrr pge mca cmov pat pse36 clflush mmx fxsr sse sse2 ss ht syscall nx pdpe1gb rdtscp lm constant_tsc rep_good nopl xtopology nonstop_tsc cpuid tsc_known_freq pni pclmulqdq ssse3 fma cx16 pcid sse4_1 sse4_2 x2apic movbe popcnt aes xsave avx f16c rdrand hypervisor lahf_lm abm invpcid_single ssbd ibrs ibpb stibp fsgsbase tsc_adjust bmi1 avx2 smep bmi2 erms invpcid xsaveopt arat md_clear arch_capabilities\n",
            "bugs\t\t: cpu_meltdown spectre_v1 spectre_v2 spec_store_bypass l1tf mds swapgs\n",
            "bogomips\t: 4599.99\n",
            "clflush size\t: 64\n",
            "cache_alignment\t: 64\n",
            "address sizes\t: 46 bits physical, 48 bits virtual\n",
            "power management:\n",
            "\n",
            "processor\t: 1\n",
            "vendor_id\t: GenuineIntel\n",
            "cpu family\t: 6\n",
            "model\t\t: 63\n",
            "model name\t: Intel(R) Xeon(R) CPU @ 2.30GHz\n",
            "stepping\t: 0\n",
            "microcode\t: 0x1\n",
            "cpu MHz\t\t: 2299.998\n",
            "cache size\t: 46080 KB\n",
            "physical id\t: 0\n",
            "siblings\t: 4\n",
            "core id\t\t: 1\n",
            "cpu cores\t: 2\n",
            "apicid\t\t: 2\n",
            "initial apicid\t: 2\n",
            "fpu\t\t: yes\n",
            "fpu_exception\t: yes\n",
            "cpuid level\t: 13\n",
            "wp\t\t: yes\n",
            "flags\t\t: fpu vme de pse tsc msr pae mce cx8 apic sep mtrr pge mca cmov pat pse36 clflush mmx fxsr sse sse2 ss ht syscall nx pdpe1gb rdtscp lm constant_tsc rep_good nopl xtopology nonstop_tsc cpuid tsc_known_freq pni pclmulqdq ssse3 fma cx16 pcid sse4_1 sse4_2 x2apic movbe popcnt aes xsave avx f16c rdrand hypervisor lahf_lm abm invpcid_single ssbd ibrs ibpb stibp fsgsbase tsc_adjust bmi1 avx2 smep bmi2 erms invpcid xsaveopt arat md_clear arch_capabilities\n",
            "bugs\t\t: cpu_meltdown spectre_v1 spectre_v2 spec_store_bypass l1tf mds swapgs\n",
            "bogomips\t: 4599.99\n",
            "clflush size\t: 64\n",
            "cache_alignment\t: 64\n",
            "address sizes\t: 46 bits physical, 48 bits virtual\n",
            "power management:\n",
            "\n",
            "processor\t: 2\n",
            "vendor_id\t: GenuineIntel\n",
            "cpu family\t: 6\n",
            "model\t\t: 63\n",
            "model name\t: Intel(R) Xeon(R) CPU @ 2.30GHz\n",
            "stepping\t: 0\n",
            "microcode\t: 0x1\n",
            "cpu MHz\t\t: 2299.998\n",
            "cache size\t: 46080 KB\n",
            "physical id\t: 0\n",
            "siblings\t: 4\n",
            "core id\t\t: 0\n",
            "cpu cores\t: 2\n",
            "apicid\t\t: 1\n",
            "initial apicid\t: 1\n",
            "fpu\t\t: yes\n",
            "fpu_exception\t: yes\n",
            "cpuid level\t: 13\n",
            "wp\t\t: yes\n",
            "flags\t\t: fpu vme de pse tsc msr pae mce cx8 apic sep mtrr pge mca cmov pat pse36 clflush mmx fxsr sse sse2 ss ht syscall nx pdpe1gb rdtscp lm constant_tsc rep_good nopl xtopology nonstop_tsc cpuid tsc_known_freq pni pclmulqdq ssse3 fma cx16 pcid sse4_1 sse4_2 x2apic movbe popcnt aes xsave avx f16c rdrand hypervisor lahf_lm abm invpcid_single ssbd ibrs ibpb stibp fsgsbase tsc_adjust bmi1 avx2 smep bmi2 erms invpcid xsaveopt arat md_clear arch_capabilities\n",
            "bugs\t\t: cpu_meltdown spectre_v1 spectre_v2 spec_store_bypass l1tf mds swapgs\n",
            "bogomips\t: 4599.99\n",
            "clflush size\t: 64\n",
            "cache_alignment\t: 64\n",
            "address sizes\t: 46 bits physical, 48 bits virtual\n",
            "power management:\n",
            "\n",
            "processor\t: 3\n",
            "vendor_id\t: GenuineIntel\n",
            "cpu family\t: 6\n",
            "model\t\t: 63\n",
            "model name\t: Intel(R) Xeon(R) CPU @ 2.30GHz\n",
            "stepping\t: 0\n",
            "microcode\t: 0x1\n",
            "cpu MHz\t\t: 2299.998\n",
            "cache size\t: 46080 KB\n",
            "physical id\t: 0\n",
            "siblings\t: 4\n",
            "core id\t\t: 1\n",
            "cpu cores\t: 2\n",
            "apicid\t\t: 3\n",
            "initial apicid\t: 3\n",
            "fpu\t\t: yes\n",
            "fpu_exception\t: yes\n",
            "cpuid level\t: 13\n",
            "wp\t\t: yes\n",
            "flags\t\t: fpu vme de pse tsc msr pae mce cx8 apic sep mtrr pge mca cmov pat pse36 clflush mmx fxsr sse sse2 ss ht syscall nx pdpe1gb rdtscp lm constant_tsc rep_good nopl xtopology nonstop_tsc cpuid tsc_known_freq pni pclmulqdq ssse3 fma cx16 pcid sse4_1 sse4_2 x2apic movbe popcnt aes xsave avx f16c rdrand hypervisor lahf_lm abm invpcid_single ssbd ibrs ibpb stibp fsgsbase tsc_adjust bmi1 avx2 smep bmi2 erms invpcid xsaveopt arat md_clear arch_capabilities\n",
            "bugs\t\t: cpu_meltdown spectre_v1 spectre_v2 spec_store_bypass l1tf mds swapgs\n",
            "bogomips\t: 4599.99\n",
            "clflush size\t: 64\n",
            "cache_alignment\t: 64\n",
            "address sizes\t: 46 bits physical, 48 bits virtual\n",
            "power management:\n",
            "\n"
          ],
          "name": "stdout"
        }
      ]
    },
    {
      "cell_type": "code",
      "metadata": {
        "colab": {
          "base_uri": "https://localhost:8080/"
        },
        "id": "BRBZ0-lHU43y",
        "outputId": "47aed69f-2304-496f-8e6d-71dde733519a"
      },
      "source": [
        "!cp /content/drive/MyDrive/0403.zip 0403.zip\n",
        "!unzip /content/drive/MyDrive/0403.zip"
      ],
      "execution_count": 4,
      "outputs": [
        {
          "output_type": "stream",
          "text": [
            "Archive:  /content/drive/MyDrive/0403.zip\n",
            "replace 0403/5cd56b6be2acfd2d33b59d1f_test.csv? [y]es, [n]o, [A]ll, [N]one, [r]ename: N\n"
          ],
          "name": "stdout"
        }
      ]
    },
    {
      "cell_type": "code",
      "metadata": {
        "id": "bFKsnitz-hOx",
        "colab": {
          "base_uri": "https://localhost:8080/"
        },
        "outputId": "7449975f-c728-4bf1-8ccb-e5f511735300"
      },
      "source": [
        "import numpy as np\n",
        "import pandas as pd\n",
        "import scipy.stats as stats\n",
        "from pathlib import Path\n",
        "import glob\n",
        "\n",
        "from sklearn.model_selection import KFold\n",
        "from sklearn.linear_model import Ridge\n",
        "from sklearn.model_selection import train_test_split\n",
        "from sklearn.metrics import mean_squared_error\n",
        "\n",
        "import psutil\n",
        "import random\n",
        "import os\n",
        "import time\n",
        "import sys\n",
        "import math\n",
        "from contextlib import contextmanager\n",
        "\n",
        "\n",
        "N_SPLITS = 10\n",
        "SEED = 42\n",
        "\n",
        "@contextmanager\n",
        "def timer(name: str):\n",
        "    t0 = time.time()\n",
        "    p = psutil.Process(os.getpid())\n",
        "    m0 = p.memory_info()[0] / 2. ** 30\n",
        "    try:\n",
        "        yield\n",
        "    finally:\n",
        "        m1 = p.memory_info()[0] / 2. ** 30\n",
        "        delta = m1 - m0\n",
        "        sign = '+' if delta >= 0 else '-'\n",
        "        delta = math.fabs(delta)\n",
        "        print(f\"[{m1:.1f}GB({sign}{delta:.1f}GB): {time.time() - t0:.3f}sec] {name}\", file=sys.stderr)\n",
        "\n",
        "\n",
        "def set_seed(seed=42):\n",
        "    random.seed(seed)\n",
        "    os.environ[\"PYTHONHASHSEED\"] = str(seed)\n",
        "    np.random.seed(seed)\n",
        "    \n",
        "def comp_metric(xhat, yhat, fhat, x, y, f):\n",
        "    intermediate = np.sqrt(np.power(xhat-x, 2) + np.power(yhat-y, 2)) + 15 * np.abs(fhat-f)\n",
        "    return intermediate.sum()/xhat.shape[0]\n",
        "\n",
        "set_seed(SEED)\n",
        "\n",
        "feature_dir = './*/'\n",
        "train_files = sorted(glob.glob(os.path.join(feature_dir, '*_train.csv')))\n",
        "test_files = sorted(glob.glob(os.path.join(feature_dir, '*_test.csv')))"
      ],
      "execution_count": 2,
      "outputs": [
        {
          "output_type": "stream",
          "text": [
            "['./0403/5cd56b5ae2acfd2d33b58544_train.csv', './0403/5cd56b5ae2acfd2d33b58546_train.csv', './0403/5cd56b5ae2acfd2d33b58548_train.csv', './0403/5cd56b5ae2acfd2d33b58549_train.csv', './0403/5cd56b5ae2acfd2d33b5854a_train.csv', './0403/5cd56b6ae2acfd2d33b59c90_train.csv', './0403/5cd56b6ae2acfd2d33b59ccb_train.csv', './0403/5cd56b6ae2acfd2d33b59ccc_train.csv', './0403/5cd56b6be2acfd2d33b59d1f_train.csv', './0403/5cd56b6ee2acfd2d33b5a247_train.csv', './0403/5cd56b6fe2acfd2d33b5a386_train.csv', './0403/5cd56b7de2acfd2d33b5c14b_train.csv', './0403/5d27075f03f801723c2e360f_train.csv', './0403/5d27096c03f801723c31e5e0_train.csv', './0403/5d27097f03f801723c320d97_train.csv', './0403/5d27099f03f801723c32511d_train.csv', './0403/5d2709a003f801723c3251bf_train.csv', './0403/5d2709b303f801723c327472_train.csv', './0403/5d2709bb03f801723c32852c_train.csv', './0403/5d2709c303f801723c3299ee_train.csv', './0403/5d2709d403f801723c32bd39_train.csv', './0403/5da1382d4db8ce0c98bbe92e_train.csv', './0403/5da1383b4db8ce0c98bc11ab_train.csv', './0403/5da138b74db8ce0c98bd4774_train.csv', './0403/5da958dd46f8266d0737457b_train.csv']\n"
          ],
          "name": "stdout"
        }
      ]
    },
    {
      "cell_type": "markdown",
      "metadata": {
        "id": "0z4DMc85sFNd"
      },
      "source": [
        "# Baseline 1: Ridge Regression"
      ]
    },
    {
      "cell_type": "code",
      "metadata": {
        "id": "vVgKxL8OQES7"
      },
      "source": [
        "for n_files, file in enumerate(train_files):\n",
        "  # read train and test set \n",
        "  data = pd.read_csv(file, index_col=0)\n",
        "  test_data = pd.read_csv(test_files[n_files], index_col=0)\n",
        "\n",
        "  # wifi, x, y, and f for training \n",
        "  wifi = data.iloc[:,:-5]\n",
        "  x = data.iloc[:,-5]\n",
        "  y =data.iloc[:,-4]\n",
        "  floor = data.iloc[:,-3]\n",
        "\n",
        "  # wifi, x, y, and f for testing\n",
        "  wifi_val = test_data.iloc[:,:-5]\n",
        "  x_val = test_data.iloc[:, -5]\n",
        "  y_val =test_data.iloc[:, -4]\n",
        "  floor_val = test_data.iloc[:, -3]\n",
        "\n",
        "  # fit and predict x\n",
        "  ridge_model_x = Ridge(alpha=100, fit_intercept=True)\n",
        "  ridge_model_x.fit(wifi, x)\n",
        "  x_pred = ridge_model_x.predict(wifi_val)\n",
        "\n",
        "  # fit and predict y\n",
        "  ridge_model_y = Ridge(alpha=100, fit_intercept=True)\n",
        "  ridge_model_y.fit(wifi, y)\n",
        "  y_pred = ridge_model_y.predict(wifi_val)\n",
        "\n",
        "  #fit and predict f\n",
        "  ridge_model_f = Ridge(alpha=100, fit_intercept=True)\n",
        "  ridge_model_f.fit(wifi, floor)\n",
        "  f_pred = ridge_model_f.predict(wifi_val)\n",
        "\n",
        "  column_num = len(test_data.columns)\n",
        "  test_data = test_data.reset_index()\n",
        "\n",
        "  # insert columns for predicted x, y and f in test file\n",
        "  test_data.insert(column_num, 'pred_x', x_pred, True)\n",
        "  test_data.insert(column_num+1, 'pred_y', y_pred, True)\n",
        "  test_data.insert(column_num+2, 'pred_f', f_pred, True)\n",
        "\n",
        "  building_name = file[7:-10] + '.csv'\n",
        "\n",
        "  # save new test file\n",
        "  test_data.to_csv(building_name)\n"
      ],
      "execution_count": 12,
      "outputs": []
    },
    {
      "cell_type": "code",
      "metadata": {
        "id": "aUAW8NpOQcaD"
      },
      "source": [
        "pred_files = glob.glob('/content' + '/*.csv')"
      ],
      "execution_count": 13,
      "outputs": []
    },
    {
      "cell_type": "code",
      "metadata": {
        "id": "lK0p8JZ5RG7y"
      },
      "source": [
        "# extract all true and predicted x, y and f\n",
        "all_pred = pd.DataFrame()\n",
        "\n",
        "for file_name in pred_files:\n",
        "  file = pd.read_csv(file_name)\n",
        "\n",
        "  all_pred = pd.concat([all_pred, file.iloc[:, -8:]])"
      ],
      "execution_count": 15,
      "outputs": []
    },
    {
      "cell_type": "code",
      "metadata": {
        "colab": {
          "base_uri": "https://localhost:8080/"
        },
        "id": "iHLC9EHhROUY",
        "outputId": "6496a537-0a25-4cd4-dca6-e1fc52a0b2de"
      },
      "source": [
        "# calculate overall MSE\n",
        "comp_metric(all_pred['pred_x'], all_pred['pred_y'], all_pred['pred_f'], all_pred['x'], all_pred['y'], all_pred['f'])"
      ],
      "execution_count": 16,
      "outputs": [
        {
          "output_type": "execute_result",
          "data": {
            "text/plain": [
              "18.151951182164154"
            ]
          },
          "metadata": {
            "tags": []
          },
          "execution_count": 16
        }
      ]
    },
    {
      "cell_type": "markdown",
      "metadata": {
        "id": "cHxkhbmkt_Yu"
      },
      "source": [
        "# Baseline 2"
      ]
    },
    {
      "cell_type": "code",
      "metadata": {
        "id": "ml60fBLFp4yF",
        "colab": {
          "base_uri": "https://localhost:8080/"
        },
        "outputId": "08afcf5e-d3f6-41cd-b3b3-6a080d6a9b73"
      },
      "source": [
        "\n",
        "from sklearn import linear_model\n",
        "\n",
        "for n_files, file in enumerate(train_files):\n",
        "  data = pd.read_csv(file, index_col=0)\n",
        "  test_data = pd.read_csv(test_files[n_files], index_col=0)\n",
        "\n",
        "  # wifi, x, y and f for training \n",
        "  wifi = data.iloc[:,:-5]\n",
        "  x = data.iloc[:,-5]\n",
        "  y =data.iloc[:,-4]\n",
        "  floor = data.iloc[:,-3]\n",
        "\n",
        "  # wifi, x, y, and f for testing\n",
        "  wifi_val = test_data.iloc[:,:-5]\n",
        "  x_val = test_data.iloc[:, -5]\n",
        "  y_val =test_data.iloc[:, -4]\n",
        "  floor_val = test_data.iloc[:, -3]\n",
        "\n",
        "  # initiate three lasso models \n",
        "  clf_x = linear_model.Lasso(alpha=0.1, max_iter = 10000)\n",
        "  clf_y = linear_model.Lasso(alpha=0.1, max_iter = 10000)\n",
        "  clf_f = linear_model.Lasso(alpha=0.1, max_iter = 10000)\n",
        "\n",
        "  clf_x.fit(wifi, x)\n",
        "  clf_y.fit(wifi, y)\n",
        "  clf_f.fit(wifi, floor)\n",
        "\n",
        "  x_pred = clf_x.predict(wifi_val)\n",
        "  y_pred = clf_y.predict(wifi_val)\n",
        "  f_pred = clf_f.predict(wifi_val)\n",
        "\n",
        "  column_num = len(test_data.columns)\n",
        "  test_data = test_data.reset_index()\n",
        "\n",
        "  # insert columns for predicted x, y and f in test file\n",
        "  test_data.insert(column_num, 'pred_x', x_pred, True)\n",
        "  test_data.insert(column_num+1, 'pred_y', y_pred, True)\n",
        "  test_data.insert(column_num+2, 'pred_f', f_pred, True)\n",
        "\n",
        "  building_name = file[7:-10] + '_clf.csv'\n",
        "\n",
        "  test_data.to_csv(building_name)\n",
        "\n"
      ],
      "execution_count": null,
      "outputs": [
        {
          "output_type": "stream",
          "text": [
            "/usr/local/lib/python3.7/dist-packages/sklearn/linear_model/_coordinate_descent.py:476: ConvergenceWarning: Objective did not converge. You might want to increase the number of iterations. Duality gap: 24208.457874755, tolerance: 74.53713698037781\n",
            "  positive)\n",
            "/usr/local/lib/python3.7/dist-packages/sklearn/linear_model/_coordinate_descent.py:476: ConvergenceWarning: Objective did not converge. You might want to increase the number of iterations. Duality gap: 6814.865531037693, tolerance: 11.423134438084846\n",
            "  positive)\n",
            "/usr/local/lib/python3.7/dist-packages/sklearn/linear_model/_coordinate_descent.py:476: ConvergenceWarning: Objective did not converge. You might want to increase the number of iterations. Duality gap: 1614965.6444775008, tolerance: 2321.2809821004425\n",
            "  positive)\n",
            "/usr/local/lib/python3.7/dist-packages/sklearn/linear_model/_coordinate_descent.py:476: ConvergenceWarning: Objective did not converge. You might want to increase the number of iterations. Duality gap: 1823786.5541444758, tolerance: 4479.128373515524\n",
            "  positive)\n",
            "/usr/local/lib/python3.7/dist-packages/sklearn/linear_model/_coordinate_descent.py:476: ConvergenceWarning: Objective did not converge. You might want to increase the number of iterations. Duality gap: 325.88988827950425, tolerance: 6.946863417447685\n",
            "  positive)\n",
            "/usr/local/lib/python3.7/dist-packages/sklearn/linear_model/_coordinate_descent.py:476: ConvergenceWarning: Objective did not converge. You might want to increase the number of iterations. Duality gap: 106195.67491264688, tolerance: 189.23542287318816\n",
            "  positive)\n",
            "/usr/local/lib/python3.7/dist-packages/sklearn/linear_model/_coordinate_descent.py:476: ConvergenceWarning: Objective did not converge. You might want to increase the number of iterations. Duality gap: 330696.1929319975, tolerance: 646.7703216693536\n",
            "  positive)\n",
            "/usr/local/lib/python3.7/dist-packages/sklearn/linear_model/_coordinate_descent.py:476: ConvergenceWarning: Objective did not converge. You might want to increase the number of iterations. Duality gap: 111.40968323895913, tolerance: 3.706513041397471\n",
            "  positive)\n",
            "/usr/local/lib/python3.7/dist-packages/sklearn/linear_model/_coordinate_descent.py:476: ConvergenceWarning: Objective did not converge. You might want to increase the number of iterations. Duality gap: 1869315.8173576782, tolerance: 9020.384456079239\n",
            "  positive)\n",
            "/usr/local/lib/python3.7/dist-packages/sklearn/linear_model/_coordinate_descent.py:476: ConvergenceWarning: Objective did not converge. You might want to increase the number of iterations. Duality gap: 512295.4084401073, tolerance: 2766.275501829128\n",
            "  positive)\n",
            "/usr/local/lib/python3.7/dist-packages/sklearn/linear_model/_coordinate_descent.py:476: ConvergenceWarning: Objective did not converge. You might want to increase the number of iterations. Duality gap: 340.823557710519, tolerance: 3.751612079553775\n",
            "  positive)\n",
            "/usr/local/lib/python3.7/dist-packages/sklearn/linear_model/_coordinate_descent.py:476: ConvergenceWarning: Objective did not converge. You might want to increase the number of iterations. Duality gap: 1232416.0951520281, tolerance: 1619.4221246142727\n",
            "  positive)\n",
            "/usr/local/lib/python3.7/dist-packages/sklearn/linear_model/_coordinate_descent.py:476: ConvergenceWarning: Objective did not converge. You might want to increase the number of iterations. Duality gap: 3160637.9696099, tolerance: 5021.625149187916\n",
            "  positive)\n",
            "/usr/local/lib/python3.7/dist-packages/sklearn/linear_model/_coordinate_descent.py:476: ConvergenceWarning: Objective did not converge. You might want to increase the number of iterations. Duality gap: 109.09569931108354, tolerance: 2.2995941116751193\n",
            "  positive)\n",
            "/usr/local/lib/python3.7/dist-packages/sklearn/linear_model/_coordinate_descent.py:476: ConvergenceWarning: Objective did not converge. You might want to increase the number of iterations. Duality gap: 5960.2251529052555, tolerance: 14.382163914684055\n",
            "  positive)\n",
            "/usr/local/lib/python3.7/dist-packages/sklearn/linear_model/_coordinate_descent.py:476: ConvergenceWarning: Objective did not converge. You might want to increase the number of iterations. Duality gap: 54215.58216174226, tolerance: 319.5332804388196\n",
            "  positive)\n",
            "/usr/local/lib/python3.7/dist-packages/sklearn/linear_model/_coordinate_descent.py:476: ConvergenceWarning: Objective did not converge. You might want to increase the number of iterations. Duality gap: 16149.83054983482, tolerance: 564.6072515448791\n",
            "  positive)\n",
            "/usr/local/lib/python3.7/dist-packages/sklearn/linear_model/_coordinate_descent.py:476: ConvergenceWarning: Objective did not converge. You might want to increase the number of iterations. Duality gap: 1367392.6589215184, tolerance: 4731.686788891268\n",
            "  positive)\n",
            "/usr/local/lib/python3.7/dist-packages/sklearn/linear_model/_coordinate_descent.py:476: ConvergenceWarning: Objective did not converge. You might want to increase the number of iterations. Duality gap: 445870.48822095036, tolerance: 579.1024115027063\n",
            "  positive)\n",
            "/usr/local/lib/python3.7/dist-packages/sklearn/linear_model/_coordinate_descent.py:476: ConvergenceWarning: Objective did not converge. You might want to increase the number of iterations. Duality gap: 75.98895260192899, tolerance: 1.6747862215662426\n",
            "  positive)\n",
            "/usr/local/lib/python3.7/dist-packages/sklearn/linear_model/_coordinate_descent.py:476: ConvergenceWarning: Objective did not converge. You might want to increase the number of iterations. Duality gap: 728945.093939854, tolerance: 5419.946392504691\n",
            "  positive)\n",
            "/usr/local/lib/python3.7/dist-packages/sklearn/linear_model/_coordinate_descent.py:476: ConvergenceWarning: Objective did not converge. You might want to increase the number of iterations. Duality gap: 1141893.2710291496, tolerance: 5974.892783919449\n",
            "  positive)\n",
            "/usr/local/lib/python3.7/dist-packages/sklearn/linear_model/_coordinate_descent.py:476: ConvergenceWarning: Objective did not converge. You might want to increase the number of iterations. Duality gap: 55.66890936963307, tolerance: 1.6394240892884795\n",
            "  positive)\n",
            "/usr/local/lib/python3.7/dist-packages/sklearn/linear_model/_coordinate_descent.py:476: ConvergenceWarning: Objective did not converge. You might want to increase the number of iterations. Duality gap: 148235.35046347382, tolerance: 192.5416412327554\n",
            "  positive)\n",
            "/usr/local/lib/python3.7/dist-packages/sklearn/linear_model/_coordinate_descent.py:476: ConvergenceWarning: Objective did not converge. You might want to increase the number of iterations. Duality gap: 458957.7910623577, tolerance: 3170.9647407204952\n",
            "  positive)\n",
            "/usr/local/lib/python3.7/dist-packages/sklearn/linear_model/_coordinate_descent.py:476: ConvergenceWarning: Objective did not converge. You might want to increase the number of iterations. Duality gap: 195.3848535468303, tolerance: 3.8969307590584643\n",
            "  positive)\n",
            "/usr/local/lib/python3.7/dist-packages/sklearn/linear_model/_coordinate_descent.py:476: ConvergenceWarning: Objective did not converge. You might want to increase the number of iterations. Duality gap: 95307.97281302535, tolerance: 929.1061122855078\n",
            "  positive)\n",
            "/usr/local/lib/python3.7/dist-packages/sklearn/linear_model/_coordinate_descent.py:476: ConvergenceWarning: Objective did not converge. You might want to increase the number of iterations. Duality gap: 122202.28887880692, tolerance: 722.8022646400353\n",
            "  positive)\n",
            "/usr/local/lib/python3.7/dist-packages/sklearn/linear_model/_coordinate_descent.py:476: ConvergenceWarning: Objective did not converge. You might want to increase the number of iterations. Duality gap: 233203.97312536597, tolerance: 883.5934110596494\n",
            "  positive)\n",
            "/usr/local/lib/python3.7/dist-packages/sklearn/linear_model/_coordinate_descent.py:476: ConvergenceWarning: Objective did not converge. You might want to increase the number of iterations. Duality gap: 246498.13108322592, tolerance: 973.613202431706\n",
            "  positive)\n",
            "/usr/local/lib/python3.7/dist-packages/sklearn/linear_model/_coordinate_descent.py:476: ConvergenceWarning: Objective did not converge. You might want to increase the number of iterations. Duality gap: 69.18957973287155, tolerance: 1.8692852570751235\n",
            "  positive)\n",
            "/usr/local/lib/python3.7/dist-packages/sklearn/linear_model/_coordinate_descent.py:476: ConvergenceWarning: Objective did not converge. You might want to increase the number of iterations. Duality gap: 433976.1821675706, tolerance: 3175.3122318511932\n",
            "  positive)\n",
            "/usr/local/lib/python3.7/dist-packages/sklearn/linear_model/_coordinate_descent.py:476: ConvergenceWarning: Objective did not converge. You might want to increase the number of iterations. Duality gap: 348170.4625020658, tolerance: 1992.8620431098718\n",
            "  positive)\n",
            "/usr/local/lib/python3.7/dist-packages/sklearn/linear_model/_coordinate_descent.py:476: ConvergenceWarning: Objective did not converge. You might want to increase the number of iterations. Duality gap: 749683.0592891139, tolerance: 2111.096092352175\n",
            "  positive)\n",
            "/usr/local/lib/python3.7/dist-packages/sklearn/linear_model/_coordinate_descent.py:476: ConvergenceWarning: Objective did not converge. You might want to increase the number of iterations. Duality gap: 1697207.3911075492, tolerance: 9694.731025144736\n",
            "  positive)\n"
          ],
          "name": "stderr"
        }
      ]
    },
    {
      "cell_type": "code",
      "metadata": {
        "id": "MhA2f-Ao088x"
      },
      "source": [
        "pred_files = glob.glob('/content' + '/*_clf.csv')"
      ],
      "execution_count": 3,
      "outputs": []
    },
    {
      "cell_type": "code",
      "metadata": {
        "id": "eMaKOgBlWAnu"
      },
      "source": [
        "# extract all true and predicted x, y and f\n",
        "all_pred = pd.DataFrame()\n",
        "\n",
        "for file_name in pred_files:\n",
        "  file = pd.read_csv(file_name)\n",
        "\n",
        "  all_pred = pd.concat([all_pred, file.iloc[:, -8:]])"
      ],
      "execution_count": 5,
      "outputs": []
    },
    {
      "cell_type": "code",
      "metadata": {
        "colab": {
          "base_uri": "https://localhost:8080/"
        },
        "id": "TRnFxD4xWDug",
        "outputId": "ca0767be-8ac3-4f3d-da91-a8c20a61603f"
      },
      "source": [
        "# calculate overall MSE\n",
        "comp_metric(all_pred['pred_x'], all_pred['pred_y'], all_pred['pred_f'], all_pred['x'], all_pred['y'], all_pred['f'])"
      ],
      "execution_count": 6,
      "outputs": [
        {
          "output_type": "execute_result",
          "data": {
            "text/plain": [
              "18.080036187766076"
            ]
          },
          "metadata": {
            "tags": []
          },
          "execution_count": 6
        }
      ]
    }
  ]
}