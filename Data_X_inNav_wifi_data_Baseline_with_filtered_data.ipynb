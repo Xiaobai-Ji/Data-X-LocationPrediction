{
  "nbformat": 4,
  "nbformat_minor": 0,
  "metadata": {
    "colab": {
      "name": "Data_X_inNav_wifi_data_Baseline_with_filtered_data.ipynb",
      "provenance": [],
      "collapsed_sections": [],
      "machine_shape": "hm"
    },
    "kernelspec": {
      "display_name": "Python 3",
      "name": "python3"
    },
    "language_info": {
      "name": "python"
    }
  },
  "cells": [
    {
      "cell_type": "code",
      "metadata": {
        "colab": {
          "base_uri": "https://localhost:8080/"
        },
        "id": "phlyFaiKW_jc",
        "outputId": "dc5b829f-3939-4260-9e53-9f554d9c43ef"
      },
      "source": [
        "# mount your google drive and follow instructions \n",
        "from google.colab import drive\n",
        "drive.mount('/content/drive')"
      ],
      "execution_count": 1,
      "outputs": [
        {
          "output_type": "stream",
          "text": [
            "Mounted at /content/drive\n"
          ],
          "name": "stdout"
        }
      ]
    },
    {
      "cell_type": "code",
      "metadata": {
        "colab": {
          "base_uri": "https://localhost:8080/"
        },
        "id": "BRBZ0-lHU43y",
        "outputId": "03668f73-8f63-4efe-85ed-b711bab912c7"
      },
      "source": [
        "# run this cell directly if the file is stored in your drive\n",
        "# otherwise, rewrite the directory and/or file name\n",
        "!cp /content/drive/MyDrive/0403.zip 0403.zip\n",
        "!unzip /content/drive/MyDrive/0403.zip"
      ],
      "execution_count": 2,
      "outputs": [
        {
          "output_type": "stream",
          "text": [
            "Archive:  /content/drive/MyDrive/0403.zip\n",
            "  inflating: 0403/5cd56b6ee2acfd2d33b5a247_test.csv  \n",
            "  inflating: 0403/5cd56b7de2acfd2d33b5c14b_train.csv  \n",
            "  inflating: 0403/5cd56b6ae2acfd2d33b59c90_test.csv  \n",
            "  inflating: 0403/5cd56b7de2acfd2d33b5c14b_test.csv  \n",
            "  inflating: 0403/5cd56b6ee2acfd2d33b5a247_train.csv  \n",
            "  inflating: 0403/5cd56b6ae2acfd2d33b59c90_train.csv  \n",
            "  inflating: 0403/5cd56b6fe2acfd2d33b5a386_test.csv  \n",
            "  inflating: 0403/5cd56b6ae2acfd2d33b59ccc_test.csv  \n",
            "  inflating: 0403/5cd56b5ae2acfd2d33b58546_train.csv  \n",
            "  inflating: 0403/5cd56b5ae2acfd2d33b58549_test.csv  \n",
            "  inflating: 0403/5cd56b5ae2acfd2d33b58549_train.csv  \n",
            "  inflating: 0403/5cd56b6fe2acfd2d33b5a386_train.csv  \n",
            "  inflating: 0403/5cd56b6ae2acfd2d33b59ccc_train.csv  \n",
            "  inflating: 0403/5cd56b5ae2acfd2d33b58546_test.csv  \n",
            "  inflating: 0403/5da1383b4db8ce0c98bc11ab_test.csv  \n",
            "  inflating: 0403/5d27099f03f801723c32511d_test.csv  \n",
            "  inflating: 0403/5d27096c03f801723c31e5e0_test.csv  \n",
            "  inflating: 0403/5d27097f03f801723c320d97_test.csv  \n",
            "  inflating: 0403/5cd56b5ae2acfd2d33b58548_test.csv  \n",
            "  inflating: 0403/5cd56b5ae2acfd2d33b5854a_test.csv  \n",
            "  inflating: 0403/5d27097f03f801723c320d97_train.csv  \n",
            "  inflating: 0403/5cd56b5ae2acfd2d33b58548_train.csv  \n",
            "  inflating: 0403/5cd56b5ae2acfd2d33b58544_test.csv  \n",
            "  inflating: 0403/5da1382d4db8ce0c98bbe92e_test.csv  \n",
            "  inflating: 0403/5d2709c303f801723c3299ee_test.csv  \n",
            "  inflating: 0403/5d27099f03f801723c32511d_train.csv  \n",
            "  inflating: 0403/5da958dd46f8266d0737457b_test.csv  \n",
            "  inflating: 0403/5d2709d403f801723c32bd39_test.csv  \n",
            "  inflating: 0403/5cd56b5ae2acfd2d33b5854a_train.csv  \n",
            "  inflating: 0403/5d2709a003f801723c3251bf_test.csv  \n",
            "  inflating: 0403/5da1383b4db8ce0c98bc11ab_train.csv  \n",
            "  inflating: 0403/5d2709a003f801723c3251bf_train.csv  \n",
            "  inflating: 0403/5da1382d4db8ce0c98bbe92e_train.csv  \n",
            "  inflating: 0403/5d2709d403f801723c32bd39_train.csv  \n",
            "  inflating: 0403/5cd56b5ae2acfd2d33b58544_train.csv  \n",
            "  inflating: 0403/5cd56b6ae2acfd2d33b59ccb_test.csv  \n",
            "  inflating: 0403/5d2709b303f801723c327472_test.csv  \n",
            "  inflating: 0403/5d2709c303f801723c3299ee_train.csv  \n",
            "  inflating: 0403/5d2709bb03f801723c32852c_test.csv  \n",
            "  inflating: 0403/5d27075f03f801723c2e360f_test.csv  \n",
            "  inflating: 0403/5da958dd46f8266d0737457b_train.csv  \n",
            "  inflating: 0403/5d27096c03f801723c31e5e0_train.csv  \n",
            "  inflating: 0403/5d2709b303f801723c327472_train.csv  \n",
            "  inflating: 0403/5da138b74db8ce0c98bd4774_train.csv  \n",
            "  inflating: 0403/5d2709bb03f801723c32852c_train.csv  \n",
            "  inflating: 0403/5cd56b6ae2acfd2d33b59ccb_train.csv  \n",
            "  inflating: 0403/5da138b74db8ce0c98bd4774_test.csv  \n",
            "  inflating: 0403/5d27075f03f801723c2e360f_train.csv  \n",
            "  inflating: 0403/5da1382d4db8ce0c98bbe92e_test.xlsx  \n"
          ],
          "name": "stdout"
        }
      ]
    },
    {
      "cell_type": "code",
      "metadata": {
        "id": "bFKsnitz-hOx"
      },
      "source": [
        "import numpy as np\n",
        "import pandas as pd\n",
        "import scipy.stats as stats\n",
        "from pathlib import Path\n",
        "import glob\n",
        "\n",
        "from sklearn.model_selection import KFold\n",
        "from sklearn.linear_model import Ridge\n",
        "from sklearn.model_selection import train_test_split\n",
        "from sklearn.metrics import mean_squared_error\n",
        "\n",
        "import psutil\n",
        "import random\n",
        "import os\n",
        "import time\n",
        "import sys\n",
        "import math\n",
        "from contextlib import contextmanager\n",
        "\n",
        "# set random seed\n",
        "SEED = 42\n",
        "\n",
        "@contextmanager\n",
        "def set_seed(seed=42):\n",
        "    random.seed(seed)\n",
        "    os.environ[\"PYTHONHASHSEED\"] = str(seed)\n",
        "    np.random.seed(seed)\n",
        "\n",
        "# MSE - evaluation metric   \n",
        "def comp_metric(xhat, yhat, fhat, x, y, f):\n",
        "    intermediate = np.sqrt(np.power(xhat-x, 2) + np.power(yhat-y, 2)) + 15 * np.abs(fhat-f)\n",
        "    return intermediate.sum()/xhat.shape[0]\n",
        "\n",
        "set_seed(SEED)\n",
        "\n",
        "# read training and test files \n",
        "feature_dir = '/content/0403/'\n",
        "train_files = sorted(glob.glob(os.path.join(feature_dir, '*_train.csv')))\n",
        "test_files = sorted(glob.glob(os.path.join(feature_dir, '*_test.csv')))"
      ],
      "execution_count": 10,
      "outputs": []
    },
    {
      "cell_type": "markdown",
      "metadata": {
        "id": "0z4DMc85sFNd"
      },
      "source": [
        "# Baseline 1: Ridge Regression"
      ]
    },
    {
      "cell_type": "code",
      "metadata": {
        "id": "vVgKxL8OQES7"
      },
      "source": [
        "for n_files, file in enumerate(train_files):\n",
        "  # read train and test set \n",
        "  data = pd.read_csv(file, index_col=0)\n",
        "  test_data = pd.read_csv(test_files[n_files], index_col=0)\n",
        "\n",
        "  # wifi, x, y, and f for training \n",
        "  wifi = data.iloc[:,:-5]\n",
        "  x = data.iloc[:,-5]\n",
        "  y =data.iloc[:,-4]\n",
        "  floor = data.iloc[:,-3]\n",
        "\n",
        "  # wifi, x, y, and f for testing\n",
        "  wifi_val = test_data.iloc[:,:-5]\n",
        "  x_val = test_data.iloc[:, -5]\n",
        "  y_val =test_data.iloc[:, -4]\n",
        "  floor_val = test_data.iloc[:, -3]\n",
        "\n",
        "  # fit and predict x\n",
        "  ridge_model_x = Ridge(alpha=100, fit_intercept=True)\n",
        "  ridge_model_x.fit(wifi, x)\n",
        "  x_pred = ridge_model_x.predict(wifi_val)\n",
        "\n",
        "  # fit and predict y\n",
        "  ridge_model_y = Ridge(alpha=100, fit_intercept=True)\n",
        "  ridge_model_y.fit(wifi, y)\n",
        "  y_pred = ridge_model_y.predict(wifi_val)\n",
        "\n",
        "  #fit and predict f\n",
        "  ridge_model_f = Ridge(alpha=100, fit_intercept=True)\n",
        "  ridge_model_f.fit(wifi, floor)\n",
        "  f_pred = ridge_model_f.predict(wifi_val)\n",
        "\n",
        "  column_num = len(test_data.columns)\n",
        "  test_data = test_data.reset_index()\n",
        "\n",
        "  # insert columns for predicted x, y and f in test file\n",
        "  test_data.insert(column_num, 'pred_x', x_pred, True)\n",
        "  test_data.insert(column_num+1, 'pred_y', y_pred, True)\n",
        "  test_data.insert(column_num+2, 'pred_f', f_pred, True)\n",
        "\n",
        "  building_name = file[15:-10] + '_ridgebaseline.csv'\n",
        "\n",
        "  # save new test file\n",
        "  test_data.to_csv(building_name)\n"
      ],
      "execution_count": 13,
      "outputs": []
    },
    {
      "cell_type": "code",
      "metadata": {
        "id": "aUAW8NpOQcaD"
      },
      "source": [
        "pred_files = glob.glob('/content' + '/*_ridgebaseline.csv')"
      ],
      "execution_count": 14,
      "outputs": []
    },
    {
      "cell_type": "code",
      "metadata": {
        "id": "lK0p8JZ5RG7y"
      },
      "source": [
        "# extract all true and predicted x, y and f\n",
        "all_pred = pd.DataFrame()\n",
        "\n",
        "for file_name in pred_files:\n",
        "  file = pd.read_csv(file_name)\n",
        "\n",
        "  all_pred = pd.concat([all_pred, file.iloc[:, -8:]])"
      ],
      "execution_count": 15,
      "outputs": []
    },
    {
      "cell_type": "code",
      "metadata": {
        "colab": {
          "base_uri": "https://localhost:8080/"
        },
        "id": "iHLC9EHhROUY",
        "outputId": "7e2153fd-eaeb-4230-84fd-5f4302e7ac5d"
      },
      "source": [
        "# compute overall MSE\n",
        "comp_metric(all_pred['pred_x'], all_pred['pred_y'], all_pred['pred_f'], all_pred['x'], all_pred['y'], all_pred['f'])"
      ],
      "execution_count": 16,
      "outputs": [
        {
          "output_type": "execute_result",
          "data": {
            "text/plain": [
              "18.151951182164154"
            ]
          },
          "metadata": {
            "tags": []
          },
          "execution_count": 16
        }
      ]
    },
    {
      "cell_type": "markdown",
      "metadata": {
        "id": "cHxkhbmkt_Yu"
      },
      "source": [
        "# Baseline 2"
      ]
    },
    {
      "cell_type": "code",
      "metadata": {
        "id": "ml60fBLFp4yF",
        "colab": {
          "base_uri": "https://localhost:8080/"
        },
        "outputId": "da6ca780-8228-495f-b179-1b3f6ec515d6"
      },
      "source": [
        "\n",
        "from sklearn import linear_model\n",
        "\n",
        "for n_files, file in enumerate(train_files):\n",
        "  data = pd.read_csv(file, index_col=0)\n",
        "  test_data = pd.read_csv(test_files[n_files], index_col=0)\n",
        "\n",
        "  # wifi, x, y and f for training \n",
        "  wifi = data.iloc[:,:-5]\n",
        "  x = data.iloc[:,-5]\n",
        "  y =data.iloc[:,-4]\n",
        "  floor = data.iloc[:,-3]\n",
        "\n",
        "  # wifi, x, y, and f for testing\n",
        "  wifi_val = test_data.iloc[:,:-5]\n",
        "  x_val = test_data.iloc[:, -5]\n",
        "  y_val =test_data.iloc[:, -4]\n",
        "  floor_val = test_data.iloc[:, -3]\n",
        "\n",
        "  # initiate three lasso models \n",
        "  clf_x = linear_model.Lasso(alpha=0.1, max_iter = 10000)\n",
        "  clf_y = linear_model.Lasso(alpha=0.1, max_iter = 10000)\n",
        "  clf_f = linear_model.Lasso(alpha=0.1, max_iter = 10000)\n",
        "\n",
        "  clf_x.fit(wifi, x)\n",
        "  clf_y.fit(wifi, y)\n",
        "  clf_f.fit(wifi, floor)\n",
        "\n",
        "  x_pred = clf_x.predict(wifi_val)\n",
        "  y_pred = clf_y.predict(wifi_val)\n",
        "  f_pred = clf_f.predict(wifi_val)\n",
        "\n",
        "  column_num = len(test_data.columns)\n",
        "  test_data = test_data.reset_index()\n",
        "\n",
        "  # insert columns for predicted x, y and f in test file\n",
        "  test_data.insert(column_num, 'pred_x', x_pred, True)\n",
        "  test_data.insert(column_num+1, 'pred_y', y_pred, True)\n",
        "  test_data.insert(column_num+2, 'pred_f', f_pred, True)\n",
        "\n",
        "  building_name = file[15:-10] + '_clf.csv'\n",
        "\n",
        "  test_data.to_csv(building_name)\n",
        "\n"
      ],
      "execution_count": 18,
      "outputs": [
        {
          "output_type": "stream",
          "text": [
            "/usr/local/lib/python3.7/dist-packages/sklearn/linear_model/_coordinate_descent.py:476: ConvergenceWarning: Objective did not converge. You might want to increase the number of iterations. Duality gap: 24208.457874755, tolerance: 74.53713698037781\n",
            "  positive)\n",
            "/usr/local/lib/python3.7/dist-packages/sklearn/linear_model/_coordinate_descent.py:476: ConvergenceWarning: Objective did not converge. You might want to increase the number of iterations. Duality gap: 6814.865531037693, tolerance: 11.423134438084846\n",
            "  positive)\n",
            "/usr/local/lib/python3.7/dist-packages/sklearn/linear_model/_coordinate_descent.py:476: ConvergenceWarning: Objective did not converge. You might want to increase the number of iterations. Duality gap: 1614965.6444775008, tolerance: 2321.2809821004425\n",
            "  positive)\n",
            "/usr/local/lib/python3.7/dist-packages/sklearn/linear_model/_coordinate_descent.py:476: ConvergenceWarning: Objective did not converge. You might want to increase the number of iterations. Duality gap: 1823786.5541444758, tolerance: 4479.128373515524\n",
            "  positive)\n",
            "/usr/local/lib/python3.7/dist-packages/sklearn/linear_model/_coordinate_descent.py:476: ConvergenceWarning: Objective did not converge. You might want to increase the number of iterations. Duality gap: 325.88988827950425, tolerance: 6.946863417447685\n",
            "  positive)\n",
            "/usr/local/lib/python3.7/dist-packages/sklearn/linear_model/_coordinate_descent.py:476: ConvergenceWarning: Objective did not converge. You might want to increase the number of iterations. Duality gap: 106195.67491264688, tolerance: 189.23542287318816\n",
            "  positive)\n",
            "/usr/local/lib/python3.7/dist-packages/sklearn/linear_model/_coordinate_descent.py:476: ConvergenceWarning: Objective did not converge. You might want to increase the number of iterations. Duality gap: 330696.1929319975, tolerance: 646.7703216693536\n",
            "  positive)\n",
            "/usr/local/lib/python3.7/dist-packages/sklearn/linear_model/_coordinate_descent.py:476: ConvergenceWarning: Objective did not converge. You might want to increase the number of iterations. Duality gap: 111.40968323895913, tolerance: 3.706513041397471\n",
            "  positive)\n",
            "/usr/local/lib/python3.7/dist-packages/sklearn/linear_model/_coordinate_descent.py:476: ConvergenceWarning: Objective did not converge. You might want to increase the number of iterations. Duality gap: 1869315.8173576782, tolerance: 9020.384456079239\n",
            "  positive)\n",
            "/usr/local/lib/python3.7/dist-packages/sklearn/linear_model/_coordinate_descent.py:476: ConvergenceWarning: Objective did not converge. You might want to increase the number of iterations. Duality gap: 512295.4084401073, tolerance: 2766.275501829128\n",
            "  positive)\n",
            "/usr/local/lib/python3.7/dist-packages/sklearn/linear_model/_coordinate_descent.py:476: ConvergenceWarning: Objective did not converge. You might want to increase the number of iterations. Duality gap: 340.823557710519, tolerance: 3.751612079553775\n",
            "  positive)\n",
            "/usr/local/lib/python3.7/dist-packages/sklearn/linear_model/_coordinate_descent.py:476: ConvergenceWarning: Objective did not converge. You might want to increase the number of iterations. Duality gap: 1232416.0951520281, tolerance: 1619.4221246142727\n",
            "  positive)\n",
            "/usr/local/lib/python3.7/dist-packages/sklearn/linear_model/_coordinate_descent.py:476: ConvergenceWarning: Objective did not converge. You might want to increase the number of iterations. Duality gap: 3160637.9696099, tolerance: 5021.625149187916\n",
            "  positive)\n",
            "/usr/local/lib/python3.7/dist-packages/sklearn/linear_model/_coordinate_descent.py:476: ConvergenceWarning: Objective did not converge. You might want to increase the number of iterations. Duality gap: 109.09569931108354, tolerance: 2.2995941116751193\n",
            "  positive)\n",
            "/usr/local/lib/python3.7/dist-packages/sklearn/linear_model/_coordinate_descent.py:476: ConvergenceWarning: Objective did not converge. You might want to increase the number of iterations. Duality gap: 5960.2251529052555, tolerance: 14.382163914684055\n",
            "  positive)\n",
            "/usr/local/lib/python3.7/dist-packages/sklearn/linear_model/_coordinate_descent.py:476: ConvergenceWarning: Objective did not converge. You might want to increase the number of iterations. Duality gap: 54215.58216174226, tolerance: 319.5332804388196\n",
            "  positive)\n",
            "/usr/local/lib/python3.7/dist-packages/sklearn/linear_model/_coordinate_descent.py:476: ConvergenceWarning: Objective did not converge. You might want to increase the number of iterations. Duality gap: 16149.83054983482, tolerance: 564.6072515448791\n",
            "  positive)\n",
            "/usr/local/lib/python3.7/dist-packages/sklearn/linear_model/_coordinate_descent.py:476: ConvergenceWarning: Objective did not converge. You might want to increase the number of iterations. Duality gap: 1367392.6589215184, tolerance: 4731.686788891268\n",
            "  positive)\n",
            "/usr/local/lib/python3.7/dist-packages/sklearn/linear_model/_coordinate_descent.py:476: ConvergenceWarning: Objective did not converge. You might want to increase the number of iterations. Duality gap: 445870.48822095036, tolerance: 579.1024115027063\n",
            "  positive)\n",
            "/usr/local/lib/python3.7/dist-packages/sklearn/linear_model/_coordinate_descent.py:476: ConvergenceWarning: Objective did not converge. You might want to increase the number of iterations. Duality gap: 75.98895260192899, tolerance: 1.6747862215662426\n",
            "  positive)\n",
            "/usr/local/lib/python3.7/dist-packages/sklearn/linear_model/_coordinate_descent.py:476: ConvergenceWarning: Objective did not converge. You might want to increase the number of iterations. Duality gap: 728945.093939854, tolerance: 5419.946392504691\n",
            "  positive)\n",
            "/usr/local/lib/python3.7/dist-packages/sklearn/linear_model/_coordinate_descent.py:476: ConvergenceWarning: Objective did not converge. You might want to increase the number of iterations. Duality gap: 1141893.2710291496, tolerance: 5974.892783919449\n",
            "  positive)\n",
            "/usr/local/lib/python3.7/dist-packages/sklearn/linear_model/_coordinate_descent.py:476: ConvergenceWarning: Objective did not converge. You might want to increase the number of iterations. Duality gap: 55.66890936963307, tolerance: 1.6394240892884795\n",
            "  positive)\n",
            "/usr/local/lib/python3.7/dist-packages/sklearn/linear_model/_coordinate_descent.py:476: ConvergenceWarning: Objective did not converge. You might want to increase the number of iterations. Duality gap: 148235.35046347382, tolerance: 192.5416412327554\n",
            "  positive)\n",
            "/usr/local/lib/python3.7/dist-packages/sklearn/linear_model/_coordinate_descent.py:476: ConvergenceWarning: Objective did not converge. You might want to increase the number of iterations. Duality gap: 458957.7910623577, tolerance: 3170.9647407204952\n",
            "  positive)\n",
            "/usr/local/lib/python3.7/dist-packages/sklearn/linear_model/_coordinate_descent.py:476: ConvergenceWarning: Objective did not converge. You might want to increase the number of iterations. Duality gap: 195.3848535468303, tolerance: 3.8969307590584643\n",
            "  positive)\n",
            "/usr/local/lib/python3.7/dist-packages/sklearn/linear_model/_coordinate_descent.py:476: ConvergenceWarning: Objective did not converge. You might want to increase the number of iterations. Duality gap: 95307.97281302535, tolerance: 929.1061122855078\n",
            "  positive)\n",
            "/usr/local/lib/python3.7/dist-packages/sklearn/linear_model/_coordinate_descent.py:476: ConvergenceWarning: Objective did not converge. You might want to increase the number of iterations. Duality gap: 122202.28887880692, tolerance: 722.8022646400353\n",
            "  positive)\n",
            "/usr/local/lib/python3.7/dist-packages/sklearn/linear_model/_coordinate_descent.py:476: ConvergenceWarning: Objective did not converge. You might want to increase the number of iterations. Duality gap: 233203.97312536597, tolerance: 883.5934110596494\n",
            "  positive)\n",
            "/usr/local/lib/python3.7/dist-packages/sklearn/linear_model/_coordinate_descent.py:476: ConvergenceWarning: Objective did not converge. You might want to increase the number of iterations. Duality gap: 246498.13108322592, tolerance: 973.613202431706\n",
            "  positive)\n",
            "/usr/local/lib/python3.7/dist-packages/sklearn/linear_model/_coordinate_descent.py:476: ConvergenceWarning: Objective did not converge. You might want to increase the number of iterations. Duality gap: 69.18957973287155, tolerance: 1.8692852570751235\n",
            "  positive)\n",
            "/usr/local/lib/python3.7/dist-packages/sklearn/linear_model/_coordinate_descent.py:476: ConvergenceWarning: Objective did not converge. You might want to increase the number of iterations. Duality gap: 433976.1821675706, tolerance: 3175.3122318511932\n",
            "  positive)\n",
            "/usr/local/lib/python3.7/dist-packages/sklearn/linear_model/_coordinate_descent.py:476: ConvergenceWarning: Objective did not converge. You might want to increase the number of iterations. Duality gap: 348170.4625020658, tolerance: 1992.8620431098718\n",
            "  positive)\n",
            "/usr/local/lib/python3.7/dist-packages/sklearn/linear_model/_coordinate_descent.py:476: ConvergenceWarning: Objective did not converge. You might want to increase the number of iterations. Duality gap: 749683.0592891139, tolerance: 2111.096092352175\n",
            "  positive)\n",
            "/usr/local/lib/python3.7/dist-packages/sklearn/linear_model/_coordinate_descent.py:476: ConvergenceWarning: Objective did not converge. You might want to increase the number of iterations. Duality gap: 1697207.3911075492, tolerance: 9694.731025144736\n",
            "  positive)\n",
            "/usr/local/lib/python3.7/dist-packages/sklearn/linear_model/_coordinate_descent.py:476: ConvergenceWarning: Objective did not converge. You might want to increase the number of iterations. Duality gap: 177.15807770139008, tolerance: 4.9116011276465175\n",
            "  positive)\n",
            "/usr/local/lib/python3.7/dist-packages/sklearn/linear_model/_coordinate_descent.py:476: ConvergenceWarning: Objective did not converge. You might want to increase the number of iterations. Duality gap: 321970.43119831354, tolerance: 970.0001420206905\n",
            "  positive)\n",
            "/usr/local/lib/python3.7/dist-packages/sklearn/linear_model/_coordinate_descent.py:476: ConvergenceWarning: Objective did not converge. You might want to increase the number of iterations. Duality gap: 513706.44372457406, tolerance: 3046.0348382644074\n",
            "  positive)\n",
            "/usr/local/lib/python3.7/dist-packages/sklearn/linear_model/_coordinate_descent.py:476: ConvergenceWarning: Objective did not converge. You might want to increase the number of iterations. Duality gap: 252.35650687072206, tolerance: 4.913567573277007\n",
            "  positive)\n"
          ],
          "name": "stderr"
        }
      ]
    },
    {
      "cell_type": "code",
      "metadata": {
        "id": "MhA2f-Ao088x"
      },
      "source": [
        "pred_files = glob.glob('/content' + '/*_clf.csv')"
      ],
      "execution_count": 19,
      "outputs": []
    },
    {
      "cell_type": "code",
      "metadata": {
        "id": "eMaKOgBlWAnu"
      },
      "source": [
        "# extract all true and predicted x, y and f\n",
        "all_pred = pd.DataFrame()\n",
        "\n",
        "for file_name in pred_files:\n",
        "  file = pd.read_csv(file_name)\n",
        "\n",
        "  all_pred = pd.concat([all_pred, file.iloc[:, -8:]])"
      ],
      "execution_count": 20,
      "outputs": []
    },
    {
      "cell_type": "code",
      "metadata": {
        "colab": {
          "base_uri": "https://localhost:8080/"
        },
        "id": "TRnFxD4xWDug",
        "outputId": "9b57b60c-84c2-4f2b-98b4-188115b922c7"
      },
      "source": [
        "# compute overall MSE\n",
        "comp_metric(all_pred['pred_x'], all_pred['pred_y'], all_pred['pred_f'], all_pred['x'], all_pred['y'], all_pred['f'])"
      ],
      "execution_count": 21,
      "outputs": [
        {
          "output_type": "execute_result",
          "data": {
            "text/plain": [
              "18.088156923209702"
            ]
          },
          "metadata": {
            "tags": []
          },
          "execution_count": 21
        }
      ]
    }
  ]
}