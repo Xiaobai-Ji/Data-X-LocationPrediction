{
  "nbformat": 4,
  "nbformat_minor": 0,
  "metadata": {
    "accelerator": "GPU",
    "colab": {
      "name": "Data_X_inNav_wifi_data_filtered_data.ipynb",
      "provenance": [],
      "collapsed_sections": [],
      "machine_shape": "hm"
    },
    "kernelspec": {
      "display_name": "Python 3",
      "name": "python3"
    },
    "language_info": {
      "name": "python"
    }
  },
  "cells": [
    {
      "cell_type": "code",
      "metadata": {
        "colab": {
          "base_uri": "https://localhost:8080/"
        },
        "id": "phlyFaiKW_jc",
        "outputId": "9e7d1780-e7fd-4dea-85bd-641a8b101b48"
      },
      "source": [
        "from google.colab import drive\n",
        "drive.mount('/content/drive')"
      ],
      "execution_count": 1,
      "outputs": [
        {
          "output_type": "stream",
          "text": [
            "Mounted at /content/drive\n"
          ],
          "name": "stdout"
        }
      ]
    },
    {
      "cell_type": "code",
      "metadata": {
        "colab": {
          "base_uri": "https://localhost:8080/"
        },
        "id": "90nBl6mR6Ht_",
        "outputId": "c971aa0b-9eb6-4064-8ac0-03bcf0f169da"
      },
      "source": [
        "!nvidia-smi\n",
        "!cat /proc/cpuinfo\n",
        "!rm -rf sample_data\n",
        "\n",
        "!git clone --recursive https://github.com/Microsoft/LightGBM.git\n",
        "!cd LightGBM && rm -rf build && mkdir build && cd build && cmake -DUSE_GPU=1 ../../LightGBM && make -j4 && cd ../python-package && python3 setup.py install --precompile --gpu;"
      ],
      "execution_count": 2,
      "outputs": [
        {
          "output_type": "stream",
          "text": [
            "Sat May  1 12:27:32 2021       \n",
            "+-----------------------------------------------------------------------------+\n",
            "| NVIDIA-SMI 465.19.01    Driver Version: 460.32.03    CUDA Version: 11.2     |\n",
            "|-------------------------------+----------------------+----------------------+\n",
            "| GPU  Name        Persistence-M| Bus-Id        Disp.A | Volatile Uncorr. ECC |\n",
            "| Fan  Temp  Perf  Pwr:Usage/Cap|         Memory-Usage | GPU-Util  Compute M. |\n",
            "|                               |                      |               MIG M. |\n",
            "|===============================+======================+======================|\n",
            "|   0  Tesla P100-PCIE...  Off  | 00000000:00:04.0 Off |                    0 |\n",
            "| N/A   39C    P0    26W / 250W |      0MiB / 16280MiB |      0%      Default |\n",
            "|                               |                      |                  N/A |\n",
            "+-------------------------------+----------------------+----------------------+\n",
            "                                                                               \n",
            "+-----------------------------------------------------------------------------+\n",
            "| Processes:                                                                  |\n",
            "|  GPU   GI   CI        PID   Type   Process name                  GPU Memory |\n",
            "|        ID   ID                                                   Usage      |\n",
            "|=============================================================================|\n",
            "|  No running processes found                                                 |\n",
            "+-----------------------------------------------------------------------------+\n",
            "processor\t: 0\n",
            "vendor_id\t: GenuineIntel\n",
            "cpu family\t: 6\n",
            "model\t\t: 79\n",
            "model name\t: Intel(R) Xeon(R) CPU @ 2.20GHz\n",
            "stepping\t: 0\n",
            "microcode\t: 0x1\n",
            "cpu MHz\t\t: 2199.998\n",
            "cache size\t: 56320 KB\n",
            "physical id\t: 0\n",
            "siblings\t: 4\n",
            "core id\t\t: 0\n",
            "cpu cores\t: 2\n",
            "apicid\t\t: 0\n",
            "initial apicid\t: 0\n",
            "fpu\t\t: yes\n",
            "fpu_exception\t: yes\n",
            "cpuid level\t: 13\n",
            "wp\t\t: yes\n",
            "flags\t\t: fpu vme de pse tsc msr pae mce cx8 apic sep mtrr pge mca cmov pat pse36 clflush mmx fxsr sse sse2 ss ht syscall nx pdpe1gb rdtscp lm constant_tsc rep_good nopl xtopology nonstop_tsc cpuid tsc_known_freq pni pclmulqdq ssse3 fma cx16 pcid sse4_1 sse4_2 x2apic movbe popcnt aes xsave avx f16c rdrand hypervisor lahf_lm abm 3dnowprefetch invpcid_single ssbd ibrs ibpb stibp fsgsbase tsc_adjust bmi1 hle avx2 smep bmi2 erms invpcid rtm rdseed adx smap xsaveopt arat md_clear arch_capabilities\n",
            "bugs\t\t: cpu_meltdown spectre_v1 spectre_v2 spec_store_bypass l1tf mds swapgs taa\n",
            "bogomips\t: 4399.99\n",
            "clflush size\t: 64\n",
            "cache_alignment\t: 64\n",
            "address sizes\t: 46 bits physical, 48 bits virtual\n",
            "power management:\n",
            "\n",
            "processor\t: 1\n",
            "vendor_id\t: GenuineIntel\n",
            "cpu family\t: 6\n",
            "model\t\t: 79\n",
            "model name\t: Intel(R) Xeon(R) CPU @ 2.20GHz\n",
            "stepping\t: 0\n",
            "microcode\t: 0x1\n",
            "cpu MHz\t\t: 2199.998\n",
            "cache size\t: 56320 KB\n",
            "physical id\t: 0\n",
            "siblings\t: 4\n",
            "core id\t\t: 1\n",
            "cpu cores\t: 2\n",
            "apicid\t\t: 2\n",
            "initial apicid\t: 2\n",
            "fpu\t\t: yes\n",
            "fpu_exception\t: yes\n",
            "cpuid level\t: 13\n",
            "wp\t\t: yes\n",
            "flags\t\t: fpu vme de pse tsc msr pae mce cx8 apic sep mtrr pge mca cmov pat pse36 clflush mmx fxsr sse sse2 ss ht syscall nx pdpe1gb rdtscp lm constant_tsc rep_good nopl xtopology nonstop_tsc cpuid tsc_known_freq pni pclmulqdq ssse3 fma cx16 pcid sse4_1 sse4_2 x2apic movbe popcnt aes xsave avx f16c rdrand hypervisor lahf_lm abm 3dnowprefetch invpcid_single ssbd ibrs ibpb stibp fsgsbase tsc_adjust bmi1 hle avx2 smep bmi2 erms invpcid rtm rdseed adx smap xsaveopt arat md_clear arch_capabilities\n",
            "bugs\t\t: cpu_meltdown spectre_v1 spectre_v2 spec_store_bypass l1tf mds swapgs taa\n",
            "bogomips\t: 4399.99\n",
            "clflush size\t: 64\n",
            "cache_alignment\t: 64\n",
            "address sizes\t: 46 bits physical, 48 bits virtual\n",
            "power management:\n",
            "\n",
            "processor\t: 2\n",
            "vendor_id\t: GenuineIntel\n",
            "cpu family\t: 6\n",
            "model\t\t: 79\n",
            "model name\t: Intel(R) Xeon(R) CPU @ 2.20GHz\n",
            "stepping\t: 0\n",
            "microcode\t: 0x1\n",
            "cpu MHz\t\t: 2199.998\n",
            "cache size\t: 56320 KB\n",
            "physical id\t: 0\n",
            "siblings\t: 4\n",
            "core id\t\t: 0\n",
            "cpu cores\t: 2\n",
            "apicid\t\t: 1\n",
            "initial apicid\t: 1\n",
            "fpu\t\t: yes\n",
            "fpu_exception\t: yes\n",
            "cpuid level\t: 13\n",
            "wp\t\t: yes\n",
            "flags\t\t: fpu vme de pse tsc msr pae mce cx8 apic sep mtrr pge mca cmov pat pse36 clflush mmx fxsr sse sse2 ss ht syscall nx pdpe1gb rdtscp lm constant_tsc rep_good nopl xtopology nonstop_tsc cpuid tsc_known_freq pni pclmulqdq ssse3 fma cx16 pcid sse4_1 sse4_2 x2apic movbe popcnt aes xsave avx f16c rdrand hypervisor lahf_lm abm 3dnowprefetch invpcid_single ssbd ibrs ibpb stibp fsgsbase tsc_adjust bmi1 hle avx2 smep bmi2 erms invpcid rtm rdseed adx smap xsaveopt arat md_clear arch_capabilities\n",
            "bugs\t\t: cpu_meltdown spectre_v1 spectre_v2 spec_store_bypass l1tf mds swapgs taa\n",
            "bogomips\t: 4399.99\n",
            "clflush size\t: 64\n",
            "cache_alignment\t: 64\n",
            "address sizes\t: 46 bits physical, 48 bits virtual\n",
            "power management:\n",
            "\n",
            "processor\t: 3\n",
            "vendor_id\t: GenuineIntel\n",
            "cpu family\t: 6\n",
            "model\t\t: 79\n",
            "model name\t: Intel(R) Xeon(R) CPU @ 2.20GHz\n",
            "stepping\t: 0\n",
            "microcode\t: 0x1\n",
            "cpu MHz\t\t: 2199.998\n",
            "cache size\t: 56320 KB\n",
            "physical id\t: 0\n",
            "siblings\t: 4\n",
            "core id\t\t: 1\n",
            "cpu cores\t: 2\n",
            "apicid\t\t: 3\n",
            "initial apicid\t: 3\n",
            "fpu\t\t: yes\n",
            "fpu_exception\t: yes\n",
            "cpuid level\t: 13\n",
            "wp\t\t: yes\n",
            "flags\t\t: fpu vme de pse tsc msr pae mce cx8 apic sep mtrr pge mca cmov pat pse36 clflush mmx fxsr sse sse2 ss ht syscall nx pdpe1gb rdtscp lm constant_tsc rep_good nopl xtopology nonstop_tsc cpuid tsc_known_freq pni pclmulqdq ssse3 fma cx16 pcid sse4_1 sse4_2 x2apic movbe popcnt aes xsave avx f16c rdrand hypervisor lahf_lm abm 3dnowprefetch invpcid_single ssbd ibrs ibpb stibp fsgsbase tsc_adjust bmi1 hle avx2 smep bmi2 erms invpcid rtm rdseed adx smap xsaveopt arat md_clear arch_capabilities\n",
            "bugs\t\t: cpu_meltdown spectre_v1 spectre_v2 spec_store_bypass l1tf mds swapgs taa\n",
            "bogomips\t: 4399.99\n",
            "clflush size\t: 64\n",
            "cache_alignment\t: 64\n",
            "address sizes\t: 46 bits physical, 48 bits virtual\n",
            "power management:\n",
            "\n",
            "Cloning into 'LightGBM'...\n",
            "remote: Enumerating objects: 21811, done.\u001b[K\n",
            "remote: Counting objects: 100% (555/555), done.\u001b[K\n",
            "remote: Compressing objects: 100% (340/340), done.\u001b[K\n",
            "remote: Total 21811 (delta 340), reused 349 (delta 204), pack-reused 21256\u001b[K\n",
            "Receiving objects: 100% (21811/21811), 17.20 MiB | 30.63 MiB/s, done.\n",
            "Resolving deltas: 100% (15908/15908), done.\n",
            "Submodule 'include/boost/compute' (https://github.com/boostorg/compute) registered for path 'external_libs/compute'\n",
            "Submodule 'eigen' (https://gitlab.com/libeigen/eigen.git) registered for path 'external_libs/eigen'\n",
            "Submodule 'external_libs/fast_double_parser' (https://github.com/lemire/fast_double_parser.git) registered for path 'external_libs/fast_double_parser'\n",
            "Submodule 'external_libs/fmt' (https://github.com/fmtlib/fmt.git) registered for path 'external_libs/fmt'\n",
            "Cloning into '/content/LightGBM/external_libs/compute'...\n",
            "remote: Enumerating objects: 21728, done.        \n",
            "remote: Total 21728 (delta 0), reused 0 (delta 0), pack-reused 21728        \n",
            "Receiving objects: 100% (21728/21728), 8.51 MiB | 17.60 MiB/s, done.\n",
            "Resolving deltas: 100% (17566/17566), done.\n",
            "Cloning into '/content/LightGBM/external_libs/eigen'...\n",
            "remote: Enumerating objects: 917, done.        \n",
            "remote: Counting objects: 100% (917/917), done.        \n",
            "remote: Compressing objects: 100% (338/338), done.        \n",
            "remote: Total 109551 (delta 710), reused 750 (delta 575), pack-reused 108634        \n",
            "Receiving objects: 100% (109551/109551), 101.73 MiB | 28.15 MiB/s, done.\n",
            "Resolving deltas: 100% (89977/89977), done.\n",
            "Cloning into '/content/LightGBM/external_libs/fast_double_parser'...\n",
            "remote: Enumerating objects: 675, done.        \n",
            "remote: Counting objects: 100% (175/175), done.        \n",
            "remote: Compressing objects: 100% (110/110), done.        \n",
            "remote: Total 675 (delta 86), reused 94 (delta 39), pack-reused 500        \n",
            "Receiving objects: 100% (675/675), 799.30 KiB | 9.40 MiB/s, done.\n",
            "Resolving deltas: 100% (340/340), done.\n",
            "Cloning into '/content/LightGBM/external_libs/fmt'...\n",
            "remote: Enumerating objects: 25317, done.        \n",
            "remote: Counting objects: 100% (489/489), done.        \n",
            "remote: Compressing objects: 100% (183/183), done.        \n",
            "remote: Total 25317 (delta 276), reused 402 (delta 252), pack-reused 24828        \n",
            "Receiving objects: 100% (25317/25317), 12.91 MiB | 28.07 MiB/s, done.\n",
            "Resolving deltas: 100% (17087/17087), done.\n",
            "Submodule path 'external_libs/compute': checked out '36c89134d4013b2e5e45bc55656a18bd6141995a'\n",
            "Submodule path 'external_libs/eigen': checked out '8ba1b0f41a7950dc3e1d4ed75859e36c73311235'\n",
            "Submodule path 'external_libs/fast_double_parser': checked out 'ace60646c02dc54c57f19d644e49a61e7e7758ec'\n",
            "Submodule 'benchmark/dependencies/abseil-cpp' (https://github.com/abseil/abseil-cpp.git) registered for path 'external_libs/fast_double_parser/benchmarks/dependencies/abseil-cpp'\n",
            "Submodule 'benchmark/dependencies/double-conversion' (https://github.com/google/double-conversion.git) registered for path 'external_libs/fast_double_parser/benchmarks/dependencies/double-conversion'\n",
            "Cloning into '/content/LightGBM/external_libs/fast_double_parser/benchmarks/dependencies/abseil-cpp'...\n",
            "remote: Enumerating objects: 14383, done.        \n",
            "remote: Counting objects: 100% (318/318), done.        \n",
            "remote: Compressing objects: 100% (201/201), done.        \n",
            "remote: Total 14383 (delta 167), reused 247 (delta 117), pack-reused 14065\n",
            "Receiving objects: 100% (14383/14383), 9.50 MiB | 21.66 MiB/s, done.\n",
            "Resolving deltas: 100% (10908/10908), done.\n",
            "Cloning into '/content/LightGBM/external_libs/fast_double_parser/benchmarks/dependencies/double-conversion'...\n",
            "remote: Enumerating objects: 1220, done.        \n",
            "remote: Counting objects: 100% (64/64), done.        \n",
            "remote: Compressing objects: 100% (41/41), done.        \n",
            "remote: Total 1220 (delta 35), reused 40 (delta 23), pack-reused 1156        \n",
            "Receiving objects: 100% (1220/1220), 7.08 MiB | 22.03 MiB/s, done.\n",
            "Resolving deltas: 100% (807/807), done.\n",
            "Submodule path 'external_libs/fast_double_parser/benchmarks/dependencies/abseil-cpp': checked out 'd936052d32a5b7ca08b0199a6724724aea432309'\n",
            "Submodule path 'external_libs/fast_double_parser/benchmarks/dependencies/double-conversion': checked out 'f4cb2384efa55dee0e6652f8674b05763441ab09'\n",
            "Submodule path 'external_libs/fmt': checked out 'cc09f1a6798c085c325569ef466bcdcffdc266d4'\n",
            "-- The C compiler identification is GNU 7.5.0\n",
            "-- The CXX compiler identification is GNU 7.5.0\n",
            "-- Check for working C compiler: /usr/bin/cc\n",
            "-- Check for working C compiler: /usr/bin/cc -- works\n",
            "-- Detecting C compiler ABI info\n",
            "-- Detecting C compiler ABI info - done\n",
            "-- Detecting C compile features\n",
            "-- Detecting C compile features - done\n",
            "-- Check for working CXX compiler: /usr/bin/c++\n",
            "-- Check for working CXX compiler: /usr/bin/c++ -- works\n",
            "-- Detecting CXX compiler ABI info\n",
            "-- Detecting CXX compiler ABI info - done\n",
            "-- Detecting CXX compile features\n",
            "-- Detecting CXX compile features - done\n",
            "-- Found OpenMP_C: -fopenmp (found version \"4.5\") \n",
            "-- Found OpenMP_CXX: -fopenmp (found version \"4.5\") \n",
            "-- Found OpenMP: TRUE (found version \"4.5\")  \n",
            "-- Looking for CL_VERSION_2_2\n",
            "-- Looking for CL_VERSION_2_2 - found\n",
            "-- Found OpenCL: /usr/lib/x86_64-linux-gnu/libOpenCL.so (found version \"2.2\") \n",
            "-- OpenCL include directory: /usr/include\n",
            "-- Boost version: 1.65.1\n",
            "-- Found the following Boost libraries:\n",
            "--   filesystem\n",
            "--   system\n",
            "-- Performing Test MM_PREFETCH\n",
            "-- Performing Test MM_PREFETCH - Success\n",
            "-- Using _mm_prefetch\n",
            "-- Performing Test MM_MALLOC\n",
            "-- Performing Test MM_MALLOC - Success\n",
            "-- Using _mm_malloc\n",
            "-- Configuring done\n",
            "-- Generating done\n",
            "-- Build files have been written to: /content/LightGBM/build\n",
            "\u001b[35m\u001b[1mScanning dependencies of target _lightgbm\u001b[0m\n",
            "\u001b[35m\u001b[1mScanning dependencies of target lightgbm\u001b[0m\n",
            "[  1%] \u001b[32mBuilding CXX object CMakeFiles/lightgbm.dir/src/main.cpp.o\u001b[0m\n",
            "[  2%] \u001b[32mBuilding CXX object CMakeFiles/lightgbm.dir/src/application/application.cpp.o\u001b[0m\n",
            "[  5%] \u001b[32mBuilding CXX object CMakeFiles/_lightgbm.dir/src/boosting/boosting.cpp.o\u001b[0m\n",
            "[  5%] \u001b[32mBuilding CXX object CMakeFiles/_lightgbm.dir/src/boosting/gbdt.cpp.o\u001b[0m\n",
            "[  7%] \u001b[32mBuilding CXX object CMakeFiles/_lightgbm.dir/src/boosting/gbdt_model_text.cpp.o\u001b[0m\n",
            "[  8%] \u001b[32mBuilding CXX object CMakeFiles/lightgbm.dir/src/boosting/boosting.cpp.o\u001b[0m\n",
            "[ 10%] \u001b[32mBuilding CXX object CMakeFiles/_lightgbm.dir/src/boosting/gbdt_prediction.cpp.o\u001b[0m\n",
            "[ 11%] \u001b[32mBuilding CXX object CMakeFiles/_lightgbm.dir/src/boosting/prediction_early_stop.cpp.o\u001b[0m\n",
            "[ 13%] \u001b[32mBuilding CXX object CMakeFiles/_lightgbm.dir/src/io/bin.cpp.o\u001b[0m\n",
            "[ 14%] \u001b[32mBuilding CXX object CMakeFiles/_lightgbm.dir/src/io/config.cpp.o\u001b[0m\n",
            "[ 15%] \u001b[32mBuilding CXX object CMakeFiles/_lightgbm.dir/src/io/config_auto.cpp.o\u001b[0m\n",
            "[ 17%] \u001b[32mBuilding CXX object CMakeFiles/_lightgbm.dir/src/io/dataset.cpp.o\u001b[0m\n",
            "[ 18%] \u001b[32mBuilding CXX object CMakeFiles/lightgbm.dir/src/boosting/gbdt.cpp.o\u001b[0m\n",
            "[ 20%] \u001b[32mBuilding CXX object CMakeFiles/_lightgbm.dir/src/io/dataset_loader.cpp.o\u001b[0m\n",
            "[ 21%] \u001b[32mBuilding CXX object CMakeFiles/lightgbm.dir/src/boosting/gbdt_model_text.cpp.o\u001b[0m\n",
            "[ 23%] \u001b[32mBuilding CXX object CMakeFiles/_lightgbm.dir/src/io/file_io.cpp.o\u001b[0m\n",
            "[ 24%] \u001b[32mBuilding CXX object CMakeFiles/_lightgbm.dir/src/io/json11.cpp.o\u001b[0m\n",
            "[ 26%] \u001b[32mBuilding CXX object CMakeFiles/_lightgbm.dir/src/io/metadata.cpp.o\u001b[0m\n",
            "[ 27%] \u001b[32mBuilding CXX object CMakeFiles/_lightgbm.dir/src/io/parser.cpp.o\u001b[0m\n",
            "[ 28%] \u001b[32mBuilding CXX object CMakeFiles/lightgbm.dir/src/boosting/gbdt_prediction.cpp.o\u001b[0m\n",
            "[ 30%] \u001b[32mBuilding CXX object CMakeFiles/_lightgbm.dir/src/io/train_share_states.cpp.o\u001b[0m\n",
            "[ 31%] \u001b[32mBuilding CXX object CMakeFiles/_lightgbm.dir/src/io/tree.cpp.o\u001b[0m\n",
            "[ 33%] \u001b[32mBuilding CXX object CMakeFiles/lightgbm.dir/src/boosting/prediction_early_stop.cpp.o\u001b[0m\n",
            "[ 34%] \u001b[32mBuilding CXX object CMakeFiles/_lightgbm.dir/src/metric/dcg_calculator.cpp.o\u001b[0m\n",
            "[ 36%] \u001b[32mBuilding CXX object CMakeFiles/lightgbm.dir/src/io/bin.cpp.o\u001b[0m\n",
            "[ 37%] \u001b[32mBuilding CXX object CMakeFiles/lightgbm.dir/src/io/config.cpp.o\u001b[0m\n",
            "[ 39%] \u001b[32mBuilding CXX object CMakeFiles/_lightgbm.dir/src/metric/metric.cpp.o\u001b[0m\n",
            "[ 40%] \u001b[32mBuilding CXX object CMakeFiles/lightgbm.dir/src/io/config_auto.cpp.o\u001b[0m\n",
            "[ 42%] \u001b[32mBuilding CXX object CMakeFiles/_lightgbm.dir/src/network/ifaddrs_patch.cpp.o\u001b[0m\n",
            "[ 43%] \u001b[32mBuilding CXX object CMakeFiles/_lightgbm.dir/src/network/linker_topo.cpp.o\u001b[0m\n",
            "[ 44%] \u001b[32mBuilding CXX object CMakeFiles/lightgbm.dir/src/io/dataset.cpp.o\u001b[0m\n",
            "[ 46%] \u001b[32mBuilding CXX object CMakeFiles/_lightgbm.dir/src/network/linkers_mpi.cpp.o\u001b[0m\n",
            "[ 47%] \u001b[32mBuilding CXX object CMakeFiles/_lightgbm.dir/src/network/linkers_socket.cpp.o\u001b[0m\n",
            "[ 49%] \u001b[32mBuilding CXX object CMakeFiles/_lightgbm.dir/src/network/network.cpp.o\u001b[0m\n",
            "[ 50%] \u001b[32mBuilding CXX object CMakeFiles/_lightgbm.dir/src/objective/objective_function.cpp.o\u001b[0m\n",
            "[ 52%] \u001b[32mBuilding CXX object CMakeFiles/_lightgbm.dir/src/treelearner/cuda_tree_learner.cpp.o\u001b[0m\n",
            "[ 53%] \u001b[32mBuilding CXX object CMakeFiles/_lightgbm.dir/src/treelearner/data_parallel_tree_learner.cpp.o\u001b[0m\n",
            "[ 55%] \u001b[32mBuilding CXX object CMakeFiles/lightgbm.dir/src/io/dataset_loader.cpp.o\u001b[0m\n",
            "[ 56%] \u001b[32mBuilding CXX object CMakeFiles/lightgbm.dir/src/io/file_io.cpp.o\u001b[0m\n",
            "[ 57%] \u001b[32mBuilding CXX object CMakeFiles/lightgbm.dir/src/io/json11.cpp.o\u001b[0m\n",
            "[ 59%] \u001b[32mBuilding CXX object CMakeFiles/_lightgbm.dir/src/treelearner/feature_parallel_tree_learner.cpp.o\u001b[0m\n",
            "[ 60%] \u001b[32mBuilding CXX object CMakeFiles/lightgbm.dir/src/io/metadata.cpp.o\u001b[0m\n",
            "[ 62%] \u001b[32mBuilding CXX object CMakeFiles/lightgbm.dir/src/io/parser.cpp.o\u001b[0m\n",
            "[ 63%] \u001b[32mBuilding CXX object CMakeFiles/_lightgbm.dir/src/treelearner/gpu_tree_learner.cpp.o\u001b[0m\n",
            "[ 65%] \u001b[32mBuilding CXX object CMakeFiles/lightgbm.dir/src/io/train_share_states.cpp.o\u001b[0m\n",
            "[ 66%] \u001b[32mBuilding CXX object CMakeFiles/lightgbm.dir/src/io/tree.cpp.o\u001b[0m\n",
            "[ 68%] \u001b[32mBuilding CXX object CMakeFiles/lightgbm.dir/src/metric/dcg_calculator.cpp.o\u001b[0m\n",
            "[ 69%] \u001b[32mBuilding CXX object CMakeFiles/lightgbm.dir/src/metric/metric.cpp.o\u001b[0m\n",
            "[ 71%] \u001b[32mBuilding CXX object CMakeFiles/_lightgbm.dir/src/treelearner/linear_tree_learner.cpp.o\u001b[0m\n",
            "[ 72%] \u001b[32mBuilding CXX object CMakeFiles/lightgbm.dir/src/network/ifaddrs_patch.cpp.o\u001b[0m\n",
            "[ 73%] \u001b[32mBuilding CXX object CMakeFiles/lightgbm.dir/src/network/linker_topo.cpp.o\u001b[0m\n",
            "[ 75%] \u001b[32mBuilding CXX object CMakeFiles/lightgbm.dir/src/network/linkers_mpi.cpp.o\u001b[0m\n",
            "[ 76%] \u001b[32mBuilding CXX object CMakeFiles/lightgbm.dir/src/network/linkers_socket.cpp.o\u001b[0m\n",
            "[ 78%] \u001b[32mBuilding CXX object CMakeFiles/lightgbm.dir/src/network/network.cpp.o\u001b[0m\n",
            "[ 79%] \u001b[32mBuilding CXX object CMakeFiles/_lightgbm.dir/src/treelearner/serial_tree_learner.cpp.o\u001b[0m\n",
            "[ 81%] \u001b[32mBuilding CXX object CMakeFiles/lightgbm.dir/src/objective/objective_function.cpp.o\u001b[0m\n",
            "[ 82%] \u001b[32mBuilding CXX object CMakeFiles/lightgbm.dir/src/treelearner/cuda_tree_learner.cpp.o\u001b[0m\n",
            "[ 84%] \u001b[32mBuilding CXX object CMakeFiles/lightgbm.dir/src/treelearner/data_parallel_tree_learner.cpp.o\u001b[0m\n",
            "[ 85%] \u001b[32mBuilding CXX object CMakeFiles/_lightgbm.dir/src/treelearner/tree_learner.cpp.o\u001b[0m\n",
            "[ 86%] \u001b[32mBuilding CXX object CMakeFiles/lightgbm.dir/src/treelearner/feature_parallel_tree_learner.cpp.o\u001b[0m\n",
            "[ 88%] \u001b[32mBuilding CXX object CMakeFiles/lightgbm.dir/src/treelearner/gpu_tree_learner.cpp.o\u001b[0m\n",
            "[ 89%] \u001b[32mBuilding CXX object CMakeFiles/_lightgbm.dir/src/treelearner/voting_parallel_tree_learner.cpp.o\u001b[0m\n",
            "[ 91%] \u001b[32mBuilding CXX object CMakeFiles/lightgbm.dir/src/treelearner/linear_tree_learner.cpp.o\u001b[0m\n",
            "[ 92%] \u001b[32mBuilding CXX object CMakeFiles/lightgbm.dir/src/treelearner/serial_tree_learner.cpp.o\u001b[0m\n",
            "[ 94%] \u001b[32mBuilding CXX object CMakeFiles/_lightgbm.dir/src/c_api.cpp.o\u001b[0m\n",
            "[ 95%] \u001b[32mBuilding CXX object CMakeFiles/lightgbm.dir/src/treelearner/tree_learner.cpp.o\u001b[0m\n",
            "[ 97%] \u001b[32mBuilding CXX object CMakeFiles/lightgbm.dir/src/treelearner/voting_parallel_tree_learner.cpp.o\u001b[0m\n",
            "[ 98%] \u001b[32m\u001b[1mLinking CXX shared library ../lib_lightgbm.so\u001b[0m\n",
            "[ 98%] Built target _lightgbm\n",
            "[100%] \u001b[32m\u001b[1mLinking CXX executable ../lightgbm\u001b[0m\n",
            "[100%] Built target lightgbm\n",
            "running install\n",
            "running build\n",
            "running build_py\n",
            "INFO:root:Generating grammar tables from /usr/lib/python3.7/lib2to3/Grammar.txt\n",
            "INFO:root:Generating grammar tables from /usr/lib/python3.7/lib2to3/PatternGrammar.txt\n",
            "creating build\n",
            "creating build/lib\n",
            "creating build/lib/lightgbm\n",
            "copying lightgbm/libpath.py -> build/lib/lightgbm\n",
            "copying lightgbm/engine.py -> build/lib/lightgbm\n",
            "copying lightgbm/sklearn.py -> build/lib/lightgbm\n",
            "copying lightgbm/compat.py -> build/lib/lightgbm\n",
            "copying lightgbm/callback.py -> build/lib/lightgbm\n",
            "copying lightgbm/dask.py -> build/lib/lightgbm\n",
            "copying lightgbm/basic.py -> build/lib/lightgbm\n",
            "copying lightgbm/__init__.py -> build/lib/lightgbm\n",
            "copying lightgbm/plotting.py -> build/lib/lightgbm\n",
            "running egg_info\n",
            "creating lightgbm.egg-info\n",
            "writing lightgbm.egg-info/PKG-INFO\n",
            "writing dependency_links to lightgbm.egg-info/dependency_links.txt\n",
            "writing requirements to lightgbm.egg-info/requires.txt\n",
            "writing top-level names to lightgbm.egg-info/top_level.txt\n",
            "writing manifest file 'lightgbm.egg-info/SOURCES.txt'\n",
            "reading manifest template 'MANIFEST.in'\n",
            "no previously-included directories found matching 'build'\n",
            "warning: no files found matching 'LICENSE'\n",
            "warning: no files found matching '*.txt'\n",
            "warning: no files found matching '*.so' under directory 'lightgbm'\n",
            "warning: no files found matching 'compile/CMakeLists.txt'\n",
            "warning: no files found matching 'compile/cmake/IntegratedOpenCL.cmake'\n",
            "warning: no files found matching '*.so' under directory 'compile'\n",
            "warning: no files found matching '*.dll' under directory 'compile/Release'\n",
            "warning: no files found matching 'compile/external_libs/compute/CMakeLists.txt'\n",
            "warning: no files found matching '*' under directory 'compile/external_libs/compute/cmake'\n",
            "warning: no files found matching '*' under directory 'compile/external_libs/compute/include'\n",
            "warning: no files found matching '*' under directory 'compile/external_libs/compute/meta'\n",
            "warning: no files found matching 'compile/external_libs/eigen/CMakeLists.txt'\n",
            "warning: no files found matching 'compile/external_libs/eigen/Eigen/Cholesky'\n",
            "warning: no files found matching 'compile/external_libs/eigen/Eigen/Core'\n",
            "warning: no files found matching 'compile/external_libs/eigen/Eigen/Dense'\n",
            "warning: no files found matching 'compile/external_libs/eigen/Eigen/Eigenvalues'\n",
            "warning: no files found matching 'compile/external_libs/eigen/Eigen/Geometry'\n",
            "warning: no files found matching 'compile/external_libs/eigen/Eigen/Householder'\n",
            "warning: no files found matching 'compile/external_libs/eigen/Eigen/Jacobi'\n",
            "warning: no files found matching 'compile/external_libs/eigen/Eigen/LU'\n",
            "warning: no files found matching 'compile/external_libs/eigen/Eigen/QR'\n",
            "warning: no files found matching 'compile/external_libs/eigen/Eigen/SVD'\n",
            "warning: no files found matching '*' under directory 'compile/external_libs/eigen/Eigen/src/Cholesky'\n",
            "warning: no files found matching '*' under directory 'compile/external_libs/eigen/Eigen/src/Core'\n",
            "warning: no files found matching '*' under directory 'compile/external_libs/eigen/Eigen/src/Eigenvalues'\n",
            "warning: no files found matching '*' under directory 'compile/external_libs/eigen/Eigen/src/Geometry'\n",
            "warning: no files found matching '*' under directory 'compile/external_libs/eigen/Eigen/src/Householder'\n",
            "warning: no files found matching '*' under directory 'compile/external_libs/eigen/Eigen/src/Jacobi'\n",
            "warning: no files found matching '*' under directory 'compile/external_libs/eigen/Eigen/src/LU'\n",
            "warning: no files found matching '*' under directory 'compile/external_libs/eigen/Eigen/src/misc'\n",
            "warning: no files found matching '*' under directory 'compile/external_libs/eigen/Eigen/src/plugins'\n",
            "warning: no files found matching '*' under directory 'compile/external_libs/eigen/Eigen/src/QR'\n",
            "warning: no files found matching '*' under directory 'compile/external_libs/eigen/Eigen/src/SVD'\n",
            "warning: no files found matching 'compile/external_libs/fast_double_parser/CMakeLists.txt'\n",
            "warning: no files found matching 'compile/external_libs/fast_double_parser/LICENSE'\n",
            "warning: no files found matching 'compile/external_libs/fast_double_parser/LICENSE.BSL'\n",
            "warning: no files found matching '*' under directory 'compile/external_libs/fast_double_parser/include'\n",
            "warning: no files found matching 'compile/external_libs/fmt/CMakeLists.txt'\n",
            "warning: no files found matching 'compile/external_libs/fmt/LICENSE.rst'\n",
            "warning: no files found matching '*' under directory 'compile/external_libs/fmt/include'\n",
            "warning: no files found matching '*' under directory 'compile/include'\n",
            "warning: no files found matching '*' under directory 'compile/src'\n",
            "warning: no files found matching 'LightGBM.sln' under directory 'compile/windows'\n",
            "warning: no files found matching 'LightGBM.vcxproj' under directory 'compile/windows'\n",
            "warning: no files found matching '*.dll' under directory 'compile/windows/x64/DLL'\n",
            "warning: no previously-included files matching '*.py[co]' found anywhere in distribution\n",
            "warning: no previously-included files found matching 'compile/external_libs/compute/.git'\n",
            "writing manifest file 'lightgbm.egg-info/SOURCES.txt'\n",
            "copying lightgbm/VERSION.txt -> build/lib/lightgbm\n",
            "running install_lib\n",
            "copying build/lib/lightgbm/libpath.py -> /usr/local/lib/python3.7/dist-packages/lightgbm\n",
            "copying build/lib/lightgbm/VERSION.txt -> /usr/local/lib/python3.7/dist-packages/lightgbm\n",
            "copying build/lib/lightgbm/engine.py -> /usr/local/lib/python3.7/dist-packages/lightgbm\n",
            "copying build/lib/lightgbm/sklearn.py -> /usr/local/lib/python3.7/dist-packages/lightgbm\n",
            "copying build/lib/lightgbm/compat.py -> /usr/local/lib/python3.7/dist-packages/lightgbm\n",
            "copying build/lib/lightgbm/callback.py -> /usr/local/lib/python3.7/dist-packages/lightgbm\n",
            "copying build/lib/lightgbm/dask.py -> /usr/local/lib/python3.7/dist-packages/lightgbm\n",
            "copying build/lib/lightgbm/basic.py -> /usr/local/lib/python3.7/dist-packages/lightgbm\n",
            "copying build/lib/lightgbm/__init__.py -> /usr/local/lib/python3.7/dist-packages/lightgbm\n",
            "copying build/lib/lightgbm/plotting.py -> /usr/local/lib/python3.7/dist-packages/lightgbm\n",
            "INFO:LightGBM:Installing lib_lightgbm from: ['../lib_lightgbm.so']\n",
            "copying ../lib_lightgbm.so -> /usr/local/lib/python3.7/dist-packages/lightgbm\n",
            "byte-compiling /usr/local/lib/python3.7/dist-packages/lightgbm/libpath.py to libpath.cpython-37.pyc\n",
            "byte-compiling /usr/local/lib/python3.7/dist-packages/lightgbm/engine.py to engine.cpython-37.pyc\n",
            "byte-compiling /usr/local/lib/python3.7/dist-packages/lightgbm/sklearn.py to sklearn.cpython-37.pyc\n",
            "byte-compiling /usr/local/lib/python3.7/dist-packages/lightgbm/compat.py to compat.cpython-37.pyc\n",
            "byte-compiling /usr/local/lib/python3.7/dist-packages/lightgbm/callback.py to callback.cpython-37.pyc\n",
            "byte-compiling /usr/local/lib/python3.7/dist-packages/lightgbm/dask.py to dask.cpython-37.pyc\n",
            "byte-compiling /usr/local/lib/python3.7/dist-packages/lightgbm/basic.py to basic.cpython-37.pyc\n",
            "byte-compiling /usr/local/lib/python3.7/dist-packages/lightgbm/__init__.py to __init__.cpython-37.pyc\n",
            "byte-compiling /usr/local/lib/python3.7/dist-packages/lightgbm/plotting.py to plotting.cpython-37.pyc\n",
            "running install_egg_info\n",
            "Copying lightgbm.egg-info to /usr/local/lib/python3.7/dist-packages/lightgbm-3.2.1.99-py3.7.egg-info\n",
            "running install_scripts\n"
          ],
          "name": "stdout"
        }
      ]
    },
    {
      "cell_type": "code",
      "metadata": {
        "colab": {
          "base_uri": "https://localhost:8080/"
        },
        "id": "qPtFVf2J6lGP",
        "outputId": "3fee5ef5-0316-44e0-d7aa-9e789ae24a8f"
      },
      "source": [
        "!cp /content/drive/MyDrive/filtered.zip filtered.zip\n",
        "!unzip /content/drive/MyDrive/filtered.zip"
      ],
      "execution_count": 3,
      "outputs": [
        {
          "output_type": "stream",
          "text": [
            "Archive:  /content/drive/MyDrive/filtered.zip\n",
            "  inflating: filtered/5d2709d403f801723c32bd39_test_filtered.csv  \n",
            "  inflating: filtered/5d27099f03f801723c32511d_test_filtered.csv  \n",
            "  inflating: filtered/5d27099f03f801723c32511d_train_filtered.csv  \n",
            "  inflating: filtered/5d2709d403f801723c32bd39_train_filtered.csv  \n",
            "  inflating: filtered/5d27097f03f801723c320d97_test_filtered.csv  \n",
            "  inflating: filtered/5d27096c03f801723c31e5e0_test_filtered.csv  \n",
            "  inflating: filtered/5d27097f03f801723c320d97_train_filtered.csv  \n",
            "  inflating: filtered/5d27096c03f801723c31e5e0_train_filtered.csv  \n",
            "  inflating: filtered/5d2709bb03f801723c32852c_test_filtered.csv  \n",
            "  inflating: filtered/5cd56b5ae2acfd2d33b5854a_test_filtered.csv  \n",
            "  inflating: filtered/5d2709c303f801723c3299ee_test_filtered.csv  \n",
            "  inflating: filtered/5d2709b303f801723c327472_test_filtered.csv  \n",
            "  inflating: filtered/5d2709c303f801723c3299ee_train_filtered.csv  \n",
            "  inflating: filtered/5cd56b5ae2acfd2d33b5854a_train_filtered.csv  \n",
            "  inflating: filtered/5cd56b5ae2acfd2d33b58548_test_filtered.csv  \n",
            "  inflating: filtered/5cd56b5ae2acfd2d33b58548_train_filtered.csv  \n",
            "  inflating: filtered/5d2709a003f801723c3251bf_train_filtered.csv  \n",
            "  inflating: filtered/5cd56b5ae2acfd2d33b58544_train_filtered.csv  \n",
            "  inflating: filtered/5d2709b303f801723c327472_train_filtered.csv  \n",
            "  inflating: filtered/5cd56b5ae2acfd2d33b58546_test_filtered.csv  \n",
            "  inflating: filtered/5cd56b5ae2acfd2d33b58549_test_filtered.csv  \n",
            "  inflating: filtered/5d2709a003f801723c3251bf_test_filtered.csv  \n",
            "  inflating: filtered/5cd56b5ae2acfd2d33b58544_test_filtered.csv  \n",
            "  inflating: filtered/5d2709bb03f801723c32852c_train_filtered.csv  \n",
            "  inflating: filtered/5cd56b5ae2acfd2d33b58546_train_filtered.csv  \n",
            "  inflating: filtered/5cd56b5ae2acfd2d33b58549_train_filtered.csv  \n",
            "  inflating: filtered/5d27075f03f801723c2e360f_test_filtered.csv  \n",
            "  inflating: filtered/5d27075f03f801723c2e360f_train_filtered.csv  \n"
          ],
          "name": "stdout"
        }
      ]
    },
    {
      "cell_type": "code",
      "metadata": {
        "id": "8hZivnom6kr2"
      },
      "source": [
        ""
      ],
      "execution_count": null,
      "outputs": []
    },
    {
      "cell_type": "code",
      "metadata": {
        "id": "bFKsnitz-hOx",
        "colab": {
          "base_uri": "https://localhost:8080/"
        },
        "outputId": "557fe90b-11d7-431f-fa7f-7ad81b8a1593"
      },
      "source": [
        "import numpy as np\n",
        "import pandas as pd\n",
        "import scipy.stats as stats\n",
        "from pathlib import Path\n",
        "import glob\n",
        "\n",
        "from sklearn.model_selection import KFold\n",
        "import lightgbm as lgb\n",
        "\n",
        "import psutil\n",
        "import random\n",
        "import os\n",
        "import time\n",
        "import sys\n",
        "import math\n",
        "from contextlib import contextmanager\n",
        "\n",
        "\n",
        "N_SPLITS = 10\n",
        "SEED = 42\n",
        "\n",
        "@contextmanager\n",
        "def timer(name: str):\n",
        "    t0 = time.time()\n",
        "    p = psutil.Process(os.getpid())\n",
        "    m0 = p.memory_info()[0] / 2. ** 30\n",
        "    try:\n",
        "        yield\n",
        "    finally:\n",
        "        m1 = p.memory_info()[0] / 2. ** 30\n",
        "        delta = m1 - m0\n",
        "        sign = '+' if delta >= 0 else '-'\n",
        "        delta = math.fabs(delta)\n",
        "        print(f\"[{m1:.1f}GB({sign}{delta:.1f}GB): {time.time() - t0:.3f}sec] {name}\", file=sys.stderr)\n",
        "\n",
        "\n",
        "def set_seed(seed=42):\n",
        "    random.seed(seed)\n",
        "    os.environ[\"PYTHONHASHSEED\"] = str(seed)\n",
        "    np.random.seed(seed)\n",
        "    \n",
        "def comp_metric(xhat, yhat, fhat, x, y, f):\n",
        "    intermediate = np.sqrt(np.power(xhat-x, 2) + np.power(yhat-y, 2)) + 15 * np.abs(fhat-f)\n",
        "    return intermediate.sum()/xhat.shape[0]\n",
        "\n",
        "\n",
        "\n",
        "\n",
        "\n",
        "set_seed(SEED)\n",
        "\n",
        "feature_dir = './*/'\n",
        "train_files = sorted(glob.glob(os.path.join(feature_dir, '*_train_filtered.csv')))\n",
        "test_files = sorted(glob.glob(os.path.join(feature_dir, '*_test_filtered.csv')))\n",
        "\n",
        "#parameters for the three LightGBM models\n",
        "lgb_params = {'objective': 'root_mean_squared_error',\n",
        "              'boosting_type': 'gbdt',\n",
        "              'n_estimators': 50000,\n",
        "              'learning_rate': 0.04,\n",
        "              'num_leaves': 90,\n",
        "              'device': 'gpu',\n",
        "              'colsample_bytree': 0.4,\n",
        "              'subsample': 0.6,\n",
        "              'subsample_freq': 2,\n",
        "              'bagging_seed': SEED,\n",
        "              'reg_alpha': 4,\n",
        "              'reg_lambda': 2,\n",
        "              'random_state': SEED,\n",
        "              'n_jobs': -1\n",
        "              }\n",
        "\n",
        "lgb_f_params = {'objective': 'multiclass',\n",
        "                'boosting_type': 'gbdt',\n",
        "                'n_estimators': 50000,\n",
        "                'learning_rate': 0.04,\n",
        "                'num_leaves': 90,\n",
        "                'device': 'gpu',\n",
        "                'colsample_bytree': 0.4,\n",
        "                'subsample': 0.6,\n",
        "                'subsample_freq': 2,\n",
        "                'bagging_seed': SEED,\n",
        "                'reg_alpha': 2,\n",
        "                'reg_lambda': 2,\n",
        "                'random_state': SEED,\n",
        "                'n_jobs': -1\n",
        "                }"
      ],
      "execution_count": 6,
      "outputs": [
        {
          "output_type": "stream",
          "text": [
            "['./filtered/5cd56b5ae2acfd2d33b58544_train_filtered.csv', './filtered/5cd56b5ae2acfd2d33b58546_train_filtered.csv', './filtered/5cd56b5ae2acfd2d33b58548_train_filtered.csv', './filtered/5cd56b5ae2acfd2d33b58549_train_filtered.csv', './filtered/5cd56b5ae2acfd2d33b5854a_train_filtered.csv', './filtered/5d27075f03f801723c2e360f_train_filtered.csv', './filtered/5d27096c03f801723c31e5e0_train_filtered.csv', './filtered/5d27097f03f801723c320d97_train_filtered.csv', './filtered/5d27099f03f801723c32511d_train_filtered.csv', './filtered/5d2709a003f801723c3251bf_train_filtered.csv', './filtered/5d2709b303f801723c327472_train_filtered.csv', './filtered/5d2709bb03f801723c32852c_train_filtered.csv', './filtered/5d2709c303f801723c3299ee_train_filtered.csv', './filtered/5d2709d403f801723c32bd39_train_filtered.csv']\n"
          ],
          "name": "stdout"
        }
      ]
    },
    {
      "cell_type": "markdown",
      "metadata": {
        "id": "5aHThFmXqdWh"
      },
      "source": [
        "# Calculate all data"
      ]
    },
    {
      "cell_type": "code",
      "metadata": {
        "id": "fU_ag5yp_qEw",
        "colab": {
          "base_uri": "https://localhost:8080/"
        },
        "outputId": "c9d4a42f-4f90-4b64-afab-c2d73c901adb"
      },
      "source": [
        "from sklearn.metrics import mean_squared_error\n",
        "\n",
        "score_df = pd.DataFrame()\n",
        "oof = list()\n",
        "predictions = list()\n",
        "for n_files, file in enumerate(train_files):\n",
        "    data = pd.read_csv(file, index_col=0)\n",
        "    \n",
        "    test_data = pd.read_csv(test_files[n_files], index_col=0)\n",
        "\n",
        "    oof_x, oof_y, oof_f = np.zeros(data.shape[0]), np.zeros(data.shape[0]), np.zeros(data.shape[0])\n",
        "    # oof_x, oof_y, oof_f is the np.zeros to store X, Y and Floor result\n",
        "    preds_x, preds_y = 0, 0\n",
        "    preds_f_arr = np.zeros((test_data.shape[0], N_SPLITS))\n",
        "    print(\"Starting to train: \", os.path.basename(file))\n",
        "    kf = KFold(n_splits=N_SPLITS, shuffle=True, random_state=SEED)\n",
        "    for fold, (trn_idx, val_idx) in enumerate(kf.split(data.iloc[:, :-6])):\n",
        "        X_train = data.iloc[trn_idx, :-6] # All wifi signal info\n",
        "        y_trainx = data.iloc[trn_idx, -6] # the location X to be predicted\n",
        "        y_trainy = data.iloc[trn_idx, -5] # the location Y to be predicted\n",
        "        y_trainf = data.iloc[trn_idx, -4] # the location's floor\n",
        "\n",
        "        X_valid = data.iloc[val_idx, :-6] # All wifi signal info in KFold validation dataset\n",
        "        y_validx = data.iloc[val_idx, -6] # the location X to be predicted in KFold validation dataset\n",
        "        y_validy = data.iloc[val_idx, -5] # the location Y to be predicted in KFold validation dataset\n",
        "        y_validf = data.iloc[val_idx, -4] # the location's floor in KFold validation dataset\n",
        "\n",
        "        modelx = lgb.LGBMRegressor(**lgb_params) #Model selected, which is LightGBM\n",
        "        with timer(\"fit X\"):\n",
        "            modelx.fit(X_train, y_trainx,\n",
        "                       eval_set=[(X_valid, y_validx)],\n",
        "                       eval_metric='rmse',\n",
        "                       verbose=False,\n",
        "                       early_stopping_rounds=20\n",
        "                       ) #Model 1, used to predit X location only\n",
        "\n",
        "        modely = lgb.LGBMRegressor(**lgb_params)\n",
        "        with timer(\"fit Y\"):\n",
        "            modely.fit(X_train, y_trainy,\n",
        "                       eval_set=[(X_valid, y_validy)],\n",
        "                       eval_metric='rmse',\n",
        "                       verbose=False,\n",
        "                       early_stopping_rounds=20\n",
        "                       ) #Model 2, used to predit Y location only\n",
        "\n",
        "        modelf = lgb.LGBMClassifier(**lgb_f_params)\n",
        "        with timer(\"fit F\"):\n",
        "            modelf.fit(X_train, y_trainf,\n",
        "                       eval_set=[(X_valid, y_validf)],\n",
        "                       eval_metric='multi_logloss',\n",
        "                       verbose=False,\n",
        "                       early_stopping_rounds=20\n",
        "                       ) #Model 3, used to predit Floor location only\n",
        "\n",
        "        oof_x[val_idx] = modelx.predict(X_valid)\n",
        "        oof_y[val_idx] = modely.predict(X_valid)\n",
        "        oof_f[val_idx] = modelf.predict(X_valid).astype(int)\n",
        "\n",
        "        preds_x += modelx.predict(test_data.iloc[:, :-6]) / N_SPLITS \n",
        "        #Average the result of each folds, divide every result by n_splits, and add them together\n",
        "        preds_y += modely.predict(test_data.iloc[:, :-6]) / N_SPLITS\n",
        "        #Average the result of each folds, divide every result by n_splits, and add them together\n",
        "        preds_f_arr[:, fold] = modelf.predict(test_data.iloc[:, :-6]).astype(int)\n",
        "        #The floor is dealt differently,   \n",
        "\n",
        "        score = comp_metric(oof_x[val_idx], oof_y[val_idx], oof_f[val_idx],\n",
        "                            y_validx.to_numpy(), y_validy.to_numpy(), y_validf.to_numpy())\n",
        "        # the error in current KFold\n",
        "        print(f\"fold {fold}: mean position error {score}\")\n",
        "\n",
        "\n",
        "    # Evaluate mean position error of each file\n",
        "    print(\"*+\"*40)\n",
        "    print(f\"file #{n_files}, shape={data.shape}, name={os.path.basename(file)}\")\n",
        "    score = comp_metric(oof_x, oof_y, oof_f,\n",
        "                        data.iloc[:, -6].to_numpy(), data.iloc[:, -5].to_numpy(), data.iloc[:, -4].to_numpy())\n",
        "    #Calculate the score/error\n",
        "    oof.append(score)\n",
        "    print(f\"mean position error {score}\")\n",
        "    print(\"*+\"*40)\n",
        "\n",
        "    preds_f_mode = stats.mode(preds_f_arr, axis=1)\n",
        "    preds_f = preds_f_mode[0].astype(int).reshape(-1)\n",
        "    #The floor is dealt differently, vote to choose the most appeared floor number in all folds\n",
        "    test_preds = pd.DataFrame(np.stack((preds_f, preds_x, preds_y))).T\n",
        "    ######\n",
        "    #Stack all the predictions in one testing file together, and transpose to vertical\n",
        "    predictions.append(test_preds)\n",
        "    # print(test_preds)\n",
        "\n",
        "    column_num = len(test_data.columns)\n",
        "    test_data = test_data.reset_index()\n",
        "\n",
        "    test_data.insert(column_num, 'pred_x', test_preds[1], True)\n",
        "    test_data.insert(column_num+1, 'pred_y', test_preds[2], True)\n",
        "    test_data.insert(column_num+2, 'pred_f', test_preds[0], True) \n",
        "\n",
        "    building_name = file[11:-5] + '.csv'\n",
        "\n",
        "    test_data.to_csv(building_name)\n",
        "\n",
        "print(\"*+\"*40)\n"
      ],
      "execution_count": 11,
      "outputs": [
        {
          "output_type": "stream",
          "text": [
            "Starting to train:  5cd56b5ae2acfd2d33b58544_train_filtered.csv\n"
          ],
          "name": "stdout"
        },
        {
          "output_type": "stream",
          "text": [
            "[0.3GB(+0.0GB): 0.427sec] fit X\n",
            "[0.3GB(+0.0GB): 0.627sec] fit Y\n",
            "[0.3GB(+0.0GB): 1.993sec] fit F\n"
          ],
          "name": "stderr"
        },
        {
          "output_type": "stream",
          "text": [
            "fold 0: mean position error 13.04037423110824\n"
          ],
          "name": "stdout"
        },
        {
          "output_type": "stream",
          "text": [
            "[0.3GB(+0.0GB): 0.609sec] fit X\n",
            "[0.3GB(+0.0GB): 0.797sec] fit Y\n",
            "[0.3GB(+0.0GB): 1.208sec] fit F\n"
          ],
          "name": "stderr"
        },
        {
          "output_type": "stream",
          "text": [
            "fold 1: mean position error 15.231453069271153\n"
          ],
          "name": "stdout"
        },
        {
          "output_type": "stream",
          "text": [
            "[0.3GB(+0.0GB): 0.898sec] fit X\n",
            "[0.3GB(+0.0GB): 0.582sec] fit Y\n",
            "[0.3GB(+0.0GB): 2.841sec] fit F\n"
          ],
          "name": "stderr"
        },
        {
          "output_type": "stream",
          "text": [
            "fold 2: mean position error 12.077198004387702\n"
          ],
          "name": "stdout"
        },
        {
          "output_type": "stream",
          "text": [
            "[0.3GB(+0.0GB): 1.107sec] fit X\n",
            "[0.3GB(+0.0GB): 1.676sec] fit Y\n",
            "[0.3GB(+0.0GB): 3.466sec] fit F\n"
          ],
          "name": "stderr"
        },
        {
          "output_type": "stream",
          "text": [
            "fold 3: mean position error 8.982349453191617\n"
          ],
          "name": "stdout"
        },
        {
          "output_type": "stream",
          "text": [
            "[0.3GB(+0.0GB): 0.750sec] fit X\n",
            "[0.3GB(+0.0GB): 0.732sec] fit Y\n",
            "[0.3GB(+0.0GB): 2.260sec] fit F\n"
          ],
          "name": "stderr"
        },
        {
          "output_type": "stream",
          "text": [
            "fold 4: mean position error 15.15964731332783\n"
          ],
          "name": "stdout"
        },
        {
          "output_type": "stream",
          "text": [
            "[0.3GB(+0.0GB): 0.537sec] fit X\n",
            "[0.3GB(+0.0GB): 1.320sec] fit Y\n",
            "[0.3GB(+0.0GB): 2.669sec] fit F\n"
          ],
          "name": "stderr"
        },
        {
          "output_type": "stream",
          "text": [
            "fold 5: mean position error 19.203539932347017\n"
          ],
          "name": "stdout"
        },
        {
          "output_type": "stream",
          "text": [
            "[0.3GB(+0.0GB): 1.182sec] fit X\n",
            "[0.3GB(+0.0GB): 0.776sec] fit Y\n",
            "[0.3GB(+0.0GB): 2.239sec] fit F\n"
          ],
          "name": "stderr"
        },
        {
          "output_type": "stream",
          "text": [
            "fold 6: mean position error 12.691176461566888\n"
          ],
          "name": "stdout"
        },
        {
          "output_type": "stream",
          "text": [
            "[0.3GB(+0.0GB): 0.558sec] fit X\n",
            "[0.3GB(+0.0GB): 0.669sec] fit Y\n",
            "[0.3GB(+0.0GB): 2.574sec] fit F\n"
          ],
          "name": "stderr"
        },
        {
          "output_type": "stream",
          "text": [
            "fold 7: mean position error 10.722850801171738\n"
          ],
          "name": "stdout"
        },
        {
          "output_type": "stream",
          "text": [
            "[0.3GB(+0.0GB): 0.987sec] fit X\n",
            "[0.3GB(+0.0GB): 0.967sec] fit Y\n",
            "[0.3GB(+0.0GB): 6.207sec] fit F\n"
          ],
          "name": "stderr"
        },
        {
          "output_type": "stream",
          "text": [
            "fold 8: mean position error 12.653091590157784\n"
          ],
          "name": "stdout"
        },
        {
          "output_type": "stream",
          "text": [
            "[0.4GB(+0.0GB): 0.510sec] fit X\n",
            "[0.4GB(+0.0GB): 0.709sec] fit Y\n",
            "[0.4GB(+0.0GB): 2.381sec] fit F\n"
          ],
          "name": "stderr"
        },
        {
          "output_type": "stream",
          "text": [
            "fold 9: mean position error 11.947518369431855\n",
            "*+*+*+*+*+*+*+*+*+*+*+*+*+*+*+*+*+*+*+*+*+*+*+*+*+*+*+*+*+*+*+*+*+*+*+*+*+*+*+*+\n",
            "file #0, shape=(187, 87), name=5cd56b5ae2acfd2d33b58544_train_filtered.csv\n",
            "mean position error 13.193322591082959\n",
            "*+*+*+*+*+*+*+*+*+*+*+*+*+*+*+*+*+*+*+*+*+*+*+*+*+*+*+*+*+*+*+*+*+*+*+*+*+*+*+*+\n",
            "Starting to train:  5cd56b5ae2acfd2d33b58546_train_filtered.csv\n"
          ],
          "name": "stdout"
        },
        {
          "output_type": "stream",
          "text": [
            "[0.4GB(+0.0GB): 0.406sec] fit X\n",
            "[0.4GB(+0.0GB): 0.623sec] fit Y\n",
            "[0.4GB(+0.0GB): 4.352sec] fit F\n"
          ],
          "name": "stderr"
        },
        {
          "output_type": "stream",
          "text": [
            "fold 0: mean position error 21.74559392416266\n"
          ],
          "name": "stdout"
        },
        {
          "output_type": "stream",
          "text": [
            "[0.4GB(+0.0GB): 0.480sec] fit X\n",
            "[0.4GB(+0.0GB): 0.864sec] fit Y\n",
            "[0.4GB(+0.0GB): 7.295sec] fit F\n"
          ],
          "name": "stderr"
        },
        {
          "output_type": "stream",
          "text": [
            "fold 1: mean position error 16.446360226646775\n"
          ],
          "name": "stdout"
        },
        {
          "output_type": "stream",
          "text": [
            "[0.4GB(+0.0GB): 0.860sec] fit X\n",
            "[0.4GB(+0.0GB): 0.950sec] fit Y\n",
            "[0.4GB(+0.0GB): 2.474sec] fit F\n"
          ],
          "name": "stderr"
        },
        {
          "output_type": "stream",
          "text": [
            "fold 2: mean position error 17.700946863601406\n"
          ],
          "name": "stdout"
        },
        {
          "output_type": "stream",
          "text": [
            "[0.4GB(+0.0GB): 0.627sec] fit X\n",
            "[0.4GB(+0.0GB): 0.598sec] fit Y\n",
            "[0.4GB(+0.0GB): 5.234sec] fit F\n"
          ],
          "name": "stderr"
        },
        {
          "output_type": "stream",
          "text": [
            "fold 3: mean position error 19.443401251015796\n"
          ],
          "name": "stdout"
        },
        {
          "output_type": "stream",
          "text": [
            "[0.4GB(+0.0GB): 0.487sec] fit X\n",
            "[0.4GB(+0.0GB): 0.502sec] fit Y\n",
            "[0.4GB(+0.0GB): 2.316sec] fit F\n"
          ],
          "name": "stderr"
        },
        {
          "output_type": "stream",
          "text": [
            "fold 4: mean position error 17.64617608215659\n"
          ],
          "name": "stdout"
        },
        {
          "output_type": "stream",
          "text": [
            "[0.4GB(+0.0GB): 1.694sec] fit X\n",
            "[0.4GB(+0.0GB): 1.065sec] fit Y\n",
            "[0.4GB(+0.0GB): 2.428sec] fit F\n"
          ],
          "name": "stderr"
        },
        {
          "output_type": "stream",
          "text": [
            "fold 5: mean position error 23.257917778393495\n"
          ],
          "name": "stdout"
        },
        {
          "output_type": "stream",
          "text": [
            "[0.4GB(+0.0GB): 1.008sec] fit X\n",
            "[0.4GB(+0.0GB): 0.598sec] fit Y\n",
            "[0.4GB(+0.0GB): 3.490sec] fit F\n"
          ],
          "name": "stderr"
        },
        {
          "output_type": "stream",
          "text": [
            "fold 6: mean position error 14.339507086499596\n"
          ],
          "name": "stdout"
        },
        {
          "output_type": "stream",
          "text": [
            "[0.4GB(+0.0GB): 0.356sec] fit X\n",
            "[0.4GB(+0.0GB): 0.633sec] fit Y\n",
            "[0.4GB(+0.0GB): 2.852sec] fit F\n"
          ],
          "name": "stderr"
        },
        {
          "output_type": "stream",
          "text": [
            "fold 7: mean position error 21.174150220599206\n"
          ],
          "name": "stdout"
        },
        {
          "output_type": "stream",
          "text": [
            "[0.4GB(+0.0GB): 0.710sec] fit X\n",
            "[0.4GB(+0.0GB): 0.639sec] fit Y\n",
            "[0.4GB(+0.0GB): 2.486sec] fit F\n"
          ],
          "name": "stderr"
        },
        {
          "output_type": "stream",
          "text": [
            "fold 8: mean position error 21.363474246652338\n"
          ],
          "name": "stdout"
        },
        {
          "output_type": "stream",
          "text": [
            "[0.4GB(+0.0GB): 0.644sec] fit X\n",
            "[0.4GB(+0.0GB): 0.769sec] fit Y\n",
            "[0.4GB(+0.0GB): 5.355sec] fit F\n"
          ],
          "name": "stderr"
        },
        {
          "output_type": "stream",
          "text": [
            "fold 9: mean position error 21.95163275835071\n",
            "*+*+*+*+*+*+*+*+*+*+*+*+*+*+*+*+*+*+*+*+*+*+*+*+*+*+*+*+*+*+*+*+*+*+*+*+*+*+*+*+\n",
            "file #1, shape=(209, 149), name=5cd56b5ae2acfd2d33b58546_train_filtered.csv\n",
            "mean position error 19.495218834647368\n",
            "*+*+*+*+*+*+*+*+*+*+*+*+*+*+*+*+*+*+*+*+*+*+*+*+*+*+*+*+*+*+*+*+*+*+*+*+*+*+*+*+\n",
            "Starting to train:  5cd56b5ae2acfd2d33b58548_train_filtered.csv\n"
          ],
          "name": "stdout"
        },
        {
          "output_type": "stream",
          "text": [
            "[0.4GB(+0.0GB): 1.097sec] fit X\n",
            "[0.4GB(+0.0GB): 1.119sec] fit Y\n",
            "[0.4GB(+0.0GB): 4.641sec] fit F\n"
          ],
          "name": "stderr"
        },
        {
          "output_type": "stream",
          "text": [
            "fold 0: mean position error 6.326941151555237\n"
          ],
          "name": "stdout"
        },
        {
          "output_type": "stream",
          "text": [
            "[0.4GB(+0.0GB): 1.074sec] fit X\n",
            "[0.4GB(+0.0GB): 0.802sec] fit Y\n",
            "[0.4GB(+0.0GB): 3.593sec] fit F\n"
          ],
          "name": "stderr"
        },
        {
          "output_type": "stream",
          "text": [
            "fold 1: mean position error 8.010113047087994\n"
          ],
          "name": "stdout"
        },
        {
          "output_type": "stream",
          "text": [
            "[0.4GB(+0.0GB): 0.770sec] fit X\n",
            "[0.4GB(+0.0GB): 0.513sec] fit Y\n",
            "[0.4GB(+0.0GB): 4.452sec] fit F\n"
          ],
          "name": "stderr"
        },
        {
          "output_type": "stream",
          "text": [
            "fold 2: mean position error 6.2711217760237465\n"
          ],
          "name": "stdout"
        },
        {
          "output_type": "stream",
          "text": [
            "[0.4GB(+0.0GB): 1.022sec] fit X\n",
            "[0.4GB(+0.0GB): 0.933sec] fit Y\n",
            "[0.4GB(+0.0GB): 5.242sec] fit F\n"
          ],
          "name": "stderr"
        },
        {
          "output_type": "stream",
          "text": [
            "fold 3: mean position error 6.010437148526313\n"
          ],
          "name": "stdout"
        },
        {
          "output_type": "stream",
          "text": [
            "[0.4GB(+0.0GB): 0.759sec] fit X\n",
            "[0.4GB(+0.0GB): 0.964sec] fit Y\n",
            "[0.4GB(+0.0GB): 2.776sec] fit F\n"
          ],
          "name": "stderr"
        },
        {
          "output_type": "stream",
          "text": [
            "fold 4: mean position error 8.620059299052965\n"
          ],
          "name": "stdout"
        },
        {
          "output_type": "stream",
          "text": [
            "[0.4GB(+0.0GB): 2.019sec] fit X\n",
            "[0.4GB(+0.0GB): 0.684sec] fit Y\n",
            "[0.4GB(+0.0GB): 7.413sec] fit F\n"
          ],
          "name": "stderr"
        },
        {
          "output_type": "stream",
          "text": [
            "fold 5: mean position error 7.947937750928609\n"
          ],
          "name": "stdout"
        },
        {
          "output_type": "stream",
          "text": [
            "[0.4GB(+0.0GB): 0.682sec] fit X\n",
            "[0.4GB(+0.0GB): 0.939sec] fit Y\n",
            "[0.4GB(+0.0GB): 4.737sec] fit F\n"
          ],
          "name": "stderr"
        },
        {
          "output_type": "stream",
          "text": [
            "fold 6: mean position error 7.32799280189757\n"
          ],
          "name": "stdout"
        },
        {
          "output_type": "stream",
          "text": [
            "[0.4GB(+0.0GB): 1.157sec] fit X\n",
            "[0.4GB(+0.0GB): 0.825sec] fit Y\n",
            "[0.4GB(+0.0GB): 2.478sec] fit F\n"
          ],
          "name": "stderr"
        },
        {
          "output_type": "stream",
          "text": [
            "fold 7: mean position error 6.737155098424608\n"
          ],
          "name": "stdout"
        },
        {
          "output_type": "stream",
          "text": [
            "[0.4GB(+0.0GB): 1.042sec] fit X\n",
            "[0.4GB(+0.0GB): 0.741sec] fit Y\n",
            "[0.4GB(+0.0GB): 2.543sec] fit F\n"
          ],
          "name": "stderr"
        },
        {
          "output_type": "stream",
          "text": [
            "fold 8: mean position error 7.685174853477057\n"
          ],
          "name": "stdout"
        },
        {
          "output_type": "stream",
          "text": [
            "[0.4GB(+0.0GB): 0.806sec] fit X\n",
            "[0.4GB(+0.0GB): 0.771sec] fit Y\n",
            "[0.4GB(+0.0GB): 5.508sec] fit F\n"
          ],
          "name": "stderr"
        },
        {
          "output_type": "stream",
          "text": [
            "fold 9: mean position error 8.108954715779703\n",
            "*+*+*+*+*+*+*+*+*+*+*+*+*+*+*+*+*+*+*+*+*+*+*+*+*+*+*+*+*+*+*+*+*+*+*+*+*+*+*+*+\n",
            "file #2, shape=(272, 49), name=5cd56b5ae2acfd2d33b58548_train_filtered.csv\n",
            "mean position error 7.303588310856603\n",
            "*+*+*+*+*+*+*+*+*+*+*+*+*+*+*+*+*+*+*+*+*+*+*+*+*+*+*+*+*+*+*+*+*+*+*+*+*+*+*+*+\n",
            "Starting to train:  5cd56b5ae2acfd2d33b58549_train_filtered.csv\n"
          ],
          "name": "stdout"
        },
        {
          "output_type": "stream",
          "text": [
            "[0.4GB(+0.0GB): 0.818sec] fit X\n",
            "[0.4GB(+0.0GB): 0.567sec] fit Y\n",
            "[0.4GB(+0.0GB): 2.080sec] fit F\n"
          ],
          "name": "stderr"
        },
        {
          "output_type": "stream",
          "text": [
            "fold 0: mean position error 35.307677464899406\n"
          ],
          "name": "stdout"
        },
        {
          "output_type": "stream",
          "text": [
            "[0.4GB(+0.0GB): 0.849sec] fit X\n",
            "[0.4GB(+0.0GB): 0.529sec] fit Y\n",
            "[0.4GB(+0.0GB): 2.174sec] fit F\n"
          ],
          "name": "stderr"
        },
        {
          "output_type": "stream",
          "text": [
            "fold 1: mean position error 27.861990456855324\n"
          ],
          "name": "stdout"
        },
        {
          "output_type": "stream",
          "text": [
            "[0.4GB(+0.0GB): 1.179sec] fit X\n",
            "[0.4GB(+0.0GB): 0.824sec] fit Y\n",
            "[0.4GB(+0.0GB): 1.367sec] fit F\n"
          ],
          "name": "stderr"
        },
        {
          "output_type": "stream",
          "text": [
            "fold 2: mean position error 33.38283876220509\n"
          ],
          "name": "stdout"
        },
        {
          "output_type": "stream",
          "text": [
            "[0.4GB(+0.0GB): 0.598sec] fit X\n",
            "[0.4GB(+0.0GB): 0.669sec] fit Y\n",
            "[0.4GB(+0.0GB): 1.874sec] fit F\n"
          ],
          "name": "stderr"
        },
        {
          "output_type": "stream",
          "text": [
            "fold 3: mean position error 27.1373944909818\n"
          ],
          "name": "stdout"
        },
        {
          "output_type": "stream",
          "text": [
            "[0.4GB(+0.0GB): 0.801sec] fit X\n",
            "[0.4GB(+0.0GB): 1.004sec] fit Y\n",
            "[0.4GB(+0.0GB): 2.330sec] fit F\n"
          ],
          "name": "stderr"
        },
        {
          "output_type": "stream",
          "text": [
            "fold 4: mean position error 31.234421673976374\n"
          ],
          "name": "stdout"
        },
        {
          "output_type": "stream",
          "text": [
            "[0.4GB(+0.0GB): 0.559sec] fit X\n",
            "[0.4GB(+0.0GB): 0.685sec] fit Y\n",
            "[0.4GB(+0.0GB): 1.987sec] fit F\n"
          ],
          "name": "stderr"
        },
        {
          "output_type": "stream",
          "text": [
            "fold 5: mean position error 30.46718822369397\n"
          ],
          "name": "stdout"
        },
        {
          "output_type": "stream",
          "text": [
            "[0.4GB(+0.0GB): 1.256sec] fit X\n",
            "[0.4GB(+0.0GB): 0.628sec] fit Y\n",
            "[0.4GB(+0.0GB): 2.291sec] fit F\n"
          ],
          "name": "stderr"
        },
        {
          "output_type": "stream",
          "text": [
            "fold 6: mean position error 26.92530210863343\n"
          ],
          "name": "stdout"
        },
        {
          "output_type": "stream",
          "text": [
            "[0.4GB(+0.0GB): 0.875sec] fit X\n",
            "[0.4GB(+0.0GB): 0.520sec] fit Y\n",
            "[0.4GB(+0.0GB): 1.371sec] fit F\n"
          ],
          "name": "stderr"
        },
        {
          "output_type": "stream",
          "text": [
            "fold 7: mean position error 28.429185805838056\n"
          ],
          "name": "stdout"
        },
        {
          "output_type": "stream",
          "text": [
            "[0.4GB(+0.0GB): 0.436sec] fit X\n",
            "[0.4GB(+0.0GB): 0.495sec] fit Y\n",
            "[0.4GB(+0.0GB): 1.341sec] fit F\n"
          ],
          "name": "stderr"
        },
        {
          "output_type": "stream",
          "text": [
            "fold 8: mean position error 30.072006399728703\n"
          ],
          "name": "stdout"
        },
        {
          "output_type": "stream",
          "text": [
            "[0.4GB(+0.0GB): 0.527sec] fit X\n",
            "[0.4GB(+0.0GB): 0.618sec] fit Y\n",
            "[0.4GB(+0.0GB): 1.596sec] fit F\n"
          ],
          "name": "stderr"
        },
        {
          "output_type": "stream",
          "text": [
            "fold 9: mean position error 28.64431622686211\n",
            "*+*+*+*+*+*+*+*+*+*+*+*+*+*+*+*+*+*+*+*+*+*+*+*+*+*+*+*+*+*+*+*+*+*+*+*+*+*+*+*+\n",
            "file #3, shape=(613, 142), name=5cd56b5ae2acfd2d33b58549_train_filtered.csv\n",
            "mean position error 29.957184543422656\n",
            "*+*+*+*+*+*+*+*+*+*+*+*+*+*+*+*+*+*+*+*+*+*+*+*+*+*+*+*+*+*+*+*+*+*+*+*+*+*+*+*+\n",
            "Starting to train:  5cd56b5ae2acfd2d33b5854a_train_filtered.csv\n"
          ],
          "name": "stdout"
        },
        {
          "output_type": "stream",
          "text": [
            "[0.4GB(-0.0GB): 1.209sec] fit X\n",
            "[0.4GB(+0.0GB): 0.640sec] fit Y\n",
            "[0.4GB(+0.0GB): 3.325sec] fit F\n"
          ],
          "name": "stderr"
        },
        {
          "output_type": "stream",
          "text": [
            "fold 0: mean position error 14.677911512641447\n"
          ],
          "name": "stdout"
        },
        {
          "output_type": "stream",
          "text": [
            "[0.4GB(+0.0GB): 0.927sec] fit X\n",
            "[0.4GB(+0.0GB): 0.870sec] fit Y\n",
            "[0.4GB(+0.0GB): 2.021sec] fit F\n"
          ],
          "name": "stderr"
        },
        {
          "output_type": "stream",
          "text": [
            "fold 1: mean position error 14.492040212452345\n"
          ],
          "name": "stdout"
        },
        {
          "output_type": "stream",
          "text": [
            "[0.4GB(+0.0GB): 1.131sec] fit X\n",
            "[0.4GB(+0.0GB): 1.144sec] fit Y\n",
            "[0.4GB(+0.0GB): 2.015sec] fit F\n"
          ],
          "name": "stderr"
        },
        {
          "output_type": "stream",
          "text": [
            "fold 2: mean position error 16.719398745691425\n"
          ],
          "name": "stdout"
        },
        {
          "output_type": "stream",
          "text": [
            "[0.4GB(+0.0GB): 0.877sec] fit X\n",
            "[0.4GB(+0.0GB): 1.303sec] fit Y\n",
            "[0.4GB(+0.0GB): 5.081sec] fit F\n"
          ],
          "name": "stderr"
        },
        {
          "output_type": "stream",
          "text": [
            "fold 3: mean position error 13.329895633128084\n"
          ],
          "name": "stdout"
        },
        {
          "output_type": "stream",
          "text": [
            "[0.4GB(+0.0GB): 0.747sec] fit X\n",
            "[0.4GB(+0.0GB): 0.963sec] fit Y\n",
            "[0.4GB(+0.0GB): 2.339sec] fit F\n"
          ],
          "name": "stderr"
        },
        {
          "output_type": "stream",
          "text": [
            "fold 4: mean position error 14.653325469060983\n"
          ],
          "name": "stdout"
        },
        {
          "output_type": "stream",
          "text": [
            "[0.4GB(+0.0GB): 1.402sec] fit X\n",
            "[0.4GB(+0.0GB): 0.916sec] fit Y\n",
            "[0.4GB(+0.0GB): 3.318sec] fit F\n"
          ],
          "name": "stderr"
        },
        {
          "output_type": "stream",
          "text": [
            "fold 5: mean position error 13.797645504849546\n"
          ],
          "name": "stdout"
        },
        {
          "output_type": "stream",
          "text": [
            "[0.4GB(+0.0GB): 0.740sec] fit X\n",
            "[0.4GB(+0.0GB): 1.091sec] fit Y\n",
            "[0.4GB(+0.0GB): 2.280sec] fit F\n"
          ],
          "name": "stderr"
        },
        {
          "output_type": "stream",
          "text": [
            "fold 6: mean position error 13.723148540876382\n"
          ],
          "name": "stdout"
        },
        {
          "output_type": "stream",
          "text": [
            "[0.4GB(+0.0GB): 1.299sec] fit X\n",
            "[0.4GB(+0.0GB): 1.476sec] fit Y\n",
            "[0.4GB(+0.0GB): 2.737sec] fit F\n"
          ],
          "name": "stderr"
        },
        {
          "output_type": "stream",
          "text": [
            "fold 7: mean position error 13.8176791855077\n"
          ],
          "name": "stdout"
        },
        {
          "output_type": "stream",
          "text": [
            "[0.4GB(+0.0GB): 0.819sec] fit X\n",
            "[0.4GB(+0.0GB): 1.007sec] fit Y\n",
            "[0.4GB(+0.0GB): 2.128sec] fit F\n"
          ],
          "name": "stderr"
        },
        {
          "output_type": "stream",
          "text": [
            "fold 8: mean position error 17.404782223790694\n"
          ],
          "name": "stdout"
        },
        {
          "output_type": "stream",
          "text": [
            "[0.4GB(+0.0GB): 1.380sec] fit X\n",
            "[0.4GB(+0.0GB): 0.896sec] fit Y\n",
            "[0.4GB(+0.0GB): 1.731sec] fit F\n"
          ],
          "name": "stderr"
        },
        {
          "output_type": "stream",
          "text": [
            "fold 9: mean position error 14.428230304628602\n",
            "*+*+*+*+*+*+*+*+*+*+*+*+*+*+*+*+*+*+*+*+*+*+*+*+*+*+*+*+*+*+*+*+*+*+*+*+*+*+*+*+\n",
            "file #4, shape=(418, 84), name=5cd56b5ae2acfd2d33b5854a_train_filtered.csv\n",
            "mean position error 14.698606209191201\n",
            "*+*+*+*+*+*+*+*+*+*+*+*+*+*+*+*+*+*+*+*+*+*+*+*+*+*+*+*+*+*+*+*+*+*+*+*+*+*+*+*+\n",
            "Starting to train:  5d27075f03f801723c2e360f_train_filtered.csv\n"
          ],
          "name": "stdout"
        },
        {
          "output_type": "stream",
          "text": [
            "[1.1GB(+0.1GB): 36.347sec] fit X\n",
            "[1.1GB(+0.0GB): 22.520sec] fit Y\n",
            "[1.1GB(+0.0GB): 47.602sec] fit F\n"
          ],
          "name": "stderr"
        },
        {
          "output_type": "stream",
          "text": [
            "fold 0: mean position error 6.524208215207403\n"
          ],
          "name": "stdout"
        },
        {
          "output_type": "stream",
          "text": [
            "[1.3GB(+0.1GB): 29.915sec] fit X\n",
            "[1.3GB(+0.0GB): 47.747sec] fit Y\n",
            "[1.3GB(+0.0GB): 75.095sec] fit F\n"
          ],
          "name": "stderr"
        },
        {
          "output_type": "stream",
          "text": [
            "fold 1: mean position error 6.7107352783034475\n"
          ],
          "name": "stdout"
        },
        {
          "output_type": "stream",
          "text": [
            "[1.3GB(+0.0GB): 25.616sec] fit X\n",
            "[1.3GB(+0.0GB): 36.922sec] fit Y\n",
            "[1.3GB(+0.0GB): 59.562sec] fit F\n"
          ],
          "name": "stderr"
        },
        {
          "output_type": "stream",
          "text": [
            "fold 2: mean position error 7.420289596519789\n"
          ],
          "name": "stdout"
        },
        {
          "output_type": "stream",
          "text": [
            "[1.4GB(+0.1GB): 35.141sec] fit X\n",
            "[1.4GB(+0.0GB): 37.138sec] fit Y\n",
            "[1.4GB(+0.0GB): 67.286sec] fit F\n"
          ],
          "name": "stderr"
        },
        {
          "output_type": "stream",
          "text": [
            "fold 3: mean position error 7.791084229636265\n"
          ],
          "name": "stdout"
        },
        {
          "output_type": "stream",
          "text": [
            "[1.4GB(+0.0GB): 27.247sec] fit X\n",
            "[1.4GB(+0.0GB): 41.345sec] fit Y\n",
            "[1.4GB(+0.0GB): 73.418sec] fit F\n"
          ],
          "name": "stderr"
        },
        {
          "output_type": "stream",
          "text": [
            "fold 4: mean position error 6.94094318027367\n"
          ],
          "name": "stdout"
        },
        {
          "output_type": "stream",
          "text": [
            "[1.4GB(+0.0GB): 22.533sec] fit X\n",
            "[1.4GB(+0.0GB): 41.768sec] fit Y\n",
            "[1.4GB(+0.0GB): 42.025sec] fit F\n"
          ],
          "name": "stderr"
        },
        {
          "output_type": "stream",
          "text": [
            "fold 5: mean position error 6.907281422116979\n"
          ],
          "name": "stdout"
        },
        {
          "output_type": "stream",
          "text": [
            "[1.4GB(+0.0GB): 33.884sec] fit X\n",
            "[1.4GB(+0.0GB): 37.932sec] fit Y\n",
            "[1.4GB(+0.0GB): 49.062sec] fit F\n"
          ],
          "name": "stderr"
        },
        {
          "output_type": "stream",
          "text": [
            "fold 6: mean position error 6.7402645715428635\n"
          ],
          "name": "stdout"
        },
        {
          "output_type": "stream",
          "text": [
            "[1.4GB(+0.0GB): 34.542sec] fit X\n",
            "[1.4GB(+0.0GB): 44.878sec] fit Y\n",
            "[1.4GB(+0.0GB): 112.751sec] fit F\n"
          ],
          "name": "stderr"
        },
        {
          "output_type": "stream",
          "text": [
            "fold 7: mean position error 7.165863171328058\n"
          ],
          "name": "stdout"
        },
        {
          "output_type": "stream",
          "text": [
            "[1.4GB(+0.0GB): 27.531sec] fit X\n",
            "[1.4GB(+0.0GB): 31.058sec] fit Y\n",
            "[1.4GB(+0.0GB): 58.503sec] fit F\n"
          ],
          "name": "stderr"
        },
        {
          "output_type": "stream",
          "text": [
            "fold 8: mean position error 6.901107973251897\n"
          ],
          "name": "stdout"
        },
        {
          "output_type": "stream",
          "text": [
            "[1.4GB(+0.0GB): 19.096sec] fit X\n",
            "[1.4GB(+0.0GB): 29.031sec] fit Y\n",
            "[1.4GB(+0.0GB): 57.746sec] fit F\n"
          ],
          "name": "stderr"
        },
        {
          "output_type": "stream",
          "text": [
            "fold 9: mean position error 7.802061048568096\n",
            "*+*+*+*+*+*+*+*+*+*+*+*+*+*+*+*+*+*+*+*+*+*+*+*+*+*+*+*+*+*+*+*+*+*+*+*+*+*+*+*+\n",
            "file #5, shape=(6653, 2350), name=5d27075f03f801723c2e360f_train_filtered.csv\n",
            "mean position error 7.090291291113447\n",
            "*+*+*+*+*+*+*+*+*+*+*+*+*+*+*+*+*+*+*+*+*+*+*+*+*+*+*+*+*+*+*+*+*+*+*+*+*+*+*+*+\n",
            "Starting to train:  5d27096c03f801723c31e5e0_train_filtered.csv\n"
          ],
          "name": "stdout"
        },
        {
          "output_type": "stream",
          "text": [
            "[1.4GB(+0.0GB): 3.604sec] fit X\n",
            "[1.4GB(+0.0GB): 5.403sec] fit Y\n",
            "[1.4GB(+0.0GB): 17.236sec] fit F\n"
          ],
          "name": "stderr"
        },
        {
          "output_type": "stream",
          "text": [
            "fold 0: mean position error 5.979736747980467\n"
          ],
          "name": "stdout"
        },
        {
          "output_type": "stream",
          "text": [
            "[1.4GB(+0.0GB): 3.707sec] fit X\n",
            "[1.4GB(+0.0GB): 4.221sec] fit Y\n",
            "[1.4GB(+0.0GB): 12.752sec] fit F\n"
          ],
          "name": "stderr"
        },
        {
          "output_type": "stream",
          "text": [
            "fold 1: mean position error 5.701958565981522\n"
          ],
          "name": "stdout"
        },
        {
          "output_type": "stream",
          "text": [
            "[1.4GB(+0.0GB): 2.493sec] fit X\n",
            "[1.4GB(+0.0GB): 4.032sec] fit Y\n",
            "[1.4GB(+0.0GB): 16.724sec] fit F\n"
          ],
          "name": "stderr"
        },
        {
          "output_type": "stream",
          "text": [
            "fold 2: mean position error 5.512076996348356\n"
          ],
          "name": "stdout"
        },
        {
          "output_type": "stream",
          "text": [
            "[1.4GB(+0.0GB): 3.520sec] fit X\n",
            "[1.4GB(+0.0GB): 5.347sec] fit Y\n",
            "[1.4GB(+0.0GB): 20.281sec] fit F\n"
          ],
          "name": "stderr"
        },
        {
          "output_type": "stream",
          "text": [
            "fold 3: mean position error 5.364084900694184\n"
          ],
          "name": "stdout"
        },
        {
          "output_type": "stream",
          "text": [
            "[1.4GB(+0.0GB): 4.102sec] fit X\n",
            "[1.4GB(+0.0GB): 4.500sec] fit Y\n",
            "[1.4GB(+0.0GB): 30.073sec] fit F\n"
          ],
          "name": "stderr"
        },
        {
          "output_type": "stream",
          "text": [
            "fold 4: mean position error 5.128230378149264\n"
          ],
          "name": "stdout"
        },
        {
          "output_type": "stream",
          "text": [
            "[1.4GB(+0.0GB): 3.549sec] fit X\n",
            "[1.4GB(+0.0GB): 6.127sec] fit Y\n",
            "[1.4GB(+0.0GB): 24.540sec] fit F\n"
          ],
          "name": "stderr"
        },
        {
          "output_type": "stream",
          "text": [
            "fold 5: mean position error 5.560519923109298\n"
          ],
          "name": "stdout"
        },
        {
          "output_type": "stream",
          "text": [
            "[1.4GB(+0.0GB): 3.765sec] fit X\n",
            "[1.4GB(+0.0GB): 6.691sec] fit Y\n",
            "[1.4GB(+0.0GB): 12.435sec] fit F\n"
          ],
          "name": "stderr"
        },
        {
          "output_type": "stream",
          "text": [
            "fold 6: mean position error 4.633406802699642\n"
          ],
          "name": "stdout"
        },
        {
          "output_type": "stream",
          "text": [
            "[1.4GB(+0.0GB): 3.795sec] fit X\n",
            "[1.4GB(+0.0GB): 3.235sec] fit Y\n",
            "[1.4GB(+0.0GB): 17.497sec] fit F\n"
          ],
          "name": "stderr"
        },
        {
          "output_type": "stream",
          "text": [
            "fold 7: mean position error 5.47550973990071\n"
          ],
          "name": "stdout"
        },
        {
          "output_type": "stream",
          "text": [
            "[1.4GB(+0.0GB): 3.440sec] fit X\n",
            "[1.4GB(+0.0GB): 5.043sec] fit Y\n",
            "[1.4GB(+0.0GB): 34.904sec] fit F\n"
          ],
          "name": "stderr"
        },
        {
          "output_type": "stream",
          "text": [
            "fold 8: mean position error 5.366947221621504\n"
          ],
          "name": "stdout"
        },
        {
          "output_type": "stream",
          "text": [
            "[1.4GB(+0.0GB): 3.937sec] fit X\n",
            "[1.4GB(+0.0GB): 2.908sec] fit Y\n",
            "[1.4GB(+0.0GB): 14.815sec] fit F\n"
          ],
          "name": "stderr"
        },
        {
          "output_type": "stream",
          "text": [
            "fold 9: mean position error 5.216319098526361\n",
            "*+*+*+*+*+*+*+*+*+*+*+*+*+*+*+*+*+*+*+*+*+*+*+*+*+*+*+*+*+*+*+*+*+*+*+*+*+*+*+*+\n",
            "file #6, shape=(1850, 431), name=5d27096c03f801723c31e5e0_train_filtered.csv\n",
            "mean position error 5.393879037501131\n",
            "*+*+*+*+*+*+*+*+*+*+*+*+*+*+*+*+*+*+*+*+*+*+*+*+*+*+*+*+*+*+*+*+*+*+*+*+*+*+*+*+\n",
            "Starting to train:  5d27097f03f801723c320d97_train_filtered.csv\n"
          ],
          "name": "stdout"
        },
        {
          "output_type": "stream",
          "text": [
            "[1.4GB(+0.0GB): 6.591sec] fit X\n",
            "[1.4GB(+0.0GB): 1.561sec] fit Y\n",
            "[1.4GB(+0.0GB): 10.990sec] fit F\n"
          ],
          "name": "stderr"
        },
        {
          "output_type": "stream",
          "text": [
            "fold 0: mean position error 18.139077937047418\n"
          ],
          "name": "stdout"
        },
        {
          "output_type": "stream",
          "text": [
            "[1.4GB(+0.0GB): 3.363sec] fit X\n",
            "[1.4GB(+0.0GB): 3.950sec] fit Y\n",
            "[1.4GB(+0.0GB): 7.758sec] fit F\n"
          ],
          "name": "stderr"
        },
        {
          "output_type": "stream",
          "text": [
            "fold 1: mean position error 15.168173128846188\n"
          ],
          "name": "stdout"
        },
        {
          "output_type": "stream",
          "text": [
            "[1.4GB(+0.0GB): 2.742sec] fit X\n",
            "[1.4GB(+0.0GB): 2.701sec] fit Y\n",
            "[1.4GB(+0.0GB): 7.547sec] fit F\n"
          ],
          "name": "stderr"
        },
        {
          "output_type": "stream",
          "text": [
            "fold 2: mean position error 14.519095740454565\n"
          ],
          "name": "stdout"
        },
        {
          "output_type": "stream",
          "text": [
            "[1.4GB(+0.0GB): 4.003sec] fit X\n",
            "[1.4GB(+0.0GB): 2.548sec] fit Y\n",
            "[1.4GB(+0.0GB): 8.617sec] fit F\n"
          ],
          "name": "stderr"
        },
        {
          "output_type": "stream",
          "text": [
            "fold 3: mean position error 12.958691134948904\n"
          ],
          "name": "stdout"
        },
        {
          "output_type": "stream",
          "text": [
            "[1.4GB(+0.0GB): 2.735sec] fit X\n",
            "[1.4GB(+0.0GB): 3.542sec] fit Y\n",
            "[1.4GB(+0.0GB): 8.194sec] fit F\n"
          ],
          "name": "stderr"
        },
        {
          "output_type": "stream",
          "text": [
            "fold 4: mean position error 14.912736034480538\n"
          ],
          "name": "stdout"
        },
        {
          "output_type": "stream",
          "text": [
            "[1.4GB(+0.0GB): 4.913sec] fit X\n",
            "[1.4GB(+0.0GB): 3.149sec] fit Y\n",
            "[1.4GB(+0.0GB): 11.201sec] fit F\n"
          ],
          "name": "stderr"
        },
        {
          "output_type": "stream",
          "text": [
            "fold 5: mean position error 15.822599513948074\n"
          ],
          "name": "stdout"
        },
        {
          "output_type": "stream",
          "text": [
            "[1.4GB(+0.0GB): 5.127sec] fit X\n",
            "[1.4GB(+0.0GB): 5.325sec] fit Y\n",
            "[1.4GB(+0.0GB): 21.132sec] fit F\n"
          ],
          "name": "stderr"
        },
        {
          "output_type": "stream",
          "text": [
            "fold 6: mean position error 12.551985482327185\n"
          ],
          "name": "stdout"
        },
        {
          "output_type": "stream",
          "text": [
            "[1.4GB(+0.0GB): 3.354sec] fit X\n",
            "[1.4GB(+0.0GB): 3.433sec] fit Y\n",
            "[1.4GB(+0.0GB): 7.129sec] fit F\n"
          ],
          "name": "stderr"
        },
        {
          "output_type": "stream",
          "text": [
            "fold 7: mean position error 16.312236185255117\n"
          ],
          "name": "stdout"
        },
        {
          "output_type": "stream",
          "text": [
            "[1.4GB(+0.0GB): 2.407sec] fit X\n",
            "[1.4GB(+0.0GB): 2.616sec] fit Y\n",
            "[1.4GB(+0.0GB): 8.697sec] fit F\n"
          ],
          "name": "stderr"
        },
        {
          "output_type": "stream",
          "text": [
            "fold 8: mean position error 14.451096482287971\n"
          ],
          "name": "stdout"
        },
        {
          "output_type": "stream",
          "text": [
            "[1.4GB(+0.0GB): 6.705sec] fit X\n",
            "[1.4GB(+0.0GB): 3.576sec] fit Y\n",
            "[1.4GB(+0.0GB): 14.068sec] fit F\n"
          ],
          "name": "stderr"
        },
        {
          "output_type": "stream",
          "text": [
            "fold 9: mean position error 14.475996652568769\n",
            "*+*+*+*+*+*+*+*+*+*+*+*+*+*+*+*+*+*+*+*+*+*+*+*+*+*+*+*+*+*+*+*+*+*+*+*+*+*+*+*+\n",
            "file #7, shape=(3332, 639), name=5d27097f03f801723c320d97_train_filtered.csv\n",
            "mean position error 14.932202716793743\n",
            "*+*+*+*+*+*+*+*+*+*+*+*+*+*+*+*+*+*+*+*+*+*+*+*+*+*+*+*+*+*+*+*+*+*+*+*+*+*+*+*+\n",
            "Starting to train:  5d27099f03f801723c32511d_train_filtered.csv\n"
          ],
          "name": "stdout"
        },
        {
          "output_type": "stream",
          "text": [
            "[1.4GB(+0.0GB): 0.910sec] fit X\n",
            "[1.4GB(+0.0GB): 0.557sec] fit Y\n",
            "[1.4GB(+0.0GB): 3.262sec] fit F\n"
          ],
          "name": "stderr"
        },
        {
          "output_type": "stream",
          "text": [
            "fold 0: mean position error 6.010812655014749\n"
          ],
          "name": "stdout"
        },
        {
          "output_type": "stream",
          "text": [
            "[1.4GB(+0.0GB): 1.186sec] fit X\n",
            "[1.4GB(+0.0GB): 1.423sec] fit Y\n",
            "[1.4GB(+0.0GB): 5.087sec] fit F\n"
          ],
          "name": "stderr"
        },
        {
          "output_type": "stream",
          "text": [
            "fold 1: mean position error 5.34120276548229\n"
          ],
          "name": "stdout"
        },
        {
          "output_type": "stream",
          "text": [
            "[1.4GB(+0.0GB): 0.927sec] fit X\n",
            "[1.4GB(+0.0GB): 1.246sec] fit Y\n",
            "[1.4GB(+0.0GB): 5.863sec] fit F\n"
          ],
          "name": "stderr"
        },
        {
          "output_type": "stream",
          "text": [
            "fold 2: mean position error 4.857820471567562\n"
          ],
          "name": "stdout"
        },
        {
          "output_type": "stream",
          "text": [
            "[1.4GB(+0.0GB): 1.050sec] fit X\n",
            "[1.4GB(+0.0GB): 0.785sec] fit Y\n",
            "[1.4GB(+0.0GB): 5.989sec] fit F\n"
          ],
          "name": "stderr"
        },
        {
          "output_type": "stream",
          "text": [
            "fold 3: mean position error 5.189792930331647\n"
          ],
          "name": "stdout"
        },
        {
          "output_type": "stream",
          "text": [
            "[1.4GB(+0.0GB): 1.091sec] fit X\n",
            "[1.4GB(+0.0GB): 1.194sec] fit Y\n",
            "[1.4GB(+0.0GB): 6.131sec] fit F\n"
          ],
          "name": "stderr"
        },
        {
          "output_type": "stream",
          "text": [
            "fold 4: mean position error 5.8730899786589825\n"
          ],
          "name": "stdout"
        },
        {
          "output_type": "stream",
          "text": [
            "[1.4GB(+0.0GB): 1.059sec] fit X\n",
            "[1.4GB(+0.0GB): 1.414sec] fit Y\n",
            "[1.4GB(+0.0GB): 5.995sec] fit F\n"
          ],
          "name": "stderr"
        },
        {
          "output_type": "stream",
          "text": [
            "fold 5: mean position error 5.217813753536103\n"
          ],
          "name": "stdout"
        },
        {
          "output_type": "stream",
          "text": [
            "[1.4GB(+0.0GB): 1.040sec] fit X\n",
            "[1.4GB(+0.0GB): 1.560sec] fit Y\n",
            "[1.4GB(+0.0GB): 5.495sec] fit F\n"
          ],
          "name": "stderr"
        },
        {
          "output_type": "stream",
          "text": [
            "fold 6: mean position error 5.54694665449002\n"
          ],
          "name": "stdout"
        },
        {
          "output_type": "stream",
          "text": [
            "[1.4GB(+0.0GB): 1.297sec] fit X\n",
            "[1.4GB(+0.0GB): 1.785sec] fit Y\n",
            "[1.4GB(+0.0GB): 7.045sec] fit F\n"
          ],
          "name": "stderr"
        },
        {
          "output_type": "stream",
          "text": [
            "fold 7: mean position error 5.143065870651678\n"
          ],
          "name": "stdout"
        },
        {
          "output_type": "stream",
          "text": [
            "[1.4GB(+0.0GB): 1.357sec] fit X\n",
            "[1.4GB(+0.0GB): 1.508sec] fit Y\n",
            "[1.4GB(+0.0GB): 5.536sec] fit F\n"
          ],
          "name": "stderr"
        },
        {
          "output_type": "stream",
          "text": [
            "fold 8: mean position error 5.655767775273818\n"
          ],
          "name": "stdout"
        },
        {
          "output_type": "stream",
          "text": [
            "[1.4GB(+0.0GB): 1.034sec] fit X\n",
            "[1.4GB(+0.0GB): 1.556sec] fit Y\n",
            "[1.4GB(+0.0GB): 5.778sec] fit F\n"
          ],
          "name": "stderr"
        },
        {
          "output_type": "stream",
          "text": [
            "fold 9: mean position error 5.64247948231491\n",
            "*+*+*+*+*+*+*+*+*+*+*+*+*+*+*+*+*+*+*+*+*+*+*+*+*+*+*+*+*+*+*+*+*+*+*+*+*+*+*+*+\n",
            "file #8, shape=(843, 343), name=5d27099f03f801723c32511d_train_filtered.csv\n",
            "mean position error 5.447720512724903\n",
            "*+*+*+*+*+*+*+*+*+*+*+*+*+*+*+*+*+*+*+*+*+*+*+*+*+*+*+*+*+*+*+*+*+*+*+*+*+*+*+*+\n",
            "Starting to train:  5d2709a003f801723c3251bf_train_filtered.csv\n"
          ],
          "name": "stdout"
        },
        {
          "output_type": "stream",
          "text": [
            "[1.4GB(+0.0GB): 1.904sec] fit X\n",
            "[1.4GB(+0.0GB): 2.259sec] fit Y\n",
            "[1.4GB(+0.0GB): 4.319sec] fit F\n"
          ],
          "name": "stderr"
        },
        {
          "output_type": "stream",
          "text": [
            "fold 0: mean position error 7.381735375948771\n"
          ],
          "name": "stdout"
        },
        {
          "output_type": "stream",
          "text": [
            "[1.4GB(+0.0GB): 3.105sec] fit X\n",
            "[1.4GB(+0.0GB): 1.959sec] fit Y\n",
            "[1.4GB(+0.0GB): 6.391sec] fit F\n"
          ],
          "name": "stderr"
        },
        {
          "output_type": "stream",
          "text": [
            "fold 1: mean position error 6.336405393474196\n"
          ],
          "name": "stdout"
        },
        {
          "output_type": "stream",
          "text": [
            "[1.4GB(+0.0GB): 1.110sec] fit X\n",
            "[1.4GB(+0.0GB): 1.936sec] fit Y\n",
            "[1.4GB(+0.0GB): 4.320sec] fit F\n"
          ],
          "name": "stderr"
        },
        {
          "output_type": "stream",
          "text": [
            "fold 2: mean position error 9.774433761586492\n"
          ],
          "name": "stdout"
        },
        {
          "output_type": "stream",
          "text": [
            "[1.4GB(+0.0GB): 1.731sec] fit X\n",
            "[1.4GB(+0.0GB): 2.731sec] fit Y\n",
            "[1.4GB(+0.0GB): 7.030sec] fit F\n"
          ],
          "name": "stderr"
        },
        {
          "output_type": "stream",
          "text": [
            "fold 3: mean position error 8.589353399160288\n"
          ],
          "name": "stdout"
        },
        {
          "output_type": "stream",
          "text": [
            "[1.4GB(+0.0GB): 5.365sec] fit X\n",
            "[1.4GB(+0.0GB): 3.051sec] fit Y\n",
            "[1.4GB(+0.0GB): 5.424sec] fit F\n"
          ],
          "name": "stderr"
        },
        {
          "output_type": "stream",
          "text": [
            "fold 4: mean position error 7.17917204821698\n"
          ],
          "name": "stdout"
        },
        {
          "output_type": "stream",
          "text": [
            "[1.4GB(+0.0GB): 2.465sec] fit X\n",
            "[1.4GB(+0.0GB): 1.852sec] fit Y\n",
            "[1.4GB(+0.0GB): 7.392sec] fit F\n"
          ],
          "name": "stderr"
        },
        {
          "output_type": "stream",
          "text": [
            "fold 5: mean position error 6.5634627140108135\n"
          ],
          "name": "stdout"
        },
        {
          "output_type": "stream",
          "text": [
            "[1.4GB(+0.0GB): 3.163sec] fit X\n",
            "[1.4GB(+0.0GB): 2.922sec] fit Y\n",
            "[1.4GB(+0.0GB): 4.230sec] fit F\n"
          ],
          "name": "stderr"
        },
        {
          "output_type": "stream",
          "text": [
            "fold 6: mean position error 8.02110857655631\n"
          ],
          "name": "stdout"
        },
        {
          "output_type": "stream",
          "text": [
            "[1.4GB(+0.0GB): 1.692sec] fit X\n",
            "[1.4GB(+0.0GB): 2.373sec] fit Y\n",
            "[1.4GB(+0.0GB): 2.408sec] fit F\n"
          ],
          "name": "stderr"
        },
        {
          "output_type": "stream",
          "text": [
            "fold 7: mean position error 6.509010311598728\n"
          ],
          "name": "stdout"
        },
        {
          "output_type": "stream",
          "text": [
            "[1.4GB(+0.0GB): 2.948sec] fit X\n",
            "[1.4GB(+0.0GB): 1.290sec] fit Y\n",
            "[1.4GB(+0.0GB): 9.221sec] fit F\n"
          ],
          "name": "stderr"
        },
        {
          "output_type": "stream",
          "text": [
            "fold 8: mean position error 6.891810038543258\n"
          ],
          "name": "stdout"
        },
        {
          "output_type": "stream",
          "text": [
            "[1.4GB(+0.0GB): 2.865sec] fit X\n",
            "[1.4GB(+0.0GB): 1.593sec] fit Y\n",
            "[1.4GB(+0.0GB): 5.644sec] fit F\n"
          ],
          "name": "stderr"
        },
        {
          "output_type": "stream",
          "text": [
            "fold 9: mean position error 7.527164252351487\n",
            "*+*+*+*+*+*+*+*+*+*+*+*+*+*+*+*+*+*+*+*+*+*+*+*+*+*+*+*+*+*+*+*+*+*+*+*+*+*+*+*+\n",
            "file #9, shape=(963, 274), name=5d2709a003f801723c3251bf_train_filtered.csv\n",
            "mean position error 7.478466810166099\n",
            "*+*+*+*+*+*+*+*+*+*+*+*+*+*+*+*+*+*+*+*+*+*+*+*+*+*+*+*+*+*+*+*+*+*+*+*+*+*+*+*+\n",
            "Starting to train:  5d2709b303f801723c327472_train_filtered.csv\n"
          ],
          "name": "stdout"
        },
        {
          "output_type": "stream",
          "text": [
            "[1.4GB(+0.0GB): 6.154sec] fit X\n",
            "[1.4GB(+0.0GB): 7.116sec] fit Y\n",
            "[1.4GB(+0.0GB): 9.003sec] fit F\n"
          ],
          "name": "stderr"
        },
        {
          "output_type": "stream",
          "text": [
            "fold 0: mean position error 6.967368659151448\n"
          ],
          "name": "stdout"
        },
        {
          "output_type": "stream",
          "text": [
            "[1.4GB(+0.0GB): 7.292sec] fit X\n",
            "[1.4GB(+0.0GB): 6.453sec] fit Y\n",
            "[1.4GB(+0.0GB): 25.476sec] fit F\n"
          ],
          "name": "stderr"
        },
        {
          "output_type": "stream",
          "text": [
            "fold 1: mean position error 7.581139536000567\n"
          ],
          "name": "stdout"
        },
        {
          "output_type": "stream",
          "text": [
            "[1.4GB(+0.0GB): 7.802sec] fit X\n",
            "[1.4GB(+0.0GB): 4.556sec] fit Y\n",
            "[1.4GB(+0.0GB): 8.641sec] fit F\n"
          ],
          "name": "stderr"
        },
        {
          "output_type": "stream",
          "text": [
            "fold 2: mean position error 7.105366782619295\n"
          ],
          "name": "stdout"
        },
        {
          "output_type": "stream",
          "text": [
            "[1.4GB(+0.0GB): 8.046sec] fit X\n",
            "[1.4GB(+0.0GB): 7.386sec] fit Y\n",
            "[1.4GB(+0.0GB): 14.645sec] fit F\n"
          ],
          "name": "stderr"
        },
        {
          "output_type": "stream",
          "text": [
            "fold 3: mean position error 7.454827729487595\n"
          ],
          "name": "stdout"
        },
        {
          "output_type": "stream",
          "text": [
            "[1.4GB(+0.0GB): 8.705sec] fit X\n",
            "[1.4GB(+0.0GB): 5.867sec] fit Y\n",
            "[1.4GB(+0.0GB): 41.191sec] fit F\n"
          ],
          "name": "stderr"
        },
        {
          "output_type": "stream",
          "text": [
            "fold 4: mean position error 7.610032449731471\n"
          ],
          "name": "stdout"
        },
        {
          "output_type": "stream",
          "text": [
            "[1.4GB(+0.0GB): 10.331sec] fit X\n",
            "[1.4GB(+0.0GB): 5.342sec] fit Y\n",
            "[1.4GB(+0.0GB): 16.287sec] fit F\n"
          ],
          "name": "stderr"
        },
        {
          "output_type": "stream",
          "text": [
            "fold 5: mean position error 7.1875591996868335\n"
          ],
          "name": "stdout"
        },
        {
          "output_type": "stream",
          "text": [
            "[1.4GB(+0.0GB): 5.680sec] fit X\n",
            "[1.4GB(+0.0GB): 6.008sec] fit Y\n",
            "[1.4GB(+0.0GB): 19.529sec] fit F\n"
          ],
          "name": "stderr"
        },
        {
          "output_type": "stream",
          "text": [
            "fold 6: mean position error 7.166067878413337\n"
          ],
          "name": "stdout"
        },
        {
          "output_type": "stream",
          "text": [
            "[1.4GB(+0.0GB): 9.795sec] fit X\n",
            "[1.4GB(+0.0GB): 7.089sec] fit Y\n",
            "[1.4GB(+0.0GB): 20.723sec] fit F\n"
          ],
          "name": "stderr"
        },
        {
          "output_type": "stream",
          "text": [
            "fold 7: mean position error 6.7375389869035445\n"
          ],
          "name": "stdout"
        },
        {
          "output_type": "stream",
          "text": [
            "[1.4GB(+0.0GB): 9.419sec] fit X\n",
            "[1.4GB(+0.0GB): 7.803sec] fit Y\n",
            "[1.4GB(+0.0GB): 8.385sec] fit F\n"
          ],
          "name": "stderr"
        },
        {
          "output_type": "stream",
          "text": [
            "fold 8: mean position error 7.838436305052059\n"
          ],
          "name": "stdout"
        },
        {
          "output_type": "stream",
          "text": [
            "[1.4GB(+0.0GB): 5.782sec] fit X\n",
            "[1.4GB(+0.0GB): 4.479sec] fit Y\n",
            "[1.4GB(+0.0GB): 12.563sec] fit F\n"
          ],
          "name": "stderr"
        },
        {
          "output_type": "stream",
          "text": [
            "fold 9: mean position error 8.30186083931009\n",
            "*+*+*+*+*+*+*+*+*+*+*+*+*+*+*+*+*+*+*+*+*+*+*+*+*+*+*+*+*+*+*+*+*+*+*+*+*+*+*+*+\n",
            "file #10, shape=(2948, 694), name=5d2709b303f801723c327472_train_filtered.csv\n",
            "mean position error 7.394561811713272\n",
            "*+*+*+*+*+*+*+*+*+*+*+*+*+*+*+*+*+*+*+*+*+*+*+*+*+*+*+*+*+*+*+*+*+*+*+*+*+*+*+*+\n",
            "Starting to train:  5d2709bb03f801723c32852c_train_filtered.csv\n"
          ],
          "name": "stdout"
        },
        {
          "output_type": "stream",
          "text": [
            "[1.4GB(+0.0GB): 8.396sec] fit X\n",
            "[1.4GB(+0.0GB): 10.190sec] fit Y\n",
            "[1.4GB(+0.0GB): 27.935sec] fit F\n"
          ],
          "name": "stderr"
        },
        {
          "output_type": "stream",
          "text": [
            "fold 0: mean position error 8.853265990334757\n"
          ],
          "name": "stdout"
        },
        {
          "output_type": "stream",
          "text": [
            "[1.4GB(+0.0GB): 8.366sec] fit X\n",
            "[1.4GB(+0.0GB): 5.991sec] fit Y\n",
            "[1.4GB(+0.0GB): 9.241sec] fit F\n"
          ],
          "name": "stderr"
        },
        {
          "output_type": "stream",
          "text": [
            "fold 1: mean position error 9.649228410119855\n"
          ],
          "name": "stdout"
        },
        {
          "output_type": "stream",
          "text": [
            "[1.4GB(+0.0GB): 8.682sec] fit X\n",
            "[1.4GB(+0.0GB): 16.194sec] fit Y\n",
            "[1.4GB(+0.0GB): 11.695sec] fit F\n"
          ],
          "name": "stderr"
        },
        {
          "output_type": "stream",
          "text": [
            "fold 2: mean position error 8.371898496694719\n"
          ],
          "name": "stdout"
        },
        {
          "output_type": "stream",
          "text": [
            "[1.4GB(+0.0GB): 9.909sec] fit X\n",
            "[1.4GB(+0.0GB): 15.165sec] fit Y\n",
            "[1.4GB(+0.0GB): 26.899sec] fit F\n"
          ],
          "name": "stderr"
        },
        {
          "output_type": "stream",
          "text": [
            "fold 3: mean position error 7.849195625589923\n"
          ],
          "name": "stdout"
        },
        {
          "output_type": "stream",
          "text": [
            "[1.4GB(+0.0GB): 13.558sec] fit X\n",
            "[1.4GB(+0.0GB): 7.275sec] fit Y\n",
            "[1.4GB(+0.0GB): 43.618sec] fit F\n"
          ],
          "name": "stderr"
        },
        {
          "output_type": "stream",
          "text": [
            "fold 4: mean position error 8.948990059612203\n"
          ],
          "name": "stdout"
        },
        {
          "output_type": "stream",
          "text": [
            "[1.4GB(+0.0GB): 10.924sec] fit X\n",
            "[1.4GB(+0.0GB): 15.589sec] fit Y\n",
            "[1.4GB(+0.0GB): 30.668sec] fit F\n"
          ],
          "name": "stderr"
        },
        {
          "output_type": "stream",
          "text": [
            "fold 5: mean position error 7.98553071735535\n"
          ],
          "name": "stdout"
        },
        {
          "output_type": "stream",
          "text": [
            "[1.4GB(+0.0GB): 13.085sec] fit X\n",
            "[1.4GB(+0.0GB): 6.080sec] fit Y\n",
            "[1.4GB(+0.0GB): 24.515sec] fit F\n"
          ],
          "name": "stderr"
        },
        {
          "output_type": "stream",
          "text": [
            "fold 6: mean position error 8.783827948354284\n"
          ],
          "name": "stdout"
        },
        {
          "output_type": "stream",
          "text": [
            "[1.4GB(+0.0GB): 8.828sec] fit X\n",
            "[1.4GB(+0.0GB): 9.690sec] fit Y\n",
            "[1.4GB(+0.0GB): 32.989sec] fit F\n"
          ],
          "name": "stderr"
        },
        {
          "output_type": "stream",
          "text": [
            "fold 7: mean position error 8.555240318681046\n"
          ],
          "name": "stdout"
        },
        {
          "output_type": "stream",
          "text": [
            "[1.4GB(+0.0GB): 16.388sec] fit X\n",
            "[1.4GB(+0.0GB): 22.691sec] fit Y\n",
            "[1.4GB(+0.0GB): 14.738sec] fit F\n"
          ],
          "name": "stderr"
        },
        {
          "output_type": "stream",
          "text": [
            "fold 8: mean position error 8.414831631858869\n"
          ],
          "name": "stdout"
        },
        {
          "output_type": "stream",
          "text": [
            "[1.4GB(+0.0GB): 10.978sec] fit X\n",
            "[1.4GB(+0.0GB): 11.525sec] fit Y\n",
            "[1.4GB(+0.0GB): 29.550sec] fit F\n"
          ],
          "name": "stderr"
        },
        {
          "output_type": "stream",
          "text": [
            "fold 9: mean position error 8.37797599095265\n",
            "*+*+*+*+*+*+*+*+*+*+*+*+*+*+*+*+*+*+*+*+*+*+*+*+*+*+*+*+*+*+*+*+*+*+*+*+*+*+*+*+\n",
            "file #11, shape=(3527, 1107), name=5d2709bb03f801723c32852c_train_filtered.csv\n",
            "mean position error 8.579108796135795\n",
            "*+*+*+*+*+*+*+*+*+*+*+*+*+*+*+*+*+*+*+*+*+*+*+*+*+*+*+*+*+*+*+*+*+*+*+*+*+*+*+*+\n",
            "Starting to train:  5d2709c303f801723c3299ee_train_filtered.csv\n"
          ],
          "name": "stdout"
        },
        {
          "output_type": "stream",
          "text": [
            "[1.4GB(+0.0GB): 9.513sec] fit X\n",
            "[1.4GB(+0.0GB): 8.852sec] fit Y\n",
            "[1.4GB(+0.0GB): 24.618sec] fit F\n"
          ],
          "name": "stderr"
        },
        {
          "output_type": "stream",
          "text": [
            "fold 0: mean position error 5.772567081243655\n"
          ],
          "name": "stdout"
        },
        {
          "output_type": "stream",
          "text": [
            "[1.4GB(+0.0GB): 8.145sec] fit X\n",
            "[1.4GB(+0.0GB): 7.367sec] fit Y\n",
            "[1.4GB(+0.0GB): 37.951sec] fit F\n"
          ],
          "name": "stderr"
        },
        {
          "output_type": "stream",
          "text": [
            "fold 1: mean position error 6.214816987285028\n"
          ],
          "name": "stdout"
        },
        {
          "output_type": "stream",
          "text": [
            "[1.4GB(+0.0GB): 7.769sec] fit X\n",
            "[1.4GB(+0.0GB): 9.694sec] fit Y\n",
            "[1.4GB(+0.0GB): 12.059sec] fit F\n"
          ],
          "name": "stderr"
        },
        {
          "output_type": "stream",
          "text": [
            "fold 2: mean position error 5.9204985820421845\n"
          ],
          "name": "stdout"
        },
        {
          "output_type": "stream",
          "text": [
            "[1.4GB(+0.0GB): 7.106sec] fit X\n",
            "[1.4GB(+0.0GB): 11.176sec] fit Y\n",
            "[1.4GB(+0.0GB): 18.027sec] fit F\n"
          ],
          "name": "stderr"
        },
        {
          "output_type": "stream",
          "text": [
            "fold 3: mean position error 6.032254978725739\n"
          ],
          "name": "stdout"
        },
        {
          "output_type": "stream",
          "text": [
            "[1.4GB(+0.0GB): 11.694sec] fit X\n",
            "[1.4GB(+0.0GB): 11.716sec] fit Y\n",
            "[1.4GB(+0.0GB): 39.025sec] fit F\n"
          ],
          "name": "stderr"
        },
        {
          "output_type": "stream",
          "text": [
            "fold 4: mean position error 5.89886075663635\n"
          ],
          "name": "stdout"
        },
        {
          "output_type": "stream",
          "text": [
            "[1.4GB(+0.0GB): 9.281sec] fit X\n",
            "[1.4GB(+0.0GB): 11.677sec] fit Y\n",
            "[1.4GB(+0.0GB): 47.007sec] fit F\n"
          ],
          "name": "stderr"
        },
        {
          "output_type": "stream",
          "text": [
            "fold 5: mean position error 5.945991754596707\n"
          ],
          "name": "stdout"
        },
        {
          "output_type": "stream",
          "text": [
            "[1.4GB(+0.0GB): 12.851sec] fit X\n",
            "[1.4GB(+0.0GB): 9.288sec] fit Y\n",
            "[1.4GB(+0.0GB): 43.107sec] fit F\n"
          ],
          "name": "stderr"
        },
        {
          "output_type": "stream",
          "text": [
            "fold 6: mean position error 5.675283175241352\n"
          ],
          "name": "stdout"
        },
        {
          "output_type": "stream",
          "text": [
            "[1.4GB(+0.0GB): 6.672sec] fit X\n",
            "[1.4GB(+0.0GB): 7.841sec] fit Y\n",
            "[1.4GB(+0.0GB): 53.240sec] fit F\n"
          ],
          "name": "stderr"
        },
        {
          "output_type": "stream",
          "text": [
            "fold 7: mean position error 5.788794717633697\n"
          ],
          "name": "stdout"
        },
        {
          "output_type": "stream",
          "text": [
            "[1.4GB(+0.0GB): 8.969sec] fit X\n",
            "[1.4GB(+0.0GB): 10.910sec] fit Y\n",
            "[1.4GB(+0.0GB): 47.148sec] fit F\n"
          ],
          "name": "stderr"
        },
        {
          "output_type": "stream",
          "text": [
            "fold 8: mean position error 6.110619112404879\n"
          ],
          "name": "stdout"
        },
        {
          "output_type": "stream",
          "text": [
            "[1.4GB(+0.0GB): 10.186sec] fit X\n",
            "[1.4GB(+0.0GB): 10.209sec] fit Y\n",
            "[1.4GB(+0.0GB): 41.101sec] fit F\n"
          ],
          "name": "stderr"
        },
        {
          "output_type": "stream",
          "text": [
            "fold 9: mean position error 6.2983222398719905\n",
            "*+*+*+*+*+*+*+*+*+*+*+*+*+*+*+*+*+*+*+*+*+*+*+*+*+*+*+*+*+*+*+*+*+*+*+*+*+*+*+*+\n",
            "file #12, shape=(3529, 1205), name=5d2709c303f801723c3299ee_train_filtered.csv\n",
            "mean position error 5.9657067132064965\n",
            "*+*+*+*+*+*+*+*+*+*+*+*+*+*+*+*+*+*+*+*+*+*+*+*+*+*+*+*+*+*+*+*+*+*+*+*+*+*+*+*+\n",
            "Starting to train:  5d2709d403f801723c32bd39_train_filtered.csv\n"
          ],
          "name": "stdout"
        },
        {
          "output_type": "stream",
          "text": [
            "[1.4GB(+0.0GB): 8.741sec] fit X\n",
            "[1.4GB(+0.0GB): 8.663sec] fit Y\n",
            "[1.4GB(+0.0GB): 6.794sec] fit F\n"
          ],
          "name": "stderr"
        },
        {
          "output_type": "stream",
          "text": [
            "fold 0: mean position error 5.747907447075293\n"
          ],
          "name": "stdout"
        },
        {
          "output_type": "stream",
          "text": [
            "[1.4GB(+0.0GB): 5.222sec] fit X\n",
            "[1.4GB(+0.0GB): 9.200sec] fit Y\n",
            "[1.4GB(+0.0GB): 7.019sec] fit F\n"
          ],
          "name": "stderr"
        },
        {
          "output_type": "stream",
          "text": [
            "fold 1: mean position error 5.298749447386779\n"
          ],
          "name": "stdout"
        },
        {
          "output_type": "stream",
          "text": [
            "[1.4GB(+0.0GB): 6.725sec] fit X\n",
            "[1.4GB(+0.0GB): 7.720sec] fit Y\n",
            "[1.4GB(+0.0GB): 10.960sec] fit F\n"
          ],
          "name": "stderr"
        },
        {
          "output_type": "stream",
          "text": [
            "fold 2: mean position error 5.56579468036208\n"
          ],
          "name": "stdout"
        },
        {
          "output_type": "stream",
          "text": [
            "[1.4GB(+0.0GB): 6.733sec] fit X\n",
            "[1.4GB(+0.0GB): 8.814sec] fit Y\n",
            "[1.4GB(+0.0GB): 5.883sec] fit F\n"
          ],
          "name": "stderr"
        },
        {
          "output_type": "stream",
          "text": [
            "fold 3: mean position error 5.7326657199796855\n"
          ],
          "name": "stdout"
        },
        {
          "output_type": "stream",
          "text": [
            "[1.4GB(+0.0GB): 7.777sec] fit X\n",
            "[1.4GB(+0.0GB): 5.938sec] fit Y\n",
            "[1.4GB(+0.0GB): 4.294sec] fit F\n"
          ],
          "name": "stderr"
        },
        {
          "output_type": "stream",
          "text": [
            "fold 4: mean position error 5.808747595903474\n"
          ],
          "name": "stdout"
        },
        {
          "output_type": "stream",
          "text": [
            "[1.4GB(+0.0GB): 4.214sec] fit X\n",
            "[1.4GB(+0.0GB): 5.439sec] fit Y\n",
            "[1.4GB(+0.0GB): 8.936sec] fit F\n"
          ],
          "name": "stderr"
        },
        {
          "output_type": "stream",
          "text": [
            "fold 5: mean position error 6.011053915892003\n"
          ],
          "name": "stdout"
        },
        {
          "output_type": "stream",
          "text": [
            "[1.4GB(+0.0GB): 4.550sec] fit X\n",
            "[1.4GB(+0.0GB): 8.239sec] fit Y\n",
            "[1.4GB(+0.0GB): 7.674sec] fit F\n"
          ],
          "name": "stderr"
        },
        {
          "output_type": "stream",
          "text": [
            "fold 6: mean position error 5.630795164255225\n"
          ],
          "name": "stdout"
        },
        {
          "output_type": "stream",
          "text": [
            "[1.4GB(+0.0GB): 5.977sec] fit X\n",
            "[1.4GB(+0.0GB): 7.903sec] fit Y\n",
            "[1.4GB(+0.0GB): 5.623sec] fit F\n"
          ],
          "name": "stderr"
        },
        {
          "output_type": "stream",
          "text": [
            "fold 7: mean position error 5.917262956430984\n"
          ],
          "name": "stdout"
        },
        {
          "output_type": "stream",
          "text": [
            "[1.4GB(+0.0GB): 11.070sec] fit X\n",
            "[1.4GB(+0.0GB): 10.924sec] fit Y\n",
            "[1.4GB(+0.0GB): 4.597sec] fit F\n"
          ],
          "name": "stderr"
        },
        {
          "output_type": "stream",
          "text": [
            "fold 8: mean position error 5.894182686764704\n"
          ],
          "name": "stdout"
        },
        {
          "output_type": "stream",
          "text": [
            "[1.4GB(+0.0GB): 7.422sec] fit X\n",
            "[1.4GB(+0.0GB): 6.632sec] fit Y\n",
            "[1.4GB(+0.0GB): 4.696sec] fit F\n"
          ],
          "name": "stderr"
        },
        {
          "output_type": "stream",
          "text": [
            "fold 9: mean position error 5.984357808175251\n",
            "*+*+*+*+*+*+*+*+*+*+*+*+*+*+*+*+*+*+*+*+*+*+*+*+*+*+*+*+*+*+*+*+*+*+*+*+*+*+*+*+\n",
            "file #13, shape=(2670, 440), name=5d2709d403f801723c32bd39_train_filtered.csv\n",
            "mean position error 5.759151742222548\n",
            "*+*+*+*+*+*+*+*+*+*+*+*+*+*+*+*+*+*+*+*+*+*+*+*+*+*+*+*+*+*+*+*+*+*+*+*+*+*+*+*+\n",
            "*+*+*+*+*+*+*+*+*+*+*+*+*+*+*+*+*+*+*+*+*+*+*+*+*+*+*+*+*+*+*+*+*+*+*+*+*+*+*+*+\n",
            "10.906357851484156\n",
            "*+*+*+*+*+*+*+*+*+*+*+*+*+*+*+*+*+*+*+*+*+*+*+*+*+*+*+*+*+*+*+*+*+*+*+*+*+*+*+*+\n"
          ],
          "name": "stdout"
        }
      ]
    },
    {
      "cell_type": "code",
      "metadata": {
        "id": "CAhM4kkDNyue"
      },
      "source": [
        "pred_files = glob.glob('/content' + '/*.csv')"
      ],
      "execution_count": 12,
      "outputs": []
    },
    {
      "cell_type": "code",
      "metadata": {
        "id": "tmM4BnbRNyf2"
      },
      "source": [
        "# extract all true and predicted x, y and f\n",
        "all_pred = pd.DataFrame()\n",
        "\n",
        "for file_name in pred_files:\n",
        "  file = pd.read_csv(file_name)\n",
        "\n",
        "  all_pred = pd.concat([all_pred, file.iloc[:, -9:]])"
      ],
      "execution_count": 14,
      "outputs": []
    },
    {
      "cell_type": "code",
      "metadata": {
        "colab": {
          "base_uri": "https://localhost:8080/"
        },
        "id": "CFOhtFlFOk8p",
        "outputId": "a081c0bc-b8c1-4031-a816-6a2fca61307c"
      },
      "source": [
        "comp_metric(all_pred['pred_x'], all_pred['pred_y'], all_pred['pred_f'], all_pred['x'], all_pred['y'], all_pred['f'])"
      ],
      "execution_count": 15,
      "outputs": [
        {
          "output_type": "execute_result",
          "data": {
            "text/plain": [
              "6.17471831857865"
            ]
          },
          "metadata": {
            "tags": []
          },
          "execution_count": 15
        }
      ]
    }
  ]
}