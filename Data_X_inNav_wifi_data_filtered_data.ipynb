{
  "nbformat": 4,
  "nbformat_minor": 0,
  "metadata": {
    "accelerator": "GPU",
    "colab": {
      "name": "Data_X_inNav_wifi_data_5_filtered.ipynb",
      "provenance": [],
      "collapsed_sections": [],
      "toc_visible": true,
      "machine_shape": "hm"
    },
    "kernelspec": {
      "display_name": "Python 3",
      "name": "python3"
    },
    "language_info": {
      "name": "python"
    }
  },
  "cells": [
    {
      "cell_type": "code",
      "metadata": {
        "colab": {
          "base_uri": "https://localhost:8080/"
        },
        "id": "phlyFaiKW_jc",
        "outputId": "6d7056f4-f240-46cb-965c-3ca423edc4cc"
      },
      "source": [
        "from google.colab import drive\n",
        "drive.mount('/content/drive')"
      ],
      "execution_count": null,
      "outputs": [
        {
          "output_type": "stream",
          "text": [
            "Mounted at /content/drive\n"
          ],
          "name": "stdout"
        }
      ]
    },
    {
      "cell_type": "code",
      "metadata": {
        "colab": {
          "base_uri": "https://localhost:8080/"
        },
        "id": "90nBl6mR6Ht_",
        "outputId": "9a2c6e70-8f80-431d-8271-2665fa02f24a"
      },
      "source": [
        "!nvidia-smi\n",
        "!cat /proc/cpuinfo\n",
        "!rm -rf sample_data\n",
        "\n",
        "!git clone --recursive https://github.com/Microsoft/LightGBM.git\n",
        "!cd LightGBM && rm -rf build && mkdir build && cd build && cmake -DUSE_GPU=1 ../../LightGBM && make -j4 && cd ../python-package && python3 setup.py install --precompile --gpu;"
      ],
      "execution_count": null,
      "outputs": [
        {
          "output_type": "stream",
          "text": [
            "Tue Apr 20 03:43:49 2021       \n",
            "+-----------------------------------------------------------------------------+\n",
            "| NVIDIA-SMI 460.67       Driver Version: 460.32.03    CUDA Version: 11.2     |\n",
            "|-------------------------------+----------------------+----------------------+\n",
            "| GPU  Name        Persistence-M| Bus-Id        Disp.A | Volatile Uncorr. ECC |\n",
            "| Fan  Temp  Perf  Pwr:Usage/Cap|         Memory-Usage | GPU-Util  Compute M. |\n",
            "|                               |                      |               MIG M. |\n",
            "|===============================+======================+======================|\n",
            "|   0  Tesla V100-SXM2...  Off  | 00000000:00:04.0 Off |                    0 |\n",
            "| N/A   34C    P0    23W / 300W |      0MiB / 16160MiB |      0%      Default |\n",
            "|                               |                      |                  N/A |\n",
            "+-------------------------------+----------------------+----------------------+\n",
            "                                                                               \n",
            "+-----------------------------------------------------------------------------+\n",
            "| Processes:                                                                  |\n",
            "|  GPU   GI   CI        PID   Type   Process name                  GPU Memory |\n",
            "|        ID   ID                                                   Usage      |\n",
            "|=============================================================================|\n",
            "|  No running processes found                                                 |\n",
            "+-----------------------------------------------------------------------------+\n",
            "processor\t: 0\n",
            "vendor_id\t: GenuineIntel\n",
            "cpu family\t: 6\n",
            "model\t\t: 79\n",
            "model name\t: Intel(R) Xeon(R) CPU @ 2.20GHz\n",
            "stepping\t: 0\n",
            "microcode\t: 0x1\n",
            "cpu MHz\t\t: 2199.998\n",
            "cache size\t: 56320 KB\n",
            "physical id\t: 0\n",
            "siblings\t: 4\n",
            "core id\t\t: 0\n",
            "cpu cores\t: 2\n",
            "apicid\t\t: 0\n",
            "initial apicid\t: 0\n",
            "fpu\t\t: yes\n",
            "fpu_exception\t: yes\n",
            "cpuid level\t: 13\n",
            "wp\t\t: yes\n",
            "flags\t\t: fpu vme de pse tsc msr pae mce cx8 apic sep mtrr pge mca cmov pat pse36 clflush mmx fxsr sse sse2 ss ht syscall nx pdpe1gb rdtscp lm constant_tsc rep_good nopl xtopology nonstop_tsc cpuid tsc_known_freq pni pclmulqdq ssse3 fma cx16 pcid sse4_1 sse4_2 x2apic movbe popcnt aes xsave avx f16c rdrand hypervisor lahf_lm abm 3dnowprefetch invpcid_single ssbd ibrs ibpb stibp fsgsbase tsc_adjust bmi1 hle avx2 smep bmi2 erms invpcid rtm rdseed adx smap xsaveopt arat md_clear arch_capabilities\n",
            "bugs\t\t: cpu_meltdown spectre_v1 spectre_v2 spec_store_bypass l1tf mds swapgs taa\n",
            "bogomips\t: 4399.99\n",
            "clflush size\t: 64\n",
            "cache_alignment\t: 64\n",
            "address sizes\t: 46 bits physical, 48 bits virtual\n",
            "power management:\n",
            "\n",
            "processor\t: 1\n",
            "vendor_id\t: GenuineIntel\n",
            "cpu family\t: 6\n",
            "model\t\t: 79\n",
            "model name\t: Intel(R) Xeon(R) CPU @ 2.20GHz\n",
            "stepping\t: 0\n",
            "microcode\t: 0x1\n",
            "cpu MHz\t\t: 2199.998\n",
            "cache size\t: 56320 KB\n",
            "physical id\t: 0\n",
            "siblings\t: 4\n",
            "core id\t\t: 1\n",
            "cpu cores\t: 2\n",
            "apicid\t\t: 2\n",
            "initial apicid\t: 2\n",
            "fpu\t\t: yes\n",
            "fpu_exception\t: yes\n",
            "cpuid level\t: 13\n",
            "wp\t\t: yes\n",
            "flags\t\t: fpu vme de pse tsc msr pae mce cx8 apic sep mtrr pge mca cmov pat pse36 clflush mmx fxsr sse sse2 ss ht syscall nx pdpe1gb rdtscp lm constant_tsc rep_good nopl xtopology nonstop_tsc cpuid tsc_known_freq pni pclmulqdq ssse3 fma cx16 pcid sse4_1 sse4_2 x2apic movbe popcnt aes xsave avx f16c rdrand hypervisor lahf_lm abm 3dnowprefetch invpcid_single ssbd ibrs ibpb stibp fsgsbase tsc_adjust bmi1 hle avx2 smep bmi2 erms invpcid rtm rdseed adx smap xsaveopt arat md_clear arch_capabilities\n",
            "bugs\t\t: cpu_meltdown spectre_v1 spectre_v2 spec_store_bypass l1tf mds swapgs taa\n",
            "bogomips\t: 4399.99\n",
            "clflush size\t: 64\n",
            "cache_alignment\t: 64\n",
            "address sizes\t: 46 bits physical, 48 bits virtual\n",
            "power management:\n",
            "\n",
            "processor\t: 2\n",
            "vendor_id\t: GenuineIntel\n",
            "cpu family\t: 6\n",
            "model\t\t: 79\n",
            "model name\t: Intel(R) Xeon(R) CPU @ 2.20GHz\n",
            "stepping\t: 0\n",
            "microcode\t: 0x1\n",
            "cpu MHz\t\t: 2199.998\n",
            "cache size\t: 56320 KB\n",
            "physical id\t: 0\n",
            "siblings\t: 4\n",
            "core id\t\t: 0\n",
            "cpu cores\t: 2\n",
            "apicid\t\t: 1\n",
            "initial apicid\t: 1\n",
            "fpu\t\t: yes\n",
            "fpu_exception\t: yes\n",
            "cpuid level\t: 13\n",
            "wp\t\t: yes\n",
            "flags\t\t: fpu vme de pse tsc msr pae mce cx8 apic sep mtrr pge mca cmov pat pse36 clflush mmx fxsr sse sse2 ss ht syscall nx pdpe1gb rdtscp lm constant_tsc rep_good nopl xtopology nonstop_tsc cpuid tsc_known_freq pni pclmulqdq ssse3 fma cx16 pcid sse4_1 sse4_2 x2apic movbe popcnt aes xsave avx f16c rdrand hypervisor lahf_lm abm 3dnowprefetch invpcid_single ssbd ibrs ibpb stibp fsgsbase tsc_adjust bmi1 hle avx2 smep bmi2 erms invpcid rtm rdseed adx smap xsaveopt arat md_clear arch_capabilities\n",
            "bugs\t\t: cpu_meltdown spectre_v1 spectre_v2 spec_store_bypass l1tf mds swapgs taa\n",
            "bogomips\t: 4399.99\n",
            "clflush size\t: 64\n",
            "cache_alignment\t: 64\n",
            "address sizes\t: 46 bits physical, 48 bits virtual\n",
            "power management:\n",
            "\n",
            "processor\t: 3\n",
            "vendor_id\t: GenuineIntel\n",
            "cpu family\t: 6\n",
            "model\t\t: 79\n",
            "model name\t: Intel(R) Xeon(R) CPU @ 2.20GHz\n",
            "stepping\t: 0\n",
            "microcode\t: 0x1\n",
            "cpu MHz\t\t: 2199.998\n",
            "cache size\t: 56320 KB\n",
            "physical id\t: 0\n",
            "siblings\t: 4\n",
            "core id\t\t: 1\n",
            "cpu cores\t: 2\n",
            "apicid\t\t: 3\n",
            "initial apicid\t: 3\n",
            "fpu\t\t: yes\n",
            "fpu_exception\t: yes\n",
            "cpuid level\t: 13\n",
            "wp\t\t: yes\n",
            "flags\t\t: fpu vme de pse tsc msr pae mce cx8 apic sep mtrr pge mca cmov pat pse36 clflush mmx fxsr sse sse2 ss ht syscall nx pdpe1gb rdtscp lm constant_tsc rep_good nopl xtopology nonstop_tsc cpuid tsc_known_freq pni pclmulqdq ssse3 fma cx16 pcid sse4_1 sse4_2 x2apic movbe popcnt aes xsave avx f16c rdrand hypervisor lahf_lm abm 3dnowprefetch invpcid_single ssbd ibrs ibpb stibp fsgsbase tsc_adjust bmi1 hle avx2 smep bmi2 erms invpcid rtm rdseed adx smap xsaveopt arat md_clear arch_capabilities\n",
            "bugs\t\t: cpu_meltdown spectre_v1 spectre_v2 spec_store_bypass l1tf mds swapgs taa\n",
            "bogomips\t: 4399.99\n",
            "clflush size\t: 64\n",
            "cache_alignment\t: 64\n",
            "address sizes\t: 46 bits physical, 48 bits virtual\n",
            "power management:\n",
            "\n",
            "Cloning into 'LightGBM'...\n",
            "remote: Enumerating objects: 21785, done.\u001b[K\n",
            "remote: Counting objects: 100% (275/275), done.\u001b[K\n",
            "remote: Compressing objects: 100% (182/182), done.\u001b[K\n",
            "remote: Total 21785 (delta 148), reused 168 (delta 88), pack-reused 21510\u001b[K\n",
            "Receiving objects: 100% (21785/21785), 17.17 MiB | 24.83 MiB/s, done.\n",
            "Resolving deltas: 100% (15902/15902), done.\n",
            "Submodule 'include/boost/compute' (https://github.com/boostorg/compute) registered for path 'external_libs/compute'\n",
            "Submodule 'eigen' (https://gitlab.com/libeigen/eigen.git) registered for path 'external_libs/eigen'\n",
            "Submodule 'external_libs/fast_double_parser' (https://github.com/lemire/fast_double_parser.git) registered for path 'external_libs/fast_double_parser'\n",
            "Submodule 'external_libs/fmt' (https://github.com/fmtlib/fmt.git) registered for path 'external_libs/fmt'\n",
            "Cloning into '/content/LightGBM/external_libs/compute'...\n",
            "remote: Enumerating objects: 21728, done.        \n",
            "remote: Total 21728 (delta 0), reused 0 (delta 0), pack-reused 21728        \n",
            "Receiving objects: 100% (21728/21728), 8.51 MiB | 8.18 MiB/s, done.\n",
            "Resolving deltas: 100% (17566/17566), done.\n",
            "Cloning into '/content/LightGBM/external_libs/eigen'...\n",
            "remote: Enumerating objects: 765, done.        \n",
            "remote: Counting objects: 100% (765/765), done.        \n",
            "remote: Compressing objects: 100% (253/253), done.        \n",
            "remote: Total 109399 (delta 596), reused 657 (delta 510), pack-reused 108634        \n",
            "Receiving objects: 100% (109399/109399), 101.68 MiB | 6.18 MiB/s, done.\n",
            "Resolving deltas: 100% (89863/89863), done.\n",
            "Cloning into '/content/LightGBM/external_libs/fast_double_parser'...\n",
            "remote: Enumerating objects: 672, done.        \n",
            "remote: Counting objects: 100% (172/172), done.        \n",
            "remote: Compressing objects: 100% (107/107), done.        \n",
            "remote: Total 672 (delta 84), reused 95 (delta 39), pack-reused 500        \n",
            "Receiving objects: 100% (672/672), 798.63 KiB | 4.70 MiB/s, done.\n",
            "Resolving deltas: 100% (338/338), done.\n",
            "Cloning into '/content/LightGBM/external_libs/fmt'...\n",
            "remote: Enumerating objects: 25030, done.        \n",
            "remote: Counting objects: 100% (202/202), done.        \n",
            "remote: Compressing objects: 100% (93/93), done.        \n",
            "remote: Total 25030 (delta 105), reused 151 (delta 86), pack-reused 24828        \n",
            "Receiving objects: 100% (25030/25030), 12.46 MiB | 12.81 MiB/s, done.\n",
            "Resolving deltas: 100% (16916/16916), done.\n",
            "Submodule path 'external_libs/compute': checked out '36c89134d4013b2e5e45bc55656a18bd6141995a'\n",
            "Submodule path 'external_libs/eigen': checked out '8ba1b0f41a7950dc3e1d4ed75859e36c73311235'\n",
            "Submodule path 'external_libs/fast_double_parser': checked out 'ace60646c02dc54c57f19d644e49a61e7e7758ec'\n",
            "Submodule 'benchmark/dependencies/abseil-cpp' (https://github.com/abseil/abseil-cpp.git) registered for path 'external_libs/fast_double_parser/benchmarks/dependencies/abseil-cpp'\n",
            "Submodule 'benchmark/dependencies/double-conversion' (https://github.com/google/double-conversion.git) registered for path 'external_libs/fast_double_parser/benchmarks/dependencies/double-conversion'\n",
            "Cloning into '/content/LightGBM/external_libs/fast_double_parser/benchmarks/dependencies/abseil-cpp'...\n",
            "remote: Enumerating objects: 14239, done.        \n",
            "remote: Counting objects: 100% (174/174), done.        \n",
            "remote: Compressing objects: 100% (144/144), done.        \n",
            "remote: Total 14239 (delta 73), reused 119 (delta 30), pack-reused 14065        \n",
            "Receiving objects: 100% (14239/14239), 9.32 MiB | 19.59 MiB/s, done.\n",
            "Resolving deltas: 100% (10814/10814), done.\n",
            "Cloning into '/content/LightGBM/external_libs/fast_double_parser/benchmarks/dependencies/double-conversion'...\n",
            "remote: Enumerating objects: 1220, done.        \n",
            "remote: Counting objects: 100% (64/64), done.        \n",
            "remote: Compressing objects: 100% (42/42), done.        \n",
            "remote: Total 1220 (delta 35), reused 39 (delta 22), pack-reused 1156        \n",
            "Receiving objects: 100% (1220/1220), 7.08 MiB | 6.17 MiB/s, done.\n",
            "Resolving deltas: 100% (807/807), done.\n",
            "Submodule path 'external_libs/fast_double_parser/benchmarks/dependencies/abseil-cpp': checked out 'd936052d32a5b7ca08b0199a6724724aea432309'\n",
            "Submodule path 'external_libs/fast_double_parser/benchmarks/dependencies/double-conversion': checked out 'f4cb2384efa55dee0e6652f8674b05763441ab09'\n",
            "Submodule path 'external_libs/fmt': checked out 'cc09f1a6798c085c325569ef466bcdcffdc266d4'\n",
            "-- The C compiler identification is GNU 7.5.0\n",
            "-- The CXX compiler identification is GNU 7.5.0\n",
            "-- Check for working C compiler: /usr/bin/cc\n",
            "-- Check for working C compiler: /usr/bin/cc -- works\n",
            "-- Detecting C compiler ABI info\n",
            "-- Detecting C compiler ABI info - done\n",
            "-- Detecting C compile features\n",
            "-- Detecting C compile features - done\n",
            "-- Check for working CXX compiler: /usr/bin/c++\n",
            "-- Check for working CXX compiler: /usr/bin/c++ -- works\n",
            "-- Detecting CXX compiler ABI info\n",
            "-- Detecting CXX compiler ABI info - done\n",
            "-- Detecting CXX compile features\n",
            "-- Detecting CXX compile features - done\n",
            "-- Found OpenMP_C: -fopenmp (found version \"4.5\") \n",
            "-- Found OpenMP_CXX: -fopenmp (found version \"4.5\") \n",
            "-- Found OpenMP: TRUE (found version \"4.5\")  \n",
            "-- Looking for CL_VERSION_2_2\n",
            "-- Looking for CL_VERSION_2_2 - found\n",
            "-- Found OpenCL: /usr/lib/x86_64-linux-gnu/libOpenCL.so (found version \"2.2\") \n",
            "-- OpenCL include directory: /usr/include\n",
            "-- Boost version: 1.65.1\n",
            "-- Found the following Boost libraries:\n",
            "--   filesystem\n",
            "--   system\n",
            "-- Performing Test MM_PREFETCH\n",
            "-- Performing Test MM_PREFETCH - Success\n",
            "-- Using _mm_prefetch\n",
            "-- Performing Test MM_MALLOC\n",
            "-- Performing Test MM_MALLOC - Success\n",
            "-- Using _mm_malloc\n",
            "-- Configuring done\n",
            "-- Generating done\n",
            "-- Build files have been written to: /content/LightGBM/build\n",
            "\u001b[35m\u001b[1mScanning dependencies of target _lightgbm\u001b[0m\n",
            "\u001b[35m\u001b[1mScanning dependencies of target lightgbm\u001b[0m\n",
            "[  2%] \u001b[32mBuilding CXX object CMakeFiles/lightgbm.dir/src/main.cpp.o\u001b[0m\n",
            "[  2%] \u001b[32mBuilding CXX object CMakeFiles/lightgbm.dir/src/application/application.cpp.o\u001b[0m\n",
            "[  4%] \u001b[32mBuilding CXX object CMakeFiles/_lightgbm.dir/src/boosting/boosting.cpp.o\u001b[0m\n",
            "[  5%] \u001b[32mBuilding CXX object CMakeFiles/lightgbm.dir/src/boosting/boosting.cpp.o\u001b[0m\n",
            "[  7%] \u001b[32mBuilding CXX object CMakeFiles/_lightgbm.dir/src/boosting/gbdt.cpp.o\u001b[0m\n",
            "[  8%] \u001b[32mBuilding CXX object CMakeFiles/lightgbm.dir/src/boosting/gbdt.cpp.o\u001b[0m\n",
            "[ 10%] \u001b[32mBuilding CXX object CMakeFiles/lightgbm.dir/src/boosting/gbdt_model_text.cpp.o\u001b[0m\n",
            "[ 11%] \u001b[32mBuilding CXX object CMakeFiles/_lightgbm.dir/src/boosting/gbdt_model_text.cpp.o\u001b[0m\n",
            "[ 13%] \u001b[32mBuilding CXX object CMakeFiles/_lightgbm.dir/src/boosting/gbdt_prediction.cpp.o\u001b[0m\n",
            "[ 14%] \u001b[32mBuilding CXX object CMakeFiles/_lightgbm.dir/src/boosting/prediction_early_stop.cpp.o\u001b[0m\n",
            "[ 15%] \u001b[32mBuilding CXX object CMakeFiles/_lightgbm.dir/src/io/bin.cpp.o\u001b[0m\n",
            "[ 17%] \u001b[32mBuilding CXX object CMakeFiles/lightgbm.dir/src/boosting/gbdt_prediction.cpp.o\u001b[0m\n",
            "[ 18%] \u001b[32mBuilding CXX object CMakeFiles/lightgbm.dir/src/boosting/prediction_early_stop.cpp.o\u001b[0m\n",
            "[ 20%] \u001b[32mBuilding CXX object CMakeFiles/_lightgbm.dir/src/io/config.cpp.o\u001b[0m\n",
            "[ 21%] \u001b[32mBuilding CXX object CMakeFiles/lightgbm.dir/src/io/bin.cpp.o\u001b[0m\n",
            "[ 23%] \u001b[32mBuilding CXX object CMakeFiles/lightgbm.dir/src/io/config.cpp.o\u001b[0m\n",
            "[ 24%] \u001b[32mBuilding CXX object CMakeFiles/_lightgbm.dir/src/io/config_auto.cpp.o\u001b[0m\n",
            "[ 26%] \u001b[32mBuilding CXX object CMakeFiles/lightgbm.dir/src/io/config_auto.cpp.o\u001b[0m\n",
            "[ 27%] \u001b[32mBuilding CXX object CMakeFiles/_lightgbm.dir/src/io/dataset.cpp.o\u001b[0m\n",
            "[ 28%] \u001b[32mBuilding CXX object CMakeFiles/lightgbm.dir/src/io/dataset.cpp.o\u001b[0m\n",
            "[ 30%] \u001b[32mBuilding CXX object CMakeFiles/_lightgbm.dir/src/io/dataset_loader.cpp.o\u001b[0m\n",
            "[ 31%] \u001b[32mBuilding CXX object CMakeFiles/_lightgbm.dir/src/io/file_io.cpp.o\u001b[0m\n",
            "[ 33%] \u001b[32mBuilding CXX object CMakeFiles/_lightgbm.dir/src/io/json11.cpp.o\u001b[0m\n",
            "[ 34%] \u001b[32mBuilding CXX object CMakeFiles/lightgbm.dir/src/io/dataset_loader.cpp.o\u001b[0m\n",
            "[ 36%] \u001b[32mBuilding CXX object CMakeFiles/lightgbm.dir/src/io/file_io.cpp.o\u001b[0m\n",
            "[ 37%] \u001b[32mBuilding CXX object CMakeFiles/lightgbm.dir/src/io/json11.cpp.o\u001b[0m\n",
            "[ 39%] \u001b[32mBuilding CXX object CMakeFiles/_lightgbm.dir/src/io/metadata.cpp.o\u001b[0m\n",
            "[ 40%] \u001b[32mBuilding CXX object CMakeFiles/lightgbm.dir/src/io/metadata.cpp.o\u001b[0m\n",
            "[ 42%] \u001b[32mBuilding CXX object CMakeFiles/_lightgbm.dir/src/io/parser.cpp.o\u001b[0m\n",
            "[ 43%] \u001b[32mBuilding CXX object CMakeFiles/_lightgbm.dir/src/io/train_share_states.cpp.o\u001b[0m\n",
            "[ 44%] \u001b[32mBuilding CXX object CMakeFiles/lightgbm.dir/src/io/parser.cpp.o\u001b[0m\n",
            "[ 46%] \u001b[32mBuilding CXX object CMakeFiles/_lightgbm.dir/src/io/tree.cpp.o\u001b[0m\n",
            "[ 47%] \u001b[32mBuilding CXX object CMakeFiles/lightgbm.dir/src/io/train_share_states.cpp.o\u001b[0m\n",
            "[ 49%] \u001b[32mBuilding CXX object CMakeFiles/_lightgbm.dir/src/metric/dcg_calculator.cpp.o\u001b[0m\n",
            "[ 50%] \u001b[32mBuilding CXX object CMakeFiles/lightgbm.dir/src/io/tree.cpp.o\u001b[0m\n",
            "[ 52%] \u001b[32mBuilding CXX object CMakeFiles/lightgbm.dir/src/metric/dcg_calculator.cpp.o\u001b[0m\n",
            "[ 53%] \u001b[32mBuilding CXX object CMakeFiles/_lightgbm.dir/src/metric/metric.cpp.o\u001b[0m\n",
            "[ 55%] \u001b[32mBuilding CXX object CMakeFiles/lightgbm.dir/src/metric/metric.cpp.o\u001b[0m\n",
            "[ 56%] \u001b[32mBuilding CXX object CMakeFiles/_lightgbm.dir/src/network/ifaddrs_patch.cpp.o\u001b[0m\n",
            "[ 57%] \u001b[32mBuilding CXX object CMakeFiles/_lightgbm.dir/src/network/linker_topo.cpp.o\u001b[0m\n",
            "[ 59%] \u001b[32mBuilding CXX object CMakeFiles/_lightgbm.dir/src/network/linkers_mpi.cpp.o\u001b[0m\n",
            "[ 60%] \u001b[32mBuilding CXX object CMakeFiles/_lightgbm.dir/src/network/linkers_socket.cpp.o\u001b[0m\n",
            "[ 62%] \u001b[32mBuilding CXX object CMakeFiles/_lightgbm.dir/src/network/network.cpp.o\u001b[0m\n",
            "[ 63%] \u001b[32mBuilding CXX object CMakeFiles/lightgbm.dir/src/network/ifaddrs_patch.cpp.o\u001b[0m\n",
            "[ 65%] \u001b[32mBuilding CXX object CMakeFiles/lightgbm.dir/src/network/linker_topo.cpp.o\u001b[0m\n",
            "[ 66%] \u001b[32mBuilding CXX object CMakeFiles/lightgbm.dir/src/network/linkers_mpi.cpp.o\u001b[0m\n",
            "[ 68%] \u001b[32mBuilding CXX object CMakeFiles/lightgbm.dir/src/network/linkers_socket.cpp.o\u001b[0m\n",
            "[ 69%] \u001b[32mBuilding CXX object CMakeFiles/lightgbm.dir/src/network/network.cpp.o\u001b[0m\n",
            "[ 71%] \u001b[32mBuilding CXX object CMakeFiles/_lightgbm.dir/src/objective/objective_function.cpp.o\u001b[0m\n",
            "[ 72%] \u001b[32mBuilding CXX object CMakeFiles/_lightgbm.dir/src/treelearner/cuda_tree_learner.cpp.o\u001b[0m\n",
            "[ 73%] \u001b[32mBuilding CXX object CMakeFiles/_lightgbm.dir/src/treelearner/data_parallel_tree_learner.cpp.o\u001b[0m\n",
            "[ 75%] \u001b[32mBuilding CXX object CMakeFiles/lightgbm.dir/src/objective/objective_function.cpp.o\u001b[0m\n",
            "[ 76%] \u001b[32mBuilding CXX object CMakeFiles/lightgbm.dir/src/treelearner/cuda_tree_learner.cpp.o\u001b[0m\n",
            "[ 78%] \u001b[32mBuilding CXX object CMakeFiles/lightgbm.dir/src/treelearner/data_parallel_tree_learner.cpp.o\u001b[0m\n",
            "[ 79%] \u001b[32mBuilding CXX object CMakeFiles/_lightgbm.dir/src/treelearner/feature_parallel_tree_learner.cpp.o\u001b[0m\n",
            "[ 81%] \u001b[32mBuilding CXX object CMakeFiles/lightgbm.dir/src/treelearner/feature_parallel_tree_learner.cpp.o\u001b[0m\n",
            "[ 82%] \u001b[32mBuilding CXX object CMakeFiles/_lightgbm.dir/src/treelearner/gpu_tree_learner.cpp.o\u001b[0m\n",
            "[ 84%] \u001b[32mBuilding CXX object CMakeFiles/_lightgbm.dir/src/treelearner/linear_tree_learner.cpp.o\u001b[0m\n",
            "[ 85%] \u001b[32mBuilding CXX object CMakeFiles/_lightgbm.dir/src/treelearner/serial_tree_learner.cpp.o\u001b[0m\n",
            "[ 86%] \u001b[32mBuilding CXX object CMakeFiles/lightgbm.dir/src/treelearner/gpu_tree_learner.cpp.o\u001b[0m\n",
            "[ 88%] \u001b[32mBuilding CXX object CMakeFiles/_lightgbm.dir/src/treelearner/tree_learner.cpp.o\u001b[0m\n",
            "[ 89%] \u001b[32mBuilding CXX object CMakeFiles/_lightgbm.dir/src/treelearner/voting_parallel_tree_learner.cpp.o\u001b[0m\n",
            "[ 91%] \u001b[32mBuilding CXX object CMakeFiles/_lightgbm.dir/src/c_api.cpp.o\u001b[0m\n",
            "[ 92%] \u001b[32mBuilding CXX object CMakeFiles/lightgbm.dir/src/treelearner/linear_tree_learner.cpp.o\u001b[0m\n",
            "[ 94%] \u001b[32mBuilding CXX object CMakeFiles/lightgbm.dir/src/treelearner/serial_tree_learner.cpp.o\u001b[0m\n",
            "[ 95%] \u001b[32mBuilding CXX object CMakeFiles/lightgbm.dir/src/treelearner/tree_learner.cpp.o\u001b[0m\n",
            "[ 97%] \u001b[32mBuilding CXX object CMakeFiles/lightgbm.dir/src/treelearner/voting_parallel_tree_learner.cpp.o\u001b[0m\n",
            "[ 98%] \u001b[32m\u001b[1mLinking CXX shared library ../lib_lightgbm.so\u001b[0m\n",
            "[ 98%] Built target _lightgbm\n",
            "[100%] \u001b[32m\u001b[1mLinking CXX executable ../lightgbm\u001b[0m\n",
            "[100%] Built target lightgbm\n",
            "running install\n",
            "running build\n",
            "running build_py\n",
            "INFO:root:Generating grammar tables from /usr/lib/python3.7/lib2to3/Grammar.txt\n",
            "INFO:root:Generating grammar tables from /usr/lib/python3.7/lib2to3/PatternGrammar.txt\n",
            "creating build\n",
            "creating build/lib\n",
            "creating build/lib/lightgbm\n",
            "copying lightgbm/sklearn.py -> build/lib/lightgbm\n",
            "copying lightgbm/engine.py -> build/lib/lightgbm\n",
            "copying lightgbm/basic.py -> build/lib/lightgbm\n",
            "copying lightgbm/callback.py -> build/lib/lightgbm\n",
            "copying lightgbm/compat.py -> build/lib/lightgbm\n",
            "copying lightgbm/plotting.py -> build/lib/lightgbm\n",
            "copying lightgbm/libpath.py -> build/lib/lightgbm\n",
            "copying lightgbm/dask.py -> build/lib/lightgbm\n",
            "copying lightgbm/__init__.py -> build/lib/lightgbm\n",
            "running egg_info\n",
            "creating lightgbm.egg-info\n",
            "writing lightgbm.egg-info/PKG-INFO\n",
            "writing dependency_links to lightgbm.egg-info/dependency_links.txt\n",
            "writing requirements to lightgbm.egg-info/requires.txt\n",
            "writing top-level names to lightgbm.egg-info/top_level.txt\n",
            "writing manifest file 'lightgbm.egg-info/SOURCES.txt'\n",
            "reading manifest template 'MANIFEST.in'\n",
            "no previously-included directories found matching 'build'\n",
            "warning: no files found matching 'LICENSE'\n",
            "warning: no files found matching '*.txt'\n",
            "warning: no files found matching '*.so' under directory 'lightgbm'\n",
            "warning: no files found matching 'compile/CMakeLists.txt'\n",
            "warning: no files found matching 'compile/cmake/IntegratedOpenCL.cmake'\n",
            "warning: no files found matching '*.so' under directory 'compile'\n",
            "warning: no files found matching '*.dll' under directory 'compile/Release'\n",
            "warning: no files found matching 'compile/external_libs/compute/CMakeLists.txt'\n",
            "warning: no files found matching '*' under directory 'compile/external_libs/compute/cmake'\n",
            "warning: no files found matching '*' under directory 'compile/external_libs/compute/include'\n",
            "warning: no files found matching '*' under directory 'compile/external_libs/compute/meta'\n",
            "warning: no files found matching 'compile/external_libs/eigen/CMakeLists.txt'\n",
            "warning: no files found matching 'compile/external_libs/eigen/Eigen/Cholesky'\n",
            "warning: no files found matching 'compile/external_libs/eigen/Eigen/Core'\n",
            "warning: no files found matching 'compile/external_libs/eigen/Eigen/Dense'\n",
            "warning: no files found matching 'compile/external_libs/eigen/Eigen/Eigenvalues'\n",
            "warning: no files found matching 'compile/external_libs/eigen/Eigen/Geometry'\n",
            "warning: no files found matching 'compile/external_libs/eigen/Eigen/Householder'\n",
            "warning: no files found matching 'compile/external_libs/eigen/Eigen/Jacobi'\n",
            "warning: no files found matching 'compile/external_libs/eigen/Eigen/LU'\n",
            "warning: no files found matching 'compile/external_libs/eigen/Eigen/QR'\n",
            "warning: no files found matching 'compile/external_libs/eigen/Eigen/SVD'\n",
            "warning: no files found matching '*' under directory 'compile/external_libs/eigen/Eigen/src/Cholesky'\n",
            "warning: no files found matching '*' under directory 'compile/external_libs/eigen/Eigen/src/Core'\n",
            "warning: no files found matching '*' under directory 'compile/external_libs/eigen/Eigen/src/Eigenvalues'\n",
            "warning: no files found matching '*' under directory 'compile/external_libs/eigen/Eigen/src/Geometry'\n",
            "warning: no files found matching '*' under directory 'compile/external_libs/eigen/Eigen/src/Householder'\n",
            "warning: no files found matching '*' under directory 'compile/external_libs/eigen/Eigen/src/Jacobi'\n",
            "warning: no files found matching '*' under directory 'compile/external_libs/eigen/Eigen/src/LU'\n",
            "warning: no files found matching '*' under directory 'compile/external_libs/eigen/Eigen/src/misc'\n",
            "warning: no files found matching '*' under directory 'compile/external_libs/eigen/Eigen/src/plugins'\n",
            "warning: no files found matching '*' under directory 'compile/external_libs/eigen/Eigen/src/QR'\n",
            "warning: no files found matching '*' under directory 'compile/external_libs/eigen/Eigen/src/SVD'\n",
            "warning: no files found matching 'compile/external_libs/fast_double_parser/CMakeLists.txt'\n",
            "warning: no files found matching 'compile/external_libs/fast_double_parser/LICENSE'\n",
            "warning: no files found matching 'compile/external_libs/fast_double_parser/LICENSE.BSL'\n",
            "warning: no files found matching '*' under directory 'compile/external_libs/fast_double_parser/include'\n",
            "warning: no files found matching 'compile/external_libs/fmt/CMakeLists.txt'\n",
            "warning: no files found matching 'compile/external_libs/fmt/LICENSE.rst'\n",
            "warning: no files found matching '*' under directory 'compile/external_libs/fmt/include'\n",
            "warning: no files found matching '*' under directory 'compile/include'\n",
            "warning: no files found matching '*' under directory 'compile/src'\n",
            "warning: no files found matching 'LightGBM.sln' under directory 'compile/windows'\n",
            "warning: no files found matching 'LightGBM.vcxproj' under directory 'compile/windows'\n",
            "warning: no files found matching '*.dll' under directory 'compile/windows/x64/DLL'\n",
            "warning: no previously-included files matching '*.py[co]' found anywhere in distribution\n",
            "warning: no previously-included files found matching 'compile/external_libs/compute/.git'\n",
            "writing manifest file 'lightgbm.egg-info/SOURCES.txt'\n",
            "copying lightgbm/VERSION.txt -> build/lib/lightgbm\n",
            "running install_lib\n",
            "copying build/lib/lightgbm/VERSION.txt -> /usr/local/lib/python3.7/dist-packages/lightgbm\n",
            "copying build/lib/lightgbm/sklearn.py -> /usr/local/lib/python3.7/dist-packages/lightgbm\n",
            "copying build/lib/lightgbm/engine.py -> /usr/local/lib/python3.7/dist-packages/lightgbm\n",
            "copying build/lib/lightgbm/basic.py -> /usr/local/lib/python3.7/dist-packages/lightgbm\n",
            "copying build/lib/lightgbm/callback.py -> /usr/local/lib/python3.7/dist-packages/lightgbm\n",
            "copying build/lib/lightgbm/compat.py -> /usr/local/lib/python3.7/dist-packages/lightgbm\n",
            "copying build/lib/lightgbm/plotting.py -> /usr/local/lib/python3.7/dist-packages/lightgbm\n",
            "copying build/lib/lightgbm/libpath.py -> /usr/local/lib/python3.7/dist-packages/lightgbm\n",
            "copying build/lib/lightgbm/dask.py -> /usr/local/lib/python3.7/dist-packages/lightgbm\n",
            "copying build/lib/lightgbm/__init__.py -> /usr/local/lib/python3.7/dist-packages/lightgbm\n",
            "INFO:LightGBM:Installing lib_lightgbm from: ['../lib_lightgbm.so']\n",
            "copying ../lib_lightgbm.so -> /usr/local/lib/python3.7/dist-packages/lightgbm\n",
            "byte-compiling /usr/local/lib/python3.7/dist-packages/lightgbm/sklearn.py to sklearn.cpython-37.pyc\n",
            "byte-compiling /usr/local/lib/python3.7/dist-packages/lightgbm/engine.py to engine.cpython-37.pyc\n",
            "byte-compiling /usr/local/lib/python3.7/dist-packages/lightgbm/basic.py to basic.cpython-37.pyc\n",
            "byte-compiling /usr/local/lib/python3.7/dist-packages/lightgbm/callback.py to callback.cpython-37.pyc\n",
            "byte-compiling /usr/local/lib/python3.7/dist-packages/lightgbm/compat.py to compat.cpython-37.pyc\n",
            "byte-compiling /usr/local/lib/python3.7/dist-packages/lightgbm/plotting.py to plotting.cpython-37.pyc\n",
            "byte-compiling /usr/local/lib/python3.7/dist-packages/lightgbm/libpath.py to libpath.cpython-37.pyc\n",
            "byte-compiling /usr/local/lib/python3.7/dist-packages/lightgbm/dask.py to dask.cpython-37.pyc\n",
            "byte-compiling /usr/local/lib/python3.7/dist-packages/lightgbm/__init__.py to __init__.cpython-37.pyc\n",
            "running install_egg_info\n",
            "Copying lightgbm.egg-info to /usr/local/lib/python3.7/dist-packages/lightgbm-3.2.1.99-py3.7.egg-info\n",
            "running install_scripts\n"
          ],
          "name": "stdout"
        }
      ]
    },
    {
      "cell_type": "code",
      "metadata": {
        "id": "p-towmis6RTo"
      },
      "source": [
        "!mkdir data\n",
        "# !cp /content/drive/MyDrive/Data-x/data/0403/*.csv /content/data/\n",
        "!cp /content/drive/MyDrive/Data-x/data/filtered/*.csv /content/data/"
      ],
      "execution_count": null,
      "outputs": []
    },
    {
      "cell_type": "code",
      "metadata": {
        "colab": {
          "base_uri": "https://localhost:8080/"
        },
        "id": "qHnwXe8ot15u",
        "outputId": "a38140f6-4362-42c9-87db-4d5adbd21fee"
      },
      "source": [
        "%cd data\n",
        "!for file in *; do mv \"${file}\" \"${file/_filtered/}\"; done"
      ],
      "execution_count": null,
      "outputs": [
        {
          "output_type": "stream",
          "text": [
            "/content/data\n"
          ],
          "name": "stdout"
        }
      ]
    },
    {
      "cell_type": "code",
      "metadata": {
        "id": "FvrZCaLe-Uvg",
        "colab": {
          "base_uri": "https://localhost:8080/"
        },
        "outputId": "e62565e8-7d4d-4afa-84e9-3be60a2c3f2a"
      },
      "source": [
        "%cd /content"
      ],
      "execution_count": null,
      "outputs": [
        {
          "output_type": "stream",
          "text": [
            "/content\n"
          ],
          "name": "stdout"
        }
      ]
    },
    {
      "cell_type": "code",
      "metadata": {
        "id": "bFKsnitz-hOx",
        "colab": {
          "base_uri": "https://localhost:8080/"
        },
        "outputId": "12f53798-4a5a-4610-8078-be70b34d5620"
      },
      "source": [
        "import numpy as np\n",
        "import pandas as pd\n",
        "import scipy.stats as stats\n",
        "from pathlib import Path\n",
        "import glob\n",
        "\n",
        "from sklearn.model_selection import KFold\n",
        "import lightgbm as lgb\n",
        "\n",
        "import psutil\n",
        "import random\n",
        "import os\n",
        "import time\n",
        "import sys\n",
        "import math\n",
        "from contextlib import contextmanager\n",
        "\n",
        "\n",
        "N_SPLITS = 10\n",
        "SEED = 42\n",
        "\n",
        "@contextmanager\n",
        "def timer(name: str):\n",
        "    t0 = time.time()\n",
        "    p = psutil.Process(os.getpid())\n",
        "    m0 = p.memory_info()[0] / 2. ** 30\n",
        "    try:\n",
        "        yield\n",
        "    finally:\n",
        "        m1 = p.memory_info()[0] / 2. ** 30\n",
        "        delta = m1 - m0\n",
        "        sign = '+' if delta >= 0 else '-'\n",
        "        delta = math.fabs(delta)\n",
        "        print(f\"[{m1:.1f}GB({sign}{delta:.1f}GB): {time.time() - t0:.3f}sec] {name}\", file=sys.stderr)\n",
        "\n",
        "\n",
        "def set_seed(seed=42):\n",
        "    random.seed(seed)\n",
        "    os.environ[\"PYTHONHASHSEED\"] = str(seed)\n",
        "    np.random.seed(seed)\n",
        "    \n",
        "def comp_metric(xhat, yhat, fhat, x, y, f):\n",
        "    intermediate = np.sqrt(np.power(xhat-x, 2) + np.power(yhat-y, 2)) + 15 * np.abs(fhat-f)\n",
        "    return intermediate.sum()/xhat.shape[0]\n",
        "\n",
        "\n",
        "\n",
        "\n",
        "\n",
        "set_seed(SEED)\n",
        "\n",
        "feature_dir = './*/'\n",
        "train_files = sorted(glob.glob(os.path.join(feature_dir, '*_train.csv')))\n",
        "print(train_files)\n",
        "test_files = sorted(glob.glob(os.path.join(feature_dir, '*_test.csv')))\n",
        "\n",
        "#parameters for the three LightGBM models\n",
        "lgb_params = {'objective': 'root_mean_squared_error',\n",
        "              'boosting_type': 'gbdt',\n",
        "              'n_estimators': 50000,\n",
        "              'learning_rate': 0.04,\n",
        "              'num_leaves': 90,\n",
        "              'device': 'gpu',\n",
        "              'colsample_bytree': 0.4,\n",
        "              'subsample': 0.6,\n",
        "              'subsample_freq': 2,\n",
        "              'bagging_seed': SEED,\n",
        "              'reg_alpha': 4,\n",
        "              'reg_lambda': 2,\n",
        "              'random_state': SEED,\n",
        "              'n_jobs': -1\n",
        "              }\n",
        "\n",
        "lgb_f_params = {'objective': 'multiclass',\n",
        "                'boosting_type': 'gbdt',\n",
        "                'n_estimators': 50000,\n",
        "                'learning_rate': 0.04,\n",
        "                'num_leaves': 90,\n",
        "                'device': 'gpu',\n",
        "                'colsample_bytree': 0.4,\n",
        "                'subsample': 0.6,\n",
        "                'subsample_freq': 2,\n",
        "                'bagging_seed': SEED,\n",
        "                'reg_alpha': 2,\n",
        "                'reg_lambda': 2,\n",
        "                'random_state': SEED,\n",
        "                'n_jobs': -1\n",
        "                }"
      ],
      "execution_count": null,
      "outputs": [
        {
          "output_type": "stream",
          "text": [
            "['./data/5cd56b5ae2acfd2d33b58544_train.csv', './data/5cd56b5ae2acfd2d33b58546_train.csv', './data/5cd56b5ae2acfd2d33b58548_train.csv', './data/5cd56b5ae2acfd2d33b58549_train.csv', './data/5cd56b5ae2acfd2d33b5854a_train.csv', './data/5d27075f03f801723c2e360f_train.csv', './data/5d27096c03f801723c31e5e0_train.csv', './data/5d27097f03f801723c320d97_train.csv', './data/5d27099f03f801723c32511d_train.csv', './data/5d2709a003f801723c3251bf_train.csv', './data/5d2709b303f801723c327472_train.csv', './data/5d2709bb03f801723c32852c_train.csv', './data/5d2709c303f801723c3299ee_train.csv', './data/5d2709d403f801723c32bd39_train.csv']\n"
          ],
          "name": "stdout"
        },
        {
          "output_type": "execute_result",
          "data": {
            "text/plain": [
              "7"
            ]
          },
          "metadata": {
            "tags": []
          },
          "execution_count": 12
        }
      ]
    },
    {
      "cell_type": "markdown",
      "metadata": {
        "id": "5aHThFmXqdWh"
      },
      "source": [
        "# Calculate all data"
      ]
    },
    {
      "cell_type": "code",
      "metadata": {
        "id": "fU_ag5yp_qEw",
        "colab": {
          "base_uri": "https://localhost:8080/"
        },
        "outputId": "798d2913-ed22-49a3-ebaf-32c9171af0e1"
      },
      "source": [
        "from sklearn.metrics import mean_squared_error\n",
        "\n",
        "score_df = pd.DataFrame()\n",
        "oof = list()\n",
        "predictions = list()\n",
        "for n_files, file in enumerate(train_files):\n",
        "    data = pd.read_csv(file, index_col=0)\n",
        "    \n",
        "    test_data = pd.read_csv(test_files[n_files], index_col=0)\n",
        "\n",
        "    oof_x, oof_y, oof_f = np.zeros(data.shape[0]), np.zeros(data.shape[0]), np.zeros(data.shape[0])\n",
        "    # oof_x, oof_y, oof_f is the np.zeros to store X, Y and Floor result\n",
        "    preds_x, preds_y = 0, 0\n",
        "    preds_f_arr = np.zeros((test_data.shape[0], N_SPLITS))\n",
        "    print(\"Starting to train: \", os.path.basename(file))\n",
        "    kf = KFold(n_splits=N_SPLITS, shuffle=True, random_state=SEED)\n",
        "    for fold, (trn_idx, val_idx) in enumerate(kf.split(data.iloc[:, :-6])):\n",
        "        X_train = data.iloc[trn_idx, :-6] # All wifi signal info\n",
        "        y_trainx = data.iloc[trn_idx, -6] # the location X to be predicted\n",
        "        y_trainy = data.iloc[trn_idx, -5] # the location Y to be predicted\n",
        "        y_trainf = data.iloc[trn_idx, -4] # the location's floor\n",
        "\n",
        "        X_valid = data.iloc[val_idx, :-6] # All wifi signal info in KFold validation dataset\n",
        "        y_validx = data.iloc[val_idx, -6] # the location X to be predicted in KFold validation dataset\n",
        "        y_validy = data.iloc[val_idx, -5] # the location Y to be predicted in KFold validation dataset\n",
        "        y_validf = data.iloc[val_idx, -4] # the location's floor in KFold validation dataset\n",
        "\n",
        "        modelx = lgb.LGBMRegressor(**lgb_params) #Model selected, which is LightGBM\n",
        "        with timer(\"fit X\"):\n",
        "            modelx.fit(X_train, y_trainx,\n",
        "                       eval_set=[(X_valid, y_validx)],\n",
        "                       eval_metric='rmse',\n",
        "                       verbose=False,\n",
        "                       early_stopping_rounds=20\n",
        "                       ) #Model 1, used to predit X location only\n",
        "\n",
        "        modely = lgb.LGBMRegressor(**lgb_params)\n",
        "        with timer(\"fit Y\"):\n",
        "            modely.fit(X_train, y_trainy,\n",
        "                       eval_set=[(X_valid, y_validy)],\n",
        "                       eval_metric='rmse',\n",
        "                       verbose=False,\n",
        "                       early_stopping_rounds=20\n",
        "                       ) #Model 2, used to predit Y location only\n",
        "\n",
        "        modelf = lgb.LGBMClassifier(**lgb_f_params)\n",
        "        with timer(\"fit F\"):\n",
        "            modelf.fit(X_train, y_trainf,\n",
        "                       eval_set=[(X_valid, y_validf)],\n",
        "                       eval_metric='multi_logloss',\n",
        "                       verbose=False,\n",
        "                       early_stopping_rounds=20\n",
        "                       ) #Model 3, used to predit Floor location only\n",
        "\n",
        "        oof_x[val_idx] = modelx.predict(X_valid)\n",
        "        oof_y[val_idx] = modely.predict(X_valid)\n",
        "        oof_f[val_idx] = modelf.predict(X_valid).astype(int)\n",
        "\n",
        "        preds_x += modelx.predict(test_data.iloc[:, :-6]) / N_SPLITS \n",
        "        #Average the result of each folds, divide every result by n_splits, and add them together\n",
        "        preds_y += modely.predict(test_data.iloc[:, :-6]) / N_SPLITS\n",
        "        #Average the result of each folds, divide every result by n_splits, and add them together\n",
        "        preds_f_arr[:, fold] = modelf.predict(test_data.iloc[:, :-6]).astype(int)\n",
        "        #The floor is dealt differently,   \n",
        "\n",
        "        score = comp_metric(oof_x[val_idx], oof_y[val_idx], oof_f[val_idx],\n",
        "                            y_validx.to_numpy(), y_validy.to_numpy(), y_validf.to_numpy())\n",
        "        # the error in current KFold\n",
        "        print(f\"fold {fold}: mean position error {score}\")\n",
        "\n",
        "\n",
        "    # Evaluate mean position error of each file\n",
        "    print(\"*+\"*40)\n",
        "    print(f\"file #{n_files}, shape={data.shape}, name={os.path.basename(file)}\")\n",
        "    score = comp_metric(oof_x, oof_y, oof_f,\n",
        "                        data.iloc[:, -6].to_numpy(), data.iloc[:, -5].to_numpy(), data.iloc[:, -4].to_numpy())\n",
        "    #Calculate the score/error\n",
        "    oof.append(score)\n",
        "    print(f\"mean position error {score}\")\n",
        "    print(\"*+\"*40)\n",
        "\n",
        "    preds_f_mode = stats.mode(preds_f_arr, axis=1)\n",
        "    preds_f = preds_f_mode[0].astype(int).reshape(-1)\n",
        "    #The floor is dealt differently, vote to choose the most appeared floor number in all folds\n",
        "    test_preds = pd.DataFrame(np.stack((preds_f, preds_x, preds_y))).T\n",
        "    ######\n",
        "    #Stack all the predictions in one testing file together, and transpose to vertical\n",
        "    predictions.append(test_preds)\n",
        "    # print(test_preds)\n",
        "\n",
        "    column_num = len(test_data.columns)\n",
        "    test_data = test_data.reset_index()\n",
        "\n",
        "    test_data.insert(column_num, 'pred_x', test_preds[1], True)\n",
        "    test_data.insert(column_num+1, 'pred_y', test_preds[2], True)\n",
        "    test_data.insert(column_num+2, 'pred_f', test_preds[0], True) \n",
        "\n",
        "    building_name = file[7:-10] + '.csv'\n",
        "\n",
        "    test_data.to_csv(building_name)\n",
        "\n",
        "print(\"*+\"*40)\n",
        "print(sum(oof)/len(oof))\n",
        "print(\"*+\"*40)"
      ],
      "execution_count": null,
      "outputs": [
        {
          "output_type": "stream",
          "text": [
            "Starting to train:  5cd56b5ae2acfd2d33b58544_train.csv\n"
          ],
          "name": "stdout"
        },
        {
          "output_type": "stream",
          "text": [
            "[1.6GB(+0.0GB): 0.352sec] fit X\n",
            "[1.6GB(+0.0GB): 0.519sec] fit Y\n",
            "[1.6GB(+0.0GB): 1.630sec] fit F\n"
          ],
          "name": "stderr"
        },
        {
          "output_type": "stream",
          "text": [
            "fold 0: mean position error 13.040269271935818\n"
          ],
          "name": "stdout"
        },
        {
          "output_type": "stream",
          "text": [
            "[1.6GB(+0.0GB): 0.519sec] fit X\n",
            "[1.6GB(+0.0GB): 0.662sec] fit Y\n",
            "[1.6GB(+0.0GB): 0.961sec] fit F\n"
          ],
          "name": "stderr"
        },
        {
          "output_type": "stream",
          "text": [
            "fold 1: mean position error 15.231453072024527\n"
          ],
          "name": "stdout"
        },
        {
          "output_type": "stream",
          "text": [
            "[1.6GB(+0.0GB): 0.733sec] fit X\n",
            "[1.6GB(+0.0GB): 0.476sec] fit Y\n",
            "[1.6GB(+0.0GB): 2.375sec] fit F\n"
          ],
          "name": "stderr"
        },
        {
          "output_type": "stream",
          "text": [
            "fold 2: mean position error 12.078728606804518\n"
          ],
          "name": "stdout"
        },
        {
          "output_type": "stream",
          "text": [
            "[1.6GB(+0.0GB): 0.912sec] fit X\n",
            "[1.6GB(+0.0GB): 1.325sec] fit Y\n",
            "[1.6GB(+0.0GB): 2.843sec] fit F\n"
          ],
          "name": "stderr"
        },
        {
          "output_type": "stream",
          "text": [
            "fold 3: mean position error 8.98497139912765\n"
          ],
          "name": "stdout"
        },
        {
          "output_type": "stream",
          "text": [
            "[1.6GB(+0.0GB): 0.639sec] fit X\n",
            "[1.6GB(+0.0GB): 0.598sec] fit Y\n",
            "[1.6GB(+0.0GB): 1.918sec] fit F\n"
          ],
          "name": "stderr"
        },
        {
          "output_type": "stream",
          "text": [
            "fold 4: mean position error 15.159647291379716\n"
          ],
          "name": "stdout"
        },
        {
          "output_type": "stream",
          "text": [
            "[1.6GB(+0.0GB): 0.468sec] fit X\n",
            "[1.6GB(+0.0GB): 1.097sec] fit Y\n",
            "[1.6GB(+0.0GB): 2.175sec] fit F\n"
          ],
          "name": "stderr"
        },
        {
          "output_type": "stream",
          "text": [
            "fold 5: mean position error 19.218051099032103\n"
          ],
          "name": "stdout"
        },
        {
          "output_type": "stream",
          "text": [
            "[1.6GB(+0.0GB): 0.991sec] fit X\n",
            "[1.6GB(+0.0GB): 0.658sec] fit Y\n",
            "[1.6GB(+0.0GB): 1.786sec] fit F\n"
          ],
          "name": "stderr"
        },
        {
          "output_type": "stream",
          "text": [
            "fold 6: mean position error 12.702485587654355\n"
          ],
          "name": "stdout"
        },
        {
          "output_type": "stream",
          "text": [
            "[1.6GB(+0.0GB): 0.460sec] fit X\n",
            "[1.6GB(+0.0GB): 0.566sec] fit Y\n",
            "[1.6GB(+0.0GB): 1.819sec] fit F\n"
          ],
          "name": "stderr"
        },
        {
          "output_type": "stream",
          "text": [
            "fold 7: mean position error 10.822171809411822\n"
          ],
          "name": "stdout"
        },
        {
          "output_type": "stream",
          "text": [
            "[1.6GB(+0.0GB): 0.795sec] fit X\n",
            "[1.6GB(+0.0GB): 1.005sec] fit Y\n",
            "[1.6GB(+0.0GB): 5.128sec] fit F\n"
          ],
          "name": "stderr"
        },
        {
          "output_type": "stream",
          "text": [
            "fold 8: mean position error 11.999338629221734\n"
          ],
          "name": "stdout"
        },
        {
          "output_type": "stream",
          "text": [
            "[1.6GB(+0.0GB): 0.423sec] fit X\n",
            "[1.6GB(+0.0GB): 0.590sec] fit Y\n",
            "[1.6GB(+0.0GB): 1.909sec] fit F\n"
          ],
          "name": "stderr"
        },
        {
          "output_type": "stream",
          "text": [
            "fold 9: mean position error 11.947438466465558\n",
            "*+*+*+*+*+*+*+*+*+*+*+*+*+*+*+*+*+*+*+*+*+*+*+*+*+*+*+*+*+*+*+*+*+*+*+*+*+*+*+*+\n",
            "file #0, shape=(187, 87), name=5cd56b5ae2acfd2d33b58544_train.csv\n",
            "mean position error 13.142981820978607\n",
            "*+*+*+*+*+*+*+*+*+*+*+*+*+*+*+*+*+*+*+*+*+*+*+*+*+*+*+*+*+*+*+*+*+*+*+*+*+*+*+*+\n",
            "Starting to train:  5cd56b5ae2acfd2d33b58546_train.csv\n"
          ],
          "name": "stdout"
        },
        {
          "output_type": "stream",
          "text": [
            "[1.6GB(+0.0GB): 0.333sec] fit X\n",
            "[1.6GB(+0.0GB): 0.512sec] fit Y\n",
            "[1.6GB(+0.0GB): 3.604sec] fit F\n"
          ],
          "name": "stderr"
        },
        {
          "output_type": "stream",
          "text": [
            "fold 0: mean position error 21.74559390498601\n"
          ],
          "name": "stdout"
        },
        {
          "output_type": "stream",
          "text": [
            "[1.6GB(+0.0GB): 0.415sec] fit X\n",
            "[1.6GB(+0.0GB): 0.743sec] fit Y\n",
            "[1.6GB(+0.0GB): 3.910sec] fit F\n"
          ],
          "name": "stderr"
        },
        {
          "output_type": "stream",
          "text": [
            "fold 1: mean position error 16.446360026269474\n"
          ],
          "name": "stdout"
        },
        {
          "output_type": "stream",
          "text": [
            "[1.6GB(+0.0GB): 0.700sec] fit X\n",
            "[1.6GB(+0.0GB): 0.777sec] fit Y\n",
            "[1.6GB(+0.0GB): 2.021sec] fit F\n"
          ],
          "name": "stderr"
        },
        {
          "output_type": "stream",
          "text": [
            "fold 2: mean position error 17.70094684868323\n"
          ],
          "name": "stdout"
        },
        {
          "output_type": "stream",
          "text": [
            "[1.6GB(+0.0GB): 0.535sec] fit X\n",
            "[1.6GB(+0.0GB): 0.498sec] fit Y\n",
            "[1.6GB(+0.0GB): 4.332sec] fit F\n"
          ],
          "name": "stderr"
        },
        {
          "output_type": "stream",
          "text": [
            "fold 3: mean position error 19.443401233041907\n"
          ],
          "name": "stdout"
        },
        {
          "output_type": "stream",
          "text": [
            "[1.6GB(+0.0GB): 0.409sec] fit X\n",
            "[1.6GB(+0.0GB): 0.429sec] fit Y\n",
            "[1.6GB(+0.0GB): 1.897sec] fit F\n"
          ],
          "name": "stderr"
        },
        {
          "output_type": "stream",
          "text": [
            "fold 4: mean position error 17.646099369729708\n"
          ],
          "name": "stdout"
        },
        {
          "output_type": "stream",
          "text": [
            "[1.6GB(+0.0GB): 1.413sec] fit X\n",
            "[1.6GB(+0.0GB): 0.879sec] fit Y\n",
            "[1.6GB(+0.0GB): 2.049sec] fit F\n"
          ],
          "name": "stderr"
        },
        {
          "output_type": "stream",
          "text": [
            "fold 5: mean position error 23.213092449599046\n"
          ],
          "name": "stdout"
        },
        {
          "output_type": "stream",
          "text": [
            "[1.6GB(+0.0GB): 0.833sec] fit X\n",
            "[1.6GB(+0.0GB): 0.495sec] fit Y\n",
            "[1.6GB(+0.0GB): 2.875sec] fit F\n"
          ],
          "name": "stderr"
        },
        {
          "output_type": "stream",
          "text": [
            "fold 6: mean position error 14.336055153653604\n"
          ],
          "name": "stdout"
        },
        {
          "output_type": "stream",
          "text": [
            "[1.6GB(+0.0GB): 0.296sec] fit X\n",
            "[1.6GB(+0.0GB): 0.513sec] fit Y\n",
            "[1.6GB(+0.0GB): 2.316sec] fit F\n"
          ],
          "name": "stderr"
        },
        {
          "output_type": "stream",
          "text": [
            "fold 7: mean position error 21.174150231715053\n"
          ],
          "name": "stdout"
        },
        {
          "output_type": "stream",
          "text": [
            "[1.6GB(+0.0GB): 0.586sec] fit X\n",
            "[1.6GB(+0.0GB): 0.542sec] fit Y\n",
            "[1.6GB(+0.0GB): 2.080sec] fit F\n"
          ],
          "name": "stderr"
        },
        {
          "output_type": "stream",
          "text": [
            "fold 8: mean position error 21.363531334048986\n"
          ],
          "name": "stdout"
        },
        {
          "output_type": "stream",
          "text": [
            "[1.6GB(+0.0GB): 0.539sec] fit X\n",
            "[1.6GB(+0.0GB): 0.656sec] fit Y\n",
            "[1.6GB(+0.0GB): 4.454sec] fit F\n"
          ],
          "name": "stderr"
        },
        {
          "output_type": "stream",
          "text": [
            "fold 9: mean position error 21.951766628661936\n",
            "*+*+*+*+*+*+*+*+*+*+*+*+*+*+*+*+*+*+*+*+*+*+*+*+*+*+*+*+*+*+*+*+*+*+*+*+*+*+*+*+\n",
            "file #1, shape=(209, 149), name=5cd56b5ae2acfd2d33b58546_train.csv\n",
            "mean position error 19.490378823729696\n",
            "*+*+*+*+*+*+*+*+*+*+*+*+*+*+*+*+*+*+*+*+*+*+*+*+*+*+*+*+*+*+*+*+*+*+*+*+*+*+*+*+\n",
            "Starting to train:  5cd56b5ae2acfd2d33b58548_train.csv\n"
          ],
          "name": "stdout"
        },
        {
          "output_type": "stream",
          "text": [
            "[1.6GB(+0.0GB): 0.922sec] fit X\n",
            "[1.6GB(+0.0GB): 0.918sec] fit Y\n",
            "[1.6GB(+0.0GB): 3.848sec] fit F\n"
          ],
          "name": "stderr"
        },
        {
          "output_type": "stream",
          "text": [
            "fold 0: mean position error 6.324847440390795\n"
          ],
          "name": "stdout"
        },
        {
          "output_type": "stream",
          "text": [
            "[1.6GB(+0.0GB): 0.903sec] fit X\n",
            "[1.6GB(+0.0GB): 0.449sec] fit Y\n",
            "[1.6GB(+0.0GB): 2.929sec] fit F\n"
          ],
          "name": "stderr"
        },
        {
          "output_type": "stream",
          "text": [
            "fold 1: mean position error 8.19058437332754\n"
          ],
          "name": "stdout"
        },
        {
          "output_type": "stream",
          "text": [
            "[1.6GB(+0.0GB): 0.653sec] fit X\n",
            "[1.6GB(+0.0GB): 0.418sec] fit Y\n",
            "[1.6GB(+0.0GB): 3.693sec] fit F\n"
          ],
          "name": "stderr"
        },
        {
          "output_type": "stream",
          "text": [
            "fold 2: mean position error 6.323032738083335\n"
          ],
          "name": "stdout"
        },
        {
          "output_type": "stream",
          "text": [
            "[1.6GB(+0.0GB): 0.799sec] fit X\n",
            "[1.6GB(+0.0GB): 0.761sec] fit Y\n",
            "[1.6GB(+0.0GB): 4.369sec] fit F\n"
          ],
          "name": "stderr"
        },
        {
          "output_type": "stream",
          "text": [
            "fold 3: mean position error 5.968907727639813\n"
          ],
          "name": "stdout"
        },
        {
          "output_type": "stream",
          "text": [
            "[1.6GB(+0.0GB): 0.624sec] fit X\n",
            "[1.6GB(+0.0GB): 0.788sec] fit Y\n",
            "[1.6GB(+0.0GB): 2.236sec] fit F\n"
          ],
          "name": "stderr"
        },
        {
          "output_type": "stream",
          "text": [
            "fold 4: mean position error 8.064146224894232\n"
          ],
          "name": "stdout"
        },
        {
          "output_type": "stream",
          "text": [
            "[1.6GB(+0.0GB): 2.048sec] fit X\n",
            "[1.6GB(+0.0GB): 0.577sec] fit Y\n",
            "[1.6GB(+0.0GB): 5.198sec] fit F\n"
          ],
          "name": "stderr"
        },
        {
          "output_type": "stream",
          "text": [
            "fold 5: mean position error 7.909368080723817\n"
          ],
          "name": "stdout"
        },
        {
          "output_type": "stream",
          "text": [
            "[1.6GB(+0.0GB): 0.557sec] fit X\n",
            "[1.6GB(+0.0GB): 0.769sec] fit Y\n",
            "[1.6GB(+0.0GB): 3.038sec] fit F\n"
          ],
          "name": "stderr"
        },
        {
          "output_type": "stream",
          "text": [
            "fold 6: mean position error 7.303982069852486\n"
          ],
          "name": "stdout"
        },
        {
          "output_type": "stream",
          "text": [
            "[1.6GB(+0.0GB): 0.950sec] fit X\n",
            "[1.6GB(+0.0GB): 0.780sec] fit Y\n",
            "[1.6GB(+0.0GB): 2.030sec] fit F\n"
          ],
          "name": "stderr"
        },
        {
          "output_type": "stream",
          "text": [
            "fold 7: mean position error 6.696771230750739\n"
          ],
          "name": "stdout"
        },
        {
          "output_type": "stream",
          "text": [
            "[1.6GB(+0.0GB): 0.859sec] fit X\n",
            "[1.6GB(+0.0GB): 0.630sec] fit Y\n",
            "[1.6GB(+0.0GB): 2.133sec] fit F\n"
          ],
          "name": "stderr"
        },
        {
          "output_type": "stream",
          "text": [
            "fold 8: mean position error 7.6974781542583415\n"
          ],
          "name": "stdout"
        },
        {
          "output_type": "stream",
          "text": [
            "[1.6GB(+0.0GB): 0.635sec] fit X\n",
            "[1.6GB(+0.0GB): 0.866sec] fit Y\n",
            "[1.6GB(+0.0GB): 4.696sec] fit F\n"
          ],
          "name": "stderr"
        },
        {
          "output_type": "stream",
          "text": [
            "fold 9: mean position error 7.909017407609679\n",
            "*+*+*+*+*+*+*+*+*+*+*+*+*+*+*+*+*+*+*+*+*+*+*+*+*+*+*+*+*+*+*+*+*+*+*+*+*+*+*+*+\n",
            "file #2, shape=(272, 49), name=5cd56b5ae2acfd2d33b58548_train.csv\n",
            "mean position error 7.23895253270974\n",
            "*+*+*+*+*+*+*+*+*+*+*+*+*+*+*+*+*+*+*+*+*+*+*+*+*+*+*+*+*+*+*+*+*+*+*+*+*+*+*+*+\n",
            "Starting to train:  5cd56b5ae2acfd2d33b58549_train.csv\n"
          ],
          "name": "stdout"
        },
        {
          "output_type": "stream",
          "text": [
            "[1.6GB(+0.0GB): 0.666sec] fit X\n",
            "[1.6GB(+0.0GB): 0.462sec] fit Y\n",
            "[1.6GB(+0.0GB): 1.672sec] fit F\n"
          ],
          "name": "stderr"
        },
        {
          "output_type": "stream",
          "text": [
            "fold 0: mean position error 35.30767745610641\n"
          ],
          "name": "stdout"
        },
        {
          "output_type": "stream",
          "text": [
            "[1.6GB(+0.0GB): 0.691sec] fit X\n",
            "[1.6GB(+0.0GB): 0.438sec] fit Y\n",
            "[1.6GB(+0.0GB): 1.716sec] fit F\n"
          ],
          "name": "stderr"
        },
        {
          "output_type": "stream",
          "text": [
            "fold 1: mean position error 27.862005358755386\n"
          ],
          "name": "stdout"
        },
        {
          "output_type": "stream",
          "text": [
            "[1.6GB(+0.0GB): 0.962sec] fit X\n",
            "[1.6GB(+0.0GB): 0.666sec] fit Y\n",
            "[1.6GB(+0.0GB): 1.118sec] fit F\n"
          ],
          "name": "stderr"
        },
        {
          "output_type": "stream",
          "text": [
            "fold 2: mean position error 33.38828537009726\n"
          ],
          "name": "stdout"
        },
        {
          "output_type": "stream",
          "text": [
            "[1.6GB(+0.0GB): 0.491sec] fit X\n",
            "[1.6GB(+0.0GB): 0.540sec] fit Y\n",
            "[1.6GB(+0.0GB): 1.550sec] fit F\n"
          ],
          "name": "stderr"
        },
        {
          "output_type": "stream",
          "text": [
            "fold 3: mean position error 27.13739391067243\n"
          ],
          "name": "stdout"
        },
        {
          "output_type": "stream",
          "text": [
            "[1.6GB(+0.0GB): 0.632sec] fit X\n",
            "[1.6GB(+0.0GB): 0.804sec] fit Y\n",
            "[1.6GB(+0.0GB): 1.883sec] fit F\n"
          ],
          "name": "stderr"
        },
        {
          "output_type": "stream",
          "text": [
            "fold 4: mean position error 31.23255343384493\n"
          ],
          "name": "stdout"
        },
        {
          "output_type": "stream",
          "text": [
            "[1.6GB(+0.0GB): 0.414sec] fit X\n",
            "[1.6GB(+0.0GB): 0.559sec] fit Y\n",
            "[1.6GB(+0.0GB): 1.576sec] fit F\n"
          ],
          "name": "stderr"
        },
        {
          "output_type": "stream",
          "text": [
            "fold 5: mean position error 30.5046064589185\n"
          ],
          "name": "stdout"
        },
        {
          "output_type": "stream",
          "text": [
            "[1.6GB(+0.0GB): 0.982sec] fit X\n",
            "[1.6GB(+0.0GB): 0.507sec] fit Y\n",
            "[1.6GB(+0.0GB): 1.868sec] fit F\n"
          ],
          "name": "stderr"
        },
        {
          "output_type": "stream",
          "text": [
            "fold 6: mean position error 26.925700718281497\n"
          ],
          "name": "stdout"
        },
        {
          "output_type": "stream",
          "text": [
            "[1.6GB(+0.0GB): 0.721sec] fit X\n",
            "[1.6GB(+0.0GB): 0.413sec] fit Y\n",
            "[1.6GB(+0.0GB): 1.104sec] fit F\n"
          ],
          "name": "stderr"
        },
        {
          "output_type": "stream",
          "text": [
            "fold 7: mean position error 28.429185815259736\n"
          ],
          "name": "stdout"
        },
        {
          "output_type": "stream",
          "text": [
            "[1.6GB(+0.0GB): 0.345sec] fit X\n",
            "[1.6GB(+0.0GB): 0.423sec] fit Y\n",
            "[1.6GB(+0.0GB): 1.097sec] fit F\n"
          ],
          "name": "stderr"
        },
        {
          "output_type": "stream",
          "text": [
            "fold 8: mean position error 30.072006407719236\n"
          ],
          "name": "stdout"
        },
        {
          "output_type": "stream",
          "text": [
            "[1.6GB(+0.0GB): 0.438sec] fit X\n",
            "[1.6GB(+0.0GB): 0.514sec] fit Y\n",
            "[1.6GB(+0.0GB): 1.299sec] fit F\n"
          ],
          "name": "stderr"
        },
        {
          "output_type": "stream",
          "text": [
            "fold 9: mean position error 28.643479382279324\n",
            "*+*+*+*+*+*+*+*+*+*+*+*+*+*+*+*+*+*+*+*+*+*+*+*+*+*+*+*+*+*+*+*+*+*+*+*+*+*+*+*+\n",
            "file #3, shape=(613, 142), name=5cd56b5ae2acfd2d33b58549_train.csv\n",
            "mean position error 29.961230866579076\n",
            "*+*+*+*+*+*+*+*+*+*+*+*+*+*+*+*+*+*+*+*+*+*+*+*+*+*+*+*+*+*+*+*+*+*+*+*+*+*+*+*+\n",
            "Starting to train:  5cd56b5ae2acfd2d33b5854a_train.csv\n"
          ],
          "name": "stdout"
        },
        {
          "output_type": "stream",
          "text": [
            "[1.6GB(+0.0GB): 1.042sec] fit X\n",
            "[1.6GB(+0.0GB): 0.545sec] fit Y\n",
            "[1.6GB(+0.0GB): 2.769sec] fit F\n"
          ],
          "name": "stderr"
        },
        {
          "output_type": "stream",
          "text": [
            "fold 0: mean position error 14.692462321742116\n"
          ],
          "name": "stdout"
        },
        {
          "output_type": "stream",
          "text": [
            "[1.6GB(+0.0GB): 0.879sec] fit X\n",
            "[1.6GB(+0.0GB): 0.748sec] fit Y\n",
            "[1.6GB(+0.0GB): 1.653sec] fit F\n"
          ],
          "name": "stderr"
        },
        {
          "output_type": "stream",
          "text": [
            "fold 1: mean position error 14.449090070897636\n"
          ],
          "name": "stdout"
        },
        {
          "output_type": "stream",
          "text": [
            "[1.6GB(+0.0GB): 0.929sec] fit X\n",
            "[1.6GB(+0.0GB): 0.946sec] fit Y\n",
            "[1.6GB(+0.0GB): 1.652sec] fit F\n"
          ],
          "name": "stderr"
        },
        {
          "output_type": "stream",
          "text": [
            "fold 2: mean position error 16.8914855123827\n"
          ],
          "name": "stdout"
        },
        {
          "output_type": "stream",
          "text": [
            "[1.6GB(+0.0GB): 0.706sec] fit X\n",
            "[1.6GB(+0.0GB): 1.052sec] fit Y\n",
            "[1.6GB(+0.0GB): 4.203sec] fit F\n"
          ],
          "name": "stderr"
        },
        {
          "output_type": "stream",
          "text": [
            "fold 3: mean position error 13.449735767362265\n"
          ],
          "name": "stdout"
        },
        {
          "output_type": "stream",
          "text": [
            "[1.6GB(+0.0GB): 0.620sec] fit X\n",
            "[1.6GB(+0.0GB): 0.810sec] fit Y\n",
            "[1.6GB(+0.0GB): 1.725sec] fit F\n"
          ],
          "name": "stderr"
        },
        {
          "output_type": "stream",
          "text": [
            "fold 4: mean position error 14.62648553593054\n"
          ],
          "name": "stdout"
        },
        {
          "output_type": "stream",
          "text": [
            "[1.6GB(+0.0GB): 1.163sec] fit X\n",
            "[1.6GB(+0.0GB): 0.778sec] fit Y\n",
            "[1.6GB(+0.0GB): 2.766sec] fit F\n"
          ],
          "name": "stderr"
        },
        {
          "output_type": "stream",
          "text": [
            "fold 5: mean position error 13.906469338328556\n"
          ],
          "name": "stdout"
        },
        {
          "output_type": "stream",
          "text": [
            "[1.6GB(+0.0GB): 0.739sec] fit X\n",
            "[1.6GB(+0.0GB): 1.191sec] fit Y\n",
            "[1.6GB(+0.0GB): 1.856sec] fit F\n"
          ],
          "name": "stderr"
        },
        {
          "output_type": "stream",
          "text": [
            "fold 6: mean position error 13.455843188237967\n"
          ],
          "name": "stdout"
        },
        {
          "output_type": "stream",
          "text": [
            "[1.6GB(+0.0GB): 0.944sec] fit X\n",
            "[1.6GB(+0.0GB): 0.821sec] fit Y\n",
            "[1.6GB(+0.0GB): 1.962sec] fit F\n"
          ],
          "name": "stderr"
        },
        {
          "output_type": "stream",
          "text": [
            "fold 7: mean position error 13.95718738218799\n"
          ],
          "name": "stdout"
        },
        {
          "output_type": "stream",
          "text": [
            "[1.6GB(+0.0GB): 0.835sec] fit X\n",
            "[1.6GB(+0.0GB): 0.392sec] fit Y\n",
            "[1.6GB(+0.0GB): 1.741sec] fit F\n"
          ],
          "name": "stderr"
        },
        {
          "output_type": "stream",
          "text": [
            "fold 8: mean position error 17.908594147607644\n"
          ],
          "name": "stdout"
        },
        {
          "output_type": "stream",
          "text": [
            "[1.6GB(+0.0GB): 1.038sec] fit X\n",
            "[1.6GB(+0.0GB): 0.734sec] fit Y\n",
            "[1.6GB(+0.0GB): 1.383sec] fit F\n"
          ],
          "name": "stderr"
        },
        {
          "output_type": "stream",
          "text": [
            "fold 9: mean position error 14.309925044178765\n",
            "*+*+*+*+*+*+*+*+*+*+*+*+*+*+*+*+*+*+*+*+*+*+*+*+*+*+*+*+*+*+*+*+*+*+*+*+*+*+*+*+\n",
            "file #4, shape=(418, 84), name=5cd56b5ae2acfd2d33b5854a_train.csv\n",
            "mean position error 14.758294664545868\n",
            "*+*+*+*+*+*+*+*+*+*+*+*+*+*+*+*+*+*+*+*+*+*+*+*+*+*+*+*+*+*+*+*+*+*+*+*+*+*+*+*+\n",
            "Starting to train:  5d27075f03f801723c2e360f_train.csv\n"
          ],
          "name": "stdout"
        },
        {
          "output_type": "stream",
          "text": [
            "[1.6GB(+0.0GB): 36.896sec] fit X\n",
            "[1.6GB(+0.0GB): 42.715sec] fit Y\n",
            "[1.6GB(+0.0GB): 56.552sec] fit F\n"
          ],
          "name": "stderr"
        },
        {
          "output_type": "stream",
          "text": [
            "fold 0: mean position error 6.33081313214367\n"
          ],
          "name": "stdout"
        },
        {
          "output_type": "stream",
          "text": [
            "[1.6GB(+0.0GB): 25.984sec] fit X\n",
            "[1.6GB(+0.0GB): 39.086sec] fit Y\n",
            "[1.6GB(+0.0GB): 72.394sec] fit F\n"
          ],
          "name": "stderr"
        },
        {
          "output_type": "stream",
          "text": [
            "fold 1: mean position error 6.670891707367733\n"
          ],
          "name": "stdout"
        },
        {
          "output_type": "stream",
          "text": [
            "[1.6GB(+0.0GB): 25.450sec] fit X\n",
            "[1.6GB(+0.0GB): 29.169sec] fit Y\n",
            "[1.6GB(+0.0GB): 57.961sec] fit F\n"
          ],
          "name": "stderr"
        },
        {
          "output_type": "stream",
          "text": [
            "fold 2: mean position error 7.402764735138846\n"
          ],
          "name": "stdout"
        },
        {
          "output_type": "stream",
          "text": [
            "[1.6GB(+0.0GB): 33.168sec] fit X\n",
            "[1.6GB(+0.0GB): 36.809sec] fit Y\n",
            "[1.6GB(+0.0GB): 65.986sec] fit F\n"
          ],
          "name": "stderr"
        },
        {
          "output_type": "stream",
          "text": [
            "fold 3: mean position error 7.753453336259286\n"
          ],
          "name": "stdout"
        },
        {
          "output_type": "stream",
          "text": [
            "[1.6GB(+0.0GB): 21.300sec] fit X\n",
            "[1.6GB(+0.0GB): 38.518sec] fit Y\n",
            "[1.6GB(+0.0GB): 71.167sec] fit F\n"
          ],
          "name": "stderr"
        },
        {
          "output_type": "stream",
          "text": [
            "fold 4: mean position error 6.986014962598746\n"
          ],
          "name": "stdout"
        },
        {
          "output_type": "stream",
          "text": [
            "[1.7GB(+0.0GB): 20.348sec] fit X\n",
            "[1.7GB(+0.0GB): 40.425sec] fit Y\n",
            "[1.7GB(+0.0GB): 40.793sec] fit F\n"
          ],
          "name": "stderr"
        },
        {
          "output_type": "stream",
          "text": [
            "fold 5: mean position error 6.888500895559162\n"
          ],
          "name": "stdout"
        },
        {
          "output_type": "stream",
          "text": [
            "[1.7GB(+0.0GB): 33.254sec] fit X\n",
            "[1.7GB(+0.0GB): 33.219sec] fit Y\n",
            "[1.7GB(+0.0GB): 42.892sec] fit F\n"
          ],
          "name": "stderr"
        },
        {
          "output_type": "stream",
          "text": [
            "fold 6: mean position error 6.729574400080674\n"
          ],
          "name": "stdout"
        },
        {
          "output_type": "stream",
          "text": [
            "[1.7GB(+0.0GB): 32.151sec] fit X\n",
            "[1.7GB(+0.0GB): 35.322sec] fit Y\n",
            "[1.7GB(+0.0GB): 108.344sec] fit F\n"
          ],
          "name": "stderr"
        },
        {
          "output_type": "stream",
          "text": [
            "fold 7: mean position error 7.078212570515371\n"
          ],
          "name": "stdout"
        },
        {
          "output_type": "stream",
          "text": [
            "[1.7GB(+0.0GB): 29.796sec] fit X\n",
            "[1.7GB(+0.0GB): 27.442sec] fit Y\n",
            "[1.7GB(+0.0GB): 53.190sec] fit F\n"
          ],
          "name": "stderr"
        },
        {
          "output_type": "stream",
          "text": [
            "fold 8: mean position error 6.918729500072514\n"
          ],
          "name": "stdout"
        },
        {
          "output_type": "stream",
          "text": [
            "[1.7GB(+0.0GB): 22.192sec] fit X\n",
            "[1.7GB(+0.0GB): 33.603sec] fit Y\n",
            "[1.7GB(+0.0GB): 50.701sec] fit F\n"
          ],
          "name": "stderr"
        },
        {
          "output_type": "stream",
          "text": [
            "fold 9: mean position error 7.600458054125495\n",
            "*+*+*+*+*+*+*+*+*+*+*+*+*+*+*+*+*+*+*+*+*+*+*+*+*+*+*+*+*+*+*+*+*+*+*+*+*+*+*+*+\n",
            "file #5, shape=(6653, 2350), name=5d27075f03f801723c2e360f_train.csv\n",
            "mean position error 7.035835609498353\n",
            "*+*+*+*+*+*+*+*+*+*+*+*+*+*+*+*+*+*+*+*+*+*+*+*+*+*+*+*+*+*+*+*+*+*+*+*+*+*+*+*+\n",
            "Starting to train:  5d27096c03f801723c31e5e0_train.csv\n"
          ],
          "name": "stdout"
        },
        {
          "output_type": "stream",
          "text": [
            "[1.7GB(+0.0GB): 2.499sec] fit X\n",
            "[1.7GB(+0.0GB): 3.985sec] fit Y\n",
            "[1.7GB(+0.0GB): 14.484sec] fit F\n"
          ],
          "name": "stderr"
        },
        {
          "output_type": "stream",
          "text": [
            "fold 0: mean position error 6.014736318989637\n"
          ],
          "name": "stdout"
        },
        {
          "output_type": "stream",
          "text": [
            "[1.7GB(+0.0GB): 3.345sec] fit X\n",
            "[1.7GB(+0.0GB): 4.260sec] fit Y\n",
            "[1.7GB(+0.0GB): 13.627sec] fit F\n"
          ],
          "name": "stderr"
        },
        {
          "output_type": "stream",
          "text": [
            "fold 1: mean position error 5.642608566018927\n"
          ],
          "name": "stdout"
        },
        {
          "output_type": "stream",
          "text": [
            "[1.7GB(+0.0GB): 3.683sec] fit X\n",
            "[1.7GB(+0.0GB): 3.189sec] fit Y\n",
            "[1.7GB(+0.0GB): 14.239sec] fit F\n"
          ],
          "name": "stderr"
        },
        {
          "output_type": "stream",
          "text": [
            "fold 2: mean position error 5.3472190475652965\n"
          ],
          "name": "stdout"
        },
        {
          "output_type": "stream",
          "text": [
            "[1.7GB(+0.0GB): 4.777sec] fit X\n",
            "[1.7GB(+0.0GB): 4.321sec] fit Y\n",
            "[1.7GB(+0.0GB): 16.504sec] fit F\n"
          ],
          "name": "stderr"
        },
        {
          "output_type": "stream",
          "text": [
            "fold 3: mean position error 5.288251457535648\n"
          ],
          "name": "stdout"
        },
        {
          "output_type": "stream",
          "text": [
            "[1.7GB(+0.0GB): 4.089sec] fit X\n",
            "[1.7GB(+0.0GB): 2.767sec] fit Y\n",
            "[1.7GB(+0.0GB): 26.040sec] fit F\n"
          ],
          "name": "stderr"
        },
        {
          "output_type": "stream",
          "text": [
            "fold 4: mean position error 5.196208721400011\n"
          ],
          "name": "stdout"
        },
        {
          "output_type": "stream",
          "text": [
            "[1.7GB(+0.0GB): 2.854sec] fit X\n",
            "[1.7GB(+0.0GB): 4.977sec] fit Y\n",
            "[1.7GB(+0.0GB): 18.903sec] fit F\n"
          ],
          "name": "stderr"
        },
        {
          "output_type": "stream",
          "text": [
            "fold 5: mean position error 5.554903280349923\n"
          ],
          "name": "stdout"
        },
        {
          "output_type": "stream",
          "text": [
            "[1.7GB(+0.0GB): 3.184sec] fit X\n",
            "[1.7GB(+0.0GB): 5.455sec] fit Y\n",
            "[1.7GB(+0.0GB): 17.808sec] fit F\n"
          ],
          "name": "stderr"
        },
        {
          "output_type": "stream",
          "text": [
            "fold 6: mean position error 4.6497343326300244\n"
          ],
          "name": "stdout"
        },
        {
          "output_type": "stream",
          "text": [
            "[1.7GB(+0.0GB): 2.121sec] fit X\n",
            "[1.7GB(+0.0GB): 2.902sec] fit Y\n",
            "[1.7GB(+0.0GB): 20.719sec] fit F\n"
          ],
          "name": "stderr"
        },
        {
          "output_type": "stream",
          "text": [
            "fold 7: mean position error 5.519902061458785\n"
          ],
          "name": "stdout"
        },
        {
          "output_type": "stream",
          "text": [
            "[1.7GB(+0.0GB): 2.723sec] fit X\n",
            "[1.7GB(+0.0GB): 3.120sec] fit Y\n",
            "[1.7GB(+0.0GB): 12.977sec] fit F\n"
          ],
          "name": "stderr"
        },
        {
          "output_type": "stream",
          "text": [
            "fold 8: mean position error 5.361300993917132\n"
          ],
          "name": "stdout"
        },
        {
          "output_type": "stream",
          "text": [
            "[1.7GB(+0.0GB): 3.268sec] fit X\n",
            "[1.7GB(+0.0GB): 2.818sec] fit Y\n",
            "[1.7GB(+0.0GB): 12.077sec] fit F\n"
          ],
          "name": "stderr"
        },
        {
          "output_type": "stream",
          "text": [
            "fold 9: mean position error 5.158610339920178\n",
            "*+*+*+*+*+*+*+*+*+*+*+*+*+*+*+*+*+*+*+*+*+*+*+*+*+*+*+*+*+*+*+*+*+*+*+*+*+*+*+*+\n",
            "file #6, shape=(1850, 431), name=5d27096c03f801723c31e5e0_train.csv\n",
            "mean position error 5.373347511978557\n",
            "*+*+*+*+*+*+*+*+*+*+*+*+*+*+*+*+*+*+*+*+*+*+*+*+*+*+*+*+*+*+*+*+*+*+*+*+*+*+*+*+\n",
            "Starting to train:  5d27097f03f801723c320d97_train.csv\n"
          ],
          "name": "stdout"
        },
        {
          "output_type": "stream",
          "text": [
            "[1.7GB(+0.0GB): 2.035sec] fit X\n",
            "[1.7GB(+0.0GB): 1.319sec] fit Y\n",
            "[1.7GB(+0.0GB): 6.455sec] fit F\n"
          ],
          "name": "stderr"
        },
        {
          "output_type": "stream",
          "text": [
            "fold 0: mean position error 18.139077937047418\n"
          ],
          "name": "stdout"
        },
        {
          "output_type": "stream",
          "text": [
            "[1.7GB(+0.0GB): 2.914sec] fit X\n",
            "[1.7GB(+0.0GB): 3.297sec] fit Y\n",
            "[1.7GB(+0.0GB): 6.358sec] fit F\n"
          ],
          "name": "stderr"
        },
        {
          "output_type": "stream",
          "text": [
            "fold 1: mean position error 15.168173128846188\n"
          ],
          "name": "stdout"
        },
        {
          "output_type": "stream",
          "text": [
            "[1.7GB(+0.0GB): 2.294sec] fit X\n",
            "[1.7GB(+0.0GB): 2.183sec] fit Y\n",
            "[1.7GB(+0.0GB): 6.102sec] fit F\n"
          ],
          "name": "stderr"
        },
        {
          "output_type": "stream",
          "text": [
            "fold 2: mean position error 14.519095740454565\n"
          ],
          "name": "stdout"
        },
        {
          "output_type": "stream",
          "text": [
            "[1.7GB(+0.0GB): 3.272sec] fit X\n",
            "[1.7GB(+0.0GB): 2.075sec] fit Y\n",
            "[1.7GB(+0.0GB): 7.874sec] fit F\n"
          ],
          "name": "stderr"
        },
        {
          "output_type": "stream",
          "text": [
            "fold 3: mean position error 12.958691134948904\n"
          ],
          "name": "stdout"
        },
        {
          "output_type": "stream",
          "text": [
            "[1.7GB(+0.0GB): 2.278sec] fit X\n",
            "[1.7GB(+0.0GB): 3.039sec] fit Y\n",
            "[1.7GB(+0.0GB): 7.363sec] fit F\n"
          ],
          "name": "stderr"
        },
        {
          "output_type": "stream",
          "text": [
            "fold 4: mean position error 14.912736034480538\n"
          ],
          "name": "stdout"
        },
        {
          "output_type": "stream",
          "text": [
            "[1.7GB(+0.0GB): 4.168sec] fit X\n",
            "[1.7GB(+0.0GB): 2.574sec] fit Y\n",
            "[1.7GB(+0.0GB): 8.905sec] fit F\n"
          ],
          "name": "stderr"
        },
        {
          "output_type": "stream",
          "text": [
            "fold 5: mean position error 15.822599513948074\n"
          ],
          "name": "stdout"
        },
        {
          "output_type": "stream",
          "text": [
            "[1.7GB(+0.0GB): 4.375sec] fit X\n",
            "[1.7GB(+0.0GB): 4.575sec] fit Y\n",
            "[1.7GB(+0.0GB): 19.368sec] fit F\n"
          ],
          "name": "stderr"
        },
        {
          "output_type": "stream",
          "text": [
            "fold 6: mean position error 12.551985482327185\n"
          ],
          "name": "stdout"
        },
        {
          "output_type": "stream",
          "text": [
            "[1.7GB(+0.0GB): 2.855sec] fit X\n",
            "[1.7GB(+0.0GB): 2.799sec] fit Y\n",
            "[1.7GB(+0.0GB): 6.420sec] fit F\n"
          ],
          "name": "stderr"
        },
        {
          "output_type": "stream",
          "text": [
            "fold 7: mean position error 16.312236185255117\n"
          ],
          "name": "stdout"
        },
        {
          "output_type": "stream",
          "text": [
            "[1.7GB(+0.0GB): 1.905sec] fit X\n",
            "[1.7GB(+0.0GB): 2.129sec] fit Y\n",
            "[1.7GB(+0.0GB): 6.800sec] fit F\n"
          ],
          "name": "stderr"
        },
        {
          "output_type": "stream",
          "text": [
            "fold 8: mean position error 14.451096482287971\n"
          ],
          "name": "stdout"
        },
        {
          "output_type": "stream",
          "text": [
            "[1.7GB(+0.0GB): 5.451sec] fit X\n",
            "[1.7GB(+0.0GB): 2.957sec] fit Y\n",
            "[1.7GB(+0.0GB): 12.922sec] fit F\n"
          ],
          "name": "stderr"
        },
        {
          "output_type": "stream",
          "text": [
            "fold 9: mean position error 14.475996652568769\n",
            "*+*+*+*+*+*+*+*+*+*+*+*+*+*+*+*+*+*+*+*+*+*+*+*+*+*+*+*+*+*+*+*+*+*+*+*+*+*+*+*+\n",
            "file #7, shape=(3332, 639), name=5d27097f03f801723c320d97_train.csv\n",
            "mean position error 14.932202716793743\n",
            "*+*+*+*+*+*+*+*+*+*+*+*+*+*+*+*+*+*+*+*+*+*+*+*+*+*+*+*+*+*+*+*+*+*+*+*+*+*+*+*+\n",
            "Starting to train:  5d27099f03f801723c32511d_train.csv\n"
          ],
          "name": "stdout"
        },
        {
          "output_type": "stream",
          "text": [
            "[1.7GB(+0.0GB): 0.718sec] fit X\n",
            "[1.7GB(+0.0GB): 0.652sec] fit Y\n",
            "[1.7GB(+0.0GB): 2.563sec] fit F\n"
          ],
          "name": "stderr"
        },
        {
          "output_type": "stream",
          "text": [
            "fold 0: mean position error 5.695798859625417\n"
          ],
          "name": "stdout"
        },
        {
          "output_type": "stream",
          "text": [
            "[1.7GB(+0.0GB): 0.615sec] fit X\n",
            "[1.7GB(+0.0GB): 1.098sec] fit Y\n",
            "[1.7GB(+0.0GB): 4.512sec] fit F\n"
          ],
          "name": "stderr"
        },
        {
          "output_type": "stream",
          "text": [
            "fold 1: mean position error 5.478553756676181\n"
          ],
          "name": "stdout"
        },
        {
          "output_type": "stream",
          "text": [
            "[1.7GB(+0.0GB): 0.743sec] fit X\n",
            "[1.7GB(+0.0GB): 0.821sec] fit Y\n",
            "[1.7GB(+0.0GB): 5.218sec] fit F\n"
          ],
          "name": "stderr"
        },
        {
          "output_type": "stream",
          "text": [
            "fold 2: mean position error 4.893025738854065\n"
          ],
          "name": "stdout"
        },
        {
          "output_type": "stream",
          "text": [
            "[1.7GB(+0.0GB): 0.690sec] fit X\n",
            "[1.7GB(+0.0GB): 0.628sec] fit Y\n",
            "[1.7GB(+0.0GB): 4.725sec] fit F\n"
          ],
          "name": "stderr"
        },
        {
          "output_type": "stream",
          "text": [
            "fold 3: mean position error 5.285523100827639\n"
          ],
          "name": "stdout"
        },
        {
          "output_type": "stream",
          "text": [
            "[1.7GB(+0.0GB): 0.894sec] fit X\n",
            "[1.7GB(+0.0GB): 0.903sec] fit Y\n",
            "[1.7GB(+0.0GB): 5.174sec] fit F\n"
          ],
          "name": "stderr"
        },
        {
          "output_type": "stream",
          "text": [
            "fold 4: mean position error 5.922272982238414\n"
          ],
          "name": "stdout"
        },
        {
          "output_type": "stream",
          "text": [
            "[1.7GB(+0.0GB): 0.703sec] fit X\n",
            "[1.7GB(+0.0GB): 1.089sec] fit Y\n",
            "[1.7GB(+0.0GB): 4.502sec] fit F\n"
          ],
          "name": "stderr"
        },
        {
          "output_type": "stream",
          "text": [
            "fold 5: mean position error 5.316991189677749\n"
          ],
          "name": "stdout"
        },
        {
          "output_type": "stream",
          "text": [
            "[1.7GB(+0.0GB): 0.684sec] fit X\n",
            "[1.7GB(+0.0GB): 1.128sec] fit Y\n",
            "[1.7GB(+0.0GB): 4.280sec] fit F\n"
          ],
          "name": "stderr"
        },
        {
          "output_type": "stream",
          "text": [
            "fold 6: mean position error 5.51011446572905\n"
          ],
          "name": "stdout"
        },
        {
          "output_type": "stream",
          "text": [
            "[1.7GB(+0.0GB): 0.873sec] fit X\n",
            "[1.7GB(+0.0GB): 2.092sec] fit Y\n",
            "[1.7GB(+0.0GB): 4.950sec] fit F\n"
          ],
          "name": "stderr"
        },
        {
          "output_type": "stream",
          "text": [
            "fold 7: mean position error 5.039830337974087\n"
          ],
          "name": "stdout"
        },
        {
          "output_type": "stream",
          "text": [
            "[1.7GB(+0.0GB): 0.989sec] fit X\n",
            "[1.7GB(+0.0GB): 1.176sec] fit Y\n",
            "[1.7GB(+0.0GB): 3.438sec] fit F\n"
          ],
          "name": "stderr"
        },
        {
          "output_type": "stream",
          "text": [
            "fold 8: mean position error 5.651978740300741\n"
          ],
          "name": "stdout"
        },
        {
          "output_type": "stream",
          "text": [
            "[1.7GB(+0.0GB): 0.809sec] fit X\n",
            "[1.7GB(+0.0GB): 1.412sec] fit Y\n",
            "[1.7GB(+0.0GB): 4.723sec] fit F\n"
          ],
          "name": "stderr"
        },
        {
          "output_type": "stream",
          "text": [
            "fold 9: mean position error 5.5549379215920345\n",
            "*+*+*+*+*+*+*+*+*+*+*+*+*+*+*+*+*+*+*+*+*+*+*+*+*+*+*+*+*+*+*+*+*+*+*+*+*+*+*+*+\n",
            "file #8, shape=(843, 343), name=5d27099f03f801723c32511d_train.csv\n",
            "mean position error 5.43462117936983\n",
            "*+*+*+*+*+*+*+*+*+*+*+*+*+*+*+*+*+*+*+*+*+*+*+*+*+*+*+*+*+*+*+*+*+*+*+*+*+*+*+*+\n",
            "Starting to train:  5d2709a003f801723c3251bf_train.csv\n"
          ],
          "name": "stdout"
        },
        {
          "output_type": "stream",
          "text": [
            "[1.7GB(+0.0GB): 1.805sec] fit X\n",
            "[1.7GB(+0.0GB): 1.852sec] fit Y\n",
            "[1.7GB(+0.0GB): 3.545sec] fit F\n"
          ],
          "name": "stderr"
        },
        {
          "output_type": "stream",
          "text": [
            "fold 0: mean position error 7.273157679455884\n"
          ],
          "name": "stdout"
        },
        {
          "output_type": "stream",
          "text": [
            "[1.7GB(+0.0GB): 2.178sec] fit X\n",
            "[1.7GB(+0.0GB): 1.640sec] fit Y\n",
            "[1.7GB(+0.0GB): 7.043sec] fit F\n"
          ],
          "name": "stderr"
        },
        {
          "output_type": "stream",
          "text": [
            "fold 1: mean position error 6.433330420252348\n"
          ],
          "name": "stdout"
        },
        {
          "output_type": "stream",
          "text": [
            "[1.7GB(+0.0GB): 0.879sec] fit X\n",
            "[1.7GB(+0.0GB): 1.531sec] fit Y\n",
            "[1.7GB(+0.0GB): 3.434sec] fit F\n"
          ],
          "name": "stderr"
        },
        {
          "output_type": "stream",
          "text": [
            "fold 2: mean position error 9.617797886227532\n"
          ],
          "name": "stdout"
        },
        {
          "output_type": "stream",
          "text": [
            "[1.7GB(+0.0GB): 1.437sec] fit X\n",
            "[1.7GB(+0.0GB): 1.391sec] fit Y\n",
            "[1.7GB(+0.0GB): 5.371sec] fit F\n"
          ],
          "name": "stderr"
        },
        {
          "output_type": "stream",
          "text": [
            "fold 3: mean position error 8.699995080641978\n"
          ],
          "name": "stdout"
        },
        {
          "output_type": "stream",
          "text": [
            "[1.7GB(+0.0GB): 4.875sec] fit X\n",
            "[1.7GB(+0.0GB): 3.335sec] fit Y\n",
            "[1.7GB(+0.0GB): 5.482sec] fit F\n"
          ],
          "name": "stderr"
        },
        {
          "output_type": "stream",
          "text": [
            "fold 4: mean position error 7.144713408668672\n"
          ],
          "name": "stdout"
        },
        {
          "output_type": "stream",
          "text": [
            "[1.7GB(+0.0GB): 1.974sec] fit X\n",
            "[1.7GB(+0.0GB): 1.521sec] fit Y\n",
            "[1.7GB(+0.0GB): 8.716sec] fit F\n"
          ],
          "name": "stderr"
        },
        {
          "output_type": "stream",
          "text": [
            "fold 5: mean position error 6.458835276017794\n"
          ],
          "name": "stdout"
        },
        {
          "output_type": "stream",
          "text": [
            "[1.7GB(+0.0GB): 2.559sec] fit X\n",
            "[1.7GB(+0.0GB): 2.084sec] fit Y\n",
            "[1.7GB(+0.0GB): 5.182sec] fit F\n"
          ],
          "name": "stderr"
        },
        {
          "output_type": "stream",
          "text": [
            "fold 6: mean position error 8.049319281371673\n"
          ],
          "name": "stdout"
        },
        {
          "output_type": "stream",
          "text": [
            "[1.7GB(+0.0GB): 1.697sec] fit X\n",
            "[1.7GB(+0.0GB): 1.499sec] fit Y\n",
            "[1.7GB(+0.0GB): 2.040sec] fit F\n"
          ],
          "name": "stderr"
        },
        {
          "output_type": "stream",
          "text": [
            "fold 7: mean position error 6.4305124212569735\n"
          ],
          "name": "stdout"
        },
        {
          "output_type": "stream",
          "text": [
            "[1.7GB(+0.0GB): 2.178sec] fit X\n",
            "[1.7GB(+0.0GB): 1.039sec] fit Y\n",
            "[1.7GB(+0.0GB): 6.959sec] fit F\n"
          ],
          "name": "stderr"
        },
        {
          "output_type": "stream",
          "text": [
            "fold 8: mean position error 7.001158438768176\n"
          ],
          "name": "stdout"
        },
        {
          "output_type": "stream",
          "text": [
            "[1.7GB(+0.0GB): 1.733sec] fit X\n",
            "[1.7GB(+0.0GB): 1.031sec] fit Y\n",
            "[1.7GB(+0.0GB): 4.810sec] fit F\n"
          ],
          "name": "stderr"
        },
        {
          "output_type": "stream",
          "text": [
            "fold 9: mean position error 7.752154711339242\n",
            "*+*+*+*+*+*+*+*+*+*+*+*+*+*+*+*+*+*+*+*+*+*+*+*+*+*+*+*+*+*+*+*+*+*+*+*+*+*+*+*+\n",
            "file #9, shape=(963, 274), name=5d2709a003f801723c3251bf_train.csv\n",
            "mean position error 7.486996726863927\n",
            "*+*+*+*+*+*+*+*+*+*+*+*+*+*+*+*+*+*+*+*+*+*+*+*+*+*+*+*+*+*+*+*+*+*+*+*+*+*+*+*+\n",
            "Starting to train:  5d2709b303f801723c327472_train.csv\n"
          ],
          "name": "stdout"
        },
        {
          "output_type": "stream",
          "text": [
            "[1.7GB(+0.0GB): 4.365sec] fit X\n",
            "[1.7GB(+0.0GB): 3.985sec] fit Y\n",
            "[1.7GB(+0.0GB): 11.830sec] fit F\n"
          ],
          "name": "stderr"
        },
        {
          "output_type": "stream",
          "text": [
            "fold 0: mean position error 7.08259645388026\n"
          ],
          "name": "stdout"
        },
        {
          "output_type": "stream",
          "text": [
            "[1.7GB(+0.0GB): 5.897sec] fit X\n",
            "[1.7GB(+0.0GB): 5.215sec] fit Y\n",
            "[1.7GB(+0.0GB): 18.862sec] fit F\n"
          ],
          "name": "stderr"
        },
        {
          "output_type": "stream",
          "text": [
            "fold 1: mean position error 7.592596948718365\n"
          ],
          "name": "stdout"
        },
        {
          "output_type": "stream",
          "text": [
            "[1.7GB(+0.0GB): 5.478sec] fit X\n",
            "[1.7GB(+0.0GB): 4.098sec] fit Y\n",
            "[1.7GB(+0.0GB): 8.225sec] fit F\n"
          ],
          "name": "stderr"
        },
        {
          "output_type": "stream",
          "text": [
            "fold 2: mean position error 7.081766794064956\n"
          ],
          "name": "stdout"
        },
        {
          "output_type": "stream",
          "text": [
            "[1.7GB(+0.0GB): 5.415sec] fit X\n",
            "[1.7GB(+0.0GB): 6.558sec] fit Y\n",
            "[1.7GB(+0.0GB): 12.238sec] fit F\n"
          ],
          "name": "stderr"
        },
        {
          "output_type": "stream",
          "text": [
            "fold 3: mean position error 7.465202322295387\n"
          ],
          "name": "stdout"
        },
        {
          "output_type": "stream",
          "text": [
            "[1.7GB(+0.0GB): 5.564sec] fit X\n",
            "[1.7GB(+0.0GB): 3.997sec] fit Y\n",
            "[1.7GB(+0.0GB): 18.254sec] fit F\n"
          ],
          "name": "stderr"
        },
        {
          "output_type": "stream",
          "text": [
            "fold 4: mean position error 7.596392960638803\n"
          ],
          "name": "stdout"
        },
        {
          "output_type": "stream",
          "text": [
            "[1.7GB(+0.0GB): 7.395sec] fit X\n",
            "[1.7GB(+0.0GB): 6.433sec] fit Y\n",
            "[1.7GB(+0.0GB): 26.068sec] fit F\n"
          ],
          "name": "stderr"
        },
        {
          "output_type": "stream",
          "text": [
            "fold 5: mean position error 7.122911550478699\n"
          ],
          "name": "stdout"
        },
        {
          "output_type": "stream",
          "text": [
            "[1.7GB(+0.0GB): 4.517sec] fit X\n",
            "[1.7GB(+0.0GB): 5.403sec] fit Y\n",
            "[1.7GB(+0.0GB): 18.801sec] fit F\n"
          ],
          "name": "stderr"
        },
        {
          "output_type": "stream",
          "text": [
            "fold 6: mean position error 7.162014827743334\n"
          ],
          "name": "stdout"
        },
        {
          "output_type": "stream",
          "text": [
            "[1.7GB(+0.0GB): 7.574sec] fit X\n",
            "[1.7GB(+0.0GB): 4.956sec] fit Y\n",
            "[1.7GB(+0.0GB): 24.573sec] fit F\n"
          ],
          "name": "stderr"
        },
        {
          "output_type": "stream",
          "text": [
            "fold 7: mean position error 6.810398624633637\n"
          ],
          "name": "stdout"
        },
        {
          "output_type": "stream",
          "text": [
            "[1.7GB(+0.0GB): 4.954sec] fit X\n",
            "[1.7GB(+0.0GB): 6.453sec] fit Y\n",
            "[1.7GB(+0.0GB): 7.753sec] fit F\n"
          ],
          "name": "stderr"
        },
        {
          "output_type": "stream",
          "text": [
            "fold 8: mean position error 7.939713935985007\n"
          ],
          "name": "stdout"
        },
        {
          "output_type": "stream",
          "text": [
            "[1.7GB(+0.0GB): 3.142sec] fit X\n",
            "[1.7GB(+0.0GB): 3.802sec] fit Y\n",
            "[1.7GB(+0.0GB): 11.283sec] fit F\n"
          ],
          "name": "stderr"
        },
        {
          "output_type": "stream",
          "text": [
            "fold 9: mean position error 8.380593547258753\n",
            "*+*+*+*+*+*+*+*+*+*+*+*+*+*+*+*+*+*+*+*+*+*+*+*+*+*+*+*+*+*+*+*+*+*+*+*+*+*+*+*+\n",
            "file #10, shape=(2948, 694), name=5d2709b303f801723c327472_train.csv\n",
            "mean position error 7.422918976389902\n",
            "*+*+*+*+*+*+*+*+*+*+*+*+*+*+*+*+*+*+*+*+*+*+*+*+*+*+*+*+*+*+*+*+*+*+*+*+*+*+*+*+\n",
            "Starting to train:  5d2709bb03f801723c32852c_train.csv\n"
          ],
          "name": "stdout"
        },
        {
          "output_type": "stream",
          "text": [
            "[1.7GB(+0.0GB): 7.036sec] fit X\n",
            "[1.7GB(+0.0GB): 12.411sec] fit Y\n",
            "[1.7GB(+0.0GB): 12.354sec] fit F\n"
          ],
          "name": "stderr"
        },
        {
          "output_type": "stream",
          "text": [
            "fold 0: mean position error 8.667317825155452\n"
          ],
          "name": "stdout"
        },
        {
          "output_type": "stream",
          "text": [
            "[1.7GB(+0.0GB): 6.578sec] fit X\n",
            "[1.7GB(+0.0GB): 4.876sec] fit Y\n",
            "[1.7GB(+0.0GB): 7.712sec] fit F\n"
          ],
          "name": "stderr"
        },
        {
          "output_type": "stream",
          "text": [
            "fold 1: mean position error 9.67452631441472\n"
          ],
          "name": "stdout"
        },
        {
          "output_type": "stream",
          "text": [
            "[1.7GB(+0.0GB): 6.936sec] fit X\n",
            "[1.7GB(+0.0GB): 13.094sec] fit Y\n",
            "[1.7GB(+0.0GB): 12.529sec] fit F\n"
          ],
          "name": "stderr"
        },
        {
          "output_type": "stream",
          "text": [
            "fold 2: mean position error 8.487684346931774\n"
          ],
          "name": "stdout"
        },
        {
          "output_type": "stream",
          "text": [
            "[1.7GB(+0.0GB): 8.754sec] fit X\n",
            "[1.7GB(+0.0GB): 11.087sec] fit Y\n",
            "[1.7GB(+0.0GB): 34.306sec] fit F\n"
          ],
          "name": "stderr"
        },
        {
          "output_type": "stream",
          "text": [
            "fold 3: mean position error 7.983442933114424\n"
          ],
          "name": "stdout"
        },
        {
          "output_type": "stream",
          "text": [
            "[1.7GB(+0.0GB): 10.835sec] fit X\n",
            "[1.7GB(+0.0GB): 5.848sec] fit Y\n",
            "[1.7GB(+0.0GB): 36.814sec] fit F\n"
          ],
          "name": "stderr"
        },
        {
          "output_type": "stream",
          "text": [
            "fold 4: mean position error 8.962193819505677\n"
          ],
          "name": "stdout"
        },
        {
          "output_type": "stream",
          "text": [
            "[1.7GB(+0.0GB): 8.494sec] fit X\n",
            "[1.7GB(+0.0GB): 13.044sec] fit Y\n",
            "[1.7GB(+0.0GB): 19.744sec] fit F\n"
          ],
          "name": "stderr"
        },
        {
          "output_type": "stream",
          "text": [
            "fold 5: mean position error 8.016965483292683\n"
          ],
          "name": "stdout"
        },
        {
          "output_type": "stream",
          "text": [
            "[1.7GB(+0.0GB): 10.485sec] fit X\n",
            "[1.7GB(+0.0GB): 6.291sec] fit Y\n",
            "[1.7GB(+0.0GB): 20.641sec] fit F\n"
          ],
          "name": "stderr"
        },
        {
          "output_type": "stream",
          "text": [
            "fold 6: mean position error 8.665280771406962\n"
          ],
          "name": "stdout"
        },
        {
          "output_type": "stream",
          "text": [
            "[1.7GB(+0.0GB): 4.964sec] fit X\n",
            "[1.7GB(+0.0GB): 7.803sec] fit Y\n",
            "[1.7GB(+0.0GB): 22.937sec] fit F\n"
          ],
          "name": "stderr"
        },
        {
          "output_type": "stream",
          "text": [
            "fold 7: mean position error 8.68785314955469\n"
          ],
          "name": "stdout"
        },
        {
          "output_type": "stream",
          "text": [
            "[1.7GB(+0.0GB): 13.598sec] fit X\n",
            "[1.7GB(+0.0GB): 18.668sec] fit Y\n",
            "[1.7GB(+0.0GB): 11.655sec] fit F\n"
          ],
          "name": "stderr"
        },
        {
          "output_type": "stream",
          "text": [
            "fold 8: mean position error 8.490463003054735\n"
          ],
          "name": "stdout"
        },
        {
          "output_type": "stream",
          "text": [
            "[1.7GB(+0.0GB): 8.836sec] fit X\n",
            "[1.7GB(+0.0GB): 7.075sec] fit Y\n",
            "[1.7GB(+0.0GB): 14.733sec] fit F\n"
          ],
          "name": "stderr"
        },
        {
          "output_type": "stream",
          "text": [
            "fold 9: mean position error 8.516682032551625\n",
            "*+*+*+*+*+*+*+*+*+*+*+*+*+*+*+*+*+*+*+*+*+*+*+*+*+*+*+*+*+*+*+*+*+*+*+*+*+*+*+*+\n",
            "file #11, shape=(3527, 1107), name=5d2709bb03f801723c32852c_train.csv\n",
            "mean position error 8.615283702437127\n",
            "*+*+*+*+*+*+*+*+*+*+*+*+*+*+*+*+*+*+*+*+*+*+*+*+*+*+*+*+*+*+*+*+*+*+*+*+*+*+*+*+\n",
            "Starting to train:  5d2709c303f801723c3299ee_train.csv\n"
          ],
          "name": "stdout"
        },
        {
          "output_type": "stream",
          "text": [
            "[1.7GB(+0.0GB): 7.808sec] fit X\n",
            "[1.7GB(+0.0GB): 7.262sec] fit Y\n",
            "[1.7GB(+0.0GB): 22.913sec] fit F\n"
          ],
          "name": "stderr"
        },
        {
          "output_type": "stream",
          "text": [
            "fold 0: mean position error 5.772567081243655\n"
          ],
          "name": "stdout"
        },
        {
          "output_type": "stream",
          "text": [
            "[1.7GB(+0.0GB): 6.777sec] fit X\n",
            "[1.7GB(+0.0GB): 6.028sec] fit Y\n",
            "[1.7GB(+0.0GB): 31.339sec] fit F\n"
          ],
          "name": "stderr"
        },
        {
          "output_type": "stream",
          "text": [
            "fold 1: mean position error 6.214816987285028\n"
          ],
          "name": "stdout"
        },
        {
          "output_type": "stream",
          "text": [
            "[1.7GB(+0.0GB): 6.329sec] fit X\n",
            "[1.7GB(+0.0GB): 7.952sec] fit Y\n",
            "[1.7GB(+0.0GB): 9.882sec] fit F\n"
          ],
          "name": "stderr"
        },
        {
          "output_type": "stream",
          "text": [
            "fold 2: mean position error 5.9204985820421845\n"
          ],
          "name": "stdout"
        },
        {
          "output_type": "stream",
          "text": [
            "[1.7GB(+0.0GB): 5.894sec] fit X\n",
            "[1.7GB(+0.0GB): 9.198sec] fit Y\n",
            "[1.7GB(+0.0GB): 14.726sec] fit F\n"
          ],
          "name": "stderr"
        },
        {
          "output_type": "stream",
          "text": [
            "fold 3: mean position error 6.032254978725739\n"
          ],
          "name": "stdout"
        },
        {
          "output_type": "stream",
          "text": [
            "[1.7GB(+0.0GB): 9.646sec] fit X\n",
            "[1.7GB(+0.0GB): 9.810sec] fit Y\n",
            "[1.7GB(+0.0GB): 36.408sec] fit F\n"
          ],
          "name": "stderr"
        },
        {
          "output_type": "stream",
          "text": [
            "fold 4: mean position error 5.89886075663635\n"
          ],
          "name": "stdout"
        },
        {
          "output_type": "stream",
          "text": [
            "[1.7GB(+0.0GB): 7.839sec] fit X\n",
            "[1.7GB(+0.0GB): 9.676sec] fit Y\n",
            "[1.7GB(+0.0GB): 38.861sec] fit F\n"
          ],
          "name": "stderr"
        },
        {
          "output_type": "stream",
          "text": [
            "fold 5: mean position error 5.945991754596707\n"
          ],
          "name": "stdout"
        },
        {
          "output_type": "stream",
          "text": [
            "[1.7GB(+0.0GB): 10.614sec] fit X\n",
            "[1.7GB(+0.0GB): 7.762sec] fit Y\n",
            "[1.7GB(+0.0GB): 35.604sec] fit F\n"
          ],
          "name": "stderr"
        },
        {
          "output_type": "stream",
          "text": [
            "fold 6: mean position error 5.675283175241352\n"
          ],
          "name": "stdout"
        },
        {
          "output_type": "stream",
          "text": [
            "[1.7GB(+0.0GB): 5.547sec] fit X\n",
            "[1.7GB(+0.0GB): 6.502sec] fit Y\n",
            "[1.7GB(+0.0GB): 44.779sec] fit F\n"
          ],
          "name": "stderr"
        },
        {
          "output_type": "stream",
          "text": [
            "fold 7: mean position error 5.788794717633697\n"
          ],
          "name": "stdout"
        },
        {
          "output_type": "stream",
          "text": [
            "[1.7GB(+0.0GB): 7.454sec] fit X\n",
            "[1.7GB(+0.0GB): 8.965sec] fit Y\n",
            "[1.7GB(+0.0GB): 38.847sec] fit F\n"
          ],
          "name": "stderr"
        },
        {
          "output_type": "stream",
          "text": [
            "fold 8: mean position error 6.110619112404879\n"
          ],
          "name": "stdout"
        },
        {
          "output_type": "stream",
          "text": [
            "[1.7GB(+0.0GB): 8.615sec] fit X\n",
            "[1.7GB(+0.0GB): 8.620sec] fit Y\n",
            "[1.7GB(+0.0GB): 39.402sec] fit F\n"
          ],
          "name": "stderr"
        },
        {
          "output_type": "stream",
          "text": [
            "fold 9: mean position error 6.2983222398719905\n",
            "*+*+*+*+*+*+*+*+*+*+*+*+*+*+*+*+*+*+*+*+*+*+*+*+*+*+*+*+*+*+*+*+*+*+*+*+*+*+*+*+\n",
            "file #12, shape=(3529, 1205), name=5d2709c303f801723c3299ee_train.csv\n",
            "mean position error 5.9657067132064965\n",
            "*+*+*+*+*+*+*+*+*+*+*+*+*+*+*+*+*+*+*+*+*+*+*+*+*+*+*+*+*+*+*+*+*+*+*+*+*+*+*+*+\n",
            "Starting to train:  5d2709d403f801723c32bd39_train.csv\n"
          ],
          "name": "stdout"
        },
        {
          "output_type": "stream",
          "text": [
            "[1.7GB(+0.0GB): 8.159sec] fit X\n",
            "[1.7GB(+0.0GB): 6.907sec] fit Y\n",
            "[1.7GB(+0.0GB): 5.567sec] fit F\n"
          ],
          "name": "stderr"
        },
        {
          "output_type": "stream",
          "text": [
            "fold 0: mean position error 5.742767236737699\n"
          ],
          "name": "stdout"
        },
        {
          "output_type": "stream",
          "text": [
            "[1.7GB(+0.0GB): 3.839sec] fit X\n",
            "[1.7GB(+0.0GB): 6.129sec] fit Y\n",
            "[1.7GB(+0.0GB): 7.081sec] fit F\n"
          ],
          "name": "stderr"
        },
        {
          "output_type": "stream",
          "text": [
            "fold 1: mean position error 5.364035537665161\n"
          ],
          "name": "stdout"
        },
        {
          "output_type": "stream",
          "text": [
            "[1.7GB(+0.0GB): 3.772sec] fit X\n",
            "[1.7GB(+0.0GB): 5.537sec] fit Y\n",
            "[1.7GB(+0.0GB): 8.902sec] fit F\n"
          ],
          "name": "stderr"
        },
        {
          "output_type": "stream",
          "text": [
            "fold 2: mean position error 5.685287351290988\n"
          ],
          "name": "stdout"
        },
        {
          "output_type": "stream",
          "text": [
            "[1.7GB(+0.0GB): 5.194sec] fit X\n",
            "[1.7GB(+0.0GB): 8.310sec] fit Y\n",
            "[1.7GB(+0.0GB): 4.923sec] fit F\n"
          ],
          "name": "stderr"
        },
        {
          "output_type": "stream",
          "text": [
            "fold 3: mean position error 5.667662727849207\n"
          ],
          "name": "stdout"
        },
        {
          "output_type": "stream",
          "text": [
            "[1.7GB(+0.0GB): 6.270sec] fit X\n",
            "[1.7GB(+0.0GB): 7.081sec] fit Y\n",
            "[1.7GB(+0.0GB): 3.515sec] fit F\n"
          ],
          "name": "stderr"
        },
        {
          "output_type": "stream",
          "text": [
            "fold 4: mean position error 5.735622969485395\n"
          ],
          "name": "stdout"
        },
        {
          "output_type": "stream",
          "text": [
            "[1.7GB(+0.0GB): 4.744sec] fit X\n",
            "[1.7GB(+0.0GB): 4.713sec] fit Y\n",
            "[1.7GB(+0.0GB): 8.227sec] fit F\n"
          ],
          "name": "stderr"
        },
        {
          "output_type": "stream",
          "text": [
            "fold 5: mean position error 6.0030661904379485\n"
          ],
          "name": "stdout"
        },
        {
          "output_type": "stream",
          "text": [
            "[1.7GB(+0.0GB): 7.534sec] fit X\n",
            "[1.7GB(+0.0GB): 7.435sec] fit Y\n",
            "[1.7GB(+0.0GB): 6.453sec] fit F\n"
          ],
          "name": "stderr"
        },
        {
          "output_type": "stream",
          "text": [
            "fold 6: mean position error 5.472960002254776\n"
          ],
          "name": "stdout"
        },
        {
          "output_type": "stream",
          "text": [
            "[1.7GB(+0.0GB): 6.229sec] fit X\n",
            "[1.7GB(+0.0GB): 6.002sec] fit Y\n",
            "[1.7GB(+0.0GB): 5.352sec] fit F\n"
          ],
          "name": "stderr"
        },
        {
          "output_type": "stream",
          "text": [
            "fold 7: mean position error 5.937653574346606\n"
          ],
          "name": "stdout"
        },
        {
          "output_type": "stream",
          "text": [
            "[1.7GB(+0.0GB): 8.843sec] fit X\n",
            "[1.7GB(+0.0GB): 5.225sec] fit Y\n",
            "[1.7GB(+0.0GB): 4.078sec] fit F\n"
          ],
          "name": "stderr"
        },
        {
          "output_type": "stream",
          "text": [
            "fold 8: mean position error 5.925934298840672\n"
          ],
          "name": "stdout"
        },
        {
          "output_type": "stream",
          "text": [
            "[1.7GB(+0.0GB): 6.569sec] fit X\n",
            "[1.7GB(+0.0GB): 5.674sec] fit Y\n",
            "[1.7GB(+0.0GB): 3.927sec] fit F\n"
          ],
          "name": "stderr"
        },
        {
          "output_type": "stream",
          "text": [
            "fold 9: mean position error 5.916382263391724\n",
            "*+*+*+*+*+*+*+*+*+*+*+*+*+*+*+*+*+*+*+*+*+*+*+*+*+*+*+*+*+*+*+*+*+*+*+*+*+*+*+*+\n",
            "file #13, shape=(2670, 440), name=5d2709d403f801723c32bd39_train.csv\n",
            "mean position error 5.7451372152300175\n",
            "*+*+*+*+*+*+*+*+*+*+*+*+*+*+*+*+*+*+*+*+*+*+*+*+*+*+*+*+*+*+*+*+*+*+*+*+*+*+*+*+\n",
            "*+*+*+*+*+*+*+*+*+*+*+*+*+*+*+*+*+*+*+*+*+*+*+*+*+*+*+*+*+*+*+*+*+*+*+*+*+*+*+*+\n",
            "10.900277790022207\n",
            "*+*+*+*+*+*+*+*+*+*+*+*+*+*+*+*+*+*+*+*+*+*+*+*+*+*+*+*+*+*+*+*+*+*+*+*+*+*+*+*+\n"
          ],
          "name": "stdout"
        }
      ]
    },
    {
      "cell_type": "code",
      "metadata": {
        "id": "5j_o-HiluAW9"
      },
      "source": [
        "!cp *.csv 'drive/MyDrive/Data-x/predicted result filtered data/'"
      ],
      "execution_count": null,
      "outputs": []
    }
  ]
}