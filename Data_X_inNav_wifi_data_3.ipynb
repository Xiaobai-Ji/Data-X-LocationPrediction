{
  "nbformat": 4,
  "nbformat_minor": 0,
  "metadata": {
    "accelerator": "GPU",
    "colab": {
      "name": "Data_X_inNav_wifi_data_3.ipynb",
      "provenance": [],
      "collapsed_sections": [
        "tBV_ni-eqvrq"
      ],
      "toc_visible": true,
      "machine_shape": "hm"
    },
    "kernelspec": {
      "display_name": "Python 3",
      "name": "python3"
    },
    "language_info": {
      "name": "python"
    }
  },
  "cells": [
    {
      "cell_type": "code",
      "metadata": {
        "colab": {
          "base_uri": "https://localhost:8080/"
        },
        "id": "phlyFaiKW_jc",
        "outputId": "c7cb3568-ba49-433f-ad0c-a825f88e4ff3"
      },
      "source": [
        "from google.colab import drive\n",
        "drive.mount('/content/drive')"
      ],
      "execution_count": null,
      "outputs": [
        {
          "output_type": "stream",
          "text": [
            "Mounted at /content/drive\n"
          ],
          "name": "stdout"
        }
      ]
    },
    {
      "cell_type": "code",
      "metadata": {
        "colab": {
          "base_uri": "https://localhost:8080/"
        },
        "id": "90nBl6mR6Ht_",
        "outputId": "12f1ac8f-387d-4e8d-fa3c-c0e2fe04c7ce"
      },
      "source": [
        "!nvidia-smi\n",
        "!cat /proc/cpuinfo\n",
        "!rm -rf sample_data\n",
        "\n",
        "!git clone --recursive https://github.com/Microsoft/LightGBM.git\n",
        "!cd LightGBM && rm -rf build && mkdir build && cd build && cmake -DUSE_GPU=1 ../../LightGBM && make -j4 && cd ../python-package && python3 setup.py install --precompile --gpu;"
      ],
      "execution_count": null,
      "outputs": [
        {
          "output_type": "stream",
          "text": [
            "Tue Apr  6 03:59:40 2021       \n",
            "+-----------------------------------------------------------------------------+\n",
            "| NVIDIA-SMI 460.67       Driver Version: 460.32.03    CUDA Version: 11.2     |\n",
            "|-------------------------------+----------------------+----------------------+\n",
            "| GPU  Name        Persistence-M| Bus-Id        Disp.A | Volatile Uncorr. ECC |\n",
            "| Fan  Temp  Perf  Pwr:Usage/Cap|         Memory-Usage | GPU-Util  Compute M. |\n",
            "|                               |                      |               MIG M. |\n",
            "|===============================+======================+======================|\n",
            "|   0  Tesla P100-PCIE...  Off  | 00000000:00:04.0 Off |                    0 |\n",
            "| N/A   46C    P0    29W / 250W |      0MiB / 16280MiB |      0%      Default |\n",
            "|                               |                      |                  N/A |\n",
            "+-------------------------------+----------------------+----------------------+\n",
            "                                                                               \n",
            "+-----------------------------------------------------------------------------+\n",
            "| Processes:                                                                  |\n",
            "|  GPU   GI   CI        PID   Type   Process name                  GPU Memory |\n",
            "|        ID   ID                                                   Usage      |\n",
            "|=============================================================================|\n",
            "|  No running processes found                                                 |\n",
            "+-----------------------------------------------------------------------------+\n",
            "processor\t: 0\n",
            "vendor_id\t: GenuineIntel\n",
            "cpu family\t: 6\n",
            "model\t\t: 79\n",
            "model name\t: Intel(R) Xeon(R) CPU @ 2.20GHz\n",
            "stepping\t: 0\n",
            "microcode\t: 0x1\n",
            "cpu MHz\t\t: 2199.998\n",
            "cache size\t: 56320 KB\n",
            "physical id\t: 0\n",
            "siblings\t: 4\n",
            "core id\t\t: 0\n",
            "cpu cores\t: 2\n",
            "apicid\t\t: 0\n",
            "initial apicid\t: 0\n",
            "fpu\t\t: yes\n",
            "fpu_exception\t: yes\n",
            "cpuid level\t: 13\n",
            "wp\t\t: yes\n",
            "flags\t\t: fpu vme de pse tsc msr pae mce cx8 apic sep mtrr pge mca cmov pat pse36 clflush mmx fxsr sse sse2 ss ht syscall nx pdpe1gb rdtscp lm constant_tsc rep_good nopl xtopology nonstop_tsc cpuid tsc_known_freq pni pclmulqdq ssse3 fma cx16 pcid sse4_1 sse4_2 x2apic movbe popcnt aes xsave avx f16c rdrand hypervisor lahf_lm abm 3dnowprefetch invpcid_single ssbd ibrs ibpb stibp fsgsbase tsc_adjust bmi1 hle avx2 smep bmi2 erms invpcid rtm rdseed adx smap xsaveopt arat md_clear arch_capabilities\n",
            "bugs\t\t: cpu_meltdown spectre_v1 spectre_v2 spec_store_bypass l1tf mds swapgs taa\n",
            "bogomips\t: 4399.99\n",
            "clflush size\t: 64\n",
            "cache_alignment\t: 64\n",
            "address sizes\t: 46 bits physical, 48 bits virtual\n",
            "power management:\n",
            "\n",
            "processor\t: 1\n",
            "vendor_id\t: GenuineIntel\n",
            "cpu family\t: 6\n",
            "model\t\t: 79\n",
            "model name\t: Intel(R) Xeon(R) CPU @ 2.20GHz\n",
            "stepping\t: 0\n",
            "microcode\t: 0x1\n",
            "cpu MHz\t\t: 2199.998\n",
            "cache size\t: 56320 KB\n",
            "physical id\t: 0\n",
            "siblings\t: 4\n",
            "core id\t\t: 1\n",
            "cpu cores\t: 2\n",
            "apicid\t\t: 2\n",
            "initial apicid\t: 2\n",
            "fpu\t\t: yes\n",
            "fpu_exception\t: yes\n",
            "cpuid level\t: 13\n",
            "wp\t\t: yes\n",
            "flags\t\t: fpu vme de pse tsc msr pae mce cx8 apic sep mtrr pge mca cmov pat pse36 clflush mmx fxsr sse sse2 ss ht syscall nx pdpe1gb rdtscp lm constant_tsc rep_good nopl xtopology nonstop_tsc cpuid tsc_known_freq pni pclmulqdq ssse3 fma cx16 pcid sse4_1 sse4_2 x2apic movbe popcnt aes xsave avx f16c rdrand hypervisor lahf_lm abm 3dnowprefetch invpcid_single ssbd ibrs ibpb stibp fsgsbase tsc_adjust bmi1 hle avx2 smep bmi2 erms invpcid rtm rdseed adx smap xsaveopt arat md_clear arch_capabilities\n",
            "bugs\t\t: cpu_meltdown spectre_v1 spectre_v2 spec_store_bypass l1tf mds swapgs taa\n",
            "bogomips\t: 4399.99\n",
            "clflush size\t: 64\n",
            "cache_alignment\t: 64\n",
            "address sizes\t: 46 bits physical, 48 bits virtual\n",
            "power management:\n",
            "\n",
            "processor\t: 2\n",
            "vendor_id\t: GenuineIntel\n",
            "cpu family\t: 6\n",
            "model\t\t: 79\n",
            "model name\t: Intel(R) Xeon(R) CPU @ 2.20GHz\n",
            "stepping\t: 0\n",
            "microcode\t: 0x1\n",
            "cpu MHz\t\t: 2199.998\n",
            "cache size\t: 56320 KB\n",
            "physical id\t: 0\n",
            "siblings\t: 4\n",
            "core id\t\t: 0\n",
            "cpu cores\t: 2\n",
            "apicid\t\t: 1\n",
            "initial apicid\t: 1\n",
            "fpu\t\t: yes\n",
            "fpu_exception\t: yes\n",
            "cpuid level\t: 13\n",
            "wp\t\t: yes\n",
            "flags\t\t: fpu vme de pse tsc msr pae mce cx8 apic sep mtrr pge mca cmov pat pse36 clflush mmx fxsr sse sse2 ss ht syscall nx pdpe1gb rdtscp lm constant_tsc rep_good nopl xtopology nonstop_tsc cpuid tsc_known_freq pni pclmulqdq ssse3 fma cx16 pcid sse4_1 sse4_2 x2apic movbe popcnt aes xsave avx f16c rdrand hypervisor lahf_lm abm 3dnowprefetch invpcid_single ssbd ibrs ibpb stibp fsgsbase tsc_adjust bmi1 hle avx2 smep bmi2 erms invpcid rtm rdseed adx smap xsaveopt arat md_clear arch_capabilities\n",
            "bugs\t\t: cpu_meltdown spectre_v1 spectre_v2 spec_store_bypass l1tf mds swapgs taa\n",
            "bogomips\t: 4399.99\n",
            "clflush size\t: 64\n",
            "cache_alignment\t: 64\n",
            "address sizes\t: 46 bits physical, 48 bits virtual\n",
            "power management:\n",
            "\n",
            "processor\t: 3\n",
            "vendor_id\t: GenuineIntel\n",
            "cpu family\t: 6\n",
            "model\t\t: 79\n",
            "model name\t: Intel(R) Xeon(R) CPU @ 2.20GHz\n",
            "stepping\t: 0\n",
            "microcode\t: 0x1\n",
            "cpu MHz\t\t: 2199.998\n",
            "cache size\t: 56320 KB\n",
            "physical id\t: 0\n",
            "siblings\t: 4\n",
            "core id\t\t: 1\n",
            "cpu cores\t: 2\n",
            "apicid\t\t: 3\n",
            "initial apicid\t: 3\n",
            "fpu\t\t: yes\n",
            "fpu_exception\t: yes\n",
            "cpuid level\t: 13\n",
            "wp\t\t: yes\n",
            "flags\t\t: fpu vme de pse tsc msr pae mce cx8 apic sep mtrr pge mca cmov pat pse36 clflush mmx fxsr sse sse2 ss ht syscall nx pdpe1gb rdtscp lm constant_tsc rep_good nopl xtopology nonstop_tsc cpuid tsc_known_freq pni pclmulqdq ssse3 fma cx16 pcid sse4_1 sse4_2 x2apic movbe popcnt aes xsave avx f16c rdrand hypervisor lahf_lm abm 3dnowprefetch invpcid_single ssbd ibrs ibpb stibp fsgsbase tsc_adjust bmi1 hle avx2 smep bmi2 erms invpcid rtm rdseed adx smap xsaveopt arat md_clear arch_capabilities\n",
            "bugs\t\t: cpu_meltdown spectre_v1 spectre_v2 spec_store_bypass l1tf mds swapgs taa\n",
            "bogomips\t: 4399.99\n",
            "clflush size\t: 64\n",
            "cache_alignment\t: 64\n",
            "address sizes\t: 46 bits physical, 48 bits virtual\n",
            "power management:\n",
            "\n",
            "Cloning into 'LightGBM'...\n",
            "remote: Enumerating objects: 105, done.\u001b[K\n",
            "remote: Counting objects: 100% (105/105), done.\u001b[K\n",
            "remote: Compressing objects: 100% (67/67), done.\u001b[K\n",
            "remote: Total 21609 (delta 51), reused 73 (delta 38), pack-reused 21504\u001b[K\n",
            "Receiving objects: 100% (21609/21609), 17.01 MiB | 13.94 MiB/s, done.\n",
            "Resolving deltas: 100% (15798/15798), done.\n",
            "Submodule 'include/boost/compute' (https://github.com/boostorg/compute) registered for path 'external_libs/compute'\n",
            "Submodule 'eigen' (https://gitlab.com/libeigen/eigen.git) registered for path 'external_libs/eigen'\n",
            "Submodule 'external_libs/fast_double_parser' (https://github.com/lemire/fast_double_parser.git) registered for path 'external_libs/fast_double_parser'\n",
            "Submodule 'external_libs/fmt' (https://github.com/fmtlib/fmt.git) registered for path 'external_libs/fmt'\n",
            "Cloning into '/content/LightGBM/external_libs/compute'...\n",
            "remote: Enumerating objects: 21728, done.        \n",
            "remote: Total 21728 (delta 0), reused 0 (delta 0), pack-reused 21728        \n",
            "Receiving objects: 100% (21728/21728), 8.51 MiB | 22.00 MiB/s, done.\n",
            "Resolving deltas: 100% (17566/17566), done.\n",
            "Cloning into '/content/LightGBM/external_libs/eigen'...\n",
            "remote: Enumerating objects: 362, done.        \n",
            "remote: Counting objects: 100% (362/362), done.        \n",
            "remote: Compressing objects: 100% (216/216), done.        \n",
            "remote: Total 109478 (delta 232), reused 251 (delta 145), pack-reused 109116        \n",
            "Receiving objects: 100% (109478/109478), 101.66 MiB | 26.18 MiB/s, done.\n",
            "Resolving deltas: 100% (89953/89953), done.\n",
            "Cloning into '/content/LightGBM/external_libs/fast_double_parser'...\n",
            "remote: Enumerating objects: 172, done.        \n",
            "remote: Counting objects: 100% (172/172), done.        \n",
            "remote: Compressing objects: 100% (107/107), done.        \n",
            "remote: Total 672 (delta 84), reused 95 (delta 39), pack-reused 500        \n",
            "Receiving objects: 100% (672/672), 798.63 KiB | 5.75 MiB/s, done.\n",
            "Resolving deltas: 100% (338/338), done.\n",
            "Cloning into '/content/LightGBM/external_libs/fmt'...\n",
            "remote: Enumerating objects: 133, done.        \n",
            "remote: Counting objects: 100% (133/133), done.        \n",
            "remote: Compressing objects: 100% (60/60), done.        \n",
            "remote: Total 24902 (delta 66), reused 105 (delta 52), pack-reused 24769        \n",
            "Receiving objects: 100% (24902/24902), 12.39 MiB | 25.74 MiB/s, done.\n",
            "Resolving deltas: 100% (16841/16841), done.\n",
            "Submodule path 'external_libs/compute': checked out '36c89134d4013b2e5e45bc55656a18bd6141995a'\n",
            "Submodule path 'external_libs/eigen': checked out '8ba1b0f41a7950dc3e1d4ed75859e36c73311235'\n",
            "Submodule path 'external_libs/fast_double_parser': checked out 'ace60646c02dc54c57f19d644e49a61e7e7758ec'\n",
            "Submodule 'benchmark/dependencies/abseil-cpp' (https://github.com/abseil/abseil-cpp.git) registered for path 'external_libs/fast_double_parser/benchmarks/dependencies/abseil-cpp'\n",
            "Submodule 'benchmark/dependencies/double-conversion' (https://github.com/google/double-conversion.git) registered for path 'external_libs/fast_double_parser/benchmarks/dependencies/double-conversion'\n",
            "Cloning into '/content/LightGBM/external_libs/fast_double_parser/benchmarks/dependencies/abseil-cpp'...\n",
            "remote: Enumerating objects: 94, done.        \n",
            "remote: Counting objects: 100% (94/94), done.        \n",
            "remote: Compressing objects: 100% (66/66), done.        \n",
            "remote: Total 14159 (delta 34), reused 79 (delta 28), pack-reused 14065        \n",
            "Receiving objects: 100% (14159/14159), 9.21 MiB | 22.57 MiB/s, done.\n",
            "Resolving deltas: 100% (10775/10775), done.\n",
            "Cloning into '/content/LightGBM/external_libs/fast_double_parser/benchmarks/dependencies/double-conversion'...\n",
            "remote: Enumerating objects: 56, done.        \n",
            "remote: Counting objects: 100% (56/56), done.        \n",
            "remote: Compressing objects: 100% (39/39), done.        \n",
            "remote: Total 1212 (delta 30), reused 32 (delta 17), pack-reused 1156        \n",
            "Receiving objects: 100% (1212/1212), 7.07 MiB | 18.46 MiB/s, done.\n",
            "Resolving deltas: 100% (802/802), done.\n",
            "Submodule path 'external_libs/fast_double_parser/benchmarks/dependencies/abseil-cpp': checked out 'd936052d32a5b7ca08b0199a6724724aea432309'\n",
            "Submodule path 'external_libs/fast_double_parser/benchmarks/dependencies/double-conversion': checked out 'f4cb2384efa55dee0e6652f8674b05763441ab09'\n",
            "Submodule path 'external_libs/fmt': checked out 'cc09f1a6798c085c325569ef466bcdcffdc266d4'\n",
            "-- The C compiler identification is GNU 7.5.0\n",
            "-- The CXX compiler identification is GNU 7.5.0\n",
            "-- Check for working C compiler: /usr/bin/cc\n",
            "-- Check for working C compiler: /usr/bin/cc -- works\n",
            "-- Detecting C compiler ABI info\n",
            "-- Detecting C compiler ABI info - done\n",
            "-- Detecting C compile features\n",
            "-- Detecting C compile features - done\n",
            "-- Check for working CXX compiler: /usr/bin/c++\n",
            "-- Check for working CXX compiler: /usr/bin/c++ -- works\n",
            "-- Detecting CXX compiler ABI info\n",
            "-- Detecting CXX compiler ABI info - done\n",
            "-- Detecting CXX compile features\n",
            "-- Detecting CXX compile features - done\n",
            "-- Found OpenMP_C: -fopenmp (found version \"4.5\") \n",
            "-- Found OpenMP_CXX: -fopenmp (found version \"4.5\") \n",
            "-- Found OpenMP: TRUE (found version \"4.5\")  \n",
            "-- Looking for CL_VERSION_2_2\n",
            "-- Looking for CL_VERSION_2_2 - found\n",
            "-- Found OpenCL: /usr/lib/x86_64-linux-gnu/libOpenCL.so (found version \"2.2\") \n",
            "-- OpenCL include directory: /usr/include\n",
            "-- Boost version: 1.65.1\n",
            "-- Found the following Boost libraries:\n",
            "--   filesystem\n",
            "--   system\n",
            "-- Performing Test MM_PREFETCH\n",
            "-- Performing Test MM_PREFETCH - Success\n",
            "-- Using _mm_prefetch\n",
            "-- Performing Test MM_MALLOC\n",
            "-- Performing Test MM_MALLOC - Success\n",
            "-- Using _mm_malloc\n",
            "-- Configuring done\n",
            "-- Generating done\n",
            "-- Build files have been written to: /content/LightGBM/build\n",
            "\u001b[35m\u001b[1mScanning dependencies of target _lightgbm\u001b[0m\n",
            "\u001b[35m\u001b[1mScanning dependencies of target lightgbm\u001b[0m\n",
            "[  1%] \u001b[32mBuilding CXX object CMakeFiles/_lightgbm.dir/src/boosting/boosting.cpp.o\u001b[0m\n",
            "[  2%] \u001b[32mBuilding CXX object CMakeFiles/lightgbm.dir/src/main.cpp.o\u001b[0m\n",
            "[  5%] \u001b[32mBuilding CXX object CMakeFiles/_lightgbm.dir/src/boosting/gbdt.cpp.o\u001b[0m\n",
            "[  5%] \u001b[32mBuilding CXX object CMakeFiles/lightgbm.dir/src/application/application.cpp.o\u001b[0m\n",
            "[  7%] \u001b[32mBuilding CXX object CMakeFiles/_lightgbm.dir/src/boosting/gbdt_model_text.cpp.o\u001b[0m\n",
            "[  8%] \u001b[32mBuilding CXX object CMakeFiles/lightgbm.dir/src/boosting/boosting.cpp.o\u001b[0m\n",
            "[ 10%] \u001b[32mBuilding CXX object CMakeFiles/_lightgbm.dir/src/boosting/gbdt_prediction.cpp.o\u001b[0m\n",
            "[ 11%] \u001b[32mBuilding CXX object CMakeFiles/_lightgbm.dir/src/boosting/prediction_early_stop.cpp.o\u001b[0m\n",
            "[ 13%] \u001b[32mBuilding CXX object CMakeFiles/_lightgbm.dir/src/io/bin.cpp.o\u001b[0m\n",
            "[ 14%] \u001b[32mBuilding CXX object CMakeFiles/_lightgbm.dir/src/io/config.cpp.o\u001b[0m\n",
            "[ 15%] \u001b[32mBuilding CXX object CMakeFiles/_lightgbm.dir/src/io/config_auto.cpp.o\u001b[0m\n",
            "[ 17%] \u001b[32mBuilding CXX object CMakeFiles/_lightgbm.dir/src/io/dataset.cpp.o\u001b[0m\n",
            "[ 18%] \u001b[32mBuilding CXX object CMakeFiles/lightgbm.dir/src/boosting/gbdt.cpp.o\u001b[0m\n",
            "[ 20%] \u001b[32mBuilding CXX object CMakeFiles/_lightgbm.dir/src/io/dataset_loader.cpp.o\u001b[0m\n",
            "[ 21%] \u001b[32mBuilding CXX object CMakeFiles/lightgbm.dir/src/boosting/gbdt_model_text.cpp.o\u001b[0m\n",
            "[ 23%] \u001b[32mBuilding CXX object CMakeFiles/_lightgbm.dir/src/io/file_io.cpp.o\u001b[0m\n",
            "[ 24%] \u001b[32mBuilding CXX object CMakeFiles/_lightgbm.dir/src/io/json11.cpp.o\u001b[0m\n",
            "[ 26%] \u001b[32mBuilding CXX object CMakeFiles/_lightgbm.dir/src/io/metadata.cpp.o\u001b[0m\n",
            "[ 27%] \u001b[32mBuilding CXX object CMakeFiles/_lightgbm.dir/src/io/parser.cpp.o\u001b[0m\n",
            "[ 28%] \u001b[32mBuilding CXX object CMakeFiles/lightgbm.dir/src/boosting/gbdt_prediction.cpp.o\u001b[0m\n",
            "[ 30%] \u001b[32mBuilding CXX object CMakeFiles/_lightgbm.dir/src/io/train_share_states.cpp.o\u001b[0m\n",
            "[ 31%] \u001b[32mBuilding CXX object CMakeFiles/_lightgbm.dir/src/io/tree.cpp.o\u001b[0m\n",
            "[ 33%] \u001b[32mBuilding CXX object CMakeFiles/_lightgbm.dir/src/metric/dcg_calculator.cpp.o\u001b[0m\n",
            "[ 34%] \u001b[32mBuilding CXX object CMakeFiles/_lightgbm.dir/src/metric/metric.cpp.o\u001b[0m\n",
            "[ 36%] \u001b[32mBuilding CXX object CMakeFiles/lightgbm.dir/src/boosting/prediction_early_stop.cpp.o\u001b[0m\n",
            "[ 37%] \u001b[32mBuilding CXX object CMakeFiles/lightgbm.dir/src/io/bin.cpp.o\u001b[0m\n",
            "[ 39%] \u001b[32mBuilding CXX object CMakeFiles/_lightgbm.dir/src/network/ifaddrs_patch.cpp.o\u001b[0m\n",
            "[ 40%] \u001b[32mBuilding CXX object CMakeFiles/_lightgbm.dir/src/network/linker_topo.cpp.o\u001b[0m\n",
            "[ 42%] \u001b[32mBuilding CXX object CMakeFiles/_lightgbm.dir/src/network/linkers_mpi.cpp.o\u001b[0m\n",
            "[ 43%] \u001b[32mBuilding CXX object CMakeFiles/_lightgbm.dir/src/network/linkers_socket.cpp.o\u001b[0m\n",
            "[ 44%] \u001b[32mBuilding CXX object CMakeFiles/lightgbm.dir/src/io/config.cpp.o\u001b[0m\n",
            "[ 46%] \u001b[32mBuilding CXX object CMakeFiles/_lightgbm.dir/src/network/network.cpp.o\u001b[0m\n",
            "[ 47%] \u001b[32mBuilding CXX object CMakeFiles/_lightgbm.dir/src/objective/objective_function.cpp.o\u001b[0m\n",
            "[ 49%] \u001b[32mBuilding CXX object CMakeFiles/_lightgbm.dir/src/treelearner/cuda_tree_learner.cpp.o\u001b[0m\n",
            "[ 50%] \u001b[32mBuilding CXX object CMakeFiles/_lightgbm.dir/src/treelearner/data_parallel_tree_learner.cpp.o\u001b[0m\n",
            "[ 52%] \u001b[32mBuilding CXX object CMakeFiles/_lightgbm.dir/src/treelearner/feature_parallel_tree_learner.cpp.o\u001b[0m\n",
            "[ 53%] \u001b[32mBuilding CXX object CMakeFiles/_lightgbm.dir/src/treelearner/gpu_tree_learner.cpp.o\u001b[0m\n",
            "[ 55%] \u001b[32mBuilding CXX object CMakeFiles/lightgbm.dir/src/io/config_auto.cpp.o\u001b[0m\n",
            "[ 56%] \u001b[32mBuilding CXX object CMakeFiles/_lightgbm.dir/src/treelearner/linear_tree_learner.cpp.o\u001b[0m\n",
            "[ 57%] \u001b[32mBuilding CXX object CMakeFiles/_lightgbm.dir/src/treelearner/serial_tree_learner.cpp.o\u001b[0m\n",
            "[ 59%] \u001b[32mBuilding CXX object CMakeFiles/lightgbm.dir/src/io/dataset.cpp.o\u001b[0m\n",
            "[ 60%] \u001b[32mBuilding CXX object CMakeFiles/lightgbm.dir/src/io/dataset_loader.cpp.o\u001b[0m\n",
            "[ 62%] \u001b[32mBuilding CXX object CMakeFiles/_lightgbm.dir/src/treelearner/tree_learner.cpp.o\u001b[0m\n",
            "[ 63%] \u001b[32mBuilding CXX object CMakeFiles/_lightgbm.dir/src/treelearner/voting_parallel_tree_learner.cpp.o\u001b[0m\n",
            "[ 65%] \u001b[32mBuilding CXX object CMakeFiles/lightgbm.dir/src/io/file_io.cpp.o\u001b[0m\n",
            "[ 66%] \u001b[32mBuilding CXX object CMakeFiles/lightgbm.dir/src/io/json11.cpp.o\u001b[0m\n",
            "[ 68%] \u001b[32mBuilding CXX object CMakeFiles/_lightgbm.dir/src/c_api.cpp.o\u001b[0m\n",
            "[ 69%] \u001b[32mBuilding CXX object CMakeFiles/lightgbm.dir/src/io/metadata.cpp.o\u001b[0m\n",
            "[ 71%] \u001b[32mBuilding CXX object CMakeFiles/lightgbm.dir/src/io/parser.cpp.o\u001b[0m\n",
            "[ 72%] \u001b[32mBuilding CXX object CMakeFiles/lightgbm.dir/src/io/train_share_states.cpp.o\u001b[0m\n",
            "[ 73%] \u001b[32mBuilding CXX object CMakeFiles/lightgbm.dir/src/io/tree.cpp.o\u001b[0m\n",
            "[ 75%] \u001b[32mBuilding CXX object CMakeFiles/lightgbm.dir/src/metric/dcg_calculator.cpp.o\u001b[0m\n",
            "[ 76%] \u001b[32mBuilding CXX object CMakeFiles/lightgbm.dir/src/metric/metric.cpp.o\u001b[0m\n",
            "[ 78%] \u001b[32mBuilding CXX object CMakeFiles/lightgbm.dir/src/network/ifaddrs_patch.cpp.o\u001b[0m\n",
            "[ 79%] \u001b[32mBuilding CXX object CMakeFiles/lightgbm.dir/src/network/linker_topo.cpp.o\u001b[0m\n",
            "[ 81%] \u001b[32mBuilding CXX object CMakeFiles/lightgbm.dir/src/network/linkers_mpi.cpp.o\u001b[0m\n",
            "[ 82%] \u001b[32mBuilding CXX object CMakeFiles/lightgbm.dir/src/network/linkers_socket.cpp.o\u001b[0m\n",
            "[ 84%] \u001b[32mBuilding CXX object CMakeFiles/lightgbm.dir/src/network/network.cpp.o\u001b[0m\n",
            "[ 85%] \u001b[32mBuilding CXX object CMakeFiles/lightgbm.dir/src/objective/objective_function.cpp.o\u001b[0m\n",
            "[ 86%] \u001b[32mBuilding CXX object CMakeFiles/lightgbm.dir/src/treelearner/cuda_tree_learner.cpp.o\u001b[0m\n",
            "[ 88%] \u001b[32mBuilding CXX object CMakeFiles/lightgbm.dir/src/treelearner/data_parallel_tree_learner.cpp.o\u001b[0m\n",
            "[ 89%] \u001b[32mBuilding CXX object CMakeFiles/lightgbm.dir/src/treelearner/feature_parallel_tree_learner.cpp.o\u001b[0m\n",
            "[ 91%] \u001b[32m\u001b[1mLinking CXX shared library ../lib_lightgbm.so\u001b[0m\n",
            "[ 91%] Built target _lightgbm\n",
            "[ 92%] \u001b[32mBuilding CXX object CMakeFiles/lightgbm.dir/src/treelearner/gpu_tree_learner.cpp.o\u001b[0m\n",
            "[ 94%] \u001b[32mBuilding CXX object CMakeFiles/lightgbm.dir/src/treelearner/linear_tree_learner.cpp.o\u001b[0m\n",
            "[ 95%] \u001b[32mBuilding CXX object CMakeFiles/lightgbm.dir/src/treelearner/serial_tree_learner.cpp.o\u001b[0m\n",
            "[ 97%] \u001b[32mBuilding CXX object CMakeFiles/lightgbm.dir/src/treelearner/tree_learner.cpp.o\u001b[0m\n",
            "[ 98%] \u001b[32mBuilding CXX object CMakeFiles/lightgbm.dir/src/treelearner/voting_parallel_tree_learner.cpp.o\u001b[0m\n",
            "[100%] \u001b[32m\u001b[1mLinking CXX executable ../lightgbm\u001b[0m\n",
            "[100%] Built target lightgbm\n",
            "running install\n",
            "running build\n",
            "running build_py\n",
            "INFO:root:Generating grammar tables from /usr/lib/python3.7/lib2to3/Grammar.txt\n",
            "INFO:root:Generating grammar tables from /usr/lib/python3.7/lib2to3/PatternGrammar.txt\n",
            "creating build\n",
            "creating build/lib\n",
            "creating build/lib/lightgbm\n",
            "copying lightgbm/basic.py -> build/lib/lightgbm\n",
            "copying lightgbm/libpath.py -> build/lib/lightgbm\n",
            "copying lightgbm/__init__.py -> build/lib/lightgbm\n",
            "copying lightgbm/plotting.py -> build/lib/lightgbm\n",
            "copying lightgbm/compat.py -> build/lib/lightgbm\n",
            "copying lightgbm/dask.py -> build/lib/lightgbm\n",
            "copying lightgbm/sklearn.py -> build/lib/lightgbm\n",
            "copying lightgbm/engine.py -> build/lib/lightgbm\n",
            "copying lightgbm/callback.py -> build/lib/lightgbm\n",
            "running egg_info\n",
            "creating lightgbm.egg-info\n",
            "writing lightgbm.egg-info/PKG-INFO\n",
            "writing dependency_links to lightgbm.egg-info/dependency_links.txt\n",
            "writing requirements to lightgbm.egg-info/requires.txt\n",
            "writing top-level names to lightgbm.egg-info/top_level.txt\n",
            "writing manifest file 'lightgbm.egg-info/SOURCES.txt'\n",
            "reading manifest template 'MANIFEST.in'\n",
            "no previously-included directories found matching 'build'\n",
            "warning: no files found matching 'LICENSE'\n",
            "warning: no files found matching '*.txt'\n",
            "warning: no files found matching '*.so' under directory 'lightgbm'\n",
            "warning: no files found matching 'compile/CMakeLists.txt'\n",
            "warning: no files found matching 'compile/cmake/IntegratedOpenCL.cmake'\n",
            "warning: no files found matching '*.so' under directory 'compile'\n",
            "warning: no files found matching '*.dll' under directory 'compile/Release'\n",
            "warning: no files found matching 'compile/external_libs/compute/CMakeLists.txt'\n",
            "warning: no files found matching '*' under directory 'compile/external_libs/compute/cmake'\n",
            "warning: no files found matching '*' under directory 'compile/external_libs/compute/include'\n",
            "warning: no files found matching '*' under directory 'compile/external_libs/compute/meta'\n",
            "warning: no files found matching 'compile/external_libs/eigen/CMakeLists.txt'\n",
            "warning: no files found matching 'compile/external_libs/eigen/Eigen/Cholesky'\n",
            "warning: no files found matching 'compile/external_libs/eigen/Eigen/Core'\n",
            "warning: no files found matching 'compile/external_libs/eigen/Eigen/Dense'\n",
            "warning: no files found matching 'compile/external_libs/eigen/Eigen/Eigenvalues'\n",
            "warning: no files found matching 'compile/external_libs/eigen/Eigen/Geometry'\n",
            "warning: no files found matching 'compile/external_libs/eigen/Eigen/Householder'\n",
            "warning: no files found matching 'compile/external_libs/eigen/Eigen/Jacobi'\n",
            "warning: no files found matching 'compile/external_libs/eigen/Eigen/LU'\n",
            "warning: no files found matching 'compile/external_libs/eigen/Eigen/QR'\n",
            "warning: no files found matching 'compile/external_libs/eigen/Eigen/SVD'\n",
            "warning: no files found matching '*' under directory 'compile/external_libs/eigen/Eigen/src/Cholesky'\n",
            "warning: no files found matching '*' under directory 'compile/external_libs/eigen/Eigen/src/Core'\n",
            "warning: no files found matching '*' under directory 'compile/external_libs/eigen/Eigen/src/Eigenvalues'\n",
            "warning: no files found matching '*' under directory 'compile/external_libs/eigen/Eigen/src/Geometry'\n",
            "warning: no files found matching '*' under directory 'compile/external_libs/eigen/Eigen/src/Householder'\n",
            "warning: no files found matching '*' under directory 'compile/external_libs/eigen/Eigen/src/Jacobi'\n",
            "warning: no files found matching '*' under directory 'compile/external_libs/eigen/Eigen/src/LU'\n",
            "warning: no files found matching '*' under directory 'compile/external_libs/eigen/Eigen/src/misc'\n",
            "warning: no files found matching '*' under directory 'compile/external_libs/eigen/Eigen/src/plugins'\n",
            "warning: no files found matching '*' under directory 'compile/external_libs/eigen/Eigen/src/QR'\n",
            "warning: no files found matching '*' under directory 'compile/external_libs/eigen/Eigen/src/SVD'\n",
            "warning: no files found matching 'compile/external_libs/fast_double_parser/CMakeLists.txt'\n",
            "warning: no files found matching 'compile/external_libs/fast_double_parser/LICENSE'\n",
            "warning: no files found matching 'compile/external_libs/fast_double_parser/LICENSE.BSL'\n",
            "warning: no files found matching '*' under directory 'compile/external_libs/fast_double_parser/include'\n",
            "warning: no files found matching 'compile/external_libs/fmt/CMakeLists.txt'\n",
            "warning: no files found matching 'compile/external_libs/fmt/LICENSE.rst'\n",
            "warning: no files found matching '*' under directory 'compile/external_libs/fmt/include'\n",
            "warning: no files found matching '*' under directory 'compile/include'\n",
            "warning: no files found matching '*' under directory 'compile/src'\n",
            "warning: no files found matching 'LightGBM.sln' under directory 'compile/windows'\n",
            "warning: no files found matching 'LightGBM.vcxproj' under directory 'compile/windows'\n",
            "warning: no files found matching '*.dll' under directory 'compile/windows/x64/DLL'\n",
            "warning: no previously-included files matching '*.py[co]' found anywhere in distribution\n",
            "warning: no previously-included files found matching 'compile/external_libs/compute/.git'\n",
            "writing manifest file 'lightgbm.egg-info/SOURCES.txt'\n",
            "copying lightgbm/VERSION.txt -> build/lib/lightgbm\n",
            "running install_lib\n",
            "copying build/lib/lightgbm/basic.py -> /usr/local/lib/python3.7/dist-packages/lightgbm\n",
            "copying build/lib/lightgbm/libpath.py -> /usr/local/lib/python3.7/dist-packages/lightgbm\n",
            "copying build/lib/lightgbm/__init__.py -> /usr/local/lib/python3.7/dist-packages/lightgbm\n",
            "copying build/lib/lightgbm/plotting.py -> /usr/local/lib/python3.7/dist-packages/lightgbm\n",
            "copying build/lib/lightgbm/compat.py -> /usr/local/lib/python3.7/dist-packages/lightgbm\n",
            "copying build/lib/lightgbm/dask.py -> /usr/local/lib/python3.7/dist-packages/lightgbm\n",
            "copying build/lib/lightgbm/VERSION.txt -> /usr/local/lib/python3.7/dist-packages/lightgbm\n",
            "copying build/lib/lightgbm/sklearn.py -> /usr/local/lib/python3.7/dist-packages/lightgbm\n",
            "copying build/lib/lightgbm/engine.py -> /usr/local/lib/python3.7/dist-packages/lightgbm\n",
            "copying build/lib/lightgbm/callback.py -> /usr/local/lib/python3.7/dist-packages/lightgbm\n",
            "INFO:LightGBM:Installing lib_lightgbm from: ['../lib_lightgbm.so']\n",
            "copying ../lib_lightgbm.so -> /usr/local/lib/python3.7/dist-packages/lightgbm\n",
            "byte-compiling /usr/local/lib/python3.7/dist-packages/lightgbm/basic.py to basic.cpython-37.pyc\n",
            "byte-compiling /usr/local/lib/python3.7/dist-packages/lightgbm/libpath.py to libpath.cpython-37.pyc\n",
            "byte-compiling /usr/local/lib/python3.7/dist-packages/lightgbm/__init__.py to __init__.cpython-37.pyc\n",
            "byte-compiling /usr/local/lib/python3.7/dist-packages/lightgbm/plotting.py to plotting.cpython-37.pyc\n",
            "byte-compiling /usr/local/lib/python3.7/dist-packages/lightgbm/compat.py to compat.cpython-37.pyc\n",
            "byte-compiling /usr/local/lib/python3.7/dist-packages/lightgbm/dask.py to dask.cpython-37.pyc\n",
            "byte-compiling /usr/local/lib/python3.7/dist-packages/lightgbm/sklearn.py to sklearn.cpython-37.pyc\n",
            "byte-compiling /usr/local/lib/python3.7/dist-packages/lightgbm/engine.py to engine.cpython-37.pyc\n",
            "byte-compiling /usr/local/lib/python3.7/dist-packages/lightgbm/callback.py to callback.cpython-37.pyc\n",
            "running install_egg_info\n",
            "Copying lightgbm.egg-info to /usr/local/lib/python3.7/dist-packages/lightgbm-3.2.0.99-py3.7.egg-info\n",
            "running install_scripts\n"
          ],
          "name": "stdout"
        }
      ]
    },
    {
      "cell_type": "code",
      "metadata": {
        "id": "p-towmis6RTo"
      },
      "source": [
        "!mkdir data\n",
        "# !cp -r /content/drive/MyDrive/Data-x/data/*.csv /content/data/\n",
        "# !cp -r /content/drive/MyDrive/Data-x/data/0329/*.csv /content/data/\n",
        "# !cp -r /content/drive/MyDrive/Data-x/data/0330/*.csv /content/data/\n",
        "!cp /content/drive/MyDrive/Data-x/data/0403/*.csv /content/data/"
      ],
      "execution_count": null,
      "outputs": []
    },
    {
      "cell_type": "code",
      "metadata": {
        "id": "FvrZCaLe-Uvg",
        "colab": {
          "base_uri": "https://localhost:8080/"
        },
        "outputId": "78bed380-4c77-45a9-ff99-c276be72464b"
      },
      "source": [
        "%cd /content"
      ],
      "execution_count": null,
      "outputs": [
        {
          "output_type": "stream",
          "text": [
            "/content\n"
          ],
          "name": "stdout"
        }
      ]
    },
    {
      "cell_type": "code",
      "metadata": {
        "id": "bFKsnitz-hOx",
        "colab": {
          "base_uri": "https://localhost:8080/"
        },
        "outputId": "6652dee7-63b6-4c6b-96a2-c23ee94fe159"
      },
      "source": [
        "import numpy as np\n",
        "import pandas as pd\n",
        "import scipy.stats as stats\n",
        "from pathlib import Path\n",
        "import glob\n",
        "\n",
        "from sklearn.model_selection import KFold\n",
        "import lightgbm as lgb\n",
        "\n",
        "import psutil\n",
        "import random\n",
        "import os\n",
        "import time\n",
        "import sys\n",
        "import math\n",
        "from contextlib import contextmanager\n",
        "\n",
        "\n",
        "N_SPLITS = 10\n",
        "SEED = 42\n",
        "\n",
        "@contextmanager\n",
        "def timer(name: str):\n",
        "    t0 = time.time()\n",
        "    p = psutil.Process(os.getpid())\n",
        "    m0 = p.memory_info()[0] / 2. ** 30\n",
        "    try:\n",
        "        yield\n",
        "    finally:\n",
        "        m1 = p.memory_info()[0] / 2. ** 30\n",
        "        delta = m1 - m0\n",
        "        sign = '+' if delta >= 0 else '-'\n",
        "        delta = math.fabs(delta)\n",
        "        print(f\"[{m1:.1f}GB({sign}{delta:.1f}GB): {time.time() - t0:.3f}sec] {name}\", file=sys.stderr)\n",
        "\n",
        "\n",
        "def set_seed(seed=42):\n",
        "    random.seed(seed)\n",
        "    os.environ[\"PYTHONHASHSEED\"] = str(seed)\n",
        "    np.random.seed(seed)\n",
        "    \n",
        "def comp_metric(xhat, yhat, fhat, x, y, f):\n",
        "    intermediate = np.sqrt(np.power(xhat-x, 2) + np.power(yhat-y, 2)) + 15 * np.abs(fhat-f)\n",
        "    return intermediate.sum()/xhat.shape[0]\n",
        "\n",
        "\n",
        "\n",
        "\n",
        "\n",
        "set_seed(SEED)\n",
        "\n",
        "feature_dir = './*/'\n",
        "train_files = sorted(glob.glob(os.path.join(feature_dir, '*_train.csv')))\n",
        "print(train_files)\n",
        "test_files = sorted(glob.glob(os.path.join(feature_dir, '*_test.csv')))\n",
        "\n",
        "#parameters for the three LightGBM models\n",
        "lgb_params = {'objective': 'root_mean_squared_error',\n",
        "              'boosting_type': 'gbdt',\n",
        "              'n_estimators': 50000,\n",
        "              'learning_rate': 0.1,\n",
        "              'num_leaves': 90,\n",
        "              'device': 'gpu',\n",
        "              'colsample_bytree': 0.4,\n",
        "              'subsample': 0.6,\n",
        "              'subsample_freq': 2,\n",
        "              'bagging_seed': SEED,\n",
        "              'reg_alpha': 8,\n",
        "              'reg_lambda': 2,\n",
        "              'random_state': SEED,\n",
        "              'n_jobs': -1\n",
        "              }\n",
        "\n",
        "lgb_f_params = {'objective': 'multiclass',\n",
        "                'boosting_type': 'gbdt',\n",
        "                'n_estimators': 50000,\n",
        "                'learning_rate': 0.1,\n",
        "                'num_leaves': 90,\n",
        "                'device': 'gpu',\n",
        "                'colsample_bytree': 0.4,\n",
        "                'subsample': 0.6,\n",
        "                'subsample_freq': 2,\n",
        "                'bagging_seed': SEED,\n",
        "                'reg_alpha': 10,\n",
        "                'reg_lambda': 2,\n",
        "                'random_state': SEED,\n",
        "                'n_jobs': -1\n",
        "                }"
      ],
      "execution_count": null,
      "outputs": [
        {
          "output_type": "stream",
          "text": [
            "['./data/5cd56b5ae2acfd2d33b58544_train.csv', './data/5cd56b5ae2acfd2d33b58546_train.csv', './data/5cd56b5ae2acfd2d33b58548_train.csv', './data/5cd56b5ae2acfd2d33b58549_train.csv', './data/5cd56b5ae2acfd2d33b5854a_train.csv', './data/5cd56b6ae2acfd2d33b59c90_train.csv', './data/5cd56b6ae2acfd2d33b59ccb_train.csv', './data/5cd56b6ae2acfd2d33b59ccc_train.csv', './data/5cd56b6be2acfd2d33b59d1f_train.csv', './data/5cd56b6ee2acfd2d33b5a247_train.csv', './data/5cd56b6fe2acfd2d33b5a386_train.csv', './data/5cd56b7de2acfd2d33b5c14b_train.csv', './data/5d27075f03f801723c2e360f_train.csv', './data/5d27096c03f801723c31e5e0_train.csv', './data/5d27097f03f801723c320d97_train.csv', './data/5d27099f03f801723c32511d_train.csv', './data/5d2709a003f801723c3251bf_train.csv', './data/5d2709b303f801723c327472_train.csv', './data/5d2709bb03f801723c32852c_train.csv', './data/5d2709c303f801723c3299ee_train.csv', './data/5d2709d403f801723c32bd39_train.csv', './data/5da1382d4db8ce0c98bbe92e_train.csv', './data/5da1383b4db8ce0c98bc11ab_train.csv', './data/5da138b74db8ce0c98bd4774_train.csv', './data/5da958dd46f8266d0737457b_train.csv']\n"
          ],
          "name": "stdout"
        }
      ]
    },
    {
      "cell_type": "markdown",
      "metadata": {
        "id": "tBV_ni-eqvrq"
      },
      "source": [
        "# Testout for the first dataset"
      ]
    },
    {
      "cell_type": "code",
      "metadata": {
        "id": "_43ENq8IqvPA"
      },
      "source": [
        "score_df = pd.DataFrame()\n",
        "oof = list()\n",
        "predictions = list()\n",
        "\n",
        "data = pd.read_csv(train_files[0], index_col=0)\n",
        "test_data = pd.read_csv(test_files[0], index_col=0)\n",
        "\n",
        "oof_x, oof_y, oof_f = np.zeros(data.shape[0]), np.zeros(data.shape[0]), np.zeros(data.shape[0])\n",
        "# oof_x, oof_y, oof_f is the np.zeros to store X, Y and Floor result\n",
        "preds_x, preds_y = 0, 0\n",
        "preds_f_arr = np.zeros((test_data.shape[0], N_SPLITS))\n",
        "print(\"Starting to train: \", os.path.basename(train_files[0]))\n",
        "kf = KFold(n_splits=N_SPLITS, shuffle=True, random_state=SEED)\n",
        "for fold, (trn_idx, val_idx) in enumerate(kf.split(data.iloc[:, :-4])):\n",
        "    X_train = data.iloc[trn_idx, :-5] # All wifi signal info\n",
        "    y_trainx = data.iloc[trn_idx, -5] # the location X to be predicted\n",
        "    y_trainy = data.iloc[trn_idx, -4] # the location Y to be predicted\n",
        "    y_trainf = data.iloc[trn_idx, -3] # the location's floor\n",
        "\n",
        "    X_valid = data.iloc[val_idx, :-5] # All wifi signal info in KFold validation dataset\n",
        "    y_validx = data.iloc[val_idx, -5] # the location X to be predicted in KFold validation dataset\n",
        "    y_validy = data.iloc[val_idx, -4] # the location Y to be predicted in KFold validation dataset\n",
        "    y_validf = data.iloc[val_idx, -3] # the location's floor in KFold validation dataset\n",
        "\n",
        "    modelx = lgb.LGBMRegressor(**lgb_params) #Model selected, which is LightGBM\n",
        "    with timer(\"fit X\"):\n",
        "        modelx.fit(X_train, y_trainx,\n",
        "                    eval_set=[(X_valid, y_validx)],\n",
        "                    eval_metric='rmse',\n",
        "                    verbose=False,\n",
        "                    early_stopping_rounds=20\n",
        "                    ) #Model 1, used to predit X location only\n",
        "\n",
        "    modely = lgb.LGBMRegressor(**lgb_params)\n",
        "    with timer(\"fit Y\"):\n",
        "        modely.fit(X_train, y_trainy,\n",
        "                    eval_set=[(X_valid, y_validy)],\n",
        "                    eval_metric='rmse',\n",
        "                    verbose=False,\n",
        "                    early_stopping_rounds=20\n",
        "                    ) #Model 2, used to predit Y location only\n",
        "\n",
        "    modelf = lgb.LGBMClassifier(**lgb_f_params)\n",
        "    with timer(\"fit F\"):\n",
        "        modelf.fit(X_train, y_trainf,\n",
        "                    eval_set=[(X_valid, y_validf)],\n",
        "                    eval_metric='multi_logloss',\n",
        "                    verbose=False,\n",
        "                    early_stopping_rounds=20\n",
        "                    ) #Model 3, used to predit Floor location only\n",
        "\n",
        "    oof_x[val_idx] = modelx.predict(X_valid)\n",
        "    oof_y[val_idx] = modely.predict(X_valid)\n",
        "    oof_f[val_idx] = modelf.predict(X_valid).astype(int)\n",
        "\n",
        "    preds_x += modelx.predict(test_data.iloc[:, :-5]) / N_SPLITS \n",
        "    #Average the result of each folds, divide every result by n_splits, and add them together\n",
        "    preds_y += modely.predict(test_data.iloc[:, :-5]) / N_SPLITS\n",
        "    #Average the result of each folds, divide every result by n_splits, and add them together\n",
        "    preds_f_arr[:, fold] = modelf.predict(test_data.iloc[:, :-5]).astype(int)\n",
        "    #The floor is dealt differently,   \n",
        "\n",
        "    score = comp_metric(oof_x[val_idx], oof_y[val_idx], oof_f[val_idx],\n",
        "                        y_validx.to_numpy(), y_validy.to_numpy(), y_validf.to_numpy())\n",
        "    # the error in current KFold\n",
        "    print(f\"fold {fold}: mean position error {score}\")\n",
        "\n",
        "\n",
        "# Evaluate mean position error of each file\n",
        "print(\"*+\"*40)\n",
        "score = comp_metric(oof_x, oof_y, oof_f,\n",
        "                    data.iloc[:, -5].to_numpy(), data.iloc[:, -4].to_numpy(), data.iloc[:, -3].to_numpy())\n",
        "#Calculate the score/error\n",
        "oof.append(score)\n",
        "print(f\"mean position error {score}\")\n",
        "print(\"*+\"*40)\n",
        "\n",
        "preds_f_mode = stats.mode(preds_f_arr, axis=1)\n",
        "preds_f = preds_f_mode[0].astype(int).reshape(-1)\n",
        "#The floor is dealt differently, vote to choose the most appeared floor number in all folds\n",
        "test_preds = pd.DataFrame(np.stack((preds_f, preds_x, preds_y))).T"
      ],
      "execution_count": null,
      "outputs": []
    },
    {
      "cell_type": "code",
      "metadata": {
        "id": "yQDbqxHJtVsE"
      },
      "source": [
        "wifi_val = test_data.iloc[:,:-5]\n",
        "x_val = test_data.iloc[:,-5:-4]\n",
        "y_val =test_data.iloc[:,-4:-3]\n",
        "floor_val = test_data.iloc[:,-3:-2]"
      ],
      "execution_count": null,
      "outputs": []
    },
    {
      "cell_type": "code",
      "metadata": {
        "id": "k_pk4wGbwHqt"
      },
      "source": [
        "from sklearn.metrics import mean_squared_error\n",
        "\n",
        "gbm_test_error_x_val = mean_squared_error(preds_x, x_val)\n",
        "gbm_test_error_y_val = mean_squared_error(preds_y, y_val)\n",
        "gbm_test_error_f_val = mean_squared_error(preds_f, floor_val)\n",
        "print(\"LightGBM test MSE: \", gbm_test_error_x_val, gbm_test_error_y_val, gbm_test_error_f_val)"
      ],
      "execution_count": null,
      "outputs": []
    },
    {
      "cell_type": "markdown",
      "metadata": {
        "id": "5aHThFmXqdWh"
      },
      "source": [
        "# Calculate all data"
      ]
    },
    {
      "cell_type": "code",
      "metadata": {
        "id": "fU_ag5yp_qEw",
        "colab": {
          "base_uri": "https://localhost:8080/"
        },
        "outputId": "93a48741-371c-4930-c8f2-846c544aa083"
      },
      "source": [
        "from sklearn.metrics import mean_squared_error\n",
        "\n",
        "score_df = pd.DataFrame()\n",
        "oof = list()\n",
        "predictions = list()\n",
        "for n_files, file in enumerate(train_files):\n",
        "    data = pd.read_csv(file, index_col=0)\n",
        "    test_data = pd.read_csv(test_files[n_files], index_col=0)\n",
        "\n",
        "    oof_x, oof_y, oof_f = np.zeros(data.shape[0]), np.zeros(data.shape[0]), np.zeros(data.shape[0])\n",
        "    # oof_x, oof_y, oof_f is the np.zeros to store X, Y and Floor result\n",
        "    preds_x, preds_y = 0, 0\n",
        "    preds_f_arr = np.zeros((test_data.shape[0], N_SPLITS))\n",
        "    print(\"Starting to train: \", os.path.basename(file))\n",
        "    kf = KFold(n_splits=N_SPLITS, shuffle=True, random_state=SEED)\n",
        "    for fold, (trn_idx, val_idx) in enumerate(kf.split(data.iloc[:, :-4])):\n",
        "        X_train = data.iloc[trn_idx, :-5] # All wifi signal info\n",
        "        y_trainx = data.iloc[trn_idx, -5] # the location X to be predicted\n",
        "        y_trainy = data.iloc[trn_idx, -4] # the location Y to be predicted\n",
        "        y_trainf = data.iloc[trn_idx, -3] # the location's floor\n",
        "\n",
        "        X_valid = data.iloc[val_idx, :-5] # All wifi signal info in KFold validation dataset\n",
        "        y_validx = data.iloc[val_idx, -5] # the location X to be predicted in KFold validation dataset\n",
        "        y_validy = data.iloc[val_idx, -4] # the location Y to be predicted in KFold validation dataset\n",
        "        y_validf = data.iloc[val_idx, -3] # the location's floor in KFold validation dataset\n",
        "\n",
        "        modelx = lgb.LGBMRegressor(**lgb_params) #Model selected, which is LightGBM\n",
        "        with timer(\"fit X\"):\n",
        "            modelx.fit(X_train, y_trainx,\n",
        "                       eval_set=[(X_valid, y_validx)],\n",
        "                       eval_metric='rmse',\n",
        "                       verbose=False,\n",
        "                       early_stopping_rounds=20\n",
        "                       ) #Model 1, used to predit X location only\n",
        "\n",
        "        modely = lgb.LGBMRegressor(**lgb_params)\n",
        "        with timer(\"fit Y\"):\n",
        "            modely.fit(X_train, y_trainy,\n",
        "                       eval_set=[(X_valid, y_validy)],\n",
        "                       eval_metric='rmse',\n",
        "                       verbose=False,\n",
        "                       early_stopping_rounds=20\n",
        "                       ) #Model 2, used to predit Y location only\n",
        "\n",
        "        modelf = lgb.LGBMClassifier(**lgb_f_params)\n",
        "        with timer(\"fit F\"):\n",
        "            modelf.fit(X_train, y_trainf,\n",
        "                       eval_set=[(X_valid, y_validf)],\n",
        "                       eval_metric='multi_logloss',\n",
        "                       verbose=False,\n",
        "                       early_stopping_rounds=20\n",
        "                       ) #Model 3, used to predit Floor location only\n",
        "\n",
        "        oof_x[val_idx] = modelx.predict(X_valid)\n",
        "        oof_y[val_idx] = modely.predict(X_valid)\n",
        "        oof_f[val_idx] = modelf.predict(X_valid).astype(int)\n",
        "\n",
        "        preds_x += modelx.predict(test_data.iloc[:, :-5]) / N_SPLITS \n",
        "        #Average the result of each folds, divide every result by n_splits, and add them together\n",
        "        preds_y += modely.predict(test_data.iloc[:, :-5]) / N_SPLITS\n",
        "        #Average the result of each folds, divide every result by n_splits, and add them together\n",
        "        preds_f_arr[:, fold] = modelf.predict(test_data.iloc[:, :-5]).astype(int)\n",
        "        #The floor is dealt differently,   \n",
        "\n",
        "        score = comp_metric(oof_x[val_idx], oof_y[val_idx], oof_f[val_idx],\n",
        "                            y_validx.to_numpy(), y_validy.to_numpy(), y_validf.to_numpy())\n",
        "        # the error in current KFold\n",
        "        print(f\"fold {fold}: mean position error {score}\")\n",
        "\n",
        "\n",
        "    # Evaluate mean position error of each file\n",
        "    print(\"*+\"*40)\n",
        "    print(f\"file #{n_files}, shape={data.shape}, name={os.path.basename(file)}\")\n",
        "    score = comp_metric(oof_x, oof_y, oof_f,\n",
        "                        data.iloc[:, -5].to_numpy(), data.iloc[:, -4].to_numpy(), data.iloc[:, -3].to_numpy())\n",
        "    #Calculate the score/error\n",
        "    oof.append(score)\n",
        "    print(f\"mean position error {score}\")\n",
        "    print(\"*+\"*40)\n",
        "\n",
        "    preds_f_mode = stats.mode(preds_f_arr, axis=1)\n",
        "    preds_f = preds_f_mode[0].astype(int).reshape(-1)\n",
        "    #The floor is dealt differently, vote to choose the most appeared floor number in all folds\n",
        "    test_preds = pd.DataFrame(np.stack((preds_f, preds_x, preds_y))).T\n",
        "    ######\n",
        "    #Stack all the predictions in one testing file together, and transpose to vertical\n",
        "\n",
        "    # print(test_preds)\n",
        "\n",
        "    column_num = len(data.columns)\n",
        "    data = data.reset_index()\n",
        "\n",
        "    data.insert(column_num, 'pred_x', test_preds[1], True)\n",
        "    data.insert(column_num+1, 'pred_y', test_preds[2], True)\n",
        "    data.insert(column_num+2, 'pred_f', test_preds[0], True) \n",
        "\n",
        "    building_name = file[7:-10] + '.csv'\n",
        "\n",
        "    data.to_csv(building_name)"
      ],
      "execution_count": null,
      "outputs": [
        {
          "output_type": "stream",
          "text": [
            "Starting to train:  5cd56b5ae2acfd2d33b58544_train.csv\n"
          ],
          "name": "stdout"
        },
        {
          "output_type": "stream",
          "text": [
            "[0.3GB(+0.1GB): 6.620sec] fit X\n",
            "[0.3GB(+0.0GB): 1.386sec] fit Y\n",
            "[0.3GB(+0.0GB): 5.142sec] fit F\n"
          ],
          "name": "stderr"
        },
        {
          "output_type": "stream",
          "text": [
            "fold 0: mean position error 2.9043092766803036\n"
          ],
          "name": "stdout"
        },
        {
          "output_type": "stream",
          "text": [
            "[0.3GB(+0.0GB): 1.883sec] fit X\n",
            "[0.3GB(+0.0GB): 1.964sec] fit Y\n",
            "[0.3GB(+0.0GB): 1.874sec] fit F\n"
          ],
          "name": "stderr"
        },
        {
          "output_type": "stream",
          "text": [
            "fold 1: mean position error 2.5662794356195637\n"
          ],
          "name": "stdout"
        },
        {
          "output_type": "stream",
          "text": [
            "[0.3GB(+0.0GB): 3.120sec] fit X\n",
            "[0.3GB(+0.0GB): 1.787sec] fit Y\n",
            "[0.3GB(+0.0GB): 2.403sec] fit F\n"
          ],
          "name": "stderr"
        },
        {
          "output_type": "stream",
          "text": [
            "fold 2: mean position error 2.845461982763413\n"
          ],
          "name": "stdout"
        },
        {
          "output_type": "stream",
          "text": [
            "[0.3GB(+0.0GB): 2.224sec] fit X\n",
            "[0.3GB(+0.0GB): 1.736sec] fit Y\n",
            "[0.3GB(+0.0GB): 3.146sec] fit F\n"
          ],
          "name": "stderr"
        },
        {
          "output_type": "stream",
          "text": [
            "fold 3: mean position error 2.6503105021137534\n"
          ],
          "name": "stdout"
        },
        {
          "output_type": "stream",
          "text": [
            "[0.3GB(+0.0GB): 2.080sec] fit X\n",
            "[0.3GB(+0.0GB): 1.514sec] fit Y\n",
            "[0.3GB(+0.0GB): 1.773sec] fit F\n"
          ],
          "name": "stderr"
        },
        {
          "output_type": "stream",
          "text": [
            "fold 4: mean position error 2.723041487012439\n"
          ],
          "name": "stdout"
        },
        {
          "output_type": "stream",
          "text": [
            "[0.3GB(+0.0GB): 2.423sec] fit X\n",
            "[0.3GB(+0.0GB): 1.790sec] fit Y\n",
            "[0.3GB(+0.0GB): 0.889sec] fit F\n"
          ],
          "name": "stderr"
        },
        {
          "output_type": "stream",
          "text": [
            "fold 5: mean position error 2.5075552418770717\n"
          ],
          "name": "stdout"
        },
        {
          "output_type": "stream",
          "text": [
            "[0.3GB(+0.0GB): 2.333sec] fit X\n",
            "[0.3GB(+0.0GB): 2.103sec] fit Y\n",
            "[0.3GB(+0.0GB): 1.095sec] fit F\n"
          ],
          "name": "stderr"
        },
        {
          "output_type": "stream",
          "text": [
            "fold 6: mean position error 2.9098730729183453\n"
          ],
          "name": "stdout"
        },
        {
          "output_type": "stream",
          "text": [
            "[0.3GB(+0.0GB): 2.081sec] fit X\n",
            "[0.3GB(+0.0GB): 1.940sec] fit Y\n",
            "[0.3GB(+0.0GB): 1.041sec] fit F\n"
          ],
          "name": "stderr"
        },
        {
          "output_type": "stream",
          "text": [
            "fold 7: mean position error 2.725172665933021\n"
          ],
          "name": "stdout"
        },
        {
          "output_type": "stream",
          "text": [
            "[0.3GB(+0.0GB): 1.731sec] fit X\n",
            "[0.3GB(+0.0GB): 3.069sec] fit Y\n",
            "[0.3GB(+0.0GB): 1.370sec] fit F\n"
          ],
          "name": "stderr"
        },
        {
          "output_type": "stream",
          "text": [
            "fold 8: mean position error 2.9013717405580484\n"
          ],
          "name": "stdout"
        },
        {
          "output_type": "stream",
          "text": [
            "[0.3GB(+0.0GB): 2.084sec] fit X\n",
            "[0.3GB(+0.0GB): 1.403sec] fit Y\n",
            "[0.3GB(+0.0GB): 2.017sec] fit F\n"
          ],
          "name": "stderr"
        },
        {
          "output_type": "stream",
          "text": [
            "fold 9: mean position error 3.23685039342293\n",
            "*+*+*+*+*+*+*+*+*+*+*+*+*+*+*+*+*+*+*+*+*+*+*+*+*+*+*+*+*+*+*+*+*+*+*+*+*+*+*+*+\n",
            "file #0, shape=(2313, 85), name=5cd56b5ae2acfd2d33b58544_train.csv\n",
            "mean position error 2.7969901470993115\n",
            "*+*+*+*+*+*+*+*+*+*+*+*+*+*+*+*+*+*+*+*+*+*+*+*+*+*+*+*+*+*+*+*+*+*+*+*+*+*+*+*+\n",
            "Starting to train:  5cd56b5ae2acfd2d33b58546_train.csv\n"
          ],
          "name": "stdout"
        },
        {
          "output_type": "stream",
          "text": [
            "[0.3GB(+0.0GB): 4.448sec] fit X\n",
            "[0.3GB(+0.0GB): 1.588sec] fit Y\n",
            "[0.3GB(+0.0GB): 3.258sec] fit F\n"
          ],
          "name": "stderr"
        },
        {
          "output_type": "stream",
          "text": [
            "fold 0: mean position error 5.8955014955313745\n"
          ],
          "name": "stdout"
        },
        {
          "output_type": "stream",
          "text": [
            "[0.3GB(+0.0GB): 2.051sec] fit X\n",
            "[0.3GB(+0.0GB): 1.277sec] fit Y\n",
            "[0.3GB(+0.0GB): 2.992sec] fit F\n"
          ],
          "name": "stderr"
        },
        {
          "output_type": "stream",
          "text": [
            "fold 1: mean position error 5.183470027606527\n"
          ],
          "name": "stdout"
        },
        {
          "output_type": "stream",
          "text": [
            "[0.3GB(+0.0GB): 3.141sec] fit X\n",
            "[0.3GB(+0.0GB): 2.649sec] fit Y\n",
            "[0.3GB(+0.0GB): 3.167sec] fit F\n"
          ],
          "name": "stderr"
        },
        {
          "output_type": "stream",
          "text": [
            "fold 2: mean position error 5.02868700747217\n"
          ],
          "name": "stdout"
        },
        {
          "output_type": "stream",
          "text": [
            "[0.3GB(+0.0GB): 5.019sec] fit X\n",
            "[0.3GB(+0.0GB): 0.873sec] fit Y\n",
            "[0.3GB(+0.0GB): 2.645sec] fit F\n"
          ],
          "name": "stderr"
        },
        {
          "output_type": "stream",
          "text": [
            "fold 3: mean position error 5.584038109764964\n"
          ],
          "name": "stdout"
        },
        {
          "output_type": "stream",
          "text": [
            "[0.3GB(+0.0GB): 4.345sec] fit X\n",
            "[0.3GB(+0.0GB): 1.592sec] fit Y\n",
            "[0.3GB(+0.0GB): 2.978sec] fit F\n"
          ],
          "name": "stderr"
        },
        {
          "output_type": "stream",
          "text": [
            "fold 4: mean position error 5.068079576814657\n"
          ],
          "name": "stdout"
        },
        {
          "output_type": "stream",
          "text": [
            "[0.3GB(+0.0GB): 3.931sec] fit X\n",
            "[0.3GB(+0.0GB): 2.013sec] fit Y\n",
            "[0.3GB(+0.0GB): 3.915sec] fit F\n"
          ],
          "name": "stderr"
        },
        {
          "output_type": "stream",
          "text": [
            "fold 5: mean position error 4.41892923168878\n"
          ],
          "name": "stdout"
        },
        {
          "output_type": "stream",
          "text": [
            "[0.4GB(+0.0GB): 2.181sec] fit X\n",
            "[0.4GB(+0.0GB): 1.555sec] fit Y\n",
            "[0.4GB(+0.0GB): 2.082sec] fit F\n"
          ],
          "name": "stderr"
        },
        {
          "output_type": "stream",
          "text": [
            "fold 6: mean position error 6.546032663977649\n"
          ],
          "name": "stdout"
        },
        {
          "output_type": "stream",
          "text": [
            "[0.4GB(+0.0GB): 2.546sec] fit X\n",
            "[0.4GB(+0.0GB): 2.550sec] fit Y\n",
            "[0.4GB(+0.0GB): 3.100sec] fit F\n"
          ],
          "name": "stderr"
        },
        {
          "output_type": "stream",
          "text": [
            "fold 7: mean position error 4.663160473786204\n"
          ],
          "name": "stdout"
        },
        {
          "output_type": "stream",
          "text": [
            "[0.4GB(+0.0GB): 2.569sec] fit X\n",
            "[0.4GB(+0.0GB): 2.109sec] fit Y\n",
            "[0.4GB(+0.0GB): 4.021sec] fit F\n"
          ],
          "name": "stderr"
        },
        {
          "output_type": "stream",
          "text": [
            "fold 8: mean position error 5.208912353212748\n"
          ],
          "name": "stdout"
        },
        {
          "output_type": "stream",
          "text": [
            "[0.4GB(+0.0GB): 2.651sec] fit X\n",
            "[0.4GB(+0.0GB): 1.358sec] fit Y\n",
            "[0.4GB(+0.0GB): 3.025sec] fit F\n"
          ],
          "name": "stderr"
        },
        {
          "output_type": "stream",
          "text": [
            "fold 9: mean position error 6.709135270997288\n",
            "*+*+*+*+*+*+*+*+*+*+*+*+*+*+*+*+*+*+*+*+*+*+*+*+*+*+*+*+*+*+*+*+*+*+*+*+*+*+*+*+\n",
            "file #1, shape=(3747, 149), name=5cd56b5ae2acfd2d33b58546_train.csv\n",
            "mean position error 5.430517379496034\n",
            "*+*+*+*+*+*+*+*+*+*+*+*+*+*+*+*+*+*+*+*+*+*+*+*+*+*+*+*+*+*+*+*+*+*+*+*+*+*+*+*+\n",
            "Starting to train:  5cd56b5ae2acfd2d33b58548_train.csv\n"
          ],
          "name": "stdout"
        },
        {
          "output_type": "stream",
          "text": [
            "[0.4GB(+0.0GB): 1.177sec] fit X\n",
            "[0.4GB(+0.0GB): 0.973sec] fit Y\n",
            "[0.4GB(+0.0GB): 1.569sec] fit F\n"
          ],
          "name": "stderr"
        },
        {
          "output_type": "stream",
          "text": [
            "fold 0: mean position error 4.444330681572757\n"
          ],
          "name": "stdout"
        },
        {
          "output_type": "stream",
          "text": [
            "[0.4GB(+0.0GB): 0.858sec] fit X\n",
            "[0.4GB(+0.0GB): 0.697sec] fit Y\n",
            "[0.4GB(+0.0GB): 2.268sec] fit F\n"
          ],
          "name": "stderr"
        },
        {
          "output_type": "stream",
          "text": [
            "fold 1: mean position error 4.9815854224634535\n"
          ],
          "name": "stdout"
        },
        {
          "output_type": "stream",
          "text": [
            "[0.4GB(+0.0GB): 0.734sec] fit X\n",
            "[0.4GB(+0.0GB): 1.012sec] fit Y\n",
            "[0.4GB(+0.0GB): 1.763sec] fit F\n"
          ],
          "name": "stderr"
        },
        {
          "output_type": "stream",
          "text": [
            "fold 2: mean position error 5.103756051491883\n"
          ],
          "name": "stdout"
        },
        {
          "output_type": "stream",
          "text": [
            "[0.4GB(+0.0GB): 0.851sec] fit X\n",
            "[0.4GB(+0.0GB): 0.646sec] fit Y\n",
            "[0.4GB(+0.0GB): 1.534sec] fit F\n"
          ],
          "name": "stderr"
        },
        {
          "output_type": "stream",
          "text": [
            "fold 3: mean position error 5.346697152084386\n"
          ],
          "name": "stdout"
        },
        {
          "output_type": "stream",
          "text": [
            "[0.4GB(+0.0GB): 0.892sec] fit X\n",
            "[0.4GB(+0.0GB): 1.006sec] fit Y\n",
            "[0.4GB(+0.0GB): 1.489sec] fit F\n"
          ],
          "name": "stderr"
        },
        {
          "output_type": "stream",
          "text": [
            "fold 4: mean position error 4.461986128355753\n"
          ],
          "name": "stdout"
        },
        {
          "output_type": "stream",
          "text": [
            "[0.4GB(+0.0GB): 0.622sec] fit X\n",
            "[0.4GB(+0.0GB): 1.522sec] fit Y\n",
            "[0.4GB(+0.0GB): 2.116sec] fit F\n"
          ],
          "name": "stderr"
        },
        {
          "output_type": "stream",
          "text": [
            "fold 5: mean position error 4.850170192916013\n"
          ],
          "name": "stdout"
        },
        {
          "output_type": "stream",
          "text": [
            "[0.4GB(+0.0GB): 1.060sec] fit X\n",
            "[0.4GB(+0.0GB): 0.844sec] fit Y\n",
            "[0.4GB(+0.0GB): 1.473sec] fit F\n"
          ],
          "name": "stderr"
        },
        {
          "output_type": "stream",
          "text": [
            "fold 6: mean position error 4.681133055372956\n"
          ],
          "name": "stdout"
        },
        {
          "output_type": "stream",
          "text": [
            "[0.4GB(+0.0GB): 0.616sec] fit X\n",
            "[0.4GB(+0.0GB): 1.518sec] fit Y\n",
            "[0.4GB(+0.0GB): 1.637sec] fit F\n"
          ],
          "name": "stderr"
        },
        {
          "output_type": "stream",
          "text": [
            "fold 7: mean position error 4.31271968995091\n"
          ],
          "name": "stdout"
        },
        {
          "output_type": "stream",
          "text": [
            "[0.4GB(+0.0GB): 0.976sec] fit X\n",
            "[0.4GB(+0.0GB): 1.091sec] fit Y\n",
            "[0.4GB(+0.0GB): 1.336sec] fit F\n"
          ],
          "name": "stderr"
        },
        {
          "output_type": "stream",
          "text": [
            "fold 8: mean position error 4.89205771358422\n"
          ],
          "name": "stdout"
        },
        {
          "output_type": "stream",
          "text": [
            "[0.4GB(+0.0GB): 1.015sec] fit X\n",
            "[0.4GB(+0.0GB): 0.878sec] fit Y\n",
            "[0.4GB(+0.0GB): 1.713sec] fit F\n"
          ],
          "name": "stderr"
        },
        {
          "output_type": "stream",
          "text": [
            "fold 9: mean position error 4.49569182338883\n",
            "*+*+*+*+*+*+*+*+*+*+*+*+*+*+*+*+*+*+*+*+*+*+*+*+*+*+*+*+*+*+*+*+*+*+*+*+*+*+*+*+\n",
            "file #2, shape=(704, 48), name=5cd56b5ae2acfd2d33b58548_train.csv\n",
            "mean position error 4.758217788480532\n",
            "*+*+*+*+*+*+*+*+*+*+*+*+*+*+*+*+*+*+*+*+*+*+*+*+*+*+*+*+*+*+*+*+*+*+*+*+*+*+*+*+\n",
            "Starting to train:  5cd56b5ae2acfd2d33b58549_train.csv\n"
          ],
          "name": "stdout"
        },
        {
          "output_type": "stream",
          "text": [
            "[0.4GB(+0.0GB): 1.492sec] fit X\n",
            "[0.4GB(+0.0GB): 1.704sec] fit Y\n",
            "[0.4GB(+0.0GB): 2.010sec] fit F\n"
          ],
          "name": "stderr"
        },
        {
          "output_type": "stream",
          "text": [
            "fold 0: mean position error 10.049128813422865\n"
          ],
          "name": "stdout"
        },
        {
          "output_type": "stream",
          "text": [
            "[0.4GB(+0.0GB): 1.064sec] fit X\n",
            "[0.4GB(+0.0GB): 1.039sec] fit Y\n",
            "[0.4GB(+0.0GB): 1.979sec] fit F\n"
          ],
          "name": "stderr"
        },
        {
          "output_type": "stream",
          "text": [
            "fold 1: mean position error 13.360061497992197\n"
          ],
          "name": "stdout"
        },
        {
          "output_type": "stream",
          "text": [
            "[0.4GB(+0.0GB): 1.146sec] fit X\n",
            "[0.4GB(+0.0GB): 1.568sec] fit Y\n",
            "[0.4GB(+0.0GB): 2.047sec] fit F\n"
          ],
          "name": "stderr"
        },
        {
          "output_type": "stream",
          "text": [
            "fold 2: mean position error 11.75841407575128\n"
          ],
          "name": "stdout"
        },
        {
          "output_type": "stream",
          "text": [
            "[0.4GB(+0.0GB): 2.133sec] fit X\n",
            "[0.4GB(+0.0GB): 1.658sec] fit Y\n",
            "[0.4GB(+0.0GB): 1.790sec] fit F\n"
          ],
          "name": "stderr"
        },
        {
          "output_type": "stream",
          "text": [
            "fold 3: mean position error 10.388049822778024\n"
          ],
          "name": "stdout"
        },
        {
          "output_type": "stream",
          "text": [
            "[0.4GB(+0.0GB): 1.399sec] fit X\n",
            "[0.4GB(+0.0GB): 1.297sec] fit Y\n",
            "[0.4GB(+0.0GB): 1.907sec] fit F\n"
          ],
          "name": "stderr"
        },
        {
          "output_type": "stream",
          "text": [
            "fold 4: mean position error 11.624464718841619\n"
          ],
          "name": "stdout"
        },
        {
          "output_type": "stream",
          "text": [
            "[0.4GB(+0.0GB): 1.295sec] fit X\n",
            "[0.4GB(+0.0GB): 1.189sec] fit Y\n",
            "[0.4GB(+0.0GB): 2.913sec] fit F\n"
          ],
          "name": "stderr"
        },
        {
          "output_type": "stream",
          "text": [
            "fold 5: mean position error 11.592792093095548\n"
          ],
          "name": "stdout"
        },
        {
          "output_type": "stream",
          "text": [
            "[0.4GB(+0.0GB): 1.308sec] fit X\n",
            "[0.4GB(+0.0GB): 1.333sec] fit Y\n",
            "[0.4GB(+0.0GB): 2.644sec] fit F\n"
          ],
          "name": "stderr"
        },
        {
          "output_type": "stream",
          "text": [
            "fold 6: mean position error 11.091448374318208\n"
          ],
          "name": "stdout"
        },
        {
          "output_type": "stream",
          "text": [
            "[0.4GB(+0.0GB): 2.022sec] fit X\n",
            "[0.4GB(+0.0GB): 1.571sec] fit Y\n",
            "[0.4GB(+0.0GB): 2.697sec] fit F\n"
          ],
          "name": "stderr"
        },
        {
          "output_type": "stream",
          "text": [
            "fold 7: mean position error 12.646611442076404\n"
          ],
          "name": "stdout"
        },
        {
          "output_type": "stream",
          "text": [
            "[0.4GB(+0.0GB): 1.434sec] fit X\n",
            "[0.4GB(+0.0GB): 1.195sec] fit Y\n",
            "[0.4GB(+0.0GB): 1.230sec] fit F\n"
          ],
          "name": "stderr"
        },
        {
          "output_type": "stream",
          "text": [
            "fold 8: mean position error 10.618704011261011\n"
          ],
          "name": "stdout"
        },
        {
          "output_type": "stream",
          "text": [
            "[0.4GB(+0.0GB): 2.091sec] fit X\n",
            "[0.4GB(+0.0GB): 1.269sec] fit Y\n",
            "[0.4GB(+0.0GB): 3.899sec] fit F\n"
          ],
          "name": "stderr"
        },
        {
          "output_type": "stream",
          "text": [
            "fold 9: mean position error 9.551093474759169\n",
            "*+*+*+*+*+*+*+*+*+*+*+*+*+*+*+*+*+*+*+*+*+*+*+*+*+*+*+*+*+*+*+*+*+*+*+*+*+*+*+*+\n",
            "file #3, shape=(2959, 144), name=5cd56b5ae2acfd2d33b58549_train.csv\n",
            "mean position error 11.268657090407892\n",
            "*+*+*+*+*+*+*+*+*+*+*+*+*+*+*+*+*+*+*+*+*+*+*+*+*+*+*+*+*+*+*+*+*+*+*+*+*+*+*+*+\n",
            "Starting to train:  5cd56b5ae2acfd2d33b5854a_train.csv\n"
          ],
          "name": "stdout"
        },
        {
          "output_type": "stream",
          "text": [
            "[0.4GB(+0.0GB): 1.805sec] fit X\n",
            "[0.4GB(+0.0GB): 2.540sec] fit Y\n",
            "[0.4GB(+0.0GB): 2.036sec] fit F\n"
          ],
          "name": "stderr"
        },
        {
          "output_type": "stream",
          "text": [
            "fold 0: mean position error 7.66829022569789\n"
          ],
          "name": "stdout"
        },
        {
          "output_type": "stream",
          "text": [
            "[0.4GB(+0.0GB): 1.343sec] fit X\n",
            "[0.4GB(+0.0GB): 1.548sec] fit Y\n",
            "[0.4GB(+0.0GB): 2.263sec] fit F\n"
          ],
          "name": "stderr"
        },
        {
          "output_type": "stream",
          "text": [
            "fold 1: mean position error 6.691987226244356\n"
          ],
          "name": "stdout"
        },
        {
          "output_type": "stream",
          "text": [
            "[0.4GB(+0.0GB): 3.351sec] fit X\n",
            "[0.4GB(+0.0GB): 1.862sec] fit Y\n",
            "[0.4GB(+0.0GB): 1.800sec] fit F\n"
          ],
          "name": "stderr"
        },
        {
          "output_type": "stream",
          "text": [
            "fold 2: mean position error 7.329600830847915\n"
          ],
          "name": "stdout"
        },
        {
          "output_type": "stream",
          "text": [
            "[0.4GB(+0.0GB): 1.269sec] fit X\n",
            "[0.4GB(+0.0GB): 1.405sec] fit Y\n",
            "[0.4GB(+0.0GB): 2.614sec] fit F\n"
          ],
          "name": "stderr"
        },
        {
          "output_type": "stream",
          "text": [
            "fold 3: mean position error 7.615740914465422\n"
          ],
          "name": "stdout"
        },
        {
          "output_type": "stream",
          "text": [
            "[0.4GB(+0.0GB): 1.721sec] fit X\n",
            "[0.4GB(+0.0GB): 1.270sec] fit Y\n",
            "[0.4GB(+0.0GB): 1.896sec] fit F\n"
          ],
          "name": "stderr"
        },
        {
          "output_type": "stream",
          "text": [
            "fold 4: mean position error 7.646195193764994\n"
          ],
          "name": "stdout"
        },
        {
          "output_type": "stream",
          "text": [
            "[0.4GB(+0.0GB): 1.843sec] fit X\n",
            "[0.4GB(+0.0GB): 1.212sec] fit Y\n",
            "[0.4GB(+0.0GB): 3.025sec] fit F\n"
          ],
          "name": "stderr"
        },
        {
          "output_type": "stream",
          "text": [
            "fold 5: mean position error 7.843089028497019\n"
          ],
          "name": "stdout"
        },
        {
          "output_type": "stream",
          "text": [
            "[0.4GB(+0.0GB): 1.353sec] fit X\n",
            "[0.4GB(+0.0GB): 1.012sec] fit Y\n",
            "[0.4GB(+0.0GB): 2.119sec] fit F\n"
          ],
          "name": "stderr"
        },
        {
          "output_type": "stream",
          "text": [
            "fold 6: mean position error 8.54728315672167\n"
          ],
          "name": "stdout"
        },
        {
          "output_type": "stream",
          "text": [
            "[0.4GB(+0.0GB): 1.908sec] fit X\n",
            "[0.4GB(+0.0GB): 1.448sec] fit Y\n",
            "[0.4GB(+0.0GB): 3.197sec] fit F\n"
          ],
          "name": "stderr"
        },
        {
          "output_type": "stream",
          "text": [
            "fold 7: mean position error 7.801411926274365\n"
          ],
          "name": "stdout"
        },
        {
          "output_type": "stream",
          "text": [
            "[0.4GB(+0.0GB): 3.403sec] fit X\n",
            "[0.4GB(+0.0GB): 1.580sec] fit Y\n",
            "[0.4GB(+0.0GB): 1.974sec] fit F\n"
          ],
          "name": "stderr"
        },
        {
          "output_type": "stream",
          "text": [
            "fold 8: mean position error 8.064078200361065\n"
          ],
          "name": "stdout"
        },
        {
          "output_type": "stream",
          "text": [
            "[0.4GB(+0.0GB): 1.149sec] fit X\n",
            "[0.4GB(+0.0GB): 1.123sec] fit Y\n",
            "[0.4GB(+0.0GB): 2.985sec] fit F\n"
          ],
          "name": "stderr"
        },
        {
          "output_type": "stream",
          "text": [
            "fold 9: mean position error 7.663912819864053\n",
            "*+*+*+*+*+*+*+*+*+*+*+*+*+*+*+*+*+*+*+*+*+*+*+*+*+*+*+*+*+*+*+*+*+*+*+*+*+*+*+*+\n",
            "file #4, shape=(1713, 87), name=5cd56b5ae2acfd2d33b5854a_train.csv\n",
            "mean position error 7.68635825258092\n",
            "*+*+*+*+*+*+*+*+*+*+*+*+*+*+*+*+*+*+*+*+*+*+*+*+*+*+*+*+*+*+*+*+*+*+*+*+*+*+*+*+\n",
            "Starting to train:  5cd56b6ae2acfd2d33b59c90_train.csv\n"
          ],
          "name": "stdout"
        },
        {
          "output_type": "stream",
          "text": [
            "[0.4GB(+0.0GB): 1.030sec] fit X\n",
            "[0.4GB(+0.0GB): 0.857sec] fit Y\n",
            "[0.4GB(+0.0GB): 2.423sec] fit F\n"
          ],
          "name": "stderr"
        },
        {
          "output_type": "stream",
          "text": [
            "fold 0: mean position error 3.417420853938098\n"
          ],
          "name": "stdout"
        },
        {
          "output_type": "stream",
          "text": [
            "[0.4GB(+0.0GB): 0.782sec] fit X\n",
            "[0.4GB(+0.0GB): 0.699sec] fit Y\n",
            "[0.4GB(+0.0GB): 1.807sec] fit F\n"
          ],
          "name": "stderr"
        },
        {
          "output_type": "stream",
          "text": [
            "fold 1: mean position error 2.9178297211934603\n"
          ],
          "name": "stdout"
        },
        {
          "output_type": "stream",
          "text": [
            "[0.4GB(+0.0GB): 1.203sec] fit X\n",
            "[0.4GB(+0.0GB): 0.891sec] fit Y\n",
            "[0.4GB(+0.0GB): 2.425sec] fit F\n"
          ],
          "name": "stderr"
        },
        {
          "output_type": "stream",
          "text": [
            "fold 2: mean position error 3.351825997567853\n"
          ],
          "name": "stdout"
        },
        {
          "output_type": "stream",
          "text": [
            "[0.4GB(+0.0GB): 0.943sec] fit X\n",
            "[0.4GB(+0.0GB): 1.467sec] fit Y\n",
            "[0.4GB(+0.0GB): 2.882sec] fit F\n"
          ],
          "name": "stderr"
        },
        {
          "output_type": "stream",
          "text": [
            "fold 3: mean position error 2.752466630698536\n"
          ],
          "name": "stdout"
        },
        {
          "output_type": "stream",
          "text": [
            "[0.4GB(+0.0GB): 1.129sec] fit X\n",
            "[0.4GB(+0.0GB): 1.315sec] fit Y\n",
            "[0.4GB(+0.0GB): 1.727sec] fit F\n"
          ],
          "name": "stderr"
        },
        {
          "output_type": "stream",
          "text": [
            "fold 4: mean position error 2.7550636817015546\n"
          ],
          "name": "stdout"
        },
        {
          "output_type": "stream",
          "text": [
            "[0.4GB(+0.0GB): 1.236sec] fit X\n",
            "[0.4GB(+0.0GB): 1.372sec] fit Y\n",
            "[0.4GB(+0.0GB): 2.007sec] fit F\n"
          ],
          "name": "stderr"
        },
        {
          "output_type": "stream",
          "text": [
            "fold 5: mean position error 2.909585760889494\n"
          ],
          "name": "stdout"
        },
        {
          "output_type": "stream",
          "text": [
            "[0.4GB(+0.0GB): 1.210sec] fit X\n",
            "[0.4GB(+0.0GB): 1.186sec] fit Y\n",
            "[0.4GB(+0.0GB): 3.331sec] fit F\n"
          ],
          "name": "stderr"
        },
        {
          "output_type": "stream",
          "text": [
            "fold 6: mean position error 2.478044360051752\n"
          ],
          "name": "stdout"
        },
        {
          "output_type": "stream",
          "text": [
            "[0.4GB(+0.0GB): 1.109sec] fit X\n",
            "[0.4GB(+0.0GB): 0.812sec] fit Y\n",
            "[0.4GB(+0.0GB): 2.079sec] fit F\n"
          ],
          "name": "stderr"
        },
        {
          "output_type": "stream",
          "text": [
            "fold 7: mean position error 2.9002595162970586\n"
          ],
          "name": "stdout"
        },
        {
          "output_type": "stream",
          "text": [
            "[0.4GB(+0.0GB): 0.665sec] fit X\n",
            "[0.4GB(+0.0GB): 1.112sec] fit Y\n",
            "[0.4GB(+0.0GB): 1.990sec] fit F\n"
          ],
          "name": "stderr"
        },
        {
          "output_type": "stream",
          "text": [
            "fold 8: mean position error 2.9791519708645806\n"
          ],
          "name": "stdout"
        },
        {
          "output_type": "stream",
          "text": [
            "[0.4GB(+0.0GB): 1.051sec] fit X\n",
            "[0.4GB(+0.0GB): 1.073sec] fit Y\n",
            "[0.4GB(+0.0GB): 3.042sec] fit F\n"
          ],
          "name": "stderr"
        },
        {
          "output_type": "stream",
          "text": [
            "fold 9: mean position error 2.6655642717348353\n",
            "*+*+*+*+*+*+*+*+*+*+*+*+*+*+*+*+*+*+*+*+*+*+*+*+*+*+*+*+*+*+*+*+*+*+*+*+*+*+*+*+\n",
            "file #5, shape=(1118, 40), name=5cd56b6ae2acfd2d33b59c90_train.csv\n",
            "mean position error 2.912882927934141\n",
            "*+*+*+*+*+*+*+*+*+*+*+*+*+*+*+*+*+*+*+*+*+*+*+*+*+*+*+*+*+*+*+*+*+*+*+*+*+*+*+*+\n",
            "Starting to train:  5cd56b6ae2acfd2d33b59ccb_train.csv\n"
          ],
          "name": "stdout"
        },
        {
          "output_type": "stream",
          "text": [
            "[2.2GB(+0.3GB): 26.243sec] fit X\n",
            "[2.2GB(+0.0GB): 43.568sec] fit Y\n",
            "[2.2GB(+0.0GB): 29.404sec] fit F\n"
          ],
          "name": "stderr"
        },
        {
          "output_type": "stream",
          "text": [
            "fold 0: mean position error 4.710623322177247\n"
          ],
          "name": "stdout"
        },
        {
          "output_type": "stream",
          "text": [
            "[2.5GB(+0.2GB): 34.150sec] fit X\n",
            "[2.5GB(+0.0GB): 33.111sec] fit Y\n",
            "[2.5GB(+0.0GB): 44.570sec] fit F\n"
          ],
          "name": "stderr"
        },
        {
          "output_type": "stream",
          "text": [
            "fold 1: mean position error 5.186087250714359\n"
          ],
          "name": "stdout"
        },
        {
          "output_type": "stream",
          "text": [
            "[2.5GB(+0.0GB): 24.659sec] fit X\n",
            "[2.5GB(+0.0GB): 24.586sec] fit Y\n",
            "[2.5GB(+0.0GB): 55.257sec] fit F\n"
          ],
          "name": "stderr"
        },
        {
          "output_type": "stream",
          "text": [
            "fold 2: mean position error 5.054715431603107\n"
          ],
          "name": "stdout"
        },
        {
          "output_type": "stream",
          "text": [
            "[2.7GB(+0.1GB): 24.794sec] fit X\n",
            "[2.8GB(+0.1GB): 29.038sec] fit Y\n",
            "[2.8GB(+0.0GB): 27.608sec] fit F\n"
          ],
          "name": "stderr"
        },
        {
          "output_type": "stream",
          "text": [
            "fold 3: mean position error 5.259599062372953\n"
          ],
          "name": "stdout"
        },
        {
          "output_type": "stream",
          "text": [
            "[2.8GB(+0.0GB): 15.794sec] fit X\n",
            "[2.8GB(+0.0GB): 41.245sec] fit Y\n",
            "[2.8GB(+0.0GB): 59.604sec] fit F\n"
          ],
          "name": "stderr"
        },
        {
          "output_type": "stream",
          "text": [
            "fold 4: mean position error 5.5781103683587006\n"
          ],
          "name": "stdout"
        },
        {
          "output_type": "stream",
          "text": [
            "[2.8GB(+0.0GB): 18.217sec] fit X\n",
            "[2.8GB(+0.0GB): 18.364sec] fit Y\n",
            "[2.8GB(+0.0GB): 29.255sec] fit F\n"
          ],
          "name": "stderr"
        },
        {
          "output_type": "stream",
          "text": [
            "fold 5: mean position error 5.588490341319278\n"
          ],
          "name": "stdout"
        },
        {
          "output_type": "stream",
          "text": [
            "[2.8GB(+0.0GB): 24.653sec] fit X\n",
            "[2.8GB(+0.0GB): 38.270sec] fit Y\n",
            "[2.8GB(+0.0GB): 44.752sec] fit F\n"
          ],
          "name": "stderr"
        },
        {
          "output_type": "stream",
          "text": [
            "fold 6: mean position error 5.28405418134388\n"
          ],
          "name": "stdout"
        },
        {
          "output_type": "stream",
          "text": [
            "[2.8GB(+0.0GB): 26.726sec] fit X\n",
            "[2.8GB(+0.0GB): 60.661sec] fit Y\n",
            "[2.8GB(+0.0GB): 52.438sec] fit F\n"
          ],
          "name": "stderr"
        },
        {
          "output_type": "stream",
          "text": [
            "fold 7: mean position error 4.8901520232336715\n"
          ],
          "name": "stdout"
        },
        {
          "output_type": "stream",
          "text": [
            "[2.8GB(+0.0GB): 35.294sec] fit X\n",
            "[2.8GB(+0.0GB): 27.012sec] fit Y\n",
            "[2.8GB(+0.0GB): 30.320sec] fit F\n"
          ],
          "name": "stderr"
        },
        {
          "output_type": "stream",
          "text": [
            "fold 8: mean position error 5.127081057654081\n"
          ],
          "name": "stdout"
        },
        {
          "output_type": "stream",
          "text": [
            "[2.8GB(+0.0GB): 29.534sec] fit X\n",
            "[2.8GB(+0.0GB): 40.312sec] fit Y\n",
            "[2.8GB(+0.0GB): 53.978sec] fit F\n"
          ],
          "name": "stderr"
        },
        {
          "output_type": "stream",
          "text": [
            "fold 9: mean position error 4.982698098557764\n",
            "*+*+*+*+*+*+*+*+*+*+*+*+*+*+*+*+*+*+*+*+*+*+*+*+*+*+*+*+*+*+*+*+*+*+*+*+*+*+*+*+\n",
            "file #6, shape=(20805, 1856), name=5cd56b6ae2acfd2d33b59ccb_train.csv\n",
            "mean position error 5.166159110843168\n",
            "*+*+*+*+*+*+*+*+*+*+*+*+*+*+*+*+*+*+*+*+*+*+*+*+*+*+*+*+*+*+*+*+*+*+*+*+*+*+*+*+\n",
            "Starting to train:  5cd56b6ae2acfd2d33b59ccc_train.csv\n"
          ],
          "name": "stdout"
        },
        {
          "output_type": "stream",
          "text": [
            "[2.8GB(+0.0GB): 4.022sec] fit X\n",
            "[2.8GB(+0.0GB): 3.581sec] fit Y\n",
            "[2.8GB(+0.0GB): 9.065sec] fit F\n"
          ],
          "name": "stderr"
        },
        {
          "output_type": "stream",
          "text": [
            "fold 0: mean position error 4.026625379109669\n"
          ],
          "name": "stdout"
        },
        {
          "output_type": "stream",
          "text": [
            "[2.8GB(+0.0GB): 3.851sec] fit X\n",
            "[2.8GB(+0.0GB): 6.794sec] fit Y\n",
            "[2.8GB(+0.0GB): 9.746sec] fit F\n"
          ],
          "name": "stderr"
        },
        {
          "output_type": "stream",
          "text": [
            "fold 1: mean position error 4.143686192461178\n"
          ],
          "name": "stdout"
        },
        {
          "output_type": "stream",
          "text": [
            "[2.8GB(+0.0GB): 5.079sec] fit X\n",
            "[2.8GB(+0.0GB): 3.917sec] fit Y\n",
            "[2.8GB(+0.0GB): 15.761sec] fit F\n"
          ],
          "name": "stderr"
        },
        {
          "output_type": "stream",
          "text": [
            "fold 2: mean position error 4.034999235741128\n"
          ],
          "name": "stdout"
        },
        {
          "output_type": "stream",
          "text": [
            "[2.8GB(+0.0GB): 4.802sec] fit X\n",
            "[2.8GB(+0.0GB): 5.418sec] fit Y\n",
            "[2.8GB(+0.0GB): 9.966sec] fit F\n"
          ],
          "name": "stderr"
        },
        {
          "output_type": "stream",
          "text": [
            "fold 3: mean position error 3.5840962229869957\n"
          ],
          "name": "stdout"
        },
        {
          "output_type": "stream",
          "text": [
            "[2.8GB(+0.0GB): 4.503sec] fit X\n",
            "[2.8GB(+0.0GB): 3.657sec] fit Y\n",
            "[2.8GB(+0.0GB): 15.175sec] fit F\n"
          ],
          "name": "stderr"
        },
        {
          "output_type": "stream",
          "text": [
            "fold 4: mean position error 3.6793565629670892\n"
          ],
          "name": "stdout"
        },
        {
          "output_type": "stream",
          "text": [
            "[2.8GB(+0.0GB): 4.097sec] fit X\n",
            "[2.8GB(+0.0GB): 4.001sec] fit Y\n",
            "[2.8GB(+0.0GB): 16.547sec] fit F\n"
          ],
          "name": "stderr"
        },
        {
          "output_type": "stream",
          "text": [
            "fold 5: mean position error 3.697490536103173\n"
          ],
          "name": "stdout"
        },
        {
          "output_type": "stream",
          "text": [
            "[2.8GB(+0.0GB): 6.546sec] fit X\n",
            "[2.8GB(+0.0GB): 6.807sec] fit Y\n",
            "[2.8GB(+0.0GB): 13.305sec] fit F\n"
          ],
          "name": "stderr"
        },
        {
          "output_type": "stream",
          "text": [
            "fold 6: mean position error 3.578174603833487\n"
          ],
          "name": "stdout"
        },
        {
          "output_type": "stream",
          "text": [
            "[2.8GB(+0.0GB): 7.320sec] fit X\n",
            "[2.8GB(+0.0GB): 7.713sec] fit Y\n",
            "[2.8GB(+0.0GB): 16.094sec] fit F\n"
          ],
          "name": "stderr"
        },
        {
          "output_type": "stream",
          "text": [
            "fold 7: mean position error 3.8735692217433146\n"
          ],
          "name": "stdout"
        },
        {
          "output_type": "stream",
          "text": [
            "[2.8GB(+0.0GB): 3.971sec] fit X\n",
            "[2.8GB(+0.0GB): 4.295sec] fit Y\n",
            "[2.8GB(+0.0GB): 11.161sec] fit F\n"
          ],
          "name": "stderr"
        },
        {
          "output_type": "stream",
          "text": [
            "fold 8: mean position error 4.01510489208278\n"
          ],
          "name": "stdout"
        },
        {
          "output_type": "stream",
          "text": [
            "[2.8GB(+0.0GB): 4.184sec] fit X\n",
            "[2.8GB(+0.0GB): 3.656sec] fit Y\n",
            "[2.8GB(+0.0GB): 7.641sec] fit F\n"
          ],
          "name": "stderr"
        },
        {
          "output_type": "stream",
          "text": [
            "fold 9: mean position error 4.214014318034956\n",
            "*+*+*+*+*+*+*+*+*+*+*+*+*+*+*+*+*+*+*+*+*+*+*+*+*+*+*+*+*+*+*+*+*+*+*+*+*+*+*+*+\n",
            "file #7, shape=(4179, 401), name=5cd56b6ae2acfd2d33b59ccc_train.csv\n",
            "mean position error 3.8846329171281697\n",
            "*+*+*+*+*+*+*+*+*+*+*+*+*+*+*+*+*+*+*+*+*+*+*+*+*+*+*+*+*+*+*+*+*+*+*+*+*+*+*+*+\n",
            "Starting to train:  5cd56b6be2acfd2d33b59d1f_train.csv\n"
          ],
          "name": "stdout"
        },
        {
          "output_type": "stream",
          "text": [
            "[2.8GB(+0.0GB): 4.327sec] fit X\n",
            "[2.8GB(+0.0GB): 0.135sec] fit Y\n",
            "[2.8GB(+0.0GB): 3.996sec] fit F\n",
            "[2.8GB(+0.0GB): 0.134sec] fit X\n"
          ],
          "name": "stderr"
        },
        {
          "output_type": "stream",
          "text": [
            "fold 0: mean position error 38.045852840017616\n"
          ],
          "name": "stdout"
        },
        {
          "output_type": "stream",
          "text": [
            "[2.8GB(+0.0GB): 0.146sec] fit Y\n",
            "[2.8GB(+0.0GB): 0.135sec] fit F\n"
          ],
          "name": "stderr"
        },
        {
          "output_type": "stream",
          "text": [
            "fold 1: mean position error 37.97225619183562\n"
          ],
          "name": "stdout"
        },
        {
          "output_type": "stream",
          "text": [
            "[2.8GB(+0.0GB): 0.139sec] fit X\n",
            "[2.8GB(+0.0GB): 0.140sec] fit Y\n",
            "[2.8GB(+0.0GB): 0.136sec] fit F\n",
            "[2.8GB(+0.0GB): 0.135sec] fit X\n"
          ],
          "name": "stderr"
        },
        {
          "output_type": "stream",
          "text": [
            "fold 2: mean position error 39.752789770834276\n"
          ],
          "name": "stdout"
        },
        {
          "output_type": "stream",
          "text": [
            "[2.8GB(+0.0GB): 0.138sec] fit Y\n",
            "[2.8GB(+0.0GB): 0.132sec] fit F\n"
          ],
          "name": "stderr"
        },
        {
          "output_type": "stream",
          "text": [
            "fold 3: mean position error 40.62378794408838\n"
          ],
          "name": "stdout"
        },
        {
          "output_type": "stream",
          "text": [
            "[2.8GB(+0.0GB): 0.135sec] fit X\n",
            "[2.8GB(+0.0GB): 0.133sec] fit Y\n",
            "[2.8GB(+0.0GB): 0.140sec] fit F\n",
            "[2.8GB(+0.0GB): 0.132sec] fit X\n"
          ],
          "name": "stderr"
        },
        {
          "output_type": "stream",
          "text": [
            "fold 4: mean position error 40.77586859728075\n"
          ],
          "name": "stdout"
        },
        {
          "output_type": "stream",
          "text": [
            "[2.8GB(+0.0GB): 0.135sec] fit Y\n",
            "[2.8GB(+0.0GB): 0.138sec] fit F\n"
          ],
          "name": "stderr"
        },
        {
          "output_type": "stream",
          "text": [
            "fold 5: mean position error 40.174672380100446\n"
          ],
          "name": "stdout"
        },
        {
          "output_type": "stream",
          "text": [
            "[2.8GB(+0.0GB): 0.139sec] fit X\n",
            "[2.8GB(+0.0GB): 0.133sec] fit Y\n",
            "[2.8GB(+0.0GB): 0.137sec] fit F\n",
            "[2.8GB(+0.0GB): 0.134sec] fit X\n"
          ],
          "name": "stderr"
        },
        {
          "output_type": "stream",
          "text": [
            "fold 6: mean position error 40.597795031825626\n"
          ],
          "name": "stdout"
        },
        {
          "output_type": "stream",
          "text": [
            "[2.8GB(+0.0GB): 0.133sec] fit Y\n",
            "[2.8GB(+0.0GB): 0.144sec] fit F\n"
          ],
          "name": "stderr"
        },
        {
          "output_type": "stream",
          "text": [
            "fold 7: mean position error 44.055879056357945\n"
          ],
          "name": "stdout"
        },
        {
          "output_type": "stream",
          "text": [
            "[2.8GB(+0.0GB): 0.139sec] fit X\n",
            "[2.8GB(+0.0GB): 0.135sec] fit Y\n",
            "[2.8GB(+0.0GB): 0.137sec] fit F\n",
            "[2.8GB(+0.0GB): 0.134sec] fit X\n"
          ],
          "name": "stderr"
        },
        {
          "output_type": "stream",
          "text": [
            "fold 8: mean position error 40.3777749872444\n"
          ],
          "name": "stdout"
        },
        {
          "output_type": "stream",
          "text": [
            "[2.8GB(+0.0GB): 0.141sec] fit Y\n",
            "[2.8GB(+0.0GB): 0.135sec] fit F\n"
          ],
          "name": "stderr"
        },
        {
          "output_type": "stream",
          "text": [
            "fold 9: mean position error 38.776556847863496\n",
            "*+*+*+*+*+*+*+*+*+*+*+*+*+*+*+*+*+*+*+*+*+*+*+*+*+*+*+*+*+*+*+*+*+*+*+*+*+*+*+*+\n",
            "file #8, shape=(676, 5), name=5cd56b6be2acfd2d33b59d1f_train.csv\n",
            "mean position error 40.11037260666155\n",
            "*+*+*+*+*+*+*+*+*+*+*+*+*+*+*+*+*+*+*+*+*+*+*+*+*+*+*+*+*+*+*+*+*+*+*+*+*+*+*+*+\n",
            "Starting to train:  5cd56b6ee2acfd2d33b5a247_train.csv\n"
          ],
          "name": "stdout"
        },
        {
          "output_type": "stream",
          "text": [
            "[2.8GB(+0.0GB): 2.618sec] fit X\n",
            "[2.8GB(+0.0GB): 0.931sec] fit Y\n",
            "[2.8GB(+0.0GB): 1.818sec] fit F\n"
          ],
          "name": "stderr"
        },
        {
          "output_type": "stream",
          "text": [
            "fold 0: mean position error 4.748284861859655\n"
          ],
          "name": "stdout"
        },
        {
          "output_type": "stream",
          "text": [
            "[2.8GB(+0.0GB): 0.986sec] fit X\n",
            "[2.8GB(+0.0GB): 1.426sec] fit Y\n",
            "[2.8GB(+0.0GB): 1.901sec] fit F\n"
          ],
          "name": "stderr"
        },
        {
          "output_type": "stream",
          "text": [
            "fold 1: mean position error 4.415839826113867\n"
          ],
          "name": "stdout"
        },
        {
          "output_type": "stream",
          "text": [
            "[2.8GB(+0.0GB): 1.019sec] fit X\n",
            "[2.8GB(+0.0GB): 1.023sec] fit Y\n",
            "[2.8GB(+0.0GB): 3.420sec] fit F\n"
          ],
          "name": "stderr"
        },
        {
          "output_type": "stream",
          "text": [
            "fold 2: mean position error 4.31554227696632\n"
          ],
          "name": "stdout"
        },
        {
          "output_type": "stream",
          "text": [
            "[2.8GB(+0.0GB): 1.088sec] fit X\n",
            "[2.8GB(+0.0GB): 0.959sec] fit Y\n",
            "[2.8GB(+0.0GB): 3.835sec] fit F\n"
          ],
          "name": "stderr"
        },
        {
          "output_type": "stream",
          "text": [
            "fold 3: mean position error 4.983252803711831\n"
          ],
          "name": "stdout"
        },
        {
          "output_type": "stream",
          "text": [
            "[2.8GB(+0.0GB): 0.989sec] fit X\n",
            "[2.8GB(+0.0GB): 0.537sec] fit Y\n",
            "[2.8GB(+0.0GB): 2.925sec] fit F\n"
          ],
          "name": "stderr"
        },
        {
          "output_type": "stream",
          "text": [
            "fold 4: mean position error 5.233786291613917\n"
          ],
          "name": "stdout"
        },
        {
          "output_type": "stream",
          "text": [
            "[2.8GB(+0.0GB): 1.188sec] fit X\n",
            "[2.8GB(+0.0GB): 0.733sec] fit Y\n",
            "[2.8GB(+0.0GB): 1.125sec] fit F\n"
          ],
          "name": "stderr"
        },
        {
          "output_type": "stream",
          "text": [
            "fold 5: mean position error 5.054517179373726\n"
          ],
          "name": "stdout"
        },
        {
          "output_type": "stream",
          "text": [
            "[2.8GB(+0.0GB): 0.870sec] fit X\n",
            "[2.8GB(+0.0GB): 0.996sec] fit Y\n",
            "[2.8GB(+0.0GB): 1.546sec] fit F\n"
          ],
          "name": "stderr"
        },
        {
          "output_type": "stream",
          "text": [
            "fold 6: mean position error 4.660331672110899\n"
          ],
          "name": "stdout"
        },
        {
          "output_type": "stream",
          "text": [
            "[2.8GB(+0.0GB): 1.425sec] fit X\n",
            "[2.8GB(+0.0GB): 1.361sec] fit Y\n",
            "[2.8GB(+0.0GB): 1.095sec] fit F\n"
          ],
          "name": "stderr"
        },
        {
          "output_type": "stream",
          "text": [
            "fold 7: mean position error 3.940204254230197\n"
          ],
          "name": "stdout"
        },
        {
          "output_type": "stream",
          "text": [
            "[2.8GB(+0.0GB): 1.174sec] fit X\n",
            "[2.8GB(+0.0GB): 1.380sec] fit Y\n",
            "[2.8GB(+0.0GB): 0.906sec] fit F\n"
          ],
          "name": "stderr"
        },
        {
          "output_type": "stream",
          "text": [
            "fold 8: mean position error 4.75271024445092\n"
          ],
          "name": "stdout"
        },
        {
          "output_type": "stream",
          "text": [
            "[2.8GB(+0.0GB): 1.458sec] fit X\n",
            "[2.8GB(+0.0GB): 1.211sec] fit Y\n",
            "[2.8GB(+0.0GB): 4.363sec] fit F\n"
          ],
          "name": "stderr"
        },
        {
          "output_type": "stream",
          "text": [
            "fold 9: mean position error 4.320458162315968\n",
            "*+*+*+*+*+*+*+*+*+*+*+*+*+*+*+*+*+*+*+*+*+*+*+*+*+*+*+*+*+*+*+*+*+*+*+*+*+*+*+*+\n",
            "file #9, shape=(1245, 23), name=5cd56b6ee2acfd2d33b5a247_train.csv\n",
            "mean position error 4.642881706892314\n",
            "*+*+*+*+*+*+*+*+*+*+*+*+*+*+*+*+*+*+*+*+*+*+*+*+*+*+*+*+*+*+*+*+*+*+*+*+*+*+*+*+\n",
            "Starting to train:  5cd56b6fe2acfd2d33b5a386_train.csv\n"
          ],
          "name": "stdout"
        },
        {
          "output_type": "stream",
          "text": [
            "[2.8GB(+0.0GB): 1.806sec] fit X\n",
            "[2.8GB(+0.0GB): 2.714sec] fit Y\n",
            "[2.8GB(+0.0GB): 0.931sec] fit F\n"
          ],
          "name": "stderr"
        },
        {
          "output_type": "stream",
          "text": [
            "fold 0: mean position error 2.9922016703026384\n"
          ],
          "name": "stdout"
        },
        {
          "output_type": "stream",
          "text": [
            "[2.8GB(+0.0GB): 3.203sec] fit X\n",
            "[2.8GB(+0.0GB): 2.779sec] fit Y\n",
            "[2.8GB(+0.0GB): 4.015sec] fit F\n"
          ],
          "name": "stderr"
        },
        {
          "output_type": "stream",
          "text": [
            "fold 1: mean position error 2.300305689457333\n"
          ],
          "name": "stdout"
        },
        {
          "output_type": "stream",
          "text": [
            "[2.8GB(+0.0GB): 1.959sec] fit X\n",
            "[2.8GB(+0.0GB): 2.118sec] fit Y\n",
            "[2.8GB(+0.0GB): 2.224sec] fit F\n"
          ],
          "name": "stderr"
        },
        {
          "output_type": "stream",
          "text": [
            "fold 2: mean position error 2.7917467558444002\n"
          ],
          "name": "stdout"
        },
        {
          "output_type": "stream",
          "text": [
            "[2.8GB(+0.0GB): 3.046sec] fit X\n",
            "[2.8GB(+0.0GB): 2.813sec] fit Y\n",
            "[2.8GB(+0.0GB): 1.376sec] fit F\n"
          ],
          "name": "stderr"
        },
        {
          "output_type": "stream",
          "text": [
            "fold 3: mean position error 2.5585826684215944\n"
          ],
          "name": "stdout"
        },
        {
          "output_type": "stream",
          "text": [
            "[2.8GB(+0.0GB): 2.002sec] fit X\n",
            "[2.8GB(+0.0GB): 2.929sec] fit Y\n",
            "[2.8GB(+0.0GB): 4.041sec] fit F\n"
          ],
          "name": "stderr"
        },
        {
          "output_type": "stream",
          "text": [
            "fold 4: mean position error 2.9553513847070367\n"
          ],
          "name": "stdout"
        },
        {
          "output_type": "stream",
          "text": [
            "[2.8GB(+0.0GB): 2.013sec] fit X\n",
            "[2.8GB(+0.0GB): 2.496sec] fit Y\n",
            "[2.8GB(+0.0GB): 1.955sec] fit F\n"
          ],
          "name": "stderr"
        },
        {
          "output_type": "stream",
          "text": [
            "fold 5: mean position error 2.522153557100302\n"
          ],
          "name": "stdout"
        },
        {
          "output_type": "stream",
          "text": [
            "[2.8GB(+0.0GB): 2.826sec] fit X\n",
            "[2.8GB(+0.0GB): 2.708sec] fit Y\n",
            "[2.8GB(+0.0GB): 4.181sec] fit F\n"
          ],
          "name": "stderr"
        },
        {
          "output_type": "stream",
          "text": [
            "fold 6: mean position error 2.6348523274504774\n"
          ],
          "name": "stdout"
        },
        {
          "output_type": "stream",
          "text": [
            "[2.8GB(+0.0GB): 2.395sec] fit X\n",
            "[2.8GB(+0.0GB): 3.179sec] fit Y\n",
            "[2.8GB(+0.0GB): 1.687sec] fit F\n"
          ],
          "name": "stderr"
        },
        {
          "output_type": "stream",
          "text": [
            "fold 7: mean position error 2.777014700981406\n"
          ],
          "name": "stdout"
        },
        {
          "output_type": "stream",
          "text": [
            "[2.8GB(+0.0GB): 3.731sec] fit X\n",
            "[2.8GB(+0.0GB): 3.065sec] fit Y\n",
            "[2.8GB(+0.0GB): 1.805sec] fit F\n"
          ],
          "name": "stderr"
        },
        {
          "output_type": "stream",
          "text": [
            "fold 8: mean position error 2.780738475892017\n"
          ],
          "name": "stdout"
        },
        {
          "output_type": "stream",
          "text": [
            "[2.8GB(+0.0GB): 2.200sec] fit X\n",
            "[2.8GB(+0.0GB): 1.924sec] fit Y\n",
            "[2.8GB(+0.0GB): 1.276sec] fit F\n"
          ],
          "name": "stderr"
        },
        {
          "output_type": "stream",
          "text": [
            "fold 9: mean position error 2.708550672909489\n",
            "*+*+*+*+*+*+*+*+*+*+*+*+*+*+*+*+*+*+*+*+*+*+*+*+*+*+*+*+*+*+*+*+*+*+*+*+*+*+*+*+\n",
            "file #10, shape=(2599, 111), name=5cd56b6fe2acfd2d33b5a386_train.csv\n",
            "mean position error 2.702147327481505\n",
            "*+*+*+*+*+*+*+*+*+*+*+*+*+*+*+*+*+*+*+*+*+*+*+*+*+*+*+*+*+*+*+*+*+*+*+*+*+*+*+*+\n",
            "Starting to train:  5cd56b7de2acfd2d33b5c14b_train.csv\n"
          ],
          "name": "stdout"
        },
        {
          "output_type": "stream",
          "text": [
            "[2.8GB(+0.0GB): 1.487sec] fit X\n",
            "[2.8GB(+0.0GB): 0.719sec] fit Y\n",
            "[2.8GB(+0.0GB): 1.716sec] fit F\n"
          ],
          "name": "stderr"
        },
        {
          "output_type": "stream",
          "text": [
            "fold 0: mean position error 2.683759355142944\n"
          ],
          "name": "stdout"
        },
        {
          "output_type": "stream",
          "text": [
            "[2.8GB(+0.0GB): 0.817sec] fit X\n",
            "[2.8GB(+0.0GB): 0.766sec] fit Y\n",
            "[2.8GB(+0.0GB): 1.243sec] fit F\n"
          ],
          "name": "stderr"
        },
        {
          "output_type": "stream",
          "text": [
            "fold 1: mean position error 2.865272507863261\n"
          ],
          "name": "stdout"
        },
        {
          "output_type": "stream",
          "text": [
            "[2.8GB(+0.0GB): 1.201sec] fit X\n",
            "[2.8GB(+0.0GB): 0.975sec] fit Y\n",
            "[2.8GB(+0.0GB): 1.820sec] fit F\n"
          ],
          "name": "stderr"
        },
        {
          "output_type": "stream",
          "text": [
            "fold 2: mean position error 2.708897111875952\n"
          ],
          "name": "stdout"
        },
        {
          "output_type": "stream",
          "text": [
            "[2.8GB(+0.0GB): 1.287sec] fit X\n",
            "[2.8GB(+0.0GB): 1.473sec] fit Y\n",
            "[2.8GB(+0.0GB): 1.384sec] fit F\n"
          ],
          "name": "stderr"
        },
        {
          "output_type": "stream",
          "text": [
            "fold 3: mean position error 2.5024041297329105\n"
          ],
          "name": "stdout"
        },
        {
          "output_type": "stream",
          "text": [
            "[2.8GB(+0.0GB): 1.236sec] fit X\n",
            "[2.8GB(+0.0GB): 1.934sec] fit Y\n",
            "[2.8GB(+0.0GB): 1.242sec] fit F\n"
          ],
          "name": "stderr"
        },
        {
          "output_type": "stream",
          "text": [
            "fold 4: mean position error 2.6001113782149368\n"
          ],
          "name": "stdout"
        },
        {
          "output_type": "stream",
          "text": [
            "[2.8GB(+0.0GB): 1.093sec] fit X\n",
            "[2.8GB(+0.0GB): 1.730sec] fit Y\n",
            "[2.8GB(+0.0GB): 1.403sec] fit F\n"
          ],
          "name": "stderr"
        },
        {
          "output_type": "stream",
          "text": [
            "fold 5: mean position error 2.724912338783596\n"
          ],
          "name": "stdout"
        },
        {
          "output_type": "stream",
          "text": [
            "[2.8GB(+0.0GB): 1.368sec] fit X\n",
            "[2.8GB(+0.0GB): 1.438sec] fit Y\n",
            "[2.8GB(+0.0GB): 1.362sec] fit F\n"
          ],
          "name": "stderr"
        },
        {
          "output_type": "stream",
          "text": [
            "fold 6: mean position error 2.679307028339892\n"
          ],
          "name": "stdout"
        },
        {
          "output_type": "stream",
          "text": [
            "[2.8GB(+0.0GB): 1.380sec] fit X\n",
            "[2.8GB(+0.0GB): 1.147sec] fit Y\n",
            "[2.8GB(+0.0GB): 1.362sec] fit F\n"
          ],
          "name": "stderr"
        },
        {
          "output_type": "stream",
          "text": [
            "fold 7: mean position error 2.8040673928550834\n"
          ],
          "name": "stdout"
        },
        {
          "output_type": "stream",
          "text": [
            "[2.8GB(+0.0GB): 1.383sec] fit X\n",
            "[2.8GB(+0.0GB): 1.389sec] fit Y\n",
            "[2.8GB(+0.0GB): 1.606sec] fit F\n"
          ],
          "name": "stderr"
        },
        {
          "output_type": "stream",
          "text": [
            "fold 8: mean position error 2.807455046690369\n"
          ],
          "name": "stdout"
        },
        {
          "output_type": "stream",
          "text": [
            "[2.8GB(+0.0GB): 0.760sec] fit X\n",
            "[2.8GB(+0.0GB): 1.380sec] fit Y\n",
            "[2.8GB(+0.0GB): 2.371sec] fit F\n"
          ],
          "name": "stderr"
        },
        {
          "output_type": "stream",
          "text": [
            "fold 9: mean position error 2.9111866854645103\n",
            "*+*+*+*+*+*+*+*+*+*+*+*+*+*+*+*+*+*+*+*+*+*+*+*+*+*+*+*+*+*+*+*+*+*+*+*+*+*+*+*+\n",
            "file #11, shape=(1113, 32), name=5cd56b7de2acfd2d33b5c14b_train.csv\n",
            "mean position error 2.7288017333295826\n",
            "*+*+*+*+*+*+*+*+*+*+*+*+*+*+*+*+*+*+*+*+*+*+*+*+*+*+*+*+*+*+*+*+*+*+*+*+*+*+*+*+\n",
            "Starting to train:  5d27075f03f801723c2e360f_train.csv\n"
          ],
          "name": "stdout"
        },
        {
          "output_type": "stream",
          "text": [
            "[2.8GB(+0.0GB): 52.221sec] fit X\n",
            "[2.8GB(+0.0GB): 51.725sec] fit Y\n",
            "[2.8GB(+0.0GB): 43.313sec] fit F\n"
          ],
          "name": "stderr"
        },
        {
          "output_type": "stream",
          "text": [
            "fold 0: mean position error 4.622034580852155\n"
          ],
          "name": "stdout"
        },
        {
          "output_type": "stream",
          "text": [
            "[2.8GB(+0.0GB): 58.769sec] fit X\n",
            "[2.8GB(+0.0GB): 59.536sec] fit Y\n",
            "[2.8GB(+0.0GB): 46.659sec] fit F\n"
          ],
          "name": "stderr"
        },
        {
          "output_type": "stream",
          "text": [
            "fold 1: mean position error 4.565122176581291\n"
          ],
          "name": "stdout"
        },
        {
          "output_type": "stream",
          "text": [
            "[2.8GB(+0.0GB): 32.619sec] fit X\n",
            "[2.8GB(+0.0GB): 46.874sec] fit Y\n",
            "[2.8GB(+0.0GB): 35.457sec] fit F\n"
          ],
          "name": "stderr"
        },
        {
          "output_type": "stream",
          "text": [
            "fold 2: mean position error 4.5861745180534\n"
          ],
          "name": "stdout"
        },
        {
          "output_type": "stream",
          "text": [
            "[2.8GB(+0.0GB): 46.731sec] fit X\n",
            "[2.8GB(+0.0GB): 46.390sec] fit Y\n",
            "[2.8GB(+0.0GB): 43.743sec] fit F\n"
          ],
          "name": "stderr"
        },
        {
          "output_type": "stream",
          "text": [
            "fold 3: mean position error 4.497809324783859\n"
          ],
          "name": "stdout"
        },
        {
          "output_type": "stream",
          "text": [
            "[2.8GB(+0.0GB): 40.274sec] fit X\n",
            "[2.8GB(+0.0GB): 53.326sec] fit Y\n",
            "[2.8GB(+0.0GB): 44.512sec] fit F\n"
          ],
          "name": "stderr"
        },
        {
          "output_type": "stream",
          "text": [
            "fold 4: mean position error 4.542397155436692\n"
          ],
          "name": "stdout"
        },
        {
          "output_type": "stream",
          "text": [
            "[2.8GB(+0.0GB): 54.024sec] fit X\n",
            "[2.8GB(+0.0GB): 49.074sec] fit Y\n",
            "[2.8GB(+0.0GB): 54.127sec] fit F\n"
          ],
          "name": "stderr"
        },
        {
          "output_type": "stream",
          "text": [
            "fold 5: mean position error 4.552917391404646\n"
          ],
          "name": "stdout"
        },
        {
          "output_type": "stream",
          "text": [
            "[2.8GB(+0.0GB): 81.559sec] fit X\n",
            "[2.8GB(+0.0GB): 65.651sec] fit Y\n",
            "[2.8GB(+0.0GB): 62.206sec] fit F\n"
          ],
          "name": "stderr"
        },
        {
          "output_type": "stream",
          "text": [
            "fold 6: mean position error 4.476911910324137\n"
          ],
          "name": "stdout"
        },
        {
          "output_type": "stream",
          "text": [
            "[2.8GB(+0.0GB): 54.488sec] fit X\n",
            "[2.8GB(+0.0GB): 50.627sec] fit Y\n",
            "[2.8GB(+0.0GB): 34.215sec] fit F\n"
          ],
          "name": "stderr"
        },
        {
          "output_type": "stream",
          "text": [
            "fold 7: mean position error 4.43777739142361\n"
          ],
          "name": "stdout"
        },
        {
          "output_type": "stream",
          "text": [
            "[2.8GB(+0.0GB): 48.569sec] fit X\n",
            "[2.8GB(+0.0GB): 69.771sec] fit Y\n",
            "[2.8GB(+0.0GB): 30.574sec] fit F\n"
          ],
          "name": "stderr"
        },
        {
          "output_type": "stream",
          "text": [
            "fold 8: mean position error 4.55320772647187\n"
          ],
          "name": "stdout"
        },
        {
          "output_type": "stream",
          "text": [
            "[2.8GB(+0.0GB): 58.491sec] fit X\n",
            "[2.8GB(+0.0GB): 47.378sec] fit Y\n",
            "[2.8GB(+0.0GB): 41.198sec] fit F\n"
          ],
          "name": "stderr"
        },
        {
          "output_type": "stream",
          "text": [
            "fold 9: mean position error 4.562489392807449\n",
            "*+*+*+*+*+*+*+*+*+*+*+*+*+*+*+*+*+*+*+*+*+*+*+*+*+*+*+*+*+*+*+*+*+*+*+*+*+*+*+*+\n",
            "file #12, shape=(17749, 2349), name=5d27075f03f801723c2e360f_train.csv\n",
            "mean position error 4.539682871939496\n",
            "*+*+*+*+*+*+*+*+*+*+*+*+*+*+*+*+*+*+*+*+*+*+*+*+*+*+*+*+*+*+*+*+*+*+*+*+*+*+*+*+\n",
            "Starting to train:  5d27096c03f801723c31e5e0_train.csv\n"
          ],
          "name": "stdout"
        },
        {
          "output_type": "stream",
          "text": [
            "[2.8GB(+0.0GB): 13.609sec] fit X\n",
            "[2.8GB(+0.0GB): 7.430sec] fit Y\n",
            "[2.8GB(+0.0GB): 10.125sec] fit F\n"
          ],
          "name": "stderr"
        },
        {
          "output_type": "stream",
          "text": [
            "fold 0: mean position error 2.816961997780025\n"
          ],
          "name": "stdout"
        },
        {
          "output_type": "stream",
          "text": [
            "[2.8GB(-0.0GB): 7.573sec] fit X\n",
            "[2.8GB(+0.0GB): 7.139sec] fit Y\n",
            "[2.8GB(+0.0GB): 5.121sec] fit F\n"
          ],
          "name": "stderr"
        },
        {
          "output_type": "stream",
          "text": [
            "fold 1: mean position error 2.837509204097296\n"
          ],
          "name": "stdout"
        },
        {
          "output_type": "stream",
          "text": [
            "[2.8GB(+0.0GB): 8.599sec] fit X\n",
            "[2.8GB(+0.0GB): 8.871sec] fit Y\n",
            "[2.8GB(-0.0GB): 3.323sec] fit F\n"
          ],
          "name": "stderr"
        },
        {
          "output_type": "stream",
          "text": [
            "fold 2: mean position error 2.8012963822941543\n"
          ],
          "name": "stdout"
        },
        {
          "output_type": "stream",
          "text": [
            "[2.8GB(+0.0GB): 8.422sec] fit X\n",
            "[2.8GB(+0.0GB): 6.272sec] fit Y\n",
            "[2.8GB(+0.0GB): 8.208sec] fit F\n"
          ],
          "name": "stderr"
        },
        {
          "output_type": "stream",
          "text": [
            "fold 3: mean position error 2.866320305709555\n"
          ],
          "name": "stdout"
        },
        {
          "output_type": "stream",
          "text": [
            "[2.8GB(+0.0GB): 4.982sec] fit X\n",
            "[2.8GB(+0.0GB): 9.383sec] fit Y\n",
            "[2.8GB(+0.0GB): 10.580sec] fit F\n"
          ],
          "name": "stderr"
        },
        {
          "output_type": "stream",
          "text": [
            "fold 4: mean position error 2.9481443420338422\n"
          ],
          "name": "stdout"
        },
        {
          "output_type": "stream",
          "text": [
            "[2.8GB(+0.0GB): 10.681sec] fit X\n",
            "[2.8GB(+0.0GB): 5.889sec] fit Y\n",
            "[2.8GB(+0.0GB): 5.323sec] fit F\n"
          ],
          "name": "stderr"
        },
        {
          "output_type": "stream",
          "text": [
            "fold 5: mean position error 3.0059508096840677\n"
          ],
          "name": "stdout"
        },
        {
          "output_type": "stream",
          "text": [
            "[2.8GB(+0.0GB): 8.317sec] fit X\n",
            "[2.8GB(+0.0GB): 6.094sec] fit Y\n",
            "[2.8GB(+0.0GB): 6.219sec] fit F\n"
          ],
          "name": "stderr"
        },
        {
          "output_type": "stream",
          "text": [
            "fold 6: mean position error 3.0033445946454385\n"
          ],
          "name": "stdout"
        },
        {
          "output_type": "stream",
          "text": [
            "[2.8GB(+0.0GB): 7.027sec] fit X\n",
            "[2.8GB(+0.0GB): 6.739sec] fit Y\n",
            "[2.8GB(+0.0GB): 6.875sec] fit F\n"
          ],
          "name": "stderr"
        },
        {
          "output_type": "stream",
          "text": [
            "fold 7: mean position error 2.8970586262964755\n"
          ],
          "name": "stdout"
        },
        {
          "output_type": "stream",
          "text": [
            "[2.8GB(-0.0GB): 6.386sec] fit X\n",
            "[2.8GB(+0.0GB): 8.118sec] fit Y\n",
            "[2.8GB(+0.0GB): 6.550sec] fit F\n"
          ],
          "name": "stderr"
        },
        {
          "output_type": "stream",
          "text": [
            "fold 8: mean position error 3.0093356360205674\n"
          ],
          "name": "stdout"
        },
        {
          "output_type": "stream",
          "text": [
            "[2.8GB(+0.0GB): 6.697sec] fit X\n",
            "[2.8GB(+0.0GB): 7.070sec] fit Y\n",
            "[2.8GB(+0.0GB): 3.196sec] fit F\n"
          ],
          "name": "stderr"
        },
        {
          "output_type": "stream",
          "text": [
            "fold 9: mean position error 2.9730446989555084\n",
            "*+*+*+*+*+*+*+*+*+*+*+*+*+*+*+*+*+*+*+*+*+*+*+*+*+*+*+*+*+*+*+*+*+*+*+*+*+*+*+*+\n",
            "file #13, shape=(6825, 429), name=5d27096c03f801723c31e5e0_train.csv\n",
            "mean position error 2.915851348240068\n",
            "*+*+*+*+*+*+*+*+*+*+*+*+*+*+*+*+*+*+*+*+*+*+*+*+*+*+*+*+*+*+*+*+*+*+*+*+*+*+*+*+\n",
            "Starting to train:  5d27097f03f801723c320d97_train.csv\n"
          ],
          "name": "stdout"
        },
        {
          "output_type": "stream",
          "text": [
            "[2.8GB(+0.0GB): 3.467sec] fit X\n",
            "[2.8GB(+0.0GB): 4.705sec] fit Y\n",
            "[2.8GB(+0.0GB): 5.514sec] fit F\n"
          ],
          "name": "stderr"
        },
        {
          "output_type": "stream",
          "text": [
            "fold 0: mean position error 14.059137693364793\n"
          ],
          "name": "stdout"
        },
        {
          "output_type": "stream",
          "text": [
            "[2.8GB(+0.0GB): 4.327sec] fit X\n",
            "[2.8GB(+0.0GB): 4.422sec] fit Y\n",
            "[2.8GB(+0.0GB): 10.360sec] fit F\n"
          ],
          "name": "stderr"
        },
        {
          "output_type": "stream",
          "text": [
            "fold 1: mean position error 11.557470269002959\n"
          ],
          "name": "stdout"
        },
        {
          "output_type": "stream",
          "text": [
            "[2.8GB(+0.0GB): 2.663sec] fit X\n",
            "[2.8GB(+0.0GB): 2.324sec] fit Y\n",
            "[2.8GB(+0.0GB): 7.366sec] fit F\n"
          ],
          "name": "stderr"
        },
        {
          "output_type": "stream",
          "text": [
            "fold 2: mean position error 13.92087928008803\n"
          ],
          "name": "stdout"
        },
        {
          "output_type": "stream",
          "text": [
            "[2.8GB(+0.0GB): 3.951sec] fit X\n",
            "[2.8GB(+0.0GB): 2.965sec] fit Y\n",
            "[2.8GB(+0.0GB): 8.386sec] fit F\n"
          ],
          "name": "stderr"
        },
        {
          "output_type": "stream",
          "text": [
            "fold 3: mean position error 10.99803051822671\n"
          ],
          "name": "stdout"
        },
        {
          "output_type": "stream",
          "text": [
            "[2.8GB(+0.0GB): 3.121sec] fit X\n",
            "[2.8GB(+0.0GB): 2.310sec] fit Y\n",
            "[2.8GB(+0.0GB): 5.732sec] fit F\n"
          ],
          "name": "stderr"
        },
        {
          "output_type": "stream",
          "text": [
            "fold 4: mean position error 11.228831452830367\n"
          ],
          "name": "stdout"
        },
        {
          "output_type": "stream",
          "text": [
            "[2.8GB(+0.0GB): 6.479sec] fit X\n",
            "[2.8GB(+0.0GB): 4.010sec] fit Y\n",
            "[2.8GB(+0.0GB): 11.857sec] fit F\n"
          ],
          "name": "stderr"
        },
        {
          "output_type": "stream",
          "text": [
            "fold 5: mean position error 11.651107412122132\n"
          ],
          "name": "stdout"
        },
        {
          "output_type": "stream",
          "text": [
            "[2.8GB(+0.0GB): 5.187sec] fit X\n",
            "[2.8GB(+0.0GB): 4.706sec] fit Y\n",
            "[2.8GB(+0.0GB): 4.053sec] fit F\n"
          ],
          "name": "stderr"
        },
        {
          "output_type": "stream",
          "text": [
            "fold 6: mean position error 12.262107906034895\n"
          ],
          "name": "stdout"
        },
        {
          "output_type": "stream",
          "text": [
            "[2.8GB(+0.0GB): 3.089sec] fit X\n",
            "[2.8GB(+0.0GB): 3.104sec] fit Y\n",
            "[2.8GB(+0.0GB): 12.747sec] fit F\n"
          ],
          "name": "stderr"
        },
        {
          "output_type": "stream",
          "text": [
            "fold 7: mean position error 10.097137163483834\n"
          ],
          "name": "stdout"
        },
        {
          "output_type": "stream",
          "text": [
            "[2.8GB(+0.0GB): 3.375sec] fit X\n",
            "[2.8GB(+0.0GB): 3.378sec] fit Y\n",
            "[2.8GB(+0.0GB): 11.683sec] fit F\n"
          ],
          "name": "stderr"
        },
        {
          "output_type": "stream",
          "text": [
            "fold 8: mean position error 11.401349655097253\n"
          ],
          "name": "stdout"
        },
        {
          "output_type": "stream",
          "text": [
            "[2.8GB(+0.0GB): 3.030sec] fit X\n",
            "[2.8GB(+0.0GB): 3.080sec] fit Y\n",
            "[2.8GB(+0.0GB): 10.256sec] fit F\n"
          ],
          "name": "stderr"
        },
        {
          "output_type": "stream",
          "text": [
            "fold 9: mean position error 11.43476385331526\n",
            "*+*+*+*+*+*+*+*+*+*+*+*+*+*+*+*+*+*+*+*+*+*+*+*+*+*+*+*+*+*+*+*+*+*+*+*+*+*+*+*+\n",
            "file #14, shape=(7880, 639), name=5d27097f03f801723c320d97_train.csv\n",
            "mean position error 11.861081520356622\n",
            "*+*+*+*+*+*+*+*+*+*+*+*+*+*+*+*+*+*+*+*+*+*+*+*+*+*+*+*+*+*+*+*+*+*+*+*+*+*+*+*+\n",
            "Starting to train:  5d27099f03f801723c32511d_train.csv\n"
          ],
          "name": "stdout"
        },
        {
          "output_type": "stream",
          "text": [
            "[2.8GB(+0.0GB): 2.278sec] fit X\n",
            "[2.8GB(+0.0GB): 1.095sec] fit Y\n",
            "[2.8GB(+0.0GB): 2.285sec] fit F\n"
          ],
          "name": "stderr"
        },
        {
          "output_type": "stream",
          "text": [
            "fold 0: mean position error 3.398043739512988\n"
          ],
          "name": "stdout"
        },
        {
          "output_type": "stream",
          "text": [
            "[2.8GB(+0.0GB): 2.814sec] fit X\n",
            "[2.8GB(+0.0GB): 3.569sec] fit Y\n",
            "[2.8GB(+0.0GB): 1.883sec] fit F\n"
          ],
          "name": "stderr"
        },
        {
          "output_type": "stream",
          "text": [
            "fold 1: mean position error 2.8675545297688156\n"
          ],
          "name": "stdout"
        },
        {
          "output_type": "stream",
          "text": [
            "[2.8GB(+0.0GB): 3.042sec] fit X\n",
            "[2.8GB(+0.0GB): 1.537sec] fit Y\n",
            "[2.8GB(+0.0GB): 2.481sec] fit F\n"
          ],
          "name": "stderr"
        },
        {
          "output_type": "stream",
          "text": [
            "fold 2: mean position error 3.2148649299739733\n"
          ],
          "name": "stdout"
        },
        {
          "output_type": "stream",
          "text": [
            "[2.8GB(+0.0GB): 2.494sec] fit X\n",
            "[2.8GB(+0.0GB): 1.341sec] fit Y\n",
            "[2.8GB(+0.0GB): 1.812sec] fit F\n"
          ],
          "name": "stderr"
        },
        {
          "output_type": "stream",
          "text": [
            "fold 3: mean position error 2.967587264541217\n"
          ],
          "name": "stdout"
        },
        {
          "output_type": "stream",
          "text": [
            "[2.8GB(+0.0GB): 2.098sec] fit X\n",
            "[2.8GB(+0.0GB): 2.378sec] fit Y\n",
            "[2.8GB(+0.0GB): 1.932sec] fit F\n"
          ],
          "name": "stderr"
        },
        {
          "output_type": "stream",
          "text": [
            "fold 4: mean position error 2.9987446784173293\n"
          ],
          "name": "stdout"
        },
        {
          "output_type": "stream",
          "text": [
            "[2.8GB(+0.0GB): 2.234sec] fit X\n",
            "[2.8GB(+0.0GB): 2.242sec] fit Y\n",
            "[2.8GB(+0.0GB): 1.880sec] fit F\n"
          ],
          "name": "stderr"
        },
        {
          "output_type": "stream",
          "text": [
            "fold 5: mean position error 3.523759094899116\n"
          ],
          "name": "stdout"
        },
        {
          "output_type": "stream",
          "text": [
            "[2.8GB(+0.0GB): 2.346sec] fit X\n",
            "[2.8GB(+0.0GB): 3.539sec] fit Y\n",
            "[2.8GB(+0.0GB): 2.076sec] fit F\n"
          ],
          "name": "stderr"
        },
        {
          "output_type": "stream",
          "text": [
            "fold 6: mean position error 3.2231166148022625\n"
          ],
          "name": "stdout"
        },
        {
          "output_type": "stream",
          "text": [
            "[2.8GB(+0.0GB): 2.419sec] fit X\n",
            "[2.8GB(+0.0GB): 2.423sec] fit Y\n",
            "[2.8GB(+0.0GB): 1.501sec] fit F\n"
          ],
          "name": "stderr"
        },
        {
          "output_type": "stream",
          "text": [
            "fold 7: mean position error 3.037267649996738\n"
          ],
          "name": "stdout"
        },
        {
          "output_type": "stream",
          "text": [
            "[2.8GB(+0.0GB): 1.829sec] fit X\n",
            "[2.8GB(+0.0GB): 4.101sec] fit Y\n",
            "[2.8GB(+0.0GB): 2.378sec] fit F\n"
          ],
          "name": "stderr"
        },
        {
          "output_type": "stream",
          "text": [
            "fold 8: mean position error 3.358454853036133\n"
          ],
          "name": "stdout"
        },
        {
          "output_type": "stream",
          "text": [
            "[2.8GB(+0.0GB): 3.125sec] fit X\n",
            "[2.8GB(+0.0GB): 2.346sec] fit Y\n",
            "[2.8GB(+0.0GB): 1.700sec] fit F\n"
          ],
          "name": "stderr"
        },
        {
          "output_type": "stream",
          "text": [
            "fold 9: mean position error 3.225355469478025\n",
            "*+*+*+*+*+*+*+*+*+*+*+*+*+*+*+*+*+*+*+*+*+*+*+*+*+*+*+*+*+*+*+*+*+*+*+*+*+*+*+*+\n",
            "file #15, shape=(3188, 339), name=5d27099f03f801723c32511d_train.csv\n",
            "mean position error 3.1814056037232032\n",
            "*+*+*+*+*+*+*+*+*+*+*+*+*+*+*+*+*+*+*+*+*+*+*+*+*+*+*+*+*+*+*+*+*+*+*+*+*+*+*+*+\n",
            "Starting to train:  5d2709a003f801723c3251bf_train.csv\n"
          ],
          "name": "stdout"
        },
        {
          "output_type": "stream",
          "text": [
            "[2.8GB(+0.0GB): 2.927sec] fit X\n",
            "[2.8GB(+0.0GB): 2.574sec] fit Y\n",
            "[2.8GB(+0.0GB): 4.786sec] fit F\n"
          ],
          "name": "stderr"
        },
        {
          "output_type": "stream",
          "text": [
            "fold 0: mean position error 3.609700137594281\n"
          ],
          "name": "stdout"
        },
        {
          "output_type": "stream",
          "text": [
            "[2.8GB(+0.0GB): 5.771sec] fit X\n",
            "[2.8GB(+0.0GB): 3.962sec] fit Y\n",
            "[2.8GB(+0.0GB): 4.522sec] fit F\n"
          ],
          "name": "stderr"
        },
        {
          "output_type": "stream",
          "text": [
            "fold 1: mean position error 4.09613131618866\n"
          ],
          "name": "stdout"
        },
        {
          "output_type": "stream",
          "text": [
            "[2.8GB(+0.0GB): 3.813sec] fit X\n",
            "[2.8GB(+0.0GB): 3.175sec] fit Y\n",
            "[2.8GB(+0.0GB): 3.750sec] fit F\n"
          ],
          "name": "stderr"
        },
        {
          "output_type": "stream",
          "text": [
            "fold 2: mean position error 3.7881951914217655\n"
          ],
          "name": "stdout"
        },
        {
          "output_type": "stream",
          "text": [
            "[2.8GB(+0.0GB): 3.133sec] fit X\n",
            "[2.8GB(+0.0GB): 4.136sec] fit Y\n",
            "[2.8GB(+0.0GB): 2.495sec] fit F\n"
          ],
          "name": "stderr"
        },
        {
          "output_type": "stream",
          "text": [
            "fold 3: mean position error 4.207233936399527\n"
          ],
          "name": "stdout"
        },
        {
          "output_type": "stream",
          "text": [
            "[2.8GB(+0.0GB): 1.741sec] fit X\n",
            "[2.8GB(+0.0GB): 2.434sec] fit Y\n",
            "[2.8GB(+0.0GB): 4.427sec] fit F\n"
          ],
          "name": "stderr"
        },
        {
          "output_type": "stream",
          "text": [
            "fold 4: mean position error 4.026948098712452\n"
          ],
          "name": "stdout"
        },
        {
          "output_type": "stream",
          "text": [
            "[2.8GB(+0.0GB): 1.792sec] fit X\n",
            "[2.8GB(+0.0GB): 2.822sec] fit Y\n",
            "[2.8GB(+0.0GB): 2.618sec] fit F\n"
          ],
          "name": "stderr"
        },
        {
          "output_type": "stream",
          "text": [
            "fold 5: mean position error 4.1885760649029615\n"
          ],
          "name": "stdout"
        },
        {
          "output_type": "stream",
          "text": [
            "[2.8GB(+0.0GB): 2.486sec] fit X\n",
            "[2.8GB(+0.0GB): 2.053sec] fit Y\n",
            "[2.8GB(+0.0GB): 2.598sec] fit F\n"
          ],
          "name": "stderr"
        },
        {
          "output_type": "stream",
          "text": [
            "fold 6: mean position error 3.908733637430909\n"
          ],
          "name": "stdout"
        },
        {
          "output_type": "stream",
          "text": [
            "[2.8GB(+0.0GB): 6.513sec] fit X\n",
            "[2.8GB(+0.0GB): 2.798sec] fit Y\n",
            "[2.8GB(+0.0GB): 1.993sec] fit F\n"
          ],
          "name": "stderr"
        },
        {
          "output_type": "stream",
          "text": [
            "fold 7: mean position error 4.5512230436405785\n"
          ],
          "name": "stdout"
        },
        {
          "output_type": "stream",
          "text": [
            "[2.8GB(+0.0GB): 2.265sec] fit X\n",
            "[2.8GB(+0.0GB): 2.099sec] fit Y\n",
            "[2.8GB(+0.0GB): 3.729sec] fit F\n"
          ],
          "name": "stderr"
        },
        {
          "output_type": "stream",
          "text": [
            "fold 8: mean position error 3.9142427049778235\n"
          ],
          "name": "stdout"
        },
        {
          "output_type": "stream",
          "text": [
            "[2.8GB(+0.0GB): 2.424sec] fit X\n",
            "[2.8GB(+0.0GB): 3.799sec] fit Y\n",
            "[2.8GB(+0.0GB): 4.879sec] fit F\n"
          ],
          "name": "stderr"
        },
        {
          "output_type": "stream",
          "text": [
            "fold 9: mean position error 3.896411506830656\n",
            "*+*+*+*+*+*+*+*+*+*+*+*+*+*+*+*+*+*+*+*+*+*+*+*+*+*+*+*+*+*+*+*+*+*+*+*+*+*+*+*+\n",
            "file #16, shape=(2955, 275), name=5d2709a003f801723c3251bf_train.csv\n",
            "mean position error 4.018615878822235\n",
            "*+*+*+*+*+*+*+*+*+*+*+*+*+*+*+*+*+*+*+*+*+*+*+*+*+*+*+*+*+*+*+*+*+*+*+*+*+*+*+*+\n",
            "Starting to train:  5d2709b303f801723c327472_train.csv\n"
          ],
          "name": "stdout"
        },
        {
          "output_type": "stream",
          "text": [
            "[2.8GB(+0.0GB): 15.719sec] fit X\n",
            "[2.8GB(+0.0GB): 11.792sec] fit Y\n",
            "[2.8GB(+0.0GB): 8.097sec] fit F\n"
          ],
          "name": "stderr"
        },
        {
          "output_type": "stream",
          "text": [
            "fold 0: mean position error 4.066097760702984\n"
          ],
          "name": "stdout"
        },
        {
          "output_type": "stream",
          "text": [
            "[2.8GB(+0.0GB): 9.695sec] fit X\n",
            "[2.8GB(+0.0GB): 11.268sec] fit Y\n",
            "[2.8GB(+0.0GB): 11.478sec] fit F\n"
          ],
          "name": "stderr"
        },
        {
          "output_type": "stream",
          "text": [
            "fold 1: mean position error 3.774503005029879\n"
          ],
          "name": "stdout"
        },
        {
          "output_type": "stream",
          "text": [
            "[2.8GB(+0.0GB): 9.561sec] fit X\n",
            "[2.8GB(+0.0GB): 8.315sec] fit Y\n",
            "[2.8GB(+0.0GB): 11.608sec] fit F\n"
          ],
          "name": "stderr"
        },
        {
          "output_type": "stream",
          "text": [
            "fold 2: mean position error 4.0948633360674815\n"
          ],
          "name": "stdout"
        },
        {
          "output_type": "stream",
          "text": [
            "[2.8GB(+0.0GB): 11.950sec] fit X\n",
            "[2.8GB(+0.0GB): 12.597sec] fit Y\n",
            "[2.8GB(+0.0GB): 17.102sec] fit F\n"
          ],
          "name": "stderr"
        },
        {
          "output_type": "stream",
          "text": [
            "fold 3: mean position error 3.8038318100839286\n"
          ],
          "name": "stdout"
        },
        {
          "output_type": "stream",
          "text": [
            "[2.8GB(+0.0GB): 17.232sec] fit X\n",
            "[2.8GB(+0.0GB): 14.814sec] fit Y\n",
            "[2.8GB(+0.0GB): 9.974sec] fit F\n"
          ],
          "name": "stderr"
        },
        {
          "output_type": "stream",
          "text": [
            "fold 4: mean position error 3.7939699676171035\n"
          ],
          "name": "stdout"
        },
        {
          "output_type": "stream",
          "text": [
            "[2.8GB(+0.0GB): 7.762sec] fit X\n",
            "[2.8GB(+0.0GB): 9.659sec] fit Y\n",
            "[2.8GB(+0.0GB): 22.303sec] fit F\n"
          ],
          "name": "stderr"
        },
        {
          "output_type": "stream",
          "text": [
            "fold 5: mean position error 3.862348984431917\n"
          ],
          "name": "stdout"
        },
        {
          "output_type": "stream",
          "text": [
            "[2.8GB(+0.0GB): 10.369sec] fit X\n",
            "[2.8GB(+0.0GB): 13.313sec] fit Y\n",
            "[2.8GB(+0.0GB): 6.818sec] fit F\n"
          ],
          "name": "stderr"
        },
        {
          "output_type": "stream",
          "text": [
            "fold 6: mean position error 3.803504063373081\n"
          ],
          "name": "stdout"
        },
        {
          "output_type": "stream",
          "text": [
            "[2.8GB(+0.0GB): 9.892sec] fit X\n",
            "[2.8GB(+0.0GB): 8.251sec] fit Y\n",
            "[2.8GB(+0.0GB): 8.814sec] fit F\n"
          ],
          "name": "stderr"
        },
        {
          "output_type": "stream",
          "text": [
            "fold 7: mean position error 3.945836994191686\n"
          ],
          "name": "stdout"
        },
        {
          "output_type": "stream",
          "text": [
            "[2.8GB(+0.0GB): 11.183sec] fit X\n",
            "[2.8GB(+0.0GB): 13.088sec] fit Y\n",
            "[2.8GB(+0.0GB): 8.963sec] fit F\n"
          ],
          "name": "stderr"
        },
        {
          "output_type": "stream",
          "text": [
            "fold 8: mean position error 3.9267963297883135\n"
          ],
          "name": "stdout"
        },
        {
          "output_type": "stream",
          "text": [
            "[2.8GB(+0.0GB): 8.977sec] fit X\n",
            "[2.8GB(+0.0GB): 13.188sec] fit Y\n",
            "[2.8GB(+0.0GB): 17.190sec] fit F\n"
          ],
          "name": "stderr"
        },
        {
          "output_type": "stream",
          "text": [
            "fold 9: mean position error 3.8043378993386052\n",
            "*+*+*+*+*+*+*+*+*+*+*+*+*+*+*+*+*+*+*+*+*+*+*+*+*+*+*+*+*+*+*+*+*+*+*+*+*+*+*+*+\n",
            "file #17, shape=(11518, 694), name=5d2709b303f801723c327472_train.csv\n",
            "mean position error 3.8876128424458107\n",
            "*+*+*+*+*+*+*+*+*+*+*+*+*+*+*+*+*+*+*+*+*+*+*+*+*+*+*+*+*+*+*+*+*+*+*+*+*+*+*+*+\n",
            "Starting to train:  5d2709bb03f801723c32852c_train.csv\n"
          ],
          "name": "stdout"
        },
        {
          "output_type": "stream",
          "text": [
            "[2.8GB(+0.0GB): 20.757sec] fit X\n",
            "[2.8GB(+0.0GB): 16.442sec] fit Y\n",
            "[2.8GB(+0.0GB): 8.001sec] fit F\n"
          ],
          "name": "stderr"
        },
        {
          "output_type": "stream",
          "text": [
            "fold 0: mean position error 4.462614374742789\n"
          ],
          "name": "stdout"
        },
        {
          "output_type": "stream",
          "text": [
            "[2.8GB(+0.0GB): 24.872sec] fit X\n",
            "[2.8GB(+0.0GB): 13.755sec] fit Y\n",
            "[2.8GB(+0.0GB): 11.450sec] fit F\n"
          ],
          "name": "stderr"
        },
        {
          "output_type": "stream",
          "text": [
            "fold 1: mean position error 4.477415051857332\n"
          ],
          "name": "stdout"
        },
        {
          "output_type": "stream",
          "text": [
            "[2.8GB(+0.0GB): 14.208sec] fit X\n",
            "[2.8GB(+0.0GB): 21.607sec] fit Y\n",
            "[2.8GB(+0.0GB): 9.884sec] fit F\n"
          ],
          "name": "stderr"
        },
        {
          "output_type": "stream",
          "text": [
            "fold 2: mean position error 4.281813337510379\n"
          ],
          "name": "stdout"
        },
        {
          "output_type": "stream",
          "text": [
            "[2.8GB(+0.0GB): 21.964sec] fit X\n",
            "[2.8GB(+0.0GB): 16.645sec] fit Y\n",
            "[2.8GB(+0.0GB): 11.048sec] fit F\n"
          ],
          "name": "stderr"
        },
        {
          "output_type": "stream",
          "text": [
            "fold 3: mean position error 4.885245481262241\n"
          ],
          "name": "stdout"
        },
        {
          "output_type": "stream",
          "text": [
            "[2.8GB(+0.0GB): 17.589sec] fit X\n",
            "[2.8GB(+0.0GB): 13.601sec] fit Y\n",
            "[2.8GB(+0.0GB): 11.617sec] fit F\n"
          ],
          "name": "stderr"
        },
        {
          "output_type": "stream",
          "text": [
            "fold 4: mean position error 4.65286344177742\n"
          ],
          "name": "stdout"
        },
        {
          "output_type": "stream",
          "text": [
            "[2.8GB(+0.0GB): 21.316sec] fit X\n",
            "[2.8GB(+0.0GB): 16.102sec] fit Y\n",
            "[2.8GB(+0.0GB): 14.180sec] fit F\n"
          ],
          "name": "stderr"
        },
        {
          "output_type": "stream",
          "text": [
            "fold 5: mean position error 4.557722297195909\n"
          ],
          "name": "stdout"
        },
        {
          "output_type": "stream",
          "text": [
            "[2.8GB(+0.0GB): 17.236sec] fit X\n",
            "[2.8GB(+0.0GB): 18.585sec] fit Y\n",
            "[2.8GB(+0.0GB): 14.359sec] fit F\n"
          ],
          "name": "stderr"
        },
        {
          "output_type": "stream",
          "text": [
            "fold 6: mean position error 4.62550959205578\n"
          ],
          "name": "stdout"
        },
        {
          "output_type": "stream",
          "text": [
            "[2.8GB(+0.0GB): 24.262sec] fit X\n",
            "[2.8GB(+0.0GB): 16.412sec] fit Y\n",
            "[2.8GB(+0.0GB): 8.118sec] fit F\n"
          ],
          "name": "stderr"
        },
        {
          "output_type": "stream",
          "text": [
            "fold 7: mean position error 4.60066790070588\n"
          ],
          "name": "stdout"
        },
        {
          "output_type": "stream",
          "text": [
            "[2.8GB(+0.0GB): 14.525sec] fit X\n",
            "[2.8GB(+0.0GB): 18.831sec] fit Y\n",
            "[2.8GB(+0.0GB): 12.468sec] fit F\n"
          ],
          "name": "stderr"
        },
        {
          "output_type": "stream",
          "text": [
            "fold 8: mean position error 4.696489104938769\n"
          ],
          "name": "stdout"
        },
        {
          "output_type": "stream",
          "text": [
            "[2.8GB(+0.0GB): 20.918sec] fit X\n",
            "[2.8GB(+0.0GB): 19.012sec] fit Y\n",
            "[2.8GB(+0.0GB): 18.731sec] fit F\n"
          ],
          "name": "stderr"
        },
        {
          "output_type": "stream",
          "text": [
            "fold 9: mean position error 4.348114064382251\n",
            "*+*+*+*+*+*+*+*+*+*+*+*+*+*+*+*+*+*+*+*+*+*+*+*+*+*+*+*+*+*+*+*+*+*+*+*+*+*+*+*+\n",
            "file #18, shape=(12902, 1101), name=5d2709bb03f801723c32852c_train.csv\n",
            "mean position error 4.558831694568259\n",
            "*+*+*+*+*+*+*+*+*+*+*+*+*+*+*+*+*+*+*+*+*+*+*+*+*+*+*+*+*+*+*+*+*+*+*+*+*+*+*+*+\n",
            "Starting to train:  5d2709c303f801723c3299ee_train.csv\n"
          ],
          "name": "stdout"
        },
        {
          "output_type": "stream",
          "text": [
            "[2.8GB(+0.0GB): 7.793sec] fit X\n",
            "[2.8GB(+0.0GB): 13.018sec] fit Y\n",
            "[2.8GB(+0.0GB): 9.207sec] fit F\n"
          ],
          "name": "stderr"
        },
        {
          "output_type": "stream",
          "text": [
            "fold 0: mean position error 4.19533109459811\n"
          ],
          "name": "stdout"
        },
        {
          "output_type": "stream",
          "text": [
            "[2.8GB(+0.0GB): 12.161sec] fit X\n",
            "[2.8GB(+0.0GB): 10.962sec] fit Y\n",
            "[2.8GB(+0.0GB): 12.424sec] fit F\n"
          ],
          "name": "stderr"
        },
        {
          "output_type": "stream",
          "text": [
            "fold 1: mean position error 4.307543659703827\n"
          ],
          "name": "stdout"
        },
        {
          "output_type": "stream",
          "text": [
            "[2.8GB(+0.0GB): 9.252sec] fit X\n",
            "[2.8GB(+0.0GB): 7.502sec] fit Y\n",
            "[2.8GB(+0.0GB): 14.271sec] fit F\n"
          ],
          "name": "stderr"
        },
        {
          "output_type": "stream",
          "text": [
            "fold 2: mean position error 4.508409921051355\n"
          ],
          "name": "stdout"
        },
        {
          "output_type": "stream",
          "text": [
            "[2.8GB(+0.0GB): 9.581sec] fit X\n",
            "[2.8GB(+0.0GB): 13.995sec] fit Y\n",
            "[2.8GB(+0.0GB): 34.628sec] fit F\n"
          ],
          "name": "stderr"
        },
        {
          "output_type": "stream",
          "text": [
            "fold 3: mean position error 4.570175696227939\n"
          ],
          "name": "stdout"
        },
        {
          "output_type": "stream",
          "text": [
            "[2.8GB(+0.0GB): 10.953sec] fit X\n",
            "[2.8GB(+0.0GB): 9.500sec] fit Y\n",
            "[2.8GB(+0.0GB): 11.961sec] fit F\n"
          ],
          "name": "stderr"
        },
        {
          "output_type": "stream",
          "text": [
            "fold 4: mean position error 4.322776052137112\n"
          ],
          "name": "stdout"
        },
        {
          "output_type": "stream",
          "text": [
            "[2.8GB(+0.0GB): 7.743sec] fit X\n",
            "[2.8GB(+0.0GB): 8.693sec] fit Y\n",
            "[2.8GB(+0.0GB): 17.066sec] fit F\n"
          ],
          "name": "stderr"
        },
        {
          "output_type": "stream",
          "text": [
            "fold 5: mean position error 4.371282657794674\n"
          ],
          "name": "stdout"
        },
        {
          "output_type": "stream",
          "text": [
            "[2.8GB(+0.0GB): 11.368sec] fit X\n",
            "[2.8GB(+0.0GB): 14.290sec] fit Y\n",
            "[2.8GB(+0.0GB): 14.871sec] fit F\n"
          ],
          "name": "stderr"
        },
        {
          "output_type": "stream",
          "text": [
            "fold 6: mean position error 4.58964616810462\n"
          ],
          "name": "stdout"
        },
        {
          "output_type": "stream",
          "text": [
            "[2.8GB(+0.0GB): 10.184sec] fit X\n",
            "[2.8GB(+0.0GB): 9.719sec] fit Y\n",
            "[2.8GB(+0.0GB): 11.657sec] fit F\n"
          ],
          "name": "stderr"
        },
        {
          "output_type": "stream",
          "text": [
            "fold 7: mean position error 4.551513624344418\n"
          ],
          "name": "stdout"
        },
        {
          "output_type": "stream",
          "text": [
            "[2.8GB(+0.0GB): 16.366sec] fit X\n",
            "[2.8GB(+0.0GB): 13.562sec] fit Y\n",
            "[2.8GB(+0.0GB): 9.070sec] fit F\n"
          ],
          "name": "stderr"
        },
        {
          "output_type": "stream",
          "text": [
            "fold 8: mean position error 4.52674876948745\n"
          ],
          "name": "stdout"
        },
        {
          "output_type": "stream",
          "text": [
            "[2.8GB(-0.0GB): 10.494sec] fit X\n",
            "[2.8GB(+0.0GB): 11.325sec] fit Y\n",
            "[2.8GB(+0.0GB): 7.059sec] fit F\n"
          ],
          "name": "stderr"
        },
        {
          "output_type": "stream",
          "text": [
            "fold 9: mean position error 4.3601668173534796\n",
            "*+*+*+*+*+*+*+*+*+*+*+*+*+*+*+*+*+*+*+*+*+*+*+*+*+*+*+*+*+*+*+*+*+*+*+*+*+*+*+*+\n",
            "file #19, shape=(7562, 1210), name=5d2709c303f801723c3299ee_train.csv\n",
            "mean position error 4.430312124718507\n",
            "*+*+*+*+*+*+*+*+*+*+*+*+*+*+*+*+*+*+*+*+*+*+*+*+*+*+*+*+*+*+*+*+*+*+*+*+*+*+*+*+\n",
            "Starting to train:  5d2709d403f801723c32bd39_train.csv\n"
          ],
          "name": "stdout"
        },
        {
          "output_type": "stream",
          "text": [
            "[2.8GB(+0.0GB): 10.627sec] fit X\n",
            "[2.8GB(+0.0GB): 11.012sec] fit Y\n",
            "[2.8GB(+0.0GB): 5.739sec] fit F\n"
          ],
          "name": "stderr"
        },
        {
          "output_type": "stream",
          "text": [
            "fold 0: mean position error 3.3699777300781575\n"
          ],
          "name": "stdout"
        },
        {
          "output_type": "stream",
          "text": [
            "[2.8GB(-0.0GB): 8.387sec] fit X\n",
            "[2.8GB(+0.0GB): 11.080sec] fit Y\n",
            "[2.8GB(+0.0GB): 4.968sec] fit F\n"
          ],
          "name": "stderr"
        },
        {
          "output_type": "stream",
          "text": [
            "fold 1: mean position error 3.2817893747824884\n"
          ],
          "name": "stdout"
        },
        {
          "output_type": "stream",
          "text": [
            "[2.8GB(+0.0GB): 9.985sec] fit X\n",
            "[2.8GB(+0.0GB): 6.170sec] fit Y\n",
            "[2.8GB(+0.0GB): 5.327sec] fit F\n"
          ],
          "name": "stderr"
        },
        {
          "output_type": "stream",
          "text": [
            "fold 2: mean position error 3.420197355964543\n"
          ],
          "name": "stdout"
        },
        {
          "output_type": "stream",
          "text": [
            "[2.8GB(+0.0GB): 8.067sec] fit X\n",
            "[2.8GB(+0.0GB): 8.477sec] fit Y\n",
            "[2.8GB(+0.0GB): 3.323sec] fit F\n"
          ],
          "name": "stderr"
        },
        {
          "output_type": "stream",
          "text": [
            "fold 3: mean position error 3.2570790886784367\n"
          ],
          "name": "stdout"
        },
        {
          "output_type": "stream",
          "text": [
            "[2.8GB(+0.0GB): 12.140sec] fit X\n",
            "[2.8GB(+0.0GB): 11.068sec] fit Y\n",
            "[2.8GB(+0.0GB): 3.434sec] fit F\n"
          ],
          "name": "stderr"
        },
        {
          "output_type": "stream",
          "text": [
            "fold 4: mean position error 3.3511973850345758\n"
          ],
          "name": "stdout"
        },
        {
          "output_type": "stream",
          "text": [
            "[2.8GB(+0.0GB): 10.536sec] fit X\n",
            "[2.8GB(+0.0GB): 6.232sec] fit Y\n",
            "[2.8GB(+0.0GB): 5.468sec] fit F\n"
          ],
          "name": "stderr"
        },
        {
          "output_type": "stream",
          "text": [
            "fold 5: mean position error 3.2365302011663797\n"
          ],
          "name": "stdout"
        },
        {
          "output_type": "stream",
          "text": [
            "[2.8GB(+0.0GB): 7.486sec] fit X\n",
            "[2.8GB(+0.0GB): 8.271sec] fit Y\n",
            "[2.8GB(+0.0GB): 3.884sec] fit F\n"
          ],
          "name": "stderr"
        },
        {
          "output_type": "stream",
          "text": [
            "fold 6: mean position error 3.509797640452425\n"
          ],
          "name": "stdout"
        },
        {
          "output_type": "stream",
          "text": [
            "[2.8GB(+0.0GB): 10.447sec] fit X\n",
            "[2.8GB(+0.0GB): 10.684sec] fit Y\n",
            "[2.8GB(+0.0GB): 4.617sec] fit F\n"
          ],
          "name": "stderr"
        },
        {
          "output_type": "stream",
          "text": [
            "fold 7: mean position error 3.176752941534634\n"
          ],
          "name": "stdout"
        },
        {
          "output_type": "stream",
          "text": [
            "[2.8GB(+0.0GB): 7.296sec] fit X\n",
            "[2.8GB(+0.0GB): 11.618sec] fit Y\n",
            "[2.8GB(+0.0GB): 4.200sec] fit F\n"
          ],
          "name": "stderr"
        },
        {
          "output_type": "stream",
          "text": [
            "fold 8: mean position error 3.2885938294144794\n"
          ],
          "name": "stdout"
        },
        {
          "output_type": "stream",
          "text": [
            "[2.8GB(+0.0GB): 4.803sec] fit X\n",
            "[2.8GB(+0.0GB): 7.571sec] fit Y\n",
            "[2.8GB(+0.0GB): 5.382sec] fit F\n"
          ],
          "name": "stderr"
        },
        {
          "output_type": "stream",
          "text": [
            "fold 9: mean position error 3.3734699372381725\n",
            "*+*+*+*+*+*+*+*+*+*+*+*+*+*+*+*+*+*+*+*+*+*+*+*+*+*+*+*+*+*+*+*+*+*+*+*+*+*+*+*+\n",
            "file #20, shape=(7520, 437), name=5d2709d403f801723c32bd39_train.csv\n",
            "mean position error 3.326538548434429\n",
            "*+*+*+*+*+*+*+*+*+*+*+*+*+*+*+*+*+*+*+*+*+*+*+*+*+*+*+*+*+*+*+*+*+*+*+*+*+*+*+*+\n",
            "Starting to train:  5da1382d4db8ce0c98bbe92e_train.csv\n"
          ],
          "name": "stdout"
        },
        {
          "output_type": "stream",
          "text": [
            "[2.8GB(+0.0GB): 11.851sec] fit X\n",
            "[2.8GB(+0.0GB): 10.446sec] fit Y\n",
            "[2.8GB(+0.0GB): 5.648sec] fit F\n"
          ],
          "name": "stderr"
        },
        {
          "output_type": "stream",
          "text": [
            "fold 0: mean position error 4.290464405777463\n"
          ],
          "name": "stdout"
        },
        {
          "output_type": "stream",
          "text": [
            "[2.8GB(+0.0GB): 9.622sec] fit X\n",
            "[2.8GB(+0.0GB): 8.695sec] fit Y\n",
            "[2.8GB(+0.0GB): 13.702sec] fit F\n"
          ],
          "name": "stderr"
        },
        {
          "output_type": "stream",
          "text": [
            "fold 1: mean position error 4.41607315865976\n"
          ],
          "name": "stdout"
        },
        {
          "output_type": "stream",
          "text": [
            "[2.8GB(+0.0GB): 10.720sec] fit X\n",
            "[2.8GB(+0.0GB): 10.300sec] fit Y\n",
            "[2.8GB(+0.0GB): 20.268sec] fit F\n"
          ],
          "name": "stderr"
        },
        {
          "output_type": "stream",
          "text": [
            "fold 2: mean position error 4.191889746790273\n"
          ],
          "name": "stdout"
        },
        {
          "output_type": "stream",
          "text": [
            "[2.8GB(+0.0GB): 7.476sec] fit X\n",
            "[2.8GB(+0.0GB): 10.950sec] fit Y\n",
            "[2.8GB(+0.0GB): 13.380sec] fit F\n"
          ],
          "name": "stderr"
        },
        {
          "output_type": "stream",
          "text": [
            "fold 3: mean position error 4.676091009309136\n"
          ],
          "name": "stdout"
        },
        {
          "output_type": "stream",
          "text": [
            "[2.8GB(+0.0GB): 9.064sec] fit X\n",
            "[2.8GB(+0.0GB): 16.202sec] fit Y\n",
            "[2.8GB(+0.0GB): 19.812sec] fit F\n"
          ],
          "name": "stderr"
        },
        {
          "output_type": "stream",
          "text": [
            "fold 4: mean position error 4.139140859570702\n"
          ],
          "name": "stdout"
        },
        {
          "output_type": "stream",
          "text": [
            "[2.8GB(+0.0GB): 10.650sec] fit X\n",
            "[2.8GB(+0.0GB): 9.938sec] fit Y\n",
            "[2.8GB(+0.0GB): 21.287sec] fit F\n"
          ],
          "name": "stderr"
        },
        {
          "output_type": "stream",
          "text": [
            "fold 5: mean position error 4.340106398143513\n"
          ],
          "name": "stdout"
        },
        {
          "output_type": "stream",
          "text": [
            "[2.8GB(+0.0GB): 11.072sec] fit X\n",
            "[2.8GB(+0.0GB): 11.346sec] fit Y\n",
            "[2.8GB(+0.0GB): 7.486sec] fit F\n"
          ],
          "name": "stderr"
        },
        {
          "output_type": "stream",
          "text": [
            "fold 6: mean position error 4.104267437968698\n"
          ],
          "name": "stdout"
        },
        {
          "output_type": "stream",
          "text": [
            "[2.8GB(+0.0GB): 7.072sec] fit X\n",
            "[2.8GB(+0.0GB): 15.747sec] fit Y\n",
            "[2.8GB(+0.0GB): 26.920sec] fit F\n"
          ],
          "name": "stderr"
        },
        {
          "output_type": "stream",
          "text": [
            "fold 7: mean position error 4.80901205176245\n"
          ],
          "name": "stdout"
        },
        {
          "output_type": "stream",
          "text": [
            "[2.8GB(+0.0GB): 8.432sec] fit X\n",
            "[2.8GB(+0.0GB): 10.951sec] fit Y\n",
            "[2.8GB(+0.0GB): 27.228sec] fit F\n"
          ],
          "name": "stderr"
        },
        {
          "output_type": "stream",
          "text": [
            "fold 8: mean position error 4.200961323111988\n"
          ],
          "name": "stdout"
        },
        {
          "output_type": "stream",
          "text": [
            "[2.8GB(+0.0GB): 11.597sec] fit X\n",
            "[2.8GB(+0.0GB): 8.853sec] fit Y\n",
            "[2.8GB(+0.0GB): 12.825sec] fit F\n"
          ],
          "name": "stderr"
        },
        {
          "output_type": "stream",
          "text": [
            "fold 9: mean position error 4.455038104194012\n",
            "*+*+*+*+*+*+*+*+*+*+*+*+*+*+*+*+*+*+*+*+*+*+*+*+*+*+*+*+*+*+*+*+*+*+*+*+*+*+*+*+\n",
            "file #21, shape=(6749, 1225), name=5da1382d4db8ce0c98bbe92e_train.csv\n",
            "mean position error 4.362290709173982\n",
            "*+*+*+*+*+*+*+*+*+*+*+*+*+*+*+*+*+*+*+*+*+*+*+*+*+*+*+*+*+*+*+*+*+*+*+*+*+*+*+*+\n",
            "Starting to train:  5da1383b4db8ce0c98bc11ab_train.csv\n"
          ],
          "name": "stdout"
        },
        {
          "output_type": "stream",
          "text": [
            "[2.8GB(+0.0GB): 14.440sec] fit X\n",
            "[2.8GB(+0.0GB): 12.956sec] fit Y\n",
            "[2.8GB(+0.0GB): 5.543sec] fit F\n"
          ],
          "name": "stderr"
        },
        {
          "output_type": "stream",
          "text": [
            "fold 0: mean position error 3.8212786389691513\n"
          ],
          "name": "stdout"
        },
        {
          "output_type": "stream",
          "text": [
            "[2.8GB(+0.0GB): 15.360sec] fit X\n",
            "[2.8GB(+0.0GB): 9.305sec] fit Y\n",
            "[2.8GB(+0.0GB): 5.123sec] fit F\n"
          ],
          "name": "stderr"
        },
        {
          "output_type": "stream",
          "text": [
            "fold 1: mean position error 3.5978661196842108\n"
          ],
          "name": "stdout"
        },
        {
          "output_type": "stream",
          "text": [
            "[2.8GB(+0.0GB): 11.528sec] fit X\n",
            "[2.8GB(+0.0GB): 8.857sec] fit Y\n",
            "[2.8GB(+0.0GB): 8.260sec] fit F\n"
          ],
          "name": "stderr"
        },
        {
          "output_type": "stream",
          "text": [
            "fold 2: mean position error 3.761309635310222\n"
          ],
          "name": "stdout"
        },
        {
          "output_type": "stream",
          "text": [
            "[2.8GB(+0.0GB): 15.116sec] fit X\n",
            "[2.8GB(+0.0GB): 18.433sec] fit Y\n",
            "[2.8GB(+0.0GB): 4.232sec] fit F\n"
          ],
          "name": "stderr"
        },
        {
          "output_type": "stream",
          "text": [
            "fold 3: mean position error 3.658136436915077\n"
          ],
          "name": "stdout"
        },
        {
          "output_type": "stream",
          "text": [
            "[2.8GB(+0.0GB): 18.838sec] fit X\n",
            "[2.8GB(+0.0GB): 13.903sec] fit Y\n",
            "[2.8GB(+0.0GB): 8.157sec] fit F\n"
          ],
          "name": "stderr"
        },
        {
          "output_type": "stream",
          "text": [
            "fold 4: mean position error 3.605727526946862\n"
          ],
          "name": "stdout"
        },
        {
          "output_type": "stream",
          "text": [
            "[2.8GB(+0.0GB): 11.364sec] fit X\n",
            "[2.8GB(+0.0GB): 17.735sec] fit Y\n",
            "[2.8GB(+0.0GB): 14.709sec] fit F\n"
          ],
          "name": "stderr"
        },
        {
          "output_type": "stream",
          "text": [
            "fold 5: mean position error 3.5136216762116907\n"
          ],
          "name": "stdout"
        },
        {
          "output_type": "stream",
          "text": [
            "[2.8GB(+0.0GB): 13.855sec] fit X\n",
            "[2.8GB(+0.0GB): 14.046sec] fit Y\n",
            "[2.8GB(+0.0GB): 4.842sec] fit F\n"
          ],
          "name": "stderr"
        },
        {
          "output_type": "stream",
          "text": [
            "fold 6: mean position error 3.588652326998933\n"
          ],
          "name": "stdout"
        },
        {
          "output_type": "stream",
          "text": [
            "[2.8GB(+0.0GB): 15.636sec] fit X\n",
            "[2.8GB(+0.0GB): 14.586sec] fit Y\n",
            "[2.8GB(+0.0GB): 3.813sec] fit F\n"
          ],
          "name": "stderr"
        },
        {
          "output_type": "stream",
          "text": [
            "fold 7: mean position error 3.7138583508988856\n"
          ],
          "name": "stdout"
        },
        {
          "output_type": "stream",
          "text": [
            "[2.8GB(+0.0GB): 16.763sec] fit X\n",
            "[2.8GB(+0.0GB): 9.915sec] fit Y\n",
            "[2.8GB(+0.0GB): 5.442sec] fit F\n"
          ],
          "name": "stderr"
        },
        {
          "output_type": "stream",
          "text": [
            "fold 8: mean position error 3.7641802827111848\n"
          ],
          "name": "stdout"
        },
        {
          "output_type": "stream",
          "text": [
            "[2.8GB(+0.0GB): 11.476sec] fit X\n",
            "[2.8GB(+0.0GB): 10.291sec] fit Y\n",
            "[2.8GB(+0.0GB): 4.355sec] fit F\n"
          ],
          "name": "stderr"
        },
        {
          "output_type": "stream",
          "text": [
            "fold 9: mean position error 3.767021712054535\n",
            "*+*+*+*+*+*+*+*+*+*+*+*+*+*+*+*+*+*+*+*+*+*+*+*+*+*+*+*+*+*+*+*+*+*+*+*+*+*+*+*+\n",
            "file #22, shape=(9897, 751), name=5da1383b4db8ce0c98bc11ab_train.csv\n",
            "mean position error 3.679144298200271\n",
            "*+*+*+*+*+*+*+*+*+*+*+*+*+*+*+*+*+*+*+*+*+*+*+*+*+*+*+*+*+*+*+*+*+*+*+*+*+*+*+*+\n",
            "Starting to train:  5da138b74db8ce0c98bd4774_train.csv\n"
          ],
          "name": "stdout"
        },
        {
          "output_type": "stream",
          "text": [
            "[2.8GB(+0.0GB): 24.751sec] fit X\n",
            "[2.8GB(+0.0GB): 14.817sec] fit Y\n",
            "[2.8GB(+0.0GB): 32.041sec] fit F\n"
          ],
          "name": "stderr"
        },
        {
          "output_type": "stream",
          "text": [
            "fold 0: mean position error 6.449012419398238\n"
          ],
          "name": "stdout"
        },
        {
          "output_type": "stream",
          "text": [
            "[2.8GB(+0.0GB): 41.160sec] fit X\n",
            "[2.8GB(+0.0GB): 16.735sec] fit Y\n",
            "[2.8GB(+0.0GB): 69.130sec] fit F\n"
          ],
          "name": "stderr"
        },
        {
          "output_type": "stream",
          "text": [
            "fold 1: mean position error 5.506375837273864\n"
          ],
          "name": "stdout"
        },
        {
          "output_type": "stream",
          "text": [
            "[2.8GB(+0.0GB): 22.333sec] fit X\n",
            "[2.8GB(+0.0GB): 14.791sec] fit Y\n",
            "[2.8GB(+0.0GB): 28.349sec] fit F\n"
          ],
          "name": "stderr"
        },
        {
          "output_type": "stream",
          "text": [
            "fold 2: mean position error 5.542827799192698\n"
          ],
          "name": "stdout"
        },
        {
          "output_type": "stream",
          "text": [
            "[2.8GB(+0.0GB): 27.272sec] fit X\n",
            "[2.8GB(+0.0GB): 22.104sec] fit Y\n",
            "[2.8GB(+0.0GB): 45.082sec] fit F\n"
          ],
          "name": "stderr"
        },
        {
          "output_type": "stream",
          "text": [
            "fold 3: mean position error 5.93806593461365\n"
          ],
          "name": "stdout"
        },
        {
          "output_type": "stream",
          "text": [
            "[2.8GB(+0.0GB): 16.479sec] fit X\n",
            "[2.8GB(+0.0GB): 18.430sec] fit Y\n",
            "[2.8GB(+0.0GB): 13.438sec] fit F\n"
          ],
          "name": "stderr"
        },
        {
          "output_type": "stream",
          "text": [
            "fold 4: mean position error 5.8458193480773275\n"
          ],
          "name": "stdout"
        },
        {
          "output_type": "stream",
          "text": [
            "[2.8GB(+0.0GB): 23.964sec] fit X\n",
            "[2.8GB(+0.0GB): 12.243sec] fit Y\n",
            "[2.8GB(+0.0GB): 51.373sec] fit F\n"
          ],
          "name": "stderr"
        },
        {
          "output_type": "stream",
          "text": [
            "fold 5: mean position error 5.844419877355581\n"
          ],
          "name": "stdout"
        },
        {
          "output_type": "stream",
          "text": [
            "[2.8GB(+0.0GB): 14.744sec] fit X\n",
            "[2.8GB(+0.0GB): 12.717sec] fit Y\n",
            "[2.8GB(+0.0GB): 25.959sec] fit F\n"
          ],
          "name": "stderr"
        },
        {
          "output_type": "stream",
          "text": [
            "fold 6: mean position error 5.859306523848459\n"
          ],
          "name": "stdout"
        },
        {
          "output_type": "stream",
          "text": [
            "[2.8GB(+0.0GB): 13.615sec] fit X\n",
            "[2.8GB(+0.0GB): 16.415sec] fit Y\n",
            "[2.8GB(+0.0GB): 36.310sec] fit F\n"
          ],
          "name": "stderr"
        },
        {
          "output_type": "stream",
          "text": [
            "fold 7: mean position error 5.7545871275128775\n"
          ],
          "name": "stdout"
        },
        {
          "output_type": "stream",
          "text": [
            "[2.8GB(+0.0GB): 17.588sec] fit X\n",
            "[2.8GB(+0.0GB): 16.465sec] fit Y\n",
            "[2.8GB(+0.0GB): 30.340sec] fit F\n"
          ],
          "name": "stderr"
        },
        {
          "output_type": "stream",
          "text": [
            "fold 8: mean position error 6.768804919883887\n"
          ],
          "name": "stdout"
        },
        {
          "output_type": "stream",
          "text": [
            "[2.8GB(+0.0GB): 14.686sec] fit X\n",
            "[2.8GB(+0.0GB): 28.664sec] fit Y\n",
            "[2.8GB(+0.0GB): 23.727sec] fit F\n"
          ],
          "name": "stderr"
        },
        {
          "output_type": "stream",
          "text": [
            "fold 9: mean position error 6.144485683808333\n",
            "*+*+*+*+*+*+*+*+*+*+*+*+*+*+*+*+*+*+*+*+*+*+*+*+*+*+*+*+*+*+*+*+*+*+*+*+*+*+*+*+\n",
            "file #23, shape=(13036, 1497), name=5da138b74db8ce0c98bd4774_train.csv\n",
            "mean position error 5.965319480659956\n",
            "*+*+*+*+*+*+*+*+*+*+*+*+*+*+*+*+*+*+*+*+*+*+*+*+*+*+*+*+*+*+*+*+*+*+*+*+*+*+*+*+\n",
            "Starting to train:  5da958dd46f8266d0737457b_train.csv\n"
          ],
          "name": "stdout"
        },
        {
          "output_type": "stream",
          "text": [
            "[2.8GB(+0.0GB): 15.900sec] fit X\n",
            "[2.8GB(+0.0GB): 16.380sec] fit Y\n",
            "[2.8GB(+0.0GB): 23.229sec] fit F\n"
          ],
          "name": "stderr"
        },
        {
          "output_type": "stream",
          "text": [
            "fold 0: mean position error 3.7974554486192464\n"
          ],
          "name": "stdout"
        },
        {
          "output_type": "stream",
          "text": [
            "[2.8GB(+0.0GB): 22.840sec] fit X\n",
            "[2.8GB(+0.0GB): 28.766sec] fit Y\n",
            "[2.8GB(+0.0GB): 64.786sec] fit F\n"
          ],
          "name": "stderr"
        },
        {
          "output_type": "stream",
          "text": [
            "fold 1: mean position error 3.7317862511123345\n"
          ],
          "name": "stdout"
        },
        {
          "output_type": "stream",
          "text": [
            "[2.8GB(+0.0GB): 21.995sec] fit X\n",
            "[2.8GB(+0.0GB): 25.767sec] fit Y\n",
            "[2.8GB(+0.0GB): 63.694sec] fit F\n"
          ],
          "name": "stderr"
        },
        {
          "output_type": "stream",
          "text": [
            "fold 2: mean position error 3.751200904996645\n"
          ],
          "name": "stdout"
        },
        {
          "output_type": "stream",
          "text": [
            "[2.8GB(+0.0GB): 16.220sec] fit X\n",
            "[2.8GB(+0.0GB): 25.445sec] fit Y\n",
            "[2.8GB(+0.0GB): 44.289sec] fit F\n"
          ],
          "name": "stderr"
        },
        {
          "output_type": "stream",
          "text": [
            "fold 3: mean position error 3.7372786971772536\n"
          ],
          "name": "stdout"
        },
        {
          "output_type": "stream",
          "text": [
            "[2.8GB(+0.0GB): 13.164sec] fit X\n",
            "[2.8GB(+0.0GB): 17.892sec] fit Y\n",
            "[2.8GB(+0.0GB): 67.312sec] fit F\n"
          ],
          "name": "stderr"
        },
        {
          "output_type": "stream",
          "text": [
            "fold 4: mean position error 3.6799786309018483\n"
          ],
          "name": "stdout"
        },
        {
          "output_type": "stream",
          "text": [
            "[2.8GB(+0.0GB): 21.946sec] fit X\n",
            "[2.8GB(+0.0GB): 14.616sec] fit Y\n",
            "[2.8GB(+0.0GB): 53.551sec] fit F\n"
          ],
          "name": "stderr"
        },
        {
          "output_type": "stream",
          "text": [
            "fold 5: mean position error 3.7242703715728798\n"
          ],
          "name": "stdout"
        },
        {
          "output_type": "stream",
          "text": [
            "[2.8GB(+0.0GB): 20.437sec] fit X\n",
            "[2.8GB(+0.0GB): 28.252sec] fit Y\n",
            "[2.8GB(+0.0GB): 75.102sec] fit F\n"
          ],
          "name": "stderr"
        },
        {
          "output_type": "stream",
          "text": [
            "fold 6: mean position error 3.810175147543625\n"
          ],
          "name": "stdout"
        },
        {
          "output_type": "stream",
          "text": [
            "[2.8GB(+0.0GB): 18.710sec] fit X\n",
            "[2.8GB(+0.0GB): 17.904sec] fit Y\n",
            "[2.8GB(+0.0GB): 54.153sec] fit F\n"
          ],
          "name": "stderr"
        },
        {
          "output_type": "stream",
          "text": [
            "fold 7: mean position error 3.7682661710889733\n"
          ],
          "name": "stdout"
        },
        {
          "output_type": "stream",
          "text": [
            "[2.8GB(+0.0GB): 20.900sec] fit X\n",
            "[2.8GB(+0.0GB): 14.583sec] fit Y\n",
            "[2.8GB(+0.0GB): 38.688sec] fit F\n"
          ],
          "name": "stderr"
        },
        {
          "output_type": "stream",
          "text": [
            "fold 8: mean position error 3.7721110179426183\n"
          ],
          "name": "stdout"
        },
        {
          "output_type": "stream",
          "text": [
            "[2.8GB(+0.0GB): 13.605sec] fit X\n",
            "[2.8GB(+0.0GB): 22.579sec] fit Y\n",
            "[2.8GB(+0.0GB): 31.414sec] fit F\n"
          ],
          "name": "stderr"
        },
        {
          "output_type": "stream",
          "text": [
            "fold 9: mean position error 3.8563462077191075\n",
            "*+*+*+*+*+*+*+*+*+*+*+*+*+*+*+*+*+*+*+*+*+*+*+*+*+*+*+*+*+*+*+*+*+*+*+*+*+*+*+*+\n",
            "file #24, shape=(11361, 1365), name=5da958dd46f8266d0737457b_train.csv\n",
            "mean position error 3.7628899276069783\n",
            "*+*+*+*+*+*+*+*+*+*+*+*+*+*+*+*+*+*+*+*+*+*+*+*+*+*+*+*+*+*+*+*+*+*+*+*+*+*+*+*+\n"
          ],
          "name": "stdout"
        }
      ]
    },
    {
      "cell_type": "code",
      "metadata": {
        "id": "vVgKxL8OQES7"
      },
      "source": [
        ""
      ],
      "execution_count": null,
      "outputs": []
    }
  ]
}