{
  "nbformat": 4,
  "nbformat_minor": 0,
  "metadata": {
    "accelerator": "GPU",
    "colab": {
      "name": "Data_X_inNav_wifi_data_unfiltered_data_fineTune.ipynb",
      "provenance": [],
      "collapsed_sections": []
    },
    "kernelspec": {
      "display_name": "Python 3",
      "name": "python3"
    },
    "language_info": {
      "name": "python"
    }
  },
  "cells": [
    {
      "cell_type": "code",
      "metadata": {
        "colab": {
          "base_uri": "https://localhost:8080/"
        },
        "id": "phlyFaiKW_jc",
        "outputId": "e41c7b27-3d3d-4d8a-f6aa-1212754e6a60"
      },
      "source": [
        "from google.colab import drive\n",
        "drive.mount('/content/drive')"
      ],
      "execution_count": 2,
      "outputs": [
        {
          "output_type": "stream",
          "text": [
            "Mounted at /content/drive\n"
          ],
          "name": "stdout"
        }
      ]
    },
    {
      "cell_type": "code",
      "metadata": {
        "colab": {
          "base_uri": "https://localhost:8080/"
        },
        "id": "90nBl6mR6Ht_",
        "outputId": "16cb0588-52e0-47bd-b6ef-cdb0f04455b8"
      },
      "source": [
        "!nvidia-smi\n",
        "!cat /proc/cpuinfo\n",
        "!rm -rf sample_data\n",
        "\n",
        "!git clone --recursive https://github.com/Microsoft/LightGBM.git\n",
        "!cd LightGBM && rm -rf build && mkdir build && cd build && cmake -DUSE_GPU=1 ../../LightGBM && make -j4 && cd ../python-package && python3 setup.py install --precompile --gpu;"
      ],
      "execution_count": 3,
      "outputs": [
        {
          "output_type": "stream",
          "text": [
            "Sat May  1 05:38:53 2021       \n",
            "+-----------------------------------------------------------------------------+\n",
            "| NVIDIA-SMI 465.19.01    Driver Version: 460.32.03    CUDA Version: 11.2     |\n",
            "|-------------------------------+----------------------+----------------------+\n",
            "| GPU  Name        Persistence-M| Bus-Id        Disp.A | Volatile Uncorr. ECC |\n",
            "| Fan  Temp  Perf  Pwr:Usage/Cap|         Memory-Usage | GPU-Util  Compute M. |\n",
            "|                               |                      |               MIG M. |\n",
            "|===============================+======================+======================|\n",
            "|   0  Tesla V100-SXM2...  Off  | 00000000:00:04.0 Off |                    0 |\n",
            "| N/A   35C    P0    25W / 300W |      0MiB / 16160MiB |      0%      Default |\n",
            "|                               |                      |                  N/A |\n",
            "+-------------------------------+----------------------+----------------------+\n",
            "                                                                               \n",
            "+-----------------------------------------------------------------------------+\n",
            "| Processes:                                                                  |\n",
            "|  GPU   GI   CI        PID   Type   Process name                  GPU Memory |\n",
            "|        ID   ID                                                   Usage      |\n",
            "|=============================================================================|\n",
            "|  No running processes found                                                 |\n",
            "+-----------------------------------------------------------------------------+\n",
            "processor\t: 0\n",
            "vendor_id\t: GenuineIntel\n",
            "cpu family\t: 6\n",
            "model\t\t: 85\n",
            "model name\t: Intel(R) Xeon(R) CPU @ 2.00GHz\n",
            "stepping\t: 3\n",
            "microcode\t: 0x1\n",
            "cpu MHz\t\t: 2000.146\n",
            "cache size\t: 39424 KB\n",
            "physical id\t: 0\n",
            "siblings\t: 2\n",
            "core id\t\t: 0\n",
            "cpu cores\t: 1\n",
            "apicid\t\t: 0\n",
            "initial apicid\t: 0\n",
            "fpu\t\t: yes\n",
            "fpu_exception\t: yes\n",
            "cpuid level\t: 13\n",
            "wp\t\t: yes\n",
            "flags\t\t: fpu vme de pse tsc msr pae mce cx8 apic sep mtrr pge mca cmov pat pse36 clflush mmx fxsr sse sse2 ss ht syscall nx pdpe1gb rdtscp lm constant_tsc rep_good nopl xtopology nonstop_tsc cpuid tsc_known_freq pni pclmulqdq ssse3 fma cx16 pcid sse4_1 sse4_2 x2apic movbe popcnt aes xsave avx f16c rdrand hypervisor lahf_lm abm 3dnowprefetch invpcid_single ssbd ibrs ibpb stibp fsgsbase tsc_adjust bmi1 hle avx2 smep bmi2 erms invpcid rtm mpx avx512f avx512dq rdseed adx smap clflushopt clwb avx512cd avx512bw avx512vl xsaveopt xsavec xgetbv1 xsaves arat md_clear arch_capabilities\n",
            "bugs\t\t: cpu_meltdown spectre_v1 spectre_v2 spec_store_bypass l1tf mds swapgs taa\n",
            "bogomips\t: 4000.29\n",
            "clflush size\t: 64\n",
            "cache_alignment\t: 64\n",
            "address sizes\t: 46 bits physical, 48 bits virtual\n",
            "power management:\n",
            "\n",
            "processor\t: 1\n",
            "vendor_id\t: GenuineIntel\n",
            "cpu family\t: 6\n",
            "model\t\t: 85\n",
            "model name\t: Intel(R) Xeon(R) CPU @ 2.00GHz\n",
            "stepping\t: 3\n",
            "microcode\t: 0x1\n",
            "cpu MHz\t\t: 2000.146\n",
            "cache size\t: 39424 KB\n",
            "physical id\t: 0\n",
            "siblings\t: 2\n",
            "core id\t\t: 0\n",
            "cpu cores\t: 1\n",
            "apicid\t\t: 1\n",
            "initial apicid\t: 1\n",
            "fpu\t\t: yes\n",
            "fpu_exception\t: yes\n",
            "cpuid level\t: 13\n",
            "wp\t\t: yes\n",
            "flags\t\t: fpu vme de pse tsc msr pae mce cx8 apic sep mtrr pge mca cmov pat pse36 clflush mmx fxsr sse sse2 ss ht syscall nx pdpe1gb rdtscp lm constant_tsc rep_good nopl xtopology nonstop_tsc cpuid tsc_known_freq pni pclmulqdq ssse3 fma cx16 pcid sse4_1 sse4_2 x2apic movbe popcnt aes xsave avx f16c rdrand hypervisor lahf_lm abm 3dnowprefetch invpcid_single ssbd ibrs ibpb stibp fsgsbase tsc_adjust bmi1 hle avx2 smep bmi2 erms invpcid rtm mpx avx512f avx512dq rdseed adx smap clflushopt clwb avx512cd avx512bw avx512vl xsaveopt xsavec xgetbv1 xsaves arat md_clear arch_capabilities\n",
            "bugs\t\t: cpu_meltdown spectre_v1 spectre_v2 spec_store_bypass l1tf mds swapgs taa\n",
            "bogomips\t: 4000.29\n",
            "clflush size\t: 64\n",
            "cache_alignment\t: 64\n",
            "address sizes\t: 46 bits physical, 48 bits virtual\n",
            "power management:\n",
            "\n",
            "Cloning into 'LightGBM'...\n",
            "remote: Enumerating objects: 21811, done.\u001b[K\n",
            "remote: Counting objects: 100% (348/348), done.\u001b[K\n",
            "remote: Compressing objects: 100% (162/162), done.\u001b[K\n",
            "remote: Total 21811 (delta 209), reused 273 (delta 181), pack-reused 21463\u001b[K\n",
            "Receiving objects: 100% (21811/21811), 17.17 MiB | 16.95 MiB/s, done.\n",
            "Resolving deltas: 100% (15926/15926), done.\n",
            "Submodule 'include/boost/compute' (https://github.com/boostorg/compute) registered for path 'external_libs/compute'\n",
            "Submodule 'eigen' (https://gitlab.com/libeigen/eigen.git) registered for path 'external_libs/eigen'\n",
            "Submodule 'external_libs/fast_double_parser' (https://github.com/lemire/fast_double_parser.git) registered for path 'external_libs/fast_double_parser'\n",
            "Submodule 'external_libs/fmt' (https://github.com/fmtlib/fmt.git) registered for path 'external_libs/fmt'\n",
            "Cloning into '/content/LightGBM/external_libs/compute'...\n",
            "remote: Enumerating objects: 21728, done.        \n",
            "remote: Total 21728 (delta 0), reused 0 (delta 0), pack-reused 21728        \n",
            "Receiving objects: 100% (21728/21728), 8.51 MiB | 2.21 MiB/s, done.\n",
            "Resolving deltas: 100% (17566/17566), done.\n",
            "Cloning into '/content/LightGBM/external_libs/eigen'...\n",
            "remote: Enumerating objects: 917, done.        \n",
            "remote: Counting objects: 100% (917/917), done.        \n",
            "remote: Compressing objects: 100% (338/338), done.        \n",
            "remote: Total 109551 (delta 710), reused 750 (delta 575), pack-reused 108634        \n",
            "Receiving objects: 100% (109551/109551), 101.73 MiB | 25.66 MiB/s, done.\n",
            "Resolving deltas: 100% (89977/89977), done.\n",
            "Cloning into '/content/LightGBM/external_libs/fast_double_parser'...\n",
            "remote: Enumerating objects: 675, done.        \n",
            "remote: Counting objects: 100% (175/175), done.        \n",
            "remote: Compressing objects: 100% (110/110), done.        \n",
            "remote: Total 675 (delta 86), reused 94 (delta 39), pack-reused 500        \n",
            "Receiving objects: 100% (675/675), 799.30 KiB | 5.09 MiB/s, done.\n",
            "Resolving deltas: 100% (340/340), done.\n",
            "Cloning into '/content/LightGBM/external_libs/fmt'...\n",
            "remote: Enumerating objects: 25317, done.        \n",
            "remote: Counting objects: 100% (489/489), done.        \n",
            "remote: Compressing objects: 100% (183/183), done.        \n",
            "remote: Total 25317 (delta 276), reused 402 (delta 252), pack-reused 24828        \n",
            "Receiving objects: 100% (25317/25317), 12.91 MiB | 23.99 MiB/s, done.\n",
            "Resolving deltas: 100% (17087/17087), done.\n",
            "Submodule path 'external_libs/compute': checked out '36c89134d4013b2e5e45bc55656a18bd6141995a'\n",
            "Submodule path 'external_libs/eigen': checked out '8ba1b0f41a7950dc3e1d4ed75859e36c73311235'\n",
            "Submodule path 'external_libs/fast_double_parser': checked out 'ace60646c02dc54c57f19d644e49a61e7e7758ec'\n",
            "Submodule 'benchmark/dependencies/abseil-cpp' (https://github.com/abseil/abseil-cpp.git) registered for path 'external_libs/fast_double_parser/benchmarks/dependencies/abseil-cpp'\n",
            "Submodule 'benchmark/dependencies/double-conversion' (https://github.com/google/double-conversion.git) registered for path 'external_libs/fast_double_parser/benchmarks/dependencies/double-conversion'\n",
            "Cloning into '/content/LightGBM/external_libs/fast_double_parser/benchmarks/dependencies/abseil-cpp'...\n",
            "remote: Enumerating objects: 14383, done.        \n",
            "remote: Counting objects: 100% (318/318), done.        \n",
            "remote: Compressing objects: 100% (201/201), done.        \n",
            "remote: Total 14383 (delta 167), reused 247 (delta 117), pack-reused 14065        \n",
            "Receiving objects: 100% (14383/14383), 9.50 MiB | 3.44 MiB/s, done.\n",
            "Resolving deltas: 100% (10908/10908), done.\n",
            "Cloning into '/content/LightGBM/external_libs/fast_double_parser/benchmarks/dependencies/double-conversion'...\n",
            "remote: Enumerating objects: 1220, done.        \n",
            "remote: Counting objects: 100% (64/64), done.        \n",
            "remote: Compressing objects: 100% (41/41), done.        \n",
            "remote: Total 1220 (delta 35), reused 40 (delta 23), pack-reused 1156        \n",
            "Receiving objects: 100% (1220/1220), 7.08 MiB | 10.91 MiB/s, done.\n",
            "Resolving deltas: 100% (807/807), done.\n",
            "Submodule path 'external_libs/fast_double_parser/benchmarks/dependencies/abseil-cpp': checked out 'd936052d32a5b7ca08b0199a6724724aea432309'\n",
            "Submodule path 'external_libs/fast_double_parser/benchmarks/dependencies/double-conversion': checked out 'f4cb2384efa55dee0e6652f8674b05763441ab09'\n",
            "Submodule path 'external_libs/fmt': checked out 'cc09f1a6798c085c325569ef466bcdcffdc266d4'\n",
            "-- The C compiler identification is GNU 7.5.0\n",
            "-- The CXX compiler identification is GNU 7.5.0\n",
            "-- Check for working C compiler: /usr/bin/cc\n",
            "-- Check for working C compiler: /usr/bin/cc -- works\n",
            "-- Detecting C compiler ABI info\n",
            "-- Detecting C compiler ABI info - done\n",
            "-- Detecting C compile features\n",
            "-- Detecting C compile features - done\n",
            "-- Check for working CXX compiler: /usr/bin/c++\n",
            "-- Check for working CXX compiler: /usr/bin/c++ -- works\n",
            "-- Detecting CXX compiler ABI info\n",
            "-- Detecting CXX compiler ABI info - done\n",
            "-- Detecting CXX compile features\n",
            "-- Detecting CXX compile features - done\n",
            "-- Found OpenMP_C: -fopenmp (found version \"4.5\") \n",
            "-- Found OpenMP_CXX: -fopenmp (found version \"4.5\") \n",
            "-- Found OpenMP: TRUE (found version \"4.5\")  \n",
            "-- Looking for CL_VERSION_2_2\n",
            "-- Looking for CL_VERSION_2_2 - found\n",
            "-- Found OpenCL: /usr/lib/x86_64-linux-gnu/libOpenCL.so (found version \"2.2\") \n",
            "-- OpenCL include directory: /usr/include\n",
            "-- Boost version: 1.65.1\n",
            "-- Found the following Boost libraries:\n",
            "--   filesystem\n",
            "--   system\n",
            "-- Performing Test MM_PREFETCH\n",
            "-- Performing Test MM_PREFETCH - Success\n",
            "-- Using _mm_prefetch\n",
            "-- Performing Test MM_MALLOC\n",
            "-- Performing Test MM_MALLOC - Success\n",
            "-- Using _mm_malloc\n",
            "-- Configuring done\n",
            "-- Generating done\n",
            "-- Build files have been written to: /content/LightGBM/build\n",
            "\u001b[35m\u001b[1mScanning dependencies of target _lightgbm\u001b[0m\n",
            "\u001b[35m\u001b[1mScanning dependencies of target lightgbm\u001b[0m\n",
            "[  1%] \u001b[32mBuilding CXX object CMakeFiles/lightgbm.dir/src/application/application.cpp.o\u001b[0m\n",
            "[  2%] \u001b[32mBuilding CXX object CMakeFiles/_lightgbm.dir/src/boosting/boosting.cpp.o\u001b[0m\n",
            "[  4%] \u001b[32mBuilding CXX object CMakeFiles/lightgbm.dir/src/main.cpp.o\u001b[0m\n",
            "[  5%] \u001b[32mBuilding CXX object CMakeFiles/_lightgbm.dir/src/boosting/gbdt.cpp.o\u001b[0m\n",
            "[  7%] \u001b[32mBuilding CXX object CMakeFiles/_lightgbm.dir/src/boosting/gbdt_model_text.cpp.o\u001b[0m\n",
            "[  8%] \u001b[32mBuilding CXX object CMakeFiles/lightgbm.dir/src/boosting/boosting.cpp.o\u001b[0m\n",
            "[ 10%] \u001b[32mBuilding CXX object CMakeFiles/_lightgbm.dir/src/boosting/gbdt_prediction.cpp.o\u001b[0m\n",
            "[ 11%] \u001b[32mBuilding CXX object CMakeFiles/_lightgbm.dir/src/boosting/prediction_early_stop.cpp.o\u001b[0m\n",
            "[ 13%] \u001b[32mBuilding CXX object CMakeFiles/_lightgbm.dir/src/io/bin.cpp.o\u001b[0m\n",
            "[ 14%] \u001b[32mBuilding CXX object CMakeFiles/_lightgbm.dir/src/io/config.cpp.o\u001b[0m\n",
            "[ 15%] \u001b[32mBuilding CXX object CMakeFiles/_lightgbm.dir/src/io/config_auto.cpp.o\u001b[0m\n",
            "[ 17%] \u001b[32mBuilding CXX object CMakeFiles/_lightgbm.dir/src/io/dataset.cpp.o\u001b[0m\n",
            "[ 18%] \u001b[32mBuilding CXX object CMakeFiles/lightgbm.dir/src/boosting/gbdt.cpp.o\u001b[0m\n",
            "[ 20%] \u001b[32mBuilding CXX object CMakeFiles/_lightgbm.dir/src/io/dataset_loader.cpp.o\u001b[0m\n",
            "[ 21%] \u001b[32mBuilding CXX object CMakeFiles/lightgbm.dir/src/boosting/gbdt_model_text.cpp.o\u001b[0m\n",
            "[ 23%] \u001b[32mBuilding CXX object CMakeFiles/lightgbm.dir/src/boosting/gbdt_prediction.cpp.o\u001b[0m\n",
            "[ 24%] \u001b[32mBuilding CXX object CMakeFiles/_lightgbm.dir/src/io/file_io.cpp.o\u001b[0m\n",
            "[ 26%] \u001b[32mBuilding CXX object CMakeFiles/_lightgbm.dir/src/io/json11.cpp.o\u001b[0m\n",
            "[ 27%] \u001b[32mBuilding CXX object CMakeFiles/lightgbm.dir/src/boosting/prediction_early_stop.cpp.o\u001b[0m\n",
            "[ 28%] \u001b[32mBuilding CXX object CMakeFiles/lightgbm.dir/src/io/bin.cpp.o\u001b[0m\n",
            "[ 30%] \u001b[32mBuilding CXX object CMakeFiles/_lightgbm.dir/src/io/metadata.cpp.o\u001b[0m\n",
            "[ 31%] \u001b[32mBuilding CXX object CMakeFiles/lightgbm.dir/src/io/config.cpp.o\u001b[0m\n",
            "[ 33%] \u001b[32mBuilding CXX object CMakeFiles/_lightgbm.dir/src/io/parser.cpp.o\u001b[0m\n",
            "[ 34%] \u001b[32mBuilding CXX object CMakeFiles/_lightgbm.dir/src/io/train_share_states.cpp.o\u001b[0m\n",
            "[ 36%] \u001b[32mBuilding CXX object CMakeFiles/_lightgbm.dir/src/io/tree.cpp.o\u001b[0m\n",
            "[ 37%] \u001b[32mBuilding CXX object CMakeFiles/lightgbm.dir/src/io/config_auto.cpp.o\u001b[0m\n",
            "[ 39%] \u001b[32mBuilding CXX object CMakeFiles/_lightgbm.dir/src/metric/dcg_calculator.cpp.o\u001b[0m\n",
            "[ 40%] \u001b[32mBuilding CXX object CMakeFiles/_lightgbm.dir/src/metric/metric.cpp.o\u001b[0m\n",
            "[ 42%] \u001b[32mBuilding CXX object CMakeFiles/lightgbm.dir/src/io/dataset.cpp.o\u001b[0m\n",
            "[ 43%] \u001b[32mBuilding CXX object CMakeFiles/_lightgbm.dir/src/network/ifaddrs_patch.cpp.o\u001b[0m\n",
            "[ 44%] \u001b[32mBuilding CXX object CMakeFiles/_lightgbm.dir/src/network/linker_topo.cpp.o\u001b[0m\n",
            "[ 46%] \u001b[32mBuilding CXX object CMakeFiles/_lightgbm.dir/src/network/linkers_mpi.cpp.o\u001b[0m\n",
            "[ 47%] \u001b[32mBuilding CXX object CMakeFiles/_lightgbm.dir/src/network/linkers_socket.cpp.o\u001b[0m\n",
            "[ 49%] \u001b[32mBuilding CXX object CMakeFiles/_lightgbm.dir/src/network/network.cpp.o\u001b[0m\n",
            "[ 50%] \u001b[32mBuilding CXX object CMakeFiles/lightgbm.dir/src/io/dataset_loader.cpp.o\u001b[0m\n",
            "[ 52%] \u001b[32mBuilding CXX object CMakeFiles/lightgbm.dir/src/io/file_io.cpp.o\u001b[0m\n",
            "[ 53%] \u001b[32mBuilding CXX object CMakeFiles/lightgbm.dir/src/io/json11.cpp.o\u001b[0m\n",
            "[ 55%] \u001b[32mBuilding CXX object CMakeFiles/_lightgbm.dir/src/objective/objective_function.cpp.o\u001b[0m\n",
            "[ 56%] \u001b[32mBuilding CXX object CMakeFiles/_lightgbm.dir/src/treelearner/cuda_tree_learner.cpp.o\u001b[0m\n",
            "[ 57%] \u001b[32mBuilding CXX object CMakeFiles/_lightgbm.dir/src/treelearner/data_parallel_tree_learner.cpp.o\u001b[0m\n",
            "[ 59%] \u001b[32mBuilding CXX object CMakeFiles/lightgbm.dir/src/io/metadata.cpp.o\u001b[0m\n",
            "[ 60%] \u001b[32mBuilding CXX object CMakeFiles/lightgbm.dir/src/io/parser.cpp.o\u001b[0m\n",
            "[ 62%] \u001b[32mBuilding CXX object CMakeFiles/lightgbm.dir/src/io/train_share_states.cpp.o\u001b[0m\n",
            "[ 63%] \u001b[32mBuilding CXX object CMakeFiles/lightgbm.dir/src/io/tree.cpp.o\u001b[0m\n",
            "[ 65%] \u001b[32mBuilding CXX object CMakeFiles/lightgbm.dir/src/metric/dcg_calculator.cpp.o\u001b[0m\n",
            "[ 66%] \u001b[32mBuilding CXX object CMakeFiles/_lightgbm.dir/src/treelearner/feature_parallel_tree_learner.cpp.o\u001b[0m\n",
            "[ 68%] \u001b[32mBuilding CXX object CMakeFiles/lightgbm.dir/src/metric/metric.cpp.o\u001b[0m\n",
            "[ 69%] \u001b[32mBuilding CXX object CMakeFiles/_lightgbm.dir/src/treelearner/gpu_tree_learner.cpp.o\u001b[0m\n",
            "[ 71%] \u001b[32mBuilding CXX object CMakeFiles/_lightgbm.dir/src/treelearner/linear_tree_learner.cpp.o\u001b[0m\n",
            "[ 72%] \u001b[32mBuilding CXX object CMakeFiles/lightgbm.dir/src/network/ifaddrs_patch.cpp.o\u001b[0m\n",
            "[ 73%] \u001b[32mBuilding CXX object CMakeFiles/lightgbm.dir/src/network/linker_topo.cpp.o\u001b[0m\n",
            "[ 75%] \u001b[32mBuilding CXX object CMakeFiles/lightgbm.dir/src/network/linkers_mpi.cpp.o\u001b[0m\n",
            "[ 76%] \u001b[32mBuilding CXX object CMakeFiles/lightgbm.dir/src/network/linkers_socket.cpp.o\u001b[0m\n",
            "[ 78%] \u001b[32mBuilding CXX object CMakeFiles/lightgbm.dir/src/network/network.cpp.o\u001b[0m\n",
            "[ 79%] \u001b[32mBuilding CXX object CMakeFiles/lightgbm.dir/src/objective/objective_function.cpp.o\u001b[0m\n",
            "[ 81%] \u001b[32mBuilding CXX object CMakeFiles/lightgbm.dir/src/treelearner/cuda_tree_learner.cpp.o\u001b[0m\n",
            "[ 82%] \u001b[32mBuilding CXX object CMakeFiles/lightgbm.dir/src/treelearner/data_parallel_tree_learner.cpp.o\u001b[0m\n",
            "[ 84%] \u001b[32mBuilding CXX object CMakeFiles/_lightgbm.dir/src/treelearner/serial_tree_learner.cpp.o\u001b[0m\n",
            "[ 85%] \u001b[32mBuilding CXX object CMakeFiles/lightgbm.dir/src/treelearner/feature_parallel_tree_learner.cpp.o\u001b[0m\n",
            "[ 86%] \u001b[32mBuilding CXX object CMakeFiles/_lightgbm.dir/src/treelearner/tree_learner.cpp.o\u001b[0m\n",
            "[ 88%] \u001b[32mBuilding CXX object CMakeFiles/lightgbm.dir/src/treelearner/gpu_tree_learner.cpp.o\u001b[0m\n",
            "[ 89%] \u001b[32mBuilding CXX object CMakeFiles/_lightgbm.dir/src/treelearner/voting_parallel_tree_learner.cpp.o\u001b[0m\n",
            "[ 91%] \u001b[32mBuilding CXX object CMakeFiles/lightgbm.dir/src/treelearner/linear_tree_learner.cpp.o\u001b[0m\n",
            "[ 92%] \u001b[32mBuilding CXX object CMakeFiles/lightgbm.dir/src/treelearner/serial_tree_learner.cpp.o\u001b[0m\n",
            "[ 94%] \u001b[32mBuilding CXX object CMakeFiles/lightgbm.dir/src/treelearner/tree_learner.cpp.o\u001b[0m\n",
            "[ 95%] \u001b[32mBuilding CXX object CMakeFiles/_lightgbm.dir/src/c_api.cpp.o\u001b[0m\n",
            "[ 97%] \u001b[32mBuilding CXX object CMakeFiles/lightgbm.dir/src/treelearner/voting_parallel_tree_learner.cpp.o\u001b[0m\n",
            "[ 98%] \u001b[32m\u001b[1mLinking CXX shared library ../lib_lightgbm.so\u001b[0m\n",
            "[ 98%] Built target _lightgbm\n",
            "[100%] \u001b[32m\u001b[1mLinking CXX executable ../lightgbm\u001b[0m\n",
            "[100%] Built target lightgbm\n",
            "running install\n",
            "running build\n",
            "running build_py\n",
            "INFO:root:Generating grammar tables from /usr/lib/python3.7/lib2to3/Grammar.txt\n",
            "INFO:root:Generating grammar tables from /usr/lib/python3.7/lib2to3/PatternGrammar.txt\n",
            "creating build\n",
            "creating build/lib\n",
            "creating build/lib/lightgbm\n",
            "copying lightgbm/libpath.py -> build/lib/lightgbm\n",
            "copying lightgbm/engine.py -> build/lib/lightgbm\n",
            "copying lightgbm/sklearn.py -> build/lib/lightgbm\n",
            "copying lightgbm/compat.py -> build/lib/lightgbm\n",
            "copying lightgbm/callback.py -> build/lib/lightgbm\n",
            "copying lightgbm/dask.py -> build/lib/lightgbm\n",
            "copying lightgbm/basic.py -> build/lib/lightgbm\n",
            "copying lightgbm/__init__.py -> build/lib/lightgbm\n",
            "copying lightgbm/plotting.py -> build/lib/lightgbm\n",
            "running egg_info\n",
            "creating lightgbm.egg-info\n",
            "writing lightgbm.egg-info/PKG-INFO\n",
            "writing dependency_links to lightgbm.egg-info/dependency_links.txt\n",
            "writing requirements to lightgbm.egg-info/requires.txt\n",
            "writing top-level names to lightgbm.egg-info/top_level.txt\n",
            "writing manifest file 'lightgbm.egg-info/SOURCES.txt'\n",
            "reading manifest template 'MANIFEST.in'\n",
            "no previously-included directories found matching 'build'\n",
            "warning: no files found matching 'LICENSE'\n",
            "warning: no files found matching '*.txt'\n",
            "warning: no files found matching '*.so' under directory 'lightgbm'\n",
            "warning: no files found matching 'compile/CMakeLists.txt'\n",
            "warning: no files found matching 'compile/cmake/IntegratedOpenCL.cmake'\n",
            "warning: no files found matching '*.so' under directory 'compile'\n",
            "warning: no files found matching '*.dll' under directory 'compile/Release'\n",
            "warning: no files found matching 'compile/external_libs/compute/CMakeLists.txt'\n",
            "warning: no files found matching '*' under directory 'compile/external_libs/compute/cmake'\n",
            "warning: no files found matching '*' under directory 'compile/external_libs/compute/include'\n",
            "warning: no files found matching '*' under directory 'compile/external_libs/compute/meta'\n",
            "warning: no files found matching 'compile/external_libs/eigen/CMakeLists.txt'\n",
            "warning: no files found matching 'compile/external_libs/eigen/Eigen/Cholesky'\n",
            "warning: no files found matching 'compile/external_libs/eigen/Eigen/Core'\n",
            "warning: no files found matching 'compile/external_libs/eigen/Eigen/Dense'\n",
            "warning: no files found matching 'compile/external_libs/eigen/Eigen/Eigenvalues'\n",
            "warning: no files found matching 'compile/external_libs/eigen/Eigen/Geometry'\n",
            "warning: no files found matching 'compile/external_libs/eigen/Eigen/Householder'\n",
            "warning: no files found matching 'compile/external_libs/eigen/Eigen/Jacobi'\n",
            "warning: no files found matching 'compile/external_libs/eigen/Eigen/LU'\n",
            "warning: no files found matching 'compile/external_libs/eigen/Eigen/QR'\n",
            "warning: no files found matching 'compile/external_libs/eigen/Eigen/SVD'\n",
            "warning: no files found matching '*' under directory 'compile/external_libs/eigen/Eigen/src/Cholesky'\n",
            "warning: no files found matching '*' under directory 'compile/external_libs/eigen/Eigen/src/Core'\n",
            "warning: no files found matching '*' under directory 'compile/external_libs/eigen/Eigen/src/Eigenvalues'\n",
            "warning: no files found matching '*' under directory 'compile/external_libs/eigen/Eigen/src/Geometry'\n",
            "warning: no files found matching '*' under directory 'compile/external_libs/eigen/Eigen/src/Householder'\n",
            "warning: no files found matching '*' under directory 'compile/external_libs/eigen/Eigen/src/Jacobi'\n",
            "warning: no files found matching '*' under directory 'compile/external_libs/eigen/Eigen/src/LU'\n",
            "warning: no files found matching '*' under directory 'compile/external_libs/eigen/Eigen/src/misc'\n",
            "warning: no files found matching '*' under directory 'compile/external_libs/eigen/Eigen/src/plugins'\n",
            "warning: no files found matching '*' under directory 'compile/external_libs/eigen/Eigen/src/QR'\n",
            "warning: no files found matching '*' under directory 'compile/external_libs/eigen/Eigen/src/SVD'\n",
            "warning: no files found matching 'compile/external_libs/fast_double_parser/CMakeLists.txt'\n",
            "warning: no files found matching 'compile/external_libs/fast_double_parser/LICENSE'\n",
            "warning: no files found matching 'compile/external_libs/fast_double_parser/LICENSE.BSL'\n",
            "warning: no files found matching '*' under directory 'compile/external_libs/fast_double_parser/include'\n",
            "warning: no files found matching 'compile/external_libs/fmt/CMakeLists.txt'\n",
            "warning: no files found matching 'compile/external_libs/fmt/LICENSE.rst'\n",
            "warning: no files found matching '*' under directory 'compile/external_libs/fmt/include'\n",
            "warning: no files found matching '*' under directory 'compile/include'\n",
            "warning: no files found matching '*' under directory 'compile/src'\n",
            "warning: no files found matching 'LightGBM.sln' under directory 'compile/windows'\n",
            "warning: no files found matching 'LightGBM.vcxproj' under directory 'compile/windows'\n",
            "warning: no files found matching '*.dll' under directory 'compile/windows/x64/DLL'\n",
            "warning: no previously-included files matching '*.py[co]' found anywhere in distribution\n",
            "warning: no previously-included files found matching 'compile/external_libs/compute/.git'\n",
            "writing manifest file 'lightgbm.egg-info/SOURCES.txt'\n",
            "copying lightgbm/VERSION.txt -> build/lib/lightgbm\n",
            "running install_lib\n",
            "copying build/lib/lightgbm/libpath.py -> /usr/local/lib/python3.7/dist-packages/lightgbm\n",
            "copying build/lib/lightgbm/VERSION.txt -> /usr/local/lib/python3.7/dist-packages/lightgbm\n",
            "copying build/lib/lightgbm/engine.py -> /usr/local/lib/python3.7/dist-packages/lightgbm\n",
            "copying build/lib/lightgbm/sklearn.py -> /usr/local/lib/python3.7/dist-packages/lightgbm\n",
            "copying build/lib/lightgbm/compat.py -> /usr/local/lib/python3.7/dist-packages/lightgbm\n",
            "copying build/lib/lightgbm/callback.py -> /usr/local/lib/python3.7/dist-packages/lightgbm\n",
            "copying build/lib/lightgbm/dask.py -> /usr/local/lib/python3.7/dist-packages/lightgbm\n",
            "copying build/lib/lightgbm/basic.py -> /usr/local/lib/python3.7/dist-packages/lightgbm\n",
            "copying build/lib/lightgbm/__init__.py -> /usr/local/lib/python3.7/dist-packages/lightgbm\n",
            "copying build/lib/lightgbm/plotting.py -> /usr/local/lib/python3.7/dist-packages/lightgbm\n",
            "INFO:LightGBM:Installing lib_lightgbm from: ['../lib_lightgbm.so']\n",
            "copying ../lib_lightgbm.so -> /usr/local/lib/python3.7/dist-packages/lightgbm\n",
            "byte-compiling /usr/local/lib/python3.7/dist-packages/lightgbm/libpath.py to libpath.cpython-37.pyc\n",
            "byte-compiling /usr/local/lib/python3.7/dist-packages/lightgbm/engine.py to engine.cpython-37.pyc\n",
            "byte-compiling /usr/local/lib/python3.7/dist-packages/lightgbm/sklearn.py to sklearn.cpython-37.pyc\n",
            "byte-compiling /usr/local/lib/python3.7/dist-packages/lightgbm/compat.py to compat.cpython-37.pyc\n",
            "byte-compiling /usr/local/lib/python3.7/dist-packages/lightgbm/callback.py to callback.cpython-37.pyc\n",
            "byte-compiling /usr/local/lib/python3.7/dist-packages/lightgbm/dask.py to dask.cpython-37.pyc\n",
            "byte-compiling /usr/local/lib/python3.7/dist-packages/lightgbm/basic.py to basic.cpython-37.pyc\n",
            "byte-compiling /usr/local/lib/python3.7/dist-packages/lightgbm/__init__.py to __init__.cpython-37.pyc\n",
            "byte-compiling /usr/local/lib/python3.7/dist-packages/lightgbm/plotting.py to plotting.cpython-37.pyc\n",
            "running install_egg_info\n",
            "Copying lightgbm.egg-info to /usr/local/lib/python3.7/dist-packages/lightgbm-3.2.1.99-py3.7.egg-info\n",
            "running install_scripts\n"
          ],
          "name": "stdout"
        }
      ]
    },
    {
      "cell_type": "code",
      "metadata": {
        "colab": {
          "base_uri": "https://localhost:8080/"
        },
        "id": "KQxFwu_tui_l",
        "outputId": "951f6876-727f-4e07-b344-be6ae49056e2"
      },
      "source": [
        "!cp /content/drive/MyDrive/0403.zip 0403.zip\n",
        "!unzip /content/drive/MyDrive/0403.zip"
      ],
      "execution_count": 4,
      "outputs": [
        {
          "output_type": "stream",
          "text": [
            "Archive:  /content/drive/MyDrive/0403.zip\n",
            "  inflating: 0403/5cd56b6be2acfd2d33b59d1f_test.csv  \n",
            "  inflating: 0403/5cd56b6ae2acfd2d33b59c90_test.csv  \n",
            "  inflating: 0403/5cd56b6be2acfd2d33b59d1f_train.csv  \n",
            "  inflating: 0403/5cd56b6ee2acfd2d33b5a247_test.csv  \n",
            "  inflating: 0403/5cd56b7de2acfd2d33b5c14b_train.csv  \n",
            "  inflating: 0403/5cd56b6ae2acfd2d33b59c90_train.csv  \n",
            "  inflating: 0403/5cd56b7de2acfd2d33b5c14b_test.csv  \n",
            "  inflating: 0403/5cd56b6ee2acfd2d33b5a247_train.csv  \n",
            "  inflating: 0403/5cd56b6fe2acfd2d33b5a386_test.csv  \n",
            "  inflating: 0403/5cd56b6fe2acfd2d33b5a386_train.csv  \n",
            "  inflating: 0403/5cd56b6ae2acfd2d33b59ccc_train.csv  \n",
            "  inflating: 0403/5cd56b5ae2acfd2d33b58549_test.csv  \n",
            "  inflating: 0403/5cd56b5ae2acfd2d33b58546_train.csv  \n",
            "  inflating: 0403/5cd56b6ae2acfd2d33b59ccc_test.csv  \n",
            "  inflating: 0403/5cd56b5ae2acfd2d33b58546_test.csv  \n",
            "  inflating: 0403/5d27099f03f801723c32511d_test.csv  \n",
            "  inflating: 0403/5cd56b5ae2acfd2d33b58549_train.csv  \n",
            "  inflating: 0403/5da1383b4db8ce0c98bc11ab_test.csv  \n",
            "  inflating: 0403/5d27099f03f801723c32511d_train.csv  \n",
            "  inflating: 0403/5da1382d4db8ce0c98bbe92e_test.csv  \n",
            "  inflating: 0403/5d2709d403f801723c32bd39_test.csv  \n",
            "  inflating: 0403/5cd56b5ae2acfd2d33b58548_test.csv  \n",
            "  inflating: 0403/5cd56b5ae2acfd2d33b5854a_test.csv  \n",
            "  inflating: 0403/5d27096c03f801723c31e5e0_test.csv  \n",
            "  inflating: 0403/5cd56b5ae2acfd2d33b58548_train.csv  \n",
            "  inflating: 0403/5da958dd46f8266d0737457b_test.csv  \n",
            "  inflating: 0403/5d27096c03f801723c31e5e0_train.csv  \n",
            "  inflating: 0403/5cd56b5ae2acfd2d33b58544_test.csv  \n",
            "  inflating: 0403/5d2709d403f801723c32bd39_train.csv  \n",
            "  inflating: 0403/5d2709c303f801723c3299ee_test.csv  \n",
            "  inflating: 0403/5d27097f03f801723c320d97_test.csv  \n",
            "  inflating: 0403/5d27097f03f801723c320d97_train.csv  \n",
            "  inflating: 0403/5d2709a003f801723c3251bf_train.csv  \n",
            "  inflating: 0403/5cd56b5ae2acfd2d33b5854a_train.csv  \n",
            "  inflating: 0403/5d2709a003f801723c3251bf_test.csv  \n",
            "  inflating: 0403/5da138b74db8ce0c98bd4774_test.csv  \n",
            "  inflating: 0403/5d2709b303f801723c327472_test.csv  \n",
            "  inflating: 0403/5d2709bb03f801723c32852c_test.csv  \n",
            "  inflating: 0403/5cd56b5ae2acfd2d33b58544_train.csv  \n",
            "  inflating: 0403/5da1383b4db8ce0c98bc11ab_train.csv  \n",
            "  inflating: 0403/5cd56b6ae2acfd2d33b59ccb_test.csv  \n",
            "  inflating: 0403/5d2709c303f801723c3299ee_train.csv  \n",
            "  inflating: 0403/5d2709b303f801723c327472_train.csv  \n",
            "  inflating: 0403/5d27075f03f801723c2e360f_test.csv  \n",
            "  inflating: 0403/5da958dd46f8266d0737457b_train.csv  \n",
            "  inflating: 0403/5da138b74db8ce0c98bd4774_train.csv  \n",
            "  inflating: 0403/5da1382d4db8ce0c98bbe92e_train.csv  \n",
            "  inflating: 0403/5d2709bb03f801723c32852c_train.csv  \n",
            "  inflating: 0403/5cd56b6ae2acfd2d33b59ccb_train.csv  \n",
            "  inflating: 0403/5d27075f03f801723c2e360f_train.csv  \n",
            "  inflating: 0403/5da1382d4db8ce0c98bbe92e_test.xlsx  \n"
          ],
          "name": "stdout"
        }
      ]
    },
    {
      "cell_type": "code",
      "metadata": {
        "id": "bFKsnitz-hOx",
        "colab": {
          "base_uri": "https://localhost:8080/"
        },
        "outputId": "e79cede6-11b8-412b-d13a-e31d931bc04e"
      },
      "source": [
        "import numpy as np\n",
        "import pandas as pd\n",
        "import scipy.stats as stats\n",
        "from pathlib import Path\n",
        "import glob\n",
        "\n",
        "from sklearn.model_selection import KFold\n",
        "import lightgbm as lgb\n",
        "\n",
        "import psutil\n",
        "import random\n",
        "import os\n",
        "import time\n",
        "import sys\n",
        "import math\n",
        "from contextlib import contextmanager\n",
        "\n",
        "\n",
        "N_SPLITS = 10\n",
        "SEED = 42\n",
        "\n",
        "@contextmanager\n",
        "def timer(name: str):\n",
        "    t0 = time.time()\n",
        "    p = psutil.Process(os.getpid())\n",
        "    m0 = p.memory_info()[0] / 2. ** 30\n",
        "    try:\n",
        "        yield\n",
        "    finally:\n",
        "        m1 = p.memory_info()[0] / 2. ** 30\n",
        "        delta = m1 - m0\n",
        "        sign = '+' if delta >= 0 else '-'\n",
        "        delta = math.fabs(delta)\n",
        "        print(f\"[{m1:.1f}GB({sign}{delta:.1f}GB): {time.time() - t0:.3f}sec] {name}\", file=sys.stderr)\n",
        "\n",
        "\n",
        "def set_seed(seed=42):\n",
        "    random.seed(seed)\n",
        "    os.environ[\"PYTHONHASHSEED\"] = str(seed)\n",
        "    np.random.seed(seed)\n",
        "    \n",
        "def comp_metric(xhat, yhat, fhat, x, y, f):\n",
        "    intermediate = np.sqrt(np.power(xhat-x, 2) + np.power(yhat-y, 2)) + 15 * np.abs(fhat-f)\n",
        "    return intermediate.sum()/xhat.shape[0]\n",
        "\n",
        "\n",
        "\n",
        "\n",
        "\n",
        "set_seed(SEED)\n",
        "\n",
        "feature_dir = './*/'\n",
        "train_files = sorted(glob.glob(os.path.join(feature_dir, '*_train.csv')))\n",
        "test_files = sorted(glob.glob(os.path.join(feature_dir, '*_test.csv')))\n",
        "\n",
        "#parameters for the three LightGBM models\n",
        "lgb_params = {'objective': 'root_mean_squared_error',\n",
        "              'boosting_type': 'gbdt',\n",
        "              'n_estimators': 50000,\n",
        "              'learning_rate': 0.05,\n",
        "              'num_leaves': 90,\n",
        "              'device': 'gpu',\n",
        "              'colsample_bytree': 0.4,\n",
        "              'subsample': 0.6,\n",
        "              'subsample_freq': 2,\n",
        "              'bagging_seed': SEED,\n",
        "              'reg_alpha': 2,\n",
        "              'reg_lambda': 2,\n",
        "              'random_state': SEED,\n",
        "              'n_jobs': -1\n",
        "              }\n",
        "\n",
        "lgb_f_params = {'objective': 'multiclass',\n",
        "                'boosting_type': 'gbdt',\n",
        "                'n_estimators': 50000,\n",
        "                'learning_rate': 0.05,\n",
        "                'num_leaves': 90,\n",
        "                'device': 'gpu',\n",
        "                'colsample_bytree': 0.4,\n",
        "                'subsample': 0.6,\n",
        "                'subsample_freq': 2,\n",
        "                'bagging_seed': SEED,\n",
        "                'reg_alpha': 10,\n",
        "                'reg_lambda': 2,\n",
        "                'random_state': SEED,\n",
        "                'n_jobs': -1\n",
        "                }"
      ],
      "execution_count": 5,
      "outputs": [
        {
          "output_type": "stream",
          "text": [
            "['./0403/5cd56b5ae2acfd2d33b58544_train.csv', './0403/5cd56b5ae2acfd2d33b58546_train.csv', './0403/5cd56b5ae2acfd2d33b58548_train.csv', './0403/5cd56b5ae2acfd2d33b58549_train.csv', './0403/5cd56b5ae2acfd2d33b5854a_train.csv', './0403/5cd56b6ae2acfd2d33b59c90_train.csv', './0403/5cd56b6ae2acfd2d33b59ccb_train.csv', './0403/5cd56b6ae2acfd2d33b59ccc_train.csv', './0403/5cd56b6be2acfd2d33b59d1f_train.csv', './0403/5cd56b6ee2acfd2d33b5a247_train.csv', './0403/5cd56b6fe2acfd2d33b5a386_train.csv', './0403/5cd56b7de2acfd2d33b5c14b_train.csv', './0403/5d27075f03f801723c2e360f_train.csv', './0403/5d27096c03f801723c31e5e0_train.csv', './0403/5d27097f03f801723c320d97_train.csv', './0403/5d27099f03f801723c32511d_train.csv', './0403/5d2709a003f801723c3251bf_train.csv', './0403/5d2709b303f801723c327472_train.csv', './0403/5d2709bb03f801723c32852c_train.csv', './0403/5d2709c303f801723c3299ee_train.csv', './0403/5d2709d403f801723c32bd39_train.csv', './0403/5da1382d4db8ce0c98bbe92e_train.csv', './0403/5da1383b4db8ce0c98bc11ab_train.csv', './0403/5da138b74db8ce0c98bd4774_train.csv', './0403/5da958dd46f8266d0737457b_train.csv']\n"
          ],
          "name": "stdout"
        }
      ]
    },
    {
      "cell_type": "markdown",
      "metadata": {
        "id": "5aHThFmXqdWh"
      },
      "source": [
        "# Calculate all data"
      ]
    },
    {
      "cell_type": "code",
      "metadata": {
        "id": "fU_ag5yp_qEw",
        "colab": {
          "base_uri": "https://localhost:8080/"
        },
        "outputId": "80debd3b-28f5-467f-ba6d-2ea62bc9274e"
      },
      "source": [
        "from sklearn.metrics import mean_squared_error\n",
        "\n",
        "score_df = pd.DataFrame()\n",
        "oof = list()\n",
        "predictions = list()\n",
        "for n_files, file in enumerate(train_files):\n",
        "    data = pd.read_csv(file, index_col=0)\n",
        "    \n",
        "    test_data = pd.read_csv(test_files[n_files], index_col=0)\n",
        "\n",
        "    oof_x, oof_y, oof_f = np.zeros(data.shape[0]), np.zeros(data.shape[0]), np.zeros(data.shape[0])\n",
        "    # oof_x, oof_y, oof_f is the np.zeros to store X, Y and Floor result\n",
        "    preds_x, preds_y = 0, 0\n",
        "    preds_f_arr = np.zeros((test_data.shape[0], N_SPLITS))\n",
        "    print(\"Starting to train: \", os.path.basename(file))\n",
        "    kf = KFold(n_splits=N_SPLITS, shuffle=True, random_state=SEED)\n",
        "    for fold, (trn_idx, val_idx) in enumerate(kf.split(data.iloc[:, :-4])):\n",
        "        X_train = data.iloc[trn_idx, :-5] # All wifi signal info\n",
        "        y_trainx = data.iloc[trn_idx, -5] # the location X to be predicted\n",
        "        y_trainy = data.iloc[trn_idx, -4] # the location Y to be predicted\n",
        "        y_trainf = data.iloc[trn_idx, -3] # the location's floor\n",
        "\n",
        "        X_valid = data.iloc[val_idx, :-5] # All wifi signal info in KFold validation dataset\n",
        "        y_validx = data.iloc[val_idx, -5] # the location X to be predicted in KFold validation dataset\n",
        "        y_validy = data.iloc[val_idx, -4] # the location Y to be predicted in KFold validation dataset\n",
        "        y_validf = data.iloc[val_idx, -3] # the location's floor in KFold validation dataset\n",
        "\n",
        "        modelx = lgb.LGBMRegressor(**lgb_params) #Model selected, which is LightGBM\n",
        "        with timer(\"fit X\"):\n",
        "            modelx.fit(X_train, y_trainx,\n",
        "                       eval_set=[(X_valid, y_validx)],\n",
        "                       eval_metric='rmse',\n",
        "                       verbose=False,\n",
        "                       early_stopping_rounds=20\n",
        "                       ) #Model 1, used to predit X location only\n",
        "\n",
        "        modely = lgb.LGBMRegressor(**lgb_params)\n",
        "        with timer(\"fit Y\"):\n",
        "            modely.fit(X_train, y_trainy,\n",
        "                       eval_set=[(X_valid, y_validy)],\n",
        "                       eval_metric='rmse',\n",
        "                       verbose=False,\n",
        "                       early_stopping_rounds=20\n",
        "                       ) #Model 2, used to predit Y location only\n",
        "\n",
        "        modelf = lgb.LGBMClassifier(**lgb_f_params)\n",
        "        with timer(\"fit F\"):\n",
        "            modelf.fit(X_train, y_trainf,\n",
        "                       eval_set=[(X_valid, y_validf)],\n",
        "                       eval_metric='multi_logloss',\n",
        "                       verbose=False,\n",
        "                       early_stopping_rounds=20\n",
        "                       ) #Model 3, used to predit Floor location only\n",
        "\n",
        "        oof_x[val_idx] = modelx.predict(X_valid)\n",
        "        oof_y[val_idx] = modely.predict(X_valid)\n",
        "        oof_f[val_idx] = modelf.predict(X_valid).astype(int)\n",
        "\n",
        "        preds_x += modelx.predict(test_data.iloc[:, :-5]) / N_SPLITS \n",
        "        #Average the result of each folds, divide every result by n_splits, and add them together\n",
        "        preds_y += modely.predict(test_data.iloc[:, :-5]) / N_SPLITS\n",
        "        #Average the result of each folds, divide every result by n_splits, and add them together\n",
        "        preds_f_arr[:, fold] = modelf.predict(test_data.iloc[:, :-5]).astype(int)\n",
        "        #The floor is dealt differently,   \n",
        "\n",
        "        score = comp_metric(oof_x[val_idx], oof_y[val_idx], oof_f[val_idx],\n",
        "                            y_validx.to_numpy(), y_validy.to_numpy(), y_validf.to_numpy())\n",
        "        # the error in current KFold\n",
        "        print(f\"fold {fold}: mean position error {score}\")\n",
        "\n",
        "\n",
        "    # Evaluate mean position error of each file\n",
        "    print(\"*+\"*40)\n",
        "    print(f\"file #{n_files}, shape={data.shape}, name={os.path.basename(file)}\")\n",
        "    score = comp_metric(oof_x, oof_y, oof_f,\n",
        "                        data.iloc[:, -5].to_numpy(), data.iloc[:, -4].to_numpy(), data.iloc[:, -3].to_numpy())\n",
        "    #Calculate the score/error\n",
        "    oof.append(score)\n",
        "    print(f\"mean position error {score}\")\n",
        "    print(\"*+\"*40)\n",
        "\n",
        "    preds_f_mode = stats.mode(preds_f_arr, axis=1)\n",
        "    preds_f = preds_f_mode[0].astype(int).reshape(-1)\n",
        "    #The floor is dealt differently, vote to choose the most appeared floor number in all folds\n",
        "    test_preds = pd.DataFrame(np.stack((preds_f, preds_x, preds_y))).T\n",
        "    ######\n",
        "    #Stack all the predictions in one testing file together, and transpose to vertical\n",
        "    predictions.append(test_preds)\n",
        "    # print(test_preds)\n",
        "\n",
        "    column_num = len(test_data.columns)\n",
        "    test_data = test_data.reset_index()\n",
        "\n",
        "    test_data.insert(column_num, 'pred_x', test_preds[1], True)\n",
        "    test_data.insert(column_num+1, 'pred_y', test_preds[2], True)\n",
        "    test_data.insert(column_num+2, 'pred_f', test_preds[0], True) \n",
        "\n",
        "    building_name = file[7:-10] + '.csv'\n",
        "\n",
        "    test_data.to_csv(building_name)\n",
        "\n",
        "print(\"*+\"*40)\n"
      ],
      "execution_count": 7,
      "outputs": [
        {
          "output_type": "stream",
          "text": [
            "Starting to train:  5cd56b5ae2acfd2d33b58544_train.csv\n"
          ],
          "name": "stdout"
        },
        {
          "output_type": "stream",
          "text": [
            "[0.3GB(+0.1GB): 7.057sec] fit X\n",
            "[0.3GB(+0.0GB): 2.096sec] fit Y\n",
            "[0.3GB(+0.0GB): 7.779sec] fit F\n"
          ],
          "name": "stderr"
        },
        {
          "output_type": "stream",
          "text": [
            "fold 0: mean position error 2.6661671129425537\n"
          ],
          "name": "stdout"
        },
        {
          "output_type": "stream",
          "text": [
            "[0.3GB(+0.0GB): 1.666sec] fit X\n",
            "[0.3GB(+0.0GB): 2.859sec] fit Y\n",
            "[0.3GB(+0.0GB): 3.346sec] fit F\n"
          ],
          "name": "stderr"
        },
        {
          "output_type": "stream",
          "text": [
            "fold 1: mean position error 2.2981185355325886\n"
          ],
          "name": "stdout"
        },
        {
          "output_type": "stream",
          "text": [
            "[0.3GB(+0.0GB): 4.447sec] fit X\n",
            "[0.3GB(+0.0GB): 2.761sec] fit Y\n",
            "[0.3GB(+0.0GB): 2.655sec] fit F\n"
          ],
          "name": "stderr"
        },
        {
          "output_type": "stream",
          "text": [
            "fold 2: mean position error 2.4620562184560377\n"
          ],
          "name": "stdout"
        },
        {
          "output_type": "stream",
          "text": [
            "[0.3GB(+0.0GB): 2.099sec] fit X\n",
            "[0.3GB(+0.0GB): 1.539sec] fit Y\n",
            "[0.3GB(+0.0GB): 1.369sec] fit F\n"
          ],
          "name": "stderr"
        },
        {
          "output_type": "stream",
          "text": [
            "fold 3: mean position error 2.5770247744401167\n"
          ],
          "name": "stdout"
        },
        {
          "output_type": "stream",
          "text": [
            "[0.3GB(+0.0GB): 1.908sec] fit X\n",
            "[0.3GB(+0.0GB): 2.659sec] fit Y\n",
            "[0.3GB(+0.0GB): 2.914sec] fit F\n"
          ],
          "name": "stderr"
        },
        {
          "output_type": "stream",
          "text": [
            "fold 4: mean position error 2.5156924240963336\n"
          ],
          "name": "stdout"
        },
        {
          "output_type": "stream",
          "text": [
            "[0.3GB(+0.0GB): 2.893sec] fit X\n",
            "[0.3GB(+0.0GB): 2.356sec] fit Y\n",
            "[0.3GB(+0.0GB): 2.600sec] fit F\n"
          ],
          "name": "stderr"
        },
        {
          "output_type": "stream",
          "text": [
            "fold 5: mean position error 2.2802662519552226\n"
          ],
          "name": "stdout"
        },
        {
          "output_type": "stream",
          "text": [
            "[0.3GB(+0.0GB): 3.830sec] fit X\n",
            "[0.3GB(+0.0GB): 3.165sec] fit Y\n",
            "[0.3GB(+0.0GB): 2.810sec] fit F\n"
          ],
          "name": "stderr"
        },
        {
          "output_type": "stream",
          "text": [
            "fold 6: mean position error 2.7748975127157234\n"
          ],
          "name": "stdout"
        },
        {
          "output_type": "stream",
          "text": [
            "[0.3GB(+0.0GB): 2.658sec] fit X\n",
            "[0.3GB(+0.0GB): 2.568sec] fit Y\n",
            "[0.3GB(+0.0GB): 1.245sec] fit F\n"
          ],
          "name": "stderr"
        },
        {
          "output_type": "stream",
          "text": [
            "fold 7: mean position error 2.6178531251103547\n"
          ],
          "name": "stdout"
        },
        {
          "output_type": "stream",
          "text": [
            "[0.3GB(+0.0GB): 1.321sec] fit X\n",
            "[0.3GB(+0.0GB): 2.871sec] fit Y\n",
            "[0.3GB(+0.0GB): 4.226sec] fit F\n"
          ],
          "name": "stderr"
        },
        {
          "output_type": "stream",
          "text": [
            "fold 8: mean position error 2.847590525182507\n"
          ],
          "name": "stdout"
        },
        {
          "output_type": "stream",
          "text": [
            "[0.3GB(+0.0GB): 2.415sec] fit X\n",
            "[0.3GB(+0.0GB): 1.587sec] fit Y\n",
            "[0.3GB(+0.0GB): 2.182sec] fit F\n"
          ],
          "name": "stderr"
        },
        {
          "output_type": "stream",
          "text": [
            "fold 9: mean position error 3.1455479529709165\n",
            "*+*+*+*+*+*+*+*+*+*+*+*+*+*+*+*+*+*+*+*+*+*+*+*+*+*+*+*+*+*+*+*+*+*+*+*+*+*+*+*+\n",
            "file #0, shape=(2313, 85), name=5cd56b5ae2acfd2d33b58544_train.csv\n",
            "mean position error 2.6183358737496216\n",
            "*+*+*+*+*+*+*+*+*+*+*+*+*+*+*+*+*+*+*+*+*+*+*+*+*+*+*+*+*+*+*+*+*+*+*+*+*+*+*+*+\n",
            "Starting to train:  5cd56b5ae2acfd2d33b58546_train.csv\n"
          ],
          "name": "stdout"
        },
        {
          "output_type": "stream",
          "text": [
            "[0.3GB(+0.0GB): 4.437sec] fit X\n",
            "[0.3GB(+0.0GB): 1.799sec] fit Y\n",
            "[0.3GB(+0.0GB): 4.341sec] fit F\n"
          ],
          "name": "stderr"
        },
        {
          "output_type": "stream",
          "text": [
            "fold 0: mean position error 5.988795115184616\n"
          ],
          "name": "stdout"
        },
        {
          "output_type": "stream",
          "text": [
            "[0.4GB(+0.0GB): 3.264sec] fit X\n",
            "[0.4GB(+0.0GB): 2.270sec] fit Y\n",
            "[0.4GB(+0.0GB): 5.943sec] fit F\n"
          ],
          "name": "stderr"
        },
        {
          "output_type": "stream",
          "text": [
            "fold 1: mean position error 4.70106463289575\n"
          ],
          "name": "stdout"
        },
        {
          "output_type": "stream",
          "text": [
            "[0.4GB(+0.0GB): 3.289sec] fit X\n",
            "[0.4GB(+0.0GB): 3.366sec] fit Y\n",
            "[0.4GB(+0.0GB): 5.423sec] fit F\n"
          ],
          "name": "stderr"
        },
        {
          "output_type": "stream",
          "text": [
            "fold 2: mean position error 4.97048265979913\n"
          ],
          "name": "stdout"
        },
        {
          "output_type": "stream",
          "text": [
            "[0.4GB(+0.0GB): 6.240sec] fit X\n",
            "[0.4GB(+0.0GB): 1.108sec] fit Y\n",
            "[0.4GB(+0.0GB): 3.778sec] fit F\n"
          ],
          "name": "stderr"
        },
        {
          "output_type": "stream",
          "text": [
            "fold 3: mean position error 5.36495026194651\n"
          ],
          "name": "stdout"
        },
        {
          "output_type": "stream",
          "text": [
            "[0.4GB(+0.0GB): 4.450sec] fit X\n",
            "[0.4GB(+0.0GB): 1.983sec] fit Y\n",
            "[0.4GB(+0.0GB): 3.022sec] fit F\n"
          ],
          "name": "stderr"
        },
        {
          "output_type": "stream",
          "text": [
            "fold 4: mean position error 4.956203154963617\n"
          ],
          "name": "stdout"
        },
        {
          "output_type": "stream",
          "text": [
            "[0.4GB(+0.0GB): 4.542sec] fit X\n",
            "[0.4GB(+0.0GB): 2.572sec] fit Y\n",
            "[0.4GB(+0.0GB): 5.722sec] fit F\n"
          ],
          "name": "stderr"
        },
        {
          "output_type": "stream",
          "text": [
            "fold 5: mean position error 4.304164766100852\n"
          ],
          "name": "stdout"
        },
        {
          "output_type": "stream",
          "text": [
            "[0.4GB(+0.0GB): 3.077sec] fit X\n",
            "[0.4GB(+0.0GB): 3.112sec] fit Y\n",
            "[0.4GB(+0.0GB): 2.507sec] fit F\n"
          ],
          "name": "stderr"
        },
        {
          "output_type": "stream",
          "text": [
            "fold 6: mean position error 6.171643656535661\n"
          ],
          "name": "stdout"
        },
        {
          "output_type": "stream",
          "text": [
            "[0.4GB(+0.0GB): 4.486sec] fit X\n",
            "[0.4GB(+0.0GB): 3.151sec] fit Y\n",
            "[0.4GB(+0.0GB): 6.678sec] fit F\n"
          ],
          "name": "stderr"
        },
        {
          "output_type": "stream",
          "text": [
            "fold 7: mean position error 4.558691621324797\n"
          ],
          "name": "stdout"
        },
        {
          "output_type": "stream",
          "text": [
            "[0.4GB(+0.0GB): 2.709sec] fit X\n",
            "[0.4GB(+0.0GB): 3.222sec] fit Y\n",
            "[0.4GB(+0.0GB): 3.979sec] fit F\n"
          ],
          "name": "stderr"
        },
        {
          "output_type": "stream",
          "text": [
            "fold 8: mean position error 5.150713552500213\n"
          ],
          "name": "stdout"
        },
        {
          "output_type": "stream",
          "text": [
            "[0.4GB(+0.0GB): 4.806sec] fit X\n",
            "[0.4GB(+0.0GB): 1.534sec] fit Y\n",
            "[0.4GB(+0.0GB): 5.788sec] fit F\n"
          ],
          "name": "stderr"
        },
        {
          "output_type": "stream",
          "text": [
            "fold 9: mean position error 6.615848453623401\n",
            "*+*+*+*+*+*+*+*+*+*+*+*+*+*+*+*+*+*+*+*+*+*+*+*+*+*+*+*+*+*+*+*+*+*+*+*+*+*+*+*+\n",
            "file #1, shape=(3747, 149), name=5cd56b5ae2acfd2d33b58546_train.csv\n",
            "mean position error 5.278124886429279\n",
            "*+*+*+*+*+*+*+*+*+*+*+*+*+*+*+*+*+*+*+*+*+*+*+*+*+*+*+*+*+*+*+*+*+*+*+*+*+*+*+*+\n",
            "Starting to train:  5cd56b5ae2acfd2d33b58548_train.csv\n"
          ],
          "name": "stdout"
        },
        {
          "output_type": "stream",
          "text": [
            "[0.4GB(+0.0GB): 1.239sec] fit X\n",
            "[0.4GB(+0.0GB): 1.118sec] fit Y\n",
            "[0.4GB(+0.0GB): 2.297sec] fit F\n"
          ],
          "name": "stderr"
        },
        {
          "output_type": "stream",
          "text": [
            "fold 0: mean position error 4.251058280722551\n"
          ],
          "name": "stdout"
        },
        {
          "output_type": "stream",
          "text": [
            "[0.4GB(+0.0GB): 1.219sec] fit X\n",
            "[0.4GB(+0.0GB): 1.031sec] fit Y\n",
            "[0.4GB(+0.0GB): 2.634sec] fit F\n"
          ],
          "name": "stderr"
        },
        {
          "output_type": "stream",
          "text": [
            "fold 1: mean position error 4.920169178871609\n"
          ],
          "name": "stdout"
        },
        {
          "output_type": "stream",
          "text": [
            "[0.4GB(+0.0GB): 0.963sec] fit X\n",
            "[0.4GB(+0.0GB): 1.011sec] fit Y\n",
            "[0.4GB(+0.0GB): 2.720sec] fit F\n"
          ],
          "name": "stderr"
        },
        {
          "output_type": "stream",
          "text": [
            "fold 2: mean position error 5.188700865321851\n"
          ],
          "name": "stdout"
        },
        {
          "output_type": "stream",
          "text": [
            "[0.4GB(+0.0GB): 0.924sec] fit X\n",
            "[0.4GB(+0.0GB): 0.981sec] fit Y\n",
            "[0.4GB(+0.0GB): 1.971sec] fit F\n"
          ],
          "name": "stderr"
        },
        {
          "output_type": "stream",
          "text": [
            "fold 3: mean position error 5.069941507754733\n"
          ],
          "name": "stdout"
        },
        {
          "output_type": "stream",
          "text": [
            "[0.4GB(+0.0GB): 0.681sec] fit X\n",
            "[0.4GB(+0.0GB): 1.214sec] fit Y\n",
            "[0.4GB(+0.0GB): 2.404sec] fit F\n"
          ],
          "name": "stderr"
        },
        {
          "output_type": "stream",
          "text": [
            "fold 4: mean position error 4.203595183909208\n"
          ],
          "name": "stdout"
        },
        {
          "output_type": "stream",
          "text": [
            "[0.4GB(+0.0GB): 0.949sec] fit X\n",
            "[0.4GB(+0.0GB): 1.756sec] fit Y\n",
            "[0.4GB(+0.0GB): 2.783sec] fit F\n"
          ],
          "name": "stderr"
        },
        {
          "output_type": "stream",
          "text": [
            "fold 5: mean position error 4.700211797334289\n"
          ],
          "name": "stdout"
        },
        {
          "output_type": "stream",
          "text": [
            "[0.4GB(+0.0GB): 1.125sec] fit X\n",
            "[0.4GB(+0.0GB): 0.710sec] fit Y\n",
            "[0.4GB(+0.0GB): 2.121sec] fit F\n"
          ],
          "name": "stderr"
        },
        {
          "output_type": "stream",
          "text": [
            "fold 6: mean position error 4.748961978120231\n"
          ],
          "name": "stdout"
        },
        {
          "output_type": "stream",
          "text": [
            "[0.4GB(+0.0GB): 0.659sec] fit X\n",
            "[0.4GB(+0.0GB): 1.723sec] fit Y\n",
            "[0.4GB(+0.0GB): 3.094sec] fit F\n"
          ],
          "name": "stderr"
        },
        {
          "output_type": "stream",
          "text": [
            "fold 7: mean position error 4.110232295005812\n"
          ],
          "name": "stdout"
        },
        {
          "output_type": "stream",
          "text": [
            "[0.4GB(+0.0GB): 1.090sec] fit X\n",
            "[0.4GB(+0.0GB): 1.324sec] fit Y\n",
            "[0.4GB(+0.0GB): 1.999sec] fit F\n"
          ],
          "name": "stderr"
        },
        {
          "output_type": "stream",
          "text": [
            "fold 8: mean position error 4.708578708563603\n"
          ],
          "name": "stdout"
        },
        {
          "output_type": "stream",
          "text": [
            "[0.4GB(+0.0GB): 1.138sec] fit X\n",
            "[0.4GB(+0.0GB): 1.763sec] fit Y\n",
            "[0.4GB(+0.0GB): 2.364sec] fit F\n"
          ],
          "name": "stderr"
        },
        {
          "output_type": "stream",
          "text": [
            "fold 9: mean position error 4.398536740932601\n",
            "*+*+*+*+*+*+*+*+*+*+*+*+*+*+*+*+*+*+*+*+*+*+*+*+*+*+*+*+*+*+*+*+*+*+*+*+*+*+*+*+\n",
            "file #2, shape=(704, 48), name=5cd56b5ae2acfd2d33b58548_train.csv\n",
            "mean position error 4.631291090042933\n",
            "*+*+*+*+*+*+*+*+*+*+*+*+*+*+*+*+*+*+*+*+*+*+*+*+*+*+*+*+*+*+*+*+*+*+*+*+*+*+*+*+\n",
            "Starting to train:  5cd56b5ae2acfd2d33b58549_train.csv\n"
          ],
          "name": "stdout"
        },
        {
          "output_type": "stream",
          "text": [
            "[0.4GB(+0.0GB): 1.331sec] fit X\n",
            "[0.4GB(+0.0GB): 2.384sec] fit Y\n",
            "[0.4GB(+0.0GB): 2.670sec] fit F\n"
          ],
          "name": "stderr"
        },
        {
          "output_type": "stream",
          "text": [
            "fold 0: mean position error 10.286857394314001\n"
          ],
          "name": "stdout"
        },
        {
          "output_type": "stream",
          "text": [
            "[0.4GB(+0.0GB): 0.933sec] fit X\n",
            "[0.4GB(+0.0GB): 1.308sec] fit Y\n",
            "[0.4GB(+0.0GB): 3.077sec] fit F\n"
          ],
          "name": "stderr"
        },
        {
          "output_type": "stream",
          "text": [
            "fold 1: mean position error 13.571657241307545\n"
          ],
          "name": "stdout"
        },
        {
          "output_type": "stream",
          "text": [
            "[0.4GB(+0.0GB): 1.357sec] fit X\n",
            "[0.4GB(+0.0GB): 2.343sec] fit Y\n",
            "[0.4GB(+0.0GB): 5.525sec] fit F\n"
          ],
          "name": "stderr"
        },
        {
          "output_type": "stream",
          "text": [
            "fold 2: mean position error 11.814250181169275\n"
          ],
          "name": "stdout"
        },
        {
          "output_type": "stream",
          "text": [
            "[0.4GB(+0.0GB): 1.944sec] fit X\n",
            "[0.4GB(+0.0GB): 2.002sec] fit Y\n",
            "[0.4GB(+0.0GB): 2.894sec] fit F\n"
          ],
          "name": "stderr"
        },
        {
          "output_type": "stream",
          "text": [
            "fold 3: mean position error 10.431301056846479\n"
          ],
          "name": "stdout"
        },
        {
          "output_type": "stream",
          "text": [
            "[0.4GB(+0.0GB): 4.000sec] fit X\n",
            "[0.4GB(+0.0GB): 3.349sec] fit Y\n",
            "[0.4GB(+0.0GB): 1.798sec] fit F\n"
          ],
          "name": "stderr"
        },
        {
          "output_type": "stream",
          "text": [
            "fold 4: mean position error 11.21344818699846\n"
          ],
          "name": "stdout"
        },
        {
          "output_type": "stream",
          "text": [
            "[0.4GB(+0.0GB): 1.482sec] fit X\n",
            "[0.4GB(+0.0GB): 1.351sec] fit Y\n",
            "[0.4GB(+0.0GB): 4.529sec] fit F\n"
          ],
          "name": "stderr"
        },
        {
          "output_type": "stream",
          "text": [
            "fold 5: mean position error 11.637548858814524\n"
          ],
          "name": "stdout"
        },
        {
          "output_type": "stream",
          "text": [
            "[0.4GB(+0.0GB): 1.385sec] fit X\n",
            "[0.4GB(+0.0GB): 2.033sec] fit Y\n",
            "[0.4GB(+0.0GB): 6.242sec] fit F\n"
          ],
          "name": "stderr"
        },
        {
          "output_type": "stream",
          "text": [
            "fold 6: mean position error 11.126965545509602\n"
          ],
          "name": "stdout"
        },
        {
          "output_type": "stream",
          "text": [
            "[0.4GB(+0.0GB): 1.817sec] fit X\n",
            "[0.4GB(+0.0GB): 1.428sec] fit Y\n",
            "[0.4GB(+0.0GB): 2.649sec] fit F\n"
          ],
          "name": "stderr"
        },
        {
          "output_type": "stream",
          "text": [
            "fold 7: mean position error 12.886306612735618\n"
          ],
          "name": "stdout"
        },
        {
          "output_type": "stream",
          "text": [
            "[0.4GB(+0.0GB): 2.623sec] fit X\n",
            "[0.4GB(+0.0GB): 1.856sec] fit Y\n",
            "[0.4GB(+0.0GB): 1.599sec] fit F\n"
          ],
          "name": "stderr"
        },
        {
          "output_type": "stream",
          "text": [
            "fold 8: mean position error 10.435232423026621\n"
          ],
          "name": "stdout"
        },
        {
          "output_type": "stream",
          "text": [
            "[0.4GB(+0.0GB): 2.929sec] fit X\n",
            "[0.4GB(+0.0GB): 1.421sec] fit Y\n",
            "[0.4GB(+0.0GB): 1.808sec] fit F\n"
          ],
          "name": "stderr"
        },
        {
          "output_type": "stream",
          "text": [
            "fold 9: mean position error 9.734469243899548\n",
            "*+*+*+*+*+*+*+*+*+*+*+*+*+*+*+*+*+*+*+*+*+*+*+*+*+*+*+*+*+*+*+*+*+*+*+*+*+*+*+*+\n",
            "file #3, shape=(2959, 144), name=5cd56b5ae2acfd2d33b58549_train.csv\n",
            "mean position error 11.314337413708722\n",
            "*+*+*+*+*+*+*+*+*+*+*+*+*+*+*+*+*+*+*+*+*+*+*+*+*+*+*+*+*+*+*+*+*+*+*+*+*+*+*+*+\n",
            "Starting to train:  5cd56b5ae2acfd2d33b5854a_train.csv\n"
          ],
          "name": "stdout"
        },
        {
          "output_type": "stream",
          "text": [
            "[0.4GB(+0.0GB): 1.499sec] fit X\n",
            "[0.4GB(+0.0GB): 2.743sec] fit Y\n",
            "[0.4GB(+0.0GB): 2.130sec] fit F\n"
          ],
          "name": "stderr"
        },
        {
          "output_type": "stream",
          "text": [
            "fold 0: mean position error 8.130318334885537\n"
          ],
          "name": "stdout"
        },
        {
          "output_type": "stream",
          "text": [
            "[0.4GB(+0.0GB): 1.857sec] fit X\n",
            "[0.4GB(+0.0GB): 1.646sec] fit Y\n",
            "[0.4GB(+0.0GB): 1.295sec] fit F\n"
          ],
          "name": "stderr"
        },
        {
          "output_type": "stream",
          "text": [
            "fold 1: mean position error 6.922527595494503\n"
          ],
          "name": "stdout"
        },
        {
          "output_type": "stream",
          "text": [
            "[0.4GB(+0.0GB): 5.151sec] fit X\n",
            "[0.4GB(+0.0GB): 1.676sec] fit Y\n",
            "[0.4GB(+0.0GB): 2.200sec] fit F\n"
          ],
          "name": "stderr"
        },
        {
          "output_type": "stream",
          "text": [
            "fold 2: mean position error 7.250703214573832\n"
          ],
          "name": "stdout"
        },
        {
          "output_type": "stream",
          "text": [
            "[0.4GB(+0.0GB): 1.922sec] fit X\n",
            "[0.4GB(+0.0GB): 1.572sec] fit Y\n",
            "[0.4GB(+0.0GB): 3.577sec] fit F\n"
          ],
          "name": "stderr"
        },
        {
          "output_type": "stream",
          "text": [
            "fold 3: mean position error 6.954372354478788\n"
          ],
          "name": "stdout"
        },
        {
          "output_type": "stream",
          "text": [
            "[0.4GB(+0.0GB): 2.153sec] fit X\n",
            "[0.4GB(+0.0GB): 2.085sec] fit Y\n",
            "[0.4GB(+0.0GB): 2.490sec] fit F\n"
          ],
          "name": "stderr"
        },
        {
          "output_type": "stream",
          "text": [
            "fold 4: mean position error 7.309863373289812\n"
          ],
          "name": "stdout"
        },
        {
          "output_type": "stream",
          "text": [
            "[0.4GB(+0.0GB): 1.921sec] fit X\n",
            "[0.4GB(+0.0GB): 1.409sec] fit Y\n",
            "[0.4GB(+0.0GB): 5.422sec] fit F\n"
          ],
          "name": "stderr"
        },
        {
          "output_type": "stream",
          "text": [
            "fold 5: mean position error 7.674084791851877\n"
          ],
          "name": "stdout"
        },
        {
          "output_type": "stream",
          "text": [
            "[0.4GB(+0.0GB): 2.490sec] fit X\n",
            "[0.4GB(+0.0GB): 2.089sec] fit Y\n",
            "[0.4GB(+0.0GB): 3.333sec] fit F\n"
          ],
          "name": "stderr"
        },
        {
          "output_type": "stream",
          "text": [
            "fold 6: mean position error 7.587039135148368\n"
          ],
          "name": "stdout"
        },
        {
          "output_type": "stream",
          "text": [
            "[0.4GB(+0.0GB): 3.537sec] fit X\n",
            "[0.4GB(+0.0GB): 2.265sec] fit Y\n",
            "[0.4GB(+0.0GB): 2.647sec] fit F\n"
          ],
          "name": "stderr"
        },
        {
          "output_type": "stream",
          "text": [
            "fold 7: mean position error 7.452994576565679\n"
          ],
          "name": "stdout"
        },
        {
          "output_type": "stream",
          "text": [
            "[0.4GB(+0.0GB): 3.927sec] fit X\n",
            "[0.4GB(+0.0GB): 2.752sec] fit Y\n",
            "[0.4GB(+0.0GB): 2.160sec] fit F\n"
          ],
          "name": "stderr"
        },
        {
          "output_type": "stream",
          "text": [
            "fold 8: mean position error 7.569433567449408\n"
          ],
          "name": "stdout"
        },
        {
          "output_type": "stream",
          "text": [
            "[0.4GB(+0.0GB): 2.086sec] fit X\n",
            "[0.4GB(+0.0GB): 2.226sec] fit Y\n",
            "[0.4GB(+0.0GB): 2.750sec] fit F\n"
          ],
          "name": "stderr"
        },
        {
          "output_type": "stream",
          "text": [
            "fold 9: mean position error 7.0908849935679035\n",
            "*+*+*+*+*+*+*+*+*+*+*+*+*+*+*+*+*+*+*+*+*+*+*+*+*+*+*+*+*+*+*+*+*+*+*+*+*+*+*+*+\n",
            "file #4, shape=(1713, 87), name=5cd56b5ae2acfd2d33b5854a_train.csv\n",
            "mean position error 7.394292761485247\n",
            "*+*+*+*+*+*+*+*+*+*+*+*+*+*+*+*+*+*+*+*+*+*+*+*+*+*+*+*+*+*+*+*+*+*+*+*+*+*+*+*+\n",
            "Starting to train:  5cd56b6ae2acfd2d33b59c90_train.csv\n"
          ],
          "name": "stdout"
        },
        {
          "output_type": "stream",
          "text": [
            "[0.4GB(+0.0GB): 1.233sec] fit X\n",
            "[0.4GB(+0.0GB): 1.436sec] fit Y\n",
            "[0.4GB(+0.0GB): 3.213sec] fit F\n"
          ],
          "name": "stderr"
        },
        {
          "output_type": "stream",
          "text": [
            "fold 0: mean position error 3.211730521352736\n"
          ],
          "name": "stdout"
        },
        {
          "output_type": "stream",
          "text": [
            "[0.4GB(+0.0GB): 0.927sec] fit X\n",
            "[0.4GB(+0.0GB): 0.720sec] fit Y\n",
            "[0.4GB(+0.0GB): 2.605sec] fit F\n"
          ],
          "name": "stderr"
        },
        {
          "output_type": "stream",
          "text": [
            "fold 1: mean position error 2.8203590654284167\n"
          ],
          "name": "stdout"
        },
        {
          "output_type": "stream",
          "text": [
            "[0.4GB(+0.0GB): 0.969sec] fit X\n",
            "[0.4GB(+0.0GB): 1.885sec] fit Y\n",
            "[0.4GB(+0.0GB): 2.689sec] fit F\n"
          ],
          "name": "stderr"
        },
        {
          "output_type": "stream",
          "text": [
            "fold 2: mean position error 3.18404872237472\n"
          ],
          "name": "stdout"
        },
        {
          "output_type": "stream",
          "text": [
            "[0.4GB(+0.0GB): 1.512sec] fit X\n",
            "[0.4GB(+0.0GB): 1.063sec] fit Y\n",
            "[0.4GB(+0.0GB): 2.585sec] fit F\n"
          ],
          "name": "stderr"
        },
        {
          "output_type": "stream",
          "text": [
            "fold 3: mean position error 2.6121294220017575\n"
          ],
          "name": "stdout"
        },
        {
          "output_type": "stream",
          "text": [
            "[0.4GB(+0.0GB): 0.569sec] fit X\n",
            "[0.4GB(+0.0GB): 0.966sec] fit Y\n",
            "[0.4GB(+0.0GB): 2.525sec] fit F\n"
          ],
          "name": "stderr"
        },
        {
          "output_type": "stream",
          "text": [
            "fold 4: mean position error 3.033159300166711\n"
          ],
          "name": "stdout"
        },
        {
          "output_type": "stream",
          "text": [
            "[0.4GB(+0.0GB): 1.845sec] fit X\n",
            "[0.4GB(+0.0GB): 1.539sec] fit Y\n",
            "[0.4GB(+0.0GB): 2.576sec] fit F\n"
          ],
          "name": "stderr"
        },
        {
          "output_type": "stream",
          "text": [
            "fold 5: mean position error 2.7254054121420057\n"
          ],
          "name": "stdout"
        },
        {
          "output_type": "stream",
          "text": [
            "[0.4GB(+0.0GB): 1.211sec] fit X\n",
            "[0.4GB(+0.0GB): 1.403sec] fit Y\n",
            "[0.4GB(+0.0GB): 2.611sec] fit F\n"
          ],
          "name": "stderr"
        },
        {
          "output_type": "stream",
          "text": [
            "fold 6: mean position error 2.4157691719679413\n"
          ],
          "name": "stdout"
        },
        {
          "output_type": "stream",
          "text": [
            "[0.4GB(+0.0GB): 1.265sec] fit X\n",
            "[0.4GB(+0.0GB): 1.483sec] fit Y\n",
            "[0.4GB(+0.0GB): 3.640sec] fit F\n"
          ],
          "name": "stderr"
        },
        {
          "output_type": "stream",
          "text": [
            "fold 7: mean position error 2.771951142002639\n"
          ],
          "name": "stdout"
        },
        {
          "output_type": "stream",
          "text": [
            "[0.4GB(+0.0GB): 0.826sec] fit X\n",
            "[0.4GB(+0.0GB): 0.995sec] fit Y\n",
            "[0.4GB(+0.0GB): 2.096sec] fit F\n"
          ],
          "name": "stderr"
        },
        {
          "output_type": "stream",
          "text": [
            "fold 8: mean position error 2.9274195607050526\n"
          ],
          "name": "stdout"
        },
        {
          "output_type": "stream",
          "text": [
            "[0.4GB(+0.0GB): 1.523sec] fit X\n",
            "[0.4GB(+0.0GB): 1.412sec] fit Y\n",
            "[0.4GB(+0.0GB): 2.394sec] fit F\n"
          ],
          "name": "stderr"
        },
        {
          "output_type": "stream",
          "text": [
            "fold 9: mean position error 2.512893691608002\n",
            "*+*+*+*+*+*+*+*+*+*+*+*+*+*+*+*+*+*+*+*+*+*+*+*+*+*+*+*+*+*+*+*+*+*+*+*+*+*+*+*+\n",
            "file #5, shape=(1118, 40), name=5cd56b6ae2acfd2d33b59c90_train.csv\n",
            "mean position error 2.8216678710551744\n",
            "*+*+*+*+*+*+*+*+*+*+*+*+*+*+*+*+*+*+*+*+*+*+*+*+*+*+*+*+*+*+*+*+*+*+*+*+*+*+*+*+\n",
            "Starting to train:  5cd56b6ae2acfd2d33b59ccb_train.csv\n"
          ],
          "name": "stdout"
        },
        {
          "output_type": "stream",
          "text": [
            "[2.2GB(+0.3GB): 82.978sec] fit X\n",
            "[2.4GB(+0.3GB): 94.527sec] fit Y\n",
            "[2.4GB(+0.0GB): 183.819sec] fit F\n"
          ],
          "name": "stderr"
        },
        {
          "output_type": "stream",
          "text": [
            "fold 0: mean position error 4.365232221526381\n"
          ],
          "name": "stdout"
        },
        {
          "output_type": "stream",
          "text": [
            "[2.5GB(+0.0GB): 71.409sec] fit X\n",
            "[2.5GB(+0.0GB): 105.098sec] fit Y\n",
            "[2.5GB(+0.0GB): 184.306sec] fit F\n"
          ],
          "name": "stderr"
        },
        {
          "output_type": "stream",
          "text": [
            "fold 1: mean position error 4.856262366946748\n"
          ],
          "name": "stdout"
        },
        {
          "output_type": "stream",
          "text": [
            "[2.5GB(+0.1GB): 56.161sec] fit X\n",
            "[2.5GB(+0.0GB): 55.539sec] fit Y\n",
            "[2.5GB(+0.0GB): 208.200sec] fit F\n"
          ],
          "name": "stderr"
        },
        {
          "output_type": "stream",
          "text": [
            "fold 2: mean position error 4.778254380671315\n"
          ],
          "name": "stdout"
        },
        {
          "output_type": "stream",
          "text": [
            "[2.5GB(+0.0GB): 54.470sec] fit X\n",
            "[2.5GB(+0.0GB): 65.788sec] fit Y\n",
            "[2.5GB(+0.0GB): 152.474sec] fit F\n"
          ],
          "name": "stderr"
        },
        {
          "output_type": "stream",
          "text": [
            "fold 3: mean position error 5.071975532854187\n"
          ],
          "name": "stdout"
        },
        {
          "output_type": "stream",
          "text": [
            "[2.5GB(+0.0GB): 41.925sec] fit X\n",
            "[2.5GB(+0.0GB): 90.400sec] fit Y\n",
            "[2.5GB(+0.0GB): 149.734sec] fit F\n"
          ],
          "name": "stderr"
        },
        {
          "output_type": "stream",
          "text": [
            "fold 4: mean position error 5.199837643322616\n"
          ],
          "name": "stdout"
        },
        {
          "output_type": "stream",
          "text": [
            "[2.5GB(+0.0GB): 47.679sec] fit X\n",
            "[2.5GB(+0.0GB): 38.856sec] fit Y\n",
            "[2.5GB(+0.0GB): 133.475sec] fit F\n"
          ],
          "name": "stderr"
        },
        {
          "output_type": "stream",
          "text": [
            "fold 5: mean position error 5.275966459339799\n"
          ],
          "name": "stdout"
        },
        {
          "output_type": "stream",
          "text": [
            "[2.5GB(+0.0GB): 46.904sec] fit X\n",
            "[2.5GB(+0.0GB): 84.585sec] fit Y\n",
            "[2.5GB(+0.0GB): 130.418sec] fit F\n"
          ],
          "name": "stderr"
        },
        {
          "output_type": "stream",
          "text": [
            "fold 6: mean position error 5.1357829647975075\n"
          ],
          "name": "stdout"
        },
        {
          "output_type": "stream",
          "text": [
            "[2.5GB(+0.0GB): 54.169sec] fit X\n",
            "[2.5GB(+0.0GB): 87.641sec] fit Y\n",
            "[2.5GB(+0.0GB): 73.667sec] fit F\n"
          ],
          "name": "stderr"
        },
        {
          "output_type": "stream",
          "text": [
            "fold 7: mean position error 4.84434468683661\n"
          ],
          "name": "stdout"
        },
        {
          "output_type": "stream",
          "text": [
            "[2.5GB(+0.0GB): 63.839sec] fit X\n",
            "[2.5GB(+0.0GB): 54.901sec] fit Y\n",
            "[2.5GB(+0.0GB): 165.013sec] fit F\n"
          ],
          "name": "stderr"
        },
        {
          "output_type": "stream",
          "text": [
            "fold 8: mean position error 5.031758614725676\n"
          ],
          "name": "stdout"
        },
        {
          "output_type": "stream",
          "text": [
            "[2.5GB(+0.0GB): 70.781sec] fit X\n",
            "[2.5GB(+0.0GB): 82.205sec] fit Y\n",
            "[2.5GB(+0.0GB): 97.779sec] fit F\n"
          ],
          "name": "stderr"
        },
        {
          "output_type": "stream",
          "text": [
            "fold 9: mean position error 4.724663941068746\n",
            "*+*+*+*+*+*+*+*+*+*+*+*+*+*+*+*+*+*+*+*+*+*+*+*+*+*+*+*+*+*+*+*+*+*+*+*+*+*+*+*+\n",
            "file #6, shape=(20805, 1856), name=5cd56b6ae2acfd2d33b59ccb_train.csv\n",
            "mean position error 4.928390074082753\n",
            "*+*+*+*+*+*+*+*+*+*+*+*+*+*+*+*+*+*+*+*+*+*+*+*+*+*+*+*+*+*+*+*+*+*+*+*+*+*+*+*+\n",
            "Starting to train:  5cd56b6ae2acfd2d33b59ccc_train.csv\n"
          ],
          "name": "stdout"
        },
        {
          "output_type": "stream",
          "text": [
            "[2.5GB(+0.0GB): 7.319sec] fit X\n",
            "[2.5GB(+0.0GB): 5.480sec] fit Y\n",
            "[2.5GB(+0.0GB): 43.406sec] fit F\n"
          ],
          "name": "stderr"
        },
        {
          "output_type": "stream",
          "text": [
            "fold 0: mean position error 3.771245872904001\n"
          ],
          "name": "stdout"
        },
        {
          "output_type": "stream",
          "text": [
            "[2.5GB(+0.0GB): 7.868sec] fit X\n",
            "[2.5GB(+0.0GB): 6.688sec] fit Y\n",
            "[2.5GB(+0.0GB): 37.625sec] fit F\n"
          ],
          "name": "stderr"
        },
        {
          "output_type": "stream",
          "text": [
            "fold 1: mean position error 3.7973614995623706\n"
          ],
          "name": "stdout"
        },
        {
          "output_type": "stream",
          "text": [
            "[2.5GB(+0.0GB): 5.424sec] fit X\n",
            "[2.5GB(+0.0GB): 6.345sec] fit Y\n",
            "[2.5GB(+0.0GB): 27.875sec] fit F\n"
          ],
          "name": "stderr"
        },
        {
          "output_type": "stream",
          "text": [
            "fold 2: mean position error 3.8150915404021872\n"
          ],
          "name": "stdout"
        },
        {
          "output_type": "stream",
          "text": [
            "[2.5GB(+0.0GB): 5.354sec] fit X\n",
            "[2.5GB(+0.0GB): 6.916sec] fit Y\n",
            "[2.5GB(+0.0GB): 21.833sec] fit F\n"
          ],
          "name": "stderr"
        },
        {
          "output_type": "stream",
          "text": [
            "fold 3: mean position error 3.3787471273105174\n"
          ],
          "name": "stdout"
        },
        {
          "output_type": "stream",
          "text": [
            "[2.5GB(+0.0GB): 5.384sec] fit X\n",
            "[2.5GB(+0.0GB): 4.462sec] fit Y\n",
            "[2.5GB(+0.0GB): 40.417sec] fit F\n"
          ],
          "name": "stderr"
        },
        {
          "output_type": "stream",
          "text": [
            "fold 4: mean position error 3.5373334793941598\n"
          ],
          "name": "stdout"
        },
        {
          "output_type": "stream",
          "text": [
            "[2.5GB(+0.0GB): 5.464sec] fit X\n",
            "[2.5GB(+0.0GB): 5.621sec] fit Y\n",
            "[2.5GB(+0.0GB): 33.836sec] fit F\n"
          ],
          "name": "stderr"
        },
        {
          "output_type": "stream",
          "text": [
            "fold 5: mean position error 3.4241988666261025\n"
          ],
          "name": "stdout"
        },
        {
          "output_type": "stream",
          "text": [
            "[2.5GB(+0.0GB): 7.269sec] fit X\n",
            "[2.5GB(+0.0GB): 7.493sec] fit Y\n",
            "[2.5GB(+0.0GB): 30.074sec] fit F\n"
          ],
          "name": "stderr"
        },
        {
          "output_type": "stream",
          "text": [
            "fold 6: mean position error 3.521167680043932\n"
          ],
          "name": "stdout"
        },
        {
          "output_type": "stream",
          "text": [
            "[2.5GB(+0.0GB): 12.013sec] fit X\n",
            "[2.5GB(+0.0GB): 10.869sec] fit Y\n",
            "[2.5GB(+0.0GB): 19.999sec] fit F\n"
          ],
          "name": "stderr"
        },
        {
          "output_type": "stream",
          "text": [
            "fold 7: mean position error 3.5854310886820246\n"
          ],
          "name": "stdout"
        },
        {
          "output_type": "stream",
          "text": [
            "[2.5GB(+0.0GB): 6.660sec] fit X\n",
            "[2.5GB(+0.0GB): 7.842sec] fit Y\n",
            "[2.5GB(+0.0GB): 34.323sec] fit F\n"
          ],
          "name": "stderr"
        },
        {
          "output_type": "stream",
          "text": [
            "fold 8: mean position error 3.79335922495865\n"
          ],
          "name": "stdout"
        },
        {
          "output_type": "stream",
          "text": [
            "[2.5GB(+0.0GB): 6.780sec] fit X\n",
            "[2.5GB(+0.0GB): 5.468sec] fit Y\n",
            "[2.5GB(+0.0GB): 41.221sec] fit F\n"
          ],
          "name": "stderr"
        },
        {
          "output_type": "stream",
          "text": [
            "fold 9: mean position error 3.9200703867232916\n",
            "*+*+*+*+*+*+*+*+*+*+*+*+*+*+*+*+*+*+*+*+*+*+*+*+*+*+*+*+*+*+*+*+*+*+*+*+*+*+*+*+\n",
            "file #7, shape=(4179, 401), name=5cd56b6ae2acfd2d33b59ccc_train.csv\n",
            "mean position error 3.654337104105074\n",
            "*+*+*+*+*+*+*+*+*+*+*+*+*+*+*+*+*+*+*+*+*+*+*+*+*+*+*+*+*+*+*+*+*+*+*+*+*+*+*+*+\n",
            "Starting to train:  5cd56b6be2acfd2d33b59d1f_train.csv\n"
          ],
          "name": "stdout"
        },
        {
          "output_type": "stream",
          "text": [
            "[2.5GB(+0.0GB): 4.682sec] fit X\n",
            "[2.5GB(+0.0GB): 0.128sec] fit Y\n",
            "[2.5GB(+0.0GB): 4.470sec] fit F\n",
            "[2.5GB(+0.0GB): 0.125sec] fit X\n"
          ],
          "name": "stderr"
        },
        {
          "output_type": "stream",
          "text": [
            "fold 0: mean position error 38.045852840017616\n"
          ],
          "name": "stdout"
        },
        {
          "output_type": "stream",
          "text": [
            "[2.5GB(+0.0GB): 0.125sec] fit Y\n",
            "[2.5GB(+0.0GB): 0.123sec] fit F\n"
          ],
          "name": "stderr"
        },
        {
          "output_type": "stream",
          "text": [
            "fold 1: mean position error 37.97225619183562\n"
          ],
          "name": "stdout"
        },
        {
          "output_type": "stream",
          "text": [
            "[2.5GB(+0.0GB): 0.130sec] fit X\n",
            "[2.5GB(+0.0GB): 0.124sec] fit Y\n",
            "[2.5GB(+0.0GB): 0.128sec] fit F\n",
            "[2.5GB(+0.0GB): 0.135sec] fit X\n"
          ],
          "name": "stderr"
        },
        {
          "output_type": "stream",
          "text": [
            "fold 2: mean position error 39.752789770834276\n"
          ],
          "name": "stdout"
        },
        {
          "output_type": "stream",
          "text": [
            "[2.5GB(+0.0GB): 0.134sec] fit Y\n",
            "[2.5GB(+0.0GB): 0.131sec] fit F\n"
          ],
          "name": "stderr"
        },
        {
          "output_type": "stream",
          "text": [
            "fold 3: mean position error 40.62378794408838\n"
          ],
          "name": "stdout"
        },
        {
          "output_type": "stream",
          "text": [
            "[2.5GB(+0.0GB): 0.131sec] fit X\n",
            "[2.5GB(+0.0GB): 0.137sec] fit Y\n",
            "[2.5GB(+0.0GB): 0.125sec] fit F\n",
            "[2.5GB(+0.0GB): 0.126sec] fit X\n"
          ],
          "name": "stderr"
        },
        {
          "output_type": "stream",
          "text": [
            "fold 4: mean position error 40.77586859728075\n"
          ],
          "name": "stdout"
        },
        {
          "output_type": "stream",
          "text": [
            "[2.5GB(+0.0GB): 0.125sec] fit Y\n",
            "[2.5GB(+0.0GB): 0.123sec] fit F\n"
          ],
          "name": "stderr"
        },
        {
          "output_type": "stream",
          "text": [
            "fold 5: mean position error 40.174672380100446\n"
          ],
          "name": "stdout"
        },
        {
          "output_type": "stream",
          "text": [
            "[2.5GB(+0.0GB): 0.130sec] fit X\n",
            "[2.5GB(+0.0GB): 0.130sec] fit Y\n",
            "[2.5GB(+0.0GB): 0.124sec] fit F\n",
            "[2.5GB(+0.0GB): 0.124sec] fit X\n"
          ],
          "name": "stderr"
        },
        {
          "output_type": "stream",
          "text": [
            "fold 6: mean position error 40.597795031825626\n"
          ],
          "name": "stdout"
        },
        {
          "output_type": "stream",
          "text": [
            "[2.5GB(+0.0GB): 0.125sec] fit Y\n",
            "[2.5GB(+0.0GB): 0.132sec] fit F\n"
          ],
          "name": "stderr"
        },
        {
          "output_type": "stream",
          "text": [
            "fold 7: mean position error 44.055879056357945\n"
          ],
          "name": "stdout"
        },
        {
          "output_type": "stream",
          "text": [
            "[2.5GB(+0.0GB): 0.123sec] fit X\n",
            "[2.5GB(+0.0GB): 0.120sec] fit Y\n",
            "[2.5GB(+0.0GB): 0.126sec] fit F\n",
            "[2.5GB(+0.0GB): 0.122sec] fit X\n"
          ],
          "name": "stderr"
        },
        {
          "output_type": "stream",
          "text": [
            "fold 8: mean position error 40.3777749872444\n"
          ],
          "name": "stdout"
        },
        {
          "output_type": "stream",
          "text": [
            "[2.5GB(+0.0GB): 0.129sec] fit Y\n",
            "[2.5GB(+0.0GB): 0.124sec] fit F\n"
          ],
          "name": "stderr"
        },
        {
          "output_type": "stream",
          "text": [
            "fold 9: mean position error 38.776556847863496\n",
            "*+*+*+*+*+*+*+*+*+*+*+*+*+*+*+*+*+*+*+*+*+*+*+*+*+*+*+*+*+*+*+*+*+*+*+*+*+*+*+*+\n",
            "file #8, shape=(676, 5), name=5cd56b6be2acfd2d33b59d1f_train.csv\n",
            "mean position error 40.11037260666155\n",
            "*+*+*+*+*+*+*+*+*+*+*+*+*+*+*+*+*+*+*+*+*+*+*+*+*+*+*+*+*+*+*+*+*+*+*+*+*+*+*+*+\n",
            "Starting to train:  5cd56b6ee2acfd2d33b5a247_train.csv\n"
          ],
          "name": "stdout"
        },
        {
          "output_type": "stream",
          "text": [
            "[2.5GB(+0.0GB): 2.347sec] fit X\n",
            "[2.5GB(+0.0GB): 0.726sec] fit Y\n",
            "[2.5GB(+0.0GB): 4.417sec] fit F\n"
          ],
          "name": "stderr"
        },
        {
          "output_type": "stream",
          "text": [
            "fold 0: mean position error 4.799572163934589\n"
          ],
          "name": "stdout"
        },
        {
          "output_type": "stream",
          "text": [
            "[2.5GB(+0.0GB): 1.355sec] fit X\n",
            "[2.5GB(+0.0GB): 1.144sec] fit Y\n",
            "[2.5GB(+0.0GB): 1.511sec] fit F\n"
          ],
          "name": "stderr"
        },
        {
          "output_type": "stream",
          "text": [
            "fold 1: mean position error 4.259945359323159\n"
          ],
          "name": "stdout"
        },
        {
          "output_type": "stream",
          "text": [
            "[2.5GB(+0.0GB): 1.540sec] fit X\n",
            "[2.5GB(+0.0GB): 0.819sec] fit Y\n",
            "[2.5GB(+0.0GB): 2.925sec] fit F\n"
          ],
          "name": "stderr"
        },
        {
          "output_type": "stream",
          "text": [
            "fold 2: mean position error 4.176362255792587\n"
          ],
          "name": "stdout"
        },
        {
          "output_type": "stream",
          "text": [
            "[2.5GB(+0.0GB): 1.198sec] fit X\n",
            "[2.5GB(+0.0GB): 1.089sec] fit Y\n",
            "[2.5GB(+0.0GB): 4.211sec] fit F\n"
          ],
          "name": "stderr"
        },
        {
          "output_type": "stream",
          "text": [
            "fold 3: mean position error 4.888951311738875\n"
          ],
          "name": "stdout"
        },
        {
          "output_type": "stream",
          "text": [
            "[2.5GB(+0.0GB): 1.431sec] fit X\n",
            "[2.5GB(+0.0GB): 1.265sec] fit Y\n",
            "[2.5GB(+0.0GB): 3.340sec] fit F\n"
          ],
          "name": "stderr"
        },
        {
          "output_type": "stream",
          "text": [
            "fold 4: mean position error 4.70045453604256\n"
          ],
          "name": "stdout"
        },
        {
          "output_type": "stream",
          "text": [
            "[2.5GB(+0.0GB): 1.513sec] fit X\n",
            "[2.5GB(+0.0GB): 0.949sec] fit Y\n",
            "[2.5GB(+0.0GB): 2.710sec] fit F\n"
          ],
          "name": "stderr"
        },
        {
          "output_type": "stream",
          "text": [
            "fold 5: mean position error 5.1485677241320635\n"
          ],
          "name": "stdout"
        },
        {
          "output_type": "stream",
          "text": [
            "[2.5GB(+0.0GB): 1.304sec] fit X\n",
            "[2.5GB(+0.0GB): 1.155sec] fit Y\n",
            "[2.5GB(+0.0GB): 4.389sec] fit F\n"
          ],
          "name": "stderr"
        },
        {
          "output_type": "stream",
          "text": [
            "fold 6: mean position error 4.448175233013382\n"
          ],
          "name": "stdout"
        },
        {
          "output_type": "stream",
          "text": [
            "[2.5GB(+0.0GB): 2.030sec] fit X\n",
            "[2.5GB(+0.0GB): 2.026sec] fit Y\n",
            "[2.5GB(+0.0GB): 5.547sec] fit F\n"
          ],
          "name": "stderr"
        },
        {
          "output_type": "stream",
          "text": [
            "fold 7: mean position error 3.703874784808903\n"
          ],
          "name": "stdout"
        },
        {
          "output_type": "stream",
          "text": [
            "[2.5GB(+0.0GB): 1.247sec] fit X\n",
            "[2.5GB(+0.0GB): 1.453sec] fit Y\n",
            "[2.5GB(+0.0GB): 1.363sec] fit F\n"
          ],
          "name": "stderr"
        },
        {
          "output_type": "stream",
          "text": [
            "fold 8: mean position error 4.672145225620707\n"
          ],
          "name": "stdout"
        },
        {
          "output_type": "stream",
          "text": [
            "[2.5GB(+0.0GB): 1.944sec] fit X\n",
            "[2.5GB(+0.0GB): 1.466sec] fit Y\n",
            "[2.5GB(+0.0GB): 3.981sec] fit F\n"
          ],
          "name": "stderr"
        },
        {
          "output_type": "stream",
          "text": [
            "fold 9: mean position error 4.1745269450017854\n",
            "*+*+*+*+*+*+*+*+*+*+*+*+*+*+*+*+*+*+*+*+*+*+*+*+*+*+*+*+*+*+*+*+*+*+*+*+*+*+*+*+\n",
            "file #9, shape=(1245, 23), name=5cd56b6ee2acfd2d33b5a247_train.csv\n",
            "mean position error 4.497529841376306\n",
            "*+*+*+*+*+*+*+*+*+*+*+*+*+*+*+*+*+*+*+*+*+*+*+*+*+*+*+*+*+*+*+*+*+*+*+*+*+*+*+*+\n",
            "Starting to train:  5cd56b6fe2acfd2d33b5a386_train.csv\n"
          ],
          "name": "stdout"
        },
        {
          "output_type": "stream",
          "text": [
            "[2.5GB(+0.0GB): 3.025sec] fit X\n",
            "[2.5GB(+0.0GB): 2.141sec] fit Y\n",
            "[2.5GB(+0.0GB): 2.565sec] fit F\n"
          ],
          "name": "stderr"
        },
        {
          "output_type": "stream",
          "text": [
            "fold 0: mean position error 2.844786274499796\n"
          ],
          "name": "stdout"
        },
        {
          "output_type": "stream",
          "text": [
            "[2.5GB(+0.0GB): 4.605sec] fit X\n",
            "[2.5GB(+0.0GB): 4.822sec] fit Y\n",
            "[2.5GB(+0.0GB): 4.289sec] fit F\n"
          ],
          "name": "stderr"
        },
        {
          "output_type": "stream",
          "text": [
            "fold 1: mean position error 2.1396213484376605\n"
          ],
          "name": "stdout"
        },
        {
          "output_type": "stream",
          "text": [
            "[2.5GB(+0.0GB): 2.232sec] fit X\n",
            "[2.5GB(+0.0GB): 3.333sec] fit Y\n",
            "[2.5GB(+0.0GB): 3.244sec] fit F\n"
          ],
          "name": "stderr"
        },
        {
          "output_type": "stream",
          "text": [
            "fold 2: mean position error 2.4776412857088603\n"
          ],
          "name": "stdout"
        },
        {
          "output_type": "stream",
          "text": [
            "[2.5GB(+0.0GB): 4.020sec] fit X\n",
            "[2.5GB(+0.0GB): 3.391sec] fit Y\n",
            "[2.5GB(+0.0GB): 3.196sec] fit F\n"
          ],
          "name": "stderr"
        },
        {
          "output_type": "stream",
          "text": [
            "fold 3: mean position error 2.39684050852837\n"
          ],
          "name": "stdout"
        },
        {
          "output_type": "stream",
          "text": [
            "[2.5GB(+0.0GB): 1.984sec] fit X\n",
            "[2.5GB(+0.0GB): 2.694sec] fit Y\n",
            "[2.5GB(+0.0GB): 3.406sec] fit F\n"
          ],
          "name": "stderr"
        },
        {
          "output_type": "stream",
          "text": [
            "fold 4: mean position error 2.905417660051344\n"
          ],
          "name": "stdout"
        },
        {
          "output_type": "stream",
          "text": [
            "[2.5GB(+0.0GB): 4.478sec] fit X\n",
            "[2.5GB(+0.0GB): 3.655sec] fit Y\n",
            "[2.5GB(+0.0GB): 3.235sec] fit F\n"
          ],
          "name": "stderr"
        },
        {
          "output_type": "stream",
          "text": [
            "fold 5: mean position error 2.171370302152546\n"
          ],
          "name": "stdout"
        },
        {
          "output_type": "stream",
          "text": [
            "[2.5GB(+0.0GB): 3.041sec] fit X\n",
            "[2.5GB(+0.0GB): 3.261sec] fit Y\n",
            "[2.5GB(+0.0GB): 3.454sec] fit F\n"
          ],
          "name": "stderr"
        },
        {
          "output_type": "stream",
          "text": [
            "fold 6: mean position error 2.4098034090816274\n"
          ],
          "name": "stdout"
        },
        {
          "output_type": "stream",
          "text": [
            "[2.5GB(+0.0GB): 2.667sec] fit X\n",
            "[2.5GB(+0.0GB): 3.253sec] fit Y\n",
            "[2.5GB(+0.0GB): 3.925sec] fit F\n"
          ],
          "name": "stderr"
        },
        {
          "output_type": "stream",
          "text": [
            "fold 7: mean position error 2.630844787926694\n"
          ],
          "name": "stdout"
        },
        {
          "output_type": "stream",
          "text": [
            "[2.5GB(+0.0GB): 3.813sec] fit X\n",
            "[2.5GB(+0.0GB): 2.326sec] fit Y\n",
            "[2.5GB(+0.0GB): 1.410sec] fit F\n"
          ],
          "name": "stderr"
        },
        {
          "output_type": "stream",
          "text": [
            "fold 8: mean position error 2.6813957226388325\n"
          ],
          "name": "stdout"
        },
        {
          "output_type": "stream",
          "text": [
            "[2.5GB(+0.0GB): 3.610sec] fit X\n",
            "[2.5GB(+0.0GB): 2.717sec] fit Y\n",
            "[2.5GB(+0.0GB): 3.190sec] fit F\n"
          ],
          "name": "stderr"
        },
        {
          "output_type": "stream",
          "text": [
            "fold 9: mean position error 2.397774505244226\n",
            "*+*+*+*+*+*+*+*+*+*+*+*+*+*+*+*+*+*+*+*+*+*+*+*+*+*+*+*+*+*+*+*+*+*+*+*+*+*+*+*+\n",
            "file #10, shape=(2599, 111), name=5cd56b6fe2acfd2d33b5a386_train.csv\n",
            "mean position error 2.5055910483281814\n",
            "*+*+*+*+*+*+*+*+*+*+*+*+*+*+*+*+*+*+*+*+*+*+*+*+*+*+*+*+*+*+*+*+*+*+*+*+*+*+*+*+\n",
            "Starting to train:  5cd56b7de2acfd2d33b5c14b_train.csv\n"
          ],
          "name": "stdout"
        },
        {
          "output_type": "stream",
          "text": [
            "[2.5GB(+0.0GB): 1.210sec] fit X\n",
            "[2.5GB(+0.0GB): 1.132sec] fit Y\n",
            "[2.5GB(+0.0GB): 1.785sec] fit F\n"
          ],
          "name": "stderr"
        },
        {
          "output_type": "stream",
          "text": [
            "fold 0: mean position error 2.48005875911615\n"
          ],
          "name": "stdout"
        },
        {
          "output_type": "stream",
          "text": [
            "[2.5GB(+0.0GB): 0.892sec] fit X\n",
            "[2.5GB(+0.0GB): 1.586sec] fit Y\n",
            "[2.5GB(+0.0GB): 1.629sec] fit F\n"
          ],
          "name": "stderr"
        },
        {
          "output_type": "stream",
          "text": [
            "fold 1: mean position error 2.6516388174372465\n"
          ],
          "name": "stdout"
        },
        {
          "output_type": "stream",
          "text": [
            "[2.5GB(+0.0GB): 1.362sec] fit X\n",
            "[2.5GB(+0.0GB): 1.041sec] fit Y\n",
            "[2.5GB(+0.0GB): 2.349sec] fit F\n"
          ],
          "name": "stderr"
        },
        {
          "output_type": "stream",
          "text": [
            "fold 2: mean position error 2.609467482849302\n"
          ],
          "name": "stdout"
        },
        {
          "output_type": "stream",
          "text": [
            "[2.5GB(+0.0GB): 1.452sec] fit X\n",
            "[2.5GB(+0.0GB): 2.045sec] fit Y\n",
            "[2.5GB(+0.0GB): 2.973sec] fit F\n"
          ],
          "name": "stderr"
        },
        {
          "output_type": "stream",
          "text": [
            "fold 3: mean position error 2.3163172942675474\n"
          ],
          "name": "stdout"
        },
        {
          "output_type": "stream",
          "text": [
            "[2.5GB(+0.0GB): 1.005sec] fit X\n",
            "[2.5GB(+0.0GB): 2.014sec] fit Y\n",
            "[2.5GB(+0.0GB): 1.607sec] fit F\n"
          ],
          "name": "stderr"
        },
        {
          "output_type": "stream",
          "text": [
            "fold 4: mean position error 2.4575837070270414\n"
          ],
          "name": "stdout"
        },
        {
          "output_type": "stream",
          "text": [
            "[2.5GB(+0.0GB): 0.981sec] fit X\n",
            "[2.5GB(+0.0GB): 2.267sec] fit Y\n",
            "[2.5GB(+0.0GB): 2.593sec] fit F\n"
          ],
          "name": "stderr"
        },
        {
          "output_type": "stream",
          "text": [
            "fold 5: mean position error 2.674727955408065\n"
          ],
          "name": "stdout"
        },
        {
          "output_type": "stream",
          "text": [
            "[2.5GB(+0.0GB): 1.115sec] fit X\n",
            "[2.5GB(+0.0GB): 1.554sec] fit Y\n",
            "[2.5GB(+0.0GB): 2.361sec] fit F\n"
          ],
          "name": "stderr"
        },
        {
          "output_type": "stream",
          "text": [
            "fold 6: mean position error 2.560928163749752\n"
          ],
          "name": "stdout"
        },
        {
          "output_type": "stream",
          "text": [
            "[2.5GB(+0.0GB): 1.959sec] fit X\n",
            "[2.5GB(+0.0GB): 1.430sec] fit Y\n",
            "[2.5GB(+0.0GB): 2.014sec] fit F\n"
          ],
          "name": "stderr"
        },
        {
          "output_type": "stream",
          "text": [
            "fold 7: mean position error 2.5286551235437913\n"
          ],
          "name": "stdout"
        },
        {
          "output_type": "stream",
          "text": [
            "[2.5GB(+0.0GB): 1.861sec] fit X\n",
            "[2.5GB(+0.0GB): 1.571sec] fit Y\n",
            "[2.5GB(+0.0GB): 2.822sec] fit F\n"
          ],
          "name": "stderr"
        },
        {
          "output_type": "stream",
          "text": [
            "fold 8: mean position error 2.5338807660237044\n"
          ],
          "name": "stdout"
        },
        {
          "output_type": "stream",
          "text": [
            "[2.5GB(+0.0GB): 0.638sec] fit X\n",
            "[2.5GB(+0.0GB): 1.316sec] fit Y\n",
            "[2.5GB(+0.0GB): 1.630sec] fit F\n"
          ],
          "name": "stderr"
        },
        {
          "output_type": "stream",
          "text": [
            "fold 9: mean position error 2.874321072112626\n",
            "*+*+*+*+*+*+*+*+*+*+*+*+*+*+*+*+*+*+*+*+*+*+*+*+*+*+*+*+*+*+*+*+*+*+*+*+*+*+*+*+\n",
            "file #11, shape=(1113, 32), name=5cd56b7de2acfd2d33b5c14b_train.csv\n",
            "mean position error 2.568789263045654\n",
            "*+*+*+*+*+*+*+*+*+*+*+*+*+*+*+*+*+*+*+*+*+*+*+*+*+*+*+*+*+*+*+*+*+*+*+*+*+*+*+*+\n",
            "Starting to train:  5d27075f03f801723c2e360f_train.csv\n"
          ],
          "name": "stdout"
        },
        {
          "output_type": "stream",
          "text": [
            "[2.6GB(+0.0GB): 139.337sec] fit X\n",
            "[2.6GB(+0.0GB): 179.718sec] fit Y\n",
            "[2.6GB(+0.0GB): 312.800sec] fit F\n"
          ],
          "name": "stderr"
        },
        {
          "output_type": "stream",
          "text": [
            "fold 0: mean position error 4.340924658050775\n"
          ],
          "name": "stdout"
        },
        {
          "output_type": "stream",
          "text": [
            "[2.6GB(+0.0GB): 93.194sec] fit X\n",
            "[2.6GB(+0.0GB): 138.517sec] fit Y\n",
            "[2.6GB(+0.0GB): 379.999sec] fit F\n"
          ],
          "name": "stderr"
        },
        {
          "output_type": "stream",
          "text": [
            "fold 1: mean position error 4.388474925238961\n"
          ],
          "name": "stdout"
        },
        {
          "output_type": "stream",
          "text": [
            "[2.6GB(+0.0GB): 96.812sec] fit X\n",
            "[2.6GB(+0.0GB): 107.683sec] fit Y\n",
            "[2.6GB(+0.0GB): 153.121sec] fit F\n"
          ],
          "name": "stderr"
        },
        {
          "output_type": "stream",
          "text": [
            "fold 2: mean position error 4.331803239943483\n"
          ],
          "name": "stdout"
        },
        {
          "output_type": "stream",
          "text": [
            "[2.6GB(+0.0GB): 136.076sec] fit X\n",
            "[2.6GB(+0.0GB): 162.116sec] fit Y\n",
            "[2.6GB(+0.0GB): 137.521sec] fit F\n"
          ],
          "name": "stderr"
        },
        {
          "output_type": "stream",
          "text": [
            "fold 3: mean position error 4.286262766549499\n"
          ],
          "name": "stdout"
        },
        {
          "output_type": "stream",
          "text": [
            "[2.6GB(+0.0GB): 94.379sec] fit X\n",
            "[2.6GB(+0.0GB): 119.359sec] fit Y\n",
            "[2.6GB(+0.0GB): 130.706sec] fit F\n"
          ],
          "name": "stderr"
        },
        {
          "output_type": "stream",
          "text": [
            "fold 4: mean position error 4.337779038837541\n"
          ],
          "name": "stdout"
        },
        {
          "output_type": "stream",
          "text": [
            "[2.6GB(+0.0GB): 124.316sec] fit X\n",
            "[2.6GB(+0.0GB): 164.246sec] fit Y\n",
            "[2.6GB(+0.0GB): 205.975sec] fit F\n"
          ],
          "name": "stderr"
        },
        {
          "output_type": "stream",
          "text": [
            "fold 5: mean position error 4.351837905541037\n"
          ],
          "name": "stdout"
        },
        {
          "output_type": "stream",
          "text": [
            "[2.6GB(+0.0GB): 129.015sec] fit X\n",
            "[2.6GB(+0.0GB): 185.960sec] fit Y\n",
            "[2.6GB(+0.0GB): 239.244sec] fit F\n"
          ],
          "name": "stderr"
        },
        {
          "output_type": "stream",
          "text": [
            "fold 6: mean position error 4.384614122447961\n"
          ],
          "name": "stdout"
        },
        {
          "output_type": "stream",
          "text": [
            "[2.6GB(+0.0GB): 131.294sec] fit X\n",
            "[2.6GB(+0.0GB): 176.072sec] fit Y\n",
            "[2.6GB(+0.0GB): 142.458sec] fit F\n"
          ],
          "name": "stderr"
        },
        {
          "output_type": "stream",
          "text": [
            "fold 7: mean position error 4.29318741115888\n"
          ],
          "name": "stdout"
        },
        {
          "output_type": "stream",
          "text": [
            "[2.6GB(+0.0GB): 95.433sec] fit X\n",
            "[2.6GB(+0.0GB): 150.097sec] fit Y\n",
            "[2.6GB(+0.0GB): 190.166sec] fit F\n"
          ],
          "name": "stderr"
        },
        {
          "output_type": "stream",
          "text": [
            "fold 8: mean position error 4.375314234271338\n"
          ],
          "name": "stdout"
        },
        {
          "output_type": "stream",
          "text": [
            "[2.6GB(+0.0GB): 120.829sec] fit X\n",
            "[2.6GB(+0.0GB): 166.657sec] fit Y\n",
            "[2.6GB(+0.0GB): 343.233sec] fit F\n"
          ],
          "name": "stderr"
        },
        {
          "output_type": "stream",
          "text": [
            "fold 9: mean position error 4.377406828179538\n",
            "*+*+*+*+*+*+*+*+*+*+*+*+*+*+*+*+*+*+*+*+*+*+*+*+*+*+*+*+*+*+*+*+*+*+*+*+*+*+*+*+\n",
            "file #12, shape=(17749, 2349), name=5d27075f03f801723c2e360f_train.csv\n",
            "mean position error 4.346758786371659\n",
            "*+*+*+*+*+*+*+*+*+*+*+*+*+*+*+*+*+*+*+*+*+*+*+*+*+*+*+*+*+*+*+*+*+*+*+*+*+*+*+*+\n",
            "Starting to train:  5d27096c03f801723c31e5e0_train.csv\n"
          ],
          "name": "stdout"
        },
        {
          "output_type": "stream",
          "text": [
            "[2.6GB(+0.0GB): 21.885sec] fit X\n",
            "[2.6GB(+0.0GB): 11.784sec] fit Y\n",
            "[2.6GB(+0.0GB): 21.469sec] fit F\n"
          ],
          "name": "stderr"
        },
        {
          "output_type": "stream",
          "text": [
            "fold 0: mean position error 2.6383061342028276\n"
          ],
          "name": "stdout"
        },
        {
          "output_type": "stream",
          "text": [
            "[2.6GB(+0.0GB): 11.526sec] fit X\n",
            "[2.6GB(+0.0GB): 14.453sec] fit Y\n",
            "[2.6GB(+0.0GB): 20.774sec] fit F\n"
          ],
          "name": "stderr"
        },
        {
          "output_type": "stream",
          "text": [
            "fold 1: mean position error 2.671503887185722\n"
          ],
          "name": "stdout"
        },
        {
          "output_type": "stream",
          "text": [
            "[2.6GB(+0.0GB): 10.555sec] fit X\n",
            "[2.6GB(+0.0GB): 13.942sec] fit Y\n",
            "[2.6GB(+0.0GB): 16.447sec] fit F\n"
          ],
          "name": "stderr"
        },
        {
          "output_type": "stream",
          "text": [
            "fold 2: mean position error 2.609402481150193\n"
          ],
          "name": "stdout"
        },
        {
          "output_type": "stream",
          "text": [
            "[2.6GB(+0.0GB): 10.149sec] fit X\n",
            "[2.6GB(+0.0GB): 9.239sec] fit Y\n",
            "[2.6GB(+0.0GB): 21.117sec] fit F\n"
          ],
          "name": "stderr"
        },
        {
          "output_type": "stream",
          "text": [
            "fold 3: mean position error 2.654863355869069\n"
          ],
          "name": "stdout"
        },
        {
          "output_type": "stream",
          "text": [
            "[2.6GB(+0.0GB): 13.269sec] fit X\n",
            "[2.6GB(+0.0GB): 11.612sec] fit Y\n",
            "[2.6GB(+0.0GB): 19.773sec] fit F\n"
          ],
          "name": "stderr"
        },
        {
          "output_type": "stream",
          "text": [
            "fold 4: mean position error 2.7193927205624364\n"
          ],
          "name": "stdout"
        },
        {
          "output_type": "stream",
          "text": [
            "[2.6GB(+0.0GB): 15.146sec] fit X\n",
            "[2.6GB(+0.0GB): 10.299sec] fit Y\n",
            "[2.6GB(+0.0GB): 25.051sec] fit F\n"
          ],
          "name": "stderr"
        },
        {
          "output_type": "stream",
          "text": [
            "fold 5: mean position error 2.7759745797105437\n"
          ],
          "name": "stdout"
        },
        {
          "output_type": "stream",
          "text": [
            "[2.6GB(+0.0GB): 11.721sec] fit X\n",
            "[2.6GB(+0.0GB): 14.326sec] fit Y\n",
            "[2.6GB(+0.0GB): 16.975sec] fit F\n"
          ],
          "name": "stderr"
        },
        {
          "output_type": "stream",
          "text": [
            "fold 6: mean position error 2.8163212667840596\n"
          ],
          "name": "stdout"
        },
        {
          "output_type": "stream",
          "text": [
            "[2.6GB(+0.0GB): 13.927sec] fit X\n",
            "[2.6GB(+0.0GB): 15.486sec] fit Y\n",
            "[2.6GB(+0.0GB): 16.433sec] fit F\n"
          ],
          "name": "stderr"
        },
        {
          "output_type": "stream",
          "text": [
            "fold 7: mean position error 2.64102001179888\n"
          ],
          "name": "stdout"
        },
        {
          "output_type": "stream",
          "text": [
            "[2.6GB(+0.0GB): 12.526sec] fit X\n",
            "[2.6GB(+0.0GB): 12.472sec] fit Y\n",
            "[2.6GB(+0.0GB): 12.690sec] fit F\n"
          ],
          "name": "stderr"
        },
        {
          "output_type": "stream",
          "text": [
            "fold 8: mean position error 2.7088835626804575\n"
          ],
          "name": "stdout"
        },
        {
          "output_type": "stream",
          "text": [
            "[2.6GB(+0.0GB): 14.142sec] fit X\n",
            "[2.6GB(+0.0GB): 14.907sec] fit Y\n",
            "[2.6GB(+0.0GB): 23.423sec] fit F\n"
          ],
          "name": "stderr"
        },
        {
          "output_type": "stream",
          "text": [
            "fold 9: mean position error 2.737249802284981\n",
            "*+*+*+*+*+*+*+*+*+*+*+*+*+*+*+*+*+*+*+*+*+*+*+*+*+*+*+*+*+*+*+*+*+*+*+*+*+*+*+*+\n",
            "file #13, shape=(6825, 429), name=5d27096c03f801723c31e5e0_train.csv\n",
            "mean position error 2.6972635032526395\n",
            "*+*+*+*+*+*+*+*+*+*+*+*+*+*+*+*+*+*+*+*+*+*+*+*+*+*+*+*+*+*+*+*+*+*+*+*+*+*+*+*+\n",
            "Starting to train:  5d27097f03f801723c320d97_train.csv\n"
          ],
          "name": "stdout"
        },
        {
          "output_type": "stream",
          "text": [
            "[2.6GB(+0.0GB): 4.949sec] fit X\n",
            "[2.6GB(+0.0GB): 6.516sec] fit Y\n",
            "[2.6GB(+0.0GB): 23.000sec] fit F\n"
          ],
          "name": "stderr"
        },
        {
          "output_type": "stream",
          "text": [
            "fold 0: mean position error 14.00549577903259\n"
          ],
          "name": "stdout"
        },
        {
          "output_type": "stream",
          "text": [
            "[2.6GB(+0.0GB): 6.270sec] fit X\n",
            "[2.6GB(+0.0GB): 11.362sec] fit Y\n",
            "[2.6GB(+0.0GB): 19.227sec] fit F\n"
          ],
          "name": "stderr"
        },
        {
          "output_type": "stream",
          "text": [
            "fold 1: mean position error 11.638139250525377\n"
          ],
          "name": "stdout"
        },
        {
          "output_type": "stream",
          "text": [
            "[2.6GB(+0.0GB): 5.796sec] fit X\n",
            "[2.6GB(+0.0GB): 4.356sec] fit Y\n",
            "[2.6GB(+0.0GB): 15.841sec] fit F\n"
          ],
          "name": "stderr"
        },
        {
          "output_type": "stream",
          "text": [
            "fold 2: mean position error 13.640963213720623\n"
          ],
          "name": "stdout"
        },
        {
          "output_type": "stream",
          "text": [
            "[2.6GB(+0.0GB): 7.034sec] fit X\n",
            "[2.6GB(+0.0GB): 5.464sec] fit Y\n",
            "[2.6GB(+0.0GB): 17.640sec] fit F\n"
          ],
          "name": "stderr"
        },
        {
          "output_type": "stream",
          "text": [
            "fold 3: mean position error 10.951073863647816\n"
          ],
          "name": "stdout"
        },
        {
          "output_type": "stream",
          "text": [
            "[2.6GB(+0.0GB): 4.346sec] fit X\n",
            "[2.6GB(+0.0GB): 4.296sec] fit Y\n",
            "[2.6GB(+0.0GB): 35.326sec] fit F\n"
          ],
          "name": "stderr"
        },
        {
          "output_type": "stream",
          "text": [
            "fold 4: mean position error 11.146584766123173\n"
          ],
          "name": "stdout"
        },
        {
          "output_type": "stream",
          "text": [
            "[2.6GB(+0.0GB): 9.282sec] fit X\n",
            "[2.6GB(+0.0GB): 9.293sec] fit Y\n",
            "[2.6GB(+0.0GB): 20.319sec] fit F\n"
          ],
          "name": "stderr"
        },
        {
          "output_type": "stream",
          "text": [
            "fold 5: mean position error 11.504099543795517\n"
          ],
          "name": "stdout"
        },
        {
          "output_type": "stream",
          "text": [
            "[2.6GB(+0.0GB): 9.820sec] fit X\n",
            "[2.6GB(+0.0GB): 9.792sec] fit Y\n",
            "[2.6GB(+0.0GB): 69.813sec] fit F\n"
          ],
          "name": "stderr"
        },
        {
          "output_type": "stream",
          "text": [
            "fold 6: mean position error 11.756864798455114\n"
          ],
          "name": "stdout"
        },
        {
          "output_type": "stream",
          "text": [
            "[2.6GB(+0.0GB): 6.796sec] fit X\n",
            "[2.6GB(+0.0GB): 5.768sec] fit Y\n",
            "[2.6GB(+0.0GB): 12.287sec] fit F\n"
          ],
          "name": "stderr"
        },
        {
          "output_type": "stream",
          "text": [
            "fold 7: mean position error 10.268113078850716\n"
          ],
          "name": "stdout"
        },
        {
          "output_type": "stream",
          "text": [
            "[2.6GB(+0.0GB): 7.106sec] fit X\n",
            "[2.6GB(+0.0GB): 7.141sec] fit Y\n",
            "[2.6GB(+0.0GB): 43.653sec] fit F\n"
          ],
          "name": "stderr"
        },
        {
          "output_type": "stream",
          "text": [
            "fold 8: mean position error 11.147881393551001\n"
          ],
          "name": "stdout"
        },
        {
          "output_type": "stream",
          "text": [
            "[2.6GB(+0.0GB): 6.949sec] fit X\n",
            "[2.6GB(+0.0GB): 5.195sec] fit Y\n",
            "[2.6GB(+0.0GB): 23.988sec] fit F\n"
          ],
          "name": "stderr"
        },
        {
          "output_type": "stream",
          "text": [
            "fold 9: mean position error 11.295827421999208\n",
            "*+*+*+*+*+*+*+*+*+*+*+*+*+*+*+*+*+*+*+*+*+*+*+*+*+*+*+*+*+*+*+*+*+*+*+*+*+*+*+*+\n",
            "file #14, shape=(7880, 639), name=5d27097f03f801723c320d97_train.csv\n",
            "mean position error 11.735504310970112\n",
            "*+*+*+*+*+*+*+*+*+*+*+*+*+*+*+*+*+*+*+*+*+*+*+*+*+*+*+*+*+*+*+*+*+*+*+*+*+*+*+*+\n",
            "Starting to train:  5d27099f03f801723c32511d_train.csv\n"
          ],
          "name": "stdout"
        },
        {
          "output_type": "stream",
          "text": [
            "[2.6GB(+0.0GB): 4.711sec] fit X\n",
            "[2.6GB(+0.0GB): 2.860sec] fit Y\n",
            "[2.6GB(+0.0GB): 3.554sec] fit F\n"
          ],
          "name": "stderr"
        },
        {
          "output_type": "stream",
          "text": [
            "fold 0: mean position error 3.156644218829776\n"
          ],
          "name": "stdout"
        },
        {
          "output_type": "stream",
          "text": [
            "[2.6GB(+0.0GB): 5.059sec] fit X\n",
            "[2.6GB(+0.0GB): 5.977sec] fit Y\n",
            "[2.6GB(+0.0GB): 3.863sec] fit F\n"
          ],
          "name": "stderr"
        },
        {
          "output_type": "stream",
          "text": [
            "fold 1: mean position error 2.726722691825046\n"
          ],
          "name": "stdout"
        },
        {
          "output_type": "stream",
          "text": [
            "[2.6GB(+0.0GB): 4.375sec] fit X\n",
            "[2.6GB(+0.0GB): 5.421sec] fit Y\n",
            "[2.6GB(+0.0GB): 3.980sec] fit F\n"
          ],
          "name": "stderr"
        },
        {
          "output_type": "stream",
          "text": [
            "fold 2: mean position error 2.8710198849561333\n"
          ],
          "name": "stdout"
        },
        {
          "output_type": "stream",
          "text": [
            "[2.6GB(+0.0GB): 4.168sec] fit X\n",
            "[2.6GB(+0.0GB): 3.148sec] fit Y\n",
            "[2.6GB(+0.0GB): 4.048sec] fit F\n"
          ],
          "name": "stderr"
        },
        {
          "output_type": "stream",
          "text": [
            "fold 3: mean position error 2.8531616696910023\n"
          ],
          "name": "stdout"
        },
        {
          "output_type": "stream",
          "text": [
            "[2.6GB(+0.0GB): 4.503sec] fit X\n",
            "[2.6GB(+0.0GB): 3.981sec] fit Y\n",
            "[2.6GB(+0.0GB): 4.381sec] fit F\n"
          ],
          "name": "stderr"
        },
        {
          "output_type": "stream",
          "text": [
            "fold 4: mean position error 2.820389707881777\n"
          ],
          "name": "stdout"
        },
        {
          "output_type": "stream",
          "text": [
            "[2.6GB(+0.0GB): 3.680sec] fit X\n",
            "[2.6GB(+0.0GB): 6.288sec] fit Y\n",
            "[2.6GB(+0.0GB): 4.000sec] fit F\n"
          ],
          "name": "stderr"
        },
        {
          "output_type": "stream",
          "text": [
            "fold 5: mean position error 3.188640805309651\n"
          ],
          "name": "stdout"
        },
        {
          "output_type": "stream",
          "text": [
            "[2.6GB(+0.0GB): 3.412sec] fit X\n",
            "[2.6GB(+0.0GB): 4.629sec] fit Y\n",
            "[2.6GB(+0.0GB): 3.493sec] fit F\n"
          ],
          "name": "stderr"
        },
        {
          "output_type": "stream",
          "text": [
            "fold 6: mean position error 3.0462131504154617\n"
          ],
          "name": "stdout"
        },
        {
          "output_type": "stream",
          "text": [
            "[2.6GB(+0.0GB): 5.127sec] fit X\n",
            "[2.6GB(+0.0GB): 3.937sec] fit Y\n",
            "[2.6GB(+0.0GB): 6.276sec] fit F\n"
          ],
          "name": "stderr"
        },
        {
          "output_type": "stream",
          "text": [
            "fold 7: mean position error 2.9568494502631446\n"
          ],
          "name": "stdout"
        },
        {
          "output_type": "stream",
          "text": [
            "[2.6GB(+0.0GB): 3.047sec] fit X\n",
            "[2.6GB(+0.0GB): 11.352sec] fit Y\n",
            "[2.6GB(+0.0GB): 3.570sec] fit F\n"
          ],
          "name": "stderr"
        },
        {
          "output_type": "stream",
          "text": [
            "fold 8: mean position error 3.083829091141498\n"
          ],
          "name": "stdout"
        },
        {
          "output_type": "stream",
          "text": [
            "[2.6GB(+0.0GB): 4.879sec] fit X\n",
            "[2.6GB(+0.0GB): 3.974sec] fit Y\n",
            "[2.6GB(+0.0GB): 3.998sec] fit F\n"
          ],
          "name": "stderr"
        },
        {
          "output_type": "stream",
          "text": [
            "fold 9: mean position error 3.112792256825294\n",
            "*+*+*+*+*+*+*+*+*+*+*+*+*+*+*+*+*+*+*+*+*+*+*+*+*+*+*+*+*+*+*+*+*+*+*+*+*+*+*+*+\n",
            "file #15, shape=(3188, 339), name=5d27099f03f801723c32511d_train.csv\n",
            "mean position error 2.98155309046716\n",
            "*+*+*+*+*+*+*+*+*+*+*+*+*+*+*+*+*+*+*+*+*+*+*+*+*+*+*+*+*+*+*+*+*+*+*+*+*+*+*+*+\n",
            "Starting to train:  5d2709a003f801723c3251bf_train.csv\n"
          ],
          "name": "stdout"
        },
        {
          "output_type": "stream",
          "text": [
            "[2.6GB(+0.0GB): 2.970sec] fit X\n",
            "[2.6GB(+0.0GB): 4.499sec] fit Y\n",
            "[2.6GB(+0.0GB): 6.774sec] fit F\n"
          ],
          "name": "stderr"
        },
        {
          "output_type": "stream",
          "text": [
            "fold 0: mean position error 3.50798018040856\n"
          ],
          "name": "stdout"
        },
        {
          "output_type": "stream",
          "text": [
            "[2.6GB(+0.0GB): 6.756sec] fit X\n",
            "[2.6GB(+0.0GB): 5.611sec] fit Y\n",
            "[2.6GB(+0.0GB): 4.959sec] fit F\n"
          ],
          "name": "stderr"
        },
        {
          "output_type": "stream",
          "text": [
            "fold 1: mean position error 3.851433882950232\n"
          ],
          "name": "stdout"
        },
        {
          "output_type": "stream",
          "text": [
            "[2.6GB(+0.0GB): 6.100sec] fit X\n",
            "[2.6GB(+0.0GB): 4.003sec] fit Y\n",
            "[2.6GB(+0.0GB): 4.277sec] fit F\n"
          ],
          "name": "stderr"
        },
        {
          "output_type": "stream",
          "text": [
            "fold 2: mean position error 3.6729132541458553\n"
          ],
          "name": "stdout"
        },
        {
          "output_type": "stream",
          "text": [
            "[2.6GB(+0.0GB): 10.022sec] fit X\n",
            "[2.6GB(+0.0GB): 5.994sec] fit Y\n",
            "[2.6GB(+0.0GB): 4.607sec] fit F\n"
          ],
          "name": "stderr"
        },
        {
          "output_type": "stream",
          "text": [
            "fold 3: mean position error 3.9641810252693688\n"
          ],
          "name": "stdout"
        },
        {
          "output_type": "stream",
          "text": [
            "[2.6GB(+0.0GB): 3.041sec] fit X\n",
            "[2.6GB(+0.0GB): 4.325sec] fit Y\n",
            "[2.6GB(+0.0GB): 6.900sec] fit F\n"
          ],
          "name": "stderr"
        },
        {
          "output_type": "stream",
          "text": [
            "fold 4: mean position error 3.773135159134402\n"
          ],
          "name": "stdout"
        },
        {
          "output_type": "stream",
          "text": [
            "[2.6GB(+0.0GB): 3.023sec] fit X\n",
            "[2.6GB(+0.0GB): 3.569sec] fit Y\n",
            "[2.6GB(+0.0GB): 6.609sec] fit F\n"
          ],
          "name": "stderr"
        },
        {
          "output_type": "stream",
          "text": [
            "fold 5: mean position error 3.8513636985504567\n"
          ],
          "name": "stdout"
        },
        {
          "output_type": "stream",
          "text": [
            "[2.6GB(+0.0GB): 3.942sec] fit X\n",
            "[2.6GB(+0.0GB): 5.542sec] fit Y\n",
            "[2.6GB(+0.0GB): 5.397sec] fit F\n"
          ],
          "name": "stderr"
        },
        {
          "output_type": "stream",
          "text": [
            "fold 6: mean position error 3.738483686976374\n"
          ],
          "name": "stdout"
        },
        {
          "output_type": "stream",
          "text": [
            "[2.6GB(+0.0GB): 11.597sec] fit X\n",
            "[2.6GB(+0.0GB): 4.206sec] fit Y\n",
            "[2.6GB(+0.0GB): 5.644sec] fit F\n"
          ],
          "name": "stderr"
        },
        {
          "output_type": "stream",
          "text": [
            "fold 7: mean position error 4.306739521645312\n"
          ],
          "name": "stdout"
        },
        {
          "output_type": "stream",
          "text": [
            "[2.6GB(+0.0GB): 3.616sec] fit X\n",
            "[2.6GB(+0.0GB): 3.956sec] fit Y\n",
            "[2.6GB(+0.0GB): 7.464sec] fit F\n"
          ],
          "name": "stderr"
        },
        {
          "output_type": "stream",
          "text": [
            "fold 8: mean position error 3.568592283528612\n"
          ],
          "name": "stdout"
        },
        {
          "output_type": "stream",
          "text": [
            "[2.6GB(+0.0GB): 4.617sec] fit X\n",
            "[2.6GB(+0.0GB): 3.963sec] fit Y\n",
            "[2.6GB(+0.0GB): 8.064sec] fit F\n"
          ],
          "name": "stderr"
        },
        {
          "output_type": "stream",
          "text": [
            "fold 9: mean position error 3.5286096870981063\n",
            "*+*+*+*+*+*+*+*+*+*+*+*+*+*+*+*+*+*+*+*+*+*+*+*+*+*+*+*+*+*+*+*+*+*+*+*+*+*+*+*+\n",
            "file #16, shape=(2955, 275), name=5d2709a003f801723c3251bf_train.csv\n",
            "mean position error 3.776305311511187\n",
            "*+*+*+*+*+*+*+*+*+*+*+*+*+*+*+*+*+*+*+*+*+*+*+*+*+*+*+*+*+*+*+*+*+*+*+*+*+*+*+*+\n",
            "Starting to train:  5d2709b303f801723c327472_train.csv\n"
          ],
          "name": "stdout"
        },
        {
          "output_type": "stream",
          "text": [
            "[2.6GB(+0.0GB): 32.899sec] fit X\n",
            "[2.6GB(+0.0GB): 23.445sec] fit Y\n",
            "[2.6GB(+0.0GB): 64.738sec] fit F\n"
          ],
          "name": "stderr"
        },
        {
          "output_type": "stream",
          "text": [
            "fold 0: mean position error 3.8836386905350437\n"
          ],
          "name": "stdout"
        },
        {
          "output_type": "stream",
          "text": [
            "[2.6GB(+0.0GB): 15.866sec] fit X\n",
            "[2.6GB(+0.0GB): 14.372sec] fit Y\n",
            "[2.6GB(+0.0GB): 44.978sec] fit F\n"
          ],
          "name": "stderr"
        },
        {
          "output_type": "stream",
          "text": [
            "fold 1: mean position error 3.6399763018854014\n"
          ],
          "name": "stdout"
        },
        {
          "output_type": "stream",
          "text": [
            "[2.6GB(+0.0GB): 17.493sec] fit X\n",
            "[2.6GB(+0.0GB): 18.730sec] fit Y\n",
            "[2.6GB(+0.0GB): 80.841sec] fit F\n"
          ],
          "name": "stderr"
        },
        {
          "output_type": "stream",
          "text": [
            "fold 2: mean position error 3.817764488636374\n"
          ],
          "name": "stdout"
        },
        {
          "output_type": "stream",
          "text": [
            "[2.6GB(+0.0GB): 28.081sec] fit X\n",
            "[2.6GB(+0.0GB): 27.448sec] fit Y\n",
            "[2.6GB(+0.0GB): 70.113sec] fit F\n"
          ],
          "name": "stderr"
        },
        {
          "output_type": "stream",
          "text": [
            "fold 3: mean position error 3.560149431015205\n"
          ],
          "name": "stdout"
        },
        {
          "output_type": "stream",
          "text": [
            "[2.6GB(+0.0GB): 37.078sec] fit X\n",
            "[2.6GB(+0.0GB): 23.001sec] fit Y\n",
            "[2.6GB(+0.0GB): 46.720sec] fit F\n"
          ],
          "name": "stderr"
        },
        {
          "output_type": "stream",
          "text": [
            "fold 4: mean position error 3.473551711472924\n"
          ],
          "name": "stdout"
        },
        {
          "output_type": "stream",
          "text": [
            "[2.6GB(+0.0GB): 26.792sec] fit X\n",
            "[2.6GB(+0.0GB): 22.830sec] fit Y\n",
            "[2.6GB(+0.0GB): 31.613sec] fit F\n"
          ],
          "name": "stderr"
        },
        {
          "output_type": "stream",
          "text": [
            "fold 5: mean position error 3.538943949549469\n"
          ],
          "name": "stdout"
        },
        {
          "output_type": "stream",
          "text": [
            "[2.6GB(+0.0GB): 13.425sec] fit X\n",
            "[2.6GB(+0.0GB): 19.956sec] fit Y\n",
            "[2.6GB(+0.0GB): 52.525sec] fit F\n"
          ],
          "name": "stderr"
        },
        {
          "output_type": "stream",
          "text": [
            "fold 6: mean position error 3.717655953501912\n"
          ],
          "name": "stdout"
        },
        {
          "output_type": "stream",
          "text": [
            "[2.6GB(+0.0GB): 15.871sec] fit X\n",
            "[2.6GB(+0.0GB): 15.939sec] fit Y\n",
            "[2.6GB(+0.0GB): 69.289sec] fit F\n"
          ],
          "name": "stderr"
        },
        {
          "output_type": "stream",
          "text": [
            "fold 7: mean position error 3.853035010866042\n"
          ],
          "name": "stdout"
        },
        {
          "output_type": "stream",
          "text": [
            "[2.6GB(+0.0GB): 27.807sec] fit X\n",
            "[2.6GB(+0.0GB): 22.347sec] fit Y\n",
            "[2.6GB(+0.0GB): 71.112sec] fit F\n"
          ],
          "name": "stderr"
        },
        {
          "output_type": "stream",
          "text": [
            "fold 8: mean position error 3.7242247450780708\n"
          ],
          "name": "stdout"
        },
        {
          "output_type": "stream",
          "text": [
            "[2.6GB(+0.0GB): 13.264sec] fit X\n",
            "[2.6GB(+0.0GB): 22.779sec] fit Y\n",
            "[2.6GB(+0.0GB): 71.574sec] fit F\n"
          ],
          "name": "stderr"
        },
        {
          "output_type": "stream",
          "text": [
            "fold 9: mean position error 3.668256622237961\n",
            "*+*+*+*+*+*+*+*+*+*+*+*+*+*+*+*+*+*+*+*+*+*+*+*+*+*+*+*+*+*+*+*+*+*+*+*+*+*+*+*+\n",
            "file #17, shape=(11518, 694), name=5d2709b303f801723c327472_train.csv\n",
            "mean position error 3.687718210881872\n",
            "*+*+*+*+*+*+*+*+*+*+*+*+*+*+*+*+*+*+*+*+*+*+*+*+*+*+*+*+*+*+*+*+*+*+*+*+*+*+*+*+\n",
            "Starting to train:  5d2709bb03f801723c32852c_train.csv\n"
          ],
          "name": "stdout"
        },
        {
          "output_type": "stream",
          "text": [
            "[2.6GB(+0.0GB): 44.243sec] fit X\n",
            "[2.6GB(+0.0GB): 45.908sec] fit Y\n",
            "[2.6GB(+0.0GB): 57.884sec] fit F\n"
          ],
          "name": "stderr"
        },
        {
          "output_type": "stream",
          "text": [
            "fold 0: mean position error 4.082549284013288\n"
          ],
          "name": "stdout"
        },
        {
          "output_type": "stream",
          "text": [
            "[2.6GB(+0.0GB): 50.617sec] fit X\n",
            "[2.6GB(+0.0GB): 27.025sec] fit Y\n",
            "[2.6GB(+0.0GB): 27.222sec] fit F\n"
          ],
          "name": "stderr"
        },
        {
          "output_type": "stream",
          "text": [
            "fold 1: mean position error 4.307449204148161\n"
          ],
          "name": "stdout"
        },
        {
          "output_type": "stream",
          "text": [
            "[2.6GB(+0.0GB): 28.584sec] fit X\n",
            "[2.6GB(+0.0GB): 51.915sec] fit Y\n",
            "[2.6GB(+0.0GB): 59.542sec] fit F\n"
          ],
          "name": "stderr"
        },
        {
          "output_type": "stream",
          "text": [
            "fold 2: mean position error 4.059133121353668\n"
          ],
          "name": "stdout"
        },
        {
          "output_type": "stream",
          "text": [
            "[2.6GB(+0.0GB): 30.359sec] fit X\n",
            "[2.6GB(+0.0GB): 28.528sec] fit Y\n",
            "[2.6GB(+0.0GB): 74.523sec] fit F\n"
          ],
          "name": "stderr"
        },
        {
          "output_type": "stream",
          "text": [
            "fold 3: mean position error 4.755547098730412\n"
          ],
          "name": "stdout"
        },
        {
          "output_type": "stream",
          "text": [
            "[2.6GB(+0.0GB): 46.623sec] fit X\n",
            "[2.6GB(+0.0GB): 26.099sec] fit Y\n",
            "[2.6GB(+0.0GB): 37.754sec] fit F\n"
          ],
          "name": "stderr"
        },
        {
          "output_type": "stream",
          "text": [
            "fold 4: mean position error 4.359346992442518\n"
          ],
          "name": "stdout"
        },
        {
          "output_type": "stream",
          "text": [
            "[2.6GB(+0.0GB): 43.028sec] fit X\n",
            "[2.6GB(+0.0GB): 38.434sec] fit Y\n",
            "[2.6GB(+0.0GB): 41.085sec] fit F\n"
          ],
          "name": "stderr"
        },
        {
          "output_type": "stream",
          "text": [
            "fold 5: mean position error 4.263674757402528\n"
          ],
          "name": "stdout"
        },
        {
          "output_type": "stream",
          "text": [
            "[2.6GB(+0.0GB): 34.780sec] fit X\n",
            "[2.6GB(+0.0GB): 29.703sec] fit Y\n",
            "[2.6GB(+0.0GB): 78.218sec] fit F\n"
          ],
          "name": "stderr"
        },
        {
          "output_type": "stream",
          "text": [
            "fold 6: mean position error 4.53813005221735\n"
          ],
          "name": "stdout"
        },
        {
          "output_type": "stream",
          "text": [
            "[2.6GB(+0.0GB): 30.860sec] fit X\n",
            "[2.6GB(+0.0GB): 30.611sec] fit Y\n",
            "[2.6GB(+0.0GB): 62.109sec] fit F\n"
          ],
          "name": "stderr"
        },
        {
          "output_type": "stream",
          "text": [
            "fold 7: mean position error 4.4294020801835385\n"
          ],
          "name": "stdout"
        },
        {
          "output_type": "stream",
          "text": [
            "[2.6GB(+0.0GB): 32.910sec] fit X\n",
            "[2.6GB(-0.0GB): 52.100sec] fit Y\n",
            "[2.6GB(+0.0GB): 21.328sec] fit F\n"
          ],
          "name": "stderr"
        },
        {
          "output_type": "stream",
          "text": [
            "fold 8: mean position error 4.377522051937091\n"
          ],
          "name": "stdout"
        },
        {
          "output_type": "stream",
          "text": [
            "[2.6GB(+0.0GB): 41.894sec] fit X\n",
            "[2.6GB(+0.0GB): 33.362sec] fit Y\n",
            "[2.6GB(+0.0GB): 28.975sec] fit F\n"
          ],
          "name": "stderr"
        },
        {
          "output_type": "stream",
          "text": [
            "fold 9: mean position error 4.078186959764928\n",
            "*+*+*+*+*+*+*+*+*+*+*+*+*+*+*+*+*+*+*+*+*+*+*+*+*+*+*+*+*+*+*+*+*+*+*+*+*+*+*+*+\n",
            "file #18, shape=(12902, 1101), name=5d2709bb03f801723c32852c_train.csv\n",
            "mean position error 4.325073993591518\n",
            "*+*+*+*+*+*+*+*+*+*+*+*+*+*+*+*+*+*+*+*+*+*+*+*+*+*+*+*+*+*+*+*+*+*+*+*+*+*+*+*+\n",
            "Starting to train:  5d2709c303f801723c3299ee_train.csv\n"
          ],
          "name": "stdout"
        },
        {
          "output_type": "stream",
          "text": [
            "[2.6GB(+0.0GB): 23.842sec] fit X\n",
            "[2.6GB(+0.0GB): 25.216sec] fit Y\n",
            "[2.6GB(+0.0GB): 61.613sec] fit F\n"
          ],
          "name": "stderr"
        },
        {
          "output_type": "stream",
          "text": [
            "fold 0: mean position error 4.036346110959315\n"
          ],
          "name": "stdout"
        },
        {
          "output_type": "stream",
          "text": [
            "[2.6GB(+0.0GB): 24.659sec] fit X\n",
            "[2.6GB(+0.0GB): 28.066sec] fit Y\n",
            "[2.6GB(+0.0GB): 52.991sec] fit F\n"
          ],
          "name": "stderr"
        },
        {
          "output_type": "stream",
          "text": [
            "fold 1: mean position error 4.173842238311661\n"
          ],
          "name": "stdout"
        },
        {
          "output_type": "stream",
          "text": [
            "[2.6GB(+0.0GB): 24.071sec] fit X\n",
            "[2.6GB(+0.0GB): 26.510sec] fit Y\n",
            "[2.6GB(+0.0GB): 108.506sec] fit F\n"
          ],
          "name": "stderr"
        },
        {
          "output_type": "stream",
          "text": [
            "fold 2: mean position error 4.221711672902377\n"
          ],
          "name": "stdout"
        },
        {
          "output_type": "stream",
          "text": [
            "[2.6GB(+0.0GB): 26.086sec] fit X\n",
            "[2.6GB(+0.0GB): 32.802sec] fit Y\n",
            "[2.6GB(+0.0GB): 22.522sec] fit F\n"
          ],
          "name": "stderr"
        },
        {
          "output_type": "stream",
          "text": [
            "fold 3: mean position error 4.406560185024133\n"
          ],
          "name": "stdout"
        },
        {
          "output_type": "stream",
          "text": [
            "[2.6GB(+0.0GB): 26.378sec] fit X\n",
            "[2.6GB(+0.0GB): 29.269sec] fit Y\n",
            "[2.6GB(+0.0GB): 92.954sec] fit F\n"
          ],
          "name": "stderr"
        },
        {
          "output_type": "stream",
          "text": [
            "fold 4: mean position error 4.182936587201684\n"
          ],
          "name": "stdout"
        },
        {
          "output_type": "stream",
          "text": [
            "[2.6GB(+0.0GB): 28.270sec] fit X\n",
            "[2.6GB(+0.0GB): 27.700sec] fit Y\n",
            "[2.6GB(+0.0GB): 116.261sec] fit F\n"
          ],
          "name": "stderr"
        },
        {
          "output_type": "stream",
          "text": [
            "fold 5: mean position error 4.202406328384236\n"
          ],
          "name": "stdout"
        },
        {
          "output_type": "stream",
          "text": [
            "[2.6GB(+0.0GB): 20.294sec] fit X\n",
            "[2.6GB(+0.0GB): 25.604sec] fit Y\n",
            "[2.6GB(+0.0GB): 41.689sec] fit F\n"
          ],
          "name": "stderr"
        },
        {
          "output_type": "stream",
          "text": [
            "fold 6: mean position error 4.4427033425975235\n"
          ],
          "name": "stdout"
        },
        {
          "output_type": "stream",
          "text": [
            "[2.6GB(+0.0GB): 22.489sec] fit X\n",
            "[2.6GB(+0.0GB): 22.908sec] fit Y\n",
            "[2.6GB(+0.0GB): 93.824sec] fit F\n"
          ],
          "name": "stderr"
        },
        {
          "output_type": "stream",
          "text": [
            "fold 7: mean position error 4.36815257308415\n"
          ],
          "name": "stdout"
        },
        {
          "output_type": "stream",
          "text": [
            "[2.6GB(+0.0GB): 28.929sec] fit X\n",
            "[2.6GB(+0.0GB): 22.824sec] fit Y\n",
            "[2.6GB(+0.0GB): 113.917sec] fit F\n"
          ],
          "name": "stderr"
        },
        {
          "output_type": "stream",
          "text": [
            "fold 8: mean position error 4.4377345881326855\n"
          ],
          "name": "stdout"
        },
        {
          "output_type": "stream",
          "text": [
            "[2.6GB(+0.0GB): 24.052sec] fit X\n",
            "[2.6GB(+0.0GB): 29.530sec] fit Y\n",
            "[2.6GB(+0.0GB): 104.307sec] fit F\n"
          ],
          "name": "stderr"
        },
        {
          "output_type": "stream",
          "text": [
            "fold 9: mean position error 4.167851508934393\n",
            "*+*+*+*+*+*+*+*+*+*+*+*+*+*+*+*+*+*+*+*+*+*+*+*+*+*+*+*+*+*+*+*+*+*+*+*+*+*+*+*+\n",
            "file #19, shape=(7562, 1210), name=5d2709c303f801723c3299ee_train.csv\n",
            "mean position error 4.263982479610101\n",
            "*+*+*+*+*+*+*+*+*+*+*+*+*+*+*+*+*+*+*+*+*+*+*+*+*+*+*+*+*+*+*+*+*+*+*+*+*+*+*+*+\n",
            "Starting to train:  5d2709d403f801723c32bd39_train.csv\n"
          ],
          "name": "stdout"
        },
        {
          "output_type": "stream",
          "text": [
            "[2.6GB(+0.0GB): 18.334sec] fit X\n",
            "[2.6GB(+0.0GB): 22.656sec] fit Y\n",
            "[2.6GB(+0.0GB): 8.672sec] fit F\n"
          ],
          "name": "stderr"
        },
        {
          "output_type": "stream",
          "text": [
            "fold 0: mean position error 3.1338646063331574\n"
          ],
          "name": "stdout"
        },
        {
          "output_type": "stream",
          "text": [
            "[2.6GB(+0.0GB): 13.689sec] fit X\n",
            "[2.6GB(+0.0GB): 14.978sec] fit Y\n",
            "[2.6GB(+0.0GB): 14.106sec] fit F\n"
          ],
          "name": "stderr"
        },
        {
          "output_type": "stream",
          "text": [
            "fold 1: mean position error 3.0829556043319384\n"
          ],
          "name": "stdout"
        },
        {
          "output_type": "stream",
          "text": [
            "[2.6GB(+0.0GB): 18.268sec] fit X\n",
            "[2.6GB(+0.0GB): 13.851sec] fit Y\n",
            "[2.6GB(+0.0GB): 14.389sec] fit F\n"
          ],
          "name": "stderr"
        },
        {
          "output_type": "stream",
          "text": [
            "fold 2: mean position error 3.1688269435311986\n"
          ],
          "name": "stdout"
        },
        {
          "output_type": "stream",
          "text": [
            "[2.6GB(+0.0GB): 14.599sec] fit X\n",
            "[2.6GB(+0.0GB): 22.321sec] fit Y\n",
            "[2.6GB(+0.0GB): 14.286sec] fit F\n"
          ],
          "name": "stderr"
        },
        {
          "output_type": "stream",
          "text": [
            "fold 3: mean position error 3.075497813122121\n"
          ],
          "name": "stdout"
        },
        {
          "output_type": "stream",
          "text": [
            "[2.6GB(+0.0GB): 18.428sec] fit X\n",
            "[2.6GB(+0.0GB): 14.266sec] fit Y\n",
            "[2.6GB(+0.0GB): 15.727sec] fit F\n"
          ],
          "name": "stderr"
        },
        {
          "output_type": "stream",
          "text": [
            "fold 4: mean position error 3.1997545138386236\n"
          ],
          "name": "stdout"
        },
        {
          "output_type": "stream",
          "text": [
            "[2.6GB(+0.0GB): 14.832sec] fit X\n",
            "[2.6GB(+0.0GB): 14.044sec] fit Y\n",
            "[2.6GB(+0.0GB): 17.246sec] fit F\n"
          ],
          "name": "stderr"
        },
        {
          "output_type": "stream",
          "text": [
            "fold 5: mean position error 3.002502253014417\n"
          ],
          "name": "stdout"
        },
        {
          "output_type": "stream",
          "text": [
            "[2.6GB(+0.0GB): 11.525sec] fit X\n",
            "[2.6GB(+0.0GB): 22.517sec] fit Y\n",
            "[2.6GB(+0.0GB): 14.538sec] fit F\n"
          ],
          "name": "stderr"
        },
        {
          "output_type": "stream",
          "text": [
            "fold 6: mean position error 3.2817709695602364\n"
          ],
          "name": "stdout"
        },
        {
          "output_type": "stream",
          "text": [
            "[2.6GB(+0.0GB): 13.083sec] fit X\n",
            "[2.6GB(+0.0GB): 15.857sec] fit Y\n",
            "[2.6GB(+0.0GB): 8.101sec] fit F\n"
          ],
          "name": "stderr"
        },
        {
          "output_type": "stream",
          "text": [
            "fold 7: mean position error 3.116760322322914\n"
          ],
          "name": "stdout"
        },
        {
          "output_type": "stream",
          "text": [
            "[2.6GB(+0.0GB): 12.848sec] fit X\n",
            "[2.6GB(+0.0GB): 19.387sec] fit Y\n",
            "[2.6GB(+0.0GB): 4.499sec] fit F\n"
          ],
          "name": "stderr"
        },
        {
          "output_type": "stream",
          "text": [
            "fold 8: mean position error 3.147146180413923\n"
          ],
          "name": "stdout"
        },
        {
          "output_type": "stream",
          "text": [
            "[2.6GB(+0.0GB): 14.683sec] fit X\n",
            "[2.6GB(+0.0GB): 13.788sec] fit Y\n",
            "[2.6GB(+0.0GB): 12.047sec] fit F\n"
          ],
          "name": "stderr"
        },
        {
          "output_type": "stream",
          "text": [
            "fold 9: mean position error 3.031658060589225\n",
            "*+*+*+*+*+*+*+*+*+*+*+*+*+*+*+*+*+*+*+*+*+*+*+*+*+*+*+*+*+*+*+*+*+*+*+*+*+*+*+*+\n",
            "file #20, shape=(7520, 437), name=5d2709d403f801723c32bd39_train.csv\n",
            "mean position error 3.124073726705775\n",
            "*+*+*+*+*+*+*+*+*+*+*+*+*+*+*+*+*+*+*+*+*+*+*+*+*+*+*+*+*+*+*+*+*+*+*+*+*+*+*+*+\n",
            "Starting to train:  5da1382d4db8ce0c98bbe92e_train.csv\n"
          ],
          "name": "stdout"
        },
        {
          "output_type": "stream",
          "text": [
            "[2.6GB(+0.0GB): 28.929sec] fit X\n",
            "[2.6GB(+0.0GB): 17.298sec] fit Y\n",
            "[2.6GB(+0.0GB): 49.416sec] fit F\n"
          ],
          "name": "stderr"
        },
        {
          "output_type": "stream",
          "text": [
            "fold 0: mean position error 3.9591050292530405\n"
          ],
          "name": "stdout"
        },
        {
          "output_type": "stream",
          "text": [
            "[2.6GB(+0.0GB): 19.358sec] fit X\n",
            "[2.6GB(+0.0GB): 23.627sec] fit Y\n",
            "[2.6GB(+0.0GB): 25.637sec] fit F\n"
          ],
          "name": "stderr"
        },
        {
          "output_type": "stream",
          "text": [
            "fold 1: mean position error 4.152862179915019\n"
          ],
          "name": "stdout"
        },
        {
          "output_type": "stream",
          "text": [
            "[2.6GB(+0.0GB): 23.982sec] fit X\n",
            "[2.6GB(+0.0GB): 20.309sec] fit Y\n",
            "[2.6GB(+0.0GB): 66.550sec] fit F\n"
          ],
          "name": "stderr"
        },
        {
          "output_type": "stream",
          "text": [
            "fold 2: mean position error 4.003954147429328\n"
          ],
          "name": "stdout"
        },
        {
          "output_type": "stream",
          "text": [
            "[2.6GB(+0.0GB): 22.285sec] fit X\n",
            "[2.6GB(+0.0GB): 30.625sec] fit Y\n",
            "[2.6GB(+0.0GB): 71.247sec] fit F\n"
          ],
          "name": "stderr"
        },
        {
          "output_type": "stream",
          "text": [
            "fold 3: mean position error 4.280531139952986\n"
          ],
          "name": "stdout"
        },
        {
          "output_type": "stream",
          "text": [
            "[2.6GB(+0.0GB): 22.666sec] fit X\n",
            "[2.6GB(+0.0GB): 37.149sec] fit Y\n",
            "[2.6GB(+0.0GB): 75.581sec] fit F\n"
          ],
          "name": "stderr"
        },
        {
          "output_type": "stream",
          "text": [
            "fold 4: mean position error 3.8870815014079736\n"
          ],
          "name": "stdout"
        },
        {
          "output_type": "stream",
          "text": [
            "[2.6GB(+0.0GB): 15.345sec] fit X\n",
            "[2.6GB(+0.0GB): 20.193sec] fit Y\n",
            "[2.6GB(+0.0GB): 70.980sec] fit F\n"
          ],
          "name": "stderr"
        },
        {
          "output_type": "stream",
          "text": [
            "fold 5: mean position error 4.149974584748909\n"
          ],
          "name": "stdout"
        },
        {
          "output_type": "stream",
          "text": [
            "[2.6GB(+0.0GB): 28.432sec] fit X\n",
            "[2.6GB(+0.0GB): 23.436sec] fit Y\n",
            "[2.6GB(+0.0GB): 74.278sec] fit F\n"
          ],
          "name": "stderr"
        },
        {
          "output_type": "stream",
          "text": [
            "fold 6: mean position error 3.851294188877552\n"
          ],
          "name": "stdout"
        },
        {
          "output_type": "stream",
          "text": [
            "[2.6GB(+0.0GB): 14.614sec] fit X\n",
            "[2.6GB(+0.0GB): 26.998sec] fit Y\n",
            "[2.6GB(+0.0GB): 54.275sec] fit F\n"
          ],
          "name": "stderr"
        },
        {
          "output_type": "stream",
          "text": [
            "fold 7: mean position error 4.445382563285157\n"
          ],
          "name": "stdout"
        },
        {
          "output_type": "stream",
          "text": [
            "[2.6GB(+0.0GB): 18.848sec] fit X\n",
            "[2.6GB(+0.0GB): 20.643sec] fit Y\n",
            "[2.6GB(+0.0GB): 66.029sec] fit F\n"
          ],
          "name": "stderr"
        },
        {
          "output_type": "stream",
          "text": [
            "fold 8: mean position error 3.97425984787841\n"
          ],
          "name": "stdout"
        },
        {
          "output_type": "stream",
          "text": [
            "[2.6GB(+0.0GB): 20.080sec] fit X\n",
            "[2.6GB(+0.0GB): 22.359sec] fit Y\n",
            "[2.6GB(+0.0GB): 44.630sec] fit F\n"
          ],
          "name": "stderr"
        },
        {
          "output_type": "stream",
          "text": [
            "fold 9: mean position error 4.190180499837788\n",
            "*+*+*+*+*+*+*+*+*+*+*+*+*+*+*+*+*+*+*+*+*+*+*+*+*+*+*+*+*+*+*+*+*+*+*+*+*+*+*+*+\n",
            "file #21, shape=(6749, 1225), name=5da1382d4db8ce0c98bbe92e_train.csv\n",
            "mean position error 4.0894476448726955\n",
            "*+*+*+*+*+*+*+*+*+*+*+*+*+*+*+*+*+*+*+*+*+*+*+*+*+*+*+*+*+*+*+*+*+*+*+*+*+*+*+*+\n",
            "Starting to train:  5da1383b4db8ce0c98bc11ab_train.csv\n"
          ],
          "name": "stdout"
        },
        {
          "output_type": "stream",
          "text": [
            "[2.6GB(+0.0GB): 28.274sec] fit X\n",
            "[2.6GB(+0.0GB): 29.422sec] fit Y\n",
            "[2.6GB(+0.0GB): 20.924sec] fit F\n"
          ],
          "name": "stderr"
        },
        {
          "output_type": "stream",
          "text": [
            "fold 0: mean position error 3.53937520727095\n"
          ],
          "name": "stdout"
        },
        {
          "output_type": "stream",
          "text": [
            "[2.6GB(+0.0GB): 25.687sec] fit X\n",
            "[2.6GB(+0.0GB): 32.360sec] fit Y\n",
            "[2.6GB(+0.0GB): 22.787sec] fit F\n"
          ],
          "name": "stderr"
        },
        {
          "output_type": "stream",
          "text": [
            "fold 1: mean position error 3.419408933120211\n"
          ],
          "name": "stdout"
        },
        {
          "output_type": "stream",
          "text": [
            "[2.6GB(+0.0GB): 30.621sec] fit X\n",
            "[2.6GB(+0.0GB): 28.783sec] fit Y\n",
            "[2.6GB(+0.0GB): 21.887sec] fit F\n"
          ],
          "name": "stderr"
        },
        {
          "output_type": "stream",
          "text": [
            "fold 2: mean position error 3.5043562035182276\n"
          ],
          "name": "stdout"
        },
        {
          "output_type": "stream",
          "text": [
            "[2.6GB(+0.0GB): 34.914sec] fit X\n",
            "[2.6GB(+0.0GB): 30.028sec] fit Y\n",
            "[2.6GB(+0.0GB): 13.482sec] fit F\n"
          ],
          "name": "stderr"
        },
        {
          "output_type": "stream",
          "text": [
            "fold 3: mean position error 3.3835103516645093\n"
          ],
          "name": "stdout"
        },
        {
          "output_type": "stream",
          "text": [
            "[2.6GB(+0.0GB): 36.163sec] fit X\n",
            "[2.6GB(+0.0GB): 22.623sec] fit Y\n",
            "[2.6GB(+0.0GB): 14.148sec] fit F\n"
          ],
          "name": "stderr"
        },
        {
          "output_type": "stream",
          "text": [
            "fold 4: mean position error 3.3703785473069527\n"
          ],
          "name": "stdout"
        },
        {
          "output_type": "stream",
          "text": [
            "[2.6GB(+0.0GB): 23.876sec] fit X\n",
            "[2.6GB(+0.0GB): 45.471sec] fit Y\n",
            "[2.6GB(+0.0GB): 26.856sec] fit F\n"
          ],
          "name": "stderr"
        },
        {
          "output_type": "stream",
          "text": [
            "fold 5: mean position error 3.275542697768033\n"
          ],
          "name": "stdout"
        },
        {
          "output_type": "stream",
          "text": [
            "[2.6GB(+0.0GB): 24.157sec] fit X\n",
            "[2.6GB(+0.0GB): 20.478sec] fit Y\n",
            "[2.6GB(+0.0GB): 21.480sec] fit F\n"
          ],
          "name": "stderr"
        },
        {
          "output_type": "stream",
          "text": [
            "fold 6: mean position error 3.4332807018370213\n"
          ],
          "name": "stdout"
        },
        {
          "output_type": "stream",
          "text": [
            "[2.6GB(+0.0GB): 32.878sec] fit X\n",
            "[2.6GB(+0.0GB): 25.893sec] fit Y\n",
            "[2.6GB(+0.0GB): 35.003sec] fit F\n"
          ],
          "name": "stderr"
        },
        {
          "output_type": "stream",
          "text": [
            "fold 7: mean position error 3.5031019664738228\n"
          ],
          "name": "stdout"
        },
        {
          "output_type": "stream",
          "text": [
            "[2.6GB(+0.0GB): 27.762sec] fit X\n",
            "[2.6GB(+0.0GB): 25.735sec] fit Y\n",
            "[2.6GB(+0.0GB): 21.074sec] fit F\n"
          ],
          "name": "stderr"
        },
        {
          "output_type": "stream",
          "text": [
            "fold 8: mean position error 3.5409785079764453\n"
          ],
          "name": "stdout"
        },
        {
          "output_type": "stream",
          "text": [
            "[2.6GB(+0.0GB): 25.846sec] fit X\n",
            "[2.6GB(+0.0GB): 18.429sec] fit Y\n",
            "[2.6GB(+0.0GB): 32.434sec] fit F\n"
          ],
          "name": "stderr"
        },
        {
          "output_type": "stream",
          "text": [
            "fold 9: mean position error 3.546716574249719\n",
            "*+*+*+*+*+*+*+*+*+*+*+*+*+*+*+*+*+*+*+*+*+*+*+*+*+*+*+*+*+*+*+*+*+*+*+*+*+*+*+*+\n",
            "file #22, shape=(9897, 751), name=5da1383b4db8ce0c98bc11ab_train.csv\n",
            "mean position error 3.451641143500589\n",
            "*+*+*+*+*+*+*+*+*+*+*+*+*+*+*+*+*+*+*+*+*+*+*+*+*+*+*+*+*+*+*+*+*+*+*+*+*+*+*+*+\n",
            "Starting to train:  5da138b74db8ce0c98bd4774_train.csv\n"
          ],
          "name": "stdout"
        },
        {
          "output_type": "stream",
          "text": [
            "[2.6GB(+0.0GB): 52.969sec] fit X\n",
            "[2.6GB(+0.0GB): 36.114sec] fit Y\n",
            "[2.6GB(+0.0GB): 127.343sec] fit F\n"
          ],
          "name": "stderr"
        },
        {
          "output_type": "stream",
          "text": [
            "fold 0: mean position error 6.199876117423827\n"
          ],
          "name": "stdout"
        },
        {
          "output_type": "stream",
          "text": [
            "[2.6GB(+0.0GB): 70.410sec] fit X\n",
            "[2.6GB(+0.0GB): 42.134sec] fit Y\n",
            "[2.6GB(+0.0GB): 199.758sec] fit F\n"
          ],
          "name": "stderr"
        },
        {
          "output_type": "stream",
          "text": [
            "fold 1: mean position error 5.1896519279913615\n"
          ],
          "name": "stdout"
        },
        {
          "output_type": "stream",
          "text": [
            "[2.6GB(+0.0GB): 37.931sec] fit X\n",
            "[2.6GB(+0.0GB): 36.053sec] fit Y\n",
            "[2.6GB(+0.0GB): 99.953sec] fit F\n"
          ],
          "name": "stderr"
        },
        {
          "output_type": "stream",
          "text": [
            "fold 2: mean position error 5.3289309483729115\n"
          ],
          "name": "stdout"
        },
        {
          "output_type": "stream",
          "text": [
            "[2.6GB(+0.0GB): 63.524sec] fit X\n",
            "[2.6GB(+0.0GB): 46.026sec] fit Y\n",
            "[2.6GB(+0.0GB): 140.453sec] fit F\n"
          ],
          "name": "stderr"
        },
        {
          "output_type": "stream",
          "text": [
            "fold 3: mean position error 5.724187652046672\n"
          ],
          "name": "stdout"
        },
        {
          "output_type": "stream",
          "text": [
            "[2.6GB(+0.0GB): 37.247sec] fit X\n",
            "[2.6GB(+0.0GB): 42.499sec] fit Y\n",
            "[2.6GB(+0.0GB): 230.104sec] fit F\n"
          ],
          "name": "stderr"
        },
        {
          "output_type": "stream",
          "text": [
            "fold 4: mean position error 5.486677929976442\n"
          ],
          "name": "stdout"
        },
        {
          "output_type": "stream",
          "text": [
            "[2.6GB(+0.0GB): 52.985sec] fit X\n",
            "[2.6GB(+0.0GB): 23.622sec] fit Y\n",
            "[2.6GB(+0.0GB): 141.079sec] fit F\n"
          ],
          "name": "stderr"
        },
        {
          "output_type": "stream",
          "text": [
            "fold 5: mean position error 5.658603400967473\n"
          ],
          "name": "stdout"
        },
        {
          "output_type": "stream",
          "text": [
            "[2.6GB(+0.0GB): 34.756sec] fit X\n",
            "[2.6GB(+0.0GB): 27.937sec] fit Y\n",
            "[2.6GB(+0.0GB): 98.527sec] fit F\n"
          ],
          "name": "stderr"
        },
        {
          "output_type": "stream",
          "text": [
            "fold 6: mean position error 5.58289584136482\n"
          ],
          "name": "stdout"
        },
        {
          "output_type": "stream",
          "text": [
            "[2.6GB(+0.0GB): 39.004sec] fit X\n",
            "[2.6GB(+0.0GB): 31.724sec] fit Y\n",
            "[2.6GB(+0.0GB): 179.833sec] fit F\n"
          ],
          "name": "stderr"
        },
        {
          "output_type": "stream",
          "text": [
            "fold 7: mean position error 5.473341333659683\n"
          ],
          "name": "stdout"
        },
        {
          "output_type": "stream",
          "text": [
            "[2.6GB(+0.0GB): 29.435sec] fit X\n",
            "[2.6GB(+0.0GB): 30.510sec] fit Y\n",
            "[2.6GB(+0.0GB): 111.462sec] fit F\n"
          ],
          "name": "stderr"
        },
        {
          "output_type": "stream",
          "text": [
            "fold 8: mean position error 6.540489697417529\n"
          ],
          "name": "stdout"
        },
        {
          "output_type": "stream",
          "text": [
            "[2.6GB(+0.0GB): 35.471sec] fit X\n",
            "[2.6GB(+0.0GB): 56.635sec] fit Y\n",
            "[2.6GB(+0.0GB): 196.226sec] fit F\n"
          ],
          "name": "stderr"
        },
        {
          "output_type": "stream",
          "text": [
            "fold 9: mean position error 5.720833324342525\n",
            "*+*+*+*+*+*+*+*+*+*+*+*+*+*+*+*+*+*+*+*+*+*+*+*+*+*+*+*+*+*+*+*+*+*+*+*+*+*+*+*+\n",
            "file #23, shape=(13036, 1497), name=5da138b74db8ce0c98bd4774_train.csv\n",
            "mean position error 5.690506214953182\n",
            "*+*+*+*+*+*+*+*+*+*+*+*+*+*+*+*+*+*+*+*+*+*+*+*+*+*+*+*+*+*+*+*+*+*+*+*+*+*+*+*+\n",
            "Starting to train:  5da958dd46f8266d0737457b_train.csv\n"
          ],
          "name": "stdout"
        },
        {
          "output_type": "stream",
          "text": [
            "[2.6GB(+0.0GB): 29.342sec] fit X\n",
            "[2.6GB(+0.0GB): 34.007sec] fit Y\n",
            "[2.6GB(+0.0GB): 146.520sec] fit F\n"
          ],
          "name": "stderr"
        },
        {
          "output_type": "stream",
          "text": [
            "fold 0: mean position error 3.604715024012197\n"
          ],
          "name": "stdout"
        },
        {
          "output_type": "stream",
          "text": [
            "[2.6GB(+0.0GB): 41.766sec] fit X\n",
            "[2.6GB(+0.0GB): 49.252sec] fit Y\n",
            "[2.6GB(+0.0GB): 215.969sec] fit F\n"
          ],
          "name": "stderr"
        },
        {
          "output_type": "stream",
          "text": [
            "fold 1: mean position error 3.529799929865608\n"
          ],
          "name": "stdout"
        },
        {
          "output_type": "stream",
          "text": [
            "[2.6GB(+0.0GB): 49.397sec] fit X\n",
            "[2.6GB(+0.0GB): 42.055sec] fit Y\n",
            "[2.6GB(+0.0GB): 225.477sec] fit F\n"
          ],
          "name": "stderr"
        },
        {
          "output_type": "stream",
          "text": [
            "fold 2: mean position error 3.437891558569478\n"
          ],
          "name": "stdout"
        },
        {
          "output_type": "stream",
          "text": [
            "[2.6GB(+0.0GB): 32.620sec] fit X\n",
            "[2.6GB(+0.0GB): 51.563sec] fit Y\n",
            "[2.6GB(+0.0GB): 181.783sec] fit F\n"
          ],
          "name": "stderr"
        },
        {
          "output_type": "stream",
          "text": [
            "fold 3: mean position error 3.585010118035222\n"
          ],
          "name": "stdout"
        },
        {
          "output_type": "stream",
          "text": [
            "[2.6GB(+0.0GB): 42.904sec] fit X\n",
            "[2.6GB(+0.0GB): 28.755sec] fit Y\n",
            "[2.6GB(+0.0GB): 187.186sec] fit F\n"
          ],
          "name": "stderr"
        },
        {
          "output_type": "stream",
          "text": [
            "fold 4: mean position error 3.4194036846008755\n"
          ],
          "name": "stdout"
        },
        {
          "output_type": "stream",
          "text": [
            "[2.6GB(+0.0GB): 47.829sec] fit X\n",
            "[2.6GB(+0.0GB): 56.397sec] fit Y\n",
            "[2.6GB(+0.0GB): 180.327sec] fit F\n"
          ],
          "name": "stderr"
        },
        {
          "output_type": "stream",
          "text": [
            "fold 5: mean position error 3.466371285228213\n"
          ],
          "name": "stdout"
        },
        {
          "output_type": "stream",
          "text": [
            "[2.6GB(+0.0GB): 34.280sec] fit X\n",
            "[2.6GB(+0.0GB): 47.017sec] fit Y\n",
            "[2.6GB(+0.0GB): 159.231sec] fit F\n"
          ],
          "name": "stderr"
        },
        {
          "output_type": "stream",
          "text": [
            "fold 6: mean position error 3.6209344141540822\n"
          ],
          "name": "stdout"
        },
        {
          "output_type": "stream",
          "text": [
            "[2.6GB(+0.0GB): 38.005sec] fit X\n",
            "[2.6GB(+0.0GB): 41.330sec] fit Y\n",
            "[2.6GB(+0.0GB): 178.442sec] fit F\n"
          ],
          "name": "stderr"
        },
        {
          "output_type": "stream",
          "text": [
            "fold 7: mean position error 3.5136253837335603\n"
          ],
          "name": "stdout"
        },
        {
          "output_type": "stream",
          "text": [
            "[2.6GB(+0.0GB): 45.254sec] fit X\n",
            "[2.6GB(+0.0GB): 31.016sec] fit Y\n",
            "[2.6GB(+0.0GB): 96.833sec] fit F\n"
          ],
          "name": "stderr"
        },
        {
          "output_type": "stream",
          "text": [
            "fold 8: mean position error 3.485730188497854\n"
          ],
          "name": "stdout"
        },
        {
          "output_type": "stream",
          "text": [
            "[2.6GB(+0.0GB): 49.823sec] fit X\n",
            "[2.6GB(+0.0GB): 55.991sec] fit Y\n",
            "[2.6GB(+0.0GB): 226.855sec] fit F\n"
          ],
          "name": "stderr"
        },
        {
          "output_type": "stream",
          "text": [
            "fold 9: mean position error 3.5700653752869034\n",
            "*+*+*+*+*+*+*+*+*+*+*+*+*+*+*+*+*+*+*+*+*+*+*+*+*+*+*+*+*+*+*+*+*+*+*+*+*+*+*+*+\n",
            "file #24, shape=(11361, 1365), name=5da958dd46f8266d0737457b_train.csv\n",
            "mean position error 3.523361857568685\n",
            "*+*+*+*+*+*+*+*+*+*+*+*+*+*+*+*+*+*+*+*+*+*+*+*+*+*+*+*+*+*+*+*+*+*+*+*+*+*+*+*+\n",
            "*+*+*+*+*+*+*+*+*+*+*+*+*+*+*+*+*+*+*+*+*+*+*+*+*+*+*+*+*+*+*+*+*+*+*+*+*+*+*+*+\n",
            "6.0006500043331075\n",
            "*+*+*+*+*+*+*+*+*+*+*+*+*+*+*+*+*+*+*+*+*+*+*+*+*+*+*+*+*+*+*+*+*+*+*+*+*+*+*+*+\n"
          ],
          "name": "stdout"
        }
      ]
    },
    {
      "cell_type": "code",
      "metadata": {
        "id": "12AVSU0CxNx1"
      },
      "source": [
        "pred_files = glob.glob('/content' + '/*.csv')"
      ],
      "execution_count": 23,
      "outputs": []
    },
    {
      "cell_type": "code",
      "metadata": {
        "id": "sbSwq44Lv_GL"
      },
      "source": [
        "# extract true and predicted x, y and f\n",
        "all_pred = pd.DataFrame()\n",
        "\n",
        "for file_name in pred_files:\n",
        "  file = pd.read_csv(file_name)\n",
        "\n",
        "  all_pred = pd.concat([all_pred, file.iloc[:, -8:]])\n"
      ],
      "execution_count": 31,
      "outputs": []
    },
    {
      "cell_type": "code",
      "metadata": {
        "colab": {
          "base_uri": "https://localhost:8080/",
          "height": 419
        },
        "id": "Ma7wxowSv_Dy",
        "outputId": "c3115e40-c7e6-47fa-bb04-33d4cdc1daf5"
      },
      "source": [
        "all_pred"
      ],
      "execution_count": 32,
      "outputs": [
        {
          "output_type": "execute_result",
          "data": {
            "text/html": [
              "<div>\n",
              "<style scoped>\n",
              "    .dataframe tbody tr th:only-of-type {\n",
              "        vertical-align: middle;\n",
              "    }\n",
              "\n",
              "    .dataframe tbody tr th {\n",
              "        vertical-align: top;\n",
              "    }\n",
              "\n",
              "    .dataframe thead th {\n",
              "        text-align: right;\n",
              "    }\n",
              "</style>\n",
              "<table border=\"1\" class=\"dataframe\">\n",
              "  <thead>\n",
              "    <tr style=\"text-align: right;\">\n",
              "      <th></th>\n",
              "      <th>x</th>\n",
              "      <th>y</th>\n",
              "      <th>f</th>\n",
              "      <th>path</th>\n",
              "      <th>pred_x</th>\n",
              "      <th>pred_y</th>\n",
              "      <th>pred_f</th>\n",
              "      <th>timestamp</th>\n",
              "    </tr>\n",
              "  </thead>\n",
              "  <tbody>\n",
              "    <tr>\n",
              "      <th>0</th>\n",
              "      <td>81.543450</td>\n",
              "      <td>47.366474</td>\n",
              "      <td>8</td>\n",
              "      <td>5cfce0775163d8000807bf07</td>\n",
              "      <td>76.198427</td>\n",
              "      <td>63.352369</td>\n",
              "      <td>8.0</td>\n",
              "      <td>1560075841746</td>\n",
              "    </tr>\n",
              "    <tr>\n",
              "      <th>1</th>\n",
              "      <td>81.543450</td>\n",
              "      <td>47.366474</td>\n",
              "      <td>8</td>\n",
              "      <td>5cfce0775163d8000807bf07</td>\n",
              "      <td>83.091023</td>\n",
              "      <td>45.971878</td>\n",
              "      <td>8.0</td>\n",
              "      <td>1560075843593</td>\n",
              "    </tr>\n",
              "    <tr>\n",
              "      <th>2</th>\n",
              "      <td>96.410450</td>\n",
              "      <td>55.596020</td>\n",
              "      <td>8</td>\n",
              "      <td>5cfce0775163d8000807bf07</td>\n",
              "      <td>89.394663</td>\n",
              "      <td>47.271994</td>\n",
              "      <td>8.0</td>\n",
              "      <td>1560075844985</td>\n",
              "    </tr>\n",
              "    <tr>\n",
              "      <th>3</th>\n",
              "      <td>96.410450</td>\n",
              "      <td>55.596020</td>\n",
              "      <td>8</td>\n",
              "      <td>5cfce0775163d8000807bf07</td>\n",
              "      <td>91.400078</td>\n",
              "      <td>50.210441</td>\n",
              "      <td>8.0</td>\n",
              "      <td>1560075845701</td>\n",
              "    </tr>\n",
              "    <tr>\n",
              "      <th>4</th>\n",
              "      <td>96.410450</td>\n",
              "      <td>55.596020</td>\n",
              "      <td>8</td>\n",
              "      <td>5cfce0775163d8000807bf07</td>\n",
              "      <td>97.203798</td>\n",
              "      <td>55.260943</td>\n",
              "      <td>8.0</td>\n",
              "      <td>1560075849217</td>\n",
              "    </tr>\n",
              "    <tr>\n",
              "      <th>...</th>\n",
              "      <td>...</td>\n",
              "      <td>...</td>\n",
              "      <td>...</td>\n",
              "      <td>...</td>\n",
              "      <td>...</td>\n",
              "      <td>...</td>\n",
              "      <td>...</td>\n",
              "      <td>...</td>\n",
              "    </tr>\n",
              "    <tr>\n",
              "      <th>1244</th>\n",
              "      <td>9.271838</td>\n",
              "      <td>144.471220</td>\n",
              "      <td>-1</td>\n",
              "      <td>5cf3a0505b96c60008d35b1c</td>\n",
              "      <td>13.885404</td>\n",
              "      <td>125.580031</td>\n",
              "      <td>-1.0</td>\n",
              "      <td>1559470102975</td>\n",
              "    </tr>\n",
              "    <tr>\n",
              "      <th>1245</th>\n",
              "      <td>9.271838</td>\n",
              "      <td>144.471220</td>\n",
              "      <td>-1</td>\n",
              "      <td>5cf3a0505b96c60008d35b1c</td>\n",
              "      <td>13.885404</td>\n",
              "      <td>125.580031</td>\n",
              "      <td>-1.0</td>\n",
              "      <td>1559470103595</td>\n",
              "    </tr>\n",
              "    <tr>\n",
              "      <th>1246</th>\n",
              "      <td>9.271838</td>\n",
              "      <td>144.471220</td>\n",
              "      <td>-1</td>\n",
              "      <td>5cf3a0505b96c60008d35b1c</td>\n",
              "      <td>13.885404</td>\n",
              "      <td>125.580031</td>\n",
              "      <td>-1.0</td>\n",
              "      <td>1559470105536</td>\n",
              "    </tr>\n",
              "    <tr>\n",
              "      <th>1247</th>\n",
              "      <td>9.271838</td>\n",
              "      <td>144.471220</td>\n",
              "      <td>-1</td>\n",
              "      <td>5cf3a0505b96c60008d35b1c</td>\n",
              "      <td>13.885404</td>\n",
              "      <td>125.580031</td>\n",
              "      <td>-1.0</td>\n",
              "      <td>1559470107390</td>\n",
              "    </tr>\n",
              "    <tr>\n",
              "      <th>1248</th>\n",
              "      <td>9.271838</td>\n",
              "      <td>144.471220</td>\n",
              "      <td>-1</td>\n",
              "      <td>5cf3a0505b96c60008d35b1c</td>\n",
              "      <td>13.885404</td>\n",
              "      <td>125.580031</td>\n",
              "      <td>-1.0</td>\n",
              "      <td>1559470109245</td>\n",
              "    </tr>\n",
              "  </tbody>\n",
              "</table>\n",
              "<p>54113 rows × 8 columns</p>\n",
              "</div>"
            ],
            "text/plain": [
              "              x           y  f  ...      pred_y  pred_f      timestamp\n",
              "0     81.543450   47.366474  8  ...   63.352369     8.0  1560075841746\n",
              "1     81.543450   47.366474  8  ...   45.971878     8.0  1560075843593\n",
              "2     96.410450   55.596020  8  ...   47.271994     8.0  1560075844985\n",
              "3     96.410450   55.596020  8  ...   50.210441     8.0  1560075845701\n",
              "4     96.410450   55.596020  8  ...   55.260943     8.0  1560075849217\n",
              "...         ...         ... ..  ...         ...     ...            ...\n",
              "1244   9.271838  144.471220 -1  ...  125.580031    -1.0  1559470102975\n",
              "1245   9.271838  144.471220 -1  ...  125.580031    -1.0  1559470103595\n",
              "1246   9.271838  144.471220 -1  ...  125.580031    -1.0  1559470105536\n",
              "1247   9.271838  144.471220 -1  ...  125.580031    -1.0  1559470107390\n",
              "1248   9.271838  144.471220 -1  ...  125.580031    -1.0  1559470109245\n",
              "\n",
              "[54113 rows x 8 columns]"
            ]
          },
          "metadata": {
            "tags": []
          },
          "execution_count": 32
        }
      ]
    },
    {
      "cell_type": "code",
      "metadata": {
        "colab": {
          "base_uri": "https://localhost:8080/"
        },
        "id": "iDpCVvtav_BS",
        "outputId": "9c487c64-efce-48af-edf5-fc2ec2d19ae1"
      },
      "source": [
        "# calculate MSE\n",
        "comp_metric(all_pred['pred_x'], all_pred['pred_y'], all_pred['pred_f'], all_pred['x'], all_pred['y'], all_pred['f'])"
      ],
      "execution_count": 33,
      "outputs": [
        {
          "output_type": "execute_result",
          "data": {
            "text/plain": [
              "4.512068593838267"
            ]
          },
          "metadata": {
            "tags": []
          },
          "execution_count": 33
        }
      ]
    }
  ]
}