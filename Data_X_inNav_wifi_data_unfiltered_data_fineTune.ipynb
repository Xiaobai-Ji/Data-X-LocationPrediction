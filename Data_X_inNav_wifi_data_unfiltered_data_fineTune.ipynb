{
  "nbformat": 4,
  "nbformat_minor": 0,
  "metadata": {
    "accelerator": "GPU",
    "colab": {
      "name": "Data_X_inNav_wifi_data_4_fineTune.ipynb",
      "provenance": [],
      "collapsed_sections": [],
      "toc_visible": true
    },
    "kernelspec": {
      "display_name": "Python 3",
      "name": "python3"
    },
    "language_info": {
      "name": "python"
    }
  },
  "cells": [
    {
      "cell_type": "code",
      "metadata": {
        "colab": {
          "base_uri": "https://localhost:8080/"
        },
        "id": "phlyFaiKW_jc",
        "outputId": "d5d77e20-b6dc-43c5-f37f-b323e8f752df"
      },
      "source": [
        "from google.colab import drive\n",
        "drive.mount('/content/drive')"
      ],
      "execution_count": null,
      "outputs": [
        {
          "output_type": "stream",
          "text": [
            "Mounted at /content/drive\n"
          ],
          "name": "stdout"
        }
      ]
    },
    {
      "cell_type": "code",
      "metadata": {
        "colab": {
          "base_uri": "https://localhost:8080/"
        },
        "id": "90nBl6mR6Ht_",
        "outputId": "62df9ca0-5e73-4f27-ba09-f3b4847e06e3"
      },
      "source": [
        "!nvidia-smi\n",
        "!cat /proc/cpuinfo\n",
        "!rm -rf sample_data\n",
        "\n",
        "!git clone --recursive https://github.com/Microsoft/LightGBM.git\n",
        "!cd LightGBM && rm -rf build && mkdir build && cd build && cmake -DUSE_GPU=1 ../../LightGBM && make -j4 && cd ../python-package && python3 setup.py install --precompile --gpu;"
      ],
      "execution_count": null,
      "outputs": [
        {
          "output_type": "stream",
          "text": [
            "Sun Apr 18 02:22:58 2021       \n",
            "+-----------------------------------------------------------------------------+\n",
            "| NVIDIA-SMI 460.67       Driver Version: 460.32.03    CUDA Version: 11.2     |\n",
            "|-------------------------------+----------------------+----------------------+\n",
            "| GPU  Name        Persistence-M| Bus-Id        Disp.A | Volatile Uncorr. ECC |\n",
            "| Fan  Temp  Perf  Pwr:Usage/Cap|         Memory-Usage | GPU-Util  Compute M. |\n",
            "|                               |                      |               MIG M. |\n",
            "|===============================+======================+======================|\n",
            "|   0  Tesla V100-SXM2...  Off  | 00000000:00:04.0 Off |                    0 |\n",
            "| N/A   36C    P0    24W / 300W |      0MiB / 16160MiB |      0%      Default |\n",
            "|                               |                      |                  N/A |\n",
            "+-------------------------------+----------------------+----------------------+\n",
            "                                                                               \n",
            "+-----------------------------------------------------------------------------+\n",
            "| Processes:                                                                  |\n",
            "|  GPU   GI   CI        PID   Type   Process name                  GPU Memory |\n",
            "|        ID   ID                                                   Usage      |\n",
            "|=============================================================================|\n",
            "|  No running processes found                                                 |\n",
            "+-----------------------------------------------------------------------------+\n",
            "processor\t: 0\n",
            "vendor_id\t: GenuineIntel\n",
            "cpu family\t: 6\n",
            "model\t\t: 85\n",
            "model name\t: Intel(R) Xeon(R) CPU @ 2.00GHz\n",
            "stepping\t: 3\n",
            "microcode\t: 0x1\n",
            "cpu MHz\t\t: 2000.172\n",
            "cache size\t: 39424 KB\n",
            "physical id\t: 0\n",
            "siblings\t: 4\n",
            "core id\t\t: 0\n",
            "cpu cores\t: 2\n",
            "apicid\t\t: 0\n",
            "initial apicid\t: 0\n",
            "fpu\t\t: yes\n",
            "fpu_exception\t: yes\n",
            "cpuid level\t: 13\n",
            "wp\t\t: yes\n",
            "flags\t\t: fpu vme de pse tsc msr pae mce cx8 apic sep mtrr pge mca cmov pat pse36 clflush mmx fxsr sse sse2 ss ht syscall nx pdpe1gb rdtscp lm constant_tsc rep_good nopl xtopology nonstop_tsc cpuid tsc_known_freq pni pclmulqdq ssse3 fma cx16 pcid sse4_1 sse4_2 x2apic movbe popcnt aes xsave avx f16c rdrand hypervisor lahf_lm abm 3dnowprefetch invpcid_single ssbd ibrs ibpb stibp fsgsbase tsc_adjust bmi1 hle avx2 smep bmi2 erms invpcid rtm mpx avx512f avx512dq rdseed adx smap clflushopt clwb avx512cd avx512bw avx512vl xsaveopt xsavec xgetbv1 xsaves arat md_clear arch_capabilities\n",
            "bugs\t\t: cpu_meltdown spectre_v1 spectre_v2 spec_store_bypass l1tf mds swapgs taa\n",
            "bogomips\t: 4000.34\n",
            "clflush size\t: 64\n",
            "cache_alignment\t: 64\n",
            "address sizes\t: 46 bits physical, 48 bits virtual\n",
            "power management:\n",
            "\n",
            "processor\t: 1\n",
            "vendor_id\t: GenuineIntel\n",
            "cpu family\t: 6\n",
            "model\t\t: 85\n",
            "model name\t: Intel(R) Xeon(R) CPU @ 2.00GHz\n",
            "stepping\t: 3\n",
            "microcode\t: 0x1\n",
            "cpu MHz\t\t: 2000.172\n",
            "cache size\t: 39424 KB\n",
            "physical id\t: 0\n",
            "siblings\t: 4\n",
            "core id\t\t: 1\n",
            "cpu cores\t: 2\n",
            "apicid\t\t: 2\n",
            "initial apicid\t: 2\n",
            "fpu\t\t: yes\n",
            "fpu_exception\t: yes\n",
            "cpuid level\t: 13\n",
            "wp\t\t: yes\n",
            "flags\t\t: fpu vme de pse tsc msr pae mce cx8 apic sep mtrr pge mca cmov pat pse36 clflush mmx fxsr sse sse2 ss ht syscall nx pdpe1gb rdtscp lm constant_tsc rep_good nopl xtopology nonstop_tsc cpuid tsc_known_freq pni pclmulqdq ssse3 fma cx16 pcid sse4_1 sse4_2 x2apic movbe popcnt aes xsave avx f16c rdrand hypervisor lahf_lm abm 3dnowprefetch invpcid_single ssbd ibrs ibpb stibp fsgsbase tsc_adjust bmi1 hle avx2 smep bmi2 erms invpcid rtm mpx avx512f avx512dq rdseed adx smap clflushopt clwb avx512cd avx512bw avx512vl xsaveopt xsavec xgetbv1 xsaves arat md_clear arch_capabilities\n",
            "bugs\t\t: cpu_meltdown spectre_v1 spectre_v2 spec_store_bypass l1tf mds swapgs taa\n",
            "bogomips\t: 4000.34\n",
            "clflush size\t: 64\n",
            "cache_alignment\t: 64\n",
            "address sizes\t: 46 bits physical, 48 bits virtual\n",
            "power management:\n",
            "\n",
            "processor\t: 2\n",
            "vendor_id\t: GenuineIntel\n",
            "cpu family\t: 6\n",
            "model\t\t: 85\n",
            "model name\t: Intel(R) Xeon(R) CPU @ 2.00GHz\n",
            "stepping\t: 3\n",
            "microcode\t: 0x1\n",
            "cpu MHz\t\t: 2000.172\n",
            "cache size\t: 39424 KB\n",
            "physical id\t: 0\n",
            "siblings\t: 4\n",
            "core id\t\t: 0\n",
            "cpu cores\t: 2\n",
            "apicid\t\t: 1\n",
            "initial apicid\t: 1\n",
            "fpu\t\t: yes\n",
            "fpu_exception\t: yes\n",
            "cpuid level\t: 13\n",
            "wp\t\t: yes\n",
            "flags\t\t: fpu vme de pse tsc msr pae mce cx8 apic sep mtrr pge mca cmov pat pse36 clflush mmx fxsr sse sse2 ss ht syscall nx pdpe1gb rdtscp lm constant_tsc rep_good nopl xtopology nonstop_tsc cpuid tsc_known_freq pni pclmulqdq ssse3 fma cx16 pcid sse4_1 sse4_2 x2apic movbe popcnt aes xsave avx f16c rdrand hypervisor lahf_lm abm 3dnowprefetch invpcid_single ssbd ibrs ibpb stibp fsgsbase tsc_adjust bmi1 hle avx2 smep bmi2 erms invpcid rtm mpx avx512f avx512dq rdseed adx smap clflushopt clwb avx512cd avx512bw avx512vl xsaveopt xsavec xgetbv1 xsaves arat md_clear arch_capabilities\n",
            "bugs\t\t: cpu_meltdown spectre_v1 spectre_v2 spec_store_bypass l1tf mds swapgs taa\n",
            "bogomips\t: 4000.34\n",
            "clflush size\t: 64\n",
            "cache_alignment\t: 64\n",
            "address sizes\t: 46 bits physical, 48 bits virtual\n",
            "power management:\n",
            "\n",
            "processor\t: 3\n",
            "vendor_id\t: GenuineIntel\n",
            "cpu family\t: 6\n",
            "model\t\t: 85\n",
            "model name\t: Intel(R) Xeon(R) CPU @ 2.00GHz\n",
            "stepping\t: 3\n",
            "microcode\t: 0x1\n",
            "cpu MHz\t\t: 2000.172\n",
            "cache size\t: 39424 KB\n",
            "physical id\t: 0\n",
            "siblings\t: 4\n",
            "core id\t\t: 1\n",
            "cpu cores\t: 2\n",
            "apicid\t\t: 3\n",
            "initial apicid\t: 3\n",
            "fpu\t\t: yes\n",
            "fpu_exception\t: yes\n",
            "cpuid level\t: 13\n",
            "wp\t\t: yes\n",
            "flags\t\t: fpu vme de pse tsc msr pae mce cx8 apic sep mtrr pge mca cmov pat pse36 clflush mmx fxsr sse sse2 ss ht syscall nx pdpe1gb rdtscp lm constant_tsc rep_good nopl xtopology nonstop_tsc cpuid tsc_known_freq pni pclmulqdq ssse3 fma cx16 pcid sse4_1 sse4_2 x2apic movbe popcnt aes xsave avx f16c rdrand hypervisor lahf_lm abm 3dnowprefetch invpcid_single ssbd ibrs ibpb stibp fsgsbase tsc_adjust bmi1 hle avx2 smep bmi2 erms invpcid rtm mpx avx512f avx512dq rdseed adx smap clflushopt clwb avx512cd avx512bw avx512vl xsaveopt xsavec xgetbv1 xsaves arat md_clear arch_capabilities\n",
            "bugs\t\t: cpu_meltdown spectre_v1 spectre_v2 spec_store_bypass l1tf mds swapgs taa\n",
            "bogomips\t: 4000.34\n",
            "clflush size\t: 64\n",
            "cache_alignment\t: 64\n",
            "address sizes\t: 46 bits physical, 48 bits virtual\n",
            "power management:\n",
            "\n",
            "Cloning into 'LightGBM'...\n",
            "remote: Enumerating objects: 21683, done.\u001b[K\n",
            "remote: Counting objects: 100% (389/389), done.\u001b[K\n",
            "remote: Compressing objects: 100% (238/238), done.\u001b[K\n",
            "remote: Total 21683 (delta 221), reused 256 (delta 141), pack-reused 21294\u001b[K\n",
            "Receiving objects: 100% (21683/21683), 17.12 MiB | 16.89 MiB/s, done.\n",
            "Resolving deltas: 100% (15819/15819), done.\n",
            "Submodule 'include/boost/compute' (https://github.com/boostorg/compute) registered for path 'external_libs/compute'\n",
            "Submodule 'eigen' (https://gitlab.com/libeigen/eigen.git) registered for path 'external_libs/eigen'\n",
            "Submodule 'external_libs/fast_double_parser' (https://github.com/lemire/fast_double_parser.git) registered for path 'external_libs/fast_double_parser'\n",
            "Submodule 'external_libs/fmt' (https://github.com/fmtlib/fmt.git) registered for path 'external_libs/fmt'\n",
            "Cloning into '/content/LightGBM/external_libs/compute'...\n",
            "remote: Enumerating objects: 21728, done.        \n",
            "remote: Total 21728 (delta 0), reused 0 (delta 0), pack-reused 21728        \n",
            "Receiving objects: 100% (21728/21728), 8.51 MiB | 16.35 MiB/s, done.\n",
            "Resolving deltas: 100% (17566/17566), done.\n",
            "Cloning into '/content/LightGBM/external_libs/eigen'...\n",
            "remote: Enumerating objects: 751, done.        \n",
            "remote: Counting objects: 100% (751/751), done.        \n",
            "remote: Compressing objects: 100% (265/265), done.        \n",
            "remote: Total 109385 (delta 584), reused 604 (delta 484), pack-reused 108634        \n",
            "Receiving objects: 100% (109385/109385), 101.68 MiB | 30.15 MiB/s, done.\n",
            "Resolving deltas: 100% (89851/89851), done.\n",
            "Cloning into '/content/LightGBM/external_libs/fast_double_parser'...\n",
            "remote: Enumerating objects: 672, done.        \n",
            "remote: Counting objects: 100% (172/172), done.        \n",
            "remote: Compressing objects: 100% (107/107), done.        \n",
            "remote: Total 672 (delta 84), reused 95 (delta 39), pack-reused 500        \n",
            "Receiving objects: 100% (672/672), 798.63 KiB | 15.07 MiB/s, done.\n",
            "Resolving deltas: 100% (338/338), done.\n",
            "Cloning into '/content/LightGBM/external_libs/fmt'...\n",
            "remote: Enumerating objects: 25018, done.        \n",
            "remote: Counting objects: 100% (190/190), done.        \n",
            "remote: Compressing objects: 100% (96/96), done.        \n",
            "remote: Total 25018 (delta 95), reused 127 (delta 73), pack-reused 24828        \n",
            "Receiving objects: 100% (25018/25018), 12.49 MiB | 25.73 MiB/s, done.\n",
            "Resolving deltas: 100% (16906/16906), done.\n",
            "Submodule path 'external_libs/compute': checked out '36c89134d4013b2e5e45bc55656a18bd6141995a'\n",
            "Submodule path 'external_libs/eigen': checked out '8ba1b0f41a7950dc3e1d4ed75859e36c73311235'\n",
            "Submodule path 'external_libs/fast_double_parser': checked out 'ace60646c02dc54c57f19d644e49a61e7e7758ec'\n",
            "Submodule 'benchmark/dependencies/abseil-cpp' (https://github.com/abseil/abseil-cpp.git) registered for path 'external_libs/fast_double_parser/benchmarks/dependencies/abseil-cpp'\n",
            "Submodule 'benchmark/dependencies/double-conversion' (https://github.com/google/double-conversion.git) registered for path 'external_libs/fast_double_parser/benchmarks/dependencies/double-conversion'\n",
            "Cloning into '/content/LightGBM/external_libs/fast_double_parser/benchmarks/dependencies/abseil-cpp'...\n",
            "remote: Enumerating objects: 14239, done.        \n",
            "remote: Counting objects: 100% (174/174), done.        \n",
            "remote: Compressing objects: 100% (145/145), done.        \n",
            "remote: Total 14239 (delta 73), reused 117 (delta 29), pack-reused 14065        \n",
            "Receiving objects: 100% (14239/14239), 9.32 MiB | 23.10 MiB/s, done.\n",
            "Resolving deltas: 100% (10814/10814), done.\n",
            "Cloning into '/content/LightGBM/external_libs/fast_double_parser/benchmarks/dependencies/double-conversion'...\n",
            "remote: Enumerating objects: 1220, done.        \n",
            "remote: Counting objects: 100% (64/64), done.        \n",
            "remote: Compressing objects: 100% (41/41), done.        \n",
            "remote: Total 1220 (delta 35), reused 40 (delta 23), pack-reused 1156        \n",
            "Receiving objects: 100% (1220/1220), 7.08 MiB | 17.46 MiB/s, done.\n",
            "Resolving deltas: 100% (807/807), done.\n",
            "Submodule path 'external_libs/fast_double_parser/benchmarks/dependencies/abseil-cpp': checked out 'd936052d32a5b7ca08b0199a6724724aea432309'\n",
            "Submodule path 'external_libs/fast_double_parser/benchmarks/dependencies/double-conversion': checked out 'f4cb2384efa55dee0e6652f8674b05763441ab09'\n",
            "Submodule path 'external_libs/fmt': checked out 'cc09f1a6798c085c325569ef466bcdcffdc266d4'\n",
            "-- The C compiler identification is GNU 7.5.0\n",
            "-- The CXX compiler identification is GNU 7.5.0\n",
            "-- Check for working C compiler: /usr/bin/cc\n",
            "-- Check for working C compiler: /usr/bin/cc -- works\n",
            "-- Detecting C compiler ABI info\n",
            "-- Detecting C compiler ABI info - done\n",
            "-- Detecting C compile features\n",
            "-- Detecting C compile features - done\n",
            "-- Check for working CXX compiler: /usr/bin/c++\n",
            "-- Check for working CXX compiler: /usr/bin/c++ -- works\n",
            "-- Detecting CXX compiler ABI info\n",
            "-- Detecting CXX compiler ABI info - done\n",
            "-- Detecting CXX compile features\n",
            "-- Detecting CXX compile features - done\n",
            "-- Found OpenMP_C: -fopenmp (found version \"4.5\") \n",
            "-- Found OpenMP_CXX: -fopenmp (found version \"4.5\") \n",
            "-- Found OpenMP: TRUE (found version \"4.5\")  \n",
            "-- Looking for CL_VERSION_2_2\n",
            "-- Looking for CL_VERSION_2_2 - found\n",
            "-- Found OpenCL: /usr/lib/x86_64-linux-gnu/libOpenCL.so (found version \"2.2\") \n",
            "-- OpenCL include directory: /usr/include\n",
            "-- Boost version: 1.65.1\n",
            "-- Found the following Boost libraries:\n",
            "--   filesystem\n",
            "--   system\n",
            "-- Performing Test MM_PREFETCH\n",
            "-- Performing Test MM_PREFETCH - Success\n",
            "-- Using _mm_prefetch\n",
            "-- Performing Test MM_MALLOC\n",
            "-- Performing Test MM_MALLOC - Success\n",
            "-- Using _mm_malloc\n",
            "-- Configuring done\n",
            "-- Generating done\n",
            "-- Build files have been written to: /content/LightGBM/build\n",
            "\u001b[35m\u001b[1mScanning dependencies of target _lightgbm\u001b[0m\n",
            "\u001b[35m\u001b[1mScanning dependencies of target lightgbm\u001b[0m\n",
            "[  2%] \u001b[32mBuilding CXX object CMakeFiles/_lightgbm.dir/src/boosting/boosting.cpp.o\u001b[0m\n",
            "[  2%] \u001b[32mBuilding CXX object CMakeFiles/lightgbm.dir/src/main.cpp.o\u001b[0m\n",
            "[  4%] \u001b[32mBuilding CXX object CMakeFiles/lightgbm.dir/src/application/application.cpp.o\u001b[0m\n",
            "[  5%] \u001b[32mBuilding CXX object CMakeFiles/_lightgbm.dir/src/boosting/gbdt.cpp.o\u001b[0m\n",
            "[  7%] \u001b[32mBuilding CXX object CMakeFiles/_lightgbm.dir/src/boosting/gbdt_model_text.cpp.o\u001b[0m\n",
            "[  8%] \u001b[32mBuilding CXX object CMakeFiles/lightgbm.dir/src/boosting/boosting.cpp.o\u001b[0m\n",
            "[ 10%] \u001b[32mBuilding CXX object CMakeFiles/_lightgbm.dir/src/boosting/gbdt_prediction.cpp.o\u001b[0m\n",
            "[ 11%] \u001b[32mBuilding CXX object CMakeFiles/_lightgbm.dir/src/boosting/prediction_early_stop.cpp.o\u001b[0m\n",
            "[ 13%] \u001b[32mBuilding CXX object CMakeFiles/_lightgbm.dir/src/io/bin.cpp.o\u001b[0m\n",
            "[ 14%] \u001b[32mBuilding CXX object CMakeFiles/_lightgbm.dir/src/io/config.cpp.o\u001b[0m\n",
            "[ 15%] \u001b[32mBuilding CXX object CMakeFiles/_lightgbm.dir/src/io/config_auto.cpp.o\u001b[0m\n",
            "[ 17%] \u001b[32mBuilding CXX object CMakeFiles/_lightgbm.dir/src/io/dataset.cpp.o\u001b[0m\n",
            "[ 18%] \u001b[32mBuilding CXX object CMakeFiles/lightgbm.dir/src/boosting/gbdt.cpp.o\u001b[0m\n",
            "[ 20%] \u001b[32mBuilding CXX object CMakeFiles/_lightgbm.dir/src/io/dataset_loader.cpp.o\u001b[0m\n",
            "[ 21%] \u001b[32mBuilding CXX object CMakeFiles/lightgbm.dir/src/boosting/gbdt_model_text.cpp.o\u001b[0m\n",
            "[ 23%] \u001b[32mBuilding CXX object CMakeFiles/_lightgbm.dir/src/io/file_io.cpp.o\u001b[0m\n",
            "[ 24%] \u001b[32mBuilding CXX object CMakeFiles/_lightgbm.dir/src/io/json11.cpp.o\u001b[0m\n",
            "[ 26%] \u001b[32mBuilding CXX object CMakeFiles/_lightgbm.dir/src/io/metadata.cpp.o\u001b[0m\n",
            "[ 27%] \u001b[32mBuilding CXX object CMakeFiles/lightgbm.dir/src/boosting/gbdt_prediction.cpp.o\u001b[0m\n",
            "[ 28%] \u001b[32mBuilding CXX object CMakeFiles/_lightgbm.dir/src/io/parser.cpp.o\u001b[0m\n",
            "[ 30%] \u001b[32mBuilding CXX object CMakeFiles/lightgbm.dir/src/boosting/prediction_early_stop.cpp.o\u001b[0m\n",
            "[ 31%] \u001b[32mBuilding CXX object CMakeFiles/lightgbm.dir/src/io/bin.cpp.o\u001b[0m\n",
            "[ 33%] \u001b[32mBuilding CXX object CMakeFiles/_lightgbm.dir/src/io/train_share_states.cpp.o\u001b[0m\n",
            "[ 34%] \u001b[32mBuilding CXX object CMakeFiles/lightgbm.dir/src/io/config.cpp.o\u001b[0m\n",
            "[ 36%] \u001b[32mBuilding CXX object CMakeFiles/_lightgbm.dir/src/io/tree.cpp.o\u001b[0m\n",
            "[ 37%] \u001b[32mBuilding CXX object CMakeFiles/_lightgbm.dir/src/metric/dcg_calculator.cpp.o\u001b[0m\n",
            "[ 39%] \u001b[32mBuilding CXX object CMakeFiles/lightgbm.dir/src/io/config_auto.cpp.o\u001b[0m\n",
            "[ 40%] \u001b[32mBuilding CXX object CMakeFiles/_lightgbm.dir/src/metric/metric.cpp.o\u001b[0m\n",
            "[ 42%] \u001b[32mBuilding CXX object CMakeFiles/lightgbm.dir/src/io/dataset.cpp.o\u001b[0m\n",
            "[ 43%] \u001b[32mBuilding CXX object CMakeFiles/_lightgbm.dir/src/network/ifaddrs_patch.cpp.o\u001b[0m\n",
            "[ 44%] \u001b[32mBuilding CXX object CMakeFiles/_lightgbm.dir/src/network/linker_topo.cpp.o\u001b[0m\n",
            "[ 46%] \u001b[32mBuilding CXX object CMakeFiles/_lightgbm.dir/src/network/linkers_mpi.cpp.o\u001b[0m\n",
            "[ 47%] \u001b[32mBuilding CXX object CMakeFiles/lightgbm.dir/src/io/dataset_loader.cpp.o\u001b[0m\n",
            "[ 49%] \u001b[32mBuilding CXX object CMakeFiles/_lightgbm.dir/src/network/linkers_socket.cpp.o\u001b[0m\n",
            "[ 50%] \u001b[32mBuilding CXX object CMakeFiles/_lightgbm.dir/src/network/network.cpp.o\u001b[0m\n",
            "[ 52%] \u001b[32mBuilding CXX object CMakeFiles/lightgbm.dir/src/io/file_io.cpp.o\u001b[0m\n",
            "[ 53%] \u001b[32mBuilding CXX object CMakeFiles/lightgbm.dir/src/io/json11.cpp.o\u001b[0m\n",
            "[ 55%] \u001b[32mBuilding CXX object CMakeFiles/lightgbm.dir/src/io/metadata.cpp.o\u001b[0m\n",
            "[ 56%] \u001b[32mBuilding CXX object CMakeFiles/_lightgbm.dir/src/objective/objective_function.cpp.o\u001b[0m\n",
            "[ 57%] \u001b[32mBuilding CXX object CMakeFiles/lightgbm.dir/src/io/parser.cpp.o\u001b[0m\n",
            "[ 59%] \u001b[32mBuilding CXX object CMakeFiles/_lightgbm.dir/src/treelearner/cuda_tree_learner.cpp.o\u001b[0m\n",
            "[ 60%] \u001b[32mBuilding CXX object CMakeFiles/_lightgbm.dir/src/treelearner/data_parallel_tree_learner.cpp.o\u001b[0m\n",
            "[ 62%] \u001b[32mBuilding CXX object CMakeFiles/lightgbm.dir/src/io/train_share_states.cpp.o\u001b[0m\n",
            "[ 63%] \u001b[32mBuilding CXX object CMakeFiles/lightgbm.dir/src/io/tree.cpp.o\u001b[0m\n",
            "[ 65%] \u001b[32mBuilding CXX object CMakeFiles/lightgbm.dir/src/metric/dcg_calculator.cpp.o\u001b[0m\n",
            "[ 66%] \u001b[32mBuilding CXX object CMakeFiles/lightgbm.dir/src/metric/metric.cpp.o\u001b[0m\n",
            "[ 68%] \u001b[32mBuilding CXX object CMakeFiles/_lightgbm.dir/src/treelearner/feature_parallel_tree_learner.cpp.o\u001b[0m\n",
            "[ 69%] \u001b[32mBuilding CXX object CMakeFiles/_lightgbm.dir/src/treelearner/gpu_tree_learner.cpp.o\u001b[0m\n",
            "[ 71%] \u001b[32mBuilding CXX object CMakeFiles/lightgbm.dir/src/network/ifaddrs_patch.cpp.o\u001b[0m\n",
            "[ 72%] \u001b[32mBuilding CXX object CMakeFiles/lightgbm.dir/src/network/linker_topo.cpp.o\u001b[0m\n",
            "[ 73%] \u001b[32mBuilding CXX object CMakeFiles/lightgbm.dir/src/network/linkers_mpi.cpp.o\u001b[0m\n",
            "[ 75%] \u001b[32mBuilding CXX object CMakeFiles/lightgbm.dir/src/network/linkers_socket.cpp.o\u001b[0m\n",
            "[ 76%] \u001b[32mBuilding CXX object CMakeFiles/lightgbm.dir/src/network/network.cpp.o\u001b[0m\n",
            "[ 78%] \u001b[32mBuilding CXX object CMakeFiles/_lightgbm.dir/src/treelearner/linear_tree_learner.cpp.o\u001b[0m\n",
            "[ 79%] \u001b[32mBuilding CXX object CMakeFiles/lightgbm.dir/src/objective/objective_function.cpp.o\u001b[0m\n",
            "[ 81%] \u001b[32mBuilding CXX object CMakeFiles/lightgbm.dir/src/treelearner/cuda_tree_learner.cpp.o\u001b[0m\n",
            "[ 82%] \u001b[32mBuilding CXX object CMakeFiles/lightgbm.dir/src/treelearner/data_parallel_tree_learner.cpp.o\u001b[0m\n",
            "[ 84%] \u001b[32mBuilding CXX object CMakeFiles/lightgbm.dir/src/treelearner/feature_parallel_tree_learner.cpp.o\u001b[0m\n",
            "[ 85%] \u001b[32mBuilding CXX object CMakeFiles/_lightgbm.dir/src/treelearner/serial_tree_learner.cpp.o\u001b[0m\n",
            "[ 86%] \u001b[32mBuilding CXX object CMakeFiles/lightgbm.dir/src/treelearner/gpu_tree_learner.cpp.o\u001b[0m\n",
            "[ 88%] \u001b[32mBuilding CXX object CMakeFiles/_lightgbm.dir/src/treelearner/tree_learner.cpp.o\u001b[0m\n",
            "[ 89%] \u001b[32mBuilding CXX object CMakeFiles/lightgbm.dir/src/treelearner/linear_tree_learner.cpp.o\u001b[0m\n",
            "[ 91%] \u001b[32mBuilding CXX object CMakeFiles/_lightgbm.dir/src/treelearner/voting_parallel_tree_learner.cpp.o\u001b[0m\n",
            "[ 92%] \u001b[32mBuilding CXX object CMakeFiles/lightgbm.dir/src/treelearner/serial_tree_learner.cpp.o\u001b[0m\n",
            "[ 94%] \u001b[32mBuilding CXX object CMakeFiles/lightgbm.dir/src/treelearner/tree_learner.cpp.o\u001b[0m\n",
            "[ 95%] \u001b[32mBuilding CXX object CMakeFiles/lightgbm.dir/src/treelearner/voting_parallel_tree_learner.cpp.o\u001b[0m\n",
            "[ 97%] \u001b[32mBuilding CXX object CMakeFiles/_lightgbm.dir/src/c_api.cpp.o\u001b[0m\n",
            "[ 98%] \u001b[32m\u001b[1mLinking CXX shared library ../lib_lightgbm.so\u001b[0m\n",
            "[ 98%] Built target _lightgbm\n",
            "[100%] \u001b[32m\u001b[1mLinking CXX executable ../lightgbm\u001b[0m\n",
            "[100%] Built target lightgbm\n",
            "running install\n",
            "running build\n",
            "running build_py\n",
            "INFO:root:Generating grammar tables from /usr/lib/python3.7/lib2to3/Grammar.txt\n",
            "INFO:root:Generating grammar tables from /usr/lib/python3.7/lib2to3/PatternGrammar.txt\n",
            "creating build\n",
            "creating build/lib\n",
            "creating build/lib/lightgbm\n",
            "copying lightgbm/__init__.py -> build/lib/lightgbm\n",
            "copying lightgbm/basic.py -> build/lib/lightgbm\n",
            "copying lightgbm/compat.py -> build/lib/lightgbm\n",
            "copying lightgbm/sklearn.py -> build/lib/lightgbm\n",
            "copying lightgbm/plotting.py -> build/lib/lightgbm\n",
            "copying lightgbm/libpath.py -> build/lib/lightgbm\n",
            "copying lightgbm/engine.py -> build/lib/lightgbm\n",
            "copying lightgbm/callback.py -> build/lib/lightgbm\n",
            "copying lightgbm/dask.py -> build/lib/lightgbm\n",
            "running egg_info\n",
            "creating lightgbm.egg-info\n",
            "writing lightgbm.egg-info/PKG-INFO\n",
            "writing dependency_links to lightgbm.egg-info/dependency_links.txt\n",
            "writing requirements to lightgbm.egg-info/requires.txt\n",
            "writing top-level names to lightgbm.egg-info/top_level.txt\n",
            "writing manifest file 'lightgbm.egg-info/SOURCES.txt'\n",
            "reading manifest template 'MANIFEST.in'\n",
            "no previously-included directories found matching 'build'\n",
            "warning: no files found matching 'LICENSE'\n",
            "warning: no files found matching '*.txt'\n",
            "warning: no files found matching '*.so' under directory 'lightgbm'\n",
            "warning: no files found matching 'compile/CMakeLists.txt'\n",
            "warning: no files found matching 'compile/cmake/IntegratedOpenCL.cmake'\n",
            "warning: no files found matching '*.so' under directory 'compile'\n",
            "warning: no files found matching '*.dll' under directory 'compile/Release'\n",
            "warning: no files found matching 'compile/external_libs/compute/CMakeLists.txt'\n",
            "warning: no files found matching '*' under directory 'compile/external_libs/compute/cmake'\n",
            "warning: no files found matching '*' under directory 'compile/external_libs/compute/include'\n",
            "warning: no files found matching '*' under directory 'compile/external_libs/compute/meta'\n",
            "warning: no files found matching 'compile/external_libs/eigen/CMakeLists.txt'\n",
            "warning: no files found matching 'compile/external_libs/eigen/Eigen/Cholesky'\n",
            "warning: no files found matching 'compile/external_libs/eigen/Eigen/Core'\n",
            "warning: no files found matching 'compile/external_libs/eigen/Eigen/Dense'\n",
            "warning: no files found matching 'compile/external_libs/eigen/Eigen/Eigenvalues'\n",
            "warning: no files found matching 'compile/external_libs/eigen/Eigen/Geometry'\n",
            "warning: no files found matching 'compile/external_libs/eigen/Eigen/Householder'\n",
            "warning: no files found matching 'compile/external_libs/eigen/Eigen/Jacobi'\n",
            "warning: no files found matching 'compile/external_libs/eigen/Eigen/LU'\n",
            "warning: no files found matching 'compile/external_libs/eigen/Eigen/QR'\n",
            "warning: no files found matching 'compile/external_libs/eigen/Eigen/SVD'\n",
            "warning: no files found matching '*' under directory 'compile/external_libs/eigen/Eigen/src/Cholesky'\n",
            "warning: no files found matching '*' under directory 'compile/external_libs/eigen/Eigen/src/Core'\n",
            "warning: no files found matching '*' under directory 'compile/external_libs/eigen/Eigen/src/Eigenvalues'\n",
            "warning: no files found matching '*' under directory 'compile/external_libs/eigen/Eigen/src/Geometry'\n",
            "warning: no files found matching '*' under directory 'compile/external_libs/eigen/Eigen/src/Householder'\n",
            "warning: no files found matching '*' under directory 'compile/external_libs/eigen/Eigen/src/Jacobi'\n",
            "warning: no files found matching '*' under directory 'compile/external_libs/eigen/Eigen/src/LU'\n",
            "warning: no files found matching '*' under directory 'compile/external_libs/eigen/Eigen/src/misc'\n",
            "warning: no files found matching '*' under directory 'compile/external_libs/eigen/Eigen/src/plugins'\n",
            "warning: no files found matching '*' under directory 'compile/external_libs/eigen/Eigen/src/QR'\n",
            "warning: no files found matching '*' under directory 'compile/external_libs/eigen/Eigen/src/SVD'\n",
            "warning: no files found matching 'compile/external_libs/fast_double_parser/CMakeLists.txt'\n",
            "warning: no files found matching 'compile/external_libs/fast_double_parser/LICENSE'\n",
            "warning: no files found matching 'compile/external_libs/fast_double_parser/LICENSE.BSL'\n",
            "warning: no files found matching '*' under directory 'compile/external_libs/fast_double_parser/include'\n",
            "warning: no files found matching 'compile/external_libs/fmt/CMakeLists.txt'\n",
            "warning: no files found matching 'compile/external_libs/fmt/LICENSE.rst'\n",
            "warning: no files found matching '*' under directory 'compile/external_libs/fmt/include'\n",
            "warning: no files found matching '*' under directory 'compile/include'\n",
            "warning: no files found matching '*' under directory 'compile/src'\n",
            "warning: no files found matching 'LightGBM.sln' under directory 'compile/windows'\n",
            "warning: no files found matching 'LightGBM.vcxproj' under directory 'compile/windows'\n",
            "warning: no files found matching '*.dll' under directory 'compile/windows/x64/DLL'\n",
            "warning: no previously-included files matching '*.py[co]' found anywhere in distribution\n",
            "warning: no previously-included files found matching 'compile/external_libs/compute/.git'\n",
            "writing manifest file 'lightgbm.egg-info/SOURCES.txt'\n",
            "copying lightgbm/VERSION.txt -> build/lib/lightgbm\n",
            "running install_lib\n",
            "copying build/lib/lightgbm/__init__.py -> /usr/local/lib/python3.7/dist-packages/lightgbm\n",
            "copying build/lib/lightgbm/basic.py -> /usr/local/lib/python3.7/dist-packages/lightgbm\n",
            "copying build/lib/lightgbm/compat.py -> /usr/local/lib/python3.7/dist-packages/lightgbm\n",
            "copying build/lib/lightgbm/VERSION.txt -> /usr/local/lib/python3.7/dist-packages/lightgbm\n",
            "copying build/lib/lightgbm/sklearn.py -> /usr/local/lib/python3.7/dist-packages/lightgbm\n",
            "copying build/lib/lightgbm/plotting.py -> /usr/local/lib/python3.7/dist-packages/lightgbm\n",
            "copying build/lib/lightgbm/libpath.py -> /usr/local/lib/python3.7/dist-packages/lightgbm\n",
            "copying build/lib/lightgbm/engine.py -> /usr/local/lib/python3.7/dist-packages/lightgbm\n",
            "copying build/lib/lightgbm/callback.py -> /usr/local/lib/python3.7/dist-packages/lightgbm\n",
            "copying build/lib/lightgbm/dask.py -> /usr/local/lib/python3.7/dist-packages/lightgbm\n",
            "INFO:LightGBM:Installing lib_lightgbm from: ['../lib_lightgbm.so']\n",
            "copying ../lib_lightgbm.so -> /usr/local/lib/python3.7/dist-packages/lightgbm\n",
            "byte-compiling /usr/local/lib/python3.7/dist-packages/lightgbm/__init__.py to __init__.cpython-37.pyc\n",
            "byte-compiling /usr/local/lib/python3.7/dist-packages/lightgbm/basic.py to basic.cpython-37.pyc\n",
            "byte-compiling /usr/local/lib/python3.7/dist-packages/lightgbm/compat.py to compat.cpython-37.pyc\n",
            "byte-compiling /usr/local/lib/python3.7/dist-packages/lightgbm/sklearn.py to sklearn.cpython-37.pyc\n",
            "byte-compiling /usr/local/lib/python3.7/dist-packages/lightgbm/plotting.py to plotting.cpython-37.pyc\n",
            "byte-compiling /usr/local/lib/python3.7/dist-packages/lightgbm/libpath.py to libpath.cpython-37.pyc\n",
            "byte-compiling /usr/local/lib/python3.7/dist-packages/lightgbm/engine.py to engine.cpython-37.pyc\n",
            "byte-compiling /usr/local/lib/python3.7/dist-packages/lightgbm/callback.py to callback.cpython-37.pyc\n",
            "byte-compiling /usr/local/lib/python3.7/dist-packages/lightgbm/dask.py to dask.cpython-37.pyc\n",
            "running install_egg_info\n",
            "Copying lightgbm.egg-info to /usr/local/lib/python3.7/dist-packages/lightgbm-3.2.1.99-py3.7.egg-info\n",
            "running install_scripts\n"
          ],
          "name": "stdout"
        }
      ]
    },
    {
      "cell_type": "code",
      "metadata": {
        "id": "p-towmis6RTo"
      },
      "source": [
        "!mkdir data\n",
        "!cp /content/drive/MyDrive/Data-x/data/0403/*.csv /content/data/"
      ],
      "execution_count": null,
      "outputs": []
    },
    {
      "cell_type": "code",
      "metadata": {
        "id": "FvrZCaLe-Uvg",
        "colab": {
          "base_uri": "https://localhost:8080/"
        },
        "outputId": "6236958b-3f7c-4137-cb68-68c0acc0163b"
      },
      "source": [
        "%cd /content"
      ],
      "execution_count": null,
      "outputs": [
        {
          "output_type": "stream",
          "text": [
            "/content\n"
          ],
          "name": "stdout"
        }
      ]
    },
    {
      "cell_type": "code",
      "metadata": {
        "id": "bFKsnitz-hOx",
        "colab": {
          "base_uri": "https://localhost:8080/"
        },
        "outputId": "945b36a5-19a7-4f9b-dc37-718d0b26d767"
      },
      "source": [
        "import numpy as np\n",
        "import pandas as pd\n",
        "import scipy.stats as stats\n",
        "from pathlib import Path\n",
        "import glob\n",
        "\n",
        "from sklearn.model_selection import KFold\n",
        "import lightgbm as lgb\n",
        "\n",
        "import psutil\n",
        "import random\n",
        "import os\n",
        "import time\n",
        "import sys\n",
        "import math\n",
        "from contextlib import contextmanager\n",
        "\n",
        "\n",
        "N_SPLITS = 10\n",
        "SEED = 42\n",
        "\n",
        "@contextmanager\n",
        "def timer(name: str):\n",
        "    t0 = time.time()\n",
        "    p = psutil.Process(os.getpid())\n",
        "    m0 = p.memory_info()[0] / 2. ** 30\n",
        "    try:\n",
        "        yield\n",
        "    finally:\n",
        "        m1 = p.memory_info()[0] / 2. ** 30\n",
        "        delta = m1 - m0\n",
        "        sign = '+' if delta >= 0 else '-'\n",
        "        delta = math.fabs(delta)\n",
        "        print(f\"[{m1:.1f}GB({sign}{delta:.1f}GB): {time.time() - t0:.3f}sec] {name}\", file=sys.stderr)\n",
        "\n",
        "\n",
        "def set_seed(seed=42):\n",
        "    random.seed(seed)\n",
        "    os.environ[\"PYTHONHASHSEED\"] = str(seed)\n",
        "    np.random.seed(seed)\n",
        "    \n",
        "def comp_metric(xhat, yhat, fhat, x, y, f):\n",
        "    intermediate = np.sqrt(np.power(xhat-x, 2) + np.power(yhat-y, 2)) + 15 * np.abs(fhat-f)\n",
        "    return intermediate.sum()/xhat.shape[0]\n",
        "\n",
        "\n",
        "\n",
        "\n",
        "\n",
        "set_seed(SEED)\n",
        "\n",
        "feature_dir = './*/'\n",
        "train_files = sorted(glob.glob(os.path.join(feature_dir, '*_train.csv')))\n",
        "print(train_files)\n",
        "test_files = sorted(glob.glob(os.path.join(feature_dir, '*_test.csv')))\n",
        "\n",
        "#parameters for the three LightGBM models\n",
        "lgb_params = {'objective': 'root_mean_squared_error',\n",
        "              'boosting_type': 'gbdt',\n",
        "              'n_estimators': 50000,\n",
        "              'learning_rate': 0.05,\n",
        "              'num_leaves': 90,\n",
        "              'device': 'gpu',\n",
        "              'colsample_bytree': 0.4,\n",
        "              'subsample': 0.6,\n",
        "              'subsample_freq': 2,\n",
        "              'bagging_seed': SEED,\n",
        "              'reg_alpha': 2,\n",
        "              'reg_lambda': 2,\n",
        "              'random_state': SEED,\n",
        "              'n_jobs': -1\n",
        "              }\n",
        "\n",
        "lgb_f_params = {'objective': 'multiclass',\n",
        "                'boosting_type': 'gbdt',\n",
        "                'n_estimators': 50000,\n",
        "                'learning_rate': 0.05,\n",
        "                'num_leaves': 90,\n",
        "                'device': 'gpu',\n",
        "                'colsample_bytree': 0.4,\n",
        "                'subsample': 0.6,\n",
        "                'subsample_freq': 2,\n",
        "                'bagging_seed': SEED,\n",
        "                'reg_alpha': 10,\n",
        "                'reg_lambda': 2,\n",
        "                'random_state': SEED,\n",
        "                'n_jobs': -1\n",
        "                }"
      ],
      "execution_count": null,
      "outputs": [
        {
          "output_type": "stream",
          "text": [
            "['./data/5cd56b5ae2acfd2d33b58544_train.csv', './data/5cd56b5ae2acfd2d33b58546_train.csv', './data/5cd56b5ae2acfd2d33b58548_train.csv', './data/5cd56b5ae2acfd2d33b58549_train.csv', './data/5cd56b5ae2acfd2d33b5854a_train.csv', './data/5cd56b6ae2acfd2d33b59c90_train.csv', './data/5cd56b6ae2acfd2d33b59ccb_train.csv', './data/5cd56b6ae2acfd2d33b59ccc_train.csv', './data/5cd56b6be2acfd2d33b59d1f_train.csv', './data/5cd56b6ee2acfd2d33b5a247_train.csv', './data/5cd56b6fe2acfd2d33b5a386_train.csv', './data/5cd56b7de2acfd2d33b5c14b_train.csv', './data/5d27075f03f801723c2e360f_train.csv', './data/5d27096c03f801723c31e5e0_train.csv', './data/5d27097f03f801723c320d97_train.csv', './data/5d27099f03f801723c32511d_train.csv', './data/5d2709a003f801723c3251bf_train.csv', './data/5d2709b303f801723c327472_train.csv', './data/5d2709bb03f801723c32852c_train.csv', './data/5d2709c303f801723c3299ee_train.csv', './data/5d2709d403f801723c32bd39_train.csv', './data/5da1382d4db8ce0c98bbe92e_train.csv', './data/5da1383b4db8ce0c98bc11ab_train.csv', './data/5da138b74db8ce0c98bd4774_train.csv', './data/5da958dd46f8266d0737457b_train.csv']\n"
          ],
          "name": "stdout"
        }
      ]
    },
    {
      "cell_type": "markdown",
      "metadata": {
        "id": "5aHThFmXqdWh"
      },
      "source": [
        "# Calculate all data"
      ]
    },
    {
      "cell_type": "code",
      "metadata": {
        "id": "fU_ag5yp_qEw",
        "colab": {
          "base_uri": "https://localhost:8080/"
        },
        "outputId": "383b8639-0c45-45fe-99ff-ad2e67ea3852"
      },
      "source": [
        "from sklearn.metrics import mean_squared_error\n",
        "\n",
        "score_df = pd.DataFrame()\n",
        "oof = list()\n",
        "predictions = list()\n",
        "for n_files, file in enumerate(train_files):\n",
        "    data = pd.read_csv(file, index_col=0)\n",
        "    \n",
        "    test_data = pd.read_csv(test_files[n_files], index_col=0)\n",
        "\n",
        "    oof_x, oof_y, oof_f = np.zeros(data.shape[0]), np.zeros(data.shape[0]), np.zeros(data.shape[0])\n",
        "    # oof_x, oof_y, oof_f is the np.zeros to store X, Y and Floor result\n",
        "    preds_x, preds_y = 0, 0\n",
        "    preds_f_arr = np.zeros((test_data.shape[0], N_SPLITS))\n",
        "    print(\"Starting to train: \", os.path.basename(file))\n",
        "    kf = KFold(n_splits=N_SPLITS, shuffle=True, random_state=SEED)\n",
        "    for fold, (trn_idx, val_idx) in enumerate(kf.split(data.iloc[:, :-4])):\n",
        "        X_train = data.iloc[trn_idx, :-5] # All wifi signal info\n",
        "        y_trainx = data.iloc[trn_idx, -5] # the location X to be predicted\n",
        "        y_trainy = data.iloc[trn_idx, -4] # the location Y to be predicted\n",
        "        y_trainf = data.iloc[trn_idx, -3] # the location's floor\n",
        "\n",
        "        X_valid = data.iloc[val_idx, :-5] # All wifi signal info in KFold validation dataset\n",
        "        y_validx = data.iloc[val_idx, -5] # the location X to be predicted in KFold validation dataset\n",
        "        y_validy = data.iloc[val_idx, -4] # the location Y to be predicted in KFold validation dataset\n",
        "        y_validf = data.iloc[val_idx, -3] # the location's floor in KFold validation dataset\n",
        "\n",
        "        modelx = lgb.LGBMRegressor(**lgb_params) #Model selected, which is LightGBM\n",
        "        with timer(\"fit X\"):\n",
        "            modelx.fit(X_train, y_trainx,\n",
        "                       eval_set=[(X_valid, y_validx)],\n",
        "                       eval_metric='rmse',\n",
        "                       verbose=False,\n",
        "                       early_stopping_rounds=20\n",
        "                       ) #Model 1, used to predit X location only\n",
        "\n",
        "        modely = lgb.LGBMRegressor(**lgb_params)\n",
        "        with timer(\"fit Y\"):\n",
        "            modely.fit(X_train, y_trainy,\n",
        "                       eval_set=[(X_valid, y_validy)],\n",
        "                       eval_metric='rmse',\n",
        "                       verbose=False,\n",
        "                       early_stopping_rounds=20\n",
        "                       ) #Model 2, used to predit Y location only\n",
        "\n",
        "        modelf = lgb.LGBMClassifier(**lgb_f_params)\n",
        "        with timer(\"fit F\"):\n",
        "            modelf.fit(X_train, y_trainf,\n",
        "                       eval_set=[(X_valid, y_validf)],\n",
        "                       eval_metric='multi_logloss',\n",
        "                       verbose=False,\n",
        "                       early_stopping_rounds=20\n",
        "                       ) #Model 3, used to predit Floor location only\n",
        "\n",
        "        oof_x[val_idx] = modelx.predict(X_valid)\n",
        "        oof_y[val_idx] = modely.predict(X_valid)\n",
        "        oof_f[val_idx] = modelf.predict(X_valid).astype(int)\n",
        "\n",
        "        preds_x += modelx.predict(test_data.iloc[:, :-5]) / N_SPLITS \n",
        "        #Average the result of each folds, divide every result by n_splits, and add them together\n",
        "        preds_y += modely.predict(test_data.iloc[:, :-5]) / N_SPLITS\n",
        "        #Average the result of each folds, divide every result by n_splits, and add them together\n",
        "        preds_f_arr[:, fold] = modelf.predict(test_data.iloc[:, :-5]).astype(int)\n",
        "        #The floor is dealt differently,   \n",
        "\n",
        "        score = comp_metric(oof_x[val_idx], oof_y[val_idx], oof_f[val_idx],\n",
        "                            y_validx.to_numpy(), y_validy.to_numpy(), y_validf.to_numpy())\n",
        "        # the error in current KFold\n",
        "        print(f\"fold {fold}: mean position error {score}\")\n",
        "\n",
        "\n",
        "    # Evaluate mean position error of each file\n",
        "    print(\"*+\"*40)\n",
        "    print(f\"file #{n_files}, shape={data.shape}, name={os.path.basename(file)}\")\n",
        "    score = comp_metric(oof_x, oof_y, oof_f,\n",
        "                        data.iloc[:, -5].to_numpy(), data.iloc[:, -4].to_numpy(), data.iloc[:, -3].to_numpy())\n",
        "    #Calculate the score/error\n",
        "    oof.append(score)\n",
        "    print(f\"mean position error {score}\")\n",
        "    print(\"*+\"*40)\n",
        "\n",
        "    preds_f_mode = stats.mode(preds_f_arr, axis=1)\n",
        "    preds_f = preds_f_mode[0].astype(int).reshape(-1)\n",
        "    #The floor is dealt differently, vote to choose the most appeared floor number in all folds\n",
        "    test_preds = pd.DataFrame(np.stack((preds_f, preds_x, preds_y))).T\n",
        "    ######\n",
        "    #Stack all the predictions in one testing file together, and transpose to vertical\n",
        "    predictions.append(test_preds)\n",
        "    # print(test_preds)\n",
        "\n",
        "    column_num = len(test_data.columns)\n",
        "    test_data = test_data.reset_index()\n",
        "\n",
        "    test_data.insert(column_num, 'pred_x', test_preds[1], True)\n",
        "    test_data.insert(column_num+1, 'pred_y', test_preds[2], True)\n",
        "    test_data.insert(column_num+2, 'pred_f', test_preds[0], True) \n",
        "\n",
        "    building_name = file[7:-10] + '.csv'\n",
        "\n",
        "    test_data.to_csv(building_name)\n",
        "\n",
        "print(\"*+\"*40)\n",
        "print(sum(oof)/len(oof))\n",
        "print(\"*+\"*40)"
      ],
      "execution_count": null,
      "outputs": [
        {
          "output_type": "stream",
          "text": [
            "Starting to train:  5cd56b5ae2acfd2d33b58544_train.csv\n"
          ],
          "name": "stdout"
        },
        {
          "output_type": "stream",
          "text": [
            "[0.2GB(+0.1GB): 2.497sec] fit X\n",
            "[0.2GB(+0.0GB): 2.203sec] fit Y\n",
            "[0.2GB(+0.0GB): 1.254sec] fit F\n"
          ],
          "name": "stderr"
        },
        {
          "output_type": "stream",
          "text": [
            "fold 0: mean position error 2.7022788447153028\n"
          ],
          "name": "stdout"
        },
        {
          "output_type": "stream",
          "text": [
            "[0.2GB(+0.0GB): 2.335sec] fit X\n",
            "[0.2GB(+0.0GB): 2.852sec] fit Y\n",
            "[0.2GB(+0.0GB): 3.702sec] fit F\n"
          ],
          "name": "stderr"
        },
        {
          "output_type": "stream",
          "text": [
            "fold 1: mean position error 2.3282671908205885\n"
          ],
          "name": "stdout"
        },
        {
          "output_type": "stream",
          "text": [
            "[0.3GB(+0.0GB): 4.079sec] fit X\n",
            "[0.3GB(+0.0GB): 2.283sec] fit Y\n",
            "[0.3GB(+0.0GB): 1.151sec] fit F\n"
          ],
          "name": "stderr"
        },
        {
          "output_type": "stream",
          "text": [
            "fold 2: mean position error 2.628752303170066\n"
          ],
          "name": "stdout"
        },
        {
          "output_type": "stream",
          "text": [
            "[0.3GB(+0.0GB): 2.695sec] fit X\n",
            "[0.3GB(+0.0GB): 1.639sec] fit Y\n",
            "[0.3GB(+0.0GB): 4.887sec] fit F\n"
          ],
          "name": "stderr"
        },
        {
          "output_type": "stream",
          "text": [
            "fold 3: mean position error 2.5822187842487674\n"
          ],
          "name": "stdout"
        },
        {
          "output_type": "stream",
          "text": [
            "[0.3GB(+0.0GB): 2.082sec] fit X\n",
            "[0.3GB(+0.0GB): 3.391sec] fit Y\n",
            "[0.3GB(+0.0GB): 3.232sec] fit F\n"
          ],
          "name": "stderr"
        },
        {
          "output_type": "stream",
          "text": [
            "fold 4: mean position error 2.4661479522545995\n"
          ],
          "name": "stdout"
        },
        {
          "output_type": "stream",
          "text": [
            "[0.3GB(+0.0GB): 3.082sec] fit X\n",
            "[0.3GB(+0.0GB): 2.067sec] fit Y\n",
            "[0.3GB(+0.0GB): 2.846sec] fit F\n"
          ],
          "name": "stderr"
        },
        {
          "output_type": "stream",
          "text": [
            "fold 5: mean position error 2.3420142265671267\n"
          ],
          "name": "stdout"
        },
        {
          "output_type": "stream",
          "text": [
            "[0.3GB(+0.0GB): 4.886sec] fit X\n",
            "[0.3GB(+0.0GB): 3.686sec] fit Y\n",
            "[0.3GB(+0.0GB): 1.915sec] fit F\n"
          ],
          "name": "stderr"
        },
        {
          "output_type": "stream",
          "text": [
            "fold 6: mean position error 2.6939027283411767\n"
          ],
          "name": "stdout"
        },
        {
          "output_type": "stream",
          "text": [
            "[0.3GB(+0.0GB): 3.423sec] fit X\n",
            "[0.3GB(+0.0GB): 2.755sec] fit Y\n",
            "[0.3GB(+0.0GB): 3.606sec] fit F\n"
          ],
          "name": "stderr"
        },
        {
          "output_type": "stream",
          "text": [
            "fold 7: mean position error 2.5666748862398427\n"
          ],
          "name": "stdout"
        },
        {
          "output_type": "stream",
          "text": [
            "[0.3GB(+0.0GB): 1.915sec] fit X\n",
            "[0.3GB(+0.0GB): 3.658sec] fit Y\n",
            "[0.3GB(+0.0GB): 4.777sec] fit F\n"
          ],
          "name": "stderr"
        },
        {
          "output_type": "stream",
          "text": [
            "fold 8: mean position error 2.754478888427408\n"
          ],
          "name": "stdout"
        },
        {
          "output_type": "stream",
          "text": [
            "[0.3GB(+0.0GB): 2.487sec] fit X\n",
            "[0.3GB(+0.0GB): 2.489sec] fit Y\n",
            "[0.3GB(+0.0GB): 3.371sec] fit F\n"
          ],
          "name": "stderr"
        },
        {
          "output_type": "stream",
          "text": [
            "fold 9: mean position error 2.9469489080646505\n",
            "*+*+*+*+*+*+*+*+*+*+*+*+*+*+*+*+*+*+*+*+*+*+*+*+*+*+*+*+*+*+*+*+*+*+*+*+*+*+*+*+\n",
            "file #0, shape=(2313, 85), name=5cd56b5ae2acfd2d33b58544_train.csv\n",
            "mean position error 2.601106124948961\n",
            "*+*+*+*+*+*+*+*+*+*+*+*+*+*+*+*+*+*+*+*+*+*+*+*+*+*+*+*+*+*+*+*+*+*+*+*+*+*+*+*+\n",
            "Starting to train:  5cd56b5ae2acfd2d33b58546_train.csv\n"
          ],
          "name": "stdout"
        },
        {
          "output_type": "stream",
          "text": [
            "[0.3GB(+0.0GB): 4.549sec] fit X\n",
            "[0.3GB(+0.0GB): 1.858sec] fit Y\n",
            "[0.3GB(+0.0GB): 5.768sec] fit F\n"
          ],
          "name": "stderr"
        },
        {
          "output_type": "stream",
          "text": [
            "fold 0: mean position error 6.021403012734979\n"
          ],
          "name": "stdout"
        },
        {
          "output_type": "stream",
          "text": [
            "[0.3GB(+0.0GB): 3.419sec] fit X\n",
            "[0.3GB(+0.0GB): 2.383sec] fit Y\n",
            "[0.3GB(+0.0GB): 7.288sec] fit F\n"
          ],
          "name": "stderr"
        },
        {
          "output_type": "stream",
          "text": [
            "fold 1: mean position error 4.697906759182874\n"
          ],
          "name": "stdout"
        },
        {
          "output_type": "stream",
          "text": [
            "[0.3GB(+0.0GB): 5.133sec] fit X\n",
            "[0.3GB(+0.0GB): 3.931sec] fit Y\n",
            "[0.3GB(+0.0GB): 5.555sec] fit F\n"
          ],
          "name": "stderr"
        },
        {
          "output_type": "stream",
          "text": [
            "fold 2: mean position error 4.784165003276449\n"
          ],
          "name": "stdout"
        },
        {
          "output_type": "stream",
          "text": [
            "[0.3GB(+0.0GB): 6.473sec] fit X\n",
            "[0.3GB(+0.0GB): 1.177sec] fit Y\n",
            "[0.3GB(+0.0GB): 5.806sec] fit F\n"
          ],
          "name": "stderr"
        },
        {
          "output_type": "stream",
          "text": [
            "fold 3: mean position error 5.247076791349244\n"
          ],
          "name": "stdout"
        },
        {
          "output_type": "stream",
          "text": [
            "[0.3GB(+0.0GB): 4.612sec] fit X\n",
            "[0.3GB(+0.0GB): 2.076sec] fit Y\n",
            "[0.3GB(+0.0GB): 5.605sec] fit F\n"
          ],
          "name": "stderr"
        },
        {
          "output_type": "stream",
          "text": [
            "fold 4: mean position error 4.980802463981849\n"
          ],
          "name": "stdout"
        },
        {
          "output_type": "stream",
          "text": [
            "[0.3GB(+0.0GB): 4.645sec] fit X\n",
            "[0.3GB(+0.0GB): 3.191sec] fit Y\n",
            "[0.3GB(+0.0GB): 3.806sec] fit F\n"
          ],
          "name": "stderr"
        },
        {
          "output_type": "stream",
          "text": [
            "fold 5: mean position error 4.251206012144036\n"
          ],
          "name": "stdout"
        },
        {
          "output_type": "stream",
          "text": [
            "[0.3GB(+0.0GB): 3.190sec] fit X\n",
            "[0.3GB(+0.0GB): 3.202sec] fit Y\n",
            "[0.3GB(+0.0GB): 2.412sec] fit F\n"
          ],
          "name": "stderr"
        },
        {
          "output_type": "stream",
          "text": [
            "fold 6: mean position error 6.1844316041881005\n"
          ],
          "name": "stdout"
        },
        {
          "output_type": "stream",
          "text": [
            "[0.3GB(+0.0GB): 4.684sec] fit X\n",
            "[0.3GB(+0.0GB): 3.224sec] fit Y\n",
            "[0.3GB(+0.0GB): 5.676sec] fit F\n"
          ],
          "name": "stderr"
        },
        {
          "output_type": "stream",
          "text": [
            "fold 7: mean position error 4.545988231632946\n"
          ],
          "name": "stdout"
        },
        {
          "output_type": "stream",
          "text": [
            "[0.3GB(+0.0GB): 2.932sec] fit X\n",
            "[0.3GB(+0.0GB): 3.333sec] fit Y\n",
            "[0.3GB(+0.0GB): 4.110sec] fit F\n"
          ],
          "name": "stderr"
        },
        {
          "output_type": "stream",
          "text": [
            "fold 8: mean position error 5.15279733630951\n"
          ],
          "name": "stdout"
        },
        {
          "output_type": "stream",
          "text": [
            "[0.3GB(+0.0GB): 5.228sec] fit X\n",
            "[0.3GB(+0.0GB): 2.544sec] fit Y\n",
            "[0.3GB(+0.0GB): 6.601sec] fit F\n"
          ],
          "name": "stderr"
        },
        {
          "output_type": "stream",
          "text": [
            "fold 9: mean position error 6.370298462438537\n",
            "*+*+*+*+*+*+*+*+*+*+*+*+*+*+*+*+*+*+*+*+*+*+*+*+*+*+*+*+*+*+*+*+*+*+*+*+*+*+*+*+\n",
            "file #1, shape=(3747, 149), name=5cd56b5ae2acfd2d33b58546_train.csv\n",
            "mean position error 5.223501279672822\n",
            "*+*+*+*+*+*+*+*+*+*+*+*+*+*+*+*+*+*+*+*+*+*+*+*+*+*+*+*+*+*+*+*+*+*+*+*+*+*+*+*+\n",
            "Starting to train:  5cd56b5ae2acfd2d33b58548_train.csv\n"
          ],
          "name": "stdout"
        },
        {
          "output_type": "stream",
          "text": [
            "[0.3GB(+0.0GB): 1.135sec] fit X\n",
            "[0.3GB(+0.0GB): 2.071sec] fit Y\n",
            "[0.3GB(+0.0GB): 3.527sec] fit F\n"
          ],
          "name": "stderr"
        },
        {
          "output_type": "stream",
          "text": [
            "fold 0: mean position error 4.146900400195876\n"
          ],
          "name": "stdout"
        },
        {
          "output_type": "stream",
          "text": [
            "[0.3GB(+0.0GB): 1.125sec] fit X\n",
            "[0.3GB(+0.0GB): 1.188sec] fit Y\n",
            "[0.3GB(+0.0GB): 3.199sec] fit F\n"
          ],
          "name": "stderr"
        },
        {
          "output_type": "stream",
          "text": [
            "fold 1: mean position error 4.877036644890645\n"
          ],
          "name": "stdout"
        },
        {
          "output_type": "stream",
          "text": [
            "[0.3GB(+0.0GB): 1.100sec] fit X\n",
            "[0.3GB(+0.0GB): 1.524sec] fit Y\n",
            "[0.3GB(+0.0GB): 3.208sec] fit F\n"
          ],
          "name": "stderr"
        },
        {
          "output_type": "stream",
          "text": [
            "fold 2: mean position error 5.076329249217581\n"
          ],
          "name": "stdout"
        },
        {
          "output_type": "stream",
          "text": [
            "[0.3GB(+0.0GB): 1.364sec] fit X\n",
            "[0.3GB(+0.0GB): 1.273sec] fit Y\n",
            "[0.3GB(+0.0GB): 2.388sec] fit F\n"
          ],
          "name": "stderr"
        },
        {
          "output_type": "stream",
          "text": [
            "fold 3: mean position error 5.034257337541904\n"
          ],
          "name": "stdout"
        },
        {
          "output_type": "stream",
          "text": [
            "[0.3GB(+0.0GB): 0.790sec] fit X\n",
            "[0.3GB(+0.0GB): 1.578sec] fit Y\n",
            "[0.3GB(+0.0GB): 3.077sec] fit F\n"
          ],
          "name": "stderr"
        },
        {
          "output_type": "stream",
          "text": [
            "fold 4: mean position error 4.1644701084321785\n"
          ],
          "name": "stdout"
        },
        {
          "output_type": "stream",
          "text": [
            "[0.3GB(+0.0GB): 0.919sec] fit X\n",
            "[0.3GB(+0.0GB): 1.256sec] fit Y\n",
            "[0.3GB(+0.0GB): 3.826sec] fit F\n"
          ],
          "name": "stderr"
        },
        {
          "output_type": "stream",
          "text": [
            "fold 5: mean position error 4.836962951461445\n"
          ],
          "name": "stdout"
        },
        {
          "output_type": "stream",
          "text": [
            "[0.3GB(+0.0GB): 0.926sec] fit X\n",
            "[0.3GB(+0.0GB): 0.861sec] fit Y\n",
            "[0.3GB(+0.0GB): 3.086sec] fit F\n"
          ],
          "name": "stderr"
        },
        {
          "output_type": "stream",
          "text": [
            "fold 6: mean position error 4.863517662564482\n"
          ],
          "name": "stdout"
        },
        {
          "output_type": "stream",
          "text": [
            "[0.3GB(+0.0GB): 0.746sec] fit X\n",
            "[0.3GB(+0.0GB): 1.431sec] fit Y\n",
            "[0.3GB(+0.0GB): 3.674sec] fit F\n"
          ],
          "name": "stderr"
        },
        {
          "output_type": "stream",
          "text": [
            "fold 7: mean position error 4.2199637200607585\n"
          ],
          "name": "stdout"
        },
        {
          "output_type": "stream",
          "text": [
            "[0.3GB(+0.0GB): 1.367sec] fit X\n",
            "[0.3GB(+0.0GB): 1.393sec] fit Y\n",
            "[0.3GB(+0.0GB): 2.387sec] fit F\n"
          ],
          "name": "stderr"
        },
        {
          "output_type": "stream",
          "text": [
            "fold 8: mean position error 4.648654516091478\n"
          ],
          "name": "stdout"
        },
        {
          "output_type": "stream",
          "text": [
            "[0.3GB(+0.0GB): 1.399sec] fit X\n",
            "[0.3GB(+0.0GB): 1.744sec] fit Y\n",
            "[0.3GB(+0.0GB): 3.248sec] fit F\n"
          ],
          "name": "stderr"
        },
        {
          "output_type": "stream",
          "text": [
            "fold 9: mean position error 4.406002711367582\n",
            "*+*+*+*+*+*+*+*+*+*+*+*+*+*+*+*+*+*+*+*+*+*+*+*+*+*+*+*+*+*+*+*+*+*+*+*+*+*+*+*+\n",
            "file #2, shape=(704, 48), name=5cd56b5ae2acfd2d33b58548_train.csv\n",
            "mean position error 4.628297151647048\n",
            "*+*+*+*+*+*+*+*+*+*+*+*+*+*+*+*+*+*+*+*+*+*+*+*+*+*+*+*+*+*+*+*+*+*+*+*+*+*+*+*+\n",
            "Starting to train:  5cd56b5ae2acfd2d33b58549_train.csv\n"
          ],
          "name": "stdout"
        },
        {
          "output_type": "stream",
          "text": [
            "[0.3GB(+0.0GB): 2.695sec] fit X\n",
            "[0.3GB(+0.0GB): 2.490sec] fit Y\n",
            "[0.3GB(+0.0GB): 2.842sec] fit F\n"
          ],
          "name": "stderr"
        },
        {
          "output_type": "stream",
          "text": [
            "fold 0: mean position error 9.91848649924377\n"
          ],
          "name": "stdout"
        },
        {
          "output_type": "stream",
          "text": [
            "[0.3GB(+0.0GB): 1.719sec] fit X\n",
            "[0.3GB(+0.0GB): 1.341sec] fit Y\n",
            "[0.3GB(+0.0GB): 2.804sec] fit F\n"
          ],
          "name": "stderr"
        },
        {
          "output_type": "stream",
          "text": [
            "fold 1: mean position error 13.11186097826215\n"
          ],
          "name": "stdout"
        },
        {
          "output_type": "stream",
          "text": [
            "[0.3GB(+0.0GB): 1.375sec] fit X\n",
            "[0.3GB(+0.0GB): 2.387sec] fit Y\n",
            "[0.3GB(+0.0GB): 4.374sec] fit F\n"
          ],
          "name": "stderr"
        },
        {
          "output_type": "stream",
          "text": [
            "fold 2: mean position error 11.829555465148736\n"
          ],
          "name": "stdout"
        },
        {
          "output_type": "stream",
          "text": [
            "[0.3GB(+0.0GB): 1.985sec] fit X\n",
            "[0.3GB(+0.0GB): 2.018sec] fit Y\n",
            "[0.3GB(+0.0GB): 2.747sec] fit F\n"
          ],
          "name": "stderr"
        },
        {
          "output_type": "stream",
          "text": [
            "fold 3: mean position error 10.546488037672122\n"
          ],
          "name": "stdout"
        },
        {
          "output_type": "stream",
          "text": [
            "[0.3GB(+0.0GB): 3.780sec] fit X\n",
            "[0.3GB(+0.0GB): 3.424sec] fit Y\n",
            "[0.3GB(+0.0GB): 1.732sec] fit F\n"
          ],
          "name": "stderr"
        },
        {
          "output_type": "stream",
          "text": [
            "fold 4: mean position error 11.259003059499536\n"
          ],
          "name": "stdout"
        },
        {
          "output_type": "stream",
          "text": [
            "[0.3GB(+0.0GB): 1.907sec] fit X\n",
            "[0.3GB(+0.0GB): 1.378sec] fit Y\n",
            "[0.3GB(+0.0GB): 4.696sec] fit F\n"
          ],
          "name": "stderr"
        },
        {
          "output_type": "stream",
          "text": [
            "fold 5: mean position error 11.529461187717999\n"
          ],
          "name": "stdout"
        },
        {
          "output_type": "stream",
          "text": [
            "[0.3GB(+0.0GB): 1.369sec] fit X\n",
            "[0.3GB(+0.0GB): 2.535sec] fit Y\n",
            "[0.3GB(+0.0GB): 6.639sec] fit F\n"
          ],
          "name": "stderr"
        },
        {
          "output_type": "stream",
          "text": [
            "fold 6: mean position error 11.056959462337932\n"
          ],
          "name": "stdout"
        },
        {
          "output_type": "stream",
          "text": [
            "[0.4GB(+0.0GB): 2.060sec] fit X\n",
            "[0.4GB(+0.0GB): 1.414sec] fit Y\n",
            "[0.4GB(+0.0GB): 3.019sec] fit F\n"
          ],
          "name": "stderr"
        },
        {
          "output_type": "stream",
          "text": [
            "fold 7: mean position error 12.800557354587095\n"
          ],
          "name": "stdout"
        },
        {
          "output_type": "stream",
          "text": [
            "[0.4GB(+0.0GB): 2.675sec] fit X\n",
            "[0.4GB(+0.0GB): 1.873sec] fit Y\n",
            "[0.4GB(+0.0GB): 1.566sec] fit F\n"
          ],
          "name": "stderr"
        },
        {
          "output_type": "stream",
          "text": [
            "fold 8: mean position error 10.456285820887349\n"
          ],
          "name": "stdout"
        },
        {
          "output_type": "stream",
          "text": [
            "[0.4GB(+0.0GB): 3.077sec] fit X\n",
            "[0.4GB(+0.0GB): 1.510sec] fit Y\n",
            "[0.4GB(+0.0GB): 1.809sec] fit F\n"
          ],
          "name": "stderr"
        },
        {
          "output_type": "stream",
          "text": [
            "fold 9: mean position error 9.704093831206503\n",
            "*+*+*+*+*+*+*+*+*+*+*+*+*+*+*+*+*+*+*+*+*+*+*+*+*+*+*+*+*+*+*+*+*+*+*+*+*+*+*+*+\n",
            "file #3, shape=(2959, 144), name=5cd56b5ae2acfd2d33b58549_train.csv\n",
            "mean position error 11.221787904140418\n",
            "*+*+*+*+*+*+*+*+*+*+*+*+*+*+*+*+*+*+*+*+*+*+*+*+*+*+*+*+*+*+*+*+*+*+*+*+*+*+*+*+\n",
            "Starting to train:  5cd56b5ae2acfd2d33b5854a_train.csv\n"
          ],
          "name": "stdout"
        },
        {
          "output_type": "stream",
          "text": [
            "[0.4GB(+0.0GB): 2.079sec] fit X\n",
            "[0.4GB(+0.0GB): 4.192sec] fit Y\n",
            "[0.4GB(+0.0GB): 3.317sec] fit F\n"
          ],
          "name": "stderr"
        },
        {
          "output_type": "stream",
          "text": [
            "fold 0: mean position error 7.815420148131756\n"
          ],
          "name": "stdout"
        },
        {
          "output_type": "stream",
          "text": [
            "[0.4GB(+0.0GB): 1.872sec] fit X\n",
            "[0.4GB(+0.0GB): 1.872sec] fit Y\n",
            "[0.4GB(+0.0GB): 6.215sec] fit F\n"
          ],
          "name": "stderr"
        },
        {
          "output_type": "stream",
          "text": [
            "fold 1: mean position error 6.848770438174523\n"
          ],
          "name": "stdout"
        },
        {
          "output_type": "stream",
          "text": [
            "[0.4GB(+0.0GB): 3.249sec] fit X\n",
            "[0.4GB(+0.0GB): 1.783sec] fit Y\n",
            "[0.4GB(+0.0GB): 2.433sec] fit F\n"
          ],
          "name": "stderr"
        },
        {
          "output_type": "stream",
          "text": [
            "fold 2: mean position error 7.331993744401844\n"
          ],
          "name": "stdout"
        },
        {
          "output_type": "stream",
          "text": [
            "[0.4GB(+0.0GB): 1.436sec] fit X\n",
            "[0.4GB(+0.0GB): 1.263sec] fit Y\n",
            "[0.4GB(+0.0GB): 3.917sec] fit F\n"
          ],
          "name": "stderr"
        },
        {
          "output_type": "stream",
          "text": [
            "fold 3: mean position error 7.1900582965976145\n"
          ],
          "name": "stdout"
        },
        {
          "output_type": "stream",
          "text": [
            "[0.4GB(+0.0GB): 2.342sec] fit X\n",
            "[0.4GB(+0.0GB): 1.801sec] fit Y\n",
            "[0.4GB(+0.0GB): 1.372sec] fit F\n"
          ],
          "name": "stderr"
        },
        {
          "output_type": "stream",
          "text": [
            "fold 4: mean position error 7.505495673327967\n"
          ],
          "name": "stdout"
        },
        {
          "output_type": "stream",
          "text": [
            "[0.4GB(+0.0GB): 2.451sec] fit X\n",
            "[0.4GB(+0.0GB): 1.887sec] fit Y\n",
            "[0.4GB(+0.0GB): 5.591sec] fit F\n"
          ],
          "name": "stderr"
        },
        {
          "output_type": "stream",
          "text": [
            "fold 5: mean position error 7.698771973795396\n"
          ],
          "name": "stdout"
        },
        {
          "output_type": "stream",
          "text": [
            "[0.4GB(+0.0GB): 2.676sec] fit X\n",
            "[0.4GB(+0.0GB): 2.164sec] fit Y\n",
            "[0.4GB(+0.0GB): 3.967sec] fit F\n"
          ],
          "name": "stderr"
        },
        {
          "output_type": "stream",
          "text": [
            "fold 6: mean position error 7.569038568289612\n"
          ],
          "name": "stdout"
        },
        {
          "output_type": "stream",
          "text": [
            "[0.4GB(+0.0GB): 5.305sec] fit X\n",
            "[0.4GB(+0.0GB): 2.753sec] fit Y\n",
            "[0.4GB(+0.0GB): 3.672sec] fit F\n"
          ],
          "name": "stderr"
        },
        {
          "output_type": "stream",
          "text": [
            "fold 7: mean position error 7.3601620797928495\n"
          ],
          "name": "stdout"
        },
        {
          "output_type": "stream",
          "text": [
            "[0.4GB(+0.0GB): 4.283sec] fit X\n",
            "[0.4GB(+0.0GB): 2.929sec] fit Y\n",
            "[0.4GB(+0.0GB): 3.560sec] fit F\n"
          ],
          "name": "stderr"
        },
        {
          "output_type": "stream",
          "text": [
            "fold 8: mean position error 7.643087938262221\n"
          ],
          "name": "stdout"
        },
        {
          "output_type": "stream",
          "text": [
            "[0.4GB(+0.0GB): 2.270sec] fit X\n",
            "[0.4GB(+0.0GB): 2.360sec] fit Y\n",
            "[0.4GB(+0.0GB): 2.805sec] fit F\n"
          ],
          "name": "stderr"
        },
        {
          "output_type": "stream",
          "text": [
            "fold 9: mean position error 7.151744068118737\n",
            "*+*+*+*+*+*+*+*+*+*+*+*+*+*+*+*+*+*+*+*+*+*+*+*+*+*+*+*+*+*+*+*+*+*+*+*+*+*+*+*+\n",
            "file #4, shape=(1713, 87), name=5cd56b5ae2acfd2d33b5854a_train.csv\n",
            "mean position error 7.411315251121617\n",
            "*+*+*+*+*+*+*+*+*+*+*+*+*+*+*+*+*+*+*+*+*+*+*+*+*+*+*+*+*+*+*+*+*+*+*+*+*+*+*+*+\n",
            "Starting to train:  5cd56b6ae2acfd2d33b59c90_train.csv\n"
          ],
          "name": "stdout"
        },
        {
          "output_type": "stream",
          "text": [
            "[0.4GB(+0.0GB): 1.421sec] fit X\n",
            "[0.4GB(+0.0GB): 1.193sec] fit Y\n",
            "[0.4GB(+0.0GB): 4.238sec] fit F\n"
          ],
          "name": "stderr"
        },
        {
          "output_type": "stream",
          "text": [
            "fold 0: mean position error 3.316195689934338\n"
          ],
          "name": "stdout"
        },
        {
          "output_type": "stream",
          "text": [
            "[0.4GB(+0.0GB): 1.010sec] fit X\n",
            "[0.4GB(+0.0GB): 0.884sec] fit Y\n",
            "[0.4GB(+0.0GB): 4.084sec] fit F\n"
          ],
          "name": "stderr"
        },
        {
          "output_type": "stream",
          "text": [
            "fold 1: mean position error 2.852413754636619\n"
          ],
          "name": "stdout"
        },
        {
          "output_type": "stream",
          "text": [
            "[0.4GB(+0.0GB): 1.262sec] fit X\n",
            "[0.4GB(+0.0GB): 2.276sec] fit Y\n",
            "[0.4GB(+0.0GB): 3.112sec] fit F\n"
          ],
          "name": "stderr"
        },
        {
          "output_type": "stream",
          "text": [
            "fold 2: mean position error 3.140617052049769\n"
          ],
          "name": "stdout"
        },
        {
          "output_type": "stream",
          "text": [
            "[0.4GB(+0.0GB): 2.037sec] fit X\n",
            "[0.4GB(+0.0GB): 1.431sec] fit Y\n",
            "[0.4GB(+0.0GB): 3.074sec] fit F\n"
          ],
          "name": "stderr"
        },
        {
          "output_type": "stream",
          "text": [
            "fold 3: mean position error 2.58195036559732\n"
          ],
          "name": "stdout"
        },
        {
          "output_type": "stream",
          "text": [
            "[0.4GB(+0.0GB): 0.624sec] fit X\n",
            "[0.4GB(+0.0GB): 1.805sec] fit Y\n",
            "[0.4GB(+0.0GB): 2.958sec] fit F\n"
          ],
          "name": "stderr"
        },
        {
          "output_type": "stream",
          "text": [
            "fold 4: mean position error 2.977690063837353\n"
          ],
          "name": "stdout"
        },
        {
          "output_type": "stream",
          "text": [
            "[0.4GB(+0.0GB): 1.885sec] fit X\n",
            "[0.4GB(+0.0GB): 1.769sec] fit Y\n",
            "[0.4GB(+0.0GB): 3.024sec] fit F\n"
          ],
          "name": "stderr"
        },
        {
          "output_type": "stream",
          "text": [
            "fold 5: mean position error 2.7638195289974994\n"
          ],
          "name": "stdout"
        },
        {
          "output_type": "stream",
          "text": [
            "[0.4GB(+0.0GB): 1.191sec] fit X\n",
            "[0.4GB(+0.0GB): 1.753sec] fit Y\n",
            "[0.4GB(+0.0GB): 3.031sec] fit F\n"
          ],
          "name": "stderr"
        },
        {
          "output_type": "stream",
          "text": [
            "fold 6: mean position error 2.4242455689954747\n"
          ],
          "name": "stdout"
        },
        {
          "output_type": "stream",
          "text": [
            "[0.4GB(+0.0GB): 1.381sec] fit X\n",
            "[0.4GB(+0.0GB): 1.205sec] fit Y\n",
            "[0.4GB(+0.0GB): 3.805sec] fit F\n"
          ],
          "name": "stderr"
        },
        {
          "output_type": "stream",
          "text": [
            "fold 7: mean position error 2.852966589387196\n"
          ],
          "name": "stdout"
        },
        {
          "output_type": "stream",
          "text": [
            "[0.4GB(+0.0GB): 0.902sec] fit X\n",
            "[0.4GB(+0.0GB): 1.032sec] fit Y\n",
            "[0.4GB(+0.0GB): 4.535sec] fit F\n"
          ],
          "name": "stderr"
        },
        {
          "output_type": "stream",
          "text": [
            "fold 8: mean position error 2.929236350105812\n"
          ],
          "name": "stdout"
        },
        {
          "output_type": "stream",
          "text": [
            "[0.4GB(+0.0GB): 1.510sec] fit X\n",
            "[0.4GB(+0.0GB): 1.421sec] fit Y\n",
            "[0.4GB(+0.0GB): 4.385sec] fit F\n"
          ],
          "name": "stderr"
        },
        {
          "output_type": "stream",
          "text": [
            "fold 9: mean position error 2.6077652844458754\n",
            "*+*+*+*+*+*+*+*+*+*+*+*+*+*+*+*+*+*+*+*+*+*+*+*+*+*+*+*+*+*+*+*+*+*+*+*+*+*+*+*+\n",
            "file #5, shape=(1118, 40), name=5cd56b6ae2acfd2d33b59c90_train.csv\n",
            "mean position error 2.8448263203399113\n",
            "*+*+*+*+*+*+*+*+*+*+*+*+*+*+*+*+*+*+*+*+*+*+*+*+*+*+*+*+*+*+*+*+*+*+*+*+*+*+*+*+\n",
            "Starting to train:  5cd56b6ae2acfd2d33b59ccb_train.csv\n"
          ],
          "name": "stdout"
        },
        {
          "output_type": "stream",
          "text": [
            "[2.1GB(+0.3GB): 42.180sec] fit X\n",
            "[2.3GB(+0.1GB): 79.557sec] fit Y\n",
            "[2.3GB(+0.0GB): 40.099sec] fit F\n"
          ],
          "name": "stderr"
        },
        {
          "output_type": "stream",
          "text": [
            "fold 0: mean position error 4.411832011041342\n"
          ],
          "name": "stdout"
        },
        {
          "output_type": "stream",
          "text": [
            "[2.7GB(+0.2GB): 43.183sec] fit X\n",
            "[2.8GB(+0.1GB): 74.895sec] fit Y\n",
            "[2.8GB(+0.0GB): 155.300sec] fit F\n"
          ],
          "name": "stderr"
        },
        {
          "output_type": "stream",
          "text": [
            "fold 1: mean position error 4.888520197233277\n"
          ],
          "name": "stdout"
        },
        {
          "output_type": "stream",
          "text": [
            "[2.8GB(+0.0GB): 37.228sec] fit X\n",
            "[2.8GB(+0.0GB): 35.326sec] fit Y\n",
            "[2.8GB(+0.0GB): 89.161sec] fit F\n"
          ],
          "name": "stderr"
        },
        {
          "output_type": "stream",
          "text": [
            "fold 2: mean position error 4.770491551702055\n"
          ],
          "name": "stdout"
        },
        {
          "output_type": "stream",
          "text": [
            "[2.8GB(+0.0GB): 36.475sec] fit X\n",
            "[2.8GB(+0.0GB): 42.607sec] fit Y\n",
            "[2.8GB(+0.0GB): 115.675sec] fit F\n"
          ],
          "name": "stderr"
        },
        {
          "output_type": "stream",
          "text": [
            "fold 3: mean position error 5.10004159939164\n"
          ],
          "name": "stdout"
        },
        {
          "output_type": "stream",
          "text": [
            "[2.8GB(+0.0GB): 27.383sec] fit X\n",
            "[2.8GB(+0.0GB): 51.878sec] fit Y\n",
            "[2.8GB(+0.0GB): 90.464sec] fit F\n"
          ],
          "name": "stderr"
        },
        {
          "output_type": "stream",
          "text": [
            "fold 4: mean position error 5.214771297841266\n"
          ],
          "name": "stdout"
        },
        {
          "output_type": "stream",
          "text": [
            "[2.8GB(+0.0GB): 29.093sec] fit X\n",
            "[2.8GB(+0.0GB): 23.810sec] fit Y\n",
            "[2.8GB(+0.0GB): 115.188sec] fit F\n"
          ],
          "name": "stderr"
        },
        {
          "output_type": "stream",
          "text": [
            "fold 5: mean position error 5.339111752478709\n"
          ],
          "name": "stdout"
        },
        {
          "output_type": "stream",
          "text": [
            "[2.8GB(+0.0GB): 31.481sec] fit X\n",
            "[2.8GB(+0.0GB): 55.982sec] fit Y\n",
            "[2.8GB(+0.0GB): 92.788sec] fit F\n"
          ],
          "name": "stderr"
        },
        {
          "output_type": "stream",
          "text": [
            "fold 6: mean position error 5.150980392350677\n"
          ],
          "name": "stdout"
        },
        {
          "output_type": "stream",
          "text": [
            "[2.8GB(+0.0GB): 36.367sec] fit X\n",
            "[2.8GB(+0.0GB): 56.987sec] fit Y\n",
            "[2.8GB(+0.0GB): 46.584sec] fit F\n"
          ],
          "name": "stderr"
        },
        {
          "output_type": "stream",
          "text": [
            "fold 7: mean position error 4.821420056329738\n"
          ],
          "name": "stdout"
        },
        {
          "output_type": "stream",
          "text": [
            "[2.8GB(+0.0GB): 63.399sec] fit X\n",
            "[2.8GB(+0.0GB): 36.470sec] fit Y\n",
            "[2.8GB(+0.0GB): 186.324sec] fit F\n"
          ],
          "name": "stderr"
        },
        {
          "output_type": "stream",
          "text": [
            "fold 8: mean position error 4.916947331461102\n"
          ],
          "name": "stdout"
        },
        {
          "output_type": "stream",
          "text": [
            "[2.8GB(+0.0GB): 45.327sec] fit X\n",
            "[2.8GB(+0.0GB): 54.502sec] fit Y\n",
            "[2.8GB(+0.0GB): 53.310sec] fit F\n"
          ],
          "name": "stderr"
        },
        {
          "output_type": "stream",
          "text": [
            "fold 9: mean position error 4.738014461352439\n",
            "*+*+*+*+*+*+*+*+*+*+*+*+*+*+*+*+*+*+*+*+*+*+*+*+*+*+*+*+*+*+*+*+*+*+*+*+*+*+*+*+\n",
            "file #6, shape=(20805, 1856), name=5cd56b6ae2acfd2d33b59ccb_train.csv\n",
            "mean position error 4.935199106518446\n",
            "*+*+*+*+*+*+*+*+*+*+*+*+*+*+*+*+*+*+*+*+*+*+*+*+*+*+*+*+*+*+*+*+*+*+*+*+*+*+*+*+\n",
            "Starting to train:  5cd56b6ae2acfd2d33b59ccc_train.csv\n"
          ],
          "name": "stdout"
        },
        {
          "output_type": "stream",
          "text": [
            "[2.8GB(+0.0GB): 4.805sec] fit X\n",
            "[2.8GB(+0.0GB): 4.875sec] fit Y\n",
            "[2.8GB(+0.0GB): 25.636sec] fit F\n"
          ],
          "name": "stderr"
        },
        {
          "output_type": "stream",
          "text": [
            "fold 0: mean position error 3.8471204855066445\n"
          ],
          "name": "stdout"
        },
        {
          "output_type": "stream",
          "text": [
            "[2.8GB(+0.0GB): 5.202sec] fit X\n",
            "[2.8GB(+0.0GB): 6.045sec] fit Y\n",
            "[2.8GB(+0.0GB): 30.696sec] fit F\n"
          ],
          "name": "stderr"
        },
        {
          "output_type": "stream",
          "text": [
            "fold 1: mean position error 3.8618349727365144\n"
          ],
          "name": "stdout"
        },
        {
          "output_type": "stream",
          "text": [
            "[2.8GB(+0.0GB): 4.902sec] fit X\n",
            "[2.8GB(+0.0GB): 6.074sec] fit Y\n",
            "[2.8GB(+0.0GB): 29.331sec] fit F\n"
          ],
          "name": "stderr"
        },
        {
          "output_type": "stream",
          "text": [
            "fold 2: mean position error 3.856472322753575\n"
          ],
          "name": "stdout"
        },
        {
          "output_type": "stream",
          "text": [
            "[2.8GB(+0.0GB): 4.936sec] fit X\n",
            "[2.8GB(+0.0GB): 6.241sec] fit Y\n",
            "[2.8GB(+0.0GB): 12.351sec] fit F\n"
          ],
          "name": "stderr"
        },
        {
          "output_type": "stream",
          "text": [
            "fold 3: mean position error 3.433031281478953\n"
          ],
          "name": "stdout"
        },
        {
          "output_type": "stream",
          "text": [
            "[2.8GB(+0.0GB): 6.748sec] fit X\n",
            "[2.8GB(+0.0GB): 3.890sec] fit Y\n",
            "[2.8GB(+0.0GB): 31.115sec] fit F\n"
          ],
          "name": "stderr"
        },
        {
          "output_type": "stream",
          "text": [
            "fold 4: mean position error 3.4894729100093143\n"
          ],
          "name": "stdout"
        },
        {
          "output_type": "stream",
          "text": [
            "[2.8GB(+0.0GB): 5.079sec] fit X\n",
            "[2.8GB(+0.0GB): 5.230sec] fit Y\n",
            "[2.8GB(+0.0GB): 12.843sec] fit F\n"
          ],
          "name": "stderr"
        },
        {
          "output_type": "stream",
          "text": [
            "fold 5: mean position error 3.421491034328223\n"
          ],
          "name": "stdout"
        },
        {
          "output_type": "stream",
          "text": [
            "[2.8GB(+0.0GB): 6.547sec] fit X\n",
            "[2.8GB(+0.0GB): 7.017sec] fit Y\n",
            "[2.8GB(+0.0GB): 14.192sec] fit F\n"
          ],
          "name": "stderr"
        },
        {
          "output_type": "stream",
          "text": [
            "fold 6: mean position error 3.483272662772904\n"
          ],
          "name": "stdout"
        },
        {
          "output_type": "stream",
          "text": [
            "[2.8GB(+0.0GB): 7.829sec] fit X\n",
            "[2.8GB(+0.0GB): 10.122sec] fit Y\n",
            "[2.8GB(+0.0GB): 16.996sec] fit F\n"
          ],
          "name": "stderr"
        },
        {
          "output_type": "stream",
          "text": [
            "fold 7: mean position error 3.654528641522699\n"
          ],
          "name": "stdout"
        },
        {
          "output_type": "stream",
          "text": [
            "[2.8GB(+0.0GB): 7.157sec] fit X\n",
            "[2.8GB(+0.0GB): 5.825sec] fit Y\n",
            "[2.8GB(+0.0GB): 18.876sec] fit F\n"
          ],
          "name": "stderr"
        },
        {
          "output_type": "stream",
          "text": [
            "fold 8: mean position error 3.8196181840501606\n"
          ],
          "name": "stdout"
        },
        {
          "output_type": "stream",
          "text": [
            "[2.8GB(+0.0GB): 5.296sec] fit X\n",
            "[2.8GB(+0.0GB): 5.220sec] fit Y\n",
            "[2.8GB(+0.0GB): 36.948sec] fit F\n"
          ],
          "name": "stderr"
        },
        {
          "output_type": "stream",
          "text": [
            "fold 9: mean position error 3.9086591452075887\n",
            "*+*+*+*+*+*+*+*+*+*+*+*+*+*+*+*+*+*+*+*+*+*+*+*+*+*+*+*+*+*+*+*+*+*+*+*+*+*+*+*+\n",
            "file #7, shape=(4179, 401), name=5cd56b6ae2acfd2d33b59ccc_train.csv\n",
            "mean position error 3.677494861576459\n",
            "*+*+*+*+*+*+*+*+*+*+*+*+*+*+*+*+*+*+*+*+*+*+*+*+*+*+*+*+*+*+*+*+*+*+*+*+*+*+*+*+\n",
            "Starting to train:  5cd56b6be2acfd2d33b59d1f_train.csv\n"
          ],
          "name": "stdout"
        },
        {
          "output_type": "stream",
          "text": [
            "[2.8GB(+0.0GB): 4.072sec] fit X\n",
            "[2.8GB(+0.0GB): 0.115sec] fit Y\n",
            "[2.8GB(+0.0GB): 3.795sec] fit F\n",
            "[2.8GB(+0.0GB): 0.119sec] fit X\n"
          ],
          "name": "stderr"
        },
        {
          "output_type": "stream",
          "text": [
            "fold 0: mean position error 38.045852840017616\n"
          ],
          "name": "stdout"
        },
        {
          "output_type": "stream",
          "text": [
            "[2.8GB(+0.0GB): 0.121sec] fit Y\n",
            "[2.8GB(+0.0GB): 0.115sec] fit F\n"
          ],
          "name": "stderr"
        },
        {
          "output_type": "stream",
          "text": [
            "fold 1: mean position error 37.97225619183562\n"
          ],
          "name": "stdout"
        },
        {
          "output_type": "stream",
          "text": [
            "[2.8GB(+0.0GB): 0.118sec] fit X\n",
            "[2.8GB(+0.0GB): 0.124sec] fit Y\n",
            "[2.8GB(+0.0GB): 0.123sec] fit F\n",
            "[2.8GB(+0.0GB): 0.118sec] fit X\n"
          ],
          "name": "stderr"
        },
        {
          "output_type": "stream",
          "text": [
            "fold 2: mean position error 39.752789770834276\n"
          ],
          "name": "stdout"
        },
        {
          "output_type": "stream",
          "text": [
            "[2.8GB(+0.0GB): 0.122sec] fit Y\n",
            "[2.8GB(+0.0GB): 0.115sec] fit F\n"
          ],
          "name": "stderr"
        },
        {
          "output_type": "stream",
          "text": [
            "fold 3: mean position error 40.62378794408838\n"
          ],
          "name": "stdout"
        },
        {
          "output_type": "stream",
          "text": [
            "[2.8GB(+0.0GB): 0.118sec] fit X\n",
            "[2.8GB(+0.0GB): 0.130sec] fit Y\n",
            "[2.8GB(+0.0GB): 0.120sec] fit F\n",
            "[2.8GB(+0.0GB): 0.121sec] fit X\n"
          ],
          "name": "stderr"
        },
        {
          "output_type": "stream",
          "text": [
            "fold 4: mean position error 40.77586859728075\n"
          ],
          "name": "stdout"
        },
        {
          "output_type": "stream",
          "text": [
            "[2.8GB(+0.0GB): 0.121sec] fit Y\n",
            "[2.8GB(+0.0GB): 0.116sec] fit F\n"
          ],
          "name": "stderr"
        },
        {
          "output_type": "stream",
          "text": [
            "fold 5: mean position error 40.174672380100446\n"
          ],
          "name": "stdout"
        },
        {
          "output_type": "stream",
          "text": [
            "[2.8GB(+0.0GB): 0.119sec] fit X\n",
            "[2.8GB(+0.0GB): 0.121sec] fit Y\n",
            "[2.8GB(+0.0GB): 0.120sec] fit F\n",
            "[2.8GB(+0.0GB): 0.122sec] fit X\n"
          ],
          "name": "stderr"
        },
        {
          "output_type": "stream",
          "text": [
            "fold 6: mean position error 40.597795031825626\n"
          ],
          "name": "stdout"
        },
        {
          "output_type": "stream",
          "text": [
            "[2.8GB(+0.0GB): 0.118sec] fit Y\n",
            "[2.8GB(+0.0GB): 0.120sec] fit F\n"
          ],
          "name": "stderr"
        },
        {
          "output_type": "stream",
          "text": [
            "fold 7: mean position error 44.055879056357945\n"
          ],
          "name": "stdout"
        },
        {
          "output_type": "stream",
          "text": [
            "[2.8GB(+0.0GB): 0.122sec] fit X\n",
            "[2.8GB(+0.0GB): 0.120sec] fit Y\n",
            "[2.8GB(+0.0GB): 0.123sec] fit F\n",
            "[2.8GB(+0.0GB): 0.123sec] fit X\n"
          ],
          "name": "stderr"
        },
        {
          "output_type": "stream",
          "text": [
            "fold 8: mean position error 40.3777749872444\n"
          ],
          "name": "stdout"
        },
        {
          "output_type": "stream",
          "text": [
            "[2.8GB(+0.0GB): 0.120sec] fit Y\n",
            "[2.8GB(+0.0GB): 0.116sec] fit F\n"
          ],
          "name": "stderr"
        },
        {
          "output_type": "stream",
          "text": [
            "fold 9: mean position error 38.776556847863496\n",
            "*+*+*+*+*+*+*+*+*+*+*+*+*+*+*+*+*+*+*+*+*+*+*+*+*+*+*+*+*+*+*+*+*+*+*+*+*+*+*+*+\n",
            "file #8, shape=(676, 5), name=5cd56b6be2acfd2d33b59d1f_train.csv\n",
            "mean position error 40.11037260666155\n",
            "*+*+*+*+*+*+*+*+*+*+*+*+*+*+*+*+*+*+*+*+*+*+*+*+*+*+*+*+*+*+*+*+*+*+*+*+*+*+*+*+\n",
            "Starting to train:  5cd56b6ee2acfd2d33b5a247_train.csv\n"
          ],
          "name": "stdout"
        },
        {
          "output_type": "stream",
          "text": [
            "[2.8GB(+0.0GB): 3.118sec] fit X\n",
            "[2.8GB(+0.0GB): 0.797sec] fit Y\n",
            "[2.8GB(+0.0GB): 5.125sec] fit F\n"
          ],
          "name": "stderr"
        },
        {
          "output_type": "stream",
          "text": [
            "fold 0: mean position error 4.7286010781957355\n"
          ],
          "name": "stdout"
        },
        {
          "output_type": "stream",
          "text": [
            "[2.8GB(+0.0GB): 1.795sec] fit X\n",
            "[2.8GB(+0.0GB): 1.308sec] fit Y\n",
            "[2.8GB(+0.0GB): 2.426sec] fit F\n"
          ],
          "name": "stderr"
        },
        {
          "output_type": "stream",
          "text": [
            "fold 1: mean position error 4.212162420248618\n"
          ],
          "name": "stdout"
        },
        {
          "output_type": "stream",
          "text": [
            "[2.8GB(+0.0GB): 1.476sec] fit X\n",
            "[2.8GB(+0.0GB): 0.910sec] fit Y\n",
            "[2.8GB(+0.0GB): 2.669sec] fit F\n"
          ],
          "name": "stderr"
        },
        {
          "output_type": "stream",
          "text": [
            "fold 2: mean position error 4.23675627837497\n"
          ],
          "name": "stdout"
        },
        {
          "output_type": "stream",
          "text": [
            "[2.8GB(+0.0GB): 1.965sec] fit X\n",
            "[2.8GB(+0.0GB): 1.214sec] fit Y\n",
            "[2.8GB(+0.0GB): 5.248sec] fit F\n"
          ],
          "name": "stderr"
        },
        {
          "output_type": "stream",
          "text": [
            "fold 3: mean position error 4.648664390670289\n"
          ],
          "name": "stdout"
        },
        {
          "output_type": "stream",
          "text": [
            "[2.8GB(+0.0GB): 1.595sec] fit X\n",
            "[2.8GB(+0.0GB): 1.179sec] fit Y\n",
            "[2.8GB(+0.0GB): 3.805sec] fit F\n"
          ],
          "name": "stderr"
        },
        {
          "output_type": "stream",
          "text": [
            "fold 4: mean position error 4.78275946485353\n"
          ],
          "name": "stdout"
        },
        {
          "output_type": "stream",
          "text": [
            "[2.8GB(+0.0GB): 1.921sec] fit X\n",
            "[2.8GB(+0.0GB): 1.081sec] fit Y\n",
            "[2.8GB(+0.0GB): 2.734sec] fit F\n"
          ],
          "name": "stderr"
        },
        {
          "output_type": "stream",
          "text": [
            "fold 5: mean position error 5.080461713078203\n"
          ],
          "name": "stdout"
        },
        {
          "output_type": "stream",
          "text": [
            "[2.8GB(+0.0GB): 1.448sec] fit X\n",
            "[2.8GB(+0.0GB): 1.283sec] fit Y\n",
            "[2.8GB(+0.0GB): 5.592sec] fit F\n"
          ],
          "name": "stderr"
        },
        {
          "output_type": "stream",
          "text": [
            "fold 6: mean position error 4.444425845278702\n"
          ],
          "name": "stdout"
        },
        {
          "output_type": "stream",
          "text": [
            "[2.8GB(+0.0GB): 2.218sec] fit X\n",
            "[2.8GB(+0.0GB): 2.122sec] fit Y\n",
            "[2.8GB(+0.0GB): 6.678sec] fit F\n"
          ],
          "name": "stderr"
        },
        {
          "output_type": "stream",
          "text": [
            "fold 7: mean position error 3.7397778352552797\n"
          ],
          "name": "stdout"
        },
        {
          "output_type": "stream",
          "text": [
            "[2.8GB(+0.0GB): 1.614sec] fit X\n",
            "[2.8GB(+0.0GB): 1.786sec] fit Y\n",
            "[2.8GB(+0.0GB): 1.517sec] fit F\n"
          ],
          "name": "stderr"
        },
        {
          "output_type": "stream",
          "text": [
            "fold 8: mean position error 4.557493490964964\n"
          ],
          "name": "stdout"
        },
        {
          "output_type": "stream",
          "text": [
            "[2.8GB(+0.0GB): 2.104sec] fit X\n",
            "[2.8GB(+0.0GB): 1.276sec] fit Y\n",
            "[2.8GB(+0.0GB): 3.937sec] fit F\n"
          ],
          "name": "stderr"
        },
        {
          "output_type": "stream",
          "text": [
            "fold 9: mean position error 4.208037043514725\n",
            "*+*+*+*+*+*+*+*+*+*+*+*+*+*+*+*+*+*+*+*+*+*+*+*+*+*+*+*+*+*+*+*+*+*+*+*+*+*+*+*+\n",
            "file #9, shape=(1245, 23), name=5cd56b6ee2acfd2d33b5a247_train.csv\n",
            "mean position error 4.46414638484039\n",
            "*+*+*+*+*+*+*+*+*+*+*+*+*+*+*+*+*+*+*+*+*+*+*+*+*+*+*+*+*+*+*+*+*+*+*+*+*+*+*+*+\n",
            "Starting to train:  5cd56b6fe2acfd2d33b5a386_train.csv\n"
          ],
          "name": "stdout"
        },
        {
          "output_type": "stream",
          "text": [
            "[2.8GB(+0.0GB): 2.408sec] fit X\n",
            "[2.8GB(+0.0GB): 2.130sec] fit Y\n",
            "[2.8GB(+0.0GB): 2.348sec] fit F\n"
          ],
          "name": "stderr"
        },
        {
          "output_type": "stream",
          "text": [
            "fold 0: mean position error 2.9249837059214236\n"
          ],
          "name": "stdout"
        },
        {
          "output_type": "stream",
          "text": [
            "[2.8GB(+0.0GB): 5.570sec] fit X\n",
            "[2.8GB(+0.0GB): 3.394sec] fit Y\n",
            "[2.8GB(+0.0GB): 3.724sec] fit F\n"
          ],
          "name": "stderr"
        },
        {
          "output_type": "stream",
          "text": [
            "fold 1: mean position error 2.18601607321734\n"
          ],
          "name": "stdout"
        },
        {
          "output_type": "stream",
          "text": [
            "[2.8GB(+0.0GB): 2.264sec] fit X\n",
            "[2.8GB(+0.0GB): 2.241sec] fit Y\n",
            "[2.8GB(+0.0GB): 2.251sec] fit F\n"
          ],
          "name": "stderr"
        },
        {
          "output_type": "stream",
          "text": [
            "fold 2: mean position error 2.5582788476970686\n"
          ],
          "name": "stdout"
        },
        {
          "output_type": "stream",
          "text": [
            "[2.8GB(+0.0GB): 4.021sec] fit X\n",
            "[2.8GB(+0.0GB): 4.613sec] fit Y\n",
            "[2.8GB(+0.0GB): 3.435sec] fit F\n"
          ],
          "name": "stderr"
        },
        {
          "output_type": "stream",
          "text": [
            "fold 3: mean position error 2.3492236905971593\n"
          ],
          "name": "stdout"
        },
        {
          "output_type": "stream",
          "text": [
            "[2.8GB(+0.0GB): 2.459sec] fit X\n",
            "[2.8GB(+0.0GB): 3.161sec] fit Y\n",
            "[2.8GB(+0.0GB): 3.718sec] fit F\n"
          ],
          "name": "stderr"
        },
        {
          "output_type": "stream",
          "text": [
            "fold 4: mean position error 2.8183492760076336\n"
          ],
          "name": "stdout"
        },
        {
          "output_type": "stream",
          "text": [
            "[2.8GB(+0.0GB): 4.335sec] fit X\n",
            "[2.8GB(+0.0GB): 3.703sec] fit Y\n",
            "[2.8GB(+0.0GB): 1.182sec] fit F\n"
          ],
          "name": "stderr"
        },
        {
          "output_type": "stream",
          "text": [
            "fold 5: mean position error 2.1985462208699365\n"
          ],
          "name": "stdout"
        },
        {
          "output_type": "stream",
          "text": [
            "[2.8GB(+0.0GB): 3.103sec] fit X\n",
            "[2.8GB(+0.0GB): 3.437sec] fit Y\n",
            "[2.8GB(+0.0GB): 2.194sec] fit F\n"
          ],
          "name": "stderr"
        },
        {
          "output_type": "stream",
          "text": [
            "fold 6: mean position error 2.414629722129116\n"
          ],
          "name": "stdout"
        },
        {
          "output_type": "stream",
          "text": [
            "[2.8GB(+0.0GB): 2.713sec] fit X\n",
            "[2.8GB(+0.0GB): 4.973sec] fit Y\n",
            "[2.8GB(+0.0GB): 2.084sec] fit F\n"
          ],
          "name": "stderr"
        },
        {
          "output_type": "stream",
          "text": [
            "fold 7: mean position error 2.592918970943451\n"
          ],
          "name": "stdout"
        },
        {
          "output_type": "stream",
          "text": [
            "[2.8GB(+0.0GB): 3.274sec] fit X\n",
            "[2.8GB(+0.0GB): 4.700sec] fit Y\n",
            "[2.8GB(+0.0GB): 3.754sec] fit F\n"
          ],
          "name": "stderr"
        },
        {
          "output_type": "stream",
          "text": [
            "fold 8: mean position error 2.6197644750636124\n"
          ],
          "name": "stdout"
        },
        {
          "output_type": "stream",
          "text": [
            "[2.8GB(+0.0GB): 2.278sec] fit X\n",
            "[2.8GB(+0.0GB): 3.469sec] fit Y\n",
            "[2.8GB(+0.0GB): 3.670sec] fit F\n"
          ],
          "name": "stderr"
        },
        {
          "output_type": "stream",
          "text": [
            "fold 9: mean position error 2.459152781923255\n",
            "*+*+*+*+*+*+*+*+*+*+*+*+*+*+*+*+*+*+*+*+*+*+*+*+*+*+*+*+*+*+*+*+*+*+*+*+*+*+*+*+\n",
            "file #10, shape=(2599, 111), name=5cd56b6fe2acfd2d33b5a386_train.csv\n",
            "mean position error 2.512206781821576\n",
            "*+*+*+*+*+*+*+*+*+*+*+*+*+*+*+*+*+*+*+*+*+*+*+*+*+*+*+*+*+*+*+*+*+*+*+*+*+*+*+*+\n",
            "Starting to train:  5cd56b7de2acfd2d33b5c14b_train.csv\n"
          ],
          "name": "stdout"
        },
        {
          "output_type": "stream",
          "text": [
            "[2.8GB(+0.0GB): 1.315sec] fit X\n",
            "[2.8GB(+0.0GB): 1.408sec] fit Y\n",
            "[2.8GB(+0.0GB): 2.009sec] fit F\n"
          ],
          "name": "stderr"
        },
        {
          "output_type": "stream",
          "text": [
            "fold 0: mean position error 2.506666615267149\n"
          ],
          "name": "stdout"
        },
        {
          "output_type": "stream",
          "text": [
            "[2.8GB(+0.0GB): 1.044sec] fit X\n",
            "[2.8GB(+0.0GB): 1.649sec] fit Y\n",
            "[2.8GB(+0.0GB): 1.732sec] fit F\n"
          ],
          "name": "stderr"
        },
        {
          "output_type": "stream",
          "text": [
            "fold 1: mean position error 2.6319802591752484\n"
          ],
          "name": "stdout"
        },
        {
          "output_type": "stream",
          "text": [
            "[2.8GB(+0.0GB): 1.246sec] fit X\n",
            "[2.8GB(+0.0GB): 1.166sec] fit Y\n",
            "[2.8GB(+0.0GB): 2.701sec] fit F\n"
          ],
          "name": "stderr"
        },
        {
          "output_type": "stream",
          "text": [
            "fold 2: mean position error 2.663774159897111\n"
          ],
          "name": "stdout"
        },
        {
          "output_type": "stream",
          "text": [
            "[2.8GB(+0.0GB): 2.709sec] fit X\n",
            "[2.8GB(+0.0GB): 3.339sec] fit Y\n",
            "[2.8GB(+0.0GB): 2.445sec] fit F\n"
          ],
          "name": "stderr"
        },
        {
          "output_type": "stream",
          "text": [
            "fold 3: mean position error 2.062992657857563\n"
          ],
          "name": "stdout"
        },
        {
          "output_type": "stream",
          "text": [
            "[2.8GB(+0.0GB): 1.565sec] fit X\n",
            "[2.8GB(+0.0GB): 2.233sec] fit Y\n",
            "[2.8GB(+0.0GB): 1.764sec] fit F\n"
          ],
          "name": "stderr"
        },
        {
          "output_type": "stream",
          "text": [
            "fold 4: mean position error 2.3761760031533767\n"
          ],
          "name": "stdout"
        },
        {
          "output_type": "stream",
          "text": [
            "[2.8GB(+0.0GB): 1.441sec] fit X\n",
            "[2.8GB(+0.0GB): 1.407sec] fit Y\n",
            "[2.8GB(+0.0GB): 1.848sec] fit F\n"
          ],
          "name": "stderr"
        },
        {
          "output_type": "stream",
          "text": [
            "fold 5: mean position error 2.7330375023880893\n"
          ],
          "name": "stdout"
        },
        {
          "output_type": "stream",
          "text": [
            "[2.8GB(+0.0GB): 2.380sec] fit X\n",
            "[2.8GB(+0.0GB): 1.031sec] fit Y\n",
            "[2.8GB(+0.0GB): 2.652sec] fit F\n"
          ],
          "name": "stderr"
        },
        {
          "output_type": "stream",
          "text": [
            "fold 6: mean position error 2.544701622216528\n"
          ],
          "name": "stdout"
        },
        {
          "output_type": "stream",
          "text": [
            "[2.8GB(+0.0GB): 1.632sec] fit X\n",
            "[2.8GB(+0.0GB): 1.929sec] fit Y\n",
            "[2.8GB(+0.0GB): 1.555sec] fit F\n"
          ],
          "name": "stderr"
        },
        {
          "output_type": "stream",
          "text": [
            "fold 7: mean position error 2.5274479838955193\n"
          ],
          "name": "stdout"
        },
        {
          "output_type": "stream",
          "text": [
            "[2.8GB(+0.0GB): 1.262sec] fit X\n",
            "[2.8GB(+0.0GB): 1.762sec] fit Y\n",
            "[2.8GB(+0.0GB): 1.999sec] fit F\n"
          ],
          "name": "stderr"
        },
        {
          "output_type": "stream",
          "text": [
            "fold 8: mean position error 2.665540460444209\n"
          ],
          "name": "stdout"
        },
        {
          "output_type": "stream",
          "text": [
            "[2.8GB(+0.0GB): 0.694sec] fit X\n",
            "[2.8GB(+0.0GB): 0.996sec] fit Y\n",
            "[2.8GB(+0.0GB): 2.065sec] fit F\n"
          ],
          "name": "stderr"
        },
        {
          "output_type": "stream",
          "text": [
            "fold 9: mean position error 2.9778267117558843\n",
            "*+*+*+*+*+*+*+*+*+*+*+*+*+*+*+*+*+*+*+*+*+*+*+*+*+*+*+*+*+*+*+*+*+*+*+*+*+*+*+*+\n",
            "file #11, shape=(1113, 32), name=5cd56b7de2acfd2d33b5c14b_train.csv\n",
            "mean position error 2.569100091981999\n",
            "*+*+*+*+*+*+*+*+*+*+*+*+*+*+*+*+*+*+*+*+*+*+*+*+*+*+*+*+*+*+*+*+*+*+*+*+*+*+*+*+\n",
            "Starting to train:  5d27075f03f801723c2e360f_train.csv\n"
          ],
          "name": "stdout"
        },
        {
          "output_type": "stream",
          "text": [
            "[2.8GB(+0.0GB): 57.099sec] fit X\n",
            "[2.8GB(+0.0GB): 66.494sec] fit Y\n",
            "[2.8GB(+0.0GB): 174.079sec] fit F\n"
          ],
          "name": "stderr"
        },
        {
          "output_type": "stream",
          "text": [
            "fold 0: mean position error 4.46947000810334\n"
          ],
          "name": "stdout"
        },
        {
          "output_type": "stream",
          "text": [
            "[2.8GB(+0.0GB): 56.127sec] fit X\n",
            "[2.8GB(+0.0GB): 91.778sec] fit Y\n",
            "[2.8GB(+0.0GB): 79.126sec] fit F\n"
          ],
          "name": "stderr"
        },
        {
          "output_type": "stream",
          "text": [
            "fold 1: mean position error 4.37229103741793\n"
          ],
          "name": "stdout"
        },
        {
          "output_type": "stream",
          "text": [
            "[2.8GB(+0.0GB): 73.563sec] fit X\n",
            "[2.8GB(+0.0GB): 86.652sec] fit Y\n",
            "[2.8GB(+0.0GB): 87.959sec] fit F\n"
          ],
          "name": "stderr"
        },
        {
          "output_type": "stream",
          "text": [
            "fold 2: mean position error 4.262429144937829\n"
          ],
          "name": "stdout"
        },
        {
          "output_type": "stream",
          "text": [
            "[2.8GB(+0.0GB): 71.579sec] fit X\n",
            "[2.8GB(+0.0GB): 83.660sec] fit Y\n",
            "[2.8GB(+0.0GB): 79.341sec] fit F\n"
          ],
          "name": "stderr"
        },
        {
          "output_type": "stream",
          "text": [
            "fold 3: mean position error 4.336920897141543\n"
          ],
          "name": "stdout"
        },
        {
          "output_type": "stream",
          "text": [
            "[2.8GB(+0.0GB): 71.790sec] fit X\n",
            "[2.8GB(+0.0GB): 90.616sec] fit Y\n",
            "[2.8GB(+0.0GB): 74.725sec] fit F\n"
          ],
          "name": "stderr"
        },
        {
          "output_type": "stream",
          "text": [
            "fold 4: mean position error 4.2891782183637694\n"
          ],
          "name": "stdout"
        },
        {
          "output_type": "stream",
          "text": [
            "[2.8GB(+0.0GB): 75.433sec] fit X\n",
            "[2.8GB(+0.0GB): 79.926sec] fit Y\n",
            "[2.8GB(+0.0GB): 117.256sec] fit F\n"
          ],
          "name": "stderr"
        },
        {
          "output_type": "stream",
          "text": [
            "fold 5: mean position error 4.3636121003394255\n"
          ],
          "name": "stdout"
        },
        {
          "output_type": "stream",
          "text": [
            "[2.8GB(+0.0GB): 81.286sec] fit X\n",
            "[2.8GB(+0.0GB): 80.899sec] fit Y\n",
            "[2.8GB(+0.0GB): 139.041sec] fit F\n"
          ],
          "name": "stderr"
        },
        {
          "output_type": "stream",
          "text": [
            "fold 6: mean position error 4.4058995347266725\n"
          ],
          "name": "stdout"
        },
        {
          "output_type": "stream",
          "text": [
            "[2.8GB(+0.0GB): 76.895sec] fit X\n",
            "[2.8GB(+0.0GB): 81.789sec] fit Y\n",
            "[2.8GB(+0.0GB): 82.850sec] fit F\n"
          ],
          "name": "stderr"
        },
        {
          "output_type": "stream",
          "text": [
            "fold 7: mean position error 4.324472626225163\n"
          ],
          "name": "stdout"
        },
        {
          "output_type": "stream",
          "text": [
            "[2.8GB(+0.0GB): 74.913sec] fit X\n",
            "[2.8GB(+0.0GB): 114.989sec] fit Y\n",
            "[2.8GB(+0.0GB): 167.860sec] fit F\n"
          ],
          "name": "stderr"
        },
        {
          "output_type": "stream",
          "text": [
            "fold 8: mean position error 4.314850134875565\n"
          ],
          "name": "stdout"
        },
        {
          "output_type": "stream",
          "text": [
            "[2.8GB(+0.0GB): 52.840sec] fit X\n",
            "[2.8GB(+0.0GB): 81.812sec] fit Y\n",
            "[2.8GB(+0.0GB): 192.288sec] fit F\n"
          ],
          "name": "stderr"
        },
        {
          "output_type": "stream",
          "text": [
            "fold 9: mean position error 4.494140316350929\n",
            "*+*+*+*+*+*+*+*+*+*+*+*+*+*+*+*+*+*+*+*+*+*+*+*+*+*+*+*+*+*+*+*+*+*+*+*+*+*+*+*+\n",
            "file #12, shape=(17749, 2349), name=5d27075f03f801723c2e360f_train.csv\n",
            "mean position error 4.363319031634993\n",
            "*+*+*+*+*+*+*+*+*+*+*+*+*+*+*+*+*+*+*+*+*+*+*+*+*+*+*+*+*+*+*+*+*+*+*+*+*+*+*+*+\n",
            "Starting to train:  5d27096c03f801723c31e5e0_train.csv\n"
          ],
          "name": "stdout"
        },
        {
          "output_type": "stream",
          "text": [
            "[2.8GB(+0.0GB): 12.829sec] fit X\n",
            "[2.8GB(+0.0GB): 9.413sec] fit Y\n",
            "[2.8GB(+0.0GB): 14.428sec] fit F\n"
          ],
          "name": "stderr"
        },
        {
          "output_type": "stream",
          "text": [
            "fold 0: mean position error 2.703067195008655\n"
          ],
          "name": "stdout"
        },
        {
          "output_type": "stream",
          "text": [
            "[2.8GB(+0.0GB): 8.888sec] fit X\n",
            "[2.8GB(+0.0GB): 7.758sec] fit Y\n",
            "[2.8GB(+0.0GB): 13.901sec] fit F\n"
          ],
          "name": "stderr"
        },
        {
          "output_type": "stream",
          "text": [
            "fold 1: mean position error 2.704042577262434\n"
          ],
          "name": "stdout"
        },
        {
          "output_type": "stream",
          "text": [
            "[2.8GB(+0.0GB): 13.604sec] fit X\n",
            "[2.8GB(+0.0GB): 12.561sec] fit Y\n",
            "[2.8GB(+0.0GB): 10.721sec] fit F\n"
          ],
          "name": "stderr"
        },
        {
          "output_type": "stream",
          "text": [
            "fold 2: mean position error 2.5540216920625065\n"
          ],
          "name": "stdout"
        },
        {
          "output_type": "stream",
          "text": [
            "[2.8GB(+0.0GB): 9.470sec] fit X\n",
            "[2.8GB(+0.0GB): 7.857sec] fit Y\n",
            "[2.8GB(+0.0GB): 14.493sec] fit F\n"
          ],
          "name": "stderr"
        },
        {
          "output_type": "stream",
          "text": [
            "fold 3: mean position error 2.6714327631167607\n"
          ],
          "name": "stdout"
        },
        {
          "output_type": "stream",
          "text": [
            "[2.8GB(+0.0GB): 13.668sec] fit X\n",
            "[2.8GB(+0.0GB): 10.891sec] fit Y\n",
            "[2.8GB(+0.0GB): 11.121sec] fit F\n"
          ],
          "name": "stderr"
        },
        {
          "output_type": "stream",
          "text": [
            "fold 4: mean position error 2.6807597770347944\n"
          ],
          "name": "stdout"
        },
        {
          "output_type": "stream",
          "text": [
            "[2.8GB(+0.0GB): 16.334sec] fit X\n",
            "[2.8GB(+0.0GB): 7.543sec] fit Y\n",
            "[2.8GB(+0.0GB): 11.759sec] fit F\n"
          ],
          "name": "stderr"
        },
        {
          "output_type": "stream",
          "text": [
            "fold 5: mean position error 2.7960211971413957\n"
          ],
          "name": "stdout"
        },
        {
          "output_type": "stream",
          "text": [
            "[2.8GB(+0.0GB): 8.131sec] fit X\n",
            "[2.8GB(+0.0GB): 7.704sec] fit Y\n",
            "[2.8GB(+0.0GB): 11.500sec] fit F\n"
          ],
          "name": "stderr"
        },
        {
          "output_type": "stream",
          "text": [
            "fold 6: mean position error 2.846828997342124\n"
          ],
          "name": "stdout"
        },
        {
          "output_type": "stream",
          "text": [
            "[2.8GB(+0.0GB): 8.113sec] fit X\n",
            "[2.8GB(+0.0GB): 15.020sec] fit Y\n",
            "[2.8GB(+0.0GB): 11.259sec] fit F\n"
          ],
          "name": "stderr"
        },
        {
          "output_type": "stream",
          "text": [
            "fold 7: mean position error 2.637276666059526\n"
          ],
          "name": "stdout"
        },
        {
          "output_type": "stream",
          "text": [
            "[2.8GB(+0.0GB): 14.342sec] fit X\n",
            "[2.8GB(+0.0GB): 9.814sec] fit Y\n",
            "[2.8GB(+0.0GB): 8.409sec] fit F\n"
          ],
          "name": "stderr"
        },
        {
          "output_type": "stream",
          "text": [
            "fold 8: mean position error 2.7193632553580254\n"
          ],
          "name": "stdout"
        },
        {
          "output_type": "stream",
          "text": [
            "[2.8GB(+0.0GB): 11.581sec] fit X\n",
            "[2.8GB(+0.0GB): 10.009sec] fit Y\n",
            "[2.8GB(+0.0GB): 15.378sec] fit F\n"
          ],
          "name": "stderr"
        },
        {
          "output_type": "stream",
          "text": [
            "fold 9: mean position error 2.8073768507939247\n",
            "*+*+*+*+*+*+*+*+*+*+*+*+*+*+*+*+*+*+*+*+*+*+*+*+*+*+*+*+*+*+*+*+*+*+*+*+*+*+*+*+\n",
            "file #13, shape=(6825, 429), name=5d27096c03f801723c31e5e0_train.csv\n",
            "mean position error 2.7119829401244457\n",
            "*+*+*+*+*+*+*+*+*+*+*+*+*+*+*+*+*+*+*+*+*+*+*+*+*+*+*+*+*+*+*+*+*+*+*+*+*+*+*+*+\n",
            "Starting to train:  5d27097f03f801723c320d97_train.csv\n"
          ],
          "name": "stdout"
        },
        {
          "output_type": "stream",
          "text": [
            "[2.8GB(+0.0GB): 3.427sec] fit X\n",
            "[2.8GB(+0.0GB): 4.409sec] fit Y\n",
            "[2.8GB(+0.0GB): 13.414sec] fit F\n"
          ],
          "name": "stderr"
        },
        {
          "output_type": "stream",
          "text": [
            "fold 0: mean position error 14.00549577903259\n"
          ],
          "name": "stdout"
        },
        {
          "output_type": "stream",
          "text": [
            "[2.8GB(+0.0GB): 4.288sec] fit X\n",
            "[2.8GB(+0.0GB): 7.683sec] fit Y\n",
            "[2.8GB(+0.0GB): 11.418sec] fit F\n"
          ],
          "name": "stderr"
        },
        {
          "output_type": "stream",
          "text": [
            "fold 1: mean position error 11.638139250525377\n"
          ],
          "name": "stdout"
        },
        {
          "output_type": "stream",
          "text": [
            "[2.8GB(+0.0GB): 3.972sec] fit X\n",
            "[2.8GB(+0.0GB): 3.047sec] fit Y\n",
            "[2.8GB(+0.0GB): 9.997sec] fit F\n"
          ],
          "name": "stderr"
        },
        {
          "output_type": "stream",
          "text": [
            "fold 2: mean position error 13.640963213720623\n"
          ],
          "name": "stdout"
        },
        {
          "output_type": "stream",
          "text": [
            "[2.8GB(+0.0GB): 4.995sec] fit X\n",
            "[2.8GB(+0.0GB): 3.877sec] fit Y\n",
            "[2.8GB(+0.0GB): 11.093sec] fit F\n"
          ],
          "name": "stderr"
        },
        {
          "output_type": "stream",
          "text": [
            "fold 3: mean position error 10.951073863647816\n"
          ],
          "name": "stdout"
        },
        {
          "output_type": "stream",
          "text": [
            "[2.8GB(+0.0GB): 3.011sec] fit X\n",
            "[2.8GB(+0.0GB): 3.011sec] fit Y\n",
            "[2.8GB(+0.0GB): 21.091sec] fit F\n"
          ],
          "name": "stderr"
        },
        {
          "output_type": "stream",
          "text": [
            "fold 4: mean position error 11.146584766123173\n"
          ],
          "name": "stdout"
        },
        {
          "output_type": "stream",
          "text": [
            "[2.8GB(+0.0GB): 6.130sec] fit X\n",
            "[2.8GB(+0.0GB): 6.212sec] fit Y\n",
            "[2.8GB(+0.0GB): 11.720sec] fit F\n"
          ],
          "name": "stderr"
        },
        {
          "output_type": "stream",
          "text": [
            "fold 5: mean position error 11.504099543795517\n"
          ],
          "name": "stdout"
        },
        {
          "output_type": "stream",
          "text": [
            "[2.8GB(+0.0GB): 6.636sec] fit X\n",
            "[2.8GB(+0.0GB): 6.462sec] fit Y\n",
            "[2.8GB(+0.0GB): 39.003sec] fit F\n"
          ],
          "name": "stderr"
        },
        {
          "output_type": "stream",
          "text": [
            "fold 6: mean position error 11.756864798455114\n"
          ],
          "name": "stdout"
        },
        {
          "output_type": "stream",
          "text": [
            "[2.8GB(+0.0GB): 4.709sec] fit X\n",
            "[2.8GB(+0.0GB): 4.085sec] fit Y\n",
            "[2.8GB(+0.0GB): 7.865sec] fit F\n"
          ],
          "name": "stderr"
        },
        {
          "output_type": "stream",
          "text": [
            "fold 7: mean position error 10.268113078850716\n"
          ],
          "name": "stdout"
        },
        {
          "output_type": "stream",
          "text": [
            "[2.8GB(+0.0GB): 4.983sec] fit X\n",
            "[2.8GB(+0.0GB): 4.700sec] fit Y\n",
            "[2.8GB(+0.0GB): 25.062sec] fit F\n"
          ],
          "name": "stderr"
        },
        {
          "output_type": "stream",
          "text": [
            "fold 8: mean position error 11.147881393551001\n"
          ],
          "name": "stdout"
        },
        {
          "output_type": "stream",
          "text": [
            "[2.8GB(+0.0GB): 4.724sec] fit X\n",
            "[2.8GB(+0.0GB): 3.492sec] fit Y\n",
            "[2.8GB(+0.0GB): 13.857sec] fit F\n"
          ],
          "name": "stderr"
        },
        {
          "output_type": "stream",
          "text": [
            "fold 9: mean position error 11.295827421999208\n",
            "*+*+*+*+*+*+*+*+*+*+*+*+*+*+*+*+*+*+*+*+*+*+*+*+*+*+*+*+*+*+*+*+*+*+*+*+*+*+*+*+\n",
            "file #14, shape=(7880, 639), name=5d27097f03f801723c320d97_train.csv\n",
            "mean position error 11.735504310970112\n",
            "*+*+*+*+*+*+*+*+*+*+*+*+*+*+*+*+*+*+*+*+*+*+*+*+*+*+*+*+*+*+*+*+*+*+*+*+*+*+*+*+\n",
            "Starting to train:  5d27099f03f801723c32511d_train.csv\n"
          ],
          "name": "stdout"
        },
        {
          "output_type": "stream",
          "text": [
            "[2.8GB(+0.0GB): 4.385sec] fit X\n",
            "[2.8GB(+0.0GB): 2.457sec] fit Y\n",
            "[2.8GB(+0.0GB): 3.117sec] fit F\n"
          ],
          "name": "stderr"
        },
        {
          "output_type": "stream",
          "text": [
            "fold 0: mean position error 3.120187255612664\n"
          ],
          "name": "stdout"
        },
        {
          "output_type": "stream",
          "text": [
            "[2.8GB(+0.0GB): 4.024sec] fit X\n",
            "[2.8GB(+0.0GB): 4.852sec] fit Y\n",
            "[2.8GB(+0.0GB): 3.481sec] fit F\n"
          ],
          "name": "stderr"
        },
        {
          "output_type": "stream",
          "text": [
            "fold 1: mean position error 2.7359005650217263\n"
          ],
          "name": "stdout"
        },
        {
          "output_type": "stream",
          "text": [
            "[2.8GB(+0.0GB): 4.702sec] fit X\n",
            "[2.8GB(+0.0GB): 4.737sec] fit Y\n",
            "[2.8GB(+0.0GB): 2.976sec] fit F\n"
          ],
          "name": "stderr"
        },
        {
          "output_type": "stream",
          "text": [
            "fold 2: mean position error 2.8746882812805405\n"
          ],
          "name": "stdout"
        },
        {
          "output_type": "stream",
          "text": [
            "[2.8GB(+0.0GB): 3.625sec] fit X\n",
            "[2.8GB(+0.0GB): 2.587sec] fit Y\n",
            "[2.8GB(+0.0GB): 2.980sec] fit F\n"
          ],
          "name": "stderr"
        },
        {
          "output_type": "stream",
          "text": [
            "fold 3: mean position error 2.8826882664976754\n"
          ],
          "name": "stdout"
        },
        {
          "output_type": "stream",
          "text": [
            "[2.8GB(+0.0GB): 5.426sec] fit X\n",
            "[2.8GB(+0.0GB): 2.662sec] fit Y\n",
            "[2.8GB(+0.0GB): 3.475sec] fit F\n"
          ],
          "name": "stderr"
        },
        {
          "output_type": "stream",
          "text": [
            "fold 4: mean position error 2.8535166768617515\n"
          ],
          "name": "stdout"
        },
        {
          "output_type": "stream",
          "text": [
            "[2.8GB(+0.0GB): 4.252sec] fit X\n",
            "[2.8GB(+0.0GB): 5.819sec] fit Y\n",
            "[2.8GB(+0.0GB): 2.298sec] fit F\n"
          ],
          "name": "stderr"
        },
        {
          "output_type": "stream",
          "text": [
            "fold 5: mean position error 3.1278348441891244\n"
          ],
          "name": "stdout"
        },
        {
          "output_type": "stream",
          "text": [
            "[2.8GB(+0.0GB): 3.051sec] fit X\n",
            "[2.8GB(+0.0GB): 5.759sec] fit Y\n",
            "[2.8GB(+0.0GB): 2.869sec] fit F\n"
          ],
          "name": "stderr"
        },
        {
          "output_type": "stream",
          "text": [
            "fold 6: mean position error 2.9734067616529494\n"
          ],
          "name": "stdout"
        },
        {
          "output_type": "stream",
          "text": [
            "[2.8GB(+0.0GB): 3.667sec] fit X\n",
            "[2.8GB(+0.0GB): 3.884sec] fit Y\n",
            "[2.8GB(+0.0GB): 3.413sec] fit F\n"
          ],
          "name": "stderr"
        },
        {
          "output_type": "stream",
          "text": [
            "fold 7: mean position error 2.914647977932972\n"
          ],
          "name": "stdout"
        },
        {
          "output_type": "stream",
          "text": [
            "[2.8GB(+0.0GB): 4.053sec] fit X\n",
            "[2.8GB(+0.0GB): 6.441sec] fit Y\n",
            "[2.8GB(+0.0GB): 2.746sec] fit F\n"
          ],
          "name": "stderr"
        },
        {
          "output_type": "stream",
          "text": [
            "fold 8: mean position error 3.109070405386871\n"
          ],
          "name": "stdout"
        },
        {
          "output_type": "stream",
          "text": [
            "[2.8GB(+0.0GB): 4.249sec] fit X\n",
            "[2.8GB(+0.0GB): 3.272sec] fit Y\n",
            "[2.8GB(+0.0GB): 3.176sec] fit F\n"
          ],
          "name": "stderr"
        },
        {
          "output_type": "stream",
          "text": [
            "fold 9: mean position error 3.140416775660172\n",
            "*+*+*+*+*+*+*+*+*+*+*+*+*+*+*+*+*+*+*+*+*+*+*+*+*+*+*+*+*+*+*+*+*+*+*+*+*+*+*+*+\n",
            "file #15, shape=(3188, 339), name=5d27099f03f801723c32511d_train.csv\n",
            "mean position error 2.9731407321956453\n",
            "*+*+*+*+*+*+*+*+*+*+*+*+*+*+*+*+*+*+*+*+*+*+*+*+*+*+*+*+*+*+*+*+*+*+*+*+*+*+*+*+\n",
            "Starting to train:  5d2709a003f801723c3251bf_train.csv\n"
          ],
          "name": "stdout"
        },
        {
          "output_type": "stream",
          "text": [
            "[2.8GB(+0.0GB): 2.830sec] fit X\n",
            "[2.8GB(+0.0GB): 3.842sec] fit Y\n",
            "[2.8GB(+0.0GB): 4.621sec] fit F\n"
          ],
          "name": "stderr"
        },
        {
          "output_type": "stream",
          "text": [
            "fold 0: mean position error 3.5812527484948604\n"
          ],
          "name": "stdout"
        },
        {
          "output_type": "stream",
          "text": [
            "[2.8GB(+0.0GB): 8.449sec] fit X\n",
            "[2.8GB(+0.0GB): 5.884sec] fit Y\n",
            "[2.8GB(+0.0GB): 4.630sec] fit F\n"
          ],
          "name": "stderr"
        },
        {
          "output_type": "stream",
          "text": [
            "fold 1: mean position error 3.8510217404605247\n"
          ],
          "name": "stdout"
        },
        {
          "output_type": "stream",
          "text": [
            "[2.8GB(+0.0GB): 5.725sec] fit X\n",
            "[2.8GB(+0.0GB): 2.698sec] fit Y\n",
            "[2.8GB(+0.0GB): 4.461sec] fit F\n"
          ],
          "name": "stderr"
        },
        {
          "output_type": "stream",
          "text": [
            "fold 2: mean position error 3.7518759113662123\n"
          ],
          "name": "stdout"
        },
        {
          "output_type": "stream",
          "text": [
            "[2.8GB(+0.0GB): 8.411sec] fit X\n",
            "[2.8GB(+0.0GB): 6.689sec] fit Y\n",
            "[2.8GB(+0.0GB): 4.160sec] fit F\n"
          ],
          "name": "stderr"
        },
        {
          "output_type": "stream",
          "text": [
            "fold 3: mean position error 3.9930824534466067\n"
          ],
          "name": "stdout"
        },
        {
          "output_type": "stream",
          "text": [
            "[2.8GB(+0.0GB): 3.260sec] fit X\n",
            "[2.8GB(+0.0GB): 4.535sec] fit Y\n",
            "[2.8GB(+0.0GB): 6.342sec] fit F\n"
          ],
          "name": "stderr"
        },
        {
          "output_type": "stream",
          "text": [
            "fold 4: mean position error 3.7090867057205608\n"
          ],
          "name": "stdout"
        },
        {
          "output_type": "stream",
          "text": [
            "[2.8GB(+0.0GB): 2.501sec] fit X\n",
            "[2.8GB(+0.0GB): 3.773sec] fit Y\n",
            "[2.8GB(+0.0GB): 6.869sec] fit F\n"
          ],
          "name": "stderr"
        },
        {
          "output_type": "stream",
          "text": [
            "fold 5: mean position error 3.874780196658731\n"
          ],
          "name": "stdout"
        },
        {
          "output_type": "stream",
          "text": [
            "[2.8GB(+0.0GB): 4.861sec] fit X\n",
            "[2.8GB(+0.0GB): 4.967sec] fit Y\n",
            "[2.8GB(+0.0GB): 4.582sec] fit F\n"
          ],
          "name": "stderr"
        },
        {
          "output_type": "stream",
          "text": [
            "fold 6: mean position error 3.6913009587902983\n"
          ],
          "name": "stdout"
        },
        {
          "output_type": "stream",
          "text": [
            "[2.8GB(+0.0GB): 10.870sec] fit X\n",
            "[2.8GB(+0.0GB): 3.637sec] fit Y\n",
            "[2.8GB(+0.0GB): 5.264sec] fit F\n"
          ],
          "name": "stderr"
        },
        {
          "output_type": "stream",
          "text": [
            "fold 7: mean position error 4.30491266878148\n"
          ],
          "name": "stdout"
        },
        {
          "output_type": "stream",
          "text": [
            "[2.8GB(+0.0GB): 3.456sec] fit X\n",
            "[2.8GB(+0.0GB): 3.312sec] fit Y\n",
            "[2.8GB(+0.0GB): 4.808sec] fit F\n"
          ],
          "name": "stderr"
        },
        {
          "output_type": "stream",
          "text": [
            "fold 8: mean position error 3.5609340673815866\n"
          ],
          "name": "stdout"
        },
        {
          "output_type": "stream",
          "text": [
            "[2.8GB(+0.0GB): 4.311sec] fit X\n",
            "[2.8GB(+0.0GB): 3.699sec] fit Y\n",
            "[2.8GB(+0.0GB): 7.373sec] fit F\n"
          ],
          "name": "stderr"
        },
        {
          "output_type": "stream",
          "text": [
            "fold 9: mean position error 3.5596210311020866\n",
            "*+*+*+*+*+*+*+*+*+*+*+*+*+*+*+*+*+*+*+*+*+*+*+*+*+*+*+*+*+*+*+*+*+*+*+*+*+*+*+*+\n",
            "file #16, shape=(2955, 275), name=5d2709a003f801723c3251bf_train.csv\n",
            "mean position error 3.7877690429134887\n",
            "*+*+*+*+*+*+*+*+*+*+*+*+*+*+*+*+*+*+*+*+*+*+*+*+*+*+*+*+*+*+*+*+*+*+*+*+*+*+*+*+\n",
            "Starting to train:  5d2709b303f801723c327472_train.csv\n"
          ],
          "name": "stdout"
        },
        {
          "output_type": "stream",
          "text": [
            "[2.8GB(+0.0GB): 18.177sec] fit X\n",
            "[2.8GB(+0.0GB): 18.984sec] fit Y\n",
            "[2.8GB(+0.0GB): 38.976sec] fit F\n"
          ],
          "name": "stderr"
        },
        {
          "output_type": "stream",
          "text": [
            "fold 0: mean position error 3.917067685927443\n"
          ],
          "name": "stdout"
        },
        {
          "output_type": "stream",
          "text": [
            "[2.8GB(+0.0GB): 12.838sec] fit X\n",
            "[2.8GB(+0.0GB): 10.488sec] fit Y\n",
            "[2.8GB(+0.0GB): 23.173sec] fit F\n"
          ],
          "name": "stderr"
        },
        {
          "output_type": "stream",
          "text": [
            "fold 1: mean position error 3.644772670837218\n"
          ],
          "name": "stdout"
        },
        {
          "output_type": "stream",
          "text": [
            "[2.8GB(+0.0GB): 19.232sec] fit X\n",
            "[2.8GB(+0.0GB): 12.155sec] fit Y\n",
            "[2.8GB(+0.0GB): 43.540sec] fit F\n"
          ],
          "name": "stderr"
        },
        {
          "output_type": "stream",
          "text": [
            "fold 2: mean position error 3.798238795025826\n"
          ],
          "name": "stdout"
        },
        {
          "output_type": "stream",
          "text": [
            "[2.8GB(+0.0GB): 21.483sec] fit X\n",
            "[2.8GB(+0.0GB): 19.236sec] fit Y\n",
            "[2.8GB(+0.0GB): 40.979sec] fit F\n"
          ],
          "name": "stderr"
        },
        {
          "output_type": "stream",
          "text": [
            "fold 3: mean position error 3.615976156901821\n"
          ],
          "name": "stdout"
        },
        {
          "output_type": "stream",
          "text": [
            "[2.8GB(+0.0GB): 24.334sec] fit X\n",
            "[2.8GB(+0.0GB): 19.684sec] fit Y\n",
            "[2.8GB(+0.0GB): 18.394sec] fit F\n"
          ],
          "name": "stderr"
        },
        {
          "output_type": "stream",
          "text": [
            "fold 4: mean position error 3.463202625338355\n"
          ],
          "name": "stdout"
        },
        {
          "output_type": "stream",
          "text": [
            "[2.8GB(+0.0GB): 17.922sec] fit X\n",
            "[2.8GB(+0.0GB): 18.333sec] fit Y\n",
            "[2.8GB(+0.0GB): 36.292sec] fit F\n"
          ],
          "name": "stderr"
        },
        {
          "output_type": "stream",
          "text": [
            "fold 5: mean position error 3.5585938071194962\n"
          ],
          "name": "stdout"
        },
        {
          "output_type": "stream",
          "text": [
            "[2.8GB(+0.0GB): 10.227sec] fit X\n",
            "[2.8GB(+0.0GB): 14.814sec] fit Y\n",
            "[2.8GB(+0.0GB): 44.948sec] fit F\n"
          ],
          "name": "stderr"
        },
        {
          "output_type": "stream",
          "text": [
            "fold 6: mean position error 3.683854710643658\n"
          ],
          "name": "stdout"
        },
        {
          "output_type": "stream",
          "text": [
            "[2.8GB(+0.0GB): 11.886sec] fit X\n",
            "[2.8GB(+0.0GB): 13.618sec] fit Y\n",
            "[2.8GB(+0.0GB): 37.569sec] fit F\n"
          ],
          "name": "stderr"
        },
        {
          "output_type": "stream",
          "text": [
            "fold 7: mean position error 3.8309135324968557\n"
          ],
          "name": "stdout"
        },
        {
          "output_type": "stream",
          "text": [
            "[2.8GB(+0.0GB): 18.603sec] fit X\n",
            "[2.8GB(+0.0GB): 20.702sec] fit Y\n",
            "[2.8GB(+0.0GB): 40.525sec] fit F\n"
          ],
          "name": "stderr"
        },
        {
          "output_type": "stream",
          "text": [
            "fold 8: mean position error 3.700688307220982\n"
          ],
          "name": "stdout"
        },
        {
          "output_type": "stream",
          "text": [
            "[2.8GB(+0.0GB): 10.420sec] fit X\n",
            "[2.8GB(+0.0GB): 17.105sec] fit Y\n",
            "[2.8GB(+0.0GB): 41.864sec] fit F\n"
          ],
          "name": "stderr"
        },
        {
          "output_type": "stream",
          "text": [
            "fold 9: mean position error 3.6468780685857536\n",
            "*+*+*+*+*+*+*+*+*+*+*+*+*+*+*+*+*+*+*+*+*+*+*+*+*+*+*+*+*+*+*+*+*+*+*+*+*+*+*+*+\n",
            "file #17, shape=(11518, 694), name=5d2709b303f801723c327472_train.csv\n",
            "mean position error 3.6860207605883315\n",
            "*+*+*+*+*+*+*+*+*+*+*+*+*+*+*+*+*+*+*+*+*+*+*+*+*+*+*+*+*+*+*+*+*+*+*+*+*+*+*+*+\n",
            "Starting to train:  5d2709bb03f801723c32852c_train.csv\n"
          ],
          "name": "stdout"
        }
      ]
    },
    {
      "cell_type": "code",
      "metadata": {
        "id": "5j_o-HiluAW9"
      },
      "source": [
        ""
      ],
      "execution_count": null,
      "outputs": []
    }
  ]
}