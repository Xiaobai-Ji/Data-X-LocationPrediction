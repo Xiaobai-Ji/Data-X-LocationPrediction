{
  "nbformat": 4,
  "nbformat_minor": 0,
  "metadata": {
    "accelerator": "GPU",
    "colab": {
      "name": "Data_X_inNav_wifi_data_unfiltered_data_fineTune.ipynb",
      "provenance": [],
      "collapsed_sections": []
    },
    "kernelspec": {
      "display_name": "Python 3",
      "name": "python3"
    },
    "language_info": {
      "name": "python"
    }
  },
  "cells": [
    {
      "cell_type": "code",
      "metadata": {
        "colab": {
          "base_uri": "https://localhost:8080/"
        },
        "id": "phlyFaiKW_jc",
        "outputId": "dcec3fd7-c55e-499d-d32a-ca9c33778b31"
      },
      "source": [
        "# run this cell to mount your google drive and follow the instructions \n",
        "from google.colab import drive\n",
        "drive.mount('/content/drive')"
      ],
      "execution_count": 1,
      "outputs": [
        {
          "output_type": "stream",
          "text": [
            "Mounted at /content/drive\n"
          ],
          "name": "stdout"
        }
      ]
    },
    {
      "cell_type": "code",
      "metadata": {
        "colab": {
          "base_uri": "https://localhost:8080/"
        },
        "id": "90nBl6mR6Ht_",
        "outputId": "153d526a-e534-4bca-ffb7-fc26fdfebda7"
      },
      "source": [
        "# show your CPU and GPU info \n",
        "!nvidia-smi\n",
        "!cat /proc/cpuinfo\n",
        "!rm -rf sample_data\n",
        "\n",
        "# install LightGBM model \n",
        "!git clone --recursive https://github.com/Microsoft/LightGBM.git\n",
        "!cd LightGBM && rm -rf build && mkdir build && cd build && cmake -DUSE_GPU=1 ../../LightGBM && make -j4 && cd ../python-package && python3 setup.py install --precompile --gpu;"
      ],
      "execution_count": 2,
      "outputs": [
        {
          "output_type": "stream",
          "text": [
            "Mon May  3 11:38:47 2021       \n",
            "+-----------------------------------------------------------------------------+\n",
            "| NVIDIA-SMI 465.19.01    Driver Version: 460.32.03    CUDA Version: 11.2     |\n",
            "|-------------------------------+----------------------+----------------------+\n",
            "| GPU  Name        Persistence-M| Bus-Id        Disp.A | Volatile Uncorr. ECC |\n",
            "| Fan  Temp  Perf  Pwr:Usage/Cap|         Memory-Usage | GPU-Util  Compute M. |\n",
            "|                               |                      |               MIG M. |\n",
            "|===============================+======================+======================|\n",
            "|   0  Tesla P100-PCIE...  Off  | 00000000:00:04.0 Off |                    0 |\n",
            "| N/A   46C    P0    29W / 250W |      0MiB / 16280MiB |      0%      Default |\n",
            "|                               |                      |                  N/A |\n",
            "+-------------------------------+----------------------+----------------------+\n",
            "                                                                               \n",
            "+-----------------------------------------------------------------------------+\n",
            "| Processes:                                                                  |\n",
            "|  GPU   GI   CI        PID   Type   Process name                  GPU Memory |\n",
            "|        ID   ID                                                   Usage      |\n",
            "|=============================================================================|\n",
            "|  No running processes found                                                 |\n",
            "+-----------------------------------------------------------------------------+\n",
            "processor\t: 0\n",
            "vendor_id\t: GenuineIntel\n",
            "cpu family\t: 6\n",
            "model\t\t: 79\n",
            "model name\t: Intel(R) Xeon(R) CPU @ 2.20GHz\n",
            "stepping\t: 0\n",
            "microcode\t: 0x1\n",
            "cpu MHz\t\t: 2199.998\n",
            "cache size\t: 56320 KB\n",
            "physical id\t: 0\n",
            "siblings\t: 2\n",
            "core id\t\t: 0\n",
            "cpu cores\t: 1\n",
            "apicid\t\t: 0\n",
            "initial apicid\t: 0\n",
            "fpu\t\t: yes\n",
            "fpu_exception\t: yes\n",
            "cpuid level\t: 13\n",
            "wp\t\t: yes\n",
            "flags\t\t: fpu vme de pse tsc msr pae mce cx8 apic sep mtrr pge mca cmov pat pse36 clflush mmx fxsr sse sse2 ss ht syscall nx pdpe1gb rdtscp lm constant_tsc rep_good nopl xtopology nonstop_tsc cpuid tsc_known_freq pni pclmulqdq ssse3 fma cx16 pcid sse4_1 sse4_2 x2apic movbe popcnt aes xsave avx f16c rdrand hypervisor lahf_lm abm 3dnowprefetch invpcid_single ssbd ibrs ibpb stibp fsgsbase tsc_adjust bmi1 hle avx2 smep bmi2 erms invpcid rtm rdseed adx smap xsaveopt arat md_clear arch_capabilities\n",
            "bugs\t\t: cpu_meltdown spectre_v1 spectre_v2 spec_store_bypass l1tf mds swapgs taa\n",
            "bogomips\t: 4399.99\n",
            "clflush size\t: 64\n",
            "cache_alignment\t: 64\n",
            "address sizes\t: 46 bits physical, 48 bits virtual\n",
            "power management:\n",
            "\n",
            "processor\t: 1\n",
            "vendor_id\t: GenuineIntel\n",
            "cpu family\t: 6\n",
            "model\t\t: 79\n",
            "model name\t: Intel(R) Xeon(R) CPU @ 2.20GHz\n",
            "stepping\t: 0\n",
            "microcode\t: 0x1\n",
            "cpu MHz\t\t: 2199.998\n",
            "cache size\t: 56320 KB\n",
            "physical id\t: 0\n",
            "siblings\t: 2\n",
            "core id\t\t: 0\n",
            "cpu cores\t: 1\n",
            "apicid\t\t: 1\n",
            "initial apicid\t: 1\n",
            "fpu\t\t: yes\n",
            "fpu_exception\t: yes\n",
            "cpuid level\t: 13\n",
            "wp\t\t: yes\n",
            "flags\t\t: fpu vme de pse tsc msr pae mce cx8 apic sep mtrr pge mca cmov pat pse36 clflush mmx fxsr sse sse2 ss ht syscall nx pdpe1gb rdtscp lm constant_tsc rep_good nopl xtopology nonstop_tsc cpuid tsc_known_freq pni pclmulqdq ssse3 fma cx16 pcid sse4_1 sse4_2 x2apic movbe popcnt aes xsave avx f16c rdrand hypervisor lahf_lm abm 3dnowprefetch invpcid_single ssbd ibrs ibpb stibp fsgsbase tsc_adjust bmi1 hle avx2 smep bmi2 erms invpcid rtm rdseed adx smap xsaveopt arat md_clear arch_capabilities\n",
            "bugs\t\t: cpu_meltdown spectre_v1 spectre_v2 spec_store_bypass l1tf mds swapgs taa\n",
            "bogomips\t: 4399.99\n",
            "clflush size\t: 64\n",
            "cache_alignment\t: 64\n",
            "address sizes\t: 46 bits physical, 48 bits virtual\n",
            "power management:\n",
            "\n",
            "Cloning into 'LightGBM'...\n",
            "remote: Enumerating objects: 21858, done.\u001b[K\n",
            "remote: Counting objects: 100% (394/394), done.\u001b[K\n",
            "remote: Compressing objects: 100% (185/185), done.\u001b[K\n",
            "remote: Total 21858 (delta 238), reused 310 (delta 204), pack-reused 21464\u001b[K\n",
            "Receiving objects: 100% (21858/21858), 17.22 MiB | 25.34 MiB/s, done.\n",
            "Resolving deltas: 100% (15956/15956), done.\n",
            "Submodule 'include/boost/compute' (https://github.com/boostorg/compute) registered for path 'external_libs/compute'\n",
            "Submodule 'eigen' (https://gitlab.com/libeigen/eigen.git) registered for path 'external_libs/eigen'\n",
            "Submodule 'external_libs/fast_double_parser' (https://github.com/lemire/fast_double_parser.git) registered for path 'external_libs/fast_double_parser'\n",
            "Submodule 'external_libs/fmt' (https://github.com/fmtlib/fmt.git) registered for path 'external_libs/fmt'\n",
            "Cloning into '/content/LightGBM/external_libs/compute'...\n",
            "remote: Enumerating objects: 21728, done.        \n",
            "remote: Total 21728 (delta 0), reused 0 (delta 0), pack-reused 21728        \n",
            "Receiving objects: 100% (21728/21728), 8.51 MiB | 24.54 MiB/s, done.\n",
            "Resolving deltas: 100% (17566/17566), done.\n",
            "Cloning into '/content/LightGBM/external_libs/eigen'...\n",
            "remote: Enumerating objects: 917, done.        \n",
            "remote: Counting objects: 100% (917/917), done.        \n",
            "remote: Compressing objects: 100% (338/338), done.        \n",
            "remote: Total 109551 (delta 710), reused 750 (delta 575), pack-reused 108634        \n",
            "Receiving objects: 100% (109551/109551), 101.73 MiB | 23.95 MiB/s, done.\n",
            "Resolving deltas: 100% (89977/89977), done.\n",
            "Cloning into '/content/LightGBM/external_libs/fast_double_parser'...\n",
            "remote: Enumerating objects: 675, done.        \n",
            "remote: Counting objects: 100% (175/175), done.        \n",
            "remote: Compressing objects: 100% (110/110), done.        \n",
            "remote: Total 675 (delta 86), reused 94 (delta 39), pack-reused 500        \n",
            "Receiving objects: 100% (675/675), 799.30 KiB | 14.53 MiB/s, done.\n",
            "Resolving deltas: 100% (340/340), done.\n",
            "Cloning into '/content/LightGBM/external_libs/fmt'...\n",
            "remote: Enumerating objects: 25331, done.        \n",
            "remote: Counting objects: 100% (503/503), done.        \n",
            "remote: Compressing objects: 100% (192/192), done.        \n",
            "remote: Total 25331 (delta 285), reused 409 (delta 257), pack-reused 24828        \n",
            "Receiving objects: 100% (25331/25331), 12.93 MiB | 15.65 MiB/s, done.\n",
            "Resolving deltas: 100% (17096/17096), done.\n",
            "Submodule path 'external_libs/compute': checked out '36c89134d4013b2e5e45bc55656a18bd6141995a'\n",
            "Submodule path 'external_libs/eigen': checked out '8ba1b0f41a7950dc3e1d4ed75859e36c73311235'\n",
            "Submodule path 'external_libs/fast_double_parser': checked out 'ace60646c02dc54c57f19d644e49a61e7e7758ec'\n",
            "Submodule 'benchmark/dependencies/abseil-cpp' (https://github.com/abseil/abseil-cpp.git) registered for path 'external_libs/fast_double_parser/benchmarks/dependencies/abseil-cpp'\n",
            "Submodule 'benchmark/dependencies/double-conversion' (https://github.com/google/double-conversion.git) registered for path 'external_libs/fast_double_parser/benchmarks/dependencies/double-conversion'\n",
            "Cloning into '/content/LightGBM/external_libs/fast_double_parser/benchmarks/dependencies/abseil-cpp'...\n",
            "remote: Enumerating objects: 14383, done.        \n",
            "remote: Counting objects: 100% (318/318), done.        \n",
            "remote: Compressing objects: 100% (203/203), done.        \n",
            "remote: Total 14383 (delta 167), reused 243 (delta 115), pack-reused 14065        \n",
            "Receiving objects: 100% (14383/14383), 9.50 MiB | 19.64 MiB/s, done.\n",
            "Resolving deltas: 100% (10908/10908), done.\n",
            "Cloning into '/content/LightGBM/external_libs/fast_double_parser/benchmarks/dependencies/double-conversion'...\n",
            "remote: Enumerating objects: 1220, done.        \n",
            "remote: Counting objects: 100% (64/64), done.        \n",
            "remote: Compressing objects: 100% (41/41), done.        \n",
            "remote: Total 1220 (delta 35), reused 40 (delta 23), pack-reused 1156        \n",
            "Receiving objects: 100% (1220/1220), 7.08 MiB | 21.07 MiB/s, done.\n",
            "Resolving deltas: 100% (807/807), done.\n",
            "Submodule path 'external_libs/fast_double_parser/benchmarks/dependencies/abseil-cpp': checked out 'd936052d32a5b7ca08b0199a6724724aea432309'\n",
            "Submodule path 'external_libs/fast_double_parser/benchmarks/dependencies/double-conversion': checked out 'f4cb2384efa55dee0e6652f8674b05763441ab09'\n",
            "Submodule path 'external_libs/fmt': checked out 'cc09f1a6798c085c325569ef466bcdcffdc266d4'\n",
            "-- The C compiler identification is GNU 7.5.0\n",
            "-- The CXX compiler identification is GNU 7.5.0\n",
            "-- Check for working C compiler: /usr/bin/cc\n",
            "-- Check for working C compiler: /usr/bin/cc -- works\n",
            "-- Detecting C compiler ABI info\n",
            "-- Detecting C compiler ABI info - done\n",
            "-- Detecting C compile features\n",
            "-- Detecting C compile features - done\n",
            "-- Check for working CXX compiler: /usr/bin/c++\n",
            "-- Check for working CXX compiler: /usr/bin/c++ -- works\n",
            "-- Detecting CXX compiler ABI info\n",
            "-- Detecting CXX compiler ABI info - done\n",
            "-- Detecting CXX compile features\n",
            "-- Detecting CXX compile features - done\n",
            "-- Found OpenMP_C: -fopenmp (found version \"4.5\") \n",
            "-- Found OpenMP_CXX: -fopenmp (found version \"4.5\") \n",
            "-- Found OpenMP: TRUE (found version \"4.5\")  \n",
            "-- Looking for CL_VERSION_2_2\n",
            "-- Looking for CL_VERSION_2_2 - found\n",
            "-- Found OpenCL: /usr/lib/x86_64-linux-gnu/libOpenCL.so (found version \"2.2\") \n",
            "-- OpenCL include directory: /usr/include\n",
            "-- Boost version: 1.65.1\n",
            "-- Found the following Boost libraries:\n",
            "--   filesystem\n",
            "--   system\n",
            "-- Performing Test MM_PREFETCH\n",
            "-- Performing Test MM_PREFETCH - Success\n",
            "-- Using _mm_prefetch\n",
            "-- Performing Test MM_MALLOC\n",
            "-- Performing Test MM_MALLOC - Success\n",
            "-- Using _mm_malloc\n",
            "-- Configuring done\n",
            "-- Generating done\n",
            "-- Build files have been written to: /content/LightGBM/build\n",
            "\u001b[35m\u001b[1mScanning dependencies of target _lightgbm\u001b[0m\n",
            "\u001b[35m\u001b[1mScanning dependencies of target lightgbm\u001b[0m\n",
            "[  1%] \u001b[32mBuilding CXX object CMakeFiles/lightgbm.dir/src/boosting/boosting.cpp.o\u001b[0m\n",
            "[  2%] \u001b[32mBuilding CXX object CMakeFiles/lightgbm.dir/src/application/application.cpp.o\u001b[0m\n",
            "[  4%] \u001b[32mBuilding CXX object CMakeFiles/lightgbm.dir/src/main.cpp.o\u001b[0m\n",
            "[  5%] \u001b[32mBuilding CXX object CMakeFiles/_lightgbm.dir/src/boosting/boosting.cpp.o\u001b[0m\n",
            "[  7%] \u001b[32mBuilding CXX object CMakeFiles/lightgbm.dir/src/boosting/gbdt.cpp.o\u001b[0m\n",
            "[  8%] \u001b[32mBuilding CXX object CMakeFiles/lightgbm.dir/src/boosting/gbdt_model_text.cpp.o\u001b[0m\n",
            "[ 10%] \u001b[32mBuilding CXX object CMakeFiles/_lightgbm.dir/src/boosting/gbdt.cpp.o\u001b[0m\n",
            "[ 11%] \u001b[32mBuilding CXX object CMakeFiles/_lightgbm.dir/src/boosting/gbdt_model_text.cpp.o\u001b[0m\n",
            "[ 13%] \u001b[32mBuilding CXX object CMakeFiles/lightgbm.dir/src/boosting/gbdt_prediction.cpp.o\u001b[0m\n",
            "[ 14%] \u001b[32mBuilding CXX object CMakeFiles/lightgbm.dir/src/boosting/prediction_early_stop.cpp.o\u001b[0m\n",
            "[ 15%] \u001b[32mBuilding CXX object CMakeFiles/lightgbm.dir/src/io/bin.cpp.o\u001b[0m\n",
            "[ 17%] \u001b[32mBuilding CXX object CMakeFiles/lightgbm.dir/src/io/config.cpp.o\u001b[0m\n",
            "[ 18%] \u001b[32mBuilding CXX object CMakeFiles/_lightgbm.dir/src/boosting/gbdt_prediction.cpp.o\u001b[0m\n",
            "[ 20%] \u001b[32mBuilding CXX object CMakeFiles/_lightgbm.dir/src/boosting/prediction_early_stop.cpp.o\u001b[0m\n",
            "[ 21%] \u001b[32mBuilding CXX object CMakeFiles/_lightgbm.dir/src/io/bin.cpp.o\u001b[0m\n",
            "[ 23%] \u001b[32mBuilding CXX object CMakeFiles/_lightgbm.dir/src/io/config.cpp.o\u001b[0m\n",
            "[ 24%] \u001b[32mBuilding CXX object CMakeFiles/lightgbm.dir/src/io/config_auto.cpp.o\u001b[0m\n",
            "[ 26%] \u001b[32mBuilding CXX object CMakeFiles/_lightgbm.dir/src/io/config_auto.cpp.o\u001b[0m\n",
            "[ 27%] \u001b[32mBuilding CXX object CMakeFiles/lightgbm.dir/src/io/dataset.cpp.o\u001b[0m\n",
            "[ 28%] \u001b[32mBuilding CXX object CMakeFiles/_lightgbm.dir/src/io/dataset.cpp.o\u001b[0m\n",
            "[ 30%] \u001b[32mBuilding CXX object CMakeFiles/lightgbm.dir/src/io/dataset_loader.cpp.o\u001b[0m\n",
            "[ 31%] \u001b[32mBuilding CXX object CMakeFiles/lightgbm.dir/src/io/file_io.cpp.o\u001b[0m\n",
            "[ 33%] \u001b[32mBuilding CXX object CMakeFiles/lightgbm.dir/src/io/json11.cpp.o\u001b[0m\n",
            "[ 34%] \u001b[32mBuilding CXX object CMakeFiles/_lightgbm.dir/src/io/dataset_loader.cpp.o\u001b[0m\n",
            "[ 36%] \u001b[32mBuilding CXX object CMakeFiles/_lightgbm.dir/src/io/file_io.cpp.o\u001b[0m\n",
            "[ 37%] \u001b[32mBuilding CXX object CMakeFiles/_lightgbm.dir/src/io/json11.cpp.o\u001b[0m\n",
            "[ 39%] \u001b[32mBuilding CXX object CMakeFiles/lightgbm.dir/src/io/metadata.cpp.o\u001b[0m\n",
            "[ 40%] \u001b[32mBuilding CXX object CMakeFiles/_lightgbm.dir/src/io/metadata.cpp.o\u001b[0m\n",
            "[ 42%] \u001b[32mBuilding CXX object CMakeFiles/lightgbm.dir/src/io/parser.cpp.o\u001b[0m\n",
            "[ 43%] \u001b[32mBuilding CXX object CMakeFiles/lightgbm.dir/src/io/train_share_states.cpp.o\u001b[0m\n",
            "[ 44%] \u001b[32mBuilding CXX object CMakeFiles/_lightgbm.dir/src/io/parser.cpp.o\u001b[0m\n",
            "[ 46%] \u001b[32mBuilding CXX object CMakeFiles/lightgbm.dir/src/io/tree.cpp.o\u001b[0m\n",
            "[ 47%] \u001b[32mBuilding CXX object CMakeFiles/lightgbm.dir/src/metric/dcg_calculator.cpp.o\u001b[0m\n",
            "[ 49%] \u001b[32mBuilding CXX object CMakeFiles/_lightgbm.dir/src/io/train_share_states.cpp.o\u001b[0m\n",
            "[ 50%] \u001b[32mBuilding CXX object CMakeFiles/_lightgbm.dir/src/io/tree.cpp.o\u001b[0m\n",
            "[ 52%] \u001b[32mBuilding CXX object CMakeFiles/_lightgbm.dir/src/metric/dcg_calculator.cpp.o\u001b[0m\n",
            "[ 53%] \u001b[32mBuilding CXX object CMakeFiles/lightgbm.dir/src/metric/metric.cpp.o\u001b[0m\n",
            "[ 55%] \u001b[32mBuilding CXX object CMakeFiles/_lightgbm.dir/src/metric/metric.cpp.o\u001b[0m\n",
            "[ 56%] \u001b[32mBuilding CXX object CMakeFiles/lightgbm.dir/src/network/ifaddrs_patch.cpp.o\u001b[0m\n",
            "[ 57%] \u001b[32mBuilding CXX object CMakeFiles/lightgbm.dir/src/network/linker_topo.cpp.o\u001b[0m\n",
            "[ 59%] \u001b[32mBuilding CXX object CMakeFiles/lightgbm.dir/src/network/linkers_mpi.cpp.o\u001b[0m\n",
            "[ 60%] \u001b[32mBuilding CXX object CMakeFiles/lightgbm.dir/src/network/linkers_socket.cpp.o\u001b[0m\n",
            "[ 62%] \u001b[32mBuilding CXX object CMakeFiles/lightgbm.dir/src/network/network.cpp.o\u001b[0m\n",
            "[ 63%] \u001b[32mBuilding CXX object CMakeFiles/_lightgbm.dir/src/network/ifaddrs_patch.cpp.o\u001b[0m\n",
            "[ 65%] \u001b[32mBuilding CXX object CMakeFiles/_lightgbm.dir/src/network/linker_topo.cpp.o\u001b[0m\n",
            "[ 66%] \u001b[32mBuilding CXX object CMakeFiles/_lightgbm.dir/src/network/linkers_mpi.cpp.o\u001b[0m\n",
            "[ 68%] \u001b[32mBuilding CXX object CMakeFiles/_lightgbm.dir/src/network/linkers_socket.cpp.o\u001b[0m\n",
            "[ 69%] \u001b[32mBuilding CXX object CMakeFiles/_lightgbm.dir/src/network/network.cpp.o\u001b[0m\n",
            "[ 71%] \u001b[32mBuilding CXX object CMakeFiles/lightgbm.dir/src/objective/objective_function.cpp.o\u001b[0m\n",
            "[ 72%] \u001b[32mBuilding CXX object CMakeFiles/lightgbm.dir/src/treelearner/cuda_tree_learner.cpp.o\u001b[0m\n",
            "[ 73%] \u001b[32mBuilding CXX object CMakeFiles/lightgbm.dir/src/treelearner/data_parallel_tree_learner.cpp.o\u001b[0m\n",
            "[ 75%] \u001b[32mBuilding CXX object CMakeFiles/_lightgbm.dir/src/objective/objective_function.cpp.o\u001b[0m\n",
            "[ 76%] \u001b[32mBuilding CXX object CMakeFiles/_lightgbm.dir/src/treelearner/cuda_tree_learner.cpp.o\u001b[0m\n",
            "[ 78%] \u001b[32mBuilding CXX object CMakeFiles/_lightgbm.dir/src/treelearner/data_parallel_tree_learner.cpp.o\u001b[0m\n",
            "[ 79%] \u001b[32mBuilding CXX object CMakeFiles/lightgbm.dir/src/treelearner/feature_parallel_tree_learner.cpp.o\u001b[0m\n",
            "[ 81%] \u001b[32mBuilding CXX object CMakeFiles/_lightgbm.dir/src/treelearner/feature_parallel_tree_learner.cpp.o\u001b[0m\n",
            "[ 82%] \u001b[32mBuilding CXX object CMakeFiles/lightgbm.dir/src/treelearner/gpu_tree_learner.cpp.o\u001b[0m\n",
            "[ 84%] \u001b[32mBuilding CXX object CMakeFiles/_lightgbm.dir/src/treelearner/gpu_tree_learner.cpp.o\u001b[0m\n",
            "[ 85%] \u001b[32mBuilding CXX object CMakeFiles/lightgbm.dir/src/treelearner/linear_tree_learner.cpp.o\u001b[0m\n",
            "[ 86%] \u001b[32mBuilding CXX object CMakeFiles/_lightgbm.dir/src/treelearner/linear_tree_learner.cpp.o\u001b[0m\n",
            "[ 88%] \u001b[32mBuilding CXX object CMakeFiles/lightgbm.dir/src/treelearner/serial_tree_learner.cpp.o\u001b[0m\n",
            "[ 89%] \u001b[32mBuilding CXX object CMakeFiles/_lightgbm.dir/src/treelearner/serial_tree_learner.cpp.o\u001b[0m\n",
            "[ 91%] \u001b[32mBuilding CXX object CMakeFiles/lightgbm.dir/src/treelearner/tree_learner.cpp.o\u001b[0m\n",
            "[ 92%] \u001b[32mBuilding CXX object CMakeFiles/_lightgbm.dir/src/treelearner/tree_learner.cpp.o\u001b[0m\n",
            "[ 94%] \u001b[32mBuilding CXX object CMakeFiles/lightgbm.dir/src/treelearner/voting_parallel_tree_learner.cpp.o\u001b[0m\n",
            "[ 95%] \u001b[32mBuilding CXX object CMakeFiles/_lightgbm.dir/src/treelearner/voting_parallel_tree_learner.cpp.o\u001b[0m\n",
            "[ 97%] \u001b[32mBuilding CXX object CMakeFiles/_lightgbm.dir/src/c_api.cpp.o\u001b[0m\n",
            "[ 98%] \u001b[32m\u001b[1mLinking CXX executable ../lightgbm\u001b[0m\n",
            "[ 98%] Built target lightgbm\n",
            "[100%] \u001b[32m\u001b[1mLinking CXX shared library ../lib_lightgbm.so\u001b[0m\n",
            "[100%] Built target _lightgbm\n",
            "running install\n",
            "running build\n",
            "running build_py\n",
            "INFO:root:Generating grammar tables from /usr/lib/python3.7/lib2to3/Grammar.txt\n",
            "INFO:root:Generating grammar tables from /usr/lib/python3.7/lib2to3/PatternGrammar.txt\n",
            "creating build\n",
            "creating build/lib\n",
            "creating build/lib/lightgbm\n",
            "copying lightgbm/libpath.py -> build/lib/lightgbm\n",
            "copying lightgbm/engine.py -> build/lib/lightgbm\n",
            "copying lightgbm/sklearn.py -> build/lib/lightgbm\n",
            "copying lightgbm/compat.py -> build/lib/lightgbm\n",
            "copying lightgbm/callback.py -> build/lib/lightgbm\n",
            "copying lightgbm/dask.py -> build/lib/lightgbm\n",
            "copying lightgbm/basic.py -> build/lib/lightgbm\n",
            "copying lightgbm/__init__.py -> build/lib/lightgbm\n",
            "copying lightgbm/plotting.py -> build/lib/lightgbm\n",
            "running egg_info\n",
            "creating lightgbm.egg-info\n",
            "writing lightgbm.egg-info/PKG-INFO\n",
            "writing dependency_links to lightgbm.egg-info/dependency_links.txt\n",
            "writing requirements to lightgbm.egg-info/requires.txt\n",
            "writing top-level names to lightgbm.egg-info/top_level.txt\n",
            "writing manifest file 'lightgbm.egg-info/SOURCES.txt'\n",
            "reading manifest template 'MANIFEST.in'\n",
            "no previously-included directories found matching 'build'\n",
            "warning: no files found matching 'LICENSE'\n",
            "warning: no files found matching '*.txt'\n",
            "warning: no files found matching '*.so' under directory 'lightgbm'\n",
            "warning: no files found matching 'compile/CMakeLists.txt'\n",
            "warning: no files found matching 'compile/cmake/IntegratedOpenCL.cmake'\n",
            "warning: no files found matching '*.so' under directory 'compile'\n",
            "warning: no files found matching '*.dll' under directory 'compile/Release'\n",
            "warning: no files found matching 'compile/external_libs/compute/CMakeLists.txt'\n",
            "warning: no files found matching '*' under directory 'compile/external_libs/compute/cmake'\n",
            "warning: no files found matching '*' under directory 'compile/external_libs/compute/include'\n",
            "warning: no files found matching '*' under directory 'compile/external_libs/compute/meta'\n",
            "warning: no files found matching 'compile/external_libs/eigen/CMakeLists.txt'\n",
            "warning: no files found matching 'compile/external_libs/eigen/Eigen/Cholesky'\n",
            "warning: no files found matching 'compile/external_libs/eigen/Eigen/Core'\n",
            "warning: no files found matching 'compile/external_libs/eigen/Eigen/Dense'\n",
            "warning: no files found matching 'compile/external_libs/eigen/Eigen/Eigenvalues'\n",
            "warning: no files found matching 'compile/external_libs/eigen/Eigen/Geometry'\n",
            "warning: no files found matching 'compile/external_libs/eigen/Eigen/Householder'\n",
            "warning: no files found matching 'compile/external_libs/eigen/Eigen/Jacobi'\n",
            "warning: no files found matching 'compile/external_libs/eigen/Eigen/LU'\n",
            "warning: no files found matching 'compile/external_libs/eigen/Eigen/QR'\n",
            "warning: no files found matching 'compile/external_libs/eigen/Eigen/SVD'\n",
            "warning: no files found matching '*' under directory 'compile/external_libs/eigen/Eigen/src/Cholesky'\n",
            "warning: no files found matching '*' under directory 'compile/external_libs/eigen/Eigen/src/Core'\n",
            "warning: no files found matching '*' under directory 'compile/external_libs/eigen/Eigen/src/Eigenvalues'\n",
            "warning: no files found matching '*' under directory 'compile/external_libs/eigen/Eigen/src/Geometry'\n",
            "warning: no files found matching '*' under directory 'compile/external_libs/eigen/Eigen/src/Householder'\n",
            "warning: no files found matching '*' under directory 'compile/external_libs/eigen/Eigen/src/Jacobi'\n",
            "warning: no files found matching '*' under directory 'compile/external_libs/eigen/Eigen/src/LU'\n",
            "warning: no files found matching '*' under directory 'compile/external_libs/eigen/Eigen/src/misc'\n",
            "warning: no files found matching '*' under directory 'compile/external_libs/eigen/Eigen/src/plugins'\n",
            "warning: no files found matching '*' under directory 'compile/external_libs/eigen/Eigen/src/QR'\n",
            "warning: no files found matching '*' under directory 'compile/external_libs/eigen/Eigen/src/SVD'\n",
            "warning: no files found matching 'compile/external_libs/fast_double_parser/CMakeLists.txt'\n",
            "warning: no files found matching 'compile/external_libs/fast_double_parser/LICENSE'\n",
            "warning: no files found matching 'compile/external_libs/fast_double_parser/LICENSE.BSL'\n",
            "warning: no files found matching '*' under directory 'compile/external_libs/fast_double_parser/include'\n",
            "warning: no files found matching 'compile/external_libs/fmt/CMakeLists.txt'\n",
            "warning: no files found matching 'compile/external_libs/fmt/LICENSE.rst'\n",
            "warning: no files found matching '*' under directory 'compile/external_libs/fmt/include'\n",
            "warning: no files found matching '*' under directory 'compile/include'\n",
            "warning: no files found matching '*' under directory 'compile/src'\n",
            "warning: no files found matching 'LightGBM.sln' under directory 'compile/windows'\n",
            "warning: no files found matching 'LightGBM.vcxproj' under directory 'compile/windows'\n",
            "warning: no files found matching '*.dll' under directory 'compile/windows/x64/DLL'\n",
            "warning: no previously-included files matching '*.py[co]' found anywhere in distribution\n",
            "warning: no previously-included files found matching 'compile/external_libs/compute/.git'\n",
            "writing manifest file 'lightgbm.egg-info/SOURCES.txt'\n",
            "copying lightgbm/VERSION.txt -> build/lib/lightgbm\n",
            "running install_lib\n",
            "copying build/lib/lightgbm/libpath.py -> /usr/local/lib/python3.7/dist-packages/lightgbm\n",
            "copying build/lib/lightgbm/VERSION.txt -> /usr/local/lib/python3.7/dist-packages/lightgbm\n",
            "copying build/lib/lightgbm/engine.py -> /usr/local/lib/python3.7/dist-packages/lightgbm\n",
            "copying build/lib/lightgbm/sklearn.py -> /usr/local/lib/python3.7/dist-packages/lightgbm\n",
            "copying build/lib/lightgbm/compat.py -> /usr/local/lib/python3.7/dist-packages/lightgbm\n",
            "copying build/lib/lightgbm/callback.py -> /usr/local/lib/python3.7/dist-packages/lightgbm\n",
            "copying build/lib/lightgbm/dask.py -> /usr/local/lib/python3.7/dist-packages/lightgbm\n",
            "copying build/lib/lightgbm/basic.py -> /usr/local/lib/python3.7/dist-packages/lightgbm\n",
            "copying build/lib/lightgbm/__init__.py -> /usr/local/lib/python3.7/dist-packages/lightgbm\n",
            "copying build/lib/lightgbm/plotting.py -> /usr/local/lib/python3.7/dist-packages/lightgbm\n",
            "INFO:LightGBM:Installing lib_lightgbm from: ['../lib_lightgbm.so']\n",
            "copying ../lib_lightgbm.so -> /usr/local/lib/python3.7/dist-packages/lightgbm\n",
            "byte-compiling /usr/local/lib/python3.7/dist-packages/lightgbm/libpath.py to libpath.cpython-37.pyc\n",
            "byte-compiling /usr/local/lib/python3.7/dist-packages/lightgbm/engine.py to engine.cpython-37.pyc\n",
            "byte-compiling /usr/local/lib/python3.7/dist-packages/lightgbm/sklearn.py to sklearn.cpython-37.pyc\n",
            "byte-compiling /usr/local/lib/python3.7/dist-packages/lightgbm/compat.py to compat.cpython-37.pyc\n",
            "byte-compiling /usr/local/lib/python3.7/dist-packages/lightgbm/callback.py to callback.cpython-37.pyc\n",
            "byte-compiling /usr/local/lib/python3.7/dist-packages/lightgbm/dask.py to dask.cpython-37.pyc\n",
            "byte-compiling /usr/local/lib/python3.7/dist-packages/lightgbm/basic.py to basic.cpython-37.pyc\n",
            "byte-compiling /usr/local/lib/python3.7/dist-packages/lightgbm/__init__.py to __init__.cpython-37.pyc\n",
            "byte-compiling /usr/local/lib/python3.7/dist-packages/lightgbm/plotting.py to plotting.cpython-37.pyc\n",
            "running install_egg_info\n",
            "Copying lightgbm.egg-info to /usr/local/lib/python3.7/dist-packages/lightgbm-3.2.1.99-py3.7.egg-info\n",
            "running install_scripts\n"
          ],
          "name": "stdout"
        }
      ]
    },
    {
      "cell_type": "code",
      "metadata": {
        "colab": {
          "base_uri": "https://localhost:8080/"
        },
        "id": "KQxFwu_tui_l",
        "outputId": "f6a7820a-2f65-486b-832b-3ba8edab6467"
      },
      "source": [
        "# run this cell directly if the file is stored in your drive\n",
        "# otherwise, rewrite the directory and/or file name\n",
        "!cp /content/drive/MyDrive/0403.zip 0403.zip\n",
        "!unzip /content/drive/MyDrive/0403.zip"
      ],
      "execution_count": 3,
      "outputs": [
        {
          "output_type": "stream",
          "text": [
            "Archive:  /content/drive/MyDrive/0403.zip\n",
            "  inflating: 0403/5cd56b6ee2acfd2d33b5a247_test.csv  \n",
            "  inflating: 0403/5cd56b7de2acfd2d33b5c14b_train.csv  \n",
            "  inflating: 0403/5cd56b6ae2acfd2d33b59c90_test.csv  \n",
            "  inflating: 0403/5cd56b7de2acfd2d33b5c14b_test.csv  \n",
            "  inflating: 0403/5cd56b6ee2acfd2d33b5a247_train.csv  \n",
            "  inflating: 0403/5cd56b6ae2acfd2d33b59c90_train.csv  \n",
            "  inflating: 0403/5cd56b6fe2acfd2d33b5a386_test.csv  \n",
            "  inflating: 0403/5cd56b6ae2acfd2d33b59ccc_test.csv  \n",
            "  inflating: 0403/5cd56b5ae2acfd2d33b58546_train.csv  \n",
            "  inflating: 0403/5cd56b5ae2acfd2d33b58549_test.csv  \n",
            "  inflating: 0403/5cd56b5ae2acfd2d33b58549_train.csv  \n",
            "  inflating: 0403/5cd56b6fe2acfd2d33b5a386_train.csv  \n",
            "  inflating: 0403/5cd56b6ae2acfd2d33b59ccc_train.csv  \n",
            "  inflating: 0403/5cd56b5ae2acfd2d33b58546_test.csv  \n",
            "  inflating: 0403/5da1383b4db8ce0c98bc11ab_test.csv  \n",
            "  inflating: 0403/5d27099f03f801723c32511d_test.csv  \n",
            "  inflating: 0403/5d27096c03f801723c31e5e0_test.csv  \n",
            "  inflating: 0403/5d27097f03f801723c320d97_test.csv  \n",
            "  inflating: 0403/5cd56b5ae2acfd2d33b58548_test.csv  \n",
            "  inflating: 0403/5cd56b5ae2acfd2d33b5854a_test.csv  \n",
            "  inflating: 0403/5d27097f03f801723c320d97_train.csv  \n",
            "  inflating: 0403/5cd56b5ae2acfd2d33b58548_train.csv  \n",
            "  inflating: 0403/5cd56b5ae2acfd2d33b58544_test.csv  \n",
            "  inflating: 0403/5da1382d4db8ce0c98bbe92e_test.csv  \n",
            "  inflating: 0403/5d2709c303f801723c3299ee_test.csv  \n",
            "  inflating: 0403/5d27099f03f801723c32511d_train.csv  \n",
            "  inflating: 0403/5da958dd46f8266d0737457b_test.csv  \n",
            "  inflating: 0403/5d2709d403f801723c32bd39_test.csv  \n",
            "  inflating: 0403/5cd56b5ae2acfd2d33b5854a_train.csv  \n",
            "  inflating: 0403/5d2709a003f801723c3251bf_test.csv  \n",
            "  inflating: 0403/5da1383b4db8ce0c98bc11ab_train.csv  \n",
            "  inflating: 0403/5d2709a003f801723c3251bf_train.csv  \n",
            "  inflating: 0403/5da1382d4db8ce0c98bbe92e_train.csv  \n",
            "  inflating: 0403/5d2709d403f801723c32bd39_train.csv  \n",
            "  inflating: 0403/5cd56b5ae2acfd2d33b58544_train.csv  \n",
            "  inflating: 0403/5cd56b6ae2acfd2d33b59ccb_test.csv  \n",
            "  inflating: 0403/5d2709b303f801723c327472_test.csv  \n",
            "  inflating: 0403/5d2709c303f801723c3299ee_train.csv  \n",
            "  inflating: 0403/5d2709bb03f801723c32852c_test.csv  \n",
            "  inflating: 0403/5d27075f03f801723c2e360f_test.csv  \n",
            "  inflating: 0403/5da958dd46f8266d0737457b_train.csv  \n",
            "  inflating: 0403/5d27096c03f801723c31e5e0_train.csv  \n",
            "  inflating: 0403/5d2709b303f801723c327472_train.csv  \n",
            "  inflating: 0403/5da138b74db8ce0c98bd4774_train.csv  \n",
            "  inflating: 0403/5d2709bb03f801723c32852c_train.csv  \n",
            "  inflating: 0403/5cd56b6ae2acfd2d33b59ccb_train.csv  \n",
            "  inflating: 0403/5da138b74db8ce0c98bd4774_test.csv  \n",
            "  inflating: 0403/5d27075f03f801723c2e360f_train.csv  \n",
            "  inflating: 0403/5da1382d4db8ce0c98bbe92e_test.xlsx  \n"
          ],
          "name": "stdout"
        }
      ]
    },
    {
      "cell_type": "code",
      "metadata": {
        "id": "bFKsnitz-hOx"
      },
      "source": [
        "import numpy as np\n",
        "import pandas as pd\n",
        "import scipy.stats as stats\n",
        "from pathlib import Path\n",
        "import glob\n",
        "\n",
        "from sklearn.model_selection import KFold\n",
        "import lightgbm as lgb\n",
        "\n",
        "import psutil\n",
        "import random\n",
        "import os\n",
        "import time\n",
        "import sys\n",
        "import math\n",
        "from contextlib import contextmanager\n",
        "\n",
        "# 10-fold cross validation\n",
        "N_SPLITS = 10 \n",
        "\n",
        "# set random seed \n",
        "SEED = 42\n",
        "\n",
        "@contextmanager\n",
        "# get training time for each fold \n",
        "def timer(name: str):\n",
        "    t0 = time.time()\n",
        "    p = psutil.Process(os.getpid())\n",
        "    m0 = p.memory_info()[0] / 2. ** 30\n",
        "    try:\n",
        "        yield\n",
        "    finally:\n",
        "        m1 = p.memory_info()[0] / 2. ** 30\n",
        "        delta = m1 - m0\n",
        "        sign = '+' if delta >= 0 else '-'\n",
        "        delta = math.fabs(delta)\n",
        "        print(f\"[{m1:.1f}GB({sign}{delta:.1f}GB): {time.time() - t0:.3f}sec] {name}\", file=sys.stderr)\n",
        "\n",
        "\n",
        "def set_seed(seed=42):\n",
        "    random.seed(seed)\n",
        "    os.environ[\"PYTHONHASHSEED\"] = str(seed)\n",
        "    np.random.seed(seed)\n",
        "    \n",
        "# MSE - evaluation metric\n",
        "def comp_metric(xhat, yhat, fhat, x, y, f):\n",
        "    intermediate = np.sqrt(np.power(xhat-x, 2) + np.power(yhat-y, 2)) + 15 * np.abs(fhat-f)\n",
        "    return intermediate.sum()/xhat.shape[0]\n",
        "\n",
        "\n",
        "\n",
        "\n",
        "\n",
        "set_seed(SEED)\n",
        "\n",
        "# read training and test files \n",
        "feature_dir = './*/'\n",
        "train_files = sorted(glob.glob(os.path.join(feature_dir, '*_train.csv')))\n",
        "test_files = sorted(glob.glob(os.path.join(feature_dir, '*_test.csv')))\n",
        "\n",
        "# parameters for the three LightGBM models\n",
        "# x and y model \n",
        "lgb_params = {'objective': 'root_mean_squared_error',\n",
        "              'boosting_type': 'gbdt',\n",
        "              'n_estimators': 50000,\n",
        "              'learning_rate': 0.05,\n",
        "              'num_leaves': 90,\n",
        "              'device': 'gpu',\n",
        "              'colsample_bytree': 0.4,\n",
        "              'subsample': 0.6,\n",
        "              'subsample_freq': 2,\n",
        "              'bagging_seed': SEED,\n",
        "              'reg_alpha': 2,\n",
        "              'reg_lambda': 2,\n",
        "              'random_state': SEED,\n",
        "              'n_jobs': -1\n",
        "              }\n",
        "\n",
        "# f model \n",
        "lgb_f_params = {'objective': 'multiclass',\n",
        "                'boosting_type': 'gbdt',\n",
        "                'n_estimators': 50000,\n",
        "                'learning_rate': 0.05,\n",
        "                'num_leaves': 90,\n",
        "                'device': 'gpu',\n",
        "                'colsample_bytree': 0.4,\n",
        "                'subsample': 0.6,\n",
        "                'subsample_freq': 2,\n",
        "                'bagging_seed': SEED,\n",
        "                'reg_alpha': 10,\n",
        "                'reg_lambda': 2,\n",
        "                'random_state': SEED,\n",
        "                'n_jobs': -1\n",
        "                }"
      ],
      "execution_count": 4,
      "outputs": []
    },
    {
      "cell_type": "markdown",
      "metadata": {
        "id": "5aHThFmXqdWh"
      },
      "source": [
        "# Calculate all data"
      ]
    },
    {
      "cell_type": "code",
      "metadata": {
        "id": "fU_ag5yp_qEw",
        "colab": {
          "base_uri": "https://localhost:8080/"
        },
        "outputId": "9e1cab0f-e522-4cdf-e344-3b1671bc76fd"
      },
      "source": [
        "\n",
        "for n_files, file in enumerate(train_files):\n",
        "    data = pd.read_csv(file, index_col=0)\n",
        "    test_data = pd.read_csv(test_files[n_files], index_col=0)\n",
        "\n",
        "    # initialize three arrays for x, y and f to store predictions on validation set\n",
        "    oof_x, oof_y, oof_f = np.zeros(data.shape[0]), np.zeros(data.shape[0]), np.zeros(data.shape[0])\n",
        "    \n",
        "    # temporary variable to store x and y prediction on test set \n",
        "    preds_x, preds_y = 0, 0\n",
        "    \n",
        "    # an array to store f predictions on test set for each fold\n",
        "    preds_f_arr = np.zeros((test_data.shape[0], N_SPLITS))\n",
        "    \n",
        "    print(\"Starting to train: \", os.path.basename(file))\n",
        "    kf = KFold(n_splits=N_SPLITS, shuffle=True, random_state=SEED)\n",
        "    for fold, (trn_idx, val_idx) in enumerate(kf.split(data.iloc[:, :-4])):\n",
        "        X_train = data.iloc[trn_idx, :-5] # all wifi signal info for training \n",
        "        y_trainx = data.iloc[trn_idx, -5] # true x coordinate for training \n",
        "        y_trainy = data.iloc[trn_idx, -4] # true y coordinate for training \n",
        "        y_trainf = data.iloc[trn_idx, -3] # true f for training \n",
        "\n",
        "        X_valid = data.iloc[val_idx, :-5] # all wifi signal info for validation set\n",
        "        y_validx = data.iloc[val_idx, -5] # true x coordinate for validation \n",
        "        y_validy = data.iloc[val_idx, -4] # true y coordinate for validation \n",
        "        y_validf = data.iloc[val_idx, -3] # true f for validation \n",
        "\n",
        "        modelx = lgb.LGBMRegressor(**lgb_params) # model selected, which is LightGBM\n",
        "        with timer(\"fit X\"):\n",
        "            modelx.fit(X_train, y_trainx,\n",
        "                       eval_set=[(X_valid, y_validx)],\n",
        "                       eval_metric='rmse',\n",
        "                       verbose=False,\n",
        "                       early_stopping_rounds=20\n",
        "                       ) # Model 1, used to predit X location only\n",
        "\n",
        "        modely = lgb.LGBMRegressor(**lgb_params)\n",
        "        with timer(\"fit Y\"):\n",
        "            modely.fit(X_train, y_trainy,\n",
        "                       eval_set=[(X_valid, y_validy)],\n",
        "                       eval_metric='rmse',\n",
        "                       verbose=False,\n",
        "                       early_stopping_rounds=20\n",
        "                       ) # Model 2, used to predit Y location only\n",
        "\n",
        "        modelf = lgb.LGBMClassifier(**lgb_f_params)\n",
        "        with timer(\"fit F\"):\n",
        "            modelf.fit(X_train, y_trainf,\n",
        "                       eval_set=[(X_valid, y_validf)],\n",
        "                       eval_metric='multi_logloss',\n",
        "                       verbose=False,\n",
        "                       early_stopping_rounds=20\n",
        "                       ) # Model 3, used to predit Floor location only\n",
        "\n",
        "        oof_x[val_idx] = modelx.predict(X_valid)\n",
        "        oof_y[val_idx] = modely.predict(X_valid)\n",
        "        oof_f[val_idx] = modelf.predict(X_valid).astype(int)\n",
        "\n",
        "        # for x and y, average the result of each folds, divide every result by n_splits, and add them together\n",
        "        preds_x += modelx.predict(test_data.iloc[:, :-5]) / N_SPLITS \n",
        "        preds_y += modely.predict(test_data.iloc[:, :-5]) / N_SPLITS\n",
        "        \n",
        "        # store floor predictions \n",
        "        preds_f_arr[:, fold] = modelf.predict(test_data.iloc[:, :-5]).astype(int)\n",
        "           \n",
        "        # compute MSE for validation set at current fold \n",
        "        score = comp_metric(oof_x[val_idx], oof_y[val_idx], oof_f[val_idx],\n",
        "                            y_validx.to_numpy(), y_validy.to_numpy(), y_validf.to_numpy())\n",
        "      \n",
        "        print(f\"fold {fold}: mean position error {score}\")\n",
        "\n",
        "\n",
        "    # evaluate MSE of each file\n",
        "    print(\"*+\"*40)\n",
        "    print(f\"file #{n_files}, shape={data.shape}, name={os.path.basename(file)}\")\n",
        "    score = comp_metric(oof_x, oof_y, oof_f,\n",
        "                        data.iloc[:, -5].to_numpy(), data.iloc[:, -4].to_numpy(), data.iloc[:, -3].to_numpy())\n",
        "    \n",
        "    print(f\"mean position error {score}\")\n",
        "    print(\"*+\"*40)\n",
        "\n",
        "    # the floor is dealt differently, vote to choose the most appeared floor number in all folds\n",
        "    preds_f_mode = stats.mode(preds_f_arr, axis=1)\n",
        "    preds_f = preds_f_mode[0].astype(int).reshape(-1)\n",
        "    \n",
        "    # stack all the predictions together, and transpose to vertical\n",
        "    test_preds = pd.DataFrame(np.stack((preds_f, preds_x, preds_y))).T\n",
        "    \n",
        "    column_num = len(test_data.columns)\n",
        "    test_data = test_data.reset_index()\n",
        "\n",
        "    # insert all the predictions to test file\n",
        "    test_data.insert(column_num, 'pred_x', test_preds[1], True)\n",
        "    test_data.insert(column_num+1, 'pred_y', test_preds[2], True)\n",
        "    test_data.insert(column_num+2, 'pred_f', test_preds[0], True) \n",
        "\n",
        "    building_name = file[7:-10] + '.csv'\n",
        "\n",
        "    test_data.to_csv(building_name)\n",
        "\n",
        "print(\"*+\"*40)\n"
      ],
      "execution_count": 5,
      "outputs": [
        {
          "output_type": "stream",
          "text": [
            "Starting to train:  5cd56b5ae2acfd2d33b58544_train.csv\n"
          ],
          "name": "stdout"
        },
        {
          "output_type": "stream",
          "text": [
            "[0.3GB(+0.1GB): 8.217sec] fit X\n",
            "[0.3GB(+0.0GB): 2.489sec] fit Y\n",
            "[0.3GB(+0.0GB): 7.443sec] fit F\n"
          ],
          "name": "stderr"
        },
        {
          "output_type": "stream",
          "text": [
            "fold 0: mean position error 2.712883407509078\n"
          ],
          "name": "stdout"
        },
        {
          "output_type": "stream",
          "text": [
            "[0.3GB(+0.0GB): 2.735sec] fit X\n",
            "[0.3GB(+0.0GB): 4.058sec] fit Y\n",
            "[0.3GB(+0.0GB): 3.952sec] fit F\n"
          ],
          "name": "stderr"
        },
        {
          "output_type": "stream",
          "text": [
            "fold 1: mean position error 2.2441588290501167\n"
          ],
          "name": "stdout"
        },
        {
          "output_type": "stream",
          "text": [
            "[0.3GB(+0.0GB): 4.817sec] fit X\n",
            "[0.3GB(+0.0GB): 3.385sec] fit Y\n",
            "[0.3GB(+0.0GB): 1.298sec] fit F\n"
          ],
          "name": "stderr"
        },
        {
          "output_type": "stream",
          "text": [
            "fold 2: mean position error 2.5418044967706757\n"
          ],
          "name": "stdout"
        },
        {
          "output_type": "stream",
          "text": [
            "[0.3GB(+0.0GB): 2.978sec] fit X\n",
            "[0.3GB(+0.0GB): 2.420sec] fit Y\n",
            "[0.3GB(+0.0GB): 4.907sec] fit F\n"
          ],
          "name": "stderr"
        },
        {
          "output_type": "stream",
          "text": [
            "fold 3: mean position error 2.481275274159956\n"
          ],
          "name": "stdout"
        },
        {
          "output_type": "stream",
          "text": [
            "[0.3GB(+0.0GB): 2.377sec] fit X\n",
            "[0.3GB(+0.0GB): 4.133sec] fit Y\n",
            "[0.3GB(+0.0GB): 3.507sec] fit F\n"
          ],
          "name": "stderr"
        },
        {
          "output_type": "stream",
          "text": [
            "fold 4: mean position error 2.4021250723867675\n"
          ],
          "name": "stdout"
        },
        {
          "output_type": "stream",
          "text": [
            "[0.3GB(+0.0GB): 3.587sec] fit X\n",
            "[0.3GB(+0.0GB): 2.967sec] fit Y\n",
            "[0.3GB(+0.0GB): 2.926sec] fit F\n"
          ],
          "name": "stderr"
        },
        {
          "output_type": "stream",
          "text": [
            "fold 5: mean position error 2.307334496897666\n"
          ],
          "name": "stdout"
        },
        {
          "output_type": "stream",
          "text": [
            "[0.3GB(+0.0GB): 4.431sec] fit X\n",
            "[0.3GB(+0.0GB): 3.611sec] fit Y\n",
            "[0.3GB(+0.0GB): 2.165sec] fit F\n"
          ],
          "name": "stderr"
        },
        {
          "output_type": "stream",
          "text": [
            "fold 6: mean position error 2.793008728918626\n"
          ],
          "name": "stdout"
        },
        {
          "output_type": "stream",
          "text": [
            "[0.3GB(+0.0GB): 5.145sec] fit X\n",
            "[0.3GB(+0.0GB): 3.777sec] fit Y\n",
            "[0.3GB(+0.0GB): 4.755sec] fit F\n"
          ],
          "name": "stderr"
        },
        {
          "output_type": "stream",
          "text": [
            "fold 7: mean position error 2.4972759537125904\n"
          ],
          "name": "stdout"
        },
        {
          "output_type": "stream",
          "text": [
            "[0.3GB(+0.0GB): 2.211sec] fit X\n",
            "[0.3GB(+0.0GB): 3.938sec] fit Y\n",
            "[0.3GB(+0.0GB): 5.319sec] fit F\n"
          ],
          "name": "stderr"
        },
        {
          "output_type": "stream",
          "text": [
            "fold 8: mean position error 2.738359921574511\n"
          ],
          "name": "stdout"
        },
        {
          "output_type": "stream",
          "text": [
            "[0.3GB(+0.0GB): 3.677sec] fit X\n",
            "[0.3GB(+0.0GB): 2.372sec] fit Y\n",
            "[0.3GB(+0.0GB): 2.402sec] fit F\n"
          ],
          "name": "stderr"
        },
        {
          "output_type": "stream",
          "text": [
            "fold 9: mean position error 2.9960638929113945\n",
            "*+*+*+*+*+*+*+*+*+*+*+*+*+*+*+*+*+*+*+*+*+*+*+*+*+*+*+*+*+*+*+*+*+*+*+*+*+*+*+*+\n",
            "file #0, shape=(2313, 85), name=5cd56b5ae2acfd2d33b58544_train.csv\n",
            "mean position error 2.5713358641600688\n",
            "*+*+*+*+*+*+*+*+*+*+*+*+*+*+*+*+*+*+*+*+*+*+*+*+*+*+*+*+*+*+*+*+*+*+*+*+*+*+*+*+\n",
            "Starting to train:  5cd56b5ae2acfd2d33b58546_train.csv\n"
          ],
          "name": "stdout"
        },
        {
          "output_type": "stream",
          "text": [
            "[0.3GB(+0.0GB): 5.487sec] fit X\n",
            "[0.3GB(+0.0GB): 2.244sec] fit Y\n",
            "[0.3GB(+0.0GB): 7.829sec] fit F\n"
          ],
          "name": "stderr"
        },
        {
          "output_type": "stream",
          "text": [
            "fold 0: mean position error 5.982670913477214\n"
          ],
          "name": "stdout"
        },
        {
          "output_type": "stream",
          "text": [
            "[0.4GB(+0.0GB): 3.994sec] fit X\n",
            "[0.4GB(+0.0GB): 2.941sec] fit Y\n",
            "[0.4GB(+0.0GB): 8.621sec] fit F\n"
          ],
          "name": "stderr"
        },
        {
          "output_type": "stream",
          "text": [
            "fold 1: mean position error 4.690250232622622\n"
          ],
          "name": "stdout"
        },
        {
          "output_type": "stream",
          "text": [
            "[0.4GB(+0.0GB): 6.198sec] fit X\n",
            "[0.4GB(+0.0GB): 4.297sec] fit Y\n",
            "[0.4GB(+0.0GB): 6.419sec] fit F\n"
          ],
          "name": "stderr"
        },
        {
          "output_type": "stream",
          "text": [
            "fold 2: mean position error 4.900956688823168\n"
          ],
          "name": "stdout"
        },
        {
          "output_type": "stream",
          "text": [
            "[0.4GB(+0.0GB): 8.060sec] fit X\n",
            "[0.4GB(+0.0GB): 1.252sec] fit Y\n",
            "[0.4GB(+0.0GB): 4.355sec] fit F\n"
          ],
          "name": "stderr"
        },
        {
          "output_type": "stream",
          "text": [
            "fold 3: mean position error 5.542652408152669\n"
          ],
          "name": "stdout"
        },
        {
          "output_type": "stream",
          "text": [
            "[0.4GB(+0.0GB): 5.656sec] fit X\n",
            "[0.4GB(+0.0GB): 2.573sec] fit Y\n",
            "[0.4GB(+0.0GB): 3.545sec] fit F\n"
          ],
          "name": "stderr"
        },
        {
          "output_type": "stream",
          "text": [
            "fold 4: mean position error 4.965093564011035\n"
          ],
          "name": "stdout"
        },
        {
          "output_type": "stream",
          "text": [
            "[0.4GB(+0.0GB): 5.646sec] fit X\n",
            "[0.4GB(+0.0GB): 3.881sec] fit Y\n",
            "[0.4GB(+0.0GB): 4.763sec] fit F\n"
          ],
          "name": "stderr"
        },
        {
          "output_type": "stream",
          "text": [
            "fold 5: mean position error 4.220894912420461\n"
          ],
          "name": "stdout"
        },
        {
          "output_type": "stream",
          "text": [
            "[0.4GB(+0.0GB): 3.795sec] fit X\n",
            "[0.4GB(+0.0GB): 3.858sec] fit Y\n",
            "[0.4GB(+0.0GB): 8.785sec] fit F\n"
          ],
          "name": "stderr"
        },
        {
          "output_type": "stream",
          "text": [
            "fold 6: mean position error 6.1731855610200315\n"
          ],
          "name": "stdout"
        },
        {
          "output_type": "stream",
          "text": [
            "[0.4GB(+0.0GB): 5.580sec] fit X\n",
            "[0.4GB(+0.0GB): 4.040sec] fit Y\n",
            "[0.4GB(+0.0GB): 7.756sec] fit F\n"
          ],
          "name": "stderr"
        },
        {
          "output_type": "stream",
          "text": [
            "fold 7: mean position error 4.562530820772448\n"
          ],
          "name": "stdout"
        },
        {
          "output_type": "stream",
          "text": [
            "[0.4GB(+0.0GB): 3.417sec] fit X\n",
            "[0.4GB(+0.0GB): 4.133sec] fit Y\n",
            "[0.4GB(+0.0GB): 4.668sec] fit F\n"
          ],
          "name": "stderr"
        },
        {
          "output_type": "stream",
          "text": [
            "fold 8: mean position error 5.1520202358746205\n"
          ],
          "name": "stdout"
        },
        {
          "output_type": "stream",
          "text": [
            "[0.4GB(+0.0GB): 6.068sec] fit X\n",
            "[0.4GB(+0.0GB): 3.206sec] fit Y\n",
            "[0.4GB(+0.0GB): 6.884sec] fit F\n"
          ],
          "name": "stderr"
        },
        {
          "output_type": "stream",
          "text": [
            "fold 9: mean position error 6.384542347867893\n",
            "*+*+*+*+*+*+*+*+*+*+*+*+*+*+*+*+*+*+*+*+*+*+*+*+*+*+*+*+*+*+*+*+*+*+*+*+*+*+*+*+\n",
            "file #1, shape=(3747, 149), name=5cd56b5ae2acfd2d33b58546_train.csv\n",
            "mean position error 5.257392591002482\n",
            "*+*+*+*+*+*+*+*+*+*+*+*+*+*+*+*+*+*+*+*+*+*+*+*+*+*+*+*+*+*+*+*+*+*+*+*+*+*+*+*+\n",
            "Starting to train:  5cd56b5ae2acfd2d33b58548_train.csv\n"
          ],
          "name": "stdout"
        },
        {
          "output_type": "stream",
          "text": [
            "[0.4GB(+0.0GB): 1.137sec] fit X\n",
            "[0.4GB(+0.0GB): 2.260sec] fit Y\n",
            "[0.4GB(+0.0GB): 2.947sec] fit F\n"
          ],
          "name": "stderr"
        },
        {
          "output_type": "stream",
          "text": [
            "fold 0: mean position error 4.225194945417165\n"
          ],
          "name": "stdout"
        },
        {
          "output_type": "stream",
          "text": [
            "[0.4GB(+0.0GB): 1.570sec] fit X\n",
            "[0.4GB(+0.0GB): 1.019sec] fit Y\n",
            "[0.4GB(+0.0GB): 4.049sec] fit F\n"
          ],
          "name": "stderr"
        },
        {
          "output_type": "stream",
          "text": [
            "fold 1: mean position error 4.83825468029965\n"
          ],
          "name": "stdout"
        },
        {
          "output_type": "stream",
          "text": [
            "[0.4GB(+0.0GB): 1.007sec] fit X\n",
            "[0.4GB(+0.0GB): 1.630sec] fit Y\n",
            "[0.4GB(+0.0GB): 3.355sec] fit F\n"
          ],
          "name": "stderr"
        },
        {
          "output_type": "stream",
          "text": [
            "fold 2: mean position error 5.161915408350116\n"
          ],
          "name": "stdout"
        },
        {
          "output_type": "stream",
          "text": [
            "[0.4GB(+0.0GB): 1.159sec] fit X\n",
            "[0.4GB(+0.0GB): 0.970sec] fit Y\n",
            "[0.4GB(+0.0GB): 2.502sec] fit F\n"
          ],
          "name": "stderr"
        },
        {
          "output_type": "stream",
          "text": [
            "fold 3: mean position error 5.216134231175198\n"
          ],
          "name": "stdout"
        },
        {
          "output_type": "stream",
          "text": [
            "[0.4GB(+0.0GB): 0.857sec] fit X\n",
            "[0.4GB(+0.0GB): 2.018sec] fit Y\n",
            "[0.4GB(+0.0GB): 2.364sec] fit F\n"
          ],
          "name": "stderr"
        },
        {
          "output_type": "stream",
          "text": [
            "fold 4: mean position error 4.1310867391960615\n"
          ],
          "name": "stdout"
        },
        {
          "output_type": "stream",
          "text": [
            "[0.4GB(+0.0GB): 1.393sec] fit X\n",
            "[0.4GB(+0.0GB): 1.907sec] fit Y\n",
            "[0.4GB(+0.0GB): 3.573sec] fit F\n"
          ],
          "name": "stderr"
        },
        {
          "output_type": "stream",
          "text": [
            "fold 5: mean position error 4.717502630650789\n"
          ],
          "name": "stdout"
        },
        {
          "output_type": "stream",
          "text": [
            "[0.4GB(+0.0GB): 1.390sec] fit X\n",
            "[0.4GB(+0.0GB): 0.910sec] fit Y\n",
            "[0.4GB(+0.0GB): 3.068sec] fit F\n"
          ],
          "name": "stderr"
        },
        {
          "output_type": "stream",
          "text": [
            "fold 6: mean position error 4.697239658549339\n"
          ],
          "name": "stdout"
        },
        {
          "output_type": "stream",
          "text": [
            "[0.4GB(+0.0GB): 0.981sec] fit X\n",
            "[0.4GB(+0.0GB): 2.112sec] fit Y\n",
            "[0.4GB(+0.0GB): 3.839sec] fit F\n"
          ],
          "name": "stderr"
        },
        {
          "output_type": "stream",
          "text": [
            "fold 7: mean position error 4.140540127333558\n"
          ],
          "name": "stdout"
        },
        {
          "output_type": "stream",
          "text": [
            "[0.4GB(+0.0GB): 1.474sec] fit X\n",
            "[0.4GB(+0.0GB): 1.881sec] fit Y\n",
            "[0.4GB(+0.0GB): 2.524sec] fit F\n"
          ],
          "name": "stderr"
        },
        {
          "output_type": "stream",
          "text": [
            "fold 8: mean position error 4.596022086144256\n"
          ],
          "name": "stdout"
        },
        {
          "output_type": "stream",
          "text": [
            "[0.4GB(+0.0GB): 1.281sec] fit X\n",
            "[0.4GB(+0.0GB): 2.177sec] fit Y\n",
            "[0.4GB(+0.0GB): 2.827sec] fit F\n"
          ],
          "name": "stderr"
        },
        {
          "output_type": "stream",
          "text": [
            "fold 9: mean position error 4.45274962853147\n",
            "*+*+*+*+*+*+*+*+*+*+*+*+*+*+*+*+*+*+*+*+*+*+*+*+*+*+*+*+*+*+*+*+*+*+*+*+*+*+*+*+\n",
            "file #2, shape=(704, 48), name=5cd56b5ae2acfd2d33b58548_train.csv\n",
            "mean position error 4.619043052216725\n",
            "*+*+*+*+*+*+*+*+*+*+*+*+*+*+*+*+*+*+*+*+*+*+*+*+*+*+*+*+*+*+*+*+*+*+*+*+*+*+*+*+\n",
            "Starting to train:  5cd56b5ae2acfd2d33b58549_train.csv\n"
          ],
          "name": "stdout"
        },
        {
          "output_type": "stream",
          "text": [
            "[0.4GB(+0.0GB): 3.254sec] fit X\n",
            "[0.4GB(+0.0GB): 3.111sec] fit Y\n",
            "[0.4GB(+0.0GB): 3.138sec] fit F\n"
          ],
          "name": "stderr"
        },
        {
          "output_type": "stream",
          "text": [
            "fold 0: mean position error 9.90248013117312\n"
          ],
          "name": "stdout"
        },
        {
          "output_type": "stream",
          "text": [
            "[0.4GB(+0.0GB): 1.133sec] fit X\n",
            "[0.4GB(+0.0GB): 1.176sec] fit Y\n",
            "[0.4GB(+0.0GB): 3.602sec] fit F\n"
          ],
          "name": "stderr"
        },
        {
          "output_type": "stream",
          "text": [
            "fold 1: mean position error 13.764035060850189\n"
          ],
          "name": "stdout"
        },
        {
          "output_type": "stream",
          "text": [
            "[0.4GB(+0.0GB): 1.632sec] fit X\n",
            "[0.4GB(+0.0GB): 2.907sec] fit Y\n",
            "[0.4GB(+0.0GB): 5.157sec] fit F\n"
          ],
          "name": "stderr"
        },
        {
          "output_type": "stream",
          "text": [
            "fold 2: mean position error 11.848864825861025\n"
          ],
          "name": "stdout"
        },
        {
          "output_type": "stream",
          "text": [
            "[0.4GB(+0.0GB): 2.365sec] fit X\n",
            "[0.4GB(+0.0GB): 2.436sec] fit Y\n",
            "[0.4GB(+0.0GB): 2.144sec] fit F\n"
          ],
          "name": "stderr"
        },
        {
          "output_type": "stream",
          "text": [
            "fold 3: mean position error 10.575452580808776\n"
          ],
          "name": "stdout"
        },
        {
          "output_type": "stream",
          "text": [
            "[0.4GB(+0.0GB): 3.935sec] fit X\n",
            "[0.4GB(+0.0GB): 4.213sec] fit Y\n",
            "[0.4GB(+0.0GB): 2.107sec] fit F\n"
          ],
          "name": "stderr"
        },
        {
          "output_type": "stream",
          "text": [
            "fold 4: mean position error 11.345032147904991\n"
          ],
          "name": "stdout"
        },
        {
          "output_type": "stream",
          "text": [
            "[0.4GB(+0.0GB): 2.302sec] fit X\n",
            "[0.4GB(+0.0GB): 1.661sec] fit Y\n",
            "[0.4GB(+0.0GB): 5.310sec] fit F\n"
          ],
          "name": "stderr"
        },
        {
          "output_type": "stream",
          "text": [
            "fold 5: mean position error 11.51170714170517\n"
          ],
          "name": "stdout"
        },
        {
          "output_type": "stream",
          "text": [
            "[0.4GB(+0.0GB): 1.700sec] fit X\n",
            "[0.4GB(+0.0GB): 2.444sec] fit Y\n",
            "[0.4GB(+0.0GB): 7.150sec] fit F\n"
          ],
          "name": "stderr"
        },
        {
          "output_type": "stream",
          "text": [
            "fold 6: mean position error 11.149405940138793\n"
          ],
          "name": "stdout"
        },
        {
          "output_type": "stream",
          "text": [
            "[0.4GB(+0.0GB): 2.596sec] fit X\n",
            "[0.4GB(+0.0GB): 1.752sec] fit Y\n",
            "[0.4GB(+0.0GB): 3.046sec] fit F\n"
          ],
          "name": "stderr"
        },
        {
          "output_type": "stream",
          "text": [
            "fold 7: mean position error 12.842178322587722\n"
          ],
          "name": "stdout"
        },
        {
          "output_type": "stream",
          "text": [
            "[0.4GB(+0.0GB): 3.402sec] fit X\n",
            "[0.4GB(+0.0GB): 1.492sec] fit Y\n",
            "[0.4GB(+0.0GB): 1.863sec] fit F\n"
          ],
          "name": "stderr"
        },
        {
          "output_type": "stream",
          "text": [
            "fold 8: mean position error 10.620524130614807\n"
          ],
          "name": "stdout"
        },
        {
          "output_type": "stream",
          "text": [
            "[0.4GB(+0.0GB): 2.443sec] fit X\n",
            "[0.4GB(+0.0GB): 1.888sec] fit Y\n",
            "[0.4GB(+0.0GB): 2.137sec] fit F\n"
          ],
          "name": "stderr"
        },
        {
          "output_type": "stream",
          "text": [
            "fold 9: mean position error 9.858299727391726\n",
            "*+*+*+*+*+*+*+*+*+*+*+*+*+*+*+*+*+*+*+*+*+*+*+*+*+*+*+*+*+*+*+*+*+*+*+*+*+*+*+*+\n",
            "file #3, shape=(2959, 144), name=5cd56b5ae2acfd2d33b58549_train.csv\n",
            "mean position error 11.342299352128205\n",
            "*+*+*+*+*+*+*+*+*+*+*+*+*+*+*+*+*+*+*+*+*+*+*+*+*+*+*+*+*+*+*+*+*+*+*+*+*+*+*+*+\n",
            "Starting to train:  5cd56b5ae2acfd2d33b5854a_train.csv\n"
          ],
          "name": "stdout"
        },
        {
          "output_type": "stream",
          "text": [
            "[0.4GB(+0.0GB): 3.620sec] fit X\n",
            "[0.4GB(+0.0GB): 2.697sec] fit Y\n",
            "[0.4GB(+0.0GB): 2.988sec] fit F\n"
          ],
          "name": "stderr"
        },
        {
          "output_type": "stream",
          "text": [
            "fold 0: mean position error 7.836056301398265\n"
          ],
          "name": "stdout"
        },
        {
          "output_type": "stream",
          "text": [
            "[0.4GB(+0.0GB): 2.172sec] fit X\n",
            "[0.4GB(+0.0GB): 2.142sec] fit Y\n",
            "[0.4GB(+0.0GB): 4.324sec] fit F\n"
          ],
          "name": "stderr"
        },
        {
          "output_type": "stream",
          "text": [
            "fold 1: mean position error 6.883990793632284\n"
          ],
          "name": "stdout"
        },
        {
          "output_type": "stream",
          "text": [
            "[0.4GB(+0.0GB): 6.334sec] fit X\n",
            "[0.4GB(+0.0GB): 2.177sec] fit Y\n",
            "[0.4GB(+0.0GB): 5.671sec] fit F\n"
          ],
          "name": "stderr"
        },
        {
          "output_type": "stream",
          "text": [
            "fold 2: mean position error 7.421948392281655\n"
          ],
          "name": "stdout"
        },
        {
          "output_type": "stream",
          "text": [
            "[0.4GB(+0.0GB): 1.633sec] fit X\n",
            "[0.4GB(+0.0GB): 1.916sec] fit Y\n",
            "[0.4GB(+0.0GB): 4.349sec] fit F\n"
          ],
          "name": "stderr"
        },
        {
          "output_type": "stream",
          "text": [
            "fold 3: mean position error 7.203185381160989\n"
          ],
          "name": "stdout"
        },
        {
          "output_type": "stream",
          "text": [
            "[0.4GB(+0.0GB): 3.023sec] fit X\n",
            "[0.4GB(+0.0GB): 2.662sec] fit Y\n",
            "[0.4GB(+0.0GB): 4.071sec] fit F\n"
          ],
          "name": "stderr"
        },
        {
          "output_type": "stream",
          "text": [
            "fold 4: mean position error 7.326183601214044\n"
          ],
          "name": "stdout"
        },
        {
          "output_type": "stream",
          "text": [
            "[0.4GB(+0.0GB): 2.814sec] fit X\n",
            "[0.4GB(+0.0GB): 1.842sec] fit Y\n",
            "[0.4GB(+0.0GB): 3.106sec] fit F\n"
          ],
          "name": "stderr"
        },
        {
          "output_type": "stream",
          "text": [
            "fold 5: mean position error 7.706594457293409\n"
          ],
          "name": "stdout"
        },
        {
          "output_type": "stream",
          "text": [
            "[0.4GB(+0.0GB): 3.003sec] fit X\n",
            "[0.4GB(+0.0GB): 3.016sec] fit Y\n",
            "[0.4GB(+0.0GB): 4.149sec] fit F\n"
          ],
          "name": "stderr"
        },
        {
          "output_type": "stream",
          "text": [
            "fold 6: mean position error 7.574350909815186\n"
          ],
          "name": "stdout"
        },
        {
          "output_type": "stream",
          "text": [
            "[0.4GB(+0.0GB): 4.357sec] fit X\n",
            "[0.4GB(+0.0GB): 2.845sec] fit Y\n",
            "[0.4GB(+0.0GB): 3.194sec] fit F\n"
          ],
          "name": "stderr"
        },
        {
          "output_type": "stream",
          "text": [
            "fold 7: mean position error 7.3578113725113266\n"
          ],
          "name": "stdout"
        },
        {
          "output_type": "stream",
          "text": [
            "[0.4GB(+0.0GB): 4.873sec] fit X\n",
            "[0.4GB(+0.0GB): 3.150sec] fit Y\n",
            "[0.4GB(+0.0GB): 2.150sec] fit F\n"
          ],
          "name": "stderr"
        },
        {
          "output_type": "stream",
          "text": [
            "fold 8: mean position error 7.662284240807053\n"
          ],
          "name": "stdout"
        },
        {
          "output_type": "stream",
          "text": [
            "[0.4GB(+0.0GB): 2.416sec] fit X\n",
            "[0.4GB(+0.0GB): 2.681sec] fit Y\n",
            "[0.4GB(+0.0GB): 1.705sec] fit F\n"
          ],
          "name": "stderr"
        },
        {
          "output_type": "stream",
          "text": [
            "fold 9: mean position error 7.235313619420182\n",
            "*+*+*+*+*+*+*+*+*+*+*+*+*+*+*+*+*+*+*+*+*+*+*+*+*+*+*+*+*+*+*+*+*+*+*+*+*+*+*+*+\n",
            "file #4, shape=(1713, 87), name=5cd56b5ae2acfd2d33b5854a_train.csv\n",
            "mean position error 7.420701667470923\n",
            "*+*+*+*+*+*+*+*+*+*+*+*+*+*+*+*+*+*+*+*+*+*+*+*+*+*+*+*+*+*+*+*+*+*+*+*+*+*+*+*+\n",
            "Starting to train:  5cd56b6ae2acfd2d33b59c90_train.csv\n"
          ],
          "name": "stdout"
        },
        {
          "output_type": "stream",
          "text": [
            "[0.4GB(+0.0GB): 1.506sec] fit X\n",
            "[0.4GB(+0.0GB): 1.130sec] fit Y\n",
            "[0.4GB(+0.0GB): 4.126sec] fit F\n"
          ],
          "name": "stderr"
        },
        {
          "output_type": "stream",
          "text": [
            "fold 0: mean position error 3.2724964689170712\n"
          ],
          "name": "stdout"
        },
        {
          "output_type": "stream",
          "text": [
            "[0.4GB(+0.0GB): 1.097sec] fit X\n",
            "[0.4GB(+0.0GB): 0.966sec] fit Y\n",
            "[0.4GB(+0.0GB): 3.242sec] fit F\n"
          ],
          "name": "stderr"
        },
        {
          "output_type": "stream",
          "text": [
            "fold 1: mean position error 2.806483304858591\n"
          ],
          "name": "stdout"
        },
        {
          "output_type": "stream",
          "text": [
            "[0.4GB(+0.0GB): 1.587sec] fit X\n",
            "[0.4GB(+0.0GB): 3.130sec] fit Y\n",
            "[0.4GB(+0.0GB): 3.363sec] fit F\n"
          ],
          "name": "stderr"
        },
        {
          "output_type": "stream",
          "text": [
            "fold 2: mean position error 3.108375178219762\n"
          ],
          "name": "stdout"
        },
        {
          "output_type": "stream",
          "text": [
            "[0.4GB(+0.0GB): 2.224sec] fit X\n",
            "[0.4GB(+0.0GB): 1.971sec] fit Y\n",
            "[0.4GB(+0.0GB): 3.197sec] fit F\n"
          ],
          "name": "stderr"
        },
        {
          "output_type": "stream",
          "text": [
            "fold 3: mean position error 2.530030416933223\n"
          ],
          "name": "stdout"
        },
        {
          "output_type": "stream",
          "text": [
            "[0.4GB(+0.0GB): 1.123sec] fit X\n",
            "[0.4GB(+0.0GB): 2.279sec] fit Y\n",
            "[0.4GB(+0.0GB): 3.181sec] fit F\n"
          ],
          "name": "stderr"
        },
        {
          "output_type": "stream",
          "text": [
            "fold 4: mean position error 2.649499187865827\n"
          ],
          "name": "stdout"
        },
        {
          "output_type": "stream",
          "text": [
            "[0.4GB(+0.0GB): 2.109sec] fit X\n",
            "[0.4GB(+0.0GB): 1.267sec] fit Y\n",
            "[0.4GB(+0.0GB): 3.205sec] fit F\n"
          ],
          "name": "stderr"
        },
        {
          "output_type": "stream",
          "text": [
            "fold 5: mean position error 2.8171085700159244\n"
          ],
          "name": "stdout"
        },
        {
          "output_type": "stream",
          "text": [
            "[0.4GB(+0.0GB): 1.464sec] fit X\n",
            "[0.4GB(+0.0GB): 1.878sec] fit Y\n",
            "[0.4GB(+0.0GB): 3.219sec] fit F\n"
          ],
          "name": "stderr"
        },
        {
          "output_type": "stream",
          "text": [
            "fold 6: mean position error 2.4007399680353037\n"
          ],
          "name": "stdout"
        },
        {
          "output_type": "stream",
          "text": [
            "[0.4GB(+0.0GB): 1.511sec] fit X\n",
            "[0.4GB(+0.0GB): 1.379sec] fit Y\n",
            "[0.4GB(+0.0GB): 4.517sec] fit F\n"
          ],
          "name": "stderr"
        },
        {
          "output_type": "stream",
          "text": [
            "fold 7: mean position error 2.8537451221381818\n"
          ],
          "name": "stdout"
        },
        {
          "output_type": "stream",
          "text": [
            "[0.4GB(+0.0GB): 0.892sec] fit X\n",
            "[0.4GB(+0.0GB): 0.977sec] fit Y\n",
            "[0.4GB(+0.0GB): 2.626sec] fit F\n"
          ],
          "name": "stderr"
        },
        {
          "output_type": "stream",
          "text": [
            "fold 8: mean position error 2.967768484878983\n"
          ],
          "name": "stdout"
        },
        {
          "output_type": "stream",
          "text": [
            "[0.4GB(+0.0GB): 1.629sec] fit X\n",
            "[0.4GB(+0.0GB): 0.892sec] fit Y\n",
            "[0.4GB(+0.0GB): 3.625sec] fit F\n"
          ],
          "name": "stderr"
        },
        {
          "output_type": "stream",
          "text": [
            "fold 9: mean position error 2.7008851073664655\n",
            "*+*+*+*+*+*+*+*+*+*+*+*+*+*+*+*+*+*+*+*+*+*+*+*+*+*+*+*+*+*+*+*+*+*+*+*+*+*+*+*+\n",
            "file #5, shape=(1118, 40), name=5cd56b6ae2acfd2d33b59c90_train.csv\n",
            "mean position error 2.8106709383197135\n",
            "*+*+*+*+*+*+*+*+*+*+*+*+*+*+*+*+*+*+*+*+*+*+*+*+*+*+*+*+*+*+*+*+*+*+*+*+*+*+*+*+\n",
            "Starting to train:  5cd56b6ae2acfd2d33b59ccb_train.csv\n"
          ],
          "name": "stdout"
        },
        {
          "output_type": "stream",
          "text": [
            "[2.2GB(+0.3GB): 75.448sec] fit X\n",
            "[2.3GB(+0.0GB): 103.164sec] fit Y\n",
            "[2.3GB(+0.0GB): 66.873sec] fit F\n"
          ],
          "name": "stderr"
        },
        {
          "output_type": "stream",
          "text": [
            "fold 0: mean position error 4.4501309896240615\n"
          ],
          "name": "stdout"
        },
        {
          "output_type": "stream",
          "text": [
            "[2.6GB(+0.1GB): 79.753sec] fit X\n",
            "[2.6GB(+0.0GB): 132.708sec] fit Y\n",
            "[2.6GB(+0.0GB): 120.503sec] fit F\n"
          ],
          "name": "stderr"
        },
        {
          "output_type": "stream",
          "text": [
            "fold 1: mean position error 4.84649228785458\n"
          ],
          "name": "stdout"
        },
        {
          "output_type": "stream",
          "text": [
            "[2.6GB(+0.0GB): 61.713sec] fit X\n",
            "[2.6GB(+0.0GB): 61.871sec] fit Y\n",
            "[2.6GB(+0.0GB): 325.391sec] fit F\n"
          ],
          "name": "stderr"
        },
        {
          "output_type": "stream",
          "text": [
            "fold 2: mean position error 4.794329679480796\n"
          ],
          "name": "stdout"
        },
        {
          "output_type": "stream",
          "text": [
            "[2.7GB(+0.1GB): 59.826sec] fit X\n",
            "[2.8GB(+0.1GB): 71.709sec] fit Y\n",
            "[2.8GB(+0.0GB): 175.335sec] fit F\n"
          ],
          "name": "stderr"
        },
        {
          "output_type": "stream",
          "text": [
            "fold 3: mean position error 5.0588663185452045\n"
          ],
          "name": "stdout"
        },
        {
          "output_type": "stream",
          "text": [
            "[2.8GB(+0.0GB): 45.847sec] fit X\n",
            "[2.8GB(+0.0GB): 93.729sec] fit Y\n",
            "[2.8GB(+0.0GB): 206.276sec] fit F\n"
          ],
          "name": "stderr"
        },
        {
          "output_type": "stream",
          "text": [
            "fold 4: mean position error 5.1704867009507245\n"
          ],
          "name": "stdout"
        },
        {
          "output_type": "stream",
          "text": [
            "[2.8GB(+0.0GB): 52.842sec] fit X\n",
            "[2.8GB(+0.0GB): 39.632sec] fit Y\n",
            "[2.8GB(+0.0GB): 142.919sec] fit F\n"
          ],
          "name": "stderr"
        },
        {
          "output_type": "stream",
          "text": [
            "fold 5: mean position error 5.3060969506470865\n"
          ],
          "name": "stdout"
        },
        {
          "output_type": "stream",
          "text": [
            "[2.8GB(+0.0GB): 51.800sec] fit X\n",
            "[2.8GB(+0.0GB): 98.717sec] fit Y\n",
            "[2.8GB(+0.0GB): 123.028sec] fit F\n"
          ],
          "name": "stderr"
        },
        {
          "output_type": "stream",
          "text": [
            "fold 6: mean position error 5.126871606393246\n"
          ],
          "name": "stdout"
        },
        {
          "output_type": "stream",
          "text": [
            "[2.8GB(+0.0GB): 49.202sec] fit X\n",
            "[2.8GB(+0.0GB): 105.982sec] fit Y\n",
            "[2.8GB(+0.0GB): 205.004sec] fit F\n"
          ],
          "name": "stderr"
        },
        {
          "output_type": "stream",
          "text": [
            "fold 7: mean position error 4.905627759991667\n"
          ],
          "name": "stdout"
        },
        {
          "output_type": "stream",
          "text": [
            "[2.8GB(+0.0GB): 78.424sec] fit X\n",
            "[2.8GB(+0.0GB): 62.216sec] fit Y\n",
            "[2.8GB(+0.0GB): 302.586sec] fit F\n"
          ],
          "name": "stderr"
        },
        {
          "output_type": "stream",
          "text": [
            "fold 8: mean position error 5.00607844937129\n"
          ],
          "name": "stdout"
        },
        {
          "output_type": "stream",
          "text": [
            "[2.8GB(+0.0GB): 80.381sec] fit X\n",
            "[2.8GB(+0.0GB): 99.983sec] fit Y\n",
            "[2.8GB(+0.0GB): 98.941sec] fit F\n"
          ],
          "name": "stderr"
        },
        {
          "output_type": "stream",
          "text": [
            "fold 9: mean position error 4.6922743912882146\n",
            "*+*+*+*+*+*+*+*+*+*+*+*+*+*+*+*+*+*+*+*+*+*+*+*+*+*+*+*+*+*+*+*+*+*+*+*+*+*+*+*+\n",
            "file #6, shape=(20805, 1856), name=5cd56b6ae2acfd2d33b59ccb_train.csv\n",
            "mean position error 4.935708290555248\n",
            "*+*+*+*+*+*+*+*+*+*+*+*+*+*+*+*+*+*+*+*+*+*+*+*+*+*+*+*+*+*+*+*+*+*+*+*+*+*+*+*+\n",
            "Starting to train:  5cd56b6ae2acfd2d33b59ccc_train.csv\n"
          ],
          "name": "stdout"
        },
        {
          "output_type": "stream",
          "text": [
            "[2.8GB(+0.0GB): 9.501sec] fit X\n",
            "[2.8GB(+0.0GB): 6.991sec] fit Y\n",
            "[2.8GB(+0.0GB): 39.195sec] fit F\n"
          ],
          "name": "stderr"
        },
        {
          "output_type": "stream",
          "text": [
            "fold 0: mean position error 3.755949434492712\n"
          ],
          "name": "stdout"
        },
        {
          "output_type": "stream",
          "text": [
            "[2.8GB(+0.0GB): 6.605sec] fit X\n",
            "[2.8GB(+0.0GB): 8.814sec] fit Y\n",
            "[2.8GB(+0.0GB): 47.454sec] fit F\n"
          ],
          "name": "stderr"
        },
        {
          "output_type": "stream",
          "text": [
            "fold 1: mean position error 3.883196571586611\n"
          ],
          "name": "stdout"
        },
        {
          "output_type": "stream",
          "text": [
            "[2.8GB(+0.0GB): 8.260sec] fit X\n",
            "[2.8GB(+0.0GB): 7.559sec] fit Y\n",
            "[2.8GB(+0.0GB): 51.766sec] fit F\n"
          ],
          "name": "stderr"
        },
        {
          "output_type": "stream",
          "text": [
            "fold 2: mean position error 3.84281662884109\n"
          ],
          "name": "stdout"
        },
        {
          "output_type": "stream",
          "text": [
            "[2.8GB(+0.0GB): 9.840sec] fit X\n",
            "[2.8GB(+0.0GB): 10.384sec] fit Y\n",
            "[2.8GB(+0.0GB): 26.314sec] fit F\n"
          ],
          "name": "stderr"
        },
        {
          "output_type": "stream",
          "text": [
            "fold 3: mean position error 3.3368408369458664\n"
          ],
          "name": "stdout"
        },
        {
          "output_type": "stream",
          "text": [
            "[2.8GB(+0.0GB): 7.008sec] fit X\n",
            "[2.8GB(+0.0GB): 7.714sec] fit Y\n",
            "[2.8GB(+0.0GB): 45.423sec] fit F\n"
          ],
          "name": "stderr"
        },
        {
          "output_type": "stream",
          "text": [
            "fold 4: mean position error 3.4241145206449772\n"
          ],
          "name": "stdout"
        },
        {
          "output_type": "stream",
          "text": [
            "[2.8GB(+0.0GB): 7.304sec] fit X\n",
            "[2.8GB(+0.0GB): 7.472sec] fit Y\n",
            "[2.8GB(+0.0GB): 39.568sec] fit F\n"
          ],
          "name": "stderr"
        },
        {
          "output_type": "stream",
          "text": [
            "fold 5: mean position error 3.417156003183289\n"
          ],
          "name": "stdout"
        },
        {
          "output_type": "stream",
          "text": [
            "[2.8GB(+0.0GB): 9.507sec] fit X\n",
            "[2.8GB(+0.0GB): 11.813sec] fit Y\n",
            "[2.8GB(+0.0GB): 35.646sec] fit F\n"
          ],
          "name": "stderr"
        },
        {
          "output_type": "stream",
          "text": [
            "fold 6: mean position error 3.452138709322393\n"
          ],
          "name": "stdout"
        },
        {
          "output_type": "stream",
          "text": [
            "[2.8GB(+0.0GB): 13.396sec] fit X\n",
            "[2.8GB(+0.0GB): 11.747sec] fit Y\n",
            "[2.8GB(+0.0GB): 23.748sec] fit F\n"
          ],
          "name": "stderr"
        },
        {
          "output_type": "stream",
          "text": [
            "fold 7: mean position error 3.703255184334055\n"
          ],
          "name": "stdout"
        },
        {
          "output_type": "stream",
          "text": [
            "[2.8GB(+0.0GB): 8.676sec] fit X\n",
            "[2.8GB(+0.0GB): 5.970sec] fit Y\n",
            "[2.8GB(+0.0GB): 30.309sec] fit F\n"
          ],
          "name": "stderr"
        },
        {
          "output_type": "stream",
          "text": [
            "fold 8: mean position error 3.9601452083253177\n"
          ],
          "name": "stdout"
        },
        {
          "output_type": "stream",
          "text": [
            "[2.8GB(+0.0GB): 9.909sec] fit X\n",
            "[2.8GB(+0.0GB): 7.860sec] fit Y\n",
            "[2.8GB(+0.0GB): 43.024sec] fit F\n"
          ],
          "name": "stderr"
        },
        {
          "output_type": "stream",
          "text": [
            "fold 9: mean position error 3.8323221536671395\n",
            "*+*+*+*+*+*+*+*+*+*+*+*+*+*+*+*+*+*+*+*+*+*+*+*+*+*+*+*+*+*+*+*+*+*+*+*+*+*+*+*+\n",
            "file #7, shape=(4179, 401), name=5cd56b6ae2acfd2d33b59ccc_train.csv\n",
            "mean position error 3.660752479757812\n",
            "*+*+*+*+*+*+*+*+*+*+*+*+*+*+*+*+*+*+*+*+*+*+*+*+*+*+*+*+*+*+*+*+*+*+*+*+*+*+*+*+\n",
            "Starting to train:  5cd56b6ee2acfd2d33b5a247_train.csv\n"
          ],
          "name": "stdout"
        },
        {
          "output_type": "stream",
          "text": [
            "[2.8GB(+0.0GB): 3.347sec] fit X\n",
            "[2.8GB(+0.0GB): 1.193sec] fit Y\n",
            "[2.8GB(+0.0GB): 6.071sec] fit F\n"
          ],
          "name": "stderr"
        },
        {
          "output_type": "stream",
          "text": [
            "fold 0: mean position error 4.640825964092862\n"
          ],
          "name": "stdout"
        },
        {
          "output_type": "stream",
          "text": [
            "[2.8GB(+0.0GB): 1.674sec] fit X\n",
            "[2.8GB(+0.0GB): 1.465sec] fit Y\n",
            "[2.8GB(+0.0GB): 3.726sec] fit F\n"
          ],
          "name": "stderr"
        },
        {
          "output_type": "stream",
          "text": [
            "fold 1: mean position error 4.3001264396572525\n"
          ],
          "name": "stdout"
        },
        {
          "output_type": "stream",
          "text": [
            "[2.8GB(+0.0GB): 1.442sec] fit X\n",
            "[2.8GB(+0.0GB): 1.059sec] fit Y\n",
            "[2.8GB(+0.0GB): 4.832sec] fit F\n"
          ],
          "name": "stderr"
        },
        {
          "output_type": "stream",
          "text": [
            "fold 2: mean position error 4.313588213387985\n"
          ],
          "name": "stdout"
        },
        {
          "output_type": "stream",
          "text": [
            "[2.8GB(+0.0GB): 1.518sec] fit X\n",
            "[2.8GB(+0.0GB): 1.414sec] fit Y\n",
            "[2.8GB(+0.0GB): 6.012sec] fit F\n"
          ],
          "name": "stderr"
        },
        {
          "output_type": "stream",
          "text": [
            "fold 3: mean position error 4.7420608032445\n"
          ],
          "name": "stdout"
        },
        {
          "output_type": "stream",
          "text": [
            "[2.8GB(+0.0GB): 1.477sec] fit X\n",
            "[2.8GB(+0.0GB): 1.394sec] fit Y\n",
            "[2.8GB(+0.0GB): 5.640sec] fit F\n"
          ],
          "name": "stderr"
        },
        {
          "output_type": "stream",
          "text": [
            "fold 4: mean position error 4.874000886025785\n"
          ],
          "name": "stdout"
        },
        {
          "output_type": "stream",
          "text": [
            "[2.8GB(+0.0GB): 2.218sec] fit X\n",
            "[2.8GB(+0.0GB): 1.377sec] fit Y\n",
            "[2.8GB(+0.0GB): 3.240sec] fit F\n"
          ],
          "name": "stderr"
        },
        {
          "output_type": "stream",
          "text": [
            "fold 5: mean position error 5.0534970880075445\n"
          ],
          "name": "stdout"
        },
        {
          "output_type": "stream",
          "text": [
            "[2.8GB(+0.0GB): 1.563sec] fit X\n",
            "[2.8GB(+0.0GB): 1.544sec] fit Y\n",
            "[2.8GB(+0.0GB): 3.888sec] fit F\n"
          ],
          "name": "stderr"
        },
        {
          "output_type": "stream",
          "text": [
            "fold 6: mean position error 4.4661345104772305\n"
          ],
          "name": "stdout"
        },
        {
          "output_type": "stream",
          "text": [
            "[2.8GB(+0.0GB): 2.549sec] fit X\n",
            "[2.8GB(+0.0GB): 2.511sec] fit Y\n",
            "[2.8GB(+0.0GB): 7.294sec] fit F\n"
          ],
          "name": "stderr"
        },
        {
          "output_type": "stream",
          "text": [
            "fold 7: mean position error 3.712195337586738\n"
          ],
          "name": "stdout"
        },
        {
          "output_type": "stream",
          "text": [
            "[2.8GB(+0.0GB): 1.921sec] fit X\n",
            "[2.8GB(+0.0GB): 1.836sec] fit Y\n",
            "[2.8GB(+0.0GB): 1.912sec] fit F\n"
          ],
          "name": "stderr"
        },
        {
          "output_type": "stream",
          "text": [
            "fold 8: mean position error 4.589600305275058\n"
          ],
          "name": "stdout"
        },
        {
          "output_type": "stream",
          "text": [
            "[2.8GB(+0.0GB): 2.449sec] fit X\n",
            "[2.8GB(+0.0GB): 1.556sec] fit Y\n",
            "[2.8GB(+0.0GB): 5.259sec] fit F\n"
          ],
          "name": "stderr"
        },
        {
          "output_type": "stream",
          "text": [
            "fold 9: mean position error 4.198535855541776\n",
            "*+*+*+*+*+*+*+*+*+*+*+*+*+*+*+*+*+*+*+*+*+*+*+*+*+*+*+*+*+*+*+*+*+*+*+*+*+*+*+*+\n",
            "file #8, shape=(1245, 23), name=5cd56b6ee2acfd2d33b5a247_train.csv\n",
            "mean position error 4.489398162502171\n",
            "*+*+*+*+*+*+*+*+*+*+*+*+*+*+*+*+*+*+*+*+*+*+*+*+*+*+*+*+*+*+*+*+*+*+*+*+*+*+*+*+\n",
            "Starting to train:  5cd56b6fe2acfd2d33b5a386_train.csv\n"
          ],
          "name": "stdout"
        },
        {
          "output_type": "stream",
          "text": [
            "[2.8GB(+0.0GB): 3.982sec] fit X\n",
            "[2.8GB(+0.0GB): 4.213sec] fit Y\n",
            "[2.8GB(+0.0GB): 2.751sec] fit F\n"
          ],
          "name": "stderr"
        },
        {
          "output_type": "stream",
          "text": [
            "fold 0: mean position error 2.7742980264851216\n"
          ],
          "name": "stdout"
        },
        {
          "output_type": "stream",
          "text": [
            "[2.8GB(+0.0GB): 6.907sec] fit X\n",
            "[2.8GB(+0.0GB): 4.757sec] fit Y\n",
            "[2.8GB(+0.0GB): 4.037sec] fit F\n"
          ],
          "name": "stderr"
        },
        {
          "output_type": "stream",
          "text": [
            "fold 1: mean position error 2.119413302332967\n"
          ],
          "name": "stdout"
        },
        {
          "output_type": "stream",
          "text": [
            "[2.8GB(+0.0GB): 2.520sec] fit X\n",
            "[2.8GB(+0.0GB): 2.873sec] fit Y\n",
            "[2.8GB(+0.0GB): 3.235sec] fit F\n"
          ],
          "name": "stderr"
        },
        {
          "output_type": "stream",
          "text": [
            "fold 2: mean position error 2.6048750634237052\n"
          ],
          "name": "stdout"
        },
        {
          "output_type": "stream",
          "text": [
            "[2.8GB(+0.0GB): 4.130sec] fit X\n",
            "[2.8GB(+0.0GB): 3.867sec] fit Y\n",
            "[2.8GB(+0.0GB): 3.952sec] fit F\n"
          ],
          "name": "stderr"
        },
        {
          "output_type": "stream",
          "text": [
            "fold 3: mean position error 2.453136702828744\n"
          ],
          "name": "stdout"
        },
        {
          "output_type": "stream",
          "text": [
            "[2.8GB(+0.0GB): 3.063sec] fit X\n",
            "[2.8GB(+0.0GB): 3.342sec] fit Y\n",
            "[2.8GB(+0.0GB): 4.294sec] fit F\n"
          ],
          "name": "stderr"
        },
        {
          "output_type": "stream",
          "text": [
            "fold 4: mean position error 2.8883971199889715\n"
          ],
          "name": "stdout"
        },
        {
          "output_type": "stream",
          "text": [
            "[2.8GB(+0.0GB): 4.164sec] fit X\n",
            "[2.8GB(+0.0GB): 4.598sec] fit Y\n",
            "[2.8GB(+0.0GB): 3.977sec] fit F\n"
          ],
          "name": "stderr"
        },
        {
          "output_type": "stream",
          "text": [
            "fold 5: mean position error 2.2449369228209486\n"
          ],
          "name": "stdout"
        },
        {
          "output_type": "stream",
          "text": [
            "[2.8GB(+0.0GB): 4.779sec] fit X\n",
            "[2.8GB(+0.0GB): 6.707sec] fit Y\n",
            "[2.8GB(+0.0GB): 2.589sec] fit F\n"
          ],
          "name": "stderr"
        },
        {
          "output_type": "stream",
          "text": [
            "fold 6: mean position error 2.290449669579426\n"
          ],
          "name": "stdout"
        },
        {
          "output_type": "stream",
          "text": [
            "[2.8GB(+0.0GB): 3.410sec] fit X\n",
            "[2.8GB(+0.0GB): 4.364sec] fit Y\n",
            "[2.8GB(+0.0GB): 2.385sec] fit F\n"
          ],
          "name": "stderr"
        },
        {
          "output_type": "stream",
          "text": [
            "fold 7: mean position error 2.6127000996559184\n"
          ],
          "name": "stdout"
        },
        {
          "output_type": "stream",
          "text": [
            "[2.8GB(+0.0GB): 4.683sec] fit X\n",
            "[2.8GB(+0.0GB): 3.731sec] fit Y\n",
            "[2.8GB(+0.0GB): 4.257sec] fit F\n"
          ],
          "name": "stderr"
        },
        {
          "output_type": "stream",
          "text": [
            "fold 8: mean position error 2.6269098309440486\n"
          ],
          "name": "stdout"
        },
        {
          "output_type": "stream",
          "text": [
            "[2.8GB(+0.0GB): 4.322sec] fit X\n",
            "[2.8GB(+0.0GB): 4.094sec] fit Y\n",
            "[2.8GB(+0.0GB): 3.260sec] fit F\n"
          ],
          "name": "stderr"
        },
        {
          "output_type": "stream",
          "text": [
            "fold 9: mean position error 2.4095457978616133\n",
            "*+*+*+*+*+*+*+*+*+*+*+*+*+*+*+*+*+*+*+*+*+*+*+*+*+*+*+*+*+*+*+*+*+*+*+*+*+*+*+*+\n",
            "file #9, shape=(2599, 111), name=5cd56b6fe2acfd2d33b5a386_train.csv\n",
            "mean position error 2.502502005979884\n",
            "*+*+*+*+*+*+*+*+*+*+*+*+*+*+*+*+*+*+*+*+*+*+*+*+*+*+*+*+*+*+*+*+*+*+*+*+*+*+*+*+\n",
            "Starting to train:  5cd56b7de2acfd2d33b5c14b_train.csv\n"
          ],
          "name": "stdout"
        },
        {
          "output_type": "stream",
          "text": [
            "[2.8GB(+0.0GB): 1.542sec] fit X\n",
            "[2.8GB(+0.0GB): 2.015sec] fit Y\n",
            "[2.8GB(+0.0GB): 2.314sec] fit F\n"
          ],
          "name": "stderr"
        },
        {
          "output_type": "stream",
          "text": [
            "fold 0: mean position error 2.4429145034911137\n"
          ],
          "name": "stdout"
        },
        {
          "output_type": "stream",
          "text": [
            "[2.8GB(+0.0GB): 1.234sec] fit X\n",
            "[2.8GB(+0.0GB): 1.235sec] fit Y\n",
            "[2.8GB(+0.0GB): 2.013sec] fit F\n"
          ],
          "name": "stderr"
        },
        {
          "output_type": "stream",
          "text": [
            "fold 1: mean position error 2.7797761349943175\n"
          ],
          "name": "stdout"
        },
        {
          "output_type": "stream",
          "text": [
            "[2.8GB(+0.0GB): 1.463sec] fit X\n",
            "[2.8GB(+0.0GB): 1.031sec] fit Y\n",
            "[2.8GB(+0.0GB): 3.281sec] fit F\n"
          ],
          "name": "stderr"
        },
        {
          "output_type": "stream",
          "text": [
            "fold 2: mean position error 2.697578644208312\n"
          ],
          "name": "stdout"
        },
        {
          "output_type": "stream",
          "text": [
            "[2.8GB(+0.0GB): 1.839sec] fit X\n",
            "[2.8GB(+0.0GB): 3.194sec] fit Y\n",
            "[2.8GB(+0.0GB): 3.840sec] fit F\n"
          ],
          "name": "stderr"
        },
        {
          "output_type": "stream",
          "text": [
            "fold 3: mean position error 2.2364291689700715\n"
          ],
          "name": "stdout"
        },
        {
          "output_type": "stream",
          "text": [
            "[2.8GB(+0.0GB): 1.333sec] fit X\n",
            "[2.8GB(+0.0GB): 1.435sec] fit Y\n",
            "[2.8GB(+0.0GB): 2.423sec] fit F\n"
          ],
          "name": "stderr"
        },
        {
          "output_type": "stream",
          "text": [
            "fold 4: mean position error 2.579802138431871\n"
          ],
          "name": "stdout"
        },
        {
          "output_type": "stream",
          "text": [
            "[2.8GB(+0.0GB): 1.281sec] fit X\n",
            "[2.8GB(+0.0GB): 2.041sec] fit Y\n",
            "[2.8GB(+0.0GB): 2.098sec] fit F\n"
          ],
          "name": "stderr"
        },
        {
          "output_type": "stream",
          "text": [
            "fold 5: mean position error 2.7416154379217765\n"
          ],
          "name": "stdout"
        },
        {
          "output_type": "stream",
          "text": [
            "[2.8GB(+0.0GB): 1.442sec] fit X\n",
            "[2.8GB(+0.0GB): 1.207sec] fit Y\n",
            "[2.8GB(+0.0GB): 3.067sec] fit F\n"
          ],
          "name": "stderr"
        },
        {
          "output_type": "stream",
          "text": [
            "fold 6: mean position error 2.6516533599918644\n"
          ],
          "name": "stdout"
        },
        {
          "output_type": "stream",
          "text": [
            "[2.8GB(+0.0GB): 2.473sec] fit X\n",
            "[2.8GB(+0.0GB): 1.609sec] fit Y\n",
            "[2.8GB(+0.0GB): 2.066sec] fit F\n"
          ],
          "name": "stderr"
        },
        {
          "output_type": "stream",
          "text": [
            "fold 7: mean position error 2.5524029187394497\n"
          ],
          "name": "stdout"
        },
        {
          "output_type": "stream",
          "text": [
            "[2.8GB(+0.0GB): 1.497sec] fit X\n",
            "[2.8GB(+0.0GB): 2.044sec] fit Y\n",
            "[2.8GB(+0.0GB): 3.669sec] fit F\n"
          ],
          "name": "stderr"
        },
        {
          "output_type": "stream",
          "text": [
            "fold 8: mean position error 2.661627835216705\n"
          ],
          "name": "stdout"
        },
        {
          "output_type": "stream",
          "text": [
            "[2.8GB(+0.0GB): 1.166sec] fit X\n",
            "[2.8GB(+0.0GB): 2.100sec] fit Y\n",
            "[2.8GB(+0.0GB): 2.049sec] fit F\n"
          ],
          "name": "stderr"
        },
        {
          "output_type": "stream",
          "text": [
            "fold 9: mean position error 2.8042752736637526\n",
            "*+*+*+*+*+*+*+*+*+*+*+*+*+*+*+*+*+*+*+*+*+*+*+*+*+*+*+*+*+*+*+*+*+*+*+*+*+*+*+*+\n",
            "file #10, shape=(1113, 32), name=5cd56b7de2acfd2d33b5c14b_train.csv\n",
            "mean position error 2.614875687706683\n",
            "*+*+*+*+*+*+*+*+*+*+*+*+*+*+*+*+*+*+*+*+*+*+*+*+*+*+*+*+*+*+*+*+*+*+*+*+*+*+*+*+\n",
            "Starting to train:  5d27075f03f801723c2e360f_train.csv\n"
          ],
          "name": "stdout"
        },
        {
          "output_type": "stream",
          "text": [
            "[2.8GB(+0.0GB): 158.149sec] fit X\n",
            "[2.8GB(+0.0GB): 205.275sec] fit Y\n",
            "[2.8GB(+0.0GB): 312.470sec] fit F\n"
          ],
          "name": "stderr"
        },
        {
          "output_type": "stream",
          "text": [
            "fold 0: mean position error 4.332039925221365\n"
          ],
          "name": "stdout"
        },
        {
          "output_type": "stream",
          "text": [
            "[2.8GB(+0.0GB): 99.743sec] fit X\n",
            "[2.8GB(+0.0GB): 163.902sec] fit Y\n",
            "[2.8GB(+0.0GB): 135.527sec] fit F\n"
          ],
          "name": "stderr"
        },
        {
          "output_type": "stream",
          "text": [
            "fold 1: mean position error 4.3652910770690605\n"
          ],
          "name": "stdout"
        },
        {
          "output_type": "stream",
          "text": [
            "[2.8GB(+0.0GB): 101.597sec] fit X\n",
            "[2.8GB(+0.0GB): 146.433sec] fit Y\n",
            "[2.8GB(+0.0GB): 148.116sec] fit F\n"
          ],
          "name": "stderr"
        },
        {
          "output_type": "stream",
          "text": [
            "fold 2: mean position error 4.323657706253916\n"
          ],
          "name": "stdout"
        },
        {
          "output_type": "stream",
          "text": [
            "[2.8GB(+0.0GB): 139.850sec] fit X\n",
            "[2.8GB(+0.0GB): 182.990sec] fit Y\n",
            "[2.8GB(+0.0GB): 133.965sec] fit F\n"
          ],
          "name": "stderr"
        },
        {
          "output_type": "stream",
          "text": [
            "fold 3: mean position error 4.28344411749192\n"
          ],
          "name": "stdout"
        },
        {
          "output_type": "stream",
          "text": [
            "[2.8GB(+0.0GB): 108.349sec] fit X\n",
            "[2.8GB(+0.0GB): 180.409sec] fit Y\n",
            "[2.8GB(+0.0GB): 130.359sec] fit F\n"
          ],
          "name": "stderr"
        },
        {
          "output_type": "stream",
          "text": [
            "fold 4: mean position error 4.264907825927297\n"
          ],
          "name": "stdout"
        },
        {
          "output_type": "stream",
          "text": [
            "[2.8GB(+0.0GB): 102.085sec] fit X\n",
            "[2.8GB(+0.0GB): 162.133sec] fit Y\n",
            "[2.8GB(+0.0GB): 208.787sec] fit F\n"
          ],
          "name": "stderr"
        },
        {
          "output_type": "stream",
          "text": [
            "fold 5: mean position error 4.406143414274461\n"
          ],
          "name": "stdout"
        },
        {
          "output_type": "stream",
          "text": [
            "[2.8GB(+0.0GB): 158.706sec] fit X\n",
            "[2.8GB(+0.0GB): 163.118sec] fit Y\n",
            "[2.8GB(+0.0GB): 232.317sec] fit F\n"
          ],
          "name": "stderr"
        },
        {
          "output_type": "stream",
          "text": [
            "fold 6: mean position error 4.35943810196481\n"
          ],
          "name": "stdout"
        },
        {
          "output_type": "stream",
          "text": [
            "[2.8GB(+0.0GB): 137.832sec] fit X\n",
            "[2.8GB(+0.0GB): 154.568sec] fit Y\n",
            "[2.8GB(+0.0GB): 146.425sec] fit F\n"
          ],
          "name": "stderr"
        },
        {
          "output_type": "stream",
          "text": [
            "fold 7: mean position error 4.303220349923814\n"
          ],
          "name": "stdout"
        },
        {
          "output_type": "stream",
          "text": [
            "[2.8GB(+0.0GB): 155.002sec] fit X\n",
            "[2.8GB(+0.0GB): 159.782sec] fit Y\n",
            "[2.8GB(+0.0GB): 286.185sec] fit F\n"
          ],
          "name": "stderr"
        },
        {
          "output_type": "stream",
          "text": [
            "fold 8: mean position error 4.304832534169789\n"
          ],
          "name": "stdout"
        },
        {
          "output_type": "stream",
          "text": [
            "[2.8GB(+0.0GB): 124.038sec] fit X\n",
            "[2.8GB(+0.0GB): 161.016sec] fit Y\n",
            "[2.8GB(+0.0GB): 319.295sec] fit F\n"
          ],
          "name": "stderr"
        },
        {
          "output_type": "stream",
          "text": [
            "fold 9: mean position error 4.3495082153323175\n",
            "*+*+*+*+*+*+*+*+*+*+*+*+*+*+*+*+*+*+*+*+*+*+*+*+*+*+*+*+*+*+*+*+*+*+*+*+*+*+*+*+\n",
            "file #11, shape=(17749, 2349), name=5d27075f03f801723c2e360f_train.csv\n",
            "mean position error 4.329247185296393\n",
            "*+*+*+*+*+*+*+*+*+*+*+*+*+*+*+*+*+*+*+*+*+*+*+*+*+*+*+*+*+*+*+*+*+*+*+*+*+*+*+*+\n",
            "Starting to train:  5d27096c03f801723c31e5e0_train.csv\n"
          ],
          "name": "stdout"
        },
        {
          "output_type": "stream",
          "text": [
            "[2.8GB(+0.0GB): 21.911sec] fit X\n",
            "[2.8GB(+0.0GB): 12.551sec] fit Y\n",
            "[2.8GB(+0.0GB): 22.402sec] fit F\n"
          ],
          "name": "stderr"
        },
        {
          "output_type": "stream",
          "text": [
            "fold 0: mean position error 2.6579639419932763\n"
          ],
          "name": "stdout"
        },
        {
          "output_type": "stream",
          "text": [
            "[2.8GB(+0.0GB): 14.473sec] fit X\n",
            "[2.8GB(+0.0GB): 14.159sec] fit Y\n",
            "[2.8GB(+0.0GB): 21.658sec] fit F\n"
          ],
          "name": "stderr"
        },
        {
          "output_type": "stream",
          "text": [
            "fold 1: mean position error 2.678933339030026\n"
          ],
          "name": "stdout"
        },
        {
          "output_type": "stream",
          "text": [
            "[2.8GB(+0.0GB): 18.388sec] fit X\n",
            "[2.8GB(+0.0GB): 21.554sec] fit Y\n",
            "[2.8GB(+0.0GB): 22.880sec] fit F\n"
          ],
          "name": "stderr"
        },
        {
          "output_type": "stream",
          "text": [
            "fold 2: mean position error 2.563861374793815\n"
          ],
          "name": "stdout"
        },
        {
          "output_type": "stream",
          "text": [
            "[2.8GB(+0.0GB): 13.638sec] fit X\n",
            "[2.8GB(+0.0GB): 10.600sec] fit Y\n",
            "[2.8GB(+0.0GB): 15.667sec] fit F\n"
          ],
          "name": "stderr"
        },
        {
          "output_type": "stream",
          "text": [
            "fold 3: mean position error 2.680480883789456\n"
          ],
          "name": "stdout"
        },
        {
          "output_type": "stream",
          "text": [
            "[2.8GB(+0.0GB): 18.674sec] fit X\n",
            "[2.8GB(+0.0GB): 14.112sec] fit Y\n",
            "[2.8GB(+0.0GB): 15.233sec] fit F\n"
          ],
          "name": "stderr"
        },
        {
          "output_type": "stream",
          "text": [
            "fold 4: mean position error 2.6670809344036357\n"
          ],
          "name": "stdout"
        },
        {
          "output_type": "stream",
          "text": [
            "[2.8GB(+0.0GB): 17.698sec] fit X\n",
            "[2.8GB(+0.0GB): 10.585sec] fit Y\n",
            "[2.8GB(+0.0GB): 17.070sec] fit F\n"
          ],
          "name": "stderr"
        },
        {
          "output_type": "stream",
          "text": [
            "fold 5: mean position error 2.802262308775618\n"
          ],
          "name": "stdout"
        },
        {
          "output_type": "stream",
          "text": [
            "[2.8GB(+0.0GB): 12.488sec] fit X\n",
            "[2.8GB(+0.0GB): 15.310sec] fit Y\n",
            "[2.8GB(+0.0GB): 17.250sec] fit F\n"
          ],
          "name": "stderr"
        },
        {
          "output_type": "stream",
          "text": [
            "fold 6: mean position error 2.8436523142165555\n"
          ],
          "name": "stdout"
        },
        {
          "output_type": "stream",
          "text": [
            "[2.8GB(+0.0GB): 15.682sec] fit X\n",
            "[2.8GB(+0.0GB): 18.551sec] fit Y\n",
            "[2.8GB(+0.0GB): 24.409sec] fit F\n"
          ],
          "name": "stderr"
        },
        {
          "output_type": "stream",
          "text": [
            "fold 7: mean position error 2.607102461766857\n"
          ],
          "name": "stdout"
        },
        {
          "output_type": "stream",
          "text": [
            "[2.8GB(+0.0GB): 16.084sec] fit X\n",
            "[2.8GB(+0.0GB): 14.276sec] fit Y\n",
            "[2.8GB(+0.0GB): 14.108sec] fit F\n"
          ],
          "name": "stderr"
        },
        {
          "output_type": "stream",
          "text": [
            "fold 8: mean position error 2.743326783569413\n"
          ],
          "name": "stdout"
        },
        {
          "output_type": "stream",
          "text": [
            "[2.8GB(+0.0GB): 16.086sec] fit X\n",
            "[2.8GB(+0.0GB): 12.928sec] fit Y\n",
            "[2.8GB(+0.0GB): 24.438sec] fit F\n"
          ],
          "name": "stderr"
        },
        {
          "output_type": "stream",
          "text": [
            "fold 9: mean position error 2.827761383340915\n",
            "*+*+*+*+*+*+*+*+*+*+*+*+*+*+*+*+*+*+*+*+*+*+*+*+*+*+*+*+*+*+*+*+*+*+*+*+*+*+*+*+\n",
            "file #12, shape=(6825, 429), name=5d27096c03f801723c31e5e0_train.csv\n",
            "mean position error 2.7072003905329636\n",
            "*+*+*+*+*+*+*+*+*+*+*+*+*+*+*+*+*+*+*+*+*+*+*+*+*+*+*+*+*+*+*+*+*+*+*+*+*+*+*+*+\n",
            "Starting to train:  5d27097f03f801723c320d97_train.csv\n"
          ],
          "name": "stdout"
        },
        {
          "output_type": "stream",
          "text": [
            "[2.8GB(+0.0GB): 10.388sec] fit X\n",
            "[2.8GB(+0.0GB): 6.877sec] fit Y\n",
            "[2.8GB(+0.0GB): 29.221sec] fit F\n"
          ],
          "name": "stderr"
        },
        {
          "output_type": "stream",
          "text": [
            "fold 0: mean position error 14.00549577903259\n"
          ],
          "name": "stdout"
        },
        {
          "output_type": "stream",
          "text": [
            "[2.8GB(+0.0GB): 6.803sec] fit X\n",
            "[2.8GB(+0.0GB): 11.934sec] fit Y\n",
            "[2.8GB(+0.0GB): 20.943sec] fit F\n"
          ],
          "name": "stderr"
        },
        {
          "output_type": "stream",
          "text": [
            "fold 1: mean position error 11.638139250525377\n"
          ],
          "name": "stdout"
        },
        {
          "output_type": "stream",
          "text": [
            "[2.8GB(+0.0GB): 6.214sec] fit X\n",
            "[2.8GB(+0.0GB): 4.865sec] fit Y\n",
            "[2.8GB(+0.0GB): 17.267sec] fit F\n"
          ],
          "name": "stderr"
        },
        {
          "output_type": "stream",
          "text": [
            "fold 2: mean position error 13.640963213720623\n"
          ],
          "name": "stdout"
        },
        {
          "output_type": "stream",
          "text": [
            "[2.8GB(+0.0GB): 7.621sec] fit X\n",
            "[2.8GB(+0.0GB): 6.110sec] fit Y\n",
            "[2.8GB(+0.0GB): 19.046sec] fit F\n"
          ],
          "name": "stderr"
        },
        {
          "output_type": "stream",
          "text": [
            "fold 3: mean position error 10.951073863647816\n"
          ],
          "name": "stdout"
        },
        {
          "output_type": "stream",
          "text": [
            "[2.8GB(+0.0GB): 4.747sec] fit X\n",
            "[2.8GB(+0.0GB): 4.883sec] fit Y\n",
            "[2.8GB(+0.0GB): 38.240sec] fit F\n"
          ],
          "name": "stderr"
        },
        {
          "output_type": "stream",
          "text": [
            "fold 4: mean position error 11.146584766123173\n"
          ],
          "name": "stdout"
        },
        {
          "output_type": "stream",
          "text": [
            "[2.8GB(+0.0GB): 10.159sec] fit X\n",
            "[2.8GB(+0.0GB): 10.037sec] fit Y\n",
            "[2.8GB(+0.0GB): 21.795sec] fit F\n"
          ],
          "name": "stderr"
        },
        {
          "output_type": "stream",
          "text": [
            "fold 5: mean position error 11.504099543795517\n"
          ],
          "name": "stdout"
        },
        {
          "output_type": "stream",
          "text": [
            "[2.8GB(+0.0GB): 10.677sec] fit X\n",
            "[2.8GB(+0.0GB): 10.549sec] fit Y\n",
            "[2.8GB(+0.0GB): 74.823sec] fit F\n"
          ],
          "name": "stderr"
        },
        {
          "output_type": "stream",
          "text": [
            "fold 6: mean position error 11.756864798455114\n"
          ],
          "name": "stdout"
        },
        {
          "output_type": "stream",
          "text": [
            "[2.8GB(+0.0GB): 7.419sec] fit X\n",
            "[2.8GB(+0.0GB): 6.381sec] fit Y\n",
            "[2.8GB(+0.0GB): 13.535sec] fit F\n"
          ],
          "name": "stderr"
        },
        {
          "output_type": "stream",
          "text": [
            "fold 7: mean position error 10.268113078850716\n"
          ],
          "name": "stdout"
        },
        {
          "output_type": "stream",
          "text": [
            "[2.8GB(+0.0GB): 8.053sec] fit X\n",
            "[2.8GB(+0.0GB): 7.989sec] fit Y\n",
            "[2.8GB(+0.0GB): 47.990sec] fit F\n"
          ],
          "name": "stderr"
        },
        {
          "output_type": "stream",
          "text": [
            "fold 8: mean position error 11.147881393551001\n"
          ],
          "name": "stdout"
        },
        {
          "output_type": "stream",
          "text": [
            "[2.8GB(+0.0GB): 7.800sec] fit X\n",
            "[2.8GB(+0.0GB): 6.073sec] fit Y\n",
            "[2.8GB(+0.0GB): 26.439sec] fit F\n"
          ],
          "name": "stderr"
        },
        {
          "output_type": "stream",
          "text": [
            "fold 9: mean position error 11.295827421999208\n",
            "*+*+*+*+*+*+*+*+*+*+*+*+*+*+*+*+*+*+*+*+*+*+*+*+*+*+*+*+*+*+*+*+*+*+*+*+*+*+*+*+\n",
            "file #13, shape=(7880, 639), name=5d27097f03f801723c320d97_train.csv\n",
            "mean position error 11.735504310970112\n",
            "*+*+*+*+*+*+*+*+*+*+*+*+*+*+*+*+*+*+*+*+*+*+*+*+*+*+*+*+*+*+*+*+*+*+*+*+*+*+*+*+\n",
            "Starting to train:  5d27099f03f801723c32511d_train.csv\n"
          ],
          "name": "stdout"
        },
        {
          "output_type": "stream",
          "text": [
            "[2.8GB(+0.0GB): 5.640sec] fit X\n",
            "[2.8GB(+0.0GB): 3.121sec] fit Y\n",
            "[2.8GB(+0.0GB): 3.754sec] fit F\n"
          ],
          "name": "stderr"
        },
        {
          "output_type": "stream",
          "text": [
            "fold 0: mean position error 3.1337012643676827\n"
          ],
          "name": "stdout"
        },
        {
          "output_type": "stream",
          "text": [
            "[2.8GB(+0.0GB): 5.733sec] fit X\n",
            "[2.8GB(+0.0GB): 4.659sec] fit Y\n",
            "[2.8GB(+0.0GB): 4.038sec] fit F\n"
          ],
          "name": "stderr"
        },
        {
          "output_type": "stream",
          "text": [
            "fold 1: mean position error 2.8031978642202167\n"
          ],
          "name": "stdout"
        },
        {
          "output_type": "stream",
          "text": [
            "[2.8GB(+0.0GB): 6.281sec] fit X\n",
            "[2.8GB(+0.0GB): 4.219sec] fit Y\n",
            "[2.8GB(+0.0GB): 4.178sec] fit F\n"
          ],
          "name": "stderr"
        },
        {
          "output_type": "stream",
          "text": [
            "fold 2: mean position error 2.890716162795515\n"
          ],
          "name": "stdout"
        },
        {
          "output_type": "stream",
          "text": [
            "[2.8GB(+0.0GB): 3.743sec] fit X\n",
            "[2.8GB(+0.0GB): 3.151sec] fit Y\n",
            "[2.8GB(+0.0GB): 4.202sec] fit F\n"
          ],
          "name": "stderr"
        },
        {
          "output_type": "stream",
          "text": [
            "fold 3: mean position error 2.9216648103770706\n"
          ],
          "name": "stdout"
        },
        {
          "output_type": "stream",
          "text": [
            "[2.8GB(+0.0GB): 4.065sec] fit X\n",
            "[2.8GB(+0.0GB): 5.733sec] fit Y\n",
            "[2.8GB(+0.0GB): 4.500sec] fit F\n"
          ],
          "name": "stderr"
        },
        {
          "output_type": "stream",
          "text": [
            "fold 4: mean position error 2.808966557120266\n"
          ],
          "name": "stdout"
        },
        {
          "output_type": "stream",
          "text": [
            "[2.8GB(+0.0GB): 5.168sec] fit X\n",
            "[2.8GB(+0.0GB): 3.935sec] fit Y\n",
            "[2.8GB(+0.0GB): 3.142sec] fit F\n"
          ],
          "name": "stderr"
        },
        {
          "output_type": "stream",
          "text": [
            "fold 5: mean position error 3.2264726767144976\n"
          ],
          "name": "stdout"
        },
        {
          "output_type": "stream",
          "text": [
            "[2.8GB(+0.0GB): 3.714sec] fit X\n",
            "[2.8GB(+0.0GB): 6.771sec] fit Y\n",
            "[2.8GB(+0.0GB): 4.051sec] fit F\n"
          ],
          "name": "stderr"
        },
        {
          "output_type": "stream",
          "text": [
            "fold 6: mean position error 3.0482616112463847\n"
          ],
          "name": "stdout"
        },
        {
          "output_type": "stream",
          "text": [
            "[2.8GB(+0.0GB): 5.628sec] fit X\n",
            "[2.8GB(+0.0GB): 3.266sec] fit Y\n",
            "[2.8GB(+0.0GB): 4.926sec] fit F\n"
          ],
          "name": "stderr"
        },
        {
          "output_type": "stream",
          "text": [
            "fold 7: mean position error 3.031999987001586\n"
          ],
          "name": "stdout"
        },
        {
          "output_type": "stream",
          "text": [
            "[2.8GB(+0.0GB): 3.456sec] fit X\n",
            "[2.8GB(+0.0GB): 11.228sec] fit Y\n",
            "[2.8GB(+0.0GB): 3.813sec] fit F\n"
          ],
          "name": "stderr"
        },
        {
          "output_type": "stream",
          "text": [
            "fold 8: mean position error 3.1019328293189976\n"
          ],
          "name": "stdout"
        },
        {
          "output_type": "stream",
          "text": [
            "[2.8GB(+0.0GB): 5.636sec] fit X\n",
            "[2.8GB(+0.0GB): 6.054sec] fit Y\n",
            "[2.8GB(+0.0GB): 4.350sec] fit F\n"
          ],
          "name": "stderr"
        },
        {
          "output_type": "stream",
          "text": [
            "fold 9: mean position error 3.086458057009212\n",
            "*+*+*+*+*+*+*+*+*+*+*+*+*+*+*+*+*+*+*+*+*+*+*+*+*+*+*+*+*+*+*+*+*+*+*+*+*+*+*+*+\n",
            "file #14, shape=(3188, 339), name=5d27099f03f801723c32511d_train.csv\n",
            "mean position error 3.005281436558456\n",
            "*+*+*+*+*+*+*+*+*+*+*+*+*+*+*+*+*+*+*+*+*+*+*+*+*+*+*+*+*+*+*+*+*+*+*+*+*+*+*+*+\n",
            "Starting to train:  5d2709a003f801723c3251bf_train.csv\n"
          ],
          "name": "stdout"
        },
        {
          "output_type": "stream",
          "text": [
            "[2.8GB(+0.0GB): 3.570sec] fit X\n",
            "[2.8GB(+0.0GB): 4.602sec] fit Y\n",
            "[2.8GB(+0.0GB): 7.631sec] fit F\n"
          ],
          "name": "stderr"
        },
        {
          "output_type": "stream",
          "text": [
            "fold 0: mean position error 3.5710027472822405\n"
          ],
          "name": "stdout"
        },
        {
          "output_type": "stream",
          "text": [
            "[2.8GB(+0.0GB): 10.927sec] fit X\n",
            "[2.8GB(+0.0GB): 8.147sec] fit Y\n",
            "[2.8GB(+0.0GB): 5.567sec] fit F\n"
          ],
          "name": "stderr"
        },
        {
          "output_type": "stream",
          "text": [
            "fold 1: mean position error 3.838540298638253\n"
          ],
          "name": "stdout"
        },
        {
          "output_type": "stream",
          "text": [
            "[2.8GB(+0.0GB): 6.832sec] fit X\n",
            "[2.8GB(+0.0GB): 4.634sec] fit Y\n",
            "[2.8GB(+0.0GB): 9.743sec] fit F\n"
          ],
          "name": "stderr"
        },
        {
          "output_type": "stream",
          "text": [
            "fold 2: mean position error 3.6966043266984245\n"
          ],
          "name": "stdout"
        },
        {
          "output_type": "stream",
          "text": [
            "[2.8GB(+0.0GB): 12.263sec] fit X\n",
            "[2.8GB(+0.0GB): 9.350sec] fit Y\n",
            "[2.8GB(+0.0GB): 5.191sec] fit F\n"
          ],
          "name": "stderr"
        },
        {
          "output_type": "stream",
          "text": [
            "fold 3: mean position error 3.95868782664695\n"
          ],
          "name": "stdout"
        },
        {
          "output_type": "stream",
          "text": [
            "[2.8GB(+0.0GB): 4.510sec] fit X\n",
            "[2.8GB(+0.0GB): 3.042sec] fit Y\n",
            "[2.8GB(+0.0GB): 7.945sec] fit F\n"
          ],
          "name": "stderr"
        },
        {
          "output_type": "stream",
          "text": [
            "fold 4: mean position error 3.8186772631875225\n"
          ],
          "name": "stdout"
        },
        {
          "output_type": "stream",
          "text": [
            "[2.8GB(+0.0GB): 2.743sec] fit X\n",
            "[2.8GB(+0.0GB): 4.696sec] fit Y\n",
            "[2.8GB(+0.0GB): 7.642sec] fit F\n"
          ],
          "name": "stderr"
        },
        {
          "output_type": "stream",
          "text": [
            "fold 5: mean position error 3.954515572832076\n"
          ],
          "name": "stdout"
        },
        {
          "output_type": "stream",
          "text": [
            "[2.8GB(+0.0GB): 4.249sec] fit X\n",
            "[2.8GB(+0.0GB): 6.742sec] fit Y\n",
            "[2.8GB(+0.0GB): 5.228sec] fit F\n"
          ],
          "name": "stderr"
        },
        {
          "output_type": "stream",
          "text": [
            "fold 6: mean position error 3.8040582035990234\n"
          ],
          "name": "stdout"
        },
        {
          "output_type": "stream",
          "text": [
            "[2.8GB(+0.0GB): 14.169sec] fit X\n",
            "[2.8GB(+0.0GB): 6.858sec] fit Y\n",
            "[2.8GB(+0.0GB): 6.524sec] fit F\n"
          ],
          "name": "stderr"
        },
        {
          "output_type": "stream",
          "text": [
            "fold 7: mean position error 4.259089768382867\n"
          ],
          "name": "stdout"
        },
        {
          "output_type": "stream",
          "text": [
            "[2.8GB(+0.0GB): 4.490sec] fit X\n",
            "[2.8GB(+0.0GB): 5.813sec] fit Y\n",
            "[2.8GB(+0.0GB): 7.394sec] fit F\n"
          ],
          "name": "stderr"
        },
        {
          "output_type": "stream",
          "text": [
            "fold 8: mean position error 3.5430733291404977\n"
          ],
          "name": "stdout"
        },
        {
          "output_type": "stream",
          "text": [
            "[2.8GB(+0.0GB): 6.180sec] fit X\n",
            "[2.8GB(+0.0GB): 4.798sec] fit Y\n",
            "[2.8GB(+0.0GB): 9.343sec] fit F\n"
          ],
          "name": "stderr"
        },
        {
          "output_type": "stream",
          "text": [
            "fold 9: mean position error 3.514762785389944\n",
            "*+*+*+*+*+*+*+*+*+*+*+*+*+*+*+*+*+*+*+*+*+*+*+*+*+*+*+*+*+*+*+*+*+*+*+*+*+*+*+*+\n",
            "file #15, shape=(2955, 275), name=5d2709a003f801723c3251bf_train.csv\n",
            "mean position error 3.7958687270364817\n",
            "*+*+*+*+*+*+*+*+*+*+*+*+*+*+*+*+*+*+*+*+*+*+*+*+*+*+*+*+*+*+*+*+*+*+*+*+*+*+*+*+\n",
            "Starting to train:  5d2709b303f801723c327472_train.csv\n"
          ],
          "name": "stdout"
        },
        {
          "output_type": "stream",
          "text": [
            "[2.8GB(+0.0GB): 28.913sec] fit X\n",
            "[2.8GB(+0.0GB): 30.802sec] fit Y\n",
            "[2.8GB(+0.0GB): 65.198sec] fit F\n"
          ],
          "name": "stderr"
        },
        {
          "output_type": "stream",
          "text": [
            "fold 0: mean position error 3.901866930276176\n"
          ],
          "name": "stdout"
        },
        {
          "output_type": "stream",
          "text": [
            "[2.8GB(+0.0GB): 18.983sec] fit X\n",
            "[2.8GB(+0.0GB): 16.821sec] fit Y\n",
            "[2.8GB(+0.0GB): 44.595sec] fit F\n"
          ],
          "name": "stderr"
        },
        {
          "output_type": "stream",
          "text": [
            "fold 1: mean position error 3.6400662223284064\n"
          ],
          "name": "stdout"
        },
        {
          "output_type": "stream",
          "text": [
            "[2.8GB(+0.0GB): 20.282sec] fit X\n",
            "[2.8GB(+0.0GB): 19.187sec] fit Y\n",
            "[2.8GB(+0.0GB): 56.949sec] fit F\n"
          ],
          "name": "stderr"
        },
        {
          "output_type": "stream",
          "text": [
            "fold 2: mean position error 3.843902849346907\n"
          ],
          "name": "stdout"
        },
        {
          "output_type": "stream",
          "text": [
            "[2.8GB(+0.0GB): 30.265sec] fit X\n",
            "[2.8GB(+0.0GB): 25.411sec] fit Y\n",
            "[2.8GB(+0.0GB): 44.908sec] fit F\n"
          ],
          "name": "stderr"
        },
        {
          "output_type": "stream",
          "text": [
            "fold 3: mean position error 3.590923584203418\n"
          ],
          "name": "stdout"
        },
        {
          "output_type": "stream",
          "text": [
            "[2.8GB(+0.0GB): 37.561sec] fit X\n",
            "[2.8GB(+0.0GB): 24.103sec] fit Y\n",
            "[2.8GB(+0.0GB): 87.042sec] fit F\n"
          ],
          "name": "stderr"
        },
        {
          "output_type": "stream",
          "text": [
            "fold 4: mean position error 3.5251044686227093\n"
          ],
          "name": "stdout"
        },
        {
          "output_type": "stream",
          "text": [
            "[2.8GB(+0.0GB): 31.409sec] fit X\n",
            "[2.8GB(+0.0GB): 30.116sec] fit Y\n",
            "[2.8GB(+0.0GB): 69.880sec] fit F\n"
          ],
          "name": "stderr"
        },
        {
          "output_type": "stream",
          "text": [
            "fold 5: mean position error 3.5448997642684006\n"
          ],
          "name": "stdout"
        },
        {
          "output_type": "stream",
          "text": [
            "[2.8GB(+0.0GB): 15.746sec] fit X\n",
            "[2.8GB(+0.0GB): 20.971sec] fit Y\n",
            "[2.8GB(+0.0GB): 78.006sec] fit F\n"
          ],
          "name": "stderr"
        },
        {
          "output_type": "stream",
          "text": [
            "fold 6: mean position error 3.7095030136369505\n"
          ],
          "name": "stdout"
        },
        {
          "output_type": "stream",
          "text": [
            "[2.8GB(+0.0GB): 18.582sec] fit X\n",
            "[2.8GB(+0.0GB): 22.912sec] fit Y\n",
            "[2.8GB(+0.0GB): 67.724sec] fit F\n"
          ],
          "name": "stderr"
        },
        {
          "output_type": "stream",
          "text": [
            "fold 7: mean position error 3.8052955460766498\n"
          ],
          "name": "stdout"
        },
        {
          "output_type": "stream",
          "text": [
            "[2.8GB(+0.0GB): 32.628sec] fit X\n",
            "[2.8GB(+0.0GB): 24.917sec] fit Y\n",
            "[2.8GB(+0.0GB): 73.089sec] fit F\n"
          ],
          "name": "stderr"
        },
        {
          "output_type": "stream",
          "text": [
            "fold 8: mean position error 3.7106330264009\n"
          ],
          "name": "stdout"
        },
        {
          "output_type": "stream",
          "text": [
            "[2.8GB(+0.0GB): 15.839sec] fit X\n",
            "[2.8GB(+0.0GB): 26.879sec] fit Y\n",
            "[2.8GB(+0.0GB): 31.296sec] fit F\n"
          ],
          "name": "stderr"
        },
        {
          "output_type": "stream",
          "text": [
            "fold 9: mean position error 3.640358176913248\n",
            "*+*+*+*+*+*+*+*+*+*+*+*+*+*+*+*+*+*+*+*+*+*+*+*+*+*+*+*+*+*+*+*+*+*+*+*+*+*+*+*+\n",
            "file #16, shape=(11518, 694), name=5d2709b303f801723c327472_train.csv\n",
            "mean position error 3.6912580947513165\n",
            "*+*+*+*+*+*+*+*+*+*+*+*+*+*+*+*+*+*+*+*+*+*+*+*+*+*+*+*+*+*+*+*+*+*+*+*+*+*+*+*+\n",
            "Starting to train:  5d2709bb03f801723c32852c_train.csv\n"
          ],
          "name": "stdout"
        },
        {
          "output_type": "stream",
          "text": [
            "[2.8GB(+0.0GB): 69.490sec] fit X\n",
            "[2.8GB(+0.0GB): 53.081sec] fit Y\n",
            "[2.8GB(+0.0GB): 40.542sec] fit F\n"
          ],
          "name": "stderr"
        },
        {
          "output_type": "stream",
          "text": [
            "fold 0: mean position error 4.089958735564052\n"
          ],
          "name": "stdout"
        },
        {
          "output_type": "stream",
          "text": [
            "[2.8GB(+0.0GB): 57.702sec] fit X\n",
            "[2.8GB(+0.0GB): 31.050sec] fit Y\n",
            "[2.8GB(+0.0GB): 30.787sec] fit F\n"
          ],
          "name": "stderr"
        },
        {
          "output_type": "stream",
          "text": [
            "fold 1: mean position error 4.296935241976349\n"
          ],
          "name": "stdout"
        },
        {
          "output_type": "stream",
          "text": [
            "[2.8GB(+0.0GB): 25.753sec] fit X\n",
            "[2.8GB(+0.0GB): 59.343sec] fit Y\n",
            "[2.8GB(+0.0GB): 102.663sec] fit F\n"
          ],
          "name": "stderr"
        },
        {
          "output_type": "stream",
          "text": [
            "fold 2: mean position error 4.146684052671724\n"
          ],
          "name": "stdout"
        },
        {
          "output_type": "stream",
          "text": [
            "[2.8GB(+0.0GB): 35.243sec] fit X\n",
            "[2.8GB(+0.0GB): 33.211sec] fit Y\n",
            "[2.8GB(+0.0GB): 82.446sec] fit F\n"
          ],
          "name": "stderr"
        },
        {
          "output_type": "stream",
          "text": [
            "fold 3: mean position error 4.7410063374562785\n"
          ],
          "name": "stdout"
        },
        {
          "output_type": "stream",
          "text": [
            "[2.8GB(+0.0GB): 53.389sec] fit X\n",
            "[2.8GB(+0.0GB): 21.227sec] fit Y\n",
            "[2.8GB(+0.0GB): 41.725sec] fit F\n"
          ],
          "name": "stderr"
        },
        {
          "output_type": "stream",
          "text": [
            "fold 4: mean position error 4.454884659875683\n"
          ],
          "name": "stdout"
        },
        {
          "output_type": "stream",
          "text": [
            "[2.8GB(+0.0GB): 33.414sec] fit X\n",
            "[2.8GB(+0.0GB): 44.431sec] fit Y\n",
            "[2.8GB(-0.0GB): 47.028sec] fit F\n"
          ],
          "name": "stderr"
        },
        {
          "output_type": "stream",
          "text": [
            "fold 5: mean position error 4.2830269478714085\n"
          ],
          "name": "stdout"
        },
        {
          "output_type": "stream",
          "text": [
            "[2.8GB(+0.0GB): 43.022sec] fit X\n",
            "[2.8GB(+0.0GB): 41.092sec] fit Y\n",
            "[2.8GB(+0.0GB): 86.150sec] fit F\n"
          ],
          "name": "stderr"
        },
        {
          "output_type": "stream",
          "text": [
            "fold 6: mean position error 4.452891928745551\n"
          ],
          "name": "stdout"
        },
        {
          "output_type": "stream",
          "text": [
            "[2.8GB(+0.0GB): 52.927sec] fit X\n",
            "[2.8GB(+0.0GB): 34.434sec] fit Y\n",
            "[2.8GB(+0.0GB): 55.839sec] fit F\n"
          ],
          "name": "stderr"
        },
        {
          "output_type": "stream",
          "text": [
            "fold 7: mean position error 4.391140015360344\n"
          ],
          "name": "stdout"
        },
        {
          "output_type": "stream",
          "text": [
            "[2.8GB(+0.0GB): 34.892sec] fit X\n",
            "[2.8GB(+0.0GB): 47.848sec] fit Y\n",
            "[2.8GB(+0.0GB): 23.304sec] fit F\n"
          ],
          "name": "stderr"
        },
        {
          "output_type": "stream",
          "text": [
            "fold 8: mean position error 4.3746211795857155\n"
          ],
          "name": "stdout"
        },
        {
          "output_type": "stream",
          "text": [
            "[2.8GB(+0.0GB): 64.178sec] fit X\n",
            "[2.8GB(+0.0GB): 44.133sec] fit Y\n",
            "[2.8GB(+0.0GB): 125.757sec] fit F\n"
          ],
          "name": "stderr"
        },
        {
          "output_type": "stream",
          "text": [
            "fold 9: mean position error 4.021415247031036\n",
            "*+*+*+*+*+*+*+*+*+*+*+*+*+*+*+*+*+*+*+*+*+*+*+*+*+*+*+*+*+*+*+*+*+*+*+*+*+*+*+*+\n",
            "file #17, shape=(12902, 1101), name=5d2709bb03f801723c32852c_train.csv\n",
            "mean position error 4.32523600220863\n",
            "*+*+*+*+*+*+*+*+*+*+*+*+*+*+*+*+*+*+*+*+*+*+*+*+*+*+*+*+*+*+*+*+*+*+*+*+*+*+*+*+\n",
            "Starting to train:  5d2709c303f801723c3299ee_train.csv\n"
          ],
          "name": "stdout"
        },
        {
          "output_type": "stream",
          "text": [
            "[2.8GB(+0.0GB): 27.237sec] fit X\n",
            "[2.8GB(+0.0GB): 28.637sec] fit Y\n",
            "[2.8GB(+0.0GB): 68.179sec] fit F\n"
          ],
          "name": "stderr"
        },
        {
          "output_type": "stream",
          "text": [
            "fold 0: mean position error 4.036346110959315\n"
          ],
          "name": "stdout"
        },
        {
          "output_type": "stream",
          "text": [
            "[2.8GB(+0.0GB): 27.822sec] fit X\n",
            "[2.8GB(+0.0GB): 31.656sec] fit Y\n",
            "[2.8GB(+0.0GB): 58.998sec] fit F\n"
          ],
          "name": "stderr"
        },
        {
          "output_type": "stream",
          "text": [
            "fold 1: mean position error 4.173842238311661\n"
          ],
          "name": "stdout"
        },
        {
          "output_type": "stream",
          "text": [
            "[2.8GB(+0.0GB): 27.041sec] fit X\n",
            "[2.8GB(+0.0GB): 30.095sec] fit Y\n",
            "[2.8GB(+0.0GB): 120.206sec] fit F\n"
          ],
          "name": "stderr"
        },
        {
          "output_type": "stream",
          "text": [
            "fold 2: mean position error 4.221711672902377\n"
          ],
          "name": "stdout"
        },
        {
          "output_type": "stream",
          "text": [
            "[2.8GB(+0.0GB): 29.533sec] fit X\n",
            "[2.8GB(+0.0GB): 37.314sec] fit Y\n",
            "[2.8GB(+0.0GB): 24.783sec] fit F\n"
          ],
          "name": "stderr"
        },
        {
          "output_type": "stream",
          "text": [
            "fold 3: mean position error 4.406560185024133\n"
          ],
          "name": "stdout"
        },
        {
          "output_type": "stream",
          "text": [
            "[2.8GB(+0.0GB): 29.888sec] fit X\n",
            "[2.8GB(+0.0GB): 32.739sec] fit Y\n",
            "[2.8GB(+0.0GB): 94.118sec] fit F\n"
          ],
          "name": "stderr"
        },
        {
          "output_type": "stream",
          "text": [
            "fold 4: mean position error 4.182936587201684\n"
          ],
          "name": "stdout"
        },
        {
          "output_type": "stream",
          "text": [
            "[2.8GB(+0.0GB): 29.766sec] fit X\n",
            "[2.8GB(+0.0GB): 29.373sec] fit Y\n",
            "[2.8GB(+0.0GB): 122.874sec] fit F\n"
          ],
          "name": "stderr"
        },
        {
          "output_type": "stream",
          "text": [
            "fold 5: mean position error 4.202406328384236\n"
          ],
          "name": "stdout"
        },
        {
          "output_type": "stream",
          "text": [
            "[2.8GB(+0.0GB): 22.783sec] fit X\n",
            "[2.8GB(+0.0GB): 28.741sec] fit Y\n",
            "[2.8GB(+0.0GB): 46.173sec] fit F\n"
          ],
          "name": "stderr"
        },
        {
          "output_type": "stream",
          "text": [
            "fold 6: mean position error 4.4427033425975235\n"
          ],
          "name": "stdout"
        },
        {
          "output_type": "stream",
          "text": [
            "[2.8GB(+0.0GB): 25.443sec] fit X\n",
            "[2.8GB(+0.0GB): 25.709sec] fit Y\n",
            "[2.8GB(+0.0GB): 104.704sec] fit F\n"
          ],
          "name": "stderr"
        },
        {
          "output_type": "stream",
          "text": [
            "fold 7: mean position error 4.36815257308415\n"
          ],
          "name": "stdout"
        },
        {
          "output_type": "stream",
          "text": [
            "[2.8GB(+0.0GB): 32.430sec] fit X\n",
            "[2.8GB(+0.0GB): 25.738sec] fit Y\n",
            "[2.8GB(+0.0GB): 122.347sec] fit F\n"
          ],
          "name": "stderr"
        },
        {
          "output_type": "stream",
          "text": [
            "fold 8: mean position error 4.4377345881326855\n"
          ],
          "name": "stdout"
        },
        {
          "output_type": "stream",
          "text": [
            "[2.8GB(+0.0GB): 26.629sec] fit X\n",
            "[2.8GB(+0.0GB): 33.010sec] fit Y\n",
            "[2.8GB(+0.0GB): 112.427sec] fit F\n"
          ],
          "name": "stderr"
        },
        {
          "output_type": "stream",
          "text": [
            "fold 9: mean position error 4.167851508934393\n",
            "*+*+*+*+*+*+*+*+*+*+*+*+*+*+*+*+*+*+*+*+*+*+*+*+*+*+*+*+*+*+*+*+*+*+*+*+*+*+*+*+\n",
            "file #18, shape=(7562, 1210), name=5d2709c303f801723c3299ee_train.csv\n",
            "mean position error 4.263982479610101\n",
            "*+*+*+*+*+*+*+*+*+*+*+*+*+*+*+*+*+*+*+*+*+*+*+*+*+*+*+*+*+*+*+*+*+*+*+*+*+*+*+*+\n",
            "Starting to train:  5d2709d403f801723c32bd39_train.csv\n"
          ],
          "name": "stdout"
        },
        {
          "output_type": "stream",
          "text": [
            "[2.8GB(+0.0GB): 18.272sec] fit X\n",
            "[2.8GB(+0.0GB): 23.931sec] fit Y\n",
            "[2.8GB(+0.0GB): 9.417sec] fit F\n"
          ],
          "name": "stderr"
        },
        {
          "output_type": "stream",
          "text": [
            "fold 0: mean position error 3.189388922930847\n"
          ],
          "name": "stdout"
        },
        {
          "output_type": "stream",
          "text": [
            "[2.8GB(+0.0GB): 15.900sec] fit X\n",
            "[2.8GB(+0.0GB): 15.635sec] fit Y\n",
            "[2.8GB(+0.0GB): 18.657sec] fit F\n"
          ],
          "name": "stderr"
        },
        {
          "output_type": "stream",
          "text": [
            "fold 1: mean position error 3.0676149236951544\n"
          ],
          "name": "stdout"
        },
        {
          "output_type": "stream",
          "text": [
            "[2.8GB(+0.0GB): 23.326sec] fit X\n",
            "[2.8GB(+0.0GB): 18.679sec] fit Y\n",
            "[2.8GB(+0.0GB): 11.555sec] fit F\n"
          ],
          "name": "stderr"
        },
        {
          "output_type": "stream",
          "text": [
            "fold 2: mean position error 3.14122374800962\n"
          ],
          "name": "stdout"
        },
        {
          "output_type": "stream",
          "text": [
            "[2.8GB(+0.0GB): 16.292sec] fit X\n",
            "[2.8GB(+0.0GB): 26.392sec] fit Y\n",
            "[2.8GB(+0.0GB): 14.943sec] fit F\n"
          ],
          "name": "stderr"
        },
        {
          "output_type": "stream",
          "text": [
            "fold 3: mean position error 3.0826000297947997\n"
          ],
          "name": "stdout"
        },
        {
          "output_type": "stream",
          "text": [
            "[2.8GB(+0.0GB): 23.891sec] fit X\n",
            "[2.8GB(+0.0GB): 28.074sec] fit Y\n",
            "[2.8GB(+0.0GB): 14.870sec] fit F\n"
          ],
          "name": "stderr"
        },
        {
          "output_type": "stream",
          "text": [
            "fold 4: mean position error 3.1227789168233193\n"
          ],
          "name": "stdout"
        },
        {
          "output_type": "stream",
          "text": [
            "[2.8GB(+0.0GB): 19.532sec] fit X\n",
            "[2.8GB(+0.0GB): 19.666sec] fit Y\n",
            "[2.8GB(+0.0GB): 16.688sec] fit F\n"
          ],
          "name": "stderr"
        },
        {
          "output_type": "stream",
          "text": [
            "fold 5: mean position error 2.989654078731451\n"
          ],
          "name": "stdout"
        },
        {
          "output_type": "stream",
          "text": [
            "[2.8GB(+0.0GB): 15.276sec] fit X\n",
            "[2.8GB(+0.0GB): 24.424sec] fit Y\n",
            "[2.8GB(+0.0GB): 16.315sec] fit F\n"
          ],
          "name": "stderr"
        },
        {
          "output_type": "stream",
          "text": [
            "fold 6: mean position error 3.261014596042598\n"
          ],
          "name": "stdout"
        },
        {
          "output_type": "stream",
          "text": [
            "[2.8GB(+0.0GB): 20.022sec] fit X\n",
            "[2.8GB(+0.0GB): 19.312sec] fit Y\n",
            "[2.8GB(+0.0GB): 13.948sec] fit F\n"
          ],
          "name": "stderr"
        },
        {
          "output_type": "stream",
          "text": [
            "fold 7: mean position error 3.0567510869069476\n"
          ],
          "name": "stdout"
        },
        {
          "output_type": "stream",
          "text": [
            "[2.8GB(+0.0GB): 17.974sec] fit X\n",
            "[2.8GB(+0.0GB): 21.567sec] fit Y\n",
            "[2.8GB(+0.0GB): 4.909sec] fit F\n"
          ],
          "name": "stderr"
        },
        {
          "output_type": "stream",
          "text": [
            "fold 8: mean position error 3.1567573242619815\n"
          ],
          "name": "stdout"
        },
        {
          "output_type": "stream",
          "text": [
            "[2.8GB(+0.0GB): 14.543sec] fit X\n",
            "[2.8GB(+0.0GB): 15.085sec] fit Y\n",
            "[2.8GB(+0.0GB): 13.014sec] fit F\n"
          ],
          "name": "stderr"
        },
        {
          "output_type": "stream",
          "text": [
            "fold 9: mean position error 3.0616265917292753\n",
            "*+*+*+*+*+*+*+*+*+*+*+*+*+*+*+*+*+*+*+*+*+*+*+*+*+*+*+*+*+*+*+*+*+*+*+*+*+*+*+*+\n",
            "file #19, shape=(7520, 437), name=5d2709d403f801723c32bd39_train.csv\n",
            "mean position error 3.1129410218925995\n",
            "*+*+*+*+*+*+*+*+*+*+*+*+*+*+*+*+*+*+*+*+*+*+*+*+*+*+*+*+*+*+*+*+*+*+*+*+*+*+*+*+\n",
            "Starting to train:  5da1382d4db8ce0c98bbe92e_train.csv\n"
          ],
          "name": "stdout"
        },
        {
          "output_type": "stream",
          "text": [
            "[2.8GB(+0.0GB): 19.643sec] fit X\n",
            "[2.8GB(+0.0GB): 32.912sec] fit Y\n",
            "[2.8GB(+0.0GB): 63.832sec] fit F\n"
          ],
          "name": "stderr"
        },
        {
          "output_type": "stream",
          "text": [
            "fold 0: mean position error 3.982477279610091\n"
          ],
          "name": "stdout"
        },
        {
          "output_type": "stream",
          "text": [
            "[2.8GB(+0.0GB): 19.326sec] fit X\n",
            "[2.8GB(+0.0GB): 22.078sec] fit Y\n",
            "[2.8GB(+0.0GB): 44.178sec] fit F\n"
          ],
          "name": "stderr"
        },
        {
          "output_type": "stream",
          "text": [
            "fold 1: mean position error 4.261716819407018\n"
          ],
          "name": "stdout"
        },
        {
          "output_type": "stream",
          "text": [
            "[2.8GB(+0.0GB): 29.165sec] fit X\n",
            "[2.8GB(+0.0GB): 22.409sec] fit Y\n",
            "[2.8GB(+0.0GB): 51.725sec] fit F\n"
          ],
          "name": "stderr"
        },
        {
          "output_type": "stream",
          "text": [
            "fold 2: mean position error 4.037728219485878\n"
          ],
          "name": "stdout"
        },
        {
          "output_type": "stream",
          "text": [
            "[2.8GB(+0.0GB): 22.209sec] fit X\n",
            "[2.8GB(+0.0GB): 30.010sec] fit Y\n",
            "[2.8GB(+0.0GB): 41.476sec] fit F\n"
          ],
          "name": "stderr"
        },
        {
          "output_type": "stream",
          "text": [
            "fold 3: mean position error 4.372929767163327\n"
          ],
          "name": "stdout"
        },
        {
          "output_type": "stream",
          "text": [
            "[2.8GB(+0.0GB): 23.778sec] fit X\n",
            "[2.8GB(+0.0GB): 32.492sec] fit Y\n",
            "[2.8GB(+0.0GB): 69.114sec] fit F\n"
          ],
          "name": "stderr"
        },
        {
          "output_type": "stream",
          "text": [
            "fold 4: mean position error 3.911590802226855\n"
          ],
          "name": "stdout"
        },
        {
          "output_type": "stream",
          "text": [
            "[2.8GB(+0.0GB): 26.830sec] fit X\n",
            "[2.8GB(+0.0GB): 21.975sec] fit Y\n",
            "[2.8GB(+0.0GB): 58.714sec] fit F\n"
          ],
          "name": "stderr"
        },
        {
          "output_type": "stream",
          "text": [
            "fold 5: mean position error 4.092431003131779\n"
          ],
          "name": "stdout"
        },
        {
          "output_type": "stream",
          "text": [
            "[2.8GB(+0.0GB): 32.549sec] fit X\n",
            "[2.8GB(+0.0GB): 22.503sec] fit Y\n",
            "[2.8GB(+0.0GB): 28.896sec] fit F\n"
          ],
          "name": "stderr"
        },
        {
          "output_type": "stream",
          "text": [
            "fold 6: mean position error 3.8670493760143447\n"
          ],
          "name": "stdout"
        },
        {
          "output_type": "stream",
          "text": [
            "[2.8GB(+0.0GB): 18.891sec] fit X\n",
            "[2.8GB(+0.0GB): 26.650sec] fit Y\n",
            "[2.8GB(+0.0GB): 81.946sec] fit F\n"
          ],
          "name": "stderr"
        },
        {
          "output_type": "stream",
          "text": [
            "fold 7: mean position error 4.453138381510461\n"
          ],
          "name": "stdout"
        },
        {
          "output_type": "stream",
          "text": [
            "[2.8GB(+0.0GB): 18.649sec] fit X\n",
            "[2.8GB(+0.0GB): 22.331sec] fit Y\n",
            "[2.8GB(+0.0GB): 56.207sec] fit F\n"
          ],
          "name": "stderr"
        },
        {
          "output_type": "stream",
          "text": [
            "fold 8: mean position error 3.9968304524476332\n"
          ],
          "name": "stdout"
        },
        {
          "output_type": "stream",
          "text": [
            "[2.8GB(+0.0GB): 22.218sec] fit X\n",
            "[2.8GB(+0.0GB): 23.544sec] fit Y\n",
            "[2.8GB(+0.0GB): 24.134sec] fit F\n"
          ],
          "name": "stderr"
        },
        {
          "output_type": "stream",
          "text": [
            "fold 9: mean position error 4.202407569123052\n",
            "*+*+*+*+*+*+*+*+*+*+*+*+*+*+*+*+*+*+*+*+*+*+*+*+*+*+*+*+*+*+*+*+*+*+*+*+*+*+*+*+\n",
            "file #20, shape=(6749, 1225), name=5da1382d4db8ce0c98bbe92e_train.csv\n",
            "mean position error 4.117817435140343\n",
            "*+*+*+*+*+*+*+*+*+*+*+*+*+*+*+*+*+*+*+*+*+*+*+*+*+*+*+*+*+*+*+*+*+*+*+*+*+*+*+*+\n",
            "Starting to train:  5da1383b4db8ce0c98bc11ab_train.csv\n"
          ],
          "name": "stdout"
        },
        {
          "output_type": "stream",
          "text": [
            "[2.8GB(+0.0GB): 30.230sec] fit X\n",
            "[2.8GB(+0.0GB): 33.149sec] fit Y\n",
            "[2.8GB(+0.0GB): 29.795sec] fit F\n"
          ],
          "name": "stderr"
        },
        {
          "output_type": "stream",
          "text": [
            "fold 0: mean position error 3.574362968976023\n"
          ],
          "name": "stdout"
        },
        {
          "output_type": "stream",
          "text": [
            "[2.8GB(+0.0GB): 36.709sec] fit X\n",
            "[2.8GB(+0.0GB): 29.283sec] fit Y\n",
            "[2.8GB(+0.0GB): 8.185sec] fit F\n"
          ],
          "name": "stderr"
        },
        {
          "output_type": "stream",
          "text": [
            "fold 1: mean position error 3.373803471144245\n"
          ],
          "name": "stdout"
        },
        {
          "output_type": "stream",
          "text": [
            "[2.8GB(+0.0GB): 41.462sec] fit X\n",
            "[2.8GB(+0.0GB): 26.624sec] fit Y\n",
            "[2.8GB(+0.0GB): 16.897sec] fit F\n"
          ],
          "name": "stderr"
        },
        {
          "output_type": "stream",
          "text": [
            "fold 2: mean position error 3.487923085559058\n"
          ],
          "name": "stdout"
        },
        {
          "output_type": "stream",
          "text": [
            "[2.8GB(+0.0GB): 38.579sec] fit X\n",
            "[2.8GB(+0.0GB): 32.695sec] fit Y\n",
            "[2.8GB(+0.0GB): 27.984sec] fit F\n"
          ],
          "name": "stderr"
        },
        {
          "output_type": "stream",
          "text": [
            "fold 3: mean position error 3.353732262086673\n"
          ],
          "name": "stdout"
        },
        {
          "output_type": "stream",
          "text": [
            "[2.8GB(+0.0GB): 36.297sec] fit X\n",
            "[2.8GB(+0.0GB): 28.815sec] fit Y\n",
            "[2.8GB(+0.0GB): 32.042sec] fit F\n"
          ],
          "name": "stderr"
        },
        {
          "output_type": "stream",
          "text": [
            "fold 4: mean position error 3.3668164991582983\n"
          ],
          "name": "stdout"
        },
        {
          "output_type": "stream",
          "text": [
            "[2.8GB(+0.0GB): 36.717sec] fit X\n",
            "[2.8GB(+0.0GB): 25.923sec] fit Y\n",
            "[2.8GB(+0.0GB): 29.363sec] fit F\n"
          ],
          "name": "stderr"
        },
        {
          "output_type": "stream",
          "text": [
            "fold 5: mean position error 3.283312733063932\n"
          ],
          "name": "stdout"
        },
        {
          "output_type": "stream",
          "text": [
            "[2.8GB(+0.0GB): 23.266sec] fit X\n",
            "[2.8GB(+0.0GB): 27.885sec] fit Y\n",
            "[2.8GB(+0.0GB): 22.096sec] fit F\n"
          ],
          "name": "stderr"
        },
        {
          "output_type": "stream",
          "text": [
            "fold 6: mean position error 3.4771536696007215\n"
          ],
          "name": "stdout"
        },
        {
          "output_type": "stream",
          "text": [
            "[2.8GB(+0.0GB): 38.689sec] fit X\n",
            "[2.8GB(+0.0GB): 23.080sec] fit Y\n",
            "[2.8GB(+0.0GB): 35.104sec] fit F\n"
          ],
          "name": "stderr"
        },
        {
          "output_type": "stream",
          "text": [
            "fold 7: mean position error 3.5421821640419577\n"
          ],
          "name": "stdout"
        },
        {
          "output_type": "stream",
          "text": [
            "[2.8GB(+0.0GB): 34.218sec] fit X\n",
            "[2.8GB(+0.0GB): 33.883sec] fit Y\n",
            "[2.8GB(+0.0GB): 30.576sec] fit F\n"
          ],
          "name": "stderr"
        },
        {
          "output_type": "stream",
          "text": [
            "fold 8: mean position error 3.530379823164331\n"
          ],
          "name": "stdout"
        },
        {
          "output_type": "stream",
          "text": [
            "[2.8GB(+0.0GB): 30.065sec] fit X\n",
            "[2.8GB(+0.0GB): 24.128sec] fit Y\n",
            "[2.8GB(+0.0GB): 19.792sec] fit F\n"
          ],
          "name": "stderr"
        },
        {
          "output_type": "stream",
          "text": [
            "fold 9: mean position error 3.52568776379489\n",
            "*+*+*+*+*+*+*+*+*+*+*+*+*+*+*+*+*+*+*+*+*+*+*+*+*+*+*+*+*+*+*+*+*+*+*+*+*+*+*+*+\n",
            "file #21, shape=(9897, 751), name=5da1383b4db8ce0c98bc11ab_train.csv\n",
            "mean position error 3.451510826152695\n",
            "*+*+*+*+*+*+*+*+*+*+*+*+*+*+*+*+*+*+*+*+*+*+*+*+*+*+*+*+*+*+*+*+*+*+*+*+*+*+*+*+\n",
            "Starting to train:  5da138b74db8ce0c98bd4774_train.csv\n"
          ],
          "name": "stdout"
        },
        {
          "output_type": "stream",
          "text": [
            "[2.8GB(+0.0GB): 57.103sec] fit X\n",
            "[2.8GB(+0.0GB): 38.865sec] fit Y\n",
            "[2.8GB(+0.0GB): 118.595sec] fit F\n"
          ],
          "name": "stderr"
        },
        {
          "output_type": "stream",
          "text": [
            "fold 0: mean position error 6.1848369622861075\n"
          ],
          "name": "stdout"
        },
        {
          "output_type": "stream",
          "text": [
            "[2.8GB(+0.0GB): 67.238sec] fit X\n",
            "[2.8GB(+0.0GB): 47.461sec] fit Y\n",
            "[2.8GB(+0.0GB): 242.598sec] fit F\n"
          ],
          "name": "stderr"
        },
        {
          "output_type": "stream",
          "text": [
            "fold 1: mean position error 5.209578484195782\n"
          ],
          "name": "stdout"
        },
        {
          "output_type": "stream",
          "text": [
            "[2.8GB(+0.0GB): 41.856sec] fit X\n",
            "[2.8GB(+0.0GB): 39.794sec] fit Y\n",
            "[2.8GB(+0.0GB): 212.048sec] fit F\n"
          ],
          "name": "stderr"
        },
        {
          "output_type": "stream",
          "text": [
            "fold 2: mean position error 5.297572599144591\n"
          ],
          "name": "stdout"
        },
        {
          "output_type": "stream",
          "text": [
            "[2.8GB(+0.0GB): 55.914sec] fit X\n",
            "[2.8GB(+0.0GB): 56.011sec] fit Y\n",
            "[2.8GB(+0.0GB): 134.202sec] fit F\n"
          ],
          "name": "stderr"
        },
        {
          "output_type": "stream",
          "text": [
            "fold 3: mean position error 5.672366924212976\n"
          ],
          "name": "stdout"
        },
        {
          "output_type": "stream",
          "text": [
            "[2.8GB(+0.0GB): 41.238sec] fit X\n",
            "[2.8GB(+0.0GB): 38.737sec] fit Y\n",
            "[2.8GB(+0.0GB): 90.056sec] fit F\n"
          ],
          "name": "stderr"
        },
        {
          "output_type": "stream",
          "text": [
            "fold 4: mean position error 5.589998456505368\n"
          ],
          "name": "stdout"
        },
        {
          "output_type": "stream",
          "text": [
            "[2.8GB(+0.0GB): 58.547sec] fit X\n",
            "[2.8GB(+0.0GB): 26.467sec] fit Y\n",
            "[2.8GB(+0.0GB): 135.601sec] fit F\n"
          ],
          "name": "stderr"
        },
        {
          "output_type": "stream",
          "text": [
            "fold 5: mean position error 5.629563689303108\n"
          ],
          "name": "stdout"
        },
        {
          "output_type": "stream",
          "text": [
            "[2.8GB(+0.0GB): 33.154sec] fit X\n",
            "[2.8GB(+0.0GB): 27.729sec] fit Y\n",
            "[2.8GB(+0.0GB): 101.701sec] fit F\n"
          ],
          "name": "stderr"
        },
        {
          "output_type": "stream",
          "text": [
            "fold 6: mean position error 5.659320774071436\n"
          ],
          "name": "stdout"
        },
        {
          "output_type": "stream",
          "text": [
            "[2.8GB(+0.0GB): 42.789sec] fit X\n",
            "[2.8GB(+0.0GB): 35.112sec] fit Y\n",
            "[2.8GB(+0.0GB): 89.997sec] fit F\n"
          ],
          "name": "stderr"
        },
        {
          "output_type": "stream",
          "text": [
            "fold 7: mean position error 5.44240735915281\n"
          ],
          "name": "stdout"
        },
        {
          "output_type": "stream",
          "text": [
            "[2.8GB(+0.0GB): 32.792sec] fit X\n",
            "[2.8GB(+0.0GB): 33.901sec] fit Y\n",
            "[2.8GB(+0.0GB): 130.755sec] fit F\n"
          ],
          "name": "stderr"
        },
        {
          "output_type": "stream",
          "text": [
            "fold 8: mean position error 6.50098810974715\n"
          ],
          "name": "stdout"
        },
        {
          "output_type": "stream",
          "text": [
            "[2.8GB(+0.0GB): 39.482sec] fit X\n",
            "[2.8GB(+0.0GB): 62.868sec] fit Y\n",
            "[2.8GB(+0.0GB): 56.046sec] fit F\n"
          ],
          "name": "stderr"
        },
        {
          "output_type": "stream",
          "text": [
            "fold 9: mean position error 5.817431199549301\n",
            "*+*+*+*+*+*+*+*+*+*+*+*+*+*+*+*+*+*+*+*+*+*+*+*+*+*+*+*+*+*+*+*+*+*+*+*+*+*+*+*+\n",
            "file #22, shape=(13036, 1497), name=5da138b74db8ce0c98bd4774_train.csv\n",
            "mean position error 5.700359008622995\n",
            "*+*+*+*+*+*+*+*+*+*+*+*+*+*+*+*+*+*+*+*+*+*+*+*+*+*+*+*+*+*+*+*+*+*+*+*+*+*+*+*+\n",
            "Starting to train:  5da958dd46f8266d0737457b_train.csv\n"
          ],
          "name": "stdout"
        },
        {
          "output_type": "stream",
          "text": [
            "[2.8GB(+0.0GB): 32.809sec] fit X\n",
            "[2.8GB(+0.0GB): 44.264sec] fit Y\n",
            "[2.8GB(+0.0GB): 208.629sec] fit F\n"
          ],
          "name": "stderr"
        },
        {
          "output_type": "stream",
          "text": [
            "fold 0: mean position error 3.5713365515627404\n"
          ],
          "name": "stdout"
        },
        {
          "output_type": "stream",
          "text": [
            "[2.8GB(+0.0GB): 58.578sec] fit X\n",
            "[2.8GB(+0.0GB): 40.238sec] fit Y\n",
            "[2.8GB(+0.0GB): 151.843sec] fit F\n"
          ],
          "name": "stderr"
        },
        {
          "output_type": "stream",
          "text": [
            "fold 1: mean position error 3.5711638957207508\n"
          ],
          "name": "stdout"
        },
        {
          "output_type": "stream",
          "text": [
            "[2.8GB(+0.0GB): 50.951sec] fit X\n",
            "[2.8GB(+0.0GB): 51.586sec] fit Y\n",
            "[2.8GB(+0.0GB): 200.823sec] fit F\n"
          ],
          "name": "stderr"
        },
        {
          "output_type": "stream",
          "text": [
            "fold 2: mean position error 3.44726713206419\n"
          ],
          "name": "stdout"
        },
        {
          "output_type": "stream",
          "text": [
            "[2.8GB(+0.0GB): 51.897sec] fit X\n",
            "[2.8GB(+0.0GB): 41.739sec] fit Y\n",
            "[2.8GB(+0.0GB): 213.966sec] fit F\n"
          ],
          "name": "stderr"
        },
        {
          "output_type": "stream",
          "text": [
            "fold 3: mean position error 3.5546548964507982\n"
          ],
          "name": "stdout"
        },
        {
          "output_type": "stream",
          "text": [
            "[2.8GB(+0.0GB): 42.394sec] fit X\n",
            "[2.8GB(+0.0GB): 48.746sec] fit Y\n",
            "[2.8GB(+0.0GB): 158.518sec] fit F\n"
          ],
          "name": "stderr"
        },
        {
          "output_type": "stream",
          "text": [
            "fold 4: mean position error 3.4101027221317652\n"
          ],
          "name": "stdout"
        },
        {
          "output_type": "stream",
          "text": [
            "[2.8GB(+0.0GB): 55.399sec] fit X\n",
            "[2.8GB(+0.0GB): 54.944sec] fit Y\n",
            "[2.8GB(+0.0GB): 205.943sec] fit F\n"
          ],
          "name": "stderr"
        },
        {
          "output_type": "stream",
          "text": [
            "fold 5: mean position error 3.4550515594940108\n"
          ],
          "name": "stdout"
        },
        {
          "output_type": "stream",
          "text": [
            "[2.8GB(+0.0GB): 46.881sec] fit X\n",
            "[2.8GB(+0.0GB): 55.026sec] fit Y\n",
            "[2.8GB(+0.0GB): 156.048sec] fit F\n"
          ],
          "name": "stderr"
        },
        {
          "output_type": "stream",
          "text": [
            "fold 6: mean position error 3.6298194883413046\n"
          ],
          "name": "stdout"
        },
        {
          "output_type": "stream",
          "text": [
            "[2.8GB(+0.0GB): 40.981sec] fit X\n",
            "[2.8GB(+0.0GB): 58.029sec] fit Y\n",
            "[2.8GB(+0.0GB): 94.726sec] fit F\n"
          ],
          "name": "stderr"
        },
        {
          "output_type": "stream",
          "text": [
            "fold 7: mean position error 3.5078898954117026\n"
          ],
          "name": "stdout"
        },
        {
          "output_type": "stream",
          "text": [
            "[2.8GB(+0.0GB): 42.897sec] fit X\n",
            "[2.8GB(+0.0GB): 46.758sec] fit Y\n",
            "[2.8GB(+0.0GB): 170.106sec] fit F\n"
          ],
          "name": "stderr"
        },
        {
          "output_type": "stream",
          "text": [
            "fold 8: mean position error 3.5071463867731154\n"
          ],
          "name": "stdout"
        },
        {
          "output_type": "stream",
          "text": [
            "[2.8GB(+0.0GB): 41.125sec] fit X\n",
            "[2.8GB(+0.0GB): 45.596sec] fit Y\n",
            "[2.8GB(+0.0GB): 163.977sec] fit F\n"
          ],
          "name": "stderr"
        },
        {
          "output_type": "stream",
          "text": [
            "fold 9: mean position error 3.575712733918063\n",
            "*+*+*+*+*+*+*+*+*+*+*+*+*+*+*+*+*+*+*+*+*+*+*+*+*+*+*+*+*+*+*+*+*+*+*+*+*+*+*+*+\n",
            "file #23, shape=(11361, 1365), name=5da958dd46f8266d0737457b_train.csv\n",
            "mean position error 3.5230187795118484\n",
            "*+*+*+*+*+*+*+*+*+*+*+*+*+*+*+*+*+*+*+*+*+*+*+*+*+*+*+*+*+*+*+*+*+*+*+*+*+*+*+*+\n",
            "*+*+*+*+*+*+*+*+*+*+*+*+*+*+*+*+*+*+*+*+*+*+*+*+*+*+*+*+*+*+*+*+*+*+*+*+*+*+*+*+\n"
          ],
          "name": "stdout"
        }
      ]
    },
    {
      "cell_type": "code",
      "metadata": {
        "id": "12AVSU0CxNx1"
      },
      "source": [
        "pred_files = glob.glob('/content' + '/*.csv')"
      ],
      "execution_count": 7,
      "outputs": []
    },
    {
      "cell_type": "code",
      "metadata": {
        "id": "sbSwq44Lv_GL"
      },
      "source": [
        "# extract all true and predicted x, y and f\n",
        "all_pred = pd.DataFrame()\n",
        "\n",
        "for file_name in pred_files:\n",
        "  file = pd.read_csv(file_name)\n",
        "\n",
        "  all_pred = pd.concat([all_pred, file.iloc[:, -8:]])\n"
      ],
      "execution_count": 8,
      "outputs": []
    },
    {
      "cell_type": "code",
      "metadata": {
        "colab": {
          "base_uri": "https://localhost:8080/"
        },
        "id": "iDpCVvtav_BS",
        "outputId": "3cb928a7-03d0-4cbb-b10f-1349574eba13"
      },
      "source": [
        "# compute overall MSE\n",
        "comp_metric(all_pred['pred_x'], all_pred['pred_y'], all_pred['pred_f'], all_pred['x'], all_pred['y'], all_pred['f'])"
      ],
      "execution_count": 9,
      "outputs": [
        {
          "output_type": "execute_result",
          "data": {
            "text/plain": [
              "4.358951429786307"
            ]
          },
          "metadata": {
            "tags": []
          },
          "execution_count": 9
        }
      ]
    }
  ]
}